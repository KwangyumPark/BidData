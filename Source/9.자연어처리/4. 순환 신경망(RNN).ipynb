{
 "cells": [
  {
   "cell_type": "markdown",
   "metadata": {},
   "source": [
    "21..3.29 자연어처리 RNN"
   ]
  },
  {
   "cell_type": "markdown",
   "metadata": {},
   "source": [
    "# RNN을 이용한 자연어 처리"
   ]
  },
  {
   "cell_type": "markdown",
   "metadata": {},
   "source": [
    "## 문맥을 이용하여 모델 만들기"
   ]
  },
  {
   "cell_type": "code",
   "execution_count": 1,
   "metadata": {
    "ExecuteTime": {
     "end_time": "2021-03-29T12:11:37.370644Z",
     "start_time": "2021-03-29T12:11:37.366659Z"
    }
   },
   "outputs": [],
   "source": [
    "text = \"\"\"경마장에 있는 말이 뛰고 있다\n",
    "그의 말이 법이다\n",
    "가는 말이 고와야 오는 말이 곱다\n",
    "\"\"\""
   ]
  },
  {
   "cell_type": "code",
   "execution_count": 2,
   "metadata": {
    "ExecuteTime": {
     "end_time": "2021-03-29T12:11:42.953613Z",
     "start_time": "2021-03-29T12:11:42.929686Z"
    }
   },
   "outputs": [
    {
     "name": "stdout",
     "output_type": "stream",
     "text": [
      "[2, 3, 1, 4, 5, 6, 1, 7, 8, 1, 9, 10, 1, 11]\n",
      "{'말이': 1, '경마장에': 2, '있는': 3, '뛰고': 4, '있다': 5, '그의': 6, '법이다': 7, '가는': 8, '고와야': 9, '오는': 10, '곱다': 11}\n"
     ]
    }
   ],
   "source": [
    "from keras_preprocessing.text import Tokenizer\n",
    "t = Tokenizer()\n",
    "t.fit_on_texts([text])\n",
    "encoded = t.texts_to_sequences([text])[0]\n",
    "print(encoded)\n",
    "print(t.word_index)"
   ]
  },
  {
   "cell_type": "code",
   "execution_count": 3,
   "metadata": {
    "ExecuteTime": {
     "end_time": "2021-03-29T12:11:49.541865Z",
     "start_time": "2021-03-29T12:11:49.530900Z"
    }
   },
   "outputs": [
    {
     "data": {
      "text/plain": [
       "[2, 3, 1, 4, 5]"
      ]
     },
     "execution_count": 3,
     "metadata": {},
     "output_type": "execute_result"
    }
   ],
   "source": [
    "t.texts_to_sequences(['경마장에 있는 말이 뛰고 있다'])[0]"
   ]
  },
  {
   "cell_type": "code",
   "execution_count": 4,
   "metadata": {
    "ExecuteTime": {
     "end_time": "2021-03-29T12:11:58.281120Z",
     "start_time": "2021-03-29T12:11:58.266195Z"
    }
   },
   "outputs": [
    {
     "name": "stdout",
     "output_type": "stream",
     "text": [
      "원래 문장 : 경마장에 있는 말이 뛰고 있다\n",
      "encoed 문장 : [2, 3, 1, 4, 5]\n",
      "원래 문장 : 그의 말이 법이다\n",
      "encoed 문장 : [6, 1, 7]\n",
      "원래 문장 : 가는 말이 고와야 오는 말이 곱다\n",
      "encoed 문장 : [8, 1, 9, 10, 1, 11]\n",
      "원래 문장 : \n",
      "encoed 문장 : []\n",
      "\n",
      "[2:경마장에  3:있는  ]\n",
      "[2:경마장에  3:있는  1:말이  ]\n",
      "[2:경마장에  3:있는  1:말이  4:뛰고  ]\n",
      "[2:경마장에  3:있는  1:말이  4:뛰고  5:있다  ]\n",
      "[3:있는  1:말이  ]\n",
      "[3:있는  1:말이  4:뛰고  ]\n",
      "[3:있는  1:말이  4:뛰고  5:있다  ]\n",
      "[1:말이  4:뛰고  ]\n",
      "[1:말이  4:뛰고  5:있다  ]\n",
      "[4:뛰고  5:있다  ]\n",
      "[6:그의  1:말이  ]\n",
      "[6:그의  1:말이  7:법이다  ]\n",
      "[1:말이  7:법이다  ]\n",
      "[8:가는  1:말이  ]\n",
      "[8:가는  1:말이  9:고와야  ]\n",
      "[8:가는  1:말이  9:고와야  10:오는  ]\n",
      "[8:가는  1:말이  9:고와야  10:오는  1:말이  ]\n",
      "[8:가는  1:말이  9:고와야  10:오는  1:말이  11:곱다  ]\n",
      "[1:말이  9:고와야  ]\n",
      "[1:말이  9:고와야  10:오는  ]\n",
      "[1:말이  9:고와야  10:오는  1:말이  ]\n",
      "[1:말이  9:고와야  10:오는  1:말이  11:곱다  ]\n",
      "[9:고와야  10:오는  ]\n",
      "[9:고와야  10:오는  1:말이  ]\n",
      "[9:고와야  10:오는  1:말이  11:곱다  ]\n",
      "[10:오는  1:말이  ]\n",
      "[10:오는  1:말이  11:곱다  ]\n",
      "[1:말이  11:곱다  ]\n"
     ]
    }
   ],
   "source": [
    "sequences = []\n",
    "for line in text.split('\\n'):\n",
    "    encoded = t.texts_to_sequences([line])[0]\n",
    "    print('원래 문장 :',line)\n",
    "    print('encoed 문장 :', encoded)\n",
    "    for i in range(0, len(encoded)-1):\n",
    "        for j in range(i+2, len(encoded)+1):\n",
    "            sequences.append(encoded[i:j])\n",
    "print()\n",
    "for sequence in sequences:\n",
    "    print('[', end='')\n",
    "    for word_seq in sequence:\n",
    "        for key, value in t.word_index.items():\n",
    "            if value==word_seq:\n",
    "                print(\"{}:{}\".format(value, key), end='  ')\n",
    "    print(']')"
   ]
  },
  {
   "cell_type": "code",
   "execution_count": 5,
   "metadata": {
    "ExecuteTime": {
     "end_time": "2021-03-29T12:12:09.020676Z",
     "start_time": "2021-03-29T12:12:09.008707Z"
    }
   },
   "outputs": [
    {
     "data": {
      "text/plain": [
       "[[2, 3],\n",
       " [2, 3, 1],\n",
       " [2, 3, 1, 4],\n",
       " [2, 3, 1, 4, 5],\n",
       " [3, 1],\n",
       " [3, 1, 4],\n",
       " [3, 1, 4, 5],\n",
       " [1, 4],\n",
       " [1, 4, 5],\n",
       " [4, 5],\n",
       " [6, 1],\n",
       " [6, 1, 7],\n",
       " [1, 7],\n",
       " [8, 1],\n",
       " [8, 1, 9],\n",
       " [8, 1, 9, 10],\n",
       " [8, 1, 9, 10, 1],\n",
       " [8, 1, 9, 10, 1, 11],\n",
       " [1, 9],\n",
       " [1, 9, 10],\n",
       " [1, 9, 10, 1],\n",
       " [1, 9, 10, 1, 11],\n",
       " [9, 10],\n",
       " [9, 10, 1],\n",
       " [9, 10, 1, 11],\n",
       " [10, 1],\n",
       " [10, 1, 11],\n",
       " [1, 11]]"
      ]
     },
     "execution_count": 5,
     "metadata": {},
     "output_type": "execute_result"
    }
   ],
   "source": [
    "sequences"
   ]
  },
  {
   "cell_type": "code",
   "execution_count": 6,
   "metadata": {
    "ExecuteTime": {
     "end_time": "2021-03-29T12:12:16.229826Z",
     "start_time": "2021-03-29T12:12:16.220863Z"
    }
   },
   "outputs": [
    {
     "name": "stdout",
     "output_type": "stream",
     "text": [
      "[2, 3, 4, 5, 2, 3, 4, 2, 3, 2, 2, 3, 2, 2, 3, 4, 5, 6, 2, 3, 4, 5, 2, 3, 4, 2, 3, 2]\n"
     ]
    }
   ],
   "source": [
    "print([len(s) for s in sequences])"
   ]
  },
  {
   "cell_type": "code",
   "execution_count": 7,
   "metadata": {
    "ExecuteTime": {
     "end_time": "2021-03-29T12:12:21.697059Z",
     "start_time": "2021-03-29T12:12:21.677113Z"
    }
   },
   "outputs": [
    {
     "data": {
      "text/plain": [
       "6"
      ]
     },
     "execution_count": 7,
     "metadata": {},
     "output_type": "execute_result"
    }
   ],
   "source": [
    "# sequences에 제일 많은 단어가 들어 있는 갯수# sequences에 제일 많은 단어가 들어 있는 갯수\n",
    "maxlen = max([len(s) for s in sequences])\n",
    "maxlen"
   ]
  },
  {
   "cell_type": "code",
   "execution_count": 8,
   "metadata": {
    "ExecuteTime": {
     "end_time": "2021-03-29T12:12:27.209492Z",
     "start_time": "2021-03-29T12:12:27.198518Z"
    }
   },
   "outputs": [
    {
     "data": {
      "text/plain": [
       "(list, 28)"
      ]
     },
     "execution_count": 8,
     "metadata": {},
     "output_type": "execute_result"
    }
   ],
   "source": [
    "type(sequences), len(sequences)"
   ]
  },
  {
   "cell_type": "code",
   "execution_count": 9,
   "metadata": {
    "ExecuteTime": {
     "end_time": "2021-03-29T12:12:43.940227Z",
     "start_time": "2021-03-29T12:12:33.671255Z"
    }
   },
   "outputs": [
    {
     "data": {
      "text/plain": [
       "(numpy.ndarray,\n",
       " 28,\n",
       " array([[ 0,  0,  0,  0,  2,  3],\n",
       "        [ 0,  0,  0,  2,  3,  1],\n",
       "        [ 0,  0,  2,  3,  1,  4],\n",
       "        [ 0,  2,  3,  1,  4,  5],\n",
       "        [ 0,  0,  0,  0,  3,  1],\n",
       "        [ 0,  0,  0,  3,  1,  4],\n",
       "        [ 0,  0,  3,  1,  4,  5],\n",
       "        [ 0,  0,  0,  0,  1,  4],\n",
       "        [ 0,  0,  0,  1,  4,  5],\n",
       "        [ 0,  0,  0,  0,  4,  5],\n",
       "        [ 0,  0,  0,  0,  6,  1],\n",
       "        [ 0,  0,  0,  6,  1,  7],\n",
       "        [ 0,  0,  0,  0,  1,  7],\n",
       "        [ 0,  0,  0,  0,  8,  1],\n",
       "        [ 0,  0,  0,  8,  1,  9],\n",
       "        [ 0,  0,  8,  1,  9, 10],\n",
       "        [ 0,  8,  1,  9, 10,  1],\n",
       "        [ 8,  1,  9, 10,  1, 11],\n",
       "        [ 0,  0,  0,  0,  1,  9],\n",
       "        [ 0,  0,  0,  1,  9, 10],\n",
       "        [ 0,  0,  1,  9, 10,  1],\n",
       "        [ 0,  1,  9, 10,  1, 11],\n",
       "        [ 0,  0,  0,  0,  9, 10],\n",
       "        [ 0,  0,  0,  9, 10,  1],\n",
       "        [ 0,  0,  9, 10,  1, 11],\n",
       "        [ 0,  0,  0,  0, 10,  1],\n",
       "        [ 0,  0,  0, 10,  1, 11],\n",
       "        [ 0,  0,  0,  0,  1, 11]]))"
      ]
     },
     "execution_count": 9,
     "metadata": {},
     "output_type": "execute_result"
    }
   ],
   "source": [
    "# sequences를 훈련가능한 데이터로 만들기\n",
    "from tensorflow.keras.preprocessing.sequence import pad_sequences\n",
    "sequences = pad_sequences(sequences=sequences, \n",
    "                         maxlen=maxlen, \n",
    "                         padding='pre')\n",
    "type(sequences), len(sequences), sequences"
   ]
  },
  {
   "cell_type": "code",
   "execution_count": 10,
   "metadata": {
    "ExecuteTime": {
     "end_time": "2021-03-29T12:12:47.600644Z",
     "start_time": "2021-03-29T12:12:47.577703Z"
    }
   },
   "outputs": [
    {
     "data": {
      "text/plain": [
       "array([ 3,  1,  4,  5,  1,  4,  5,  4,  5,  5,  1,  7,  7,  1,  9, 10,  1,\n",
       "       11,  9, 10,  1, 11, 10,  1, 11,  1, 11, 11])"
      ]
     },
     "execution_count": 10,
     "metadata": {},
     "output_type": "execute_result"
    }
   ],
   "source": [
    "# 독립변수(X)와 종속변수(Y) 분리\n",
    "X = sequences[:, :-1]\n",
    "Y = sequences[:, -1]\n",
    "Y"
   ]
  },
  {
   "cell_type": "code",
   "execution_count": 11,
   "metadata": {
    "ExecuteTime": {
     "end_time": "2021-03-29T12:12:54.436873Z",
     "start_time": "2021-03-29T12:12:54.417894Z"
    }
   },
   "outputs": [
    {
     "name": "stdout",
     "output_type": "stream",
     "text": [
      "{'말이': 1, '경마장에': 2, '있는': 3, '뛰고': 4, '있다': 5, '그의': 6, '법이다': 7, '가는': 8, '고와야': 9, '오는': 10, '곱다': 11}\n"
     ]
    }
   ],
   "source": [
    "print(t.word_index)"
   ]
  },
  {
   "cell_type": "code",
   "execution_count": 12,
   "metadata": {
    "ExecuteTime": {
     "end_time": "2021-03-29T12:12:59.895659Z",
     "start_time": "2021-03-29T12:12:59.889676Z"
    }
   },
   "outputs": [
    {
     "data": {
      "text/plain": [
       "12"
      ]
     },
     "execution_count": 12,
     "metadata": {},
     "output_type": "execute_result"
    }
   ],
   "source": [
    "vocab_size = len(t.word_index)+1\n",
    "vocab_size"
   ]
  },
  {
   "cell_type": "code",
   "execution_count": 13,
   "metadata": {
    "ExecuteTime": {
     "end_time": "2021-03-29T12:13:06.049662Z",
     "start_time": "2021-03-29T12:13:06.026734Z"
    }
   },
   "outputs": [
    {
     "data": {
      "text/plain": [
       "array([[0., 0., 0., 1., 0., 0., 0., 0., 0., 0., 0., 0.],\n",
       "       [0., 1., 0., 0., 0., 0., 0., 0., 0., 0., 0., 0.],\n",
       "       [0., 0., 0., 0., 1., 0., 0., 0., 0., 0., 0., 0.],\n",
       "       [0., 0., 0., 0., 0., 1., 0., 0., 0., 0., 0., 0.],\n",
       "       [0., 1., 0., 0., 0., 0., 0., 0., 0., 0., 0., 0.],\n",
       "       [0., 0., 0., 0., 1., 0., 0., 0., 0., 0., 0., 0.],\n",
       "       [0., 0., 0., 0., 0., 1., 0., 0., 0., 0., 0., 0.],\n",
       "       [0., 0., 0., 0., 1., 0., 0., 0., 0., 0., 0., 0.],\n",
       "       [0., 0., 0., 0., 0., 1., 0., 0., 0., 0., 0., 0.],\n",
       "       [0., 0., 0., 0., 0., 1., 0., 0., 0., 0., 0., 0.],\n",
       "       [0., 1., 0., 0., 0., 0., 0., 0., 0., 0., 0., 0.],\n",
       "       [0., 0., 0., 0., 0., 0., 0., 1., 0., 0., 0., 0.],\n",
       "       [0., 0., 0., 0., 0., 0., 0., 1., 0., 0., 0., 0.],\n",
       "       [0., 1., 0., 0., 0., 0., 0., 0., 0., 0., 0., 0.],\n",
       "       [0., 0., 0., 0., 0., 0., 0., 0., 0., 1., 0., 0.],\n",
       "       [0., 0., 0., 0., 0., 0., 0., 0., 0., 0., 1., 0.],\n",
       "       [0., 1., 0., 0., 0., 0., 0., 0., 0., 0., 0., 0.],\n",
       "       [0., 0., 0., 0., 0., 0., 0., 0., 0., 0., 0., 1.],\n",
       "       [0., 0., 0., 0., 0., 0., 0., 0., 0., 1., 0., 0.],\n",
       "       [0., 0., 0., 0., 0., 0., 0., 0., 0., 0., 1., 0.],\n",
       "       [0., 1., 0., 0., 0., 0., 0., 0., 0., 0., 0., 0.],\n",
       "       [0., 0., 0., 0., 0., 0., 0., 0., 0., 0., 0., 1.],\n",
       "       [0., 0., 0., 0., 0., 0., 0., 0., 0., 0., 1., 0.],\n",
       "       [0., 1., 0., 0., 0., 0., 0., 0., 0., 0., 0., 0.],\n",
       "       [0., 0., 0., 0., 0., 0., 0., 0., 0., 0., 0., 1.],\n",
       "       [0., 1., 0., 0., 0., 0., 0., 0., 0., 0., 0., 0.],\n",
       "       [0., 0., 0., 0., 0., 0., 0., 0., 0., 0., 0., 1.],\n",
       "       [0., 0., 0., 0., 0., 0., 0., 0., 0., 0., 0., 1.]], dtype=float32)"
      ]
     },
     "execution_count": 13,
     "metadata": {},
     "output_type": "execute_result"
    }
   ],
   "source": [
    "# Y 원핫인코딩\n",
    "from tensorflow.keras.utils import to_categorical\n",
    "Y = to_categorical(Y, num_classes=vocab_size)\n",
    "Y"
   ]
  },
  {
   "cell_type": "code",
   "execution_count": 14,
   "metadata": {
    "ExecuteTime": {
     "end_time": "2021-03-29T12:13:14.782030Z",
     "start_time": "2021-03-29T12:13:14.771056Z"
    }
   },
   "outputs": [
    {
     "data": {
      "text/plain": [
       "5"
      ]
     },
     "execution_count": 14,
     "metadata": {},
     "output_type": "execute_result"
    }
   ],
   "source": [
    "X.shape[1]"
   ]
  },
  {
   "cell_type": "code",
   "execution_count": 15,
   "metadata": {
    "ExecuteTime": {
     "end_time": "2021-03-29T12:13:25.941597Z",
     "start_time": "2021-03-29T12:13:22.941614Z"
    }
   },
   "outputs": [
    {
     "name": "stdout",
     "output_type": "stream",
     "text": [
      "Epoch 1/300\n",
      "1/1 - 1s - loss: 2.4775 - accuracy: 0.0714\n",
      "Epoch 2/300\n",
      "1/1 - 0s - loss: 2.4674 - accuracy: 0.1071\n",
      "Epoch 3/300\n",
      "1/1 - 0s - loss: 2.4572 - accuracy: 0.1429\n",
      "Epoch 4/300\n",
      "1/1 - 0s - loss: 2.4467 - accuracy: 0.1429\n",
      "Epoch 5/300\n",
      "1/1 - 0s - loss: 2.4359 - accuracy: 0.1429\n",
      "Epoch 6/300\n",
      "1/1 - 0s - loss: 2.4247 - accuracy: 0.1429\n",
      "Epoch 7/300\n",
      "1/1 - 0s - loss: 2.4131 - accuracy: 0.1786\n",
      "Epoch 8/300\n",
      "1/1 - 0s - loss: 2.4010 - accuracy: 0.1786\n",
      "Epoch 9/300\n",
      "1/1 - 0s - loss: 2.3885 - accuracy: 0.1786\n",
      "Epoch 10/300\n",
      "1/1 - 0s - loss: 2.3754 - accuracy: 0.2500\n",
      "Epoch 11/300\n",
      "1/1 - 0s - loss: 2.3618 - accuracy: 0.2143\n",
      "Epoch 12/300\n",
      "1/1 - 0s - loss: 2.3477 - accuracy: 0.2143\n",
      "Epoch 13/300\n",
      "1/1 - 0s - loss: 2.3329 - accuracy: 0.2500\n",
      "Epoch 14/300\n",
      "1/1 - 0s - loss: 2.3177 - accuracy: 0.2857\n",
      "Epoch 15/300\n",
      "1/1 - 0s - loss: 2.3019 - accuracy: 0.2857\n",
      "Epoch 16/300\n",
      "1/1 - 0s - loss: 2.2856 - accuracy: 0.2857\n",
      "Epoch 17/300\n",
      "1/1 - 0s - loss: 2.2690 - accuracy: 0.2857\n",
      "Epoch 18/300\n",
      "1/1 - 0s - loss: 2.2520 - accuracy: 0.2857\n",
      "Epoch 19/300\n",
      "1/1 - 0s - loss: 2.2349 - accuracy: 0.2857\n",
      "Epoch 20/300\n",
      "1/1 - 0s - loss: 2.2176 - accuracy: 0.2857\n",
      "Epoch 21/300\n",
      "1/1 - 0s - loss: 2.2005 - accuracy: 0.2857\n",
      "Epoch 22/300\n",
      "1/1 - 0s - loss: 2.1835 - accuracy: 0.2857\n",
      "Epoch 23/300\n",
      "1/1 - 0s - loss: 2.1667 - accuracy: 0.2857\n",
      "Epoch 24/300\n",
      "1/1 - 0s - loss: 2.1503 - accuracy: 0.2857\n",
      "Epoch 25/300\n",
      "1/1 - 0s - loss: 2.1342 - accuracy: 0.2857\n",
      "Epoch 26/300\n",
      "1/1 - 0s - loss: 2.1186 - accuracy: 0.2857\n",
      "Epoch 27/300\n",
      "1/1 - 0s - loss: 2.1033 - accuracy: 0.2857\n",
      "Epoch 28/300\n",
      "1/1 - 0s - loss: 2.0883 - accuracy: 0.2857\n",
      "Epoch 29/300\n",
      "1/1 - 0s - loss: 2.0736 - accuracy: 0.2857\n",
      "Epoch 30/300\n",
      "1/1 - 0s - loss: 2.0590 - accuracy: 0.2857\n",
      "Epoch 31/300\n",
      "1/1 - 0s - loss: 2.0445 - accuracy: 0.2857\n",
      "Epoch 32/300\n",
      "1/1 - 0s - loss: 2.0301 - accuracy: 0.2857\n",
      "Epoch 33/300\n",
      "1/1 - 0s - loss: 2.0156 - accuracy: 0.2857\n",
      "Epoch 34/300\n",
      "1/1 - 0s - loss: 2.0012 - accuracy: 0.2857\n",
      "Epoch 35/300\n",
      "1/1 - 0s - loss: 1.9867 - accuracy: 0.2857\n",
      "Epoch 36/300\n",
      "1/1 - 0s - loss: 1.9722 - accuracy: 0.2857\n",
      "Epoch 37/300\n",
      "1/1 - 0s - loss: 1.9577 - accuracy: 0.2857\n",
      "Epoch 38/300\n",
      "1/1 - 0s - loss: 1.9432 - accuracy: 0.2857\n",
      "Epoch 39/300\n",
      "1/1 - 0s - loss: 1.9289 - accuracy: 0.2857\n",
      "Epoch 40/300\n",
      "1/1 - 0s - loss: 1.9148 - accuracy: 0.3214\n",
      "Epoch 41/300\n",
      "1/1 - 0s - loss: 1.9008 - accuracy: 0.3571\n",
      "Epoch 42/300\n",
      "1/1 - 0s - loss: 1.8870 - accuracy: 0.3571\n",
      "Epoch 43/300\n",
      "1/1 - 0s - loss: 1.8735 - accuracy: 0.3571\n",
      "Epoch 44/300\n",
      "1/1 - 0s - loss: 1.8601 - accuracy: 0.3571\n",
      "Epoch 45/300\n",
      "1/1 - 0s - loss: 1.8470 - accuracy: 0.3929\n",
      "Epoch 46/300\n",
      "1/1 - 0s - loss: 1.8339 - accuracy: 0.4286\n",
      "Epoch 47/300\n",
      "1/1 - 0s - loss: 1.8210 - accuracy: 0.4286\n",
      "Epoch 48/300\n",
      "1/1 - 0s - loss: 1.8081 - accuracy: 0.4286\n",
      "Epoch 49/300\n",
      "1/1 - 0s - loss: 1.7952 - accuracy: 0.4286\n",
      "Epoch 50/300\n",
      "1/1 - 0s - loss: 1.7823 - accuracy: 0.4643\n",
      "Epoch 51/300\n",
      "1/1 - 0s - loss: 1.7693 - accuracy: 0.4643\n",
      "Epoch 52/300\n",
      "1/1 - 0s - loss: 1.7561 - accuracy: 0.4643\n",
      "Epoch 53/300\n",
      "1/1 - 0s - loss: 1.7429 - accuracy: 0.5000\n",
      "Epoch 54/300\n",
      "1/1 - 0s - loss: 1.7295 - accuracy: 0.5000\n",
      "Epoch 55/300\n",
      "1/1 - 0s - loss: 1.7160 - accuracy: 0.5000\n",
      "Epoch 56/300\n",
      "1/1 - 0s - loss: 1.7023 - accuracy: 0.5000\n",
      "Epoch 57/300\n",
      "1/1 - 0s - loss: 1.6885 - accuracy: 0.5000\n",
      "Epoch 58/300\n",
      "1/1 - 0s - loss: 1.6745 - accuracy: 0.5000\n",
      "Epoch 59/300\n",
      "1/1 - 0s - loss: 1.6604 - accuracy: 0.5000\n",
      "Epoch 60/300\n",
      "1/1 - 0s - loss: 1.6462 - accuracy: 0.5000\n",
      "Epoch 61/300\n",
      "1/1 - 0s - loss: 1.6319 - accuracy: 0.5000\n",
      "Epoch 62/300\n",
      "1/1 - 0s - loss: 1.6174 - accuracy: 0.5000\n",
      "Epoch 63/300\n",
      "1/1 - 0s - loss: 1.6029 - accuracy: 0.5000\n",
      "Epoch 64/300\n",
      "1/1 - 0s - loss: 1.5882 - accuracy: 0.5000\n",
      "Epoch 65/300\n",
      "1/1 - 0s - loss: 1.5735 - accuracy: 0.5000\n",
      "Epoch 66/300\n",
      "1/1 - 0s - loss: 1.5586 - accuracy: 0.5000\n",
      "Epoch 67/300\n",
      "1/1 - 0s - loss: 1.5437 - accuracy: 0.5000\n",
      "Epoch 68/300\n",
      "1/1 - 0s - loss: 1.5288 - accuracy: 0.5000\n",
      "Epoch 69/300\n",
      "1/1 - 0s - loss: 1.5138 - accuracy: 0.5357\n",
      "Epoch 70/300\n",
      "1/1 - 0s - loss: 1.4988 - accuracy: 0.5357\n",
      "Epoch 71/300\n",
      "1/1 - 0s - loss: 1.4838 - accuracy: 0.5357\n",
      "Epoch 72/300\n",
      "1/1 - 0s - loss: 1.4689 - accuracy: 0.5714\n",
      "Epoch 73/300\n",
      "1/1 - 0s - loss: 1.4540 - accuracy: 0.5714\n",
      "Epoch 74/300\n",
      "1/1 - 0s - loss: 1.4392 - accuracy: 0.5714\n",
      "Epoch 75/300\n",
      "1/1 - 0s - loss: 1.4244 - accuracy: 0.5714\n",
      "Epoch 76/300\n",
      "1/1 - 0s - loss: 1.4098 - accuracy: 0.5714\n",
      "Epoch 77/300\n",
      "1/1 - 0s - loss: 1.3952 - accuracy: 0.5714\n",
      "Epoch 78/300\n",
      "1/1 - 0s - loss: 1.3809 - accuracy: 0.5714\n",
      "Epoch 79/300\n",
      "1/1 - 0s - loss: 1.3666 - accuracy: 0.6071\n",
      "Epoch 80/300\n",
      "1/1 - 0s - loss: 1.3525 - accuracy: 0.6071\n",
      "Epoch 81/300\n",
      "1/1 - 0s - loss: 1.3386 - accuracy: 0.6071\n",
      "Epoch 82/300\n",
      "1/1 - 0s - loss: 1.3249 - accuracy: 0.6071\n",
      "Epoch 83/300\n",
      "1/1 - 0s - loss: 1.3114 - accuracy: 0.6071\n",
      "Epoch 84/300\n",
      "1/1 - 0s - loss: 1.2981 - accuracy: 0.6071\n",
      "Epoch 85/300\n",
      "1/1 - 0s - loss: 1.2849 - accuracy: 0.6071\n",
      "Epoch 86/300\n",
      "1/1 - 0s - loss: 1.2720 - accuracy: 0.6071\n",
      "Epoch 87/300\n",
      "1/1 - 0s - loss: 1.2593 - accuracy: 0.6071\n",
      "Epoch 88/300\n",
      "1/1 - 0s - loss: 1.2468 - accuracy: 0.6071\n",
      "Epoch 89/300\n",
      "1/1 - 0s - loss: 1.2345 - accuracy: 0.6071\n",
      "Epoch 90/300\n",
      "1/1 - 0s - loss: 1.2224 - accuracy: 0.6071\n",
      "Epoch 91/300\n",
      "1/1 - 0s - loss: 1.2105 - accuracy: 0.6071\n",
      "Epoch 92/300\n",
      "1/1 - 0s - loss: 1.1988 - accuracy: 0.6071\n",
      "Epoch 93/300\n",
      "1/1 - 0s - loss: 1.1872 - accuracy: 0.6071\n",
      "Epoch 94/300\n",
      "1/1 - 0s - loss: 1.1759 - accuracy: 0.6071\n",
      "Epoch 95/300\n",
      "1/1 - 0s - loss: 1.1647 - accuracy: 0.6071\n",
      "Epoch 96/300\n",
      "1/1 - 0s - loss: 1.1538 - accuracy: 0.6071\n",
      "Epoch 97/300\n",
      "1/1 - 0s - loss: 1.1429 - accuracy: 0.6071\n",
      "Epoch 98/300\n",
      "1/1 - 0s - loss: 1.1323 - accuracy: 0.6071\n",
      "Epoch 99/300\n",
      "1/1 - 0s - loss: 1.1218 - accuracy: 0.6071\n",
      "Epoch 100/300\n",
      "1/1 - 0s - loss: 1.1115 - accuracy: 0.6071\n",
      "Epoch 101/300\n",
      "1/1 - 0s - loss: 1.1013 - accuracy: 0.6071\n",
      "Epoch 102/300\n",
      "1/1 - 0s - loss: 1.0913 - accuracy: 0.6071\n",
      "Epoch 103/300\n",
      "1/1 - 0s - loss: 1.0814 - accuracy: 0.6071\n",
      "Epoch 104/300\n",
      "1/1 - 0s - loss: 1.0716 - accuracy: 0.6071\n",
      "Epoch 105/300\n",
      "1/1 - 0s - loss: 1.0620 - accuracy: 0.6429\n",
      "Epoch 106/300\n",
      "1/1 - 0s - loss: 1.0525 - accuracy: 0.6429\n",
      "Epoch 107/300\n",
      "1/1 - 0s - loss: 1.0431 - accuracy: 0.6429\n",
      "Epoch 108/300\n",
      "1/1 - 0s - loss: 1.0339 - accuracy: 0.6429\n",
      "Epoch 109/300\n",
      "1/1 - 0s - loss: 1.0248 - accuracy: 0.6429\n",
      "Epoch 110/300\n",
      "1/1 - 0s - loss: 1.0157 - accuracy: 0.6429\n",
      "Epoch 111/300\n",
      "1/1 - 0s - loss: 1.0068 - accuracy: 0.6429\n",
      "Epoch 112/300\n",
      "1/1 - 0s - loss: 0.9980 - accuracy: 0.6429\n",
      "Epoch 113/300\n",
      "1/1 - 0s - loss: 0.9893 - accuracy: 0.6429\n",
      "Epoch 114/300\n",
      "1/1 - 0s - loss: 0.9807 - accuracy: 0.6429\n",
      "Epoch 115/300\n",
      "1/1 - 0s - loss: 0.9722 - accuracy: 0.6429\n",
      "Epoch 116/300\n",
      "1/1 - 0s - loss: 0.9638 - accuracy: 0.6429\n",
      "Epoch 117/300\n",
      "1/1 - 0s - loss: 0.9555 - accuracy: 0.6429\n",
      "Epoch 118/300\n",
      "1/1 - 0s - loss: 0.9473 - accuracy: 0.6429\n",
      "Epoch 119/300\n",
      "1/1 - 0s - loss: 0.9391 - accuracy: 0.6786\n",
      "Epoch 120/300\n",
      "1/1 - 0s - loss: 0.9310 - accuracy: 0.6786\n",
      "Epoch 121/300\n",
      "1/1 - 0s - loss: 0.9231 - accuracy: 0.6786\n",
      "Epoch 122/300\n",
      "1/1 - 0s - loss: 0.9151 - accuracy: 0.6786\n",
      "Epoch 123/300\n",
      "1/1 - 0s - loss: 0.9073 - accuracy: 0.6786\n",
      "Epoch 124/300\n",
      "1/1 - 0s - loss: 0.8996 - accuracy: 0.6786\n",
      "Epoch 125/300\n",
      "1/1 - 0s - loss: 0.8919 - accuracy: 0.6786\n",
      "Epoch 126/300\n",
      "1/1 - 0s - loss: 0.8843 - accuracy: 0.7143\n",
      "Epoch 127/300\n",
      "1/1 - 0s - loss: 0.8767 - accuracy: 0.7143\n",
      "Epoch 128/300\n",
      "1/1 - 0s - loss: 0.8692 - accuracy: 0.7500\n",
      "Epoch 129/300\n",
      "1/1 - 0s - loss: 0.8618 - accuracy: 0.7857\n",
      "Epoch 130/300\n",
      "1/1 - 0s - loss: 0.8545 - accuracy: 0.7857\n",
      "Epoch 131/300\n",
      "1/1 - 0s - loss: 0.8472 - accuracy: 0.7857\n",
      "Epoch 132/300\n",
      "1/1 - 0s - loss: 0.8399 - accuracy: 0.7857\n",
      "Epoch 133/300\n",
      "1/1 - 0s - loss: 0.8328 - accuracy: 0.7857\n",
      "Epoch 134/300\n",
      "1/1 - 0s - loss: 0.8257 - accuracy: 0.7857\n",
      "Epoch 135/300\n",
      "1/1 - 0s - loss: 0.8186 - accuracy: 0.7857\n",
      "Epoch 136/300\n",
      "1/1 - 0s - loss: 0.8116 - accuracy: 0.7857\n",
      "Epoch 137/300\n",
      "1/1 - 0s - loss: 0.8047 - accuracy: 0.7857\n",
      "Epoch 138/300\n",
      "1/1 - 0s - loss: 0.7978 - accuracy: 0.7857\n",
      "Epoch 139/300\n",
      "1/1 - 0s - loss: 0.7909 - accuracy: 0.7857\n",
      "Epoch 140/300\n",
      "1/1 - 0s - loss: 0.7842 - accuracy: 0.7857\n",
      "Epoch 141/300\n",
      "1/1 - 0s - loss: 0.7774 - accuracy: 0.7857\n",
      "Epoch 142/300\n",
      "1/1 - 0s - loss: 0.7708 - accuracy: 0.7857\n",
      "Epoch 143/300\n",
      "1/1 - 0s - loss: 0.7642 - accuracy: 0.7857\n",
      "Epoch 144/300\n",
      "1/1 - 0s - loss: 0.7576 - accuracy: 0.7857\n",
      "Epoch 145/300\n",
      "1/1 - 0s - loss: 0.7511 - accuracy: 0.8214\n",
      "Epoch 146/300\n",
      "1/1 - 0s - loss: 0.7446 - accuracy: 0.8214\n"
     ]
    },
    {
     "name": "stdout",
     "output_type": "stream",
     "text": [
      "Epoch 147/300\n",
      "1/1 - 0s - loss: 0.7382 - accuracy: 0.8214\n",
      "Epoch 148/300\n",
      "1/1 - 0s - loss: 0.7319 - accuracy: 0.8214\n",
      "Epoch 149/300\n",
      "1/1 - 0s - loss: 0.7256 - accuracy: 0.8214\n",
      "Epoch 150/300\n",
      "1/1 - 0s - loss: 0.7194 - accuracy: 0.8214\n",
      "Epoch 151/300\n",
      "1/1 - 0s - loss: 0.7132 - accuracy: 0.8214\n",
      "Epoch 152/300\n",
      "1/1 - 0s - loss: 0.7070 - accuracy: 0.8214\n",
      "Epoch 153/300\n",
      "1/1 - 0s - loss: 0.7010 - accuracy: 0.8214\n",
      "Epoch 154/300\n",
      "1/1 - 0s - loss: 0.6950 - accuracy: 0.8214\n",
      "Epoch 155/300\n",
      "1/1 - 0s - loss: 0.6890 - accuracy: 0.8214\n",
      "Epoch 156/300\n",
      "1/1 - 0s - loss: 0.6831 - accuracy: 0.8214\n",
      "Epoch 157/300\n",
      "1/1 - 0s - loss: 0.6773 - accuracy: 0.8214\n",
      "Epoch 158/300\n",
      "1/1 - 0s - loss: 0.6715 - accuracy: 0.8214\n",
      "Epoch 159/300\n",
      "1/1 - 0s - loss: 0.6658 - accuracy: 0.8214\n",
      "Epoch 160/300\n",
      "1/1 - 0s - loss: 0.6601 - accuracy: 0.8214\n",
      "Epoch 161/300\n",
      "1/1 - 0s - loss: 0.6545 - accuracy: 0.8214\n",
      "Epoch 162/300\n",
      "1/1 - 0s - loss: 0.6490 - accuracy: 0.8214\n",
      "Epoch 163/300\n",
      "1/1 - 0s - loss: 0.6435 - accuracy: 0.8214\n",
      "Epoch 164/300\n",
      "1/1 - 0s - loss: 0.6381 - accuracy: 0.8214\n",
      "Epoch 165/300\n",
      "1/1 - 0s - loss: 0.6327 - accuracy: 0.8214\n",
      "Epoch 166/300\n",
      "1/1 - 0s - loss: 0.6274 - accuracy: 0.8214\n",
      "Epoch 167/300\n",
      "1/1 - 0s - loss: 0.6222 - accuracy: 0.8214\n",
      "Epoch 168/300\n",
      "1/1 - 0s - loss: 0.6170 - accuracy: 0.8214\n",
      "Epoch 169/300\n",
      "1/1 - 0s - loss: 0.6119 - accuracy: 0.8214\n",
      "Epoch 170/300\n",
      "1/1 - 0s - loss: 0.6068 - accuracy: 0.8214\n",
      "Epoch 171/300\n",
      "1/1 - 0s - loss: 0.6018 - accuracy: 0.8214\n",
      "Epoch 172/300\n",
      "1/1 - 0s - loss: 0.5969 - accuracy: 0.8214\n",
      "Epoch 173/300\n",
      "1/1 - 0s - loss: 0.5920 - accuracy: 0.8214\n",
      "Epoch 174/300\n",
      "1/1 - 0s - loss: 0.5872 - accuracy: 0.8214\n",
      "Epoch 175/300\n",
      "1/1 - 0s - loss: 0.5824 - accuracy: 0.8214\n",
      "Epoch 176/300\n",
      "1/1 - 0s - loss: 0.5777 - accuracy: 0.8214\n",
      "Epoch 177/300\n",
      "1/1 - 0s - loss: 0.5731 - accuracy: 0.8214\n",
      "Epoch 178/300\n",
      "1/1 - 0s - loss: 0.5685 - accuracy: 0.8214\n",
      "Epoch 179/300\n",
      "1/1 - 0s - loss: 0.5640 - accuracy: 0.8571\n",
      "Epoch 180/300\n",
      "1/1 - 0s - loss: 0.5595 - accuracy: 0.8571\n",
      "Epoch 181/300\n",
      "1/1 - 0s - loss: 0.5551 - accuracy: 0.8571\n",
      "Epoch 182/300\n",
      "1/1 - 0s - loss: 0.5507 - accuracy: 0.8929\n",
      "Epoch 183/300\n",
      "1/1 - 0s - loss: 0.5464 - accuracy: 0.8929\n",
      "Epoch 184/300\n",
      "1/1 - 0s - loss: 0.5421 - accuracy: 0.8929\n",
      "Epoch 185/300\n",
      "1/1 - 0s - loss: 0.5379 - accuracy: 0.8929\n",
      "Epoch 186/300\n",
      "1/1 - 0s - loss: 0.5338 - accuracy: 0.8929\n",
      "Epoch 187/300\n",
      "1/1 - 0s - loss: 0.5297 - accuracy: 0.8929\n",
      "Epoch 188/300\n",
      "1/1 - 0s - loss: 0.5256 - accuracy: 0.8929\n",
      "Epoch 189/300\n",
      "1/1 - 0s - loss: 0.5216 - accuracy: 0.8929\n",
      "Epoch 190/300\n",
      "1/1 - 0s - loss: 0.5177 - accuracy: 0.8929\n",
      "Epoch 191/300\n",
      "1/1 - 0s - loss: 0.5138 - accuracy: 0.8929\n",
      "Epoch 192/300\n",
      "1/1 - 0s - loss: 0.5099 - accuracy: 0.8929\n",
      "Epoch 193/300\n",
      "1/1 - 0s - loss: 0.5061 - accuracy: 0.8929\n",
      "Epoch 194/300\n",
      "1/1 - 0s - loss: 0.5023 - accuracy: 0.8929\n",
      "Epoch 195/300\n",
      "1/1 - 0s - loss: 0.4986 - accuracy: 0.8929\n",
      "Epoch 196/300\n",
      "1/1 - 0s - loss: 0.4949 - accuracy: 0.8929\n",
      "Epoch 197/300\n",
      "1/1 - 0s - loss: 0.4913 - accuracy: 0.8929\n",
      "Epoch 198/300\n",
      "1/1 - 0s - loss: 0.4877 - accuracy: 0.8929\n",
      "Epoch 199/300\n",
      "1/1 - 0s - loss: 0.4842 - accuracy: 0.8929\n",
      "Epoch 200/300\n",
      "1/1 - 0s - loss: 0.4807 - accuracy: 0.8929\n",
      "Epoch 201/300\n",
      "1/1 - 0s - loss: 0.4773 - accuracy: 0.8929\n",
      "Epoch 202/300\n",
      "1/1 - 0s - loss: 0.4739 - accuracy: 0.8929\n",
      "Epoch 203/300\n",
      "1/1 - 0s - loss: 0.4705 - accuracy: 0.8929\n",
      "Epoch 204/300\n",
      "1/1 - 0s - loss: 0.4672 - accuracy: 0.8929\n",
      "Epoch 205/300\n",
      "1/1 - 0s - loss: 0.4639 - accuracy: 0.8929\n",
      "Epoch 206/300\n",
      "1/1 - 0s - loss: 0.4606 - accuracy: 0.8929\n",
      "Epoch 207/300\n",
      "1/1 - 0s - loss: 0.4574 - accuracy: 0.8929\n",
      "Epoch 208/300\n",
      "1/1 - 0s - loss: 0.4543 - accuracy: 0.8929\n",
      "Epoch 209/300\n",
      "1/1 - 0s - loss: 0.4511 - accuracy: 0.8929\n",
      "Epoch 210/300\n",
      "1/1 - 0s - loss: 0.4480 - accuracy: 0.8929\n",
      "Epoch 211/300\n",
      "1/1 - 0s - loss: 0.4450 - accuracy: 0.8929\n",
      "Epoch 212/300\n",
      "1/1 - 0s - loss: 0.4420 - accuracy: 0.8929\n",
      "Epoch 213/300\n",
      "1/1 - 0s - loss: 0.4390 - accuracy: 0.8929\n",
      "Epoch 214/300\n",
      "1/1 - 0s - loss: 0.4361 - accuracy: 0.8929\n",
      "Epoch 215/300\n",
      "1/1 - 0s - loss: 0.4332 - accuracy: 0.8929\n",
      "Epoch 216/300\n",
      "1/1 - 0s - loss: 0.4303 - accuracy: 0.8929\n",
      "Epoch 217/300\n",
      "1/1 - 0s - loss: 0.4275 - accuracy: 0.8929\n",
      "Epoch 218/300\n",
      "1/1 - 0s - loss: 0.4247 - accuracy: 0.8929\n",
      "Epoch 219/300\n",
      "1/1 - 0s - loss: 0.4219 - accuracy: 0.8929\n",
      "Epoch 220/300\n",
      "1/1 - 0s - loss: 0.4192 - accuracy: 0.8929\n",
      "Epoch 221/300\n",
      "1/1 - 0s - loss: 0.4165 - accuracy: 0.8929\n",
      "Epoch 222/300\n",
      "1/1 - 0s - loss: 0.4138 - accuracy: 0.8929\n",
      "Epoch 223/300\n",
      "1/1 - 0s - loss: 0.4112 - accuracy: 0.8929\n",
      "Epoch 224/300\n",
      "1/1 - 0s - loss: 0.4086 - accuracy: 0.8929\n",
      "Epoch 225/300\n",
      "1/1 - 0s - loss: 0.4061 - accuracy: 0.8929\n",
      "Epoch 226/300\n",
      "1/1 - 0s - loss: 0.4035 - accuracy: 0.8929\n",
      "Epoch 227/300\n",
      "1/1 - 0s - loss: 0.4010 - accuracy: 0.8929\n",
      "Epoch 228/300\n",
      "1/1 - 0s - loss: 0.3986 - accuracy: 0.8929\n",
      "Epoch 229/300\n",
      "1/1 - 0s - loss: 0.3961 - accuracy: 0.8929\n",
      "Epoch 230/300\n",
      "1/1 - 0s - loss: 0.3937 - accuracy: 0.8929\n",
      "Epoch 231/300\n",
      "1/1 - 0s - loss: 0.3914 - accuracy: 0.8929\n",
      "Epoch 232/300\n",
      "1/1 - 0s - loss: 0.3890 - accuracy: 0.8929\n",
      "Epoch 233/300\n",
      "1/1 - 0s - loss: 0.3867 - accuracy: 0.8929\n",
      "Epoch 234/300\n",
      "1/1 - 0s - loss: 0.3844 - accuracy: 0.8929\n",
      "Epoch 235/300\n",
      "1/1 - 0s - loss: 0.3822 - accuracy: 0.8929\n",
      "Epoch 236/300\n",
      "1/1 - 0s - loss: 0.3799 - accuracy: 0.8929\n",
      "Epoch 237/300\n",
      "1/1 - 0s - loss: 0.3778 - accuracy: 0.8929\n",
      "Epoch 238/300\n",
      "1/1 - 0s - loss: 0.3756 - accuracy: 0.8929\n",
      "Epoch 239/300\n",
      "1/1 - 0s - loss: 0.3734 - accuracy: 0.8929\n",
      "Epoch 240/300\n",
      "1/1 - 0s - loss: 0.3713 - accuracy: 0.8929\n",
      "Epoch 241/300\n",
      "1/1 - 0s - loss: 0.3693 - accuracy: 0.8929\n",
      "Epoch 242/300\n",
      "1/1 - 0s - loss: 0.3672 - accuracy: 0.8929\n",
      "Epoch 243/300\n",
      "1/1 - 0s - loss: 0.3652 - accuracy: 0.8929\n",
      "Epoch 244/300\n",
      "1/1 - 0s - loss: 0.3632 - accuracy: 0.8929\n",
      "Epoch 245/300\n",
      "1/1 - 0s - loss: 0.3612 - accuracy: 0.8929\n",
      "Epoch 246/300\n",
      "1/1 - 0s - loss: 0.3592 - accuracy: 0.8929\n",
      "Epoch 247/300\n",
      "1/1 - 0s - loss: 0.3573 - accuracy: 0.8929\n",
      "Epoch 248/300\n",
      "1/1 - 0s - loss: 0.3554 - accuracy: 0.8929\n",
      "Epoch 249/300\n",
      "1/1 - 0s - loss: 0.3535 - accuracy: 0.8929\n",
      "Epoch 250/300\n",
      "1/1 - 0s - loss: 0.3517 - accuracy: 0.8929\n",
      "Epoch 251/300\n",
      "1/1 - 0s - loss: 0.3499 - accuracy: 0.8929\n",
      "Epoch 252/300\n",
      "1/1 - 0s - loss: 0.3481 - accuracy: 0.8929\n",
      "Epoch 253/300\n",
      "1/1 - 0s - loss: 0.3463 - accuracy: 0.8929\n",
      "Epoch 254/300\n",
      "1/1 - 0s - loss: 0.3446 - accuracy: 0.8929\n",
      "Epoch 255/300\n",
      "1/1 - 0s - loss: 0.3428 - accuracy: 0.8929\n",
      "Epoch 256/300\n",
      "1/1 - 0s - loss: 0.3411 - accuracy: 0.8929\n",
      "Epoch 257/300\n",
      "1/1 - 0s - loss: 0.3394 - accuracy: 0.8929\n",
      "Epoch 258/300\n",
      "1/1 - 0s - loss: 0.3378 - accuracy: 0.8929\n",
      "Epoch 259/300\n",
      "1/1 - 0s - loss: 0.3361 - accuracy: 0.8929\n",
      "Epoch 260/300\n",
      "1/1 - 0s - loss: 0.3345 - accuracy: 0.8929\n",
      "Epoch 261/300\n",
      "1/1 - 0s - loss: 0.3329 - accuracy: 0.8929\n",
      "Epoch 262/300\n",
      "1/1 - 0s - loss: 0.3314 - accuracy: 0.8929\n",
      "Epoch 263/300\n",
      "1/1 - 0s - loss: 0.3298 - accuracy: 0.8929\n",
      "Epoch 264/300\n",
      "1/1 - 0s - loss: 0.3283 - accuracy: 0.8929\n",
      "Epoch 265/300\n",
      "1/1 - 0s - loss: 0.3268 - accuracy: 0.8929\n",
      "Epoch 266/300\n",
      "1/1 - 0s - loss: 0.3253 - accuracy: 0.8929\n",
      "Epoch 267/300\n",
      "1/1 - 0s - loss: 0.3238 - accuracy: 0.8929\n",
      "Epoch 268/300\n",
      "1/1 - 0s - loss: 0.3224 - accuracy: 0.8929\n",
      "Epoch 269/300\n",
      "1/1 - 0s - loss: 0.3210 - accuracy: 0.8929\n",
      "Epoch 270/300\n",
      "1/1 - 0s - loss: 0.3196 - accuracy: 0.8929\n",
      "Epoch 271/300\n",
      "1/1 - 0s - loss: 0.3182 - accuracy: 0.8929\n",
      "Epoch 272/300\n",
      "1/1 - 0s - loss: 0.3168 - accuracy: 0.8929\n",
      "Epoch 273/300\n",
      "1/1 - 0s - loss: 0.3155 - accuracy: 0.8929\n",
      "Epoch 274/300\n",
      "1/1 - 0s - loss: 0.3141 - accuracy: 0.8929\n",
      "Epoch 275/300\n",
      "1/1 - 0s - loss: 0.3128 - accuracy: 0.8929\n",
      "Epoch 276/300\n",
      "1/1 - 0s - loss: 0.3115 - accuracy: 0.8929\n",
      "Epoch 277/300\n",
      "1/1 - 0s - loss: 0.3103 - accuracy: 0.8929\n",
      "Epoch 278/300\n",
      "1/1 - 0s - loss: 0.3090 - accuracy: 0.8929\n",
      "Epoch 279/300\n",
      "1/1 - 0s - loss: 0.3078 - accuracy: 0.8929\n",
      "Epoch 280/300\n",
      "1/1 - 0s - loss: 0.3066 - accuracy: 0.8929\n",
      "Epoch 281/300\n",
      "1/1 - 0s - loss: 0.3053 - accuracy: 0.8929\n",
      "Epoch 282/300\n",
      "1/1 - 0s - loss: 0.3042 - accuracy: 0.8929\n",
      "Epoch 283/300\n",
      "1/1 - 0s - loss: 0.3030 - accuracy: 0.8929\n",
      "Epoch 284/300\n",
      "1/1 - 0s - loss: 0.3018 - accuracy: 0.8929\n",
      "Epoch 285/300\n",
      "1/1 - 0s - loss: 0.3007 - accuracy: 0.8929\n",
      "Epoch 286/300\n",
      "1/1 - 0s - loss: 0.2996 - accuracy: 0.8929\n",
      "Epoch 287/300\n",
      "1/1 - 0s - loss: 0.2985 - accuracy: 0.8929\n",
      "Epoch 288/300\n",
      "1/1 - 0s - loss: 0.2974 - accuracy: 0.8929\n",
      "Epoch 289/300\n",
      "1/1 - 0s - loss: 0.2963 - accuracy: 0.8929\n",
      "Epoch 290/300\n",
      "1/1 - 0s - loss: 0.2952 - accuracy: 0.8929\n"
     ]
    },
    {
     "name": "stdout",
     "output_type": "stream",
     "text": [
      "Epoch 291/300\n",
      "1/1 - 0s - loss: 0.2942 - accuracy: 0.8929\n",
      "Epoch 292/300\n",
      "1/1 - 0s - loss: 0.2932 - accuracy: 0.8929\n",
      "Epoch 293/300\n",
      "1/1 - 0s - loss: 0.2921 - accuracy: 0.8929\n",
      "Epoch 294/300\n",
      "1/1 - 0s - loss: 0.2911 - accuracy: 0.8929\n",
      "Epoch 295/300\n",
      "1/1 - 0s - loss: 0.2901 - accuracy: 0.8929\n",
      "Epoch 296/300\n",
      "1/1 - 0s - loss: 0.2892 - accuracy: 0.8929\n",
      "Epoch 297/300\n",
      "1/1 - 0s - loss: 0.2882 - accuracy: 0.8929\n",
      "Epoch 298/300\n",
      "1/1 - 0s - loss: 0.2873 - accuracy: 0.8929\n",
      "Epoch 299/300\n",
      "1/1 - 0s - loss: 0.2863 - accuracy: 0.8929\n",
      "Epoch 300/300\n",
      "1/1 - 0s - loss: 0.2854 - accuracy: 0.8929\n"
     ]
    }
   ],
   "source": [
    "from tensorflow.keras.models import Sequential\n",
    "from tensorflow.keras.layers import SimpleRNN, Dense, Embedding\n",
    "\n",
    "# RNN 모델 생성\n",
    "model = Sequential()\n",
    "# 희소행렬로 변환 (10:벡터)\n",
    "model.add(Embedding(vocab_size, 10, input_length=X.shape[1]))\n",
    "model.add(SimpleRNN(32))\n",
    "model.add(Dense(vocab_size, activation=\"softmax\"))\n",
    "\n",
    "# 모델 학습과정 설정\n",
    "model.compile(loss=\"categorical_crossentropy\", optimizer=\"adam\", \n",
    "              metrics=['accuracy'])\n",
    "\n",
    "# 학습시키기\n",
    "hist = model.fit(X, Y, epochs=300, verbose=2)"
   ]
  },
  {
   "cell_type": "code",
   "execution_count": 16,
   "metadata": {
    "ExecuteTime": {
     "end_time": "2021-03-29T12:13:37.539768Z",
     "start_time": "2021-03-29T12:13:37.260641Z"
    }
   },
   "outputs": [
    {
     "name": "stdout",
     "output_type": "stream",
     "text": [
      "1/1 [==============================] - 0s 225ms/step - loss: 0.2845 - accuracy: 0.8929\n"
     ]
    },
    {
     "data": {
      "text/plain": [
       "[0.2844949960708618, 0.8928571343421936]"
      ]
     },
     "execution_count": 16,
     "metadata": {},
     "output_type": "execute_result"
    }
   ],
   "source": [
    "# 모델 평가\n",
    "model.evaluate(X, Y)"
   ]
  },
  {
   "cell_type": "code",
   "execution_count": 17,
   "metadata": {
    "ExecuteTime": {
     "end_time": "2021-03-29T12:13:42.342357Z",
     "start_time": "2021-03-29T12:13:42.328427Z"
    }
   },
   "outputs": [
    {
     "data": {
      "text/plain": [
       "dict_keys(['loss', 'accuracy'])"
      ]
     },
     "execution_count": 17,
     "metadata": {},
     "output_type": "execute_result"
    }
   ],
   "source": [
    "hist.history.keys()"
   ]
  },
  {
   "cell_type": "code",
   "execution_count": 18,
   "metadata": {
    "ExecuteTime": {
     "end_time": "2021-03-29T12:13:50.112061Z",
     "start_time": "2021-03-29T12:13:49.428174Z"
    }
   },
   "outputs": [
    {
     "data": {
      "text/plain": [
       "<matplotlib.legend.Legend at 0x2d7132843d0>"
      ]
     },
     "execution_count": 18,
     "metadata": {},
     "output_type": "execute_result"
    },
    {
     "data": {
      "image/png": "[encoded data removed]",
      "text/plain": [
       "<Figure size 432x288 with 1 Axes>"
      ]
     },
     "metadata": {
      "needs_background": "light"
     },
     "output_type": "display_data"
    }
   ],
   "source": [
    "# 학습과정 보기\n",
    "import matplotlib.pyplot as plt\n",
    "plt.plot(hist.history['loss'], color='r', label=\"loss\")\n",
    "plt.plot(hist.history['accuracy'], color='g', label='accuracy')\n",
    "plt.legend()"
   ]
  },
  {
   "cell_type": "code",
   "execution_count": 19,
   "metadata": {
    "ExecuteTime": {
     "end_time": "2021-03-29T12:13:59.068342Z",
     "start_time": "2021-03-29T12:13:58.860998Z"
    }
   },
   "outputs": [
    {
     "name": "stdout",
     "output_type": "stream",
     "text": [
      "예측결과값 : 3\n",
      "예측된 단어 : 있는\n"
     ]
    },
    {
     "name": "stderr",
     "output_type": "stream",
     "text": [
      "C:\\Users\\porsc\\anaconda3\\lib\\site-packages\\tensorflow\\python\\keras\\engine\\sequential.py:450: UserWarning: `model.predict_classes()` is deprecated and will be removed after 2021-01-01. Please use instead:* `np.argmax(model.predict(x), axis=-1)`,   if your model does multi-class classification   (e.g. if it uses a `softmax` last-layer activation).* `(model.predict(x) > 0.5).astype(\"int32\")`,   if your model does binary classification   (e.g. if it uses a `sigmoid` last-layer activation).\n",
      "  warnings.warn('`model.predict_classes()` is deprecated and '\n"
     ]
    }
   ],
   "source": [
    "# '경마장에' 뒤에 나오는 단어를 model에 의해 추측\n",
    "encoded = t.texts_to_sequences(['경마장에'])[0]\n",
    "encoded = pad_sequences([encoded], maxlen=5, padding='pre')\n",
    "result = model.predict_classes(encoded)\n",
    "print('예측결과값 :',result[0])\n",
    "for key, value in t.word_index.items():\n",
    "    if value==result[0]:\n",
    "        print(\"예측된 단어 :\", key)\n",
    "        break"
   ]
  },
  {
   "cell_type": "code",
   "execution_count": 20,
   "metadata": {
    "ExecuteTime": {
     "end_time": "2021-03-29T12:14:13.995932Z",
     "start_time": "2021-03-29T12:14:09.146070Z"
    }
   },
   "outputs": [
    {
     "name": "stdout",
     "output_type": "stream",
     "text": [
      "입력 단어 :말이\n",
      "예측결과값 : 9\n",
      "예측된 단어 : 고와야\n"
     ]
    }
   ],
   "source": [
    "# 입력받은 다음 단어 추측하기\n",
    "word = input(\"입력 단어 :\")\n",
    "encoded = t.texts_to_sequences([word])[0]\n",
    "encoded = pad_sequences([encoded], maxlen=5, padding='pre')\n",
    "result = np.argmax(model.predict(encoded))\n",
    "print('예측결과값 :',result)\n",
    "for key, value in t.word_index.items():\n",
    "    if value==result:\n",
    "        print(\"예측된 단어 :\", key)\n",
    "        break"
   ]
  },
  {
   "cell_type": "markdown",
   "metadata": {},
   "source": [
    "## 다음 문맥 예측해 보기"
   ]
  },
  {
   "cell_type": "code",
   "execution_count": 21,
   "metadata": {
    "ExecuteTime": {
     "end_time": "2021-03-29T12:14:53.234665Z",
     "start_time": "2021-03-29T12:14:53.227684Z"
    }
   },
   "outputs": [],
   "source": [
    "# \"경마장에\" 이후에 올 단어  4개 예측 => 경마장에 있는 말이 뛰고\n",
    "#  -----                   --\n",
    "def sentence_generation(model, t, current_word, n):\n",
    "    init_word = current_word\n",
    "    print(\"입력 단어 :\", init_word)\n",
    "    setence = \"\"\n",
    "    for i in range(1,n+1):\n",
    "        encoded = t.texts_to_sequences([current_word])[0]\n",
    "        encoded = pad_sequences([encoded], maxlen=5, padding='pre')\n",
    "        result = np.argmax(model.predict(encoded))\n",
    "        for word, index in t.word_index.items():\n",
    "            if index==result:\n",
    "                print(\"{}번째 : {}:{}\".format(i, word, result))\n",
    "                current_word = current_word + ' ' + word\n",
    "                break;\n",
    "    return current_word"
   ]
  },
  {
   "cell_type": "code",
   "execution_count": 22,
   "metadata": {
    "ExecuteTime": {
     "end_time": "2021-03-29T12:15:01.144839Z",
     "start_time": "2021-03-29T12:15:00.855182Z"
    }
   },
   "outputs": [
    {
     "name": "stdout",
     "output_type": "stream",
     "text": [
      "입력 단어 : 경마장에\n",
      "1번째 : 있는:3\n",
      "2번째 : 말이:1\n",
      "3번째 : 뛰고:4\n",
      "4번째 : 있다:5\n"
     ]
    },
    {
     "data": {
      "text/plain": [
       "'경마장에 있는 말이 뛰고 있다'"
      ]
     },
     "execution_count": 22,
     "metadata": {},
     "output_type": "execute_result"
    }
   ],
   "source": [
    "sentence_generation(model, t, \"경마장에\", 4)"
   ]
  },
  {
   "cell_type": "code",
   "execution_count": 23,
   "metadata": {
    "ExecuteTime": {
     "end_time": "2021-03-29T12:15:09.921864Z",
     "start_time": "2021-03-29T12:15:09.743134Z"
    }
   },
   "outputs": [
    {
     "name": "stdout",
     "output_type": "stream",
     "text": [
      "입력 단어 : 가는 말이\n",
      "1번째 : 고와야:9\n",
      "2번째 : 오는:10\n",
      "3번째 : 말이:1\n",
      "4번째 : 곱다:11\n"
     ]
    },
    {
     "data": {
      "text/plain": [
       "'가는 말이 고와야 오는 말이 곱다'"
      ]
     },
     "execution_count": 23,
     "metadata": {},
     "output_type": "execute_result"
    }
   ],
   "source": [
    "sentence_generation(model, t, \"가는 말이\", 4)"
   ]
  },
  {
   "cell_type": "markdown",
   "metadata": {},
   "source": [
    "## LSTM"
   ]
  },
  {
   "cell_type": "code",
   "execution_count": 24,
   "metadata": {
    "ExecuteTime": {
     "end_time": "2021-03-29T12:15:34.684331Z",
     "start_time": "2021-03-29T12:15:30.296938Z"
    }
   },
   "outputs": [
    {
     "name": "stdout",
     "output_type": "stream",
     "text": [
      "Epoch 1/300\n",
      "1/1 - 2s - loss: 2.4850 - accuracy: 0.0357\n",
      "Epoch 2/300\n",
      "1/1 - 0s - loss: 2.4823 - accuracy: 0.1429\n",
      "Epoch 3/300\n",
      "1/1 - 0s - loss: 2.4796 - accuracy: 0.2143\n",
      "Epoch 4/300\n",
      "1/1 - 0s - loss: 2.4768 - accuracy: 0.2143\n",
      "Epoch 5/300\n",
      "1/1 - 0s - loss: 2.4740 - accuracy: 0.2500\n",
      "Epoch 6/300\n",
      "1/1 - 0s - loss: 2.4712 - accuracy: 0.2500\n",
      "Epoch 7/300\n",
      "1/1 - 0s - loss: 2.4684 - accuracy: 0.3214\n",
      "Epoch 8/300\n",
      "1/1 - 0s - loss: 2.4655 - accuracy: 0.3571\n",
      "Epoch 9/300\n",
      "1/1 - 0s - loss: 2.4625 - accuracy: 0.3571\n",
      "Epoch 10/300\n",
      "1/1 - 0s - loss: 2.4594 - accuracy: 0.3214\n",
      "Epoch 11/300\n",
      "1/1 - 0s - loss: 2.4562 - accuracy: 0.3571\n",
      "Epoch 12/300\n",
      "1/1 - 0s - loss: 2.4529 - accuracy: 0.3571\n",
      "Epoch 13/300\n",
      "1/1 - 0s - loss: 2.4495 - accuracy: 0.3214\n",
      "Epoch 14/300\n",
      "1/1 - 0s - loss: 2.4459 - accuracy: 0.3571\n",
      "Epoch 15/300\n",
      "1/1 - 0s - loss: 2.4422 - accuracy: 0.3571\n",
      "Epoch 16/300\n",
      "1/1 - 0s - loss: 2.4383 - accuracy: 0.3571\n",
      "Epoch 17/300\n",
      "1/1 - 0s - loss: 2.4343 - accuracy: 0.3571\n",
      "Epoch 18/300\n",
      "1/1 - 0s - loss: 2.4300 - accuracy: 0.3571\n",
      "Epoch 19/300\n",
      "1/1 - 0s - loss: 2.4255 - accuracy: 0.3571\n",
      "Epoch 20/300\n",
      "1/1 - 0s - loss: 2.4208 - accuracy: 0.3571\n",
      "Epoch 21/300\n",
      "1/1 - 0s - loss: 2.4159 - accuracy: 0.3571\n",
      "Epoch 22/300\n",
      "1/1 - 0s - loss: 2.4107 - accuracy: 0.3571\n",
      "Epoch 23/300\n",
      "1/1 - 0s - loss: 2.4052 - accuracy: 0.3571\n",
      "Epoch 24/300\n",
      "1/1 - 0s - loss: 2.3994 - accuracy: 0.3214\n",
      "Epoch 25/300\n",
      "1/1 - 0s - loss: 2.3933 - accuracy: 0.3214\n",
      "Epoch 26/300\n",
      "1/1 - 0s - loss: 2.3868 - accuracy: 0.3214\n",
      "Epoch 27/300\n",
      "1/1 - 0s - loss: 2.3799 - accuracy: 0.3214\n",
      "Epoch 28/300\n",
      "1/1 - 0s - loss: 2.3726 - accuracy: 0.3214\n",
      "Epoch 29/300\n",
      "1/1 - 0s - loss: 2.3649 - accuracy: 0.3214\n",
      "Epoch 30/300\n",
      "1/1 - 0s - loss: 2.3567 - accuracy: 0.2857\n",
      "Epoch 31/300\n",
      "1/1 - 0s - loss: 2.3480 - accuracy: 0.2857\n",
      "Epoch 32/300\n",
      "1/1 - 0s - loss: 2.3387 - accuracy: 0.2857\n",
      "Epoch 33/300\n",
      "1/1 - 0s - loss: 2.3289 - accuracy: 0.2857\n",
      "Epoch 34/300\n",
      "1/1 - 0s - loss: 2.3185 - accuracy: 0.2857\n",
      "Epoch 35/300\n",
      "1/1 - 0s - loss: 2.3075 - accuracy: 0.2857\n",
      "Epoch 36/300\n",
      "1/1 - 0s - loss: 2.2958 - accuracy: 0.2857\n",
      "Epoch 37/300\n",
      "1/1 - 0s - loss: 2.2834 - accuracy: 0.2857\n",
      "Epoch 38/300\n",
      "1/1 - 0s - loss: 2.2703 - accuracy: 0.2857\n",
      "Epoch 39/300\n",
      "1/1 - 0s - loss: 2.2564 - accuracy: 0.2857\n",
      "Epoch 40/300\n",
      "1/1 - 0s - loss: 2.2419 - accuracy: 0.2857\n",
      "Epoch 41/300\n",
      "1/1 - 0s - loss: 2.2266 - accuracy: 0.2857\n",
      "Epoch 42/300\n",
      "1/1 - 0s - loss: 2.2106 - accuracy: 0.2857\n",
      "Epoch 43/300\n",
      "1/1 - 0s - loss: 2.1940 - accuracy: 0.2857\n",
      "Epoch 44/300\n",
      "1/1 - 0s - loss: 2.1767 - accuracy: 0.2857\n",
      "Epoch 45/300\n",
      "1/1 - 0s - loss: 2.1590 - accuracy: 0.2857\n",
      "Epoch 46/300\n",
      "1/1 - 0s - loss: 2.1408 - accuracy: 0.2857\n",
      "Epoch 47/300\n",
      "1/1 - 0s - loss: 2.1224 - accuracy: 0.2857\n",
      "Epoch 48/300\n",
      "1/1 - 0s - loss: 2.1040 - accuracy: 0.2857\n",
      "Epoch 49/300\n",
      "1/1 - 0s - loss: 2.0858 - accuracy: 0.2857\n",
      "Epoch 50/300\n",
      "1/1 - 0s - loss: 2.0681 - accuracy: 0.2857\n",
      "Epoch 51/300\n",
      "1/1 - 0s - loss: 2.0513 - accuracy: 0.2857\n",
      "Epoch 52/300\n",
      "1/1 - 0s - loss: 2.0358 - accuracy: 0.2857\n",
      "Epoch 53/300\n",
      "1/1 - 0s - loss: 2.0219 - accuracy: 0.2857\n",
      "Epoch 54/300\n",
      "1/1 - 0s - loss: 2.0101 - accuracy: 0.2857\n",
      "Epoch 55/300\n",
      "1/1 - 0s - loss: 2.0004 - accuracy: 0.2857\n",
      "Epoch 56/300\n",
      "1/1 - 0s - loss: 1.9931 - accuracy: 0.2857\n",
      "Epoch 57/300\n",
      "1/1 - 0s - loss: 1.9879 - accuracy: 0.2857\n",
      "Epoch 58/300\n",
      "1/1 - 0s - loss: 1.9845 - accuracy: 0.2857\n",
      "Epoch 59/300\n",
      "1/1 - 0s - loss: 1.9821 - accuracy: 0.2857\n",
      "Epoch 60/300\n",
      "1/1 - 0s - loss: 1.9799 - accuracy: 0.2857\n",
      "Epoch 61/300\n",
      "1/1 - 0s - loss: 1.9774 - accuracy: 0.2857\n",
      "Epoch 62/300\n",
      "1/1 - 0s - loss: 1.9741 - accuracy: 0.2857\n",
      "Epoch 63/300\n",
      "1/1 - 0s - loss: 1.9699 - accuracy: 0.2857\n",
      "Epoch 64/300\n",
      "1/1 - 0s - loss: 1.9648 - accuracy: 0.2857\n",
      "Epoch 65/300\n",
      "1/1 - 0s - loss: 1.9591 - accuracy: 0.2857\n",
      "Epoch 66/300\n",
      "1/1 - 0s - loss: 1.9532 - accuracy: 0.2857\n",
      "Epoch 67/300\n",
      "1/1 - 0s - loss: 1.9473 - accuracy: 0.2857\n",
      "Epoch 68/300\n",
      "1/1 - 0s - loss: 1.9417 - accuracy: 0.2857\n",
      "Epoch 69/300\n",
      "1/1 - 0s - loss: 1.9364 - accuracy: 0.2857\n",
      "Epoch 70/300\n",
      "1/1 - 0s - loss: 1.9317 - accuracy: 0.2857\n",
      "Epoch 71/300\n",
      "1/1 - 0s - loss: 1.9274 - accuracy: 0.2857\n",
      "Epoch 72/300\n",
      "1/1 - 0s - loss: 1.9235 - accuracy: 0.2857\n",
      "Epoch 73/300\n",
      "1/1 - 0s - loss: 1.9199 - accuracy: 0.2857\n",
      "Epoch 74/300\n",
      "1/1 - 0s - loss: 1.9165 - accuracy: 0.2857\n",
      "Epoch 75/300\n",
      "1/1 - 0s - loss: 1.9132 - accuracy: 0.2857\n",
      "Epoch 76/300\n",
      "1/1 - 0s - loss: 1.9100 - accuracy: 0.2857\n",
      "Epoch 77/300\n",
      "1/1 - 0s - loss: 1.9067 - accuracy: 0.2857\n",
      "Epoch 78/300\n",
      "1/1 - 0s - loss: 1.9034 - accuracy: 0.2857\n",
      "Epoch 79/300\n",
      "1/1 - 0s - loss: 1.9000 - accuracy: 0.2857\n",
      "Epoch 80/300\n",
      "1/1 - 0s - loss: 1.8965 - accuracy: 0.2857\n",
      "Epoch 81/300\n",
      "1/1 - 0s - loss: 1.8930 - accuracy: 0.2857\n",
      "Epoch 82/300\n",
      "1/1 - 0s - loss: 1.8893 - accuracy: 0.2857\n",
      "Epoch 83/300\n",
      "1/1 - 0s - loss: 1.8857 - accuracy: 0.2857\n",
      "Epoch 84/300\n",
      "1/1 - 0s - loss: 1.8820 - accuracy: 0.2857\n",
      "Epoch 85/300\n",
      "1/1 - 0s - loss: 1.8782 - accuracy: 0.2857\n",
      "Epoch 86/300\n",
      "1/1 - 0s - loss: 1.8745 - accuracy: 0.2857\n",
      "Epoch 87/300\n",
      "1/1 - 0s - loss: 1.8708 - accuracy: 0.2857\n",
      "Epoch 88/300\n",
      "1/1 - 0s - loss: 1.8670 - accuracy: 0.2857\n",
      "Epoch 89/300\n",
      "1/1 - 0s - loss: 1.8633 - accuracy: 0.2857\n",
      "Epoch 90/300\n",
      "1/1 - 0s - loss: 1.8594 - accuracy: 0.2857\n",
      "Epoch 91/300\n",
      "1/1 - 0s - loss: 1.8556 - accuracy: 0.2857\n",
      "Epoch 92/300\n",
      "1/1 - 0s - loss: 1.8516 - accuracy: 0.2857\n",
      "Epoch 93/300\n",
      "1/1 - 0s - loss: 1.8476 - accuracy: 0.2857\n",
      "Epoch 94/300\n",
      "1/1 - 0s - loss: 1.8434 - accuracy: 0.2857\n",
      "Epoch 95/300\n",
      "1/1 - 0s - loss: 1.8391 - accuracy: 0.2857\n",
      "Epoch 96/300\n",
      "1/1 - 0s - loss: 1.8347 - accuracy: 0.2857\n",
      "Epoch 97/300\n",
      "1/1 - 0s - loss: 1.8302 - accuracy: 0.2857\n",
      "Epoch 98/300\n",
      "1/1 - 0s - loss: 1.8255 - accuracy: 0.2857\n",
      "Epoch 99/300\n",
      "1/1 - 0s - loss: 1.8208 - accuracy: 0.2857\n",
      "Epoch 100/300\n",
      "1/1 - 0s - loss: 1.8159 - accuracy: 0.2857\n",
      "Epoch 101/300\n",
      "1/1 - 0s - loss: 1.8108 - accuracy: 0.2857\n",
      "Epoch 102/300\n",
      "1/1 - 0s - loss: 1.8057 - accuracy: 0.2857\n",
      "Epoch 103/300\n",
      "1/1 - 0s - loss: 1.8004 - accuracy: 0.2857\n",
      "Epoch 104/300\n",
      "1/1 - 0s - loss: 1.7950 - accuracy: 0.2857\n",
      "Epoch 105/300\n",
      "1/1 - 0s - loss: 1.7894 - accuracy: 0.2857\n",
      "Epoch 106/300\n",
      "1/1 - 0s - loss: 1.7837 - accuracy: 0.2857\n",
      "Epoch 107/300\n",
      "1/1 - 0s - loss: 1.7779 - accuracy: 0.3214\n",
      "Epoch 108/300\n",
      "1/1 - 0s - loss: 1.7718 - accuracy: 0.3571\n",
      "Epoch 109/300\n",
      "1/1 - 0s - loss: 1.7656 - accuracy: 0.3571\n",
      "Epoch 110/300\n",
      "1/1 - 0s - loss: 1.7593 - accuracy: 0.3571\n",
      "Epoch 111/300\n",
      "1/1 - 0s - loss: 1.7527 - accuracy: 0.3571\n",
      "Epoch 112/300\n",
      "1/1 - 0s - loss: 1.7460 - accuracy: 0.3571\n",
      "Epoch 113/300\n",
      "1/1 - 0s - loss: 1.7391 - accuracy: 0.3571\n",
      "Epoch 114/300\n",
      "1/1 - 0s - loss: 1.7320 - accuracy: 0.3571\n",
      "Epoch 115/300\n",
      "1/1 - 0s - loss: 1.7248 - accuracy: 0.3571\n",
      "Epoch 116/300\n",
      "1/1 - 0s - loss: 1.7174 - accuracy: 0.3571\n",
      "Epoch 117/300\n",
      "1/1 - 0s - loss: 1.7099 - accuracy: 0.3929\n",
      "Epoch 118/300\n",
      "1/1 - 0s - loss: 1.7022 - accuracy: 0.4286\n",
      "Epoch 119/300\n",
      "1/1 - 0s - loss: 1.6944 - accuracy: 0.3929\n",
      "Epoch 120/300\n",
      "1/1 - 0s - loss: 1.6865 - accuracy: 0.3929\n",
      "Epoch 121/300\n",
      "1/1 - 0s - loss: 1.6784 - accuracy: 0.3929\n",
      "Epoch 122/300\n",
      "1/1 - 0s - loss: 1.6703 - accuracy: 0.3929\n",
      "Epoch 123/300\n",
      "1/1 - 0s - loss: 1.6621 - accuracy: 0.3929\n",
      "Epoch 124/300\n",
      "1/1 - 0s - loss: 1.6537 - accuracy: 0.3929\n",
      "Epoch 125/300\n",
      "1/1 - 0s - loss: 1.6454 - accuracy: 0.3929\n",
      "Epoch 126/300\n",
      "1/1 - 0s - loss: 1.6369 - accuracy: 0.3929\n",
      "Epoch 127/300\n",
      "1/1 - 0s - loss: 1.6285 - accuracy: 0.3929\n",
      "Epoch 128/300\n",
      "1/1 - 0s - loss: 1.6200 - accuracy: 0.3929\n",
      "Epoch 129/300\n",
      "1/1 - 0s - loss: 1.6115 - accuracy: 0.4286\n",
      "Epoch 130/300\n",
      "1/1 - 0s - loss: 1.6030 - accuracy: 0.4286\n",
      "Epoch 131/300\n",
      "1/1 - 0s - loss: 1.5945 - accuracy: 0.4286\n",
      "Epoch 132/300\n",
      "1/1 - 0s - loss: 1.5860 - accuracy: 0.4286\n",
      "Epoch 133/300\n",
      "1/1 - 0s - loss: 1.5774 - accuracy: 0.4286\n",
      "Epoch 134/300\n",
      "1/1 - 0s - loss: 1.5689 - accuracy: 0.4286\n",
      "Epoch 135/300\n",
      "1/1 - 0s - loss: 1.5604 - accuracy: 0.4286\n",
      "Epoch 136/300\n",
      "1/1 - 0s - loss: 1.5519 - accuracy: 0.4286\n",
      "Epoch 137/300\n",
      "1/1 - 0s - loss: 1.5434 - accuracy: 0.4286\n",
      "Epoch 138/300\n",
      "1/1 - 0s - loss: 1.5349 - accuracy: 0.4286\n",
      "Epoch 139/300\n",
      "1/1 - 0s - loss: 1.5264 - accuracy: 0.4286\n",
      "Epoch 140/300\n",
      "1/1 - 0s - loss: 1.5178 - accuracy: 0.4286\n",
      "Epoch 141/300\n",
      "1/1 - 0s - loss: 1.5092 - accuracy: 0.4286\n",
      "Epoch 142/300\n",
      "1/1 - 0s - loss: 1.5005 - accuracy: 0.4286\n",
      "Epoch 143/300\n",
      "1/1 - 0s - loss: 1.4919 - accuracy: 0.3929\n",
      "Epoch 144/300\n",
      "1/1 - 0s - loss: 1.4831 - accuracy: 0.3929\n",
      "Epoch 145/300\n",
      "1/1 - 0s - loss: 1.4744 - accuracy: 0.3929\n",
      "Epoch 146/300\n",
      "1/1 - 0s - loss: 1.4655 - accuracy: 0.3929\n"
     ]
    },
    {
     "name": "stdout",
     "output_type": "stream",
     "text": [
      "Epoch 147/300\n",
      "1/1 - 0s - loss: 1.4566 - accuracy: 0.3929\n",
      "Epoch 148/300\n",
      "1/1 - 0s - loss: 1.4476 - accuracy: 0.3929\n",
      "Epoch 149/300\n",
      "1/1 - 0s - loss: 1.4386 - accuracy: 0.3929\n",
      "Epoch 150/300\n",
      "1/1 - 0s - loss: 1.4295 - accuracy: 0.3929\n",
      "Epoch 151/300\n",
      "1/1 - 0s - loss: 1.4203 - accuracy: 0.3929\n",
      "Epoch 152/300\n",
      "1/1 - 0s - loss: 1.4111 - accuracy: 0.3929\n",
      "Epoch 153/300\n",
      "1/1 - 0s - loss: 1.4017 - accuracy: 0.3929\n",
      "Epoch 154/300\n",
      "1/1 - 0s - loss: 1.3923 - accuracy: 0.4286\n",
      "Epoch 155/300\n",
      "1/1 - 0s - loss: 1.3828 - accuracy: 0.4286\n",
      "Epoch 156/300\n",
      "1/1 - 0s - loss: 1.3732 - accuracy: 0.5000\n",
      "Epoch 157/300\n",
      "1/1 - 0s - loss: 1.3635 - accuracy: 0.5000\n",
      "Epoch 158/300\n",
      "1/1 - 0s - loss: 1.3537 - accuracy: 0.5000\n",
      "Epoch 159/300\n",
      "1/1 - 0s - loss: 1.3438 - accuracy: 0.5000\n",
      "Epoch 160/300\n",
      "1/1 - 0s - loss: 1.3338 - accuracy: 0.5000\n",
      "Epoch 161/300\n",
      "1/1 - 0s - loss: 1.3237 - accuracy: 0.5000\n",
      "Epoch 162/300\n",
      "1/1 - 0s - loss: 1.3135 - accuracy: 0.5000\n",
      "Epoch 163/300\n",
      "1/1 - 0s - loss: 1.3032 - accuracy: 0.5357\n",
      "Epoch 164/300\n",
      "1/1 - 0s - loss: 1.2928 - accuracy: 0.5357\n",
      "Epoch 165/300\n",
      "1/1 - 0s - loss: 1.2823 - accuracy: 0.5357\n",
      "Epoch 166/300\n",
      "1/1 - 0s - loss: 1.2716 - accuracy: 0.5714\n",
      "Epoch 167/300\n",
      "1/1 - 0s - loss: 1.2608 - accuracy: 0.5714\n",
      "Epoch 168/300\n",
      "1/1 - 0s - loss: 1.2500 - accuracy: 0.5714\n",
      "Epoch 169/300\n",
      "1/1 - 0s - loss: 1.2390 - accuracy: 0.5714\n",
      "Epoch 170/300\n",
      "1/1 - 0s - loss: 1.2278 - accuracy: 0.5714\n",
      "Epoch 171/300\n",
      "1/1 - 0s - loss: 1.2166 - accuracy: 0.5714\n",
      "Epoch 172/300\n",
      "1/1 - 0s - loss: 1.2052 - accuracy: 0.5714\n",
      "Epoch 173/300\n",
      "1/1 - 0s - loss: 1.1938 - accuracy: 0.5714\n",
      "Epoch 174/300\n",
      "1/1 - 0s - loss: 1.1822 - accuracy: 0.6071\n",
      "Epoch 175/300\n",
      "1/1 - 0s - loss: 1.1705 - accuracy: 0.6071\n",
      "Epoch 176/300\n",
      "1/1 - 0s - loss: 1.1587 - accuracy: 0.6071\n",
      "Epoch 177/300\n",
      "1/1 - 0s - loss: 1.1468 - accuracy: 0.6429\n",
      "Epoch 178/300\n",
      "1/1 - 0s - loss: 1.1348 - accuracy: 0.6429\n",
      "Epoch 179/300\n",
      "1/1 - 0s - loss: 1.1227 - accuracy: 0.6429\n",
      "Epoch 180/300\n",
      "1/1 - 0s - loss: 1.1106 - accuracy: 0.6429\n",
      "Epoch 181/300\n",
      "1/1 - 0s - loss: 1.0984 - accuracy: 0.6429\n",
      "Epoch 182/300\n",
      "1/1 - 0s - loss: 1.0861 - accuracy: 0.6429\n",
      "Epoch 183/300\n",
      "1/1 - 0s - loss: 1.0737 - accuracy: 0.6429\n",
      "Epoch 184/300\n",
      "1/1 - 0s - loss: 1.0613 - accuracy: 0.6786\n",
      "Epoch 185/300\n",
      "1/1 - 0s - loss: 1.0489 - accuracy: 0.6786\n",
      "Epoch 186/300\n",
      "1/1 - 0s - loss: 1.0365 - accuracy: 0.7143\n",
      "Epoch 187/300\n",
      "1/1 - 0s - loss: 1.0240 - accuracy: 0.7143\n",
      "Epoch 188/300\n",
      "1/1 - 0s - loss: 1.0116 - accuracy: 0.7143\n",
      "Epoch 189/300\n",
      "1/1 - 0s - loss: 0.9992 - accuracy: 0.7143\n",
      "Epoch 190/300\n",
      "1/1 - 0s - loss: 0.9868 - accuracy: 0.7500\n",
      "Epoch 191/300\n",
      "1/1 - 0s - loss: 0.9744 - accuracy: 0.7857\n",
      "Epoch 192/300\n",
      "1/1 - 0s - loss: 0.9622 - accuracy: 0.7857\n",
      "Epoch 193/300\n",
      "1/1 - 0s - loss: 0.9500 - accuracy: 0.7857\n",
      "Epoch 194/300\n",
      "1/1 - 0s - loss: 0.9379 - accuracy: 0.7857\n",
      "Epoch 195/300\n",
      "1/1 - 0s - loss: 0.9258 - accuracy: 0.7857\n",
      "Epoch 196/300\n",
      "1/1 - 0s - loss: 0.9139 - accuracy: 0.7857\n",
      "Epoch 197/300\n",
      "1/1 - 0s - loss: 0.9021 - accuracy: 0.7857\n",
      "Epoch 198/300\n",
      "1/1 - 0s - loss: 0.8905 - accuracy: 0.7857\n",
      "Epoch 199/300\n",
      "1/1 - 0s - loss: 0.8790 - accuracy: 0.7857\n",
      "Epoch 200/300\n",
      "1/1 - 0s - loss: 0.8677 - accuracy: 0.7857\n",
      "Epoch 201/300\n",
      "1/1 - 0s - loss: 0.8565 - accuracy: 0.7857\n",
      "Epoch 202/300\n",
      "1/1 - 0s - loss: 0.8455 - accuracy: 0.7857\n",
      "Epoch 203/300\n",
      "1/1 - 0s - loss: 0.8347 - accuracy: 0.7857\n",
      "Epoch 204/300\n",
      "1/1 - 0s - loss: 0.8240 - accuracy: 0.7857\n",
      "Epoch 205/300\n",
      "1/1 - 0s - loss: 0.8136 - accuracy: 0.7857\n",
      "Epoch 206/300\n",
      "1/1 - 0s - loss: 0.8034 - accuracy: 0.7857\n",
      "Epoch 207/300\n",
      "1/1 - 0s - loss: 0.7934 - accuracy: 0.7857\n",
      "Epoch 208/300\n",
      "1/1 - 0s - loss: 0.7836 - accuracy: 0.7857\n",
      "Epoch 209/300\n",
      "1/1 - 0s - loss: 0.7740 - accuracy: 0.7857\n",
      "Epoch 210/300\n",
      "1/1 - 0s - loss: 0.7647 - accuracy: 0.7857\n",
      "Epoch 211/300\n",
      "1/1 - 0s - loss: 0.7555 - accuracy: 0.7857\n",
      "Epoch 212/300\n",
      "1/1 - 0s - loss: 0.7466 - accuracy: 0.7857\n",
      "Epoch 213/300\n",
      "1/1 - 0s - loss: 0.7379 - accuracy: 0.7857\n",
      "Epoch 214/300\n",
      "1/1 - 0s - loss: 0.7295 - accuracy: 0.7857\n",
      "Epoch 215/300\n",
      "1/1 - 0s - loss: 0.7212 - accuracy: 0.7857\n",
      "Epoch 216/300\n",
      "1/1 - 0s - loss: 0.7132 - accuracy: 0.7857\n",
      "Epoch 217/300\n",
      "1/1 - 0s - loss: 0.7053 - accuracy: 0.7857\n",
      "Epoch 218/300\n",
      "1/1 - 0s - loss: 0.6977 - accuracy: 0.7857\n",
      "Epoch 219/300\n",
      "1/1 - 0s - loss: 0.6903 - accuracy: 0.7857\n",
      "Epoch 220/300\n",
      "1/1 - 0s - loss: 0.6830 - accuracy: 0.7857\n",
      "Epoch 221/300\n",
      "1/1 - 0s - loss: 0.6760 - accuracy: 0.7857\n",
      "Epoch 222/300\n",
      "1/1 - 0s - loss: 0.6691 - accuracy: 0.7857\n",
      "Epoch 223/300\n",
      "1/1 - 0s - loss: 0.6624 - accuracy: 0.7857\n",
      "Epoch 224/300\n",
      "1/1 - 0s - loss: 0.6559 - accuracy: 0.7857\n",
      "Epoch 225/300\n",
      "1/1 - 0s - loss: 0.6496 - accuracy: 0.7857\n",
      "Epoch 226/300\n",
      "1/1 - 0s - loss: 0.6434 - accuracy: 0.7857\n",
      "Epoch 227/300\n",
      "1/1 - 0s - loss: 0.6374 - accuracy: 0.7857\n",
      "Epoch 228/300\n",
      "1/1 - 0s - loss: 0.6315 - accuracy: 0.7857\n",
      "Epoch 229/300\n",
      "1/1 - 0s - loss: 0.6257 - accuracy: 0.7857\n",
      "Epoch 230/300\n",
      "1/1 - 0s - loss: 0.6201 - accuracy: 0.7857\n",
      "Epoch 231/300\n",
      "1/1 - 0s - loss: 0.6147 - accuracy: 0.7857\n",
      "Epoch 232/300\n",
      "1/1 - 0s - loss: 0.6093 - accuracy: 0.7857\n",
      "Epoch 233/300\n",
      "1/1 - 0s - loss: 0.6041 - accuracy: 0.7857\n",
      "Epoch 234/300\n",
      "1/1 - 0s - loss: 0.5990 - accuracy: 0.7857\n",
      "Epoch 235/300\n",
      "1/1 - 0s - loss: 0.5940 - accuracy: 0.7857\n",
      "Epoch 236/300\n",
      "1/1 - 0s - loss: 0.5891 - accuracy: 0.7857\n",
      "Epoch 237/300\n",
      "1/1 - 0s - loss: 0.5843 - accuracy: 0.7857\n",
      "Epoch 238/300\n",
      "1/1 - 0s - loss: 0.5797 - accuracy: 0.7857\n",
      "Epoch 239/300\n",
      "1/1 - 0s - loss: 0.5751 - accuracy: 0.7857\n",
      "Epoch 240/300\n",
      "1/1 - 0s - loss: 0.5706 - accuracy: 0.7857\n",
      "Epoch 241/300\n",
      "1/1 - 0s - loss: 0.5662 - accuracy: 0.7857\n",
      "Epoch 242/300\n",
      "1/1 - 0s - loss: 0.5619 - accuracy: 0.7857\n",
      "Epoch 243/300\n",
      "1/1 - 0s - loss: 0.5576 - accuracy: 0.7857\n",
      "Epoch 244/300\n",
      "1/1 - 0s - loss: 0.5535 - accuracy: 0.7857\n",
      "Epoch 245/300\n",
      "1/1 - 0s - loss: 0.5494 - accuracy: 0.7857\n",
      "Epoch 246/300\n",
      "1/1 - 0s - loss: 0.5454 - accuracy: 0.7857\n",
      "Epoch 247/300\n",
      "1/1 - 0s - loss: 0.5415 - accuracy: 0.7857\n",
      "Epoch 248/300\n",
      "1/1 - 0s - loss: 0.5376 - accuracy: 0.7857\n",
      "Epoch 249/300\n",
      "1/1 - 0s - loss: 0.5338 - accuracy: 0.7857\n",
      "Epoch 250/300\n",
      "1/1 - 0s - loss: 0.5301 - accuracy: 0.7857\n",
      "Epoch 251/300\n",
      "1/1 - 0s - loss: 0.5264 - accuracy: 0.7857\n",
      "Epoch 252/300\n",
      "1/1 - 0s - loss: 0.5228 - accuracy: 0.7857\n",
      "Epoch 253/300\n",
      "1/1 - 0s - loss: 0.5193 - accuracy: 0.7857\n",
      "Epoch 254/300\n",
      "1/1 - 0s - loss: 0.5158 - accuracy: 0.8214\n",
      "Epoch 255/300\n",
      "1/1 - 0s - loss: 0.5124 - accuracy: 0.8214\n",
      "Epoch 256/300\n",
      "1/1 - 0s - loss: 0.5093 - accuracy: 0.8214\n",
      "Epoch 257/300\n",
      "1/1 - 0s - loss: 0.5068 - accuracy: 0.8214\n",
      "Epoch 258/300\n",
      "1/1 - 0s - loss: 0.5038 - accuracy: 0.8214\n",
      "Epoch 259/300\n",
      "1/1 - 0s - loss: 0.4996 - accuracy: 0.8214\n",
      "Epoch 260/300\n",
      "1/1 - 0s - loss: 0.4966 - accuracy: 0.8214\n",
      "Epoch 261/300\n",
      "1/1 - 0s - loss: 0.4941 - accuracy: 0.8214\n",
      "Epoch 262/300\n",
      "1/1 - 0s - loss: 0.4903 - accuracy: 0.8214\n",
      "Epoch 263/300\n",
      "1/1 - 0s - loss: 0.4877 - accuracy: 0.8214\n",
      "Epoch 264/300\n",
      "1/1 - 0s - loss: 0.4849 - accuracy: 0.8214\n",
      "Epoch 265/300\n",
      "1/1 - 0s - loss: 0.4816 - accuracy: 0.8214\n",
      "Epoch 266/300\n",
      "1/1 - 0s - loss: 0.4793 - accuracy: 0.8214\n",
      "Epoch 267/300\n",
      "1/1 - 0s - loss: 0.4761 - accuracy: 0.8214\n",
      "Epoch 268/300\n",
      "1/1 - 0s - loss: 0.4735 - accuracy: 0.8214\n",
      "Epoch 269/300\n",
      "1/1 - 0s - loss: 0.4710 - accuracy: 0.8214\n",
      "Epoch 270/300\n",
      "1/1 - 0s - loss: 0.4680 - accuracy: 0.8214\n",
      "Epoch 271/300\n",
      "1/1 - 0s - loss: 0.4658 - accuracy: 0.8214\n",
      "Epoch 272/300\n",
      "1/1 - 0s - loss: 0.4630 - accuracy: 0.8214\n",
      "Epoch 273/300\n",
      "1/1 - 0s - loss: 0.4605 - accuracy: 0.8214\n",
      "Epoch 274/300\n",
      "1/1 - 0s - loss: 0.4581 - accuracy: 0.8214\n",
      "Epoch 275/300\n",
      "1/1 - 0s - loss: 0.4555 - accuracy: 0.8214\n",
      "Epoch 276/300\n",
      "1/1 - 0s - loss: 0.4533 - accuracy: 0.8214\n",
      "Epoch 277/300\n",
      "1/1 - 0s - loss: 0.4508 - accuracy: 0.8214\n",
      "Epoch 278/300\n",
      "1/1 - 0s - loss: 0.4484 - accuracy: 0.8214\n",
      "Epoch 279/300\n",
      "1/1 - 0s - loss: 0.4462 - accuracy: 0.8214\n",
      "Epoch 280/300\n",
      "1/1 - 0s - loss: 0.4438 - accuracy: 0.8214\n",
      "Epoch 281/300\n",
      "1/1 - 0s - loss: 0.4417 - accuracy: 0.8214\n",
      "Epoch 282/300\n",
      "1/1 - 0s - loss: 0.4394 - accuracy: 0.8214\n",
      "Epoch 283/300\n",
      "1/1 - 0s - loss: 0.4372 - accuracy: 0.8214\n",
      "Epoch 284/300\n",
      "1/1 - 0s - loss: 0.4351 - accuracy: 0.8214\n",
      "Epoch 285/300\n",
      "1/1 - 0s - loss: 0.4329 - accuracy: 0.8214\n",
      "Epoch 286/300\n",
      "1/1 - 0s - loss: 0.4309 - accuracy: 0.8214\n",
      "Epoch 287/300\n",
      "1/1 - 0s - loss: 0.4288 - accuracy: 0.8214\n",
      "Epoch 288/300\n",
      "1/1 - 0s - loss: 0.4267 - accuracy: 0.8214\n",
      "Epoch 289/300\n",
      "1/1 - 0s - loss: 0.4248 - accuracy: 0.8214\n",
      "Epoch 290/300\n",
      "1/1 - 0s - loss: 0.4228 - accuracy: 0.8214\n"
     ]
    },
    {
     "name": "stdout",
     "output_type": "stream",
     "text": [
      "Epoch 291/300\n",
      "1/1 - 0s - loss: 0.4208 - accuracy: 0.8214\n",
      "Epoch 292/300\n",
      "1/1 - 0s - loss: 0.4189 - accuracy: 0.8214\n",
      "Epoch 293/300\n",
      "1/1 - 0s - loss: 0.4169 - accuracy: 0.8214\n",
      "Epoch 294/300\n",
      "1/1 - 0s - loss: 0.4151 - accuracy: 0.8214\n",
      "Epoch 295/300\n",
      "1/1 - 0s - loss: 0.4132 - accuracy: 0.8214\n",
      "Epoch 296/300\n",
      "1/1 - 0s - loss: 0.4114 - accuracy: 0.8214\n",
      "Epoch 297/300\n",
      "1/1 - 0s - loss: 0.4096 - accuracy: 0.8214\n",
      "Epoch 298/300\n",
      "1/1 - 0s - loss: 0.4078 - accuracy: 0.8214\n",
      "Epoch 299/300\n",
      "1/1 - 0s - loss: 0.4060 - accuracy: 0.8214\n",
      "Epoch 300/300\n",
      "1/1 - 0s - loss: 0.4042 - accuracy: 0.8214\n"
     ]
    }
   ],
   "source": [
    "from tensorflow.keras.models import Sequential\n",
    "from tensorflow.keras.layers import SimpleRNN, Dense, LSTM\n",
    "\n",
    "# RNN 모델 생성\n",
    "model = Sequential()\n",
    "# 희소행렬로 변환 (10:벡터)\n",
    "model.add(Embedding(vocab_size, 10, input_length=X.shape[1]))\n",
    "model.add(LSTM(32))\n",
    "model.add(Dense(vocab_size, activation=\"softmax\"))\n",
    "\n",
    "# 모델 학습과정 설정\n",
    "model.compile(loss=\"categorical_crossentropy\", optimizer=\"adam\", \n",
    "              metrics=['accuracy'])\n",
    "\n",
    "# 학습시키기\n",
    "hist = model.fit(X, Y, epochs=300, verbose=2)"
   ]
  }
 ],
 "metadata": {
  "kernelspec": {
   "display_name": "Python 3",
   "language": "python",
   "name": "python3"
  },
  "language_info": {
   "codemirror_mode": {
    "name": "ipython",
    "version": 3
   },
   "file_extension": ".py",
   "mimetype": "text/x-python",
   "name": "python",
   "nbconvert_exporter": "python",
   "pygments_lexer": "ipython3",
   "version": "3.8.3"
  },
  "toc": {
   "base_numbering": "4",
   "nav_menu": {},
   "number_sections": true,
   "sideBar": true,
   "skip_h1_title": false,
   "title_cell": "Table of Contents",
   "title_sidebar": "Contents",
   "toc_cell": false,
   "toc_position": {},
   "toc_section_display": true,
   "toc_window_display": false
  },
  "varInspector": {
   "cols": {
    "lenName": 16,
    "lenType": 16,
    "lenVar": 40
   },
   "kernels_config": {
    "python": {
     "delete_cmd_postfix": "",
     "delete_cmd_prefix": "del ",
     "library": "var_list.py",
     "varRefreshCmd": "print(var_dic_list())"
    },
    "r": {
     "delete_cmd_postfix": ") ",
     "delete_cmd_prefix": "rm(",
     "library": "var_list.r",
     "varRefreshCmd": "cat(var_dic_list()) "
    }
   },
   "types_to_exclude": [
    "module",
    "function",
    "builtin_function_or_method",
    "instance",
    "_Feature"
   ],
   "window_display": false
  }
 },
 "nbformat": 4,
 "nbformat_minor": 4
}
