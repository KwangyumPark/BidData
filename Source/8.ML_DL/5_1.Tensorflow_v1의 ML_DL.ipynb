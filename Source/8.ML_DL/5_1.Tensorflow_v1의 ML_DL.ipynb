{
 "cells": [
  {
   "cell_type": "markdown",
   "metadata": {},
   "source": [
    "21.03.23 ML_DL Tensorflow Ver.1 사용해서 분석하기"
   ]
  },
  {
   "cell_type": "markdown",
   "metadata": {},
   "source": [
    "# Tensorflow_Ver.1에서의 ML_DL"
   ]
  },
  {
   "cell_type": "markdown",
   "metadata": {},
   "source": [
    "## multinomial classification(3개이상 그룹)"
   ]
  },
  {
   "cell_type": "code",
   "execution_count": 12,
   "metadata": {
    "ExecuteTime": {
     "end_time": "2021-03-23T03:27:00.753844Z",
     "start_time": "2021-03-23T03:26:57.957976Z"
    }
   },
   "outputs": [
    {
     "name": "stdout",
     "output_type": "stream",
     "text": [
      "300번째 cost : 2.2000772953033447\n",
      "600번째 cost : 1.6827433109283447\n",
      "900번째 cost : 1.3214807510375977\n",
      "1200번째 cost : 1.0687787532806396\n",
      "1500번째 cost : 0.8274825811386108\n",
      "1800번째 cost : 0.5589641332626343\n",
      "2100번째 cost : 0.051173750311136246\n",
      "2400번째 cost : 0.046326618641614914\n",
      "2700번째 cost : 0.042815469205379486\n",
      "3000번째 cost : 0.040038976818323135\n",
      "3300번째 cost : 0.037729229778051376\n",
      "3600번째 cost : 0.03574393317103386\n",
      "3900번째 cost : 0.03399952873587608\n",
      "4200번째 cost : 0.0324433334171772\n",
      "4500번째 cost : 0.03103957138955593\n",
      "4800번째 cost : 0.02976263128221035\n",
      "5100번째 cost : 0.028593355789780617\n",
      "5400번째 cost : 0.027517128735780716\n",
      "5700번째 cost : 0.026521963998675346\n",
      "6000번째 cost : 0.025598425418138504\n"
     ]
    }
   ],
   "source": [
    "# training data set(교안 pt.54)\n",
    "x_data = [[10,7,8,5],\n",
    "          [8,8,9,4],\n",
    "          [7,8,2,3],\n",
    "          [6,3,9,3],\n",
    "          [7,5,7,4],\n",
    "          [3,5,6,2],\n",
    "          [2,4,3,1]]\n",
    "# 종속변수는 multinomial classification에서는 원핫인코딩(교안pt.58)\n",
    "y_data =[[1, 0, 0],\n",
    "         [1, 0, 0],\n",
    "         [0, 1, 0],\n",
    "         [0, 1, 0],\n",
    "         [0, 1, 0],\n",
    "         [0, 0, 1],\n",
    "         [0, 0, 1]]\n",
    "# placeholder\n",
    "X = tf.placeholder(shape=[None, 4], dtype=tf.float32)\n",
    "Y = tf.placeholder(shape=[None, 3], dtype=tf.float32)\n",
    "\n",
    "# Weight(4x3행렬) , bias(3개)\n",
    "W = tf.Variable(tf.random_normal([4,3]), name=\"weight\")\n",
    "b = tf.Variable(tf.random_normal([3])  , name=\"bias\")\n",
    "\n",
    "# Hypothesis\n",
    "# logits = X @ W + b\n",
    "logits = tf.matmul(X, W) + b\n",
    "# H = tf.nn.sigmoid(logits)\n",
    "H = tf.nn.softmax(logits) # softmax분류분석 최종단계에서 결과의 합이 1이 되도록\n",
    "\n",
    "# cost function\n",
    "# cost = tf.reduce_mean(tf.square(H - Y))\n",
    "cost = tf.reduce_mean(tf.nn.softmax_cross_entropy_with_logits_v2(logits=logits,\n",
    "                                                        labels=Y))\n",
    "# train\n",
    "train = tf.train.GradientDescentOptimizer(learning_rate=0.1).minimize(cost)\n",
    "\n",
    "# session & 초기화\n",
    "sess = tf.Session()\n",
    "sess.run(tf.global_variables_initializer())\n",
    "\n",
    "# 학습\n",
    "for step in range(1, 6001):\n",
    "    _, cost_val = sess.run([train, cost], feed_dict={X:x_data, Y:y_data})\n",
    "    if step%300 == 0:\n",
    "        print(\"{}번째 cost : {}\".format(step, cost_val))"
   ]
  },
  {
   "cell_type": "code",
   "execution_count": 13,
   "metadata": {
    "ExecuteTime": {
     "end_time": "2021-03-23T03:27:10.996115Z",
     "start_time": "2021-03-23T03:27:10.869928Z"
    }
   },
   "outputs": [
    {
     "name": "stdout",
     "output_type": "stream",
     "text": [
      "[[0.97757614 0.01979787 0.00262603]]\n",
      "[0]\n"
     ]
    }
   ],
   "source": [
    "# 예측\n",
    "result = sess.run(H, feed_dict={X:[[8,8,9,4]]})\n",
    "print(result)\n",
    "print(result.argmax(axis=1)) # 0번째 열만 1"
   ]
  },
  {
   "cell_type": "code",
   "execution_count": 14,
   "metadata": {
    "ExecuteTime": {
     "end_time": "2021-03-23T03:27:22.787063Z",
     "start_time": "2021-03-23T03:27:22.660790Z"
    }
   },
   "outputs": [
    {
     "name": "stdout",
     "output_type": "stream",
     "text": [
      "100.0 %\n"
     ]
    }
   ],
   "source": [
    "# accuracy 측정.\n",
    "# H => 0.97 0.19 0.002을 경우 H.argmax => 0\n",
    "# Y -> 1    0    0    을 경우 Y.argmax => 0\n",
    "predict = tf.argmax(H, axis=1) # 어떤 열의 값이 제일 큰지 index반환\n",
    "correct = tf.equal(predict, tf.argmax(Y, 1))\n",
    "# print(sess.run(correct, feed_dict={X:x_data, Y:y_data}))\n",
    "accuracy = tf.reduce_mean(tf.cast(correct, dtype=tf.float32))\n",
    "print(sess.run(accuracy, feed_dict={X:x_data, Y:y_data})*100, '%')"
   ]
  },
  {
   "cell_type": "markdown",
   "metadata": {},
   "source": [
    "## XOR(교안 p77)"
   ]
  },
  {
   "cell_type": "code",
   "execution_count": 19,
   "metadata": {
    "ExecuteTime": {
     "end_time": "2021-03-23T03:37:12.130209Z",
     "start_time": "2021-03-23T03:37:11.011559Z"
    }
   },
   "outputs": [
    {
     "name": "stdout",
     "output_type": "stream",
     "text": [
      "300번째 cost : 0.7366209626197815\n",
      "600번째 cost : 0.7234445810317993\n",
      "900번째 cost : 0.7145653963088989\n",
      "1200번째 cost : 0.708294153213501\n",
      "1500번째 cost : 0.7038532495498657\n",
      "1800번째 cost : 0.7007167935371399\n",
      "2100번째 cost : 0.6985057592391968\n",
      "2400번째 cost : 0.6969480514526367\n",
      "2700번째 cost : 0.6958501935005188\n",
      "3000번째 cost : 0.6950753927230835\n",
      "정확도 : 0.5\n"
     ]
    }
   ],
   "source": [
    "# training data set\n",
    "x_data = [[0,0], [0,1], [1,0], [1,1]]\n",
    "y_data = [[0],   [1],   [1],   [0]]\n",
    "# placeholder\n",
    "X = tf.placeholder(shape=[None, 2], dtype=tf.float32)\n",
    "Y = tf.placeholder(shape=[None, 1], dtype=tf.float32)\n",
    "\n",
    "# Weight & bias\n",
    "W = tf.Variable(tf.random_normal([2,1]), name=\"weight\")\n",
    "b = tf.Variable(tf.random_normal([1]), name=\"bias\")\n",
    "# Hypothesis\n",
    "# H = X@W + b\n",
    "logits = tf.matmul(X, W) + b\n",
    "H = tf.sigmoid(logits)\n",
    "\n",
    "# cost\n",
    "cost = tf.reduce_mean(tf.nn.sigmoid_cross_entropy_with_logits(logits=logits,\n",
    "                                                             labels=Y))\n",
    "# train\n",
    "train = tf.train.GradientDescentOptimizer(learning_rate=0.01).minimize(cost)\n",
    "# Session & 초기화\n",
    "sess = tf.Session()\n",
    "sess.run(tf.global_variables_initializer())\n",
    "# 학습\n",
    "for step in range(1, 3001):\n",
    "    _, cost_val = sess.run([train, cost], feed_dict={X:x_data, Y:y_data})\n",
    "    if step%300 == 0:\n",
    "        print(\"{}번째 cost : {}\".format(step, cost_val))\n",
    "# accuracy 측정\n",
    "predict = tf.cast(H>0.5, dtype=tf.float32)\n",
    "correct = tf.equal(predict, Y) # False True False True\n",
    "accuracy = tf.reduce_mean(tf.cast(correct, dtype=tf.float32))\n",
    "print('정확도 :', sess.run(accuracy, feed_dict={X:x_data, Y:y_data}))  "
   ]
  },
  {
   "cell_type": "code",
   "execution_count": 20,
   "metadata": {
    "ExecuteTime": {
     "end_time": "2021-03-23T03:37:36.916138Z",
     "start_time": "2021-03-23T03:37:36.882255Z"
    }
   },
   "outputs": [
    {
     "name": "stdout",
     "output_type": "stream",
     "text": [
      "[[0.]\n",
      " [0.]\n",
      " [1.]\n",
      " [1.]]\n"
     ]
    }
   ],
   "source": [
    "# predict\n",
    "predict = tf.cast(H>0.5, dtype=tf.float32)\n",
    "print(sess.run(predict, feed_dict={X:x_data} ) )"
   ]
  },
  {
   "cell_type": "markdown",
   "metadata": {},
   "source": [
    "## Deep Learning XOR 예제"
   ]
  },
  {
   "cell_type": "code",
   "execution_count": 21,
   "metadata": {
    "ExecuteTime": {
     "end_time": "2021-03-23T03:38:09.172099Z",
     "start_time": "2021-03-23T03:38:07.819726Z"
    }
   },
   "outputs": [
    {
     "name": "stdout",
     "output_type": "stream",
     "text": [
      "300번째 cost : 0.756483256816864\n",
      "600번째 cost : 0.7134456634521484\n",
      "900번째 cost : 0.7041211128234863\n",
      "1200번째 cost : 0.6970817446708679\n",
      "1500번째 cost : 0.6912665367126465\n",
      "1800번째 cost : 0.6862974762916565\n",
      "2100번째 cost : 0.6818861365318298\n",
      "2400번째 cost : 0.6778103113174438\n",
      "2700번째 cost : 0.6739010810852051\n",
      "3000번째 cost : 0.670031726360321\n",
      "정확도 : 0.5\n"
     ]
    }
   ],
   "source": [
    "# training data set\n",
    "x_data = [[0,0], [0,1], [1,0], [1,1]]\n",
    "y_data = [[0],   [1],   [1],   [0]]\n",
    "# placeholder\n",
    "X = tf.placeholder(shape=[None, 2], dtype=tf.float32)\n",
    "Y = tf.placeholder(shape=[None, 1], dtype=tf.float32)\n",
    "\n",
    "# layer 추가\n",
    "# Weight & bias(layer1= 입력2개 출력 4)\n",
    "W1 = tf.Variable(tf.random_normal([2,4]), name=\"weight1\")\n",
    "b1 = tf.Variable(tf.random_normal([4]), name=\"bias1\")\n",
    "layer1 = tf.sigmoid(tf.matmul(X, W1) + b1)\n",
    "# Weight & bias(layer2 = 입력4개, 출력1개)\n",
    "W2 = tf.Variable(tf.random_normal([4,1]), name=\"weight2\")\n",
    "b2 = tf.Variable(tf.random_normal([1]), name=\"bias2\")\n",
    "\n",
    "# Hypothesis\n",
    "logits = tf.matmul(layer1, W2) + b2\n",
    "H = tf.sigmoid(logits)\n",
    "\n",
    "# cost\n",
    "cost = tf.reduce_mean(tf.nn.sigmoid_cross_entropy_with_logits(logits=logits,\n",
    "                                                             labels=Y))\n",
    "# train\n",
    "train = tf.train.GradientDescentOptimizer(learning_rate=0.01).minimize(cost)\n",
    "\n",
    "# Session & 초기화\n",
    "sess = tf.Session()\n",
    "sess.run(tf.global_variables_initializer())\n",
    "\n",
    "# 학습\n",
    "for step in range(1, 3001):\n",
    "    _, cost_val = sess.run([train, cost], feed_dict={X:x_data, Y:y_data})\n",
    "    if step%300 == 0:\n",
    "        print(\"{}번째 cost : {}\".format(step, cost_val))\n",
    "\n",
    "# accuracy 측정\n",
    "predict = tf.cast(H>0.5, dtype=tf.float32)\n",
    "correct = tf.equal(predict, Y) # False True False True\n",
    "accuracy = tf.reduce_mean(tf.cast(correct, dtype=tf.float32))\n",
    "print('정확도 :', sess.run(accuracy, feed_dict={X:x_data, Y:y_data}))"
   ]
  },
  {
   "cell_type": "code",
   "execution_count": 23,
   "metadata": {
    "ExecuteTime": {
     "end_time": "2021-03-23T03:47:59.920518Z",
     "start_time": "2021-03-23T03:47:58.362534Z"
    }
   },
   "outputs": [
    {
     "name": "stdout",
     "output_type": "stream",
     "text": [
      "300번째 cost : 0.6979430317878723\n",
      "600번째 cost : 0.6919685006141663\n",
      "900번째 cost : 0.6865856647491455\n",
      "1200번째 cost : 0.6815888285636902\n",
      "1500번째 cost : 0.6768162250518799\n",
      "1800번째 cost : 0.6721378564834595\n",
      "2100번째 cost : 0.6674453020095825\n",
      "2400번째 cost : 0.6626453995704651\n",
      "2700번째 cost : 0.6576552987098694\n",
      "3000번째 cost : 0.6523995399475098\n",
      "정확도 : 0.75\n"
     ]
    }
   ],
   "source": [
    "# training data set\n",
    "x_data = [[0,0], [0,1], [1,0], [1,1]]\n",
    "y_data = [[0],   [1],   [1],   [0]]\n",
    "# placeholder\n",
    "X = tf.placeholder(shape=[None, 2], dtype=tf.float32)\n",
    "Y = tf.placeholder(shape=[None, 1], dtype=tf.float32)\n",
    "\n",
    "# layer 추가\n",
    "# Weight & bias(layer1= 입력2개 출력 10)\n",
    "W1 = tf.Variable(tf.random_normal([2,10]), name=\"weight1\")\n",
    "b1 = tf.Variable(tf.random_normal([10]), name=\"bias1\")\n",
    "layer1 = tf.sigmoid(tf.matmul(X, W1) + b1)\n",
    "# Weight & bias(layer2 = 입력10개, 출력1개)\n",
    "W2 = tf.Variable(tf.random_normal([10,20]), name=\"weight2\")\n",
    "b2 = tf.Variable(tf.random_normal([20]), name=\"bias2\")\n",
    "layer2 = tf.sigmoid(tf.matmul(layer1, W2) + b2)\n",
    "# Weight & bias(layer3 = 입력20개, 출력10개)\n",
    "W3 = tf.Variable(tf.random_normal([20,10]), name=\"weight3\")\n",
    "b3 = tf.Variable(tf.random_normal([10]), name=\"bias3\")\n",
    "layer3 = tf.sigmoid(tf.matmul(layer2, W3) + b3)\n",
    "# Weight & bias(output layer = 입력10개, 출력1개)\n",
    "W4 = tf.Variable(tf.random_normal([10,1]), name=\"weight4\")\n",
    "b4 = tf.Variable(tf.random_normal([1]), name=\"bias4\")\n",
    "\n",
    "# Hypothesis\n",
    "logits = tf.matmul(layer3, W4) + b4\n",
    "H = tf.sigmoid(logits)\n",
    "\n",
    "# cost\n",
    "cost = tf.reduce_mean(tf.nn.sigmoid_cross_entropy_with_logits(logits=logits,\n",
    "                                                             labels=Y))\n",
    "# train\n",
    "train = tf.train.GradientDescentOptimizer(learning_rate=0.01).minimize(cost)\n",
    "\n",
    "# Session & 초기화\n",
    "sess = tf.Session()\n",
    "sess.run(tf.global_variables_initializer())\n",
    "\n",
    "# 학습\n",
    "for step in range(1, 3001):\n",
    "    _, cost_val = sess.run([train, cost], feed_dict={X:x_data, Y:y_data})\n",
    "    if step%300 == 0:\n",
    "        print(\"{}번째 cost : {}\".format(step, cost_val))\n",
    "\n",
    "# accuracy 측정\n",
    "predict = tf.cast(H>0.5, dtype=tf.float32)\n",
    "correct = tf.equal(predict, Y) # False True False True\n",
    "accuracy = tf.reduce_mean(tf.cast(correct, dtype=tf.float32))\n",
    "print('정확도 :', sess.run(accuracy, feed_dict={X:x_data, Y:y_data}))"
   ]
  },
  {
   "cell_type": "code",
   "execution_count": 24,
   "metadata": {
    "ExecuteTime": {
     "end_time": "2021-03-23T05:26:29.215991Z",
     "start_time": "2021-03-23T05:26:27.616155Z"
    }
   },
   "outputs": [
    {
     "name": "stdout",
     "output_type": "stream",
     "text": [
      "300번째 cost : 0.014634678140282631\n",
      "600번째 cost : 0.005764896050095558\n",
      "900번째 cost : 0.003401009598746896\n",
      "1200번째 cost : 0.002347290050238371\n",
      "1500번째 cost : 0.001764932880178094\n",
      "1800번째 cost : 0.0014005909906700253\n",
      "2100번째 cost : 0.00115313904825598\n",
      "2400번째 cost : 0.000976618961431086\n",
      "2700번째 cost : 0.000845576636493206\n",
      "3000번째 cost : 0.0007435418083332479\n",
      "정확도 : 1.0\n"
     ]
    }
   ],
   "source": [
    "# training data set\n",
    "x_data = [[0,0], [0,1], [1,0], [1,1]]\n",
    "y_data = [[0],   [1],   [1],   [0]]\n",
    "# placeholder\n",
    "X = tf.placeholder(shape=[None, 2], dtype=tf.float32)\n",
    "Y = tf.placeholder(shape=[None, 1], dtype=tf.float32)\n",
    "\n",
    "# layer 추가\n",
    "# Weight & bias(layer1= 입력2개 출력 10)\n",
    "W1 = tf.Variable(tf.random_normal([2,10]), name=\"weight1\")\n",
    "b1 = tf.Variable(tf.random_normal([10]), name=\"bias1\")\n",
    "layer1 = tf.nn.relu(tf.matmul(X, W1) + b1)\n",
    "\n",
    "# Weight & bias(layer2 = 입력10개, 출력20개)\n",
    "W2 = tf.Variable(tf.random_normal([10,20]), name=\"weight2\")\n",
    "b2 = tf.Variable(tf.random_normal([20]), name=\"bias2\")\n",
    "layer2 = tf.nn.relu(tf.matmul(layer1, W2) + b2)\n",
    "\n",
    "# Weight & bias(layer3 = 입력20개, 출력 10)\n",
    "W3 = tf.Variable(tf.random_normal([20,10]), name=\"weight3\")\n",
    "b3 = tf.Variable(tf.random_normal([10]), name=\"bias3\")\n",
    "layer3 = tf.nn.relu(tf.matmul(layer2, W3)+b3)\n",
    "\n",
    "# Weight & bias(output layer = 입력10개, 출력1)\n",
    "W4 = tf.Variable(tf.random_normal([10,1]), name=\"weight4\")\n",
    "b4 = tf.Variable(tf.random_normal([1]), name=\"bias4\")\n",
    "\n",
    "# Hypothesis\n",
    "logits = tf.matmul(layer3, W4) + b4\n",
    "H = tf.sigmoid(logits)\n",
    "\n",
    "# cost\n",
    "cost = tf.reduce_mean(tf.nn.sigmoid_cross_entropy_with_logits(logits=logits,\n",
    "                                                             labels=Y))\n",
    "# train\n",
    "train = tf.train.GradientDescentOptimizer(learning_rate=0.01).minimize(cost)\n",
    "# Session & 초기화\n",
    "sess = tf.Session()\n",
    "sess.run(tf.global_variables_initializer())\n",
    "# 학습\n",
    "for step in range(1, 3001):\n",
    "    _, cost_val = sess.run([train, cost], feed_dict={X:x_data, Y:y_data})\n",
    "    if step%300 == 0:\n",
    "        print(\"{}번째 cost : {}\".format(step, cost_val))\n",
    "# accuracy 측정\n",
    "predict = tf.cast(H>0.5, dtype=tf.float32)\n",
    "correct = tf.equal(predict, Y) # False True False True\n",
    "accuracy = tf.reduce_mean(tf.cast(correct, dtype=tf.float32))\n",
    "print('정확도 :', sess.run(accuracy, feed_dict={X:x_data, Y:y_data}))"
   ]
  }
 ],
 "metadata": {
  "kernelspec": {
   "display_name": "Python 3",
   "language": "python",
   "name": "python3"
  },
  "language_info": {
   "codemirror_mode": {
    "name": "ipython",
    "version": 3
   },
   "file_extension": ".py",
   "mimetype": "text/x-python",
   "name": "python",
   "nbconvert_exporter": "python",
   "pygments_lexer": "ipython3",
   "version": "3.8.3"
  },
  "toc": {
   "base_numbering": "5",
   "nav_menu": {},
   "number_sections": true,
   "sideBar": true,
   "skip_h1_title": false,
   "title_cell": "Table of Contents",
   "title_sidebar": "Contents",
   "toc_cell": false,
   "toc_position": {
    "height": "795.556px",
    "left": "28px",
    "top": "146.733px",
    "width": "211.997px"
   },
   "toc_section_display": true,
   "toc_window_display": false
  },
  "varInspector": {
   "cols": {
    "lenName": 16,
    "lenType": 16,
    "lenVar": 40
   },
   "kernels_config": {
    "python": {
     "delete_cmd_postfix": "",
     "delete_cmd_prefix": "del ",
     "library": "var_list.py",
     "varRefreshCmd": "print(var_dic_list())"
    },
    "r": {
     "delete_cmd_postfix": ") ",
     "delete_cmd_prefix": "rm(",
     "library": "var_list.r",
     "varRefreshCmd": "cat(var_dic_list()) "
    }
   },
   "types_to_exclude": [
    "module",
    "function",
    "builtin_function_or_method",
    "instance",
    "_Feature"
   ],
   "window_display": false
  }
 },
 "nbformat": 4,
 "nbformat_minor": 4
}
