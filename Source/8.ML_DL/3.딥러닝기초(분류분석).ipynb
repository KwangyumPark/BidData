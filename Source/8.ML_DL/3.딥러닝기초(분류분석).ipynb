{
 "cells": [
  {
   "cell_type": "markdown",
   "metadata": {},
   "source": [
    "21.03.19 ML_DL 딥러닝기초(분류분석)"
   ]
  },
  {
   "cell_type": "code",
   "execution_count": 1,
   "metadata": {
    "ExecuteTime": {
     "end_time": "2021-03-21T10:42:20.887205Z",
     "start_time": "2021-03-21T10:42:17.990383Z"
    }
   },
   "outputs": [],
   "source": [
    "import tensorflow.keras.utils as utils # 분류분석시 원핫인코딩 시\n",
    "from tensorflow.keras.models import Sequential # 모델 생성 시\n",
    "from tensorflow.keras.layers import Dense, Activation \n",
    "import numpy as np"
   ]
  },
  {
   "cell_type": "markdown",
   "metadata": {},
   "source": [
    "# 데이터 셋"
   ]
  },
  {
   "cell_type": "code",
   "execution_count": 2,
   "metadata": {
    "ExecuteTime": {
     "end_time": "2021-03-21T10:42:20.902929Z",
     "start_time": "2021-03-21T10:42:20.888967Z"
    }
   },
   "outputs": [],
   "source": [
    "# 학습데이터=훈련데이터\n",
    "X_train = np.array([1,2,3,4,5,6,7,8,9]*10)\n",
    "Y_train = np.array([2,4,6,8,10,12,14,16,18]*10)\n",
    "# 검증데이터, 테스트데이터\n",
    "X_val = np.array([1,2,3,4,5,6,7,8,9])\n",
    "Y_val = np.array([2,4,6,8,10,12,14,16,18])"
   ]
  },
  {
   "cell_type": "code",
   "execution_count": 3,
   "metadata": {
    "ExecuteTime": {
     "end_time": "2021-03-21T10:42:20.917893Z",
     "start_time": "2021-03-21T10:42:20.904958Z"
    }
   },
   "outputs": [
    {
     "data": {
      "text/plain": [
       "array([ 2,  4,  6,  8, 10, 12, 14, 16, 18])"
      ]
     },
     "execution_count": 3,
     "metadata": {},
     "output_type": "execute_result"
    }
   ],
   "source": [
    "Y_val"
   ]
  },
  {
   "cell_type": "code",
   "execution_count": 4,
   "metadata": {
    "ExecuteTime": {
     "end_time": "2021-03-21T10:42:20.933847Z",
     "start_time": "2021-03-21T10:42:20.919886Z"
    }
   },
   "outputs": [],
   "source": [
    "# 분류분석을 하기 위해 target데이터를 라벨링 전환(원 핫 인코딩)\n",
    "Y_train = utils.to_categorical(Y_train, 19)\n",
    "Y_val   = utils.to_categorical(Y_val, 19)"
   ]
  },
  {
   "cell_type": "code",
   "execution_count": 5,
   "metadata": {
    "ExecuteTime": {
     "end_time": "2021-03-21T10:42:20.949832Z",
     "start_time": "2021-03-21T10:42:20.935842Z"
    }
   },
   "outputs": [
    {
     "data": {
      "text/plain": [
       "array([[0., 0., 1., 0., 0., 0., 0., 0., 0., 0., 0., 0., 0., 0., 0., 0.,\n",
       "        0., 0., 0.],\n",
       "       [0., 0., 0., 0., 1., 0., 0., 0., 0., 0., 0., 0., 0., 0., 0., 0.,\n",
       "        0., 0., 0.],\n",
       "       [0., 0., 0., 0., 0., 0., 1., 0., 0., 0., 0., 0., 0., 0., 0., 0.,\n",
       "        0., 0., 0.],\n",
       "       [0., 0., 0., 0., 0., 0., 0., 0., 1., 0., 0., 0., 0., 0., 0., 0.,\n",
       "        0., 0., 0.],\n",
       "       [0., 0., 0., 0., 0., 0., 0., 0., 0., 0., 1., 0., 0., 0., 0., 0.,\n",
       "        0., 0., 0.],\n",
       "       [0., 0., 0., 0., 0., 0., 0., 0., 0., 0., 0., 0., 1., 0., 0., 0.,\n",
       "        0., 0., 0.],\n",
       "       [0., 0., 0., 0., 0., 0., 0., 0., 0., 0., 0., 0., 0., 0., 1., 0.,\n",
       "        0., 0., 0.],\n",
       "       [0., 0., 0., 0., 0., 0., 0., 0., 0., 0., 0., 0., 0., 0., 0., 0.,\n",
       "        1., 0., 0.],\n",
       "       [0., 0., 0., 0., 0., 0., 0., 0., 0., 0., 0., 0., 0., 0., 0., 0.,\n",
       "        0., 0., 1.]], dtype=float32)"
      ]
     },
     "execution_count": 5,
     "metadata": {},
     "output_type": "execute_result"
    }
   ],
   "source": [
    "Y_val"
   ]
  },
  {
   "cell_type": "markdown",
   "metadata": {},
   "source": [
    "# 모델 구성하기"
   ]
  },
  {
   "cell_type": "code",
   "execution_count": 6,
   "metadata": {
    "ExecuteTime": {
     "end_time": "2021-03-21T10:42:21.013640Z",
     "start_time": "2021-03-21T10:42:20.951798Z"
    }
   },
   "outputs": [],
   "source": [
    "model = Sequential()\n",
    "model.add(Dense(units=38, input_dim=1, activation=\"sigmoid\"))\n",
    "model.add(Dense(units=64, activation=\"elu\"))\n",
    "model.add(Dense(units=32, activation=\"elu\"))\n",
    "model.add(Dense(units=19, activation=\"softmax\")) # softmax : 모든 출력결과의 합이 1"
   ]
  },
  {
   "cell_type": "markdown",
   "metadata": {},
   "source": [
    "# 모델 학습과정 설정"
   ]
  },
  {
   "cell_type": "code",
   "execution_count": 7,
   "metadata": {
    "ExecuteTime": {
     "end_time": "2021-03-21T10:42:21.029644Z",
     "start_time": "2021-03-21T10:42:21.015638Z"
    }
   },
   "outputs": [],
   "source": [
    "model.compile(loss='categorical_crossentropy', optimizer='sgd',\n",
    "             metrics=['accuracy'])\n"
   ]
  },
  {
   "cell_type": "markdown",
   "metadata": {},
   "source": [
    "# 모델 학습 시키기"
   ]
  },
  {
   "cell_type": "code",
   "execution_count": 8,
   "metadata": {
    "ExecuteTime": {
     "end_time": "2021-03-21T10:42:37.029190Z",
     "start_time": "2021-03-21T10:42:21.033579Z"
    }
   },
   "outputs": [
    {
     "name": "stdout",
     "output_type": "stream",
     "text": [
      "Epoch 1/300\n",
      "9/9 - 2s - loss: 2.9845 - accuracy: 0.0000e+00 - val_loss: 2.9103 - val_accuracy: 0.0000e+00\n",
      "Epoch 2/300\n",
      "9/9 - 0s - loss: 2.8763 - accuracy: 0.0000e+00 - val_loss: 2.8170 - val_accuracy: 0.0000e+00\n",
      "Epoch 3/300\n",
      "9/9 - 0s - loss: 2.7932 - accuracy: 0.1000 - val_loss: 2.7461 - val_accuracy: 0.2222\n",
      "Epoch 4/300\n",
      "9/9 - 0s - loss: 2.7282 - accuracy: 0.2000 - val_loss: 2.6888 - val_accuracy: 0.2222\n",
      "Epoch 5/300\n",
      "9/9 - 0s - loss: 2.6751 - accuracy: 0.1889 - val_loss: 2.6394 - val_accuracy: 0.1111\n",
      "Epoch 6/300\n",
      "9/9 - 0s - loss: 2.6294 - accuracy: 0.2222 - val_loss: 2.5965 - val_accuracy: 0.1111\n",
      "Epoch 7/300\n",
      "9/9 - 0s - loss: 2.5881 - accuracy: 0.1000 - val_loss: 2.5584 - val_accuracy: 0.1111\n",
      "Epoch 8/300\n",
      "9/9 - 0s - loss: 2.5551 - accuracy: 0.0222 - val_loss: 2.5232 - val_accuracy: 0.1111\n",
      "Epoch 9/300\n",
      "9/9 - 0s - loss: 2.5193 - accuracy: 0.0667 - val_loss: 2.4906 - val_accuracy: 0.1111\n",
      "Epoch 10/300\n",
      "9/9 - 0s - loss: 2.4873 - accuracy: 0.0444 - val_loss: 2.4596 - val_accuracy: 0.1111\n",
      "Epoch 11/300\n",
      "9/9 - 0s - loss: 2.4537 - accuracy: 0.0556 - val_loss: 2.4304 - val_accuracy: 0.1111\n",
      "Epoch 12/300\n",
      "9/9 - 0s - loss: 2.4325 - accuracy: 0.1111 - val_loss: 2.4026 - val_accuracy: 0.1111\n",
      "Epoch 13/300\n",
      "9/9 - 0s - loss: 2.4023 - accuracy: 0.1333 - val_loss: 2.3762 - val_accuracy: 0.1111\n",
      "Epoch 14/300\n",
      "9/9 - 0s - loss: 2.3761 - accuracy: 0.1444 - val_loss: 2.3509 - val_accuracy: 0.1111\n",
      "Epoch 15/300\n",
      "9/9 - 0s - loss: 2.3519 - accuracy: 0.1333 - val_loss: 2.3268 - val_accuracy: 0.1111\n",
      "Epoch 16/300\n",
      "9/9 - 0s - loss: 2.3334 - accuracy: 0.1000 - val_loss: 2.3039 - val_accuracy: 0.1111\n",
      "Epoch 17/300\n",
      "9/9 - 0s - loss: 2.3057 - accuracy: 0.2222 - val_loss: 2.2819 - val_accuracy: 0.1111\n",
      "Epoch 18/300\n",
      "9/9 - 0s - loss: 2.2857 - accuracy: 0.2556 - val_loss: 2.2610 - val_accuracy: 0.2222\n",
      "Epoch 19/300\n",
      "9/9 - 0s - loss: 2.2652 - accuracy: 0.1778 - val_loss: 2.2408 - val_accuracy: 0.3333\n",
      "Epoch 20/300\n",
      "9/9 - 0s - loss: 2.2437 - accuracy: 0.2444 - val_loss: 2.2215 - val_accuracy: 0.3333\n",
      "Epoch 21/300\n",
      "9/9 - 0s - loss: 2.2238 - accuracy: 0.2778 - val_loss: 2.2030 - val_accuracy: 0.3333\n",
      "Epoch 22/300\n",
      "9/9 - 0s - loss: 2.2034 - accuracy: 0.2444 - val_loss: 2.1852 - val_accuracy: 0.3333\n",
      "Epoch 23/300\n",
      "9/9 - 0s - loss: 2.1943 - accuracy: 0.3000 - val_loss: 2.1681 - val_accuracy: 0.2222\n",
      "Epoch 24/300\n",
      "9/9 - 0s - loss: 2.1732 - accuracy: 0.1556 - val_loss: 2.1515 - val_accuracy: 0.3333\n",
      "Epoch 25/300\n",
      "9/9 - 0s - loss: 2.1569 - accuracy: 0.2111 - val_loss: 2.1355 - val_accuracy: 0.2222\n",
      "Epoch 26/300\n",
      "9/9 - 0s - loss: 2.1433 - accuracy: 0.2111 - val_loss: 2.1199 - val_accuracy: 0.2222\n",
      "Epoch 27/300\n",
      "9/9 - 0s - loss: 2.1282 - accuracy: 0.1667 - val_loss: 2.1046 - val_accuracy: 0.2222\n",
      "Epoch 28/300\n",
      "9/9 - 0s - loss: 2.1130 - accuracy: 0.2111 - val_loss: 2.0896 - val_accuracy: 0.2222\n",
      "Epoch 29/300\n",
      "9/9 - 0s - loss: 2.0972 - accuracy: 0.2222 - val_loss: 2.0747 - val_accuracy: 0.2222\n",
      "Epoch 30/300\n",
      "9/9 - 0s - loss: 2.0832 - accuracy: 0.1444 - val_loss: 2.0601 - val_accuracy: 0.1111\n",
      "Epoch 31/300\n",
      "9/9 - 0s - loss: 2.0722 - accuracy: 0.1778 - val_loss: 2.0456 - val_accuracy: 0.2222\n",
      "Epoch 32/300\n",
      "9/9 - 0s - loss: 2.0527 - accuracy: 0.2111 - val_loss: 2.0311 - val_accuracy: 0.2222\n",
      "Epoch 33/300\n",
      "9/9 - 0s - loss: 2.0382 - accuracy: 0.2111 - val_loss: 2.0167 - val_accuracy: 0.2222\n",
      "Epoch 34/300\n",
      "9/9 - 0s - loss: 2.0279 - accuracy: 0.2000 - val_loss: 2.0025 - val_accuracy: 0.2222\n",
      "Epoch 35/300\n",
      "9/9 - 0s - loss: 2.0124 - accuracy: 0.1889 - val_loss: 1.9884 - val_accuracy: 0.2222\n",
      "Epoch 36/300\n",
      "9/9 - 0s - loss: 1.9999 - accuracy: 0.2111 - val_loss: 1.9744 - val_accuracy: 0.2222\n",
      "Epoch 37/300\n",
      "9/9 - 0s - loss: 1.9880 - accuracy: 0.2111 - val_loss: 1.9605 - val_accuracy: 0.2222\n",
      "Epoch 38/300\n",
      "9/9 - 0s - loss: 1.9763 - accuracy: 0.2000 - val_loss: 1.9470 - val_accuracy: 0.2222\n",
      "Epoch 39/300\n",
      "9/9 - 0s - loss: 1.9559 - accuracy: 0.1667 - val_loss: 1.9329 - val_accuracy: 0.2222\n",
      "Epoch 40/300\n",
      "9/9 - 0s - loss: 1.9435 - accuracy: 0.1889 - val_loss: 1.9191 - val_accuracy: 0.2222\n",
      "Epoch 41/300\n",
      "9/9 - 0s - loss: 1.9258 - accuracy: 0.2111 - val_loss: 1.9051 - val_accuracy: 0.2222\n",
      "Epoch 42/300\n",
      "9/9 - 0s - loss: 1.9177 - accuracy: 0.2111 - val_loss: 1.8912 - val_accuracy: 0.3333\n",
      "Epoch 43/300\n",
      "9/9 - 0s - loss: 1.9018 - accuracy: 0.1667 - val_loss: 1.8775 - val_accuracy: 0.3333\n",
      "Epoch 44/300\n",
      "9/9 - 0s - loss: 1.8905 - accuracy: 0.2444 - val_loss: 1.8641 - val_accuracy: 0.2222\n",
      "Epoch 45/300\n",
      "9/9 - 0s - loss: 1.8784 - accuracy: 0.1889 - val_loss: 1.8504 - val_accuracy: 0.3333\n",
      "Epoch 46/300\n",
      "9/9 - 0s - loss: 1.8652 - accuracy: 0.2667 - val_loss: 1.8369 - val_accuracy: 0.2222\n",
      "Epoch 47/300\n",
      "9/9 - 0s - loss: 1.8450 - accuracy: 0.2222 - val_loss: 1.8235 - val_accuracy: 0.4444\n",
      "Epoch 48/300\n",
      "9/9 - 0s - loss: 1.8385 - accuracy: 0.2444 - val_loss: 1.8104 - val_accuracy: 0.3333\n",
      "Epoch 49/300\n",
      "9/9 - 0s - loss: 1.8156 - accuracy: 0.2889 - val_loss: 1.7971 - val_accuracy: 0.3333\n",
      "Epoch 50/300\n",
      "9/9 - 0s - loss: 1.8107 - accuracy: 0.2667 - val_loss: 1.7832 - val_accuracy: 0.2222\n",
      "Epoch 51/300\n",
      "9/9 - 0s - loss: 1.7917 - accuracy: 0.1889 - val_loss: 1.7701 - val_accuracy: 0.3333\n",
      "Epoch 52/300\n",
      "9/9 - 0s - loss: 1.7834 - accuracy: 0.2444 - val_loss: 1.7568 - val_accuracy: 0.3333\n",
      "Epoch 53/300\n",
      "9/9 - 0s - loss: 1.7696 - accuracy: 0.2000 - val_loss: 1.7440 - val_accuracy: 0.3333\n",
      "Epoch 54/300\n",
      "9/9 - 0s - loss: 1.7582 - accuracy: 0.2556 - val_loss: 1.7316 - val_accuracy: 0.3333\n",
      "Epoch 55/300\n",
      "9/9 - 0s - loss: 1.7406 - accuracy: 0.3111 - val_loss: 1.7183 - val_accuracy: 0.4444\n",
      "Epoch 56/300\n",
      "9/9 - 0s - loss: 1.7307 - accuracy: 0.3000 - val_loss: 1.7054 - val_accuracy: 0.4444\n",
      "Epoch 57/300\n",
      "9/9 - 0s - loss: 1.7170 - accuracy: 0.2667 - val_loss: 1.6926 - val_accuracy: 0.4444\n",
      "Epoch 58/300\n",
      "9/9 - 0s - loss: 1.7044 - accuracy: 0.3778 - val_loss: 1.6804 - val_accuracy: 0.3333\n",
      "Epoch 59/300\n",
      "9/9 - 0s - loss: 1.6919 - accuracy: 0.2444 - val_loss: 1.6680 - val_accuracy: 0.2222\n",
      "Epoch 60/300\n",
      "9/9 - 0s - loss: 1.6845 - accuracy: 0.2000 - val_loss: 1.6556 - val_accuracy: 0.3333\n",
      "Epoch 61/300\n",
      "9/9 - 0s - loss: 1.6792 - accuracy: 0.3111 - val_loss: 1.6444 - val_accuracy: 0.2222\n",
      "Epoch 62/300\n",
      "9/9 - 0s - loss: 1.6569 - accuracy: 0.3333 - val_loss: 1.6323 - val_accuracy: 0.2222\n",
      "Epoch 63/300\n",
      "9/9 - 0s - loss: 1.6505 - accuracy: 0.3000 - val_loss: 1.6200 - val_accuracy: 0.3333\n",
      "Epoch 64/300\n",
      "9/9 - 0s - loss: 1.6326 - accuracy: 0.3889 - val_loss: 1.6082 - val_accuracy: 0.3333\n",
      "Epoch 65/300\n",
      "9/9 - 0s - loss: 1.6276 - accuracy: 0.2889 - val_loss: 1.5970 - val_accuracy: 0.3333\n",
      "Epoch 66/300\n",
      "9/9 - 0s - loss: 1.6070 - accuracy: 0.3111 - val_loss: 1.5849 - val_accuracy: 0.5556\n",
      "Epoch 67/300\n",
      "9/9 - 0s - loss: 1.5985 - accuracy: 0.3667 - val_loss: 1.5740 - val_accuracy: 0.4444\n",
      "Epoch 68/300\n",
      "9/9 - 0s - loss: 1.5870 - accuracy: 0.3889 - val_loss: 1.5629 - val_accuracy: 0.4444\n",
      "Epoch 69/300\n",
      "9/9 - 0s - loss: 1.5869 - accuracy: 0.3111 - val_loss: 1.5515 - val_accuracy: 0.4444\n",
      "Epoch 70/300\n",
      "9/9 - 0s - loss: 1.5696 - accuracy: 0.4556 - val_loss: 1.5405 - val_accuracy: 0.5556\n",
      "Epoch 71/300\n",
      "9/9 - 0s - loss: 1.5567 - accuracy: 0.4333 - val_loss: 1.5299 - val_accuracy: 0.6667\n",
      "Epoch 72/300\n",
      "9/9 - 0s - loss: 1.5454 - accuracy: 0.4333 - val_loss: 1.5197 - val_accuracy: 0.5556\n",
      "Epoch 73/300\n",
      "9/9 - 0s - loss: 1.5354 - accuracy: 0.3889 - val_loss: 1.5079 - val_accuracy: 0.5556\n",
      "Epoch 74/300\n",
      "9/9 - 0s - loss: 1.5285 - accuracy: 0.5444 - val_loss: 1.4971 - val_accuracy: 0.6667\n",
      "Epoch 75/300\n",
      "9/9 - 0s - loss: 1.5088 - accuracy: 0.5222 - val_loss: 1.4869 - val_accuracy: 0.5556\n",
      "Epoch 76/300\n",
      "9/9 - 0s - loss: 1.5010 - accuracy: 0.4889 - val_loss: 1.4763 - val_accuracy: 0.5556\n",
      "Epoch 77/300\n",
      "9/9 - 0s - loss: 1.4876 - accuracy: 0.4889 - val_loss: 1.4659 - val_accuracy: 0.5556\n",
      "Epoch 78/300\n",
      "9/9 - 0s - loss: 1.4871 - accuracy: 0.4667 - val_loss: 1.4563 - val_accuracy: 0.5556\n",
      "Epoch 79/300\n",
      "9/9 - 0s - loss: 1.4766 - accuracy: 0.4778 - val_loss: 1.4467 - val_accuracy: 0.5556\n",
      "Epoch 80/300\n",
      "9/9 - 0s - loss: 1.4595 - accuracy: 0.4333 - val_loss: 1.4363 - val_accuracy: 0.5556\n",
      "Epoch 81/300\n",
      "9/9 - 0s - loss: 1.4582 - accuracy: 0.4889 - val_loss: 1.4264 - val_accuracy: 0.7778\n",
      "Epoch 82/300\n",
      "9/9 - 0s - loss: 1.4465 - accuracy: 0.5222 - val_loss: 1.4170 - val_accuracy: 0.4444\n",
      "Epoch 83/300\n",
      "9/9 - 0s - loss: 1.4264 - accuracy: 0.4889 - val_loss: 1.4075 - val_accuracy: 0.6667\n",
      "Epoch 84/300\n",
      "9/9 - 0s - loss: 1.4232 - accuracy: 0.5778 - val_loss: 1.3975 - val_accuracy: 0.6667\n"
     ]
    },
    {
     "name": "stdout",
     "output_type": "stream",
     "text": [
      "Epoch 85/300\n",
      "9/9 - 0s - loss: 1.4089 - accuracy: 0.5444 - val_loss: 1.3885 - val_accuracy: 0.6667\n",
      "Epoch 86/300\n",
      "9/9 - 0s - loss: 1.4021 - accuracy: 0.5889 - val_loss: 1.3792 - val_accuracy: 0.6667\n",
      "Epoch 87/300\n",
      "9/9 - 0s - loss: 1.4076 - accuracy: 0.5111 - val_loss: 1.3698 - val_accuracy: 0.7778\n",
      "Epoch 88/300\n",
      "9/9 - 0s - loss: 1.3833 - accuracy: 0.6333 - val_loss: 1.3609 - val_accuracy: 0.7778\n",
      "Epoch 89/300\n",
      "9/9 - 0s - loss: 1.3777 - accuracy: 0.7000 - val_loss: 1.3519 - val_accuracy: 0.7778\n",
      "Epoch 90/300\n",
      "9/9 - 0s - loss: 1.3676 - accuracy: 0.5556 - val_loss: 1.3441 - val_accuracy: 0.6667\n",
      "Epoch 91/300\n",
      "9/9 - 0s - loss: 1.3626 - accuracy: 0.6444 - val_loss: 1.3348 - val_accuracy: 0.8889\n",
      "Epoch 92/300\n",
      "9/9 - 0s - loss: 1.3502 - accuracy: 0.6889 - val_loss: 1.3262 - val_accuracy: 0.7778\n",
      "Epoch 93/300\n",
      "9/9 - 0s - loss: 1.3462 - accuracy: 0.6333 - val_loss: 1.3177 - val_accuracy: 0.7778\n",
      "Epoch 94/300\n",
      "9/9 - 0s - loss: 1.3269 - accuracy: 0.5778 - val_loss: 1.3092 - val_accuracy: 0.7778\n",
      "Epoch 95/300\n",
      "9/9 - 0s - loss: 1.3258 - accuracy: 0.6556 - val_loss: 1.3012 - val_accuracy: 0.7778\n",
      "Epoch 96/300\n",
      "9/9 - 0s - loss: 1.3140 - accuracy: 0.7444 - val_loss: 1.2940 - val_accuracy: 0.7778\n",
      "Epoch 97/300\n",
      "9/9 - 0s - loss: 1.3128 - accuracy: 0.6556 - val_loss: 1.2850 - val_accuracy: 0.6667\n",
      "Epoch 98/300\n",
      "9/9 - 0s - loss: 1.2924 - accuracy: 0.5778 - val_loss: 1.2778 - val_accuracy: 0.7778\n",
      "Epoch 99/300\n",
      "9/9 - 0s - loss: 1.2878 - accuracy: 0.6222 - val_loss: 1.2707 - val_accuracy: 0.8889\n",
      "Epoch 100/300\n",
      "9/9 - 0s - loss: 1.2823 - accuracy: 0.7111 - val_loss: 1.2611 - val_accuracy: 0.7778\n",
      "Epoch 101/300\n",
      "9/9 - 0s - loss: 1.2964 - accuracy: 0.5889 - val_loss: 1.2542 - val_accuracy: 0.7778\n",
      "Epoch 102/300\n",
      "9/9 - 0s - loss: 1.2700 - accuracy: 0.7111 - val_loss: 1.2470 - val_accuracy: 0.7778\n",
      "Epoch 103/300\n",
      "9/9 - 0s - loss: 1.2685 - accuracy: 0.7222 - val_loss: 1.2404 - val_accuracy: 0.7778\n",
      "Epoch 104/300\n",
      "9/9 - 0s - loss: 1.2544 - accuracy: 0.7222 - val_loss: 1.2320 - val_accuracy: 0.7778\n",
      "Epoch 105/300\n",
      "9/9 - 0s - loss: 1.2574 - accuracy: 0.6222 - val_loss: 1.2246 - val_accuracy: 0.7778\n",
      "Epoch 106/300\n",
      "9/9 - 0s - loss: 1.2395 - accuracy: 0.7333 - val_loss: 1.2177 - val_accuracy: 0.7778\n",
      "Epoch 107/300\n",
      "9/9 - 0s - loss: 1.2339 - accuracy: 0.7778 - val_loss: 1.2109 - val_accuracy: 0.7778\n",
      "Epoch 108/300\n",
      "9/9 - 0s - loss: 1.2215 - accuracy: 0.7444 - val_loss: 1.2031 - val_accuracy: 0.7778\n",
      "Epoch 109/300\n",
      "9/9 - 0s - loss: 1.2239 - accuracy: 0.7111 - val_loss: 1.1957 - val_accuracy: 0.8889\n",
      "Epoch 110/300\n",
      "9/9 - 0s - loss: 1.2116 - accuracy: 0.8000 - val_loss: 1.1888 - val_accuracy: 0.8889\n",
      "Epoch 111/300\n",
      "9/9 - 0s - loss: 1.2071 - accuracy: 0.8000 - val_loss: 1.1818 - val_accuracy: 0.7778\n",
      "Epoch 112/300\n",
      "9/9 - 0s - loss: 1.2103 - accuracy: 0.6444 - val_loss: 1.1753 - val_accuracy: 0.8889\n",
      "Epoch 113/300\n",
      "9/9 - 0s - loss: 1.1965 - accuracy: 0.7667 - val_loss: 1.1702 - val_accuracy: 0.7778\n",
      "Epoch 114/300\n",
      "9/9 - 0s - loss: 1.1905 - accuracy: 0.7444 - val_loss: 1.1627 - val_accuracy: 0.7778\n",
      "Epoch 115/300\n",
      "9/9 - 0s - loss: 1.1848 - accuracy: 0.7667 - val_loss: 1.1565 - val_accuracy: 0.8889\n",
      "Epoch 116/300\n",
      "9/9 - 0s - loss: 1.1680 - accuracy: 0.8111 - val_loss: 1.1482 - val_accuracy: 0.7778\n",
      "Epoch 117/300\n",
      "9/9 - 0s - loss: 1.1696 - accuracy: 0.7444 - val_loss: 1.1417 - val_accuracy: 0.7778\n",
      "Epoch 118/300\n",
      "9/9 - 0s - loss: 1.1676 - accuracy: 0.7444 - val_loss: 1.1363 - val_accuracy: 0.7778\n",
      "Epoch 119/300\n",
      "9/9 - 0s - loss: 1.1577 - accuracy: 0.7222 - val_loss: 1.1295 - val_accuracy: 0.7778\n",
      "Epoch 120/300\n",
      "9/9 - 0s - loss: 1.1464 - accuracy: 0.7222 - val_loss: 1.1247 - val_accuracy: 0.8889\n",
      "Epoch 121/300\n",
      "9/9 - 0s - loss: 1.1459 - accuracy: 0.8667 - val_loss: 1.1173 - val_accuracy: 0.7778\n",
      "Epoch 122/300\n",
      "9/9 - 0s - loss: 1.1372 - accuracy: 0.7778 - val_loss: 1.1120 - val_accuracy: 0.8889\n",
      "Epoch 123/300\n",
      "9/9 - 0s - loss: 1.1341 - accuracy: 0.7333 - val_loss: 1.1047 - val_accuracy: 0.8889\n",
      "Epoch 124/300\n",
      "9/9 - 0s - loss: 1.1257 - accuracy: 0.8444 - val_loss: 1.1007 - val_accuracy: 0.7778\n",
      "Epoch 125/300\n",
      "9/9 - 0s - loss: 1.1219 - accuracy: 0.8667 - val_loss: 1.0934 - val_accuracy: 0.7778\n",
      "Epoch 126/300\n",
      "9/9 - 0s - loss: 1.1131 - accuracy: 0.7778 - val_loss: 1.0864 - val_accuracy: 0.7778\n",
      "Epoch 127/300\n",
      "9/9 - 0s - loss: 1.1082 - accuracy: 0.8000 - val_loss: 1.0826 - val_accuracy: 0.8889\n",
      "Epoch 128/300\n",
      "9/9 - 0s - loss: 1.1049 - accuracy: 0.7889 - val_loss: 1.0749 - val_accuracy: 0.7778\n",
      "Epoch 129/300\n",
      "9/9 - 0s - loss: 1.0946 - accuracy: 0.7889 - val_loss: 1.0690 - val_accuracy: 0.8889\n",
      "Epoch 130/300\n",
      "9/9 - 0s - loss: 1.0965 - accuracy: 0.7556 - val_loss: 1.0626 - val_accuracy: 0.7778\n",
      "Epoch 131/300\n",
      "9/9 - 0s - loss: 1.0868 - accuracy: 0.8222 - val_loss: 1.0569 - val_accuracy: 0.8889\n",
      "Epoch 132/300\n",
      "9/9 - 0s - loss: 1.0813 - accuracy: 0.8111 - val_loss: 1.0517 - val_accuracy: 0.8889\n",
      "Epoch 133/300\n",
      "9/9 - 0s - loss: 1.0748 - accuracy: 0.8667 - val_loss: 1.0464 - val_accuracy: 0.8889\n",
      "Epoch 134/300\n",
      "9/9 - 0s - loss: 1.0611 - accuracy: 0.7889 - val_loss: 1.0404 - val_accuracy: 0.8889\n",
      "Epoch 135/300\n",
      "9/9 - 0s - loss: 1.0586 - accuracy: 0.8111 - val_loss: 1.0355 - val_accuracy: 0.8889\n",
      "Epoch 136/300\n",
      "9/9 - 0s - loss: 1.0651 - accuracy: 0.8333 - val_loss: 1.0285 - val_accuracy: 0.7778\n",
      "Epoch 137/300\n",
      "9/9 - 0s - loss: 1.0549 - accuracy: 0.7889 - val_loss: 1.0233 - val_accuracy: 0.8889\n",
      "Epoch 138/300\n",
      "9/9 - 0s - loss: 1.0579 - accuracy: 0.8333 - val_loss: 1.0193 - val_accuracy: 0.7778\n",
      "Epoch 139/300\n",
      "9/9 - 0s - loss: 1.0371 - accuracy: 0.7556 - val_loss: 1.0149 - val_accuracy: 0.8889\n",
      "Epoch 140/300\n",
      "9/9 - 0s - loss: 1.0384 - accuracy: 0.8111 - val_loss: 1.0075 - val_accuracy: 0.8889\n",
      "Epoch 141/300\n",
      "9/9 - 0s - loss: 1.0214 - accuracy: 0.8444 - val_loss: 1.0018 - val_accuracy: 0.8889\n",
      "Epoch 142/300\n",
      "9/9 - 0s - loss: 1.0271 - accuracy: 0.8556 - val_loss: 0.9978 - val_accuracy: 1.0000\n",
      "Epoch 143/300\n",
      "9/9 - 0s - loss: 1.0250 - accuracy: 0.8444 - val_loss: 0.9922 - val_accuracy: 1.0000\n",
      "Epoch 144/300\n",
      "9/9 - 0s - loss: 1.0113 - accuracy: 0.9000 - val_loss: 0.9904 - val_accuracy: 0.8889\n",
      "Epoch 145/300\n",
      "9/9 - 0s - loss: 1.0116 - accuracy: 0.8333 - val_loss: 0.9818 - val_accuracy: 0.8889\n",
      "Epoch 146/300\n",
      "9/9 - 0s - loss: 1.0098 - accuracy: 0.8556 - val_loss: 0.9749 - val_accuracy: 0.8889\n",
      "Epoch 147/300\n",
      "9/9 - 0s - loss: 0.9871 - accuracy: 0.8778 - val_loss: 0.9719 - val_accuracy: 0.8889\n",
      "Epoch 148/300\n",
      "9/9 - 0s - loss: 0.9865 - accuracy: 0.8556 - val_loss: 0.9654 - val_accuracy: 0.8889\n",
      "Epoch 149/300\n",
      "9/9 - 0s - loss: 0.9868 - accuracy: 0.7667 - val_loss: 0.9607 - val_accuracy: 0.8889\n",
      "Epoch 150/300\n",
      "9/9 - 0s - loss: 0.9740 - accuracy: 0.8778 - val_loss: 0.9580 - val_accuracy: 0.7778\n",
      "Epoch 151/300\n",
      "9/9 - 0s - loss: 0.9722 - accuracy: 0.7778 - val_loss: 0.9523 - val_accuracy: 1.0000\n",
      "Epoch 152/300\n",
      "9/9 - 0s - loss: 0.9655 - accuracy: 0.8889 - val_loss: 0.9518 - val_accuracy: 0.8889\n",
      "Epoch 153/300\n",
      "9/9 - 0s - loss: 0.9678 - accuracy: 0.8556 - val_loss: 0.9439 - val_accuracy: 0.7778\n",
      "Epoch 154/300\n",
      "9/9 - 0s - loss: 0.9606 - accuracy: 0.8000 - val_loss: 0.9373 - val_accuracy: 0.8889\n",
      "Epoch 155/300\n",
      "9/9 - 0s - loss: 0.9535 - accuracy: 0.8444 - val_loss: 0.9324 - val_accuracy: 0.8889\n",
      "Epoch 156/300\n",
      "9/9 - 0s - loss: 0.9588 - accuracy: 0.8111 - val_loss: 0.9248 - val_accuracy: 0.8889\n",
      "Epoch 157/300\n",
      "9/9 - 0s - loss: 0.9428 - accuracy: 0.8889 - val_loss: 0.9227 - val_accuracy: 0.8889\n",
      "Epoch 158/300\n",
      "9/9 - 0s - loss: 0.9492 - accuracy: 0.8889 - val_loss: 0.9219 - val_accuracy: 0.8889\n",
      "Epoch 159/300\n",
      "9/9 - 0s - loss: 0.9289 - accuracy: 0.8667 - val_loss: 0.9154 - val_accuracy: 0.8889\n",
      "Epoch 160/300\n",
      "9/9 - 0s - loss: 0.9409 - accuracy: 0.8222 - val_loss: 0.9075 - val_accuracy: 0.8889\n",
      "Epoch 161/300\n",
      "9/9 - 0s - loss: 0.9272 - accuracy: 0.8556 - val_loss: 0.9023 - val_accuracy: 0.8889\n",
      "Epoch 162/300\n",
      "9/9 - 0s - loss: 0.9277 - accuracy: 0.9000 - val_loss: 0.8970 - val_accuracy: 1.0000\n",
      "Epoch 163/300\n",
      "9/9 - 0s - loss: 0.9197 - accuracy: 0.8667 - val_loss: 0.8912 - val_accuracy: 0.8889\n",
      "Epoch 164/300\n",
      "9/9 - 0s - loss: 0.9185 - accuracy: 0.8444 - val_loss: 0.8945 - val_accuracy: 0.7778\n",
      "Epoch 165/300\n",
      "9/9 - 0s - loss: 0.9118 - accuracy: 0.8667 - val_loss: 0.8821 - val_accuracy: 0.8889\n",
      "Epoch 166/300\n",
      "9/9 - 0s - loss: 0.9064 - accuracy: 0.8444 - val_loss: 0.8810 - val_accuracy: 0.8889\n",
      "Epoch 167/300\n",
      "9/9 - 0s - loss: 0.8967 - accuracy: 0.8778 - val_loss: 0.8750 - val_accuracy: 0.8889\n"
     ]
    },
    {
     "name": "stdout",
     "output_type": "stream",
     "text": [
      "Epoch 168/300\n",
      "9/9 - 0s - loss: 0.8904 - accuracy: 0.8667 - val_loss: 0.8687 - val_accuracy: 0.8889\n",
      "Epoch 169/300\n",
      "9/9 - 0s - loss: 0.8935 - accuracy: 0.8778 - val_loss: 0.8700 - val_accuracy: 0.8889\n",
      "Epoch 170/300\n",
      "9/9 - 0s - loss: 0.8817 - accuracy: 0.8889 - val_loss: 0.8591 - val_accuracy: 0.8889\n",
      "Epoch 171/300\n",
      "9/9 - 0s - loss: 0.8842 - accuracy: 0.8333 - val_loss: 0.8558 - val_accuracy: 1.0000\n",
      "Epoch 172/300\n",
      "9/9 - 0s - loss: 0.8727 - accuracy: 0.9111 - val_loss: 0.8604 - val_accuracy: 0.8889\n",
      "Epoch 173/300\n",
      "9/9 - 0s - loss: 0.8816 - accuracy: 0.8556 - val_loss: 0.8466 - val_accuracy: 0.8889\n",
      "Epoch 174/300\n",
      "9/9 - 0s - loss: 0.8695 - accuracy: 0.8667 - val_loss: 0.8424 - val_accuracy: 0.8889\n",
      "Epoch 175/300\n",
      "9/9 - 0s - loss: 0.8698 - accuracy: 0.8889 - val_loss: 0.8392 - val_accuracy: 0.8889\n",
      "Epoch 176/300\n",
      "9/9 - 0s - loss: 0.8779 - accuracy: 0.8333 - val_loss: 0.8365 - val_accuracy: 0.7778\n",
      "Epoch 177/300\n",
      "9/9 - 0s - loss: 0.8599 - accuracy: 0.8556 - val_loss: 0.8280 - val_accuracy: 0.8889\n",
      "Epoch 178/300\n",
      "9/9 - 0s - loss: 0.8640 - accuracy: 0.9222 - val_loss: 0.8258 - val_accuracy: 1.0000\n",
      "Epoch 179/300\n",
      "9/9 - 0s - loss: 0.8527 - accuracy: 0.8667 - val_loss: 0.8236 - val_accuracy: 0.7778\n",
      "Epoch 180/300\n",
      "9/9 - 0s - loss: 0.8555 - accuracy: 0.8667 - val_loss: 0.8188 - val_accuracy: 0.8889\n",
      "Epoch 181/300\n",
      "9/9 - 0s - loss: 0.8428 - accuracy: 0.8778 - val_loss: 0.8152 - val_accuracy: 0.8889\n",
      "Epoch 182/300\n",
      "9/9 - 0s - loss: 0.8420 - accuracy: 0.8667 - val_loss: 0.8105 - val_accuracy: 0.8889\n",
      "Epoch 183/300\n",
      "9/9 - 0s - loss: 0.8277 - accuracy: 0.8778 - val_loss: 0.8121 - val_accuracy: 1.0000\n",
      "Epoch 184/300\n",
      "9/9 - 0s - loss: 0.8226 - accuracy: 0.9222 - val_loss: 0.8026 - val_accuracy: 0.8889\n",
      "Epoch 185/300\n",
      "9/9 - 0s - loss: 0.8165 - accuracy: 0.9000 - val_loss: 0.8014 - val_accuracy: 0.7778\n",
      "Epoch 186/300\n",
      "9/9 - 0s - loss: 0.8199 - accuracy: 0.8556 - val_loss: 0.7905 - val_accuracy: 0.8889\n",
      "Epoch 187/300\n",
      "9/9 - 0s - loss: 0.8128 - accuracy: 0.8778 - val_loss: 0.7887 - val_accuracy: 0.8889\n",
      "Epoch 188/300\n",
      "9/9 - 0s - loss: 0.8021 - accuracy: 0.9111 - val_loss: 0.7831 - val_accuracy: 0.8889\n",
      "Epoch 189/300\n",
      "9/9 - 0s - loss: 0.8037 - accuracy: 0.9222 - val_loss: 0.7969 - val_accuracy: 0.8889\n",
      "Epoch 190/300\n",
      "9/9 - 0s - loss: 0.8038 - accuracy: 0.8556 - val_loss: 0.7760 - val_accuracy: 0.8889\n",
      "Epoch 191/300\n",
      "9/9 - 0s - loss: 0.8000 - accuracy: 0.8778 - val_loss: 0.7725 - val_accuracy: 1.0000\n",
      "Epoch 192/300\n",
      "9/9 - 0s - loss: 0.8105 - accuracy: 0.8444 - val_loss: 0.7662 - val_accuracy: 1.0000\n",
      "Epoch 193/300\n",
      "9/9 - 0s - loss: 0.8041 - accuracy: 0.8222 - val_loss: 0.7700 - val_accuracy: 0.8889\n",
      "Epoch 194/300\n",
      "9/9 - 0s - loss: 0.7920 - accuracy: 0.8778 - val_loss: 0.7639 - val_accuracy: 0.8889\n",
      "Epoch 195/300\n",
      "9/9 - 0s - loss: 0.8153 - accuracy: 0.7667 - val_loss: 0.7590 - val_accuracy: 0.8889\n",
      "Epoch 196/300\n",
      "9/9 - 0s - loss: 0.7880 - accuracy: 0.8556 - val_loss: 0.7567 - val_accuracy: 0.8889\n",
      "Epoch 197/300\n",
      "9/9 - 0s - loss: 0.7692 - accuracy: 0.9111 - val_loss: 0.7496 - val_accuracy: 0.8889\n",
      "Epoch 198/300\n",
      "9/9 - 0s - loss: 0.7633 - accuracy: 0.8778 - val_loss: 0.7536 - val_accuracy: 1.0000\n",
      "Epoch 199/300\n",
      "9/9 - 0s - loss: 0.7751 - accuracy: 0.9000 - val_loss: 0.7421 - val_accuracy: 0.8889\n",
      "Epoch 200/300\n",
      "9/9 - 0s - loss: 0.7606 - accuracy: 0.9111 - val_loss: 0.7330 - val_accuracy: 1.0000\n",
      "Epoch 201/300\n",
      "9/9 - 0s - loss: 0.7723 - accuracy: 0.9222 - val_loss: 0.7316 - val_accuracy: 0.8889\n",
      "Epoch 202/300\n",
      "9/9 - 0s - loss: 0.7550 - accuracy: 0.8444 - val_loss: 0.7345 - val_accuracy: 1.0000\n",
      "Epoch 203/300\n",
      "9/9 - 0s - loss: 0.7517 - accuracy: 0.9444 - val_loss: 0.7293 - val_accuracy: 0.8889\n",
      "Epoch 204/300\n",
      "9/9 - 0s - loss: 0.7579 - accuracy: 0.8667 - val_loss: 0.7211 - val_accuracy: 1.0000\n",
      "Epoch 205/300\n",
      "9/9 - 0s - loss: 0.7399 - accuracy: 0.9333 - val_loss: 0.7141 - val_accuracy: 1.0000\n",
      "Epoch 206/300\n",
      "9/9 - 0s - loss: 0.7340 - accuracy: 0.8889 - val_loss: 0.7155 - val_accuracy: 0.8889\n",
      "Epoch 207/300\n",
      "9/9 - 0s - loss: 0.7342 - accuracy: 0.8889 - val_loss: 0.7140 - val_accuracy: 0.8889\n",
      "Epoch 208/300\n",
      "9/9 - 0s - loss: 0.7426 - accuracy: 0.8889 - val_loss: 0.7062 - val_accuracy: 0.8889\n",
      "Epoch 209/300\n",
      "9/9 - 0s - loss: 0.7260 - accuracy: 0.9444 - val_loss: 0.7178 - val_accuracy: 0.8889\n",
      "Epoch 210/300\n",
      "9/9 - 0s - loss: 0.7443 - accuracy: 0.8556 - val_loss: 0.6978 - val_accuracy: 1.0000\n",
      "Epoch 211/300\n",
      "9/9 - 0s - loss: 0.7133 - accuracy: 0.9778 - val_loss: 0.6989 - val_accuracy: 0.8889\n",
      "Epoch 212/300\n",
      "9/9 - 0s - loss: 0.7231 - accuracy: 0.9000 - val_loss: 0.7049 - val_accuracy: 0.7778\n",
      "Epoch 213/300\n",
      "9/9 - 0s - loss: 0.7207 - accuracy: 0.8667 - val_loss: 0.6883 - val_accuracy: 0.8889\n",
      "Epoch 214/300\n",
      "9/9 - 0s - loss: 0.7072 - accuracy: 0.9222 - val_loss: 0.6858 - val_accuracy: 1.0000\n",
      "Epoch 215/300\n",
      "9/9 - 0s - loss: 0.6980 - accuracy: 0.9444 - val_loss: 0.6894 - val_accuracy: 0.8889\n",
      "Epoch 216/300\n",
      "9/9 - 0s - loss: 0.7191 - accuracy: 0.9333 - val_loss: 0.6777 - val_accuracy: 0.8889\n",
      "Epoch 217/300\n",
      "9/9 - 0s - loss: 0.7158 - accuracy: 0.9000 - val_loss: 0.6738 - val_accuracy: 1.0000\n",
      "Epoch 218/300\n",
      "9/9 - 0s - loss: 0.6970 - accuracy: 0.8778 - val_loss: 0.6679 - val_accuracy: 0.8889\n",
      "Epoch 219/300\n",
      "9/9 - 0s - loss: 0.6992 - accuracy: 0.8889 - val_loss: 0.6644 - val_accuracy: 0.8889\n",
      "Epoch 220/300\n",
      "9/9 - 0s - loss: 0.6884 - accuracy: 0.9111 - val_loss: 0.6703 - val_accuracy: 0.8889\n",
      "Epoch 221/300\n",
      "9/9 - 0s - loss: 0.6981 - accuracy: 0.8556 - val_loss: 0.6606 - val_accuracy: 1.0000\n",
      "Epoch 222/300\n",
      "9/9 - 0s - loss: 0.6695 - accuracy: 0.9556 - val_loss: 0.6562 - val_accuracy: 1.0000\n",
      "Epoch 223/300\n",
      "9/9 - 0s - loss: 0.6941 - accuracy: 0.9444 - val_loss: 0.6518 - val_accuracy: 1.0000\n",
      "Epoch 224/300\n",
      "9/9 - 0s - loss: 0.6748 - accuracy: 0.8556 - val_loss: 0.6650 - val_accuracy: 0.7778\n",
      "Epoch 225/300\n",
      "9/9 - 0s - loss: 0.6673 - accuracy: 0.9222 - val_loss: 0.6554 - val_accuracy: 1.0000\n",
      "Epoch 226/300\n",
      "9/9 - 0s - loss: 0.6856 - accuracy: 0.9000 - val_loss: 0.6503 - val_accuracy: 0.8889\n",
      "Epoch 227/300\n",
      "9/9 - 0s - loss: 0.6686 - accuracy: 0.9667 - val_loss: 0.6382 - val_accuracy: 0.8889\n",
      "Epoch 228/300\n",
      "9/9 - 0s - loss: 0.6657 - accuracy: 0.9222 - val_loss: 0.6361 - val_accuracy: 1.0000\n",
      "Epoch 229/300\n",
      "9/9 - 0s - loss: 0.6661 - accuracy: 0.9111 - val_loss: 0.6309 - val_accuracy: 1.0000\n",
      "Epoch 230/300\n",
      "9/9 - 0s - loss: 0.6523 - accuracy: 0.8889 - val_loss: 0.6376 - val_accuracy: 1.0000\n",
      "Epoch 231/300\n",
      "9/9 - 0s - loss: 0.6458 - accuracy: 0.9667 - val_loss: 0.6307 - val_accuracy: 0.8889\n",
      "Epoch 232/300\n",
      "9/9 - 0s - loss: 0.6587 - accuracy: 0.8889 - val_loss: 0.6243 - val_accuracy: 1.0000\n",
      "Epoch 233/300\n",
      "9/9 - 0s - loss: 0.6585 - accuracy: 0.9556 - val_loss: 0.6205 - val_accuracy: 0.8889\n",
      "Epoch 234/300\n",
      "9/9 - 0s - loss: 0.6428 - accuracy: 0.9000 - val_loss: 0.6174 - val_accuracy: 0.8889\n",
      "Epoch 235/300\n",
      "9/9 - 0s - loss: 0.6324 - accuracy: 0.9444 - val_loss: 0.6115 - val_accuracy: 1.0000\n",
      "Epoch 236/300\n",
      "9/9 - 0s - loss: 0.6277 - accuracy: 0.9111 - val_loss: 0.6194 - val_accuracy: 0.8889\n",
      "Epoch 237/300\n",
      "9/9 - 0s - loss: 0.6335 - accuracy: 0.9444 - val_loss: 0.6155 - val_accuracy: 1.0000\n",
      "Epoch 238/300\n",
      "9/9 - 0s - loss: 0.6306 - accuracy: 0.9111 - val_loss: 0.6005 - val_accuracy: 1.0000\n",
      "Epoch 239/300\n",
      "9/9 - 0s - loss: 0.6170 - accuracy: 0.9111 - val_loss: 0.6228 - val_accuracy: 0.7778\n",
      "Epoch 240/300\n",
      "9/9 - 0s - loss: 0.6259 - accuracy: 0.9222 - val_loss: 0.5935 - val_accuracy: 0.8889\n",
      "Epoch 241/300\n",
      "9/9 - 0s - loss: 0.6208 - accuracy: 0.9000 - val_loss: 0.5934 - val_accuracy: 1.0000\n",
      "Epoch 242/300\n",
      "9/9 - 0s - loss: 0.6211 - accuracy: 0.9222 - val_loss: 0.5883 - val_accuracy: 1.0000\n",
      "Epoch 243/300\n",
      "9/9 - 0s - loss: 0.6141 - accuracy: 0.9556 - val_loss: 0.5824 - val_accuracy: 1.0000\n",
      "Epoch 244/300\n",
      "9/9 - 0s - loss: 0.6282 - accuracy: 0.9111 - val_loss: 0.5903 - val_accuracy: 1.0000\n",
      "Epoch 245/300\n",
      "9/9 - 0s - loss: 0.6127 - accuracy: 0.9667 - val_loss: 0.5779 - val_accuracy: 1.0000\n",
      "Epoch 246/300\n",
      "9/9 - 0s - loss: 0.5954 - accuracy: 0.9444 - val_loss: 0.5747 - val_accuracy: 1.0000\n",
      "Epoch 247/300\n",
      "9/9 - 0s - loss: 0.6053 - accuracy: 0.9778 - val_loss: 0.5770 - val_accuracy: 1.0000\n",
      "Epoch 248/300\n",
      "9/9 - 0s - loss: 0.5940 - accuracy: 0.9333 - val_loss: 0.5762 - val_accuracy: 0.8889\n",
      "Epoch 249/300\n",
      "9/9 - 0s - loss: 0.5886 - accuracy: 0.9111 - val_loss: 0.5892 - val_accuracy: 0.8889\n",
      "Epoch 250/300\n",
      "9/9 - 0s - loss: 0.5822 - accuracy: 0.9333 - val_loss: 0.5774 - val_accuracy: 1.0000\n"
     ]
    },
    {
     "name": "stdout",
     "output_type": "stream",
     "text": [
      "Epoch 251/300\n",
      "9/9 - 0s - loss: 0.5891 - accuracy: 0.9556 - val_loss: 0.5663 - val_accuracy: 0.8889\n",
      "Epoch 252/300\n",
      "9/9 - 0s - loss: 0.5846 - accuracy: 0.9111 - val_loss: 0.5660 - val_accuracy: 1.0000\n",
      "Epoch 253/300\n",
      "9/9 - 0s - loss: 0.5882 - accuracy: 0.9778 - val_loss: 0.5588 - val_accuracy: 1.0000\n",
      "Epoch 254/300\n",
      "9/9 - 0s - loss: 0.5781 - accuracy: 0.9333 - val_loss: 0.5543 - val_accuracy: 1.0000\n",
      "Epoch 255/300\n",
      "9/9 - 0s - loss: 0.5652 - accuracy: 0.9778 - val_loss: 0.5564 - val_accuracy: 0.8889\n",
      "Epoch 256/300\n",
      "9/9 - 0s - loss: 0.5726 - accuracy: 0.9111 - val_loss: 0.5627 - val_accuracy: 1.0000\n",
      "Epoch 257/300\n",
      "9/9 - 0s - loss: 0.5737 - accuracy: 0.8778 - val_loss: 0.5693 - val_accuracy: 0.8889\n",
      "Epoch 258/300\n",
      "9/9 - 0s - loss: 0.5603 - accuracy: 0.9444 - val_loss: 0.5412 - val_accuracy: 1.0000\n",
      "Epoch 259/300\n",
      "9/9 - 0s - loss: 0.5713 - accuracy: 0.9778 - val_loss: 0.5500 - val_accuracy: 1.0000\n",
      "Epoch 260/300\n",
      "9/9 - 0s - loss: 0.5682 - accuracy: 0.9778 - val_loss: 0.5308 - val_accuracy: 1.0000\n",
      "Epoch 261/300\n",
      "9/9 - 0s - loss: 0.5684 - accuracy: 0.9222 - val_loss: 0.5379 - val_accuracy: 0.8889\n",
      "Epoch 262/300\n",
      "9/9 - 0s - loss: 0.5731 - accuracy: 0.8778 - val_loss: 0.5366 - val_accuracy: 0.8889\n",
      "Epoch 263/300\n",
      "9/9 - 0s - loss: 0.5519 - accuracy: 0.9444 - val_loss: 0.5460 - val_accuracy: 0.7778\n",
      "Epoch 264/300\n",
      "9/9 - 0s - loss: 0.5702 - accuracy: 0.9333 - val_loss: 0.5258 - val_accuracy: 1.0000\n",
      "Epoch 265/300\n",
      "9/9 - 0s - loss: 0.5464 - accuracy: 0.9556 - val_loss: 0.5207 - val_accuracy: 1.0000\n",
      "Epoch 266/300\n",
      "9/9 - 0s - loss: 0.5447 - accuracy: 0.9111 - val_loss: 0.5143 - val_accuracy: 1.0000\n",
      "Epoch 267/300\n",
      "9/9 - 0s - loss: 0.5381 - accuracy: 0.9556 - val_loss: 0.5171 - val_accuracy: 1.0000\n",
      "Epoch 268/300\n",
      "9/9 - 0s - loss: 0.5337 - accuracy: 0.9778 - val_loss: 0.5213 - val_accuracy: 1.0000\n",
      "Epoch 269/300\n",
      "9/9 - 0s - loss: 0.5253 - accuracy: 0.9667 - val_loss: 0.5220 - val_accuracy: 1.0000\n",
      "Epoch 270/300\n",
      "9/9 - 0s - loss: 0.5318 - accuracy: 0.9667 - val_loss: 0.5133 - val_accuracy: 0.8889\n",
      "Epoch 271/300\n",
      "9/9 - 0s - loss: 0.5108 - accuracy: 0.9444 - val_loss: 0.5117 - val_accuracy: 0.8889\n",
      "Epoch 272/300\n",
      "9/9 - 0s - loss: 0.5237 - accuracy: 0.9222 - val_loss: 0.5007 - val_accuracy: 1.0000\n",
      "Epoch 273/300\n",
      "9/9 - 0s - loss: 0.5281 - accuracy: 0.9333 - val_loss: 0.5005 - val_accuracy: 1.0000\n",
      "Epoch 274/300\n",
      "9/9 - 0s - loss: 0.5201 - accuracy: 1.0000 - val_loss: 0.5061 - val_accuracy: 1.0000\n",
      "Epoch 275/300\n",
      "9/9 - 0s - loss: 0.5299 - accuracy: 0.9444 - val_loss: 0.4909 - val_accuracy: 1.0000\n",
      "Epoch 276/300\n",
      "9/9 - 0s - loss: 0.5242 - accuracy: 0.9444 - val_loss: 0.4912 - val_accuracy: 1.0000\n",
      "Epoch 277/300\n",
      "9/9 - 0s - loss: 0.5195 - accuracy: 0.9556 - val_loss: 0.4883 - val_accuracy: 1.0000\n",
      "Epoch 278/300\n",
      "9/9 - 0s - loss: 0.5159 - accuracy: 0.9333 - val_loss: 0.4951 - val_accuracy: 0.8889\n",
      "Epoch 279/300\n",
      "9/9 - 0s - loss: 0.5184 - accuracy: 0.9556 - val_loss: 0.4785 - val_accuracy: 1.0000\n",
      "Epoch 280/300\n",
      "9/9 - 0s - loss: 0.5072 - accuracy: 0.9667 - val_loss: 0.5267 - val_accuracy: 0.7778\n",
      "Epoch 281/300\n",
      "9/9 - 0s - loss: 0.5053 - accuracy: 0.9111 - val_loss: 0.4956 - val_accuracy: 0.8889\n",
      "Epoch 282/300\n",
      "9/9 - 0s - loss: 0.5129 - accuracy: 0.9333 - val_loss: 0.4720 - val_accuracy: 1.0000\n",
      "Epoch 283/300\n",
      "9/9 - 0s - loss: 0.4786 - accuracy: 0.9778 - val_loss: 0.4764 - val_accuracy: 1.0000\n",
      "Epoch 284/300\n",
      "9/9 - 0s - loss: 0.5119 - accuracy: 0.9556 - val_loss: 0.4742 - val_accuracy: 1.0000\n",
      "Epoch 285/300\n",
      "9/9 - 0s - loss: 0.5017 - accuracy: 0.9111 - val_loss: 0.4677 - val_accuracy: 1.0000\n",
      "Epoch 286/300\n",
      "9/9 - 0s - loss: 0.4926 - accuracy: 0.9778 - val_loss: 0.4599 - val_accuracy: 1.0000\n",
      "Epoch 287/300\n",
      "9/9 - 0s - loss: 0.4858 - accuracy: 0.8778 - val_loss: 0.4744 - val_accuracy: 1.0000\n",
      "Epoch 288/300\n",
      "9/9 - 0s - loss: 0.5099 - accuracy: 0.9556 - val_loss: 0.4554 - val_accuracy: 1.0000\n",
      "Epoch 289/300\n",
      "9/9 - 0s - loss: 0.4964 - accuracy: 0.8778 - val_loss: 0.4669 - val_accuracy: 0.8889\n",
      "Epoch 290/300\n",
      "9/9 - 0s - loss: 0.4950 - accuracy: 0.9222 - val_loss: 0.4577 - val_accuracy: 1.0000\n",
      "Epoch 291/300\n",
      "9/9 - 0s - loss: 0.4800 - accuracy: 0.9111 - val_loss: 0.4777 - val_accuracy: 0.8889\n",
      "Epoch 292/300\n",
      "9/9 - 0s - loss: 0.4985 - accuracy: 0.9222 - val_loss: 0.4443 - val_accuracy: 1.0000\n",
      "Epoch 293/300\n",
      "9/9 - 0s - loss: 0.4922 - accuracy: 0.9333 - val_loss: 0.4439 - val_accuracy: 1.0000\n",
      "Epoch 294/300\n",
      "9/9 - 0s - loss: 0.4796 - accuracy: 0.9667 - val_loss: 0.4404 - val_accuracy: 1.0000\n",
      "Epoch 295/300\n",
      "9/9 - 0s - loss: 0.4570 - accuracy: 0.9667 - val_loss: 0.4518 - val_accuracy: 1.0000\n",
      "Epoch 296/300\n",
      "9/9 - 0s - loss: 0.4717 - accuracy: 0.9333 - val_loss: 0.4412 - val_accuracy: 1.0000\n",
      "Epoch 297/300\n",
      "9/9 - 0s - loss: 0.4542 - accuracy: 0.9667 - val_loss: 0.4396 - val_accuracy: 1.0000\n",
      "Epoch 298/300\n",
      "9/9 - 0s - loss: 0.4741 - accuracy: 0.9667 - val_loss: 0.4345 - val_accuracy: 1.0000\n",
      "Epoch 299/300\n",
      "9/9 - 0s - loss: 0.4482 - accuracy: 0.9889 - val_loss: 0.4311 - val_accuracy: 1.0000\n",
      "Epoch 300/300\n",
      "9/9 - 0s - loss: 0.4526 - accuracy: 1.0000 - val_loss: 0.4313 - val_accuracy: 1.0000\n"
     ]
    }
   ],
   "source": [
    "hist = model.fit(X_train, Y_train, epochs=300, batch_size=10, \n",
    "                verbose=2, validation_data=(X_val, Y_val))"
   ]
  },
  {
   "cell_type": "code",
   "execution_count": 9,
   "metadata": {
    "ExecuteTime": {
     "end_time": "2021-03-21T10:42:37.044820Z",
     "start_time": "2021-03-21T10:42:37.031843Z"
    }
   },
   "outputs": [
    {
     "data": {
      "text/plain": [
       "dict_keys(['loss', 'accuracy', 'val_loss', 'val_accuracy'])"
      ]
     },
     "execution_count": 9,
     "metadata": {},
     "output_type": "execute_result"
    }
   ],
   "source": [
    "hist.history.keys()"
   ]
  },
  {
   "cell_type": "markdown",
   "metadata": {},
   "source": [
    "# 모델 학습과정 살펴보기(hist, 평가)"
   ]
  },
  {
   "cell_type": "code",
   "execution_count": 10,
   "metadata": {
    "ExecuteTime": {
     "end_time": "2021-03-21T10:42:37.547495Z",
     "start_time": "2021-03-21T10:42:37.047800Z"
    }
   },
   "outputs": [
    {
     "data": {
      "image/png": "[encoded data removed]",
      "text/plain": [
       "<Figure size 720x360 with 2 Axes>"
      ]
     },
     "metadata": {
      "needs_background": "light"
     },
     "output_type": "display_data"
    }
   ],
   "source": [
    "# 모델의 학습과정 표시하기\n",
    "import matplotlib.pyplot as plt\n",
    "fig, loss_ax = plt.subplots(figsize=(10,5))\n",
    "loss_ax.plot(hist.history['loss'],'y',label=\"train loss\")\n",
    "loss_ax.plot(hist.history['val_loss'],'r', label=\"val loss\")\n",
    "\n",
    "acc_ax = loss_ax.twinx() # loss_ax와 x축을 공유하는 acc_ax 생성\n",
    "acc_ax.plot(hist.history['accuracy'],'g', label=\"train acc\")\n",
    "acc_ax.plot(hist.history['val_accuracy'],'b', label=\"val acc\")\n",
    "\n",
    "loss_ax.set_xlabel(\"epoch\")\n",
    "loss_ax.set_ylabel(\"loss\")\n",
    "acc_ax.set_ylabel(\"accuracy\")\n",
    "loss_ax.legend(loc=\"upper left\")\n",
    "acc_ax.legend(loc=\"lower left\")\n",
    "plt.show()"
   ]
  },
  {
   "cell_type": "code",
   "execution_count": 11,
   "metadata": {
    "ExecuteTime": {
     "end_time": "2021-03-21T10:42:37.733192Z",
     "start_time": "2021-03-21T10:42:37.549281Z"
    }
   },
   "outputs": [
    {
     "name": "stdout",
     "output_type": "stream",
     "text": [
      "9/9 [==============================] - 0s 1ms/step - loss: 0.4313 - accuracy: 1.0000\n"
     ]
    },
    {
     "data": {
      "text/plain": [
       "[0.4312909245491028, 1.0]"
      ]
     },
     "execution_count": 11,
     "metadata": {},
     "output_type": "execute_result"
    }
   ],
   "source": [
    "# 모델 평가\n",
    "score = model.evaluate(X_val, Y_val, batch_size=1)\n",
    "score"
   ]
  },
  {
   "cell_type": "code",
   "execution_count": 12,
   "metadata": {
    "ExecuteTime": {
     "end_time": "2021-03-21T10:42:37.748345Z",
     "start_time": "2021-03-21T10:42:37.735154Z"
    }
   },
   "outputs": [
    {
     "name": "stdout",
     "output_type": "stream",
     "text": [
      "loss : 0.4312909245491028\n",
      "accuracy : 1.0\n"
     ]
    }
   ],
   "source": [
    "print('loss :', score[0])\n",
    "print('accuracy :', score[1])"
   ]
  },
  {
   "cell_type": "markdown",
   "metadata": {},
   "source": [
    "# 모델을 이용해서 예측하기"
   ]
  },
  {
   "cell_type": "code",
   "execution_count": 13,
   "metadata": {
    "ExecuteTime": {
     "end_time": "2021-03-21T10:42:37.874216Z",
     "start_time": "2021-03-21T10:42:37.750115Z"
    }
   },
   "outputs": [
    {
     "name": "stderr",
     "output_type": "stream",
     "text": [
      "C:\\Users\\porsc\\anaconda3\\lib\\site-packages\\tensorflow\\python\\keras\\engine\\sequential.py:450: UserWarning: `model.predict_classes()` is deprecated and will be removed after 2021-01-01. Please use instead:* `np.argmax(model.predict(x), axis=-1)`,   if your model does multi-class classification   (e.g. if it uses a `softmax` last-layer activation).* `(model.predict(x) > 0.5).astype(\"int32\")`,   if your model does binary classification   (e.g. if it uses a `sigmoid` last-layer activation).\n",
      "  warnings.warn('`model.predict_classes()` is deprecated and '\n"
     ]
    },
    {
     "data": {
      "text/plain": [
       "array([4], dtype=int64)"
      ]
     },
     "execution_count": 13,
     "metadata": {},
     "output_type": "execute_result"
    }
   ],
   "source": [
    "model.predict_classes(np.array([2]))"
   ]
  },
  {
   "cell_type": "code",
   "execution_count": 14,
   "metadata": {
    "ExecuteTime": {
     "end_time": "2021-03-21T10:42:37.937359Z",
     "start_time": "2021-03-21T10:42:37.876212Z"
    }
   },
   "outputs": [
    {
     "data": {
      "text/plain": [
       "4"
      ]
     },
     "execution_count": 14,
     "metadata": {},
     "output_type": "execute_result"
    }
   ],
   "source": [
    "model.predict(np.array([2])).argmax()"
   ]
  }
 ],
 "metadata": {
  "kernelspec": {
   "display_name": "Python 3",
   "language": "python",
   "name": "python3"
  },
  "language_info": {
   "codemirror_mode": {
    "name": "ipython",
    "version": 3
   },
   "file_extension": ".py",
   "mimetype": "text/x-python",
   "name": "python",
   "nbconvert_exporter": "python",
   "pygments_lexer": "ipython3",
   "version": "3.8.3"
  },
  "toc": {
   "base_numbering": 1,
   "nav_menu": {},
   "number_sections": true,
   "sideBar": true,
   "skip_h1_title": false,
   "title_cell": "Table of Contents",
   "title_sidebar": "Contents",
   "toc_cell": false,
   "toc_position": {},
   "toc_section_display": true,
   "toc_window_display": false
  },
  "varInspector": {
   "cols": {
    "lenName": 16,
    "lenType": 16,
    "lenVar": 40
   },
   "kernels_config": {
    "python": {
     "delete_cmd_postfix": "",
     "delete_cmd_prefix": "del ",
     "library": "var_list.py",
     "varRefreshCmd": "print(var_dic_list())"
    },
    "r": {
     "delete_cmd_postfix": ") ",
     "delete_cmd_prefix": "rm(",
     "library": "var_list.r",
     "varRefreshCmd": "cat(var_dic_list()) "
    }
   },
   "types_to_exclude": [
    "module",
    "function",
    "builtin_function_or_method",
    "instance",
    "_Feature"
   ],
   "window_display": false
  }
 },
 "nbformat": 4,
 "nbformat_minor": 4
}
