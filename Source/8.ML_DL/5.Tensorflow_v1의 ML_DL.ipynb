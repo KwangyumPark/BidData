{
 "cells": [
  {
   "cell_type": "markdown",
   "metadata": {},
   "source": [
    "21.03.22 ML_DL Tensorflow Ver.1 사용해서 분석하기"
   ]
  },
  {
   "cell_type": "markdown",
   "metadata": {},
   "source": [
    "# Tensorflow_Ver.1에서의 ML_DL"
   ]
  },
  {
   "cell_type": "markdown",
   "metadata": {},
   "source": [
    "## tensorflow v2.x에서 v1 버전 사용하기"
   ]
  },
  {
   "cell_type": "code",
   "execution_count": 2,
   "metadata": {
    "ExecuteTime": {
     "end_time": "2021-03-22T01:52:52.013203Z",
     "start_time": "2021-03-22T01:52:52.009239Z"
    }
   },
   "outputs": [
    {
     "name": "stdout",
     "output_type": "stream",
     "text": [
      "WARNING:tensorflow:From C:\\Users\\tjoeun\\anaconda3\\lib\\site-packages\\tensorflow\\python\\compat\\v2_compat.py:96: disable_resource_variables (from tensorflow.python.ops.variable_scope) is deprecated and will be removed in a future version.\n",
      "Instructions for updating:\n",
      "non-resource variables are not supported in the long term\n"
     ]
    }
   ],
   "source": [
    "import tensorflow.compat.v1 as tf\n",
    "tf.disable_v2_behavior() # v1 버전으로 사용"
   ]
  },
  {
   "cell_type": "code",
   "execution_count": 12,
   "metadata": {
    "ExecuteTime": {
     "end_time": "2021-03-22T03:25:05.224161Z",
     "start_time": "2021-03-22T03:25:05.205211Z"
    }
   },
   "outputs": [
    {
     "name": "stdout",
     "output_type": "stream",
     "text": [
      "b'Hello, TensorFlow'\n",
      "Hello, TensorFlow\n"
     ]
    }
   ],
   "source": [
    "# tensor=data(상수, 변수), 연산\n",
    "# node1 상수 tensor 선언\n",
    "node1 = tf.constant('Hello, TensorFlow') \n",
    "# graph(computational grahp를 생성)\n",
    "sess = tf.Session()\n",
    "# print(node1)\n",
    "print(sess.run(node1)) # b가 의미하는 것은 byte literals\n",
    "# http://stackoverflow.com/questions/6269765\n",
    "print(sess.run(node1).decode())"
   ]
  },
  {
   "cell_type": "code",
   "execution_count": 13,
   "metadata": {
    "ExecuteTime": {
     "end_time": "2021-03-22T03:25:14.899050Z",
     "start_time": "2021-03-22T03:25:14.688788Z"
    }
   },
   "outputs": [
    {
     "name": "stdout",
     "output_type": "stream",
     "text": [
      "[10.0, 20.0, 30.0]\n"
     ]
    }
   ],
   "source": [
    "# 간단한 수학 연산 수행(computational graph)\n",
    "node1 = tf.constant(10, dtype=tf.float32)\n",
    "node2 = tf.constant(20, dtype=tf.float32)\n",
    "# node3 = node1 + node2\n",
    "node3 = tf.add(node1, node2)\n",
    "# computational graph 실행\n",
    "sess = tf.Session()\n",
    "print(sess.run([node1, node2, node3]))"
   ]
  },
  {
   "cell_type": "markdown",
   "metadata": {},
   "source": [
    "### Tensorflow\n",
    "- 1. 그래프 정의\n",
    "- 2. sess = tf.Session()를 실행\n",
    "- 3. sess.run()을 통해 값을 확인할 수 있음"
   ]
  },
  {
   "cell_type": "code",
   "execution_count": 14,
   "metadata": {
    "ExecuteTime": {
     "end_time": "2021-03-22T03:26:21.976456Z",
     "start_time": "2021-03-22T03:26:21.849199Z"
    }
   },
   "outputs": [
    {
     "name": "stdout",
     "output_type": "stream",
     "text": [
      "[1 2 3]\n",
      "[1. 2. 3.]\n"
     ]
    }
   ],
   "source": [
    "import numpy as np\n",
    "node1 = tf.constant(np.array([1,2,3]), dtype=tf.int16)\n",
    "node2 = tf.cast(node1, dtype=tf.float32)\n",
    "sess = tf.Session()\n",
    "print(sess.run(node1))\n",
    "print(sess.run(node2))"
   ]
  },
  {
   "cell_type": "code",
   "execution_count": 15,
   "metadata": {
    "ExecuteTime": {
     "end_time": "2021-03-22T03:26:31.563299Z",
     "start_time": "2021-03-22T03:26:31.384744Z"
    }
   },
   "outputs": [
    {
     "name": "stdout",
     "output_type": "stream",
     "text": [
      "2.5\n"
     ]
    }
   ],
   "source": [
    "data = [1.,2.,3.,4.]\n",
    "m = tf.reduce_mean(data) # reduce_mean 평균값 연산\n",
    "sess = tf.Session()\n",
    "print(sess.run(m))"
   ]
  },
  {
   "cell_type": "markdown",
   "metadata": {},
   "source": [
    "## tensorflow v1을 이용한 linear regression을 구현"
   ]
  },
  {
   "cell_type": "markdown",
   "metadata": {},
   "source": [
    "### 독립변수 x가 한개"
   ]
  },
  {
   "cell_type": "code",
   "execution_count": 16,
   "metadata": {
    "ExecuteTime": {
     "end_time": "2021-03-22T06:35:43.782109Z",
     "start_time": "2021-03-22T06:35:42.090588Z"
    }
   },
   "outputs": [
    {
     "name": "stdout",
     "output_type": "stream",
     "text": [
      "200번째 cost:0.16060547530651093, W값:[0.53566563], b값:[1.0555413]\n",
      "400번째 cost:0.06132699176669121, W값:[0.7130697], b값:[0.6522602]\n",
      "600번째 cost:0.0234176367521286, W값:[0.8226944], b값:[0.40305716]\n",
      "800번째 cost:0.0089420136064291, W값:[0.89043593], b값:[0.2490649]\n",
      "1000번째 cost:0.0034144979435950518, W값:[0.93229604], b값:[0.15390699]\n",
      "1200번째 cost:0.0013038228498771787, W값:[0.958163], b값:[0.09510526]\n",
      "1400번째 cost:0.0004978631623089314, W값:[0.97414726], b값:[0.05876932]\n",
      "1600번째 cost:0.0001901081996038556, W값:[0.98402464], b값:[0.03631579]\n",
      "1800번째 cost:7.259245467139408e-05, W값:[0.99012834], b값:[0.02244088]\n",
      "2000번째 cost:2.7718602723325603e-05, W값:[0.9938999], b값:[0.01386703]\n",
      "2200번째 cost:1.058443831425393e-05, W값:[0.9962304], b값:[0.00856901]\n",
      "2400번째 cost:4.0415648072666954e-06, W값:[0.99767065], b값:[0.00529513]\n",
      "2600번째 cost:1.5433612361448468e-06, W값:[0.99856055], b값:[0.00327211]\n",
      "2800번째 cost:5.894659693694848e-07, W값:[0.9991104], b값:[0.00202214]\n",
      "3000번째 cost:2.25181608470848e-07, W값:[0.9994501], b값:[0.00124983]\n",
      "3200번째 cost:8.608784440866657e-08, W값:[0.99965996], b값:[0.00077281]\n",
      "3400번째 cost:3.293763128908722e-08, W값:[0.9997897], b값:[0.00047802]\n",
      "3600번째 cost:1.261799287277654e-08, W값:[0.9998697], b값:[0.00029586]\n",
      "3800번째 cost:4.838708544951942e-09, W값:[0.99991924], b값:[0.00018326]\n",
      "4000번째 cost:1.869840060564343e-09, W값:[0.99994975], b값:[0.00011378]\n",
      "4200번째 cost:7.147503144899758e-10, W값:[0.9999689], b값:[7.0416274e-05]\n",
      "4400번째 cost:2.7747285025192525e-10, W값:[0.99998087], b값:[4.382593e-05]\n",
      "4600번째 cost:1.0234868508263162e-10, W값:[0.9999882], b값:[2.6728621e-05]\n",
      "4800번째 cost:4.1413140278168115e-11, W값:[0.99999243], b값:[1.6956265e-05]\n",
      "5000번째 cost:1.882477507209046e-11, W값:[0.9999948], b값:[1.1380596e-05]\n",
      "5200번째 cost:1.0051677372391321e-11, W값:[0.9999962], b값:[8.209501e-06]\n",
      "5400번째 cost:6.167658831573997e-12, W값:[0.99999696], b값:[6.4094015e-06]\n",
      "5600번째 cost:4.6090800447096125e-12, W값:[0.9999974], b값:[5.3961135e-06]\n",
      "5800번째 cost:3.79309734663269e-12, W값:[0.9999976], b값:[4.8266456e-06]\n",
      "6000번째 cost:3.2443481495086912e-12, W값:[0.99999774], b값:[4.5229417e-06]\n"
     ]
    }
   ],
   "source": [
    "# tensor graph 정의\n",
    "\n",
    "# train data set\n",
    "# x = np.array([1,2,3])\n",
    "# y = np.array([1,2,3])\n",
    "x = [1,2,3]\n",
    "y = [1,2,3]\n",
    "\n",
    "#Weight & Bias (처음에는 랜덤값을 셋팅했다가 학습과정에서 변경)\n",
    "W = tf.Variable(tf.random.normal([1]), name=\"weight\")\n",
    "b = tf.Variable(tf.random.normal([1]), name=\"bias\")\n",
    "\n",
    "# Hypothesis\n",
    "H = W*x + b\n",
    "\n",
    "# cost function(최소제곱법)\n",
    "cost = tf.reduce_mean(tf.square(H - y))\n",
    "\n",
    "# 우리의 목적은 cost함수가 최소가 되는 W와 b를 찾는 것\n",
    "'''\n",
    "cost함수는 제곱의 평균인 2차 함수이므로 곡선. 곡선위 미분값이 줄어드는 방향으로 학습\n",
    "'''\n",
    "optimizer = tf.train.GradientDescentOptimizer(learning_rate=0.01)\n",
    "train = optimizer.minimize(cost)\n",
    "\n",
    "# Session \n",
    "sess = tf.Session()\n",
    "\n",
    "# Variable 노드 초기화\n",
    "sess.run(tf.global_variables_initializer())\n",
    "\n",
    "# 6000번 학습 (tensorflow v2. fit()함수)\n",
    "'''\n",
    "for step in range(1, 6001):\n",
    "    sess.run(train)\n",
    "    if step%300 == 0:\n",
    "        print(\"{}번째 cost:{}, W값:{}, b값:{}\".format(step, \n",
    "                        sess.run(cost), sess.run(W), sess.run(b)))\n",
    "'''\n",
    "for step in range(1, 6001):\n",
    "    _, cost_val, W_val, b_val = sess.run([train, cost, W, b])\n",
    "    if step%200 == 0:\n",
    "        print(\"{}번째 cost:{}, W값:{}, b값:{}\".format(step,\n",
    "                        cost_val, W_val, b_val))"
   ]
  },
  {
   "cell_type": "code",
   "execution_count": 17,
   "metadata": {
    "ExecuteTime": {
     "end_time": "2021-03-22T06:35:51.270543Z",
     "start_time": "2021-03-22T06:35:51.257586Z"
    }
   },
   "outputs": [
    {
     "data": {
      "text/plain": [
       "[array([0.99999774], dtype=float32), array([4.5229417e-06], dtype=float32)]"
      ]
     },
     "execution_count": 17,
     "metadata": {},
     "output_type": "execute_result"
    }
   ],
   "source": [
    "sess.run([W,b])"
   ]
  },
  {
   "cell_type": "code",
   "execution_count": 18,
   "metadata": {
    "ExecuteTime": {
     "end_time": "2021-03-22T06:35:59.982364Z",
     "start_time": "2021-03-22T06:35:59.978394Z"
    }
   },
   "outputs": [],
   "source": [
    "w_, b_ = sess.run([W,b])"
   ]
  },
  {
   "cell_type": "code",
   "execution_count": 19,
   "metadata": {
    "ExecuteTime": {
     "end_time": "2021-03-22T06:36:07.038583Z",
     "start_time": "2021-03-22T06:36:07.033617Z"
    }
   },
   "outputs": [
    {
     "name": "stdout",
     "output_type": "stream",
     "text": [
      "최종적으로 나온 회귀식 : H=0.9999977350234985*x + 4.52294170827372e-06\n"
     ]
    }
   ],
   "source": [
    "print(\"최종적으로 나온 회귀식 : H={}*x + {}\".format(w_[0], b_[0]))"
   ]
  },
  {
   "cell_type": "code",
   "execution_count": 20,
   "metadata": {
    "ExecuteTime": {
     "end_time": "2021-03-22T06:36:20.410419Z",
     "start_time": "2021-03-22T06:36:19.282046Z"
    }
   },
   "outputs": [
    {
     "name": "stdout",
     "output_type": "stream",
     "text": [
      "1번째 cost:3.2443481495086912e-12, W값:100.0, b값:0.7834677696228027\n",
      "201번째 cost:3.2443481495086912e-12, W값:10.740489959716797, b값:-22.142423629760742\n",
      "401번째 cost:3.2443481495086912e-12, W값:7.019031524658203, b값:-13.682674407958984\n",
      "601번째 cost:3.2443481495086912e-12, W값:4.719395637512207, b값:-8.455060005187988\n",
      "801번째 cost:3.2443481495086912e-12, W값:3.2983603477478027, b값:-5.2247138023376465\n",
      "1001번째 cost:3.2443481495086912e-12, W값:2.4202468395233154, b값:-3.228555202484131\n",
      "1201번째 cost:3.2443481495086912e-12, W값:1.8776261806488037, b값:-1.9950504302978516\n",
      "1401번째 cost:3.2443481495086912e-12, W값:1.5423195362091064, b값:-1.23281991481781\n",
      "1601번째 cost:3.2443481495086912e-12, W값:1.3351209163665771, b값:-0.7618085741996765\n",
      "1801번째 cost:3.2443481495086912e-12, W값:1.2070844173431396, b값:-0.47075146436691284\n",
      "2001번째 cost:3.2443481495086912e-12, W값:1.1279654502868652, b값:-0.2908955514431\n",
      "2201번째 cost:3.2443481495086912e-12, W값:1.0790749788284302, b값:-0.17975597083568573\n",
      "2401번째 cost:3.2443481495086912e-12, W값:1.0488635301589966, b값:-0.11107820272445679\n",
      "2601번째 cost:3.2443481495086912e-12, W값:1.0301947593688965, b값:-0.06863953918218613\n",
      "2801번째 cost:3.2443481495086912e-12, W값:1.0186583995819092, b값:-0.04241520166397095\n",
      "3001번째 cost:3.2443481495086912e-12, W값:1.011529803276062, b값:-0.026209887117147446\n",
      "3201번째 cost:3.2443481495086912e-12, W값:1.0071247816085815, b값:-0.016196083277463913\n",
      "3401번째 cost:3.2443481495086912e-12, W값:1.0044026374816895, b값:-0.010008137673139572\n",
      "3601번째 cost:3.2443481495086912e-12, W값:1.0027207136154175, b값:-0.006184561178088188\n",
      "3801번째 cost:3.2443481495086912e-12, W값:1.0016814470291138, b값:-0.0038220221176743507\n"
     ]
    }
   ],
   "source": [
    "# tensor graph 정의\n",
    "\n",
    "# train data set\n",
    "# x = np.array([1,2,3])\n",
    "# y = np.array([1,2,3])\n",
    "x = [1,2,3]\n",
    "y = [1,2,3]\n",
    "\n",
    "#Weight & Bias (처음에는 랜덤값을 셋팅했다가 학습과정에서 변경)\n",
    "W = tf.Variable(100.0, name=\"weight\")\n",
    "b = tf.Variable(tf.random.normal([1]), name=\"bias\")\n",
    "\n",
    "# Hypothesis\n",
    "H = W*x + b\n",
    "\n",
    "# cost function(최소제곱법)\n",
    "cost = tf.reduce_mean(tf.square(H - y))\n",
    "\n",
    "# 우리의 목적은 cost함수가 최소가 되는 W와 b를 찾는 것\n",
    "'''\n",
    "cost함수는 제곱의 평균인 2차 함수이므로 곡선. 곡선위 미분값이 줄어드는 방향으로 학습\n",
    "'''\n",
    "optimizer = tf.train.GradientDescentOptimizer(learning_rate=0.01)\n",
    "train = optimizer.minimize(cost)\n",
    "\n",
    "# Session \n",
    "sess = tf.Session()\n",
    "\n",
    "# Variable 노드 초기화\n",
    "sess.run(tf.global_variables_initializer())\n",
    "\n",
    "# 4000번 학습 (tensorflow v2. fit()함수)\n",
    "for step in range(1, 4001):\n",
    "    W_val, b_val = sess.run([W, b])\n",
    "    if step%200 == 1:\n",
    "        print(\"{}번째 cost:{}, W값:{}, b값:{}\".format(step,\n",
    "                        cost_val, W_val, b_val[0]))\n",
    "    sess.run(train)"
   ]
  },
  {
   "cell_type": "markdown",
   "metadata": {},
   "source": [
    "### predict를 하기 위한 placeholder 이용"
   ]
  },
  {
   "cell_type": "code",
   "execution_count": 21,
   "metadata": {
    "ExecuteTime": {
     "end_time": "2021-03-22T06:37:48.625739Z",
     "start_time": "2021-03-22T06:37:48.585763Z"
    }
   },
   "outputs": [
    {
     "data": {
      "text/plain": [
       "30.0"
      ]
     },
     "execution_count": 21,
     "metadata": {},
     "output_type": "execute_result"
    }
   ],
   "source": [
    "# placeholder 이용\n",
    "a = tf.placeholder(tf.float32)\n",
    "b = tf.placeholder(tf.float32)\n",
    "#ab = tf.add(a+b)\n",
    "ab = a + b\n",
    "sess = tf.Session()\n",
    "sess.run(ab, feed_dict={a:10, b:20})"
   ]
  },
  {
   "cell_type": "code",
   "execution_count": 22,
   "metadata": {
    "ExecuteTime": {
     "end_time": "2021-03-22T06:37:57.871174Z",
     "start_time": "2021-03-22T06:37:57.866187Z"
    }
   },
   "outputs": [
    {
     "data": {
      "text/plain": [
       "array([11., 12., 13.], dtype=float32)"
      ]
     },
     "execution_count": 22,
     "metadata": {},
     "output_type": "execute_result"
    }
   ],
   "source": [
    "sess.run(ab, feed_dict={a : [1,2,3],\n",
    "                        b : [10,10,10]})"
   ]
  },
  {
   "cell_type": "code",
   "execution_count": 23,
   "metadata": {
    "ExecuteTime": {
     "end_time": "2021-03-22T06:38:06.376218Z",
     "start_time": "2021-03-22T06:38:06.370234Z"
    }
   },
   "outputs": [
    {
     "data": {
      "text/plain": [
       "array([11., 12., 13.], dtype=float32)"
      ]
     },
     "execution_count": 23,
     "metadata": {},
     "output_type": "execute_result"
    }
   ],
   "source": [
    "sess.run(ab, feed_dict={a : np.array([1,2,3]),\n",
    "                        b : np.array([10,10,10])})"
   ]
  },
  {
   "cell_type": "code",
   "execution_count": 24,
   "metadata": {
    "ExecuteTime": {
     "end_time": "2021-03-22T06:38:17.801713Z",
     "start_time": "2021-03-22T06:38:13.010218Z"
    }
   },
   "outputs": [
    {
     "name": "stdout",
     "output_type": "stream",
     "text": [
      "node1값은 20\n",
      "node2값은 50\n",
      "70.0\n"
     ]
    }
   ],
   "source": [
    "# 그래프 실행 단계에서 값을 던져줌\n",
    "node1 = tf.placeholder(tf.float32)\n",
    "node2 = tf.placeholder(tf.float32)\n",
    "adder_node = node1 + node2\n",
    "sess = tf.Session()\n",
    "result = sess.run(adder_node, feed_dict={node1: input(\"node1값은 \"),\n",
    "                                         node2: input(\"node2값은 \")})\n",
    "print(result)"
   ]
  },
  {
   "cell_type": "code",
   "execution_count": 25,
   "metadata": {
    "ExecuteTime": {
     "end_time": "2021-03-22T06:38:32.942181Z",
     "start_time": "2021-03-22T06:38:30.610372Z"
    }
   },
   "outputs": [
    {
     "name": "stdout",
     "output_type": "stream",
     "text": [
      "200번째:cost-0.42176052927970886, W-[2.7524605], b-[1.2894806]\n",
      "400번째:cost-0.16104905307292938, W-[2.4649749], b-[1.9430026]\n",
      "600번째:cost-0.06149633228778839, W-[2.2873263], b-[2.3468401]\n",
      "800번째:cost-0.023482421413064003, W-[2.1775503], b-[2.5963862]\n",
      "1000번째:cost-0.008966698311269283, W-[2.1097152], b-[2.7505915]\n",
      "1200번째:cost-0.0034239173401147127, W-[2.0677974], b-[2.8458805]\n",
      "1400번째:cost-0.0013074427843093872, W-[2.0418952], b-[2.9047632]\n",
      "1600번째:cost-0.0004992260946892202, W-[2.025888], b-[2.9411502]\n",
      "1800번째:cost-0.00019061058992519975, W-[2.0159967], b-[2.963636]\n",
      "2000번째:cost-7.278503471752629e-05, W-[2.0098848], b-[2.977529]\n",
      "2200번째:cost-2.779375972750131e-05, W-[2.0061085], b-[2.9861138]\n",
      "2400번째:cost-1.0615384780976456e-05, W-[2.0037751], b-[2.9914186]\n",
      "2600번째:cost-4.05479204346193e-06, W-[2.0023332], b-[2.9946964]\n",
      "2800번째:cost-1.5506808495047153e-06, W-[2.0014424], b-[2.9967206]\n",
      "3000번째:cost-5.929527446824068e-07, W-[2.000893], b-[2.9979715]\n",
      "3200번째:cost-2.2741066629805573e-07, W-[2.0005527], b-[2.9987435]\n",
      "3400번째:cost-8.745405466470402e-08, W-[2.0003426], b-[2.999221]\n",
      "3600번째:cost-3.4051861774742065e-08, W-[2.000214], b-[2.9995148]\n",
      "3800번째:cost-1.325952325714752e-08, W-[2.0001338], b-[2.9996967]\n",
      "4000번째:cost-5.344872988644056e-09, W-[2.000084], b-[2.9998071]\n",
      "4200번째:cost-2.08153028147251e-09, W-[2.0000527], b-[2.9998798]\n",
      "4400번째:cost-7.591249295835212e-10, W-[2.0000322], b-[2.9999275]\n",
      "4600번째:cost-4.848364487664014e-10, W-[2.000026], b-[2.999942]\n",
      "4800번째:cost-4.848364487664014e-10, W-[2.000026], b-[2.999942]\n",
      "5000번째:cost-4.848364487664014e-10, W-[2.000026], b-[2.999942]\n",
      "5200번째:cost-4.848364487664014e-10, W-[2.000026], b-[2.999942]\n",
      "5400번째:cost-4.848364487664014e-10, W-[2.000026], b-[2.999942]\n",
      "5600번째:cost-4.848364487664014e-10, W-[2.000026], b-[2.999942]\n",
      "5800번째:cost-4.848364487664014e-10, W-[2.000026], b-[2.999942]\n",
      "6000번째:cost-4.848364487664014e-10, W-[2.000026], b-[2.999942]\n"
     ]
    }
   ],
   "source": [
    "# training data set (H = 2x + 3)\n",
    "x_data = [1, 2, 3]\n",
    "y_data = [5, 7, 9]\n",
    "\n",
    "# placeholder 설정\n",
    "x = tf.placeholder(dtype=tf.float32)\n",
    "y = tf.placeholder(dtype=tf.float32)\n",
    "\n",
    "# Weight & bias\n",
    "W = tf.Variable(tf.random_normal([1]), name=\"weight\")\n",
    "b = tf.Variable(tf.random_normal([1]), name=\"bias\")\n",
    "# Hypothesis\n",
    "H = W*x + b\n",
    "\n",
    "# cost function\n",
    "cost = tf.reduce_mean(tf.square(H - y))\n",
    "\n",
    "# 경사하강법\n",
    "optimizer = tf.train.GradientDescentOptimizer(learning_rate=0.01)\n",
    "train = optimizer.minimize(cost)\n",
    "\n",
    "# Session & Variable 초기화\n",
    "sess = tf.Session()\n",
    "sess.run(tf.global_variables_initializer())\n",
    "# 학습\n",
    "for step in range(1, 6001):\n",
    "    _, cost_val, W_val, b_val = sess.run([train, cost, W, b], \n",
    "                                feed_dict={x:x_data, y:y_data})\n",
    "    if step%200==0:\n",
    "        print(\"{}번째:cost-{}, W-{}, b-{}\".format(step, \n",
    "                                                cost_val, W_val, b_val))"
   ]
  },
  {
   "cell_type": "code",
   "execution_count": 26,
   "metadata": {
    "ExecuteTime": {
     "end_time": "2021-03-22T06:38:47.754354Z",
     "start_time": "2021-03-22T06:38:47.745352Z"
    }
   },
   "outputs": [
    {
     "data": {
      "text/plain": [
       "[array([2.000026], dtype=float32), array([2.999942], dtype=float32)]"
      ]
     },
     "execution_count": 26,
     "metadata": {},
     "output_type": "execute_result"
    }
   ],
   "source": [
    "sess.run([W, b])"
   ]
  },
  {
   "cell_type": "code",
   "execution_count": 27,
   "metadata": {
    "ExecuteTime": {
     "end_time": "2021-03-22T06:39:01.236180Z",
     "start_time": "2021-03-22T06:39:01.227183Z"
    }
   },
   "outputs": [
    {
     "data": {
      "text/plain": [
       "array([13.000072], dtype=float32)"
      ]
     },
     "execution_count": 27,
     "metadata": {},
     "output_type": "execute_result"
    }
   ],
   "source": [
    "# 예측해보기(predict)\n",
    "sess.run(H, feed_dict={x:5})"
   ]
  },
  {
   "cell_type": "code",
   "execution_count": 28,
   "metadata": {
    "ExecuteTime": {
     "end_time": "2021-03-22T06:40:14.496223Z",
     "start_time": "2021-03-22T06:40:14.490238Z"
    }
   },
   "outputs": [
    {
     "data": {
      "text/plain": [
       "array([ 4.999968, 23.000202, 43.00046 ], dtype=float32)"
      ]
     },
     "execution_count": 28,
     "metadata": {},
     "output_type": "execute_result"
    }
   ],
   "source": [
    "sess.run(H, feed_dict={x: np.array([1,10,20])})"
   ]
  },
  {
   "cell_type": "markdown",
   "metadata": {},
   "source": [
    "## scale이 다른 데이터들의 linear regression을 구현"
   ]
  },
  {
   "cell_type": "code",
   "execution_count": 29,
   "metadata": {
    "ExecuteTime": {
     "end_time": "2021-03-22T06:40:48.533184Z",
     "start_time": "2021-03-22T06:40:48.530213Z"
    }
   },
   "outputs": [],
   "source": [
    "import tensorflow.compat.v1 as tf\n",
    "tf.disable_v2_behavior()\n",
    "import numpy as np"
   ]
  },
  {
   "cell_type": "code",
   "execution_count": 30,
   "metadata": {
    "ExecuteTime": {
     "end_time": "2021-03-22T06:41:03.635895Z",
     "start_time": "2021-03-22T06:41:01.769208Z"
    }
   },
   "outputs": [
    {
     "name": "stdout",
     "output_type": "stream",
     "text": [
      "200번째 cost-79.16194152832031, W-[10.123303]\n",
      "400번째 cost-79.14152526855469, W-[10.148789]\n",
      "600번째 cost-79.13963317871094, W-[10.156509]\n",
      "800번째 cost-79.13946533203125, W-[10.158848]\n",
      "1000번째 cost-79.13944244384766, W-[10.159556]\n",
      "1200번째 cost-79.13945007324219, W-[10.159771]\n",
      "1400번째 cost-79.13947296142578, W-[10.159835]\n",
      "1600번째 cost-79.13946533203125, W-[10.159855]\n",
      "1800번째 cost-79.13946533203125, W-[10.159861]\n",
      "2000번째 cost-79.13946533203125, W-[10.159862]\n",
      "2200번째 cost-79.13945770263672, W-[10.1598625]\n",
      "2400번째 cost-79.13945770263672, W-[10.1598625]\n",
      "2600번째 cost-79.13945770263672, W-[10.1598625]\n",
      "2800번째 cost-79.13945770263672, W-[10.1598625]\n",
      "3000번째 cost-79.13945770263672, W-[10.1598625]\n",
      "3200번째 cost-79.13945770263672, W-[10.1598625]\n",
      "3400번째 cost-79.13945770263672, W-[10.1598625]\n",
      "3600번째 cost-79.13945770263672, W-[10.1598625]\n",
      "3800번째 cost-79.13945770263672, W-[10.1598625]\n",
      "4000번째 cost-79.13945770263672, W-[10.1598625]\n",
      "4200번째 cost-79.13945770263672, W-[10.1598625]\n",
      "4400번째 cost-79.13945770263672, W-[10.1598625]\n",
      "4600번째 cost-79.13945770263672, W-[10.1598625]\n",
      "4800번째 cost-79.13945770263672, W-[10.1598625]\n",
      "5000번째 cost-79.13945770263672, W-[10.1598625]\n",
      "5200번째 cost-79.13945770263672, W-[10.1598625]\n",
      "5400번째 cost-79.13945770263672, W-[10.1598625]\n",
      "5600번째 cost-79.13945770263672, W-[10.1598625]\n",
      "5800번째 cost-79.13945770263672, W-[10.1598625]\n",
      "6000번째 cost-79.13945770263672, W-[10.1598625]\n"
     ]
    }
   ],
   "source": [
    "# training data set (datadml scale이 다르면 학습 결과가 ?)\n",
    "x_data = [1, 2, 5, 8,10]\n",
    "y_data = [5,15,68,80,95]\n",
    "\n",
    "# placeholder를 설정\n",
    "x = tf.placeholder(dtype=tf.float32, shape=None)\n",
    "y = tf.placeholder(dtype=tf.float32, shape=None)\n",
    "\n",
    "# Weight & bias\n",
    "W = tf.Variable(tf.random_normal([1]), name=\"weight\")\n",
    "b = tf.Variable(tf.random_normal([1]), name=\"bias\")\n",
    "\n",
    "# Hypothesis\n",
    "H = W * x + b\n",
    "\n",
    "# cost function\n",
    "cost = tf.reduce_mean(tf.square(H - y))\n",
    "\n",
    "# train\n",
    "train = tf.train.GradientDescentOptimizer(learning_rate=0.01).minimize(cost)\n",
    "\n",
    "# optimizer = tf.train.GradientDescentOptimizer(learning_rate=0.01)\n",
    "# train     = optimizer.minimize(cost)\n",
    "\n",
    "# session & Variable 초기화\n",
    "sess = tf.Session()\n",
    "sess.run(tf.global_variables_initializer())\n",
    "\n",
    "# 학습\n",
    "for step in range(1, 6001):\n",
    "    _, cost_val, W_val = sess.run([train, cost, W], feed_dict={x:x_data,\n",
    "                                                              y:y_data})\n",
    "    if step%200 == 0 :\n",
    "        print(\"{}번째 cost-{}, W-{}\".format(step, cost_val, W_val))"
   ]
  },
  {
   "cell_type": "code",
   "execution_count": 31,
   "metadata": {
    "ExecuteTime": {
     "end_time": "2021-03-22T06:41:10.746146Z",
     "start_time": "2021-03-22T06:41:10.738188Z"
    }
   },
   "outputs": [
    {
     "data": {
      "text/plain": [
       "[array([10.1598625], dtype=float32), array([-0.23128414], dtype=float32)]"
      ]
     },
     "execution_count": 31,
     "metadata": {},
     "output_type": "execute_result"
    }
   ],
   "source": [
    "sess.run([W,b])"
   ]
  },
  {
   "cell_type": "code",
   "execution_count": 32,
   "metadata": {
    "ExecuteTime": {
     "end_time": "2021-03-22T06:41:19.323022Z",
     "start_time": "2021-03-22T06:41:19.314039Z"
    }
   },
   "outputs": [
    {
     "data": {
      "text/plain": [
       "array([101.36734], dtype=float32)"
      ]
     },
     "execution_count": 32,
     "metadata": {},
     "output_type": "execute_result"
    }
   ],
   "source": [
    "# 예측을 할 수 있으나 cost가 너무 큰 값이라 믿을 수 없음\n",
    "sess.run(H, feed_dict={x:10})"
   ]
  },
  {
   "cell_type": "code",
   "execution_count": 33,
   "metadata": {
    "ExecuteTime": {
     "end_time": "2021-03-22T06:41:25.637313Z",
     "start_time": "2021-03-22T06:41:25.634321Z"
    }
   },
   "outputs": [],
   "source": [
    "# 예측이 제대로 안 되는 이유 : GradientDescentOptimizer에서 local최소값을 만나면\n",
    "# global 최소값이 따로 있어도 멈춤"
   ]
  },
  {
   "cell_type": "markdown",
   "metadata": {},
   "source": [
    "## 독립변수 x 가 여러개인 linear regression\n",
    "- scale이 다른 x, y값(교안 pt.28)"
   ]
  },
  {
   "cell_type": "code",
   "execution_count": 34,
   "metadata": {
    "ExecuteTime": {
     "end_time": "2021-03-22T06:42:26.025375Z",
     "start_time": "2021-03-22T06:42:10.050090Z"
    }
   },
   "outputs": [
    {
     "name": "stdout",
     "output_type": "stream",
     "text": [
      "3000번째 cost:5.384036064147949\n",
      "6000번째 cost:2.7667670249938965\n",
      "9000번째 cost:2.0412168502807617\n",
      "12000번째 cost:1.7163352966308594\n",
      "15000번째 cost:1.4949947595596313\n",
      "18000번째 cost:1.3153293132781982\n",
      "21000번째 cost:1.1623274087905884\n",
      "24000번째 cost:1.030480980873108\n",
      "27000번째 cost:0.916580855846405\n",
      "30000번째 cost:0.8181264996528625\n",
      "33000번째 cost:0.7330058217048645\n",
      "36000번째 cost:0.659415066242218\n",
      "39000번째 cost:0.5957870483398438\n",
      "42000번째 cost:0.5407823324203491\n",
      "45000번째 cost:0.49321794509887695\n",
      "48000번째 cost:0.45209628343582153\n",
      "51000번째 cost:0.4165400564670563\n",
      "54000번째 cost:0.3857869505882263\n",
      "57000번째 cost:0.35920169949531555\n",
      "60000번째 cost:0.33621323108673096\n"
     ]
    }
   ],
   "source": [
    "# training data set\n",
    "# x_data = [[73,80,75],\n",
    "#           [93,88,93],\n",
    "#           [89,91,90],\n",
    "#           [96,98,100],\n",
    "#           [73,66,70]]\n",
    "# y_data = [[152],[185],[180],[196],[142]]\n",
    "x_data = np.array([[73,80,75],\n",
    "                   [93,88,93],\n",
    "                   [89,91,90],\n",
    "                   [96,98,100],\n",
    "                   [73,66,70]])\n",
    "y_data = np.array([[152],\n",
    "                   [185],\n",
    "                   [180],\n",
    "                   [196],\n",
    "                   [142]])\n",
    "\n",
    "# placeholder \n",
    "X = tf.placeholder(shape=[None, 3], dtype=tf.float32)\n",
    "Y = tf.placeholder(shape=[None, 1], dtype=tf.float32)\n",
    "\n",
    "# Weight & bias\n",
    "W = tf.Variable(tf.random_normal([3,1]), name=\"weight\")\n",
    "b = tf.Variable(tf.random_normal([1]), name=\"bias\")\n",
    "\n",
    "# Hypothesis\n",
    "# H = X @ W + b\n",
    "H = tf.matmul(X, W) + b\n",
    "\n",
    "# cost function\n",
    "cost = tf.reduce_mean(tf.square(H - Y))\n",
    "\n",
    "# train\n",
    "train = tf.train.GradientDescentOptimizer(learning_rate=1e-5).minimize(cost)\n",
    "\n",
    "# session & Variable 초기화\n",
    "sess = tf.Session()\n",
    "sess.run(tf.global_variables_initializer())\n",
    "\n",
    "# 학습\n",
    "for step in range(1, 60001):\n",
    "    _, cost_val = sess.run([train, cost], feed_dict={X:x_data, \n",
    "                                                    Y : y_data})\n",
    "    if step%3000 == 0 :\n",
    "        print(\"{}번째 cost:{}\".format(step, cost_val))"
   ]
  },
  {
   "cell_type": "markdown",
   "metadata": {},
   "source": [
    "## Ozone량 예측 예제"
   ]
  },
  {
   "cell_type": "code",
   "execution_count": 35,
   "metadata": {
    "ExecuteTime": {
     "end_time": "2021-03-22T07:21:19.082722Z",
     "start_time": "2021-03-22T07:21:19.078732Z"
    }
   },
   "outputs": [],
   "source": [
    "import tensorflow.compat.v1 as tf\n",
    "tf.disable_v2_behavior()\n",
    "import numpy as np\n",
    "import pandas as pd"
   ]
  },
  {
   "cell_type": "code",
   "execution_count": 36,
   "metadata": {
    "ExecuteTime": {
     "end_time": "2021-03-22T07:21:46.319000Z",
     "start_time": "2021-03-22T07:21:29.367836Z"
    }
   },
   "outputs": [
    {
     "name": "stdout",
     "output_type": "stream",
     "text": [
      "3000번째 cost 513.0557250976562\n",
      "6000번째 cost 469.7020568847656\n",
      "9000번째 cost 464.59954833984375\n",
      "12000번째 cost 463.9767150878906\n",
      "15000번째 cost 463.8784484863281\n",
      "18000번째 cost 463.8416442871094\n",
      "21000번째 cost 463.81219482421875\n",
      "24000번째 cost 463.78350830078125\n",
      "27000번째 cost 463.7548828125\n",
      "30000번째 cost 463.726318359375\n",
      "33000번째 cost 463.69781494140625\n",
      "36000번째 cost 463.6693115234375\n",
      "39000번째 cost 463.6408386230469\n",
      "42000번째 cost 463.6124267578125\n",
      "45000번째 cost 463.58404541015625\n",
      "48000번째 cost 463.5556335449219\n",
      "51000번째 cost 463.52734375\n",
      "54000번째 cost 463.4990539550781\n",
      "57000번째 cost 463.47064208984375\n",
      "60000번째 cost 463.4424133300781\n"
     ]
    }
   ],
   "source": [
    "# training data set 생성\n",
    "# data load -> 결측치 처리 -> 독립변수, 종속변수 분리\n",
    "data = pd.read_csv('./data/ozone.csv', sep=\",\")\n",
    "\n",
    "# data를 바로 학습할 수 없음. 데이터 정제 작업 필요.\n",
    "data = data.dropna(how='any') # 결측치가 한열이라도 있는 행 모두 제거\n",
    "\n",
    "# 필요한 columns만 추출\n",
    "data = data[['Ozone','Solar.R','Wind','Temp']]\n",
    "\n",
    "# training data set\n",
    "x_data = data[['Solar.R','Wind','Temp']].values # DataFrame을 numpy 배열로\n",
    "y_data = data[['Ozone']].values.reshape(-1, 1)\n",
    "x_data.shape, y_data.shape\n",
    "\n",
    "# tensorflow 구현\n",
    "# 1.placeholder\n",
    "X = tf.placeholder(shape=[None,3], dtype=tf.float32)\n",
    "Y = tf.placeholder(shape=[None, 1], dtype=tf.float32)\n",
    "\n",
    "# 2. Weight & bias 설정\n",
    "W = tf.Variable(tf.random_normal([3,1]), name=\"weight\")\n",
    "b = tf.Variable(tf.random_normal([1]), name=\"bias\")\n",
    "\n",
    "# 3. Hypothesis\n",
    "# H = X @ W + b\n",
    "H = tf.matmul(X, W) + b\n",
    "\n",
    "# 4. cost 함수\n",
    "cost = tf.reduce_mean(tf.square(H - Y))\n",
    "\n",
    "# 5. train\n",
    "train = tf.train.GradientDescentOptimizer(learning_rate=1e-5).minimize(cost)\n",
    "\n",
    "# 6. session & 초기화\n",
    "sess = tf.Session()\n",
    "sess.run(tf.global_variables_initializer())\n",
    "\n",
    "# 7. 학습\n",
    "for step in range(1, 60001):\n",
    "    _, cost_val = sess.run([train, cost], feed_dict={X:x_data,\n",
    "                                                    Y:y_data})\n",
    "    if step%3000 == 0:\n",
    "        print(\"{}번째 cost {}\".format(step, cost_val))"
   ]
  },
  {
   "cell_type": "code",
   "execution_count": 37,
   "metadata": {
    "ExecuteTime": {
     "end_time": "2021-03-22T07:22:00.286772Z",
     "start_time": "2021-03-22T07:22:00.265829Z"
    }
   },
   "outputs": [
    {
     "data": {
      "text/html": [
       "<div>\n",
       "<style scoped>\n",
       "    .dataframe tbody tr th:only-of-type {\n",
       "        vertical-align: middle;\n",
       "    }\n",
       "\n",
       "    .dataframe tbody tr th {\n",
       "        vertical-align: top;\n",
       "    }\n",
       "\n",
       "    .dataframe thead th {\n",
       "        text-align: right;\n",
       "    }\n",
       "</style>\n",
       "<table border=\"1\" class=\"dataframe\">\n",
       "  <thead>\n",
       "    <tr style=\"text-align: right;\">\n",
       "      <th></th>\n",
       "      <th>Ozone</th>\n",
       "      <th>Solar.R</th>\n",
       "      <th>Wind</th>\n",
       "      <th>Temp</th>\n",
       "    </tr>\n",
       "  </thead>\n",
       "  <tbody>\n",
       "    <tr>\n",
       "      <th>1</th>\n",
       "      <td>36.0</td>\n",
       "      <td>118.0</td>\n",
       "      <td>8.0</td>\n",
       "      <td>72</td>\n",
       "    </tr>\n",
       "  </tbody>\n",
       "</table>\n",
       "</div>"
      ],
      "text/plain": [
       "   Ozone  Solar.R  Wind  Temp\n",
       "1   36.0    118.0   8.0    72"
      ]
     },
     "execution_count": 37,
     "metadata": {},
     "output_type": "execute_result"
    }
   ],
   "source": [
    "data[1:2]"
   ]
  },
  {
   "cell_type": "code",
   "execution_count": 38,
   "metadata": {
    "ExecuteTime": {
     "end_time": "2021-03-22T07:22:02.115120Z",
     "start_time": "2021-03-22T07:22:01.966851Z"
    }
   },
   "outputs": [
    {
     "data": {
      "text/plain": [
       "array([[41.536865]], dtype=float32)"
      ]
     },
     "execution_count": 38,
     "metadata": {},
     "output_type": "execute_result"
    }
   ],
   "source": [
    "sess.run(H, feed_dict={X:np.array([[118,8,72]])})"
   ]
  },
  {
   "cell_type": "code",
   "execution_count": null,
   "metadata": {},
   "outputs": [],
   "source": [
    "# scale 맞추는 방법 : normalization(많이 씀), standardization(표준화)\n",
    "#                   X - Xmin\n",
    "# normalization = ──────────────\n",
    "#                  Xmax - Xmin\n",
    "# 위의 식을 써도 되지만 라이브러리를 씀(sklearn.preprocessing.MinMaxScaler 이용)\n",
    "#                    x - Xmean(평균)\n",
    "# standardization = ────────────────\n",
    "#                     Xstd(표준편차)\n",
    "# 의 식을 써도 되지만 라이브러리 씀(sklearn.preprocessing.StandardScaler 이용)"
   ]
  },
  {
   "cell_type": "code",
   "execution_count": 39,
   "metadata": {
    "ExecuteTime": {
     "end_time": "2021-03-22T07:36:54.358964Z",
     "start_time": "2021-03-22T07:36:38.519247Z"
    }
   },
   "outputs": [
    {
     "name": "stdout",
     "output_type": "stream",
     "text": [
      " 3000번째 cost 5.585353374481201\n",
      " 6000번째 cost 4.727122783660889\n",
      " 9000번째 cost 4.014029026031494\n",
      "12000번째 cost 3.421133518218994\n",
      "15000번째 cost 2.9278299808502197\n",
      "18000번째 cost 2.5170857906341553\n",
      "21000번째 cost 2.1748111248016357\n",
      "24000번째 cost 1.8893628120422363\n",
      "27000번째 cost 1.651094913482666\n",
      "30000번째 cost 1.4520275592803955\n",
      "33000번째 cost 1.2855541706085205\n",
      "36000번째 cost 1.1461962461471558\n",
      "39000번째 cost 1.0294148921966553\n",
      "42000번째 cost 0.9314462542533875\n",
      "45000번째 cost 0.849165141582489\n",
      "48000번째 cost 0.7799777984619141\n",
      "51000번째 cost 0.7217298746109009\n",
      "54000번째 cost 0.67262864112854\n",
      "57000번째 cost 0.6311833262443542\n",
      "60000번째 cost 0.5961531400680542\n"
     ]
    }
   ],
   "source": [
    "# training data set 생성\n",
    "# data load -> 결측치 처리 -> 독립변수, 종속변수 분리\n",
    "data = pd.read_csv('./data/ozone.csv', sep=\",\")\n",
    "\n",
    "# data를 바로 학습할 수 없음. 데이터 정제 작업 필요.\n",
    "data = data.dropna(how='any') # 결측치가 한열이라도 있는 행 모두 제거\n",
    "\n",
    "# 필요한 columns만 추출\n",
    "data = data[['Ozone','Solar.R','Wind','Temp']]\n",
    "\n",
    "# scale 조정(standardization)\n",
    "#                    x - Xmean(평균)\n",
    "# standardization = ────────────────\n",
    "#                     Xstd(표준편차)\n",
    "data['Ozone'] = (data['Ozone']- data['Ozone'].mean())/data['Ozone'].std()\n",
    "data['Solar.R'] = (data['Solar.R']- data['Solar.R'].mean()) / data['Solar.R'].std()\n",
    "data['Wind'] = (data['Wind']- data['Wind'].mean())/data['Wind'].std()\n",
    "data['Temp'] = (data['Temp']- data['Temp'].mean())/data['Temp'].std()\n",
    "\n",
    "# training data set\n",
    "x_data = data[['Solar.R','Wind','Temp']].values # DataFrame을 numpy 배열로\n",
    "y_data = data[['Ozone']].values.reshape(-1, 1)\n",
    "x_data.shape, y_data.shape\n",
    "\n",
    "# tensorflow 구현\n",
    "# 1.placeholder\n",
    "X = tf.placeholder(shape=[None,3], dtype=tf.float32)\n",
    "Y = tf.placeholder(shape=[None, 1], dtype=tf.float32)\n",
    "\n",
    "# 2. Weight & bias 설정\n",
    "W = tf.Variable(tf.random_normal([3,1]), name=\"weight\")\n",
    "b = tf.Variable(tf.random_normal([1]), name=\"bias\")\n",
    "\n",
    "# 3. Hypothesis\n",
    "# H = X @ W + b\n",
    "H = tf.matmul(X, W) + b\n",
    "\n",
    "# 4. cost 함수\n",
    "cost = tf.reduce_mean(tf.square(H - Y))\n",
    "\n",
    "# 5. train\n",
    "train = tf.train.GradientDescentOptimizer(learning_rate=1e-5).minimize(cost)\n",
    "\n",
    "# 6. session & 초기화\n",
    "sess = tf.Session()\n",
    "sess.run(tf.global_variables_initializer())\n",
    "\n",
    "# 7. 학습\n",
    "for step in range(1, 60001):\n",
    "    _, cost_val = sess.run([train, cost], feed_dict={X:x_data,\n",
    "                                                    Y:y_data})\n",
    "    if step%3000 == 0:\n",
    "        print(\"{:5d}번째 cost {}\".format(step, cost_val))"
   ]
  },
  {
   "cell_type": "code",
   "execution_count": 42,
   "metadata": {
    "ExecuteTime": {
     "end_time": "2021-03-22T08:38:19.061691Z",
     "start_time": "2021-03-22T08:38:19.057727Z"
    }
   },
   "outputs": [],
   "source": [
    "# predict 하려면 scale이 맞춰진 데이터로 predict를 하고 결과를 다시 scale조정"
   ]
  },
  {
   "cell_type": "code",
   "execution_count": 43,
   "metadata": {
    "ExecuteTime": {
     "end_time": "2021-03-22T08:38:55.956446Z",
     "start_time": "2021-03-22T08:38:37.041174Z"
    }
   },
   "outputs": [
    {
     "name": "stdout",
     "output_type": "stream",
     "text": [
      "scale 조정 전 데이터 : \n",
      " [[190.    7.4  67.   41. ]\n",
      " [118.    8.   72.   36. ]\n",
      " [149.   12.6  74.   12. ]]\n",
      "scale 조정된 데이터 :\n",
      " [[0.55963303 0.27717391 0.25       0.23952096]\n",
      " [0.33944954 0.30978261 0.375      0.20958084]\n",
      " [0.43425076 0.55978261 0.425      0.06586826]]\n",
      " 3000번째 cost 5.172966957092285\n",
      " 6000번째 cost 4.213175296783447\n",
      " 9000번째 cost 3.436371326446533\n",
      "12000번째 cost 2.8076627254486084\n",
      "15000번째 cost 2.298795223236084\n",
      "18000번째 cost 1.8869144916534424\n",
      "21000번째 cost 1.5535236597061157\n",
      "24000번째 cost 1.2836648225784302\n",
      "27000번째 cost 1.0652098655700684\n",
      "30000번째 cost 0.8883465528488159\n",
      "33000번째 cost 0.7451657652854919\n",
      "36000번째 cost 0.6292188763618469\n",
      "39000번째 cost 0.5353329181671143\n",
      "42000번째 cost 0.45928066968917847\n",
      "45000번째 cost 0.3976818025112152\n",
      "48000번째 cost 0.3477550446987152\n",
      "51000번째 cost 0.30730268359184265\n",
      "54000번째 cost 0.27450308203697205\n",
      "57000번째 cost 0.24789655208587646\n",
      "60000번째 cost 0.22630435228347778\n"
     ]
    }
   ],
   "source": [
    "# training data set 생성\n",
    "# data load -> 결측치 처리 -> 독립변수, 종속변수 분리\n",
    "data = pd.read_csv('./data/ozone.csv', sep=\",\")\n",
    "\n",
    "# data를 바로 학습할 수 없음. 데이터 정제 작업 필요.\n",
    "data = data.dropna(how='any') # 결측치가 한열이라도 있는 행 모두 제거\n",
    "\n",
    "# 필요한 columns만 추출\n",
    "data = data[['Ozone','Solar.R','Wind','Temp']]\n",
    "\n",
    "# training data set\n",
    "x_data = data[['Solar.R','Wind','Temp']].values # DataFrame을 numpy 배열로\n",
    "y_data = data[['Ozone']].values.reshape(-1, 1)\n",
    "\n",
    "print('scale 조정 전 데이터 : \\n', np.c_[x_data[:3], y_data[:3]])\n",
    "# scale 조정(1) sklearn.preprocessing.MinMaxScaler\n",
    "from sklearn.preprocessing import MinMaxScaler\n",
    "scale_x = MinMaxScaler() # scale_x : x_data를 scale조정할 객체\n",
    "# x_data에 대한 설정을 잡는 부분 ; x_data 3개 컬럼에 대한 max, min 설정\n",
    "scale_x.fit(x_data) \n",
    "x_data = scale_x.transform(x_data) # scale 조정된 x_data\n",
    "\n",
    "scale_y = MinMaxScaler()\n",
    "scale_y.fit(y_data)\n",
    "y_data = scale_y.transform(y_data) # scale 조정된 y_data\n",
    "print('scale 조정된 데이터 :\\n', np.c_[x_data[:3], y_data[:3]])\n",
    "\n",
    "# tensorflow 구현\n",
    "# 1.placeholder\n",
    "X = tf.placeholder(shape=[None,3], dtype=tf.float32)\n",
    "Y = tf.placeholder(shape=[None, 1], dtype=tf.float32)\n",
    "\n",
    "# 2. Weight & bias 설정\n",
    "W = tf.Variable(tf.random_normal([3,1]), name=\"weight\")\n",
    "b = tf.Variable(tf.random_normal([1]), name=\"bias\")\n",
    "\n",
    "# 3. Hypothesis\n",
    "# H = X @ W + b\n",
    "H = tf.matmul(X, W) + b\n",
    "\n",
    "# 4. cost 함수\n",
    "cost = tf.reduce_mean(tf.square(H - Y))\n",
    "\n",
    "# 5. train\n",
    "train = tf.train.GradientDescentOptimizer(learning_rate=1e-5).minimize(cost)\n",
    "\n",
    "# 6. session & 초기화\n",
    "sess = tf.Session()\n",
    "sess.run(tf.global_variables_initializer())\n",
    "\n",
    "# 7. 학습\n",
    "for step in range(1, 60001):\n",
    "    _, cost_val = sess.run([train, cost], feed_dict={X:x_data,\n",
    "                                                    Y:y_data})\n",
    "    if step%3000 == 0:\n",
    "        print(\"{:5d}번째 cost {}\".format(step, cost_val))"
   ]
  },
  {
   "cell_type": "code",
   "execution_count": 44,
   "metadata": {
    "ExecuteTime": {
     "end_time": "2021-03-22T08:39:35.452943Z",
     "start_time": "2021-03-22T08:39:35.449950Z"
    }
   },
   "outputs": [],
   "source": [
    "# 8. prediction\n",
    "input_data = np.array([[118., 8.,72.]])"
   ]
  },
  {
   "cell_type": "code",
   "execution_count": 45,
   "metadata": {
    "ExecuteTime": {
     "end_time": "2021-03-22T08:39:37.821227Z",
     "start_time": "2021-03-22T08:39:37.816232Z"
    }
   },
   "outputs": [
    {
     "name": "stdout",
     "output_type": "stream",
     "text": [
      "원 데이터 :  [[118.   8.  72.]]\n",
      "scale 조정된 데이터 : [[0.33944954 0.30978261 0.375     ]]\n"
     ]
    }
   ],
   "source": [
    "scale_input_data = scale_x.transform(input_data)\n",
    "print('원 데이터 : ', input_data)\n",
    "print('scale 조정된 데이터 :', scale_input_data)"
   ]
  },
  {
   "cell_type": "code",
   "execution_count": 46,
   "metadata": {
    "ExecuteTime": {
     "end_time": "2021-03-22T08:39:40.973053Z",
     "start_time": "2021-03-22T08:39:40.961106Z"
    }
   },
   "outputs": [
    {
     "data": {
      "text/plain": [
       "array([[1.7888327]], dtype=float32)"
      ]
     },
     "execution_count": 46,
     "metadata": {},
     "output_type": "execute_result"
    }
   ],
   "source": [
    "predict_value = sess.run(H, feed_dict={X:scale_input_data})\n",
    "scale_y.inverse_transform(predict_value)"
   ]
  },
  {
   "cell_type": "code",
   "execution_count": 47,
   "metadata": {
    "ExecuteTime": {
     "end_time": "2021-03-22T08:40:02.430519Z",
     "start_time": "2021-03-22T08:39:45.297063Z"
    }
   },
   "outputs": [
    {
     "name": "stdout",
     "output_type": "stream",
     "text": [
      "조정전\n",
      " [[190.    7.4  67.   41. ]\n",
      " [118.    8.   72.   36. ]]\n",
      "조정후\n",
      " [[ 0.05728624 -0.71707784 -1.13764691 -0.03317961]\n",
      " [-0.73618283 -0.54766534 -0.61060682 -0.18411965]]\n",
      " 3000번째 cost 3.2341034412384033\n",
      " 6000번째 cost 2.993908643722534\n",
      " 9000번째 cost 2.7766997814178467\n",
      "12000번째 cost 2.5800154209136963\n",
      "15000번째 cost 2.401670455932617\n",
      "18000번째 cost 2.2397446632385254\n",
      "21000번째 cost 2.092525005340576\n",
      "24000번째 cost 1.9585157632827759\n",
      "27000번째 cost 1.8363834619522095\n",
      "30000번째 cost 1.7249506711959839\n",
      "33000번째 cost 1.6231807470321655\n",
      "36000번째 cost 1.5301156044006348\n",
      "39000번째 cost 1.4449312686920166\n",
      "42000번째 cost 1.3668811321258545\n",
      "45000번째 cost 1.2952933311462402\n",
      "48000번째 cost 1.2295773029327393\n",
      "51000번째 cost 1.1691927909851074\n",
      "54000번째 cost 1.1136664152145386\n",
      "57000번째 cost 1.0625548362731934\n",
      "60000번째 cost 1.0154640674591064\n"
     ]
    }
   ],
   "source": [
    "# training data set 생성\n",
    "# data load -> 결측치 처리 -> 독립변수, 종속변수 분리\n",
    "data = pd.read_csv('./data/ozone.csv', sep=\",\")\n",
    "\n",
    "# data를 바로 학습할 수 없음. 데이터 정제 작업 필요.\n",
    "data = data.dropna(how='any') # 결측치가 한열이라도 있는 행 모두 제거\n",
    "\n",
    "# 필요한 columns만 추출\n",
    "data = data[['Ozone','Solar.R','Wind','Temp']]\n",
    "\n",
    "# scale 조정 : data를 한꺼번에 scale 조정 시 prediction 힘듦\n",
    "# from sklearn.preprocessing import StandardScaler\n",
    "# scaler = StandardScaler()\n",
    "# scaler.fit(data)\n",
    "# data = pd.DataFrame(scaler.transform(data),\n",
    "#                     columns=['Ozone','Solar.R','Wind','Temp'])\n",
    "\n",
    "# training data set\n",
    "x_data = data[['Solar.R','Wind','Temp']].values # DataFrame을 numpy 배열로\n",
    "y_data = data[['Ozone']].values.reshape(-1, 1)\n",
    "\n",
    "print('조정전\\n', np.c_[x_data[:2], y_data[:2]])\n",
    "# scale 조정 : x_data, y_data scale을 따로 따로 - prediction 가능\n",
    "from sklearn.preprocessing import StandardScaler\n",
    "scaler_x = StandardScaler()\n",
    "scaler_x.fit(x_data)\n",
    "x_data = scaler_x.transform(x_data)\n",
    "\n",
    "scaler_y = StandardScaler()\n",
    "scaler_y.fit(y_data)\n",
    "y_data = scaler_y.transform(y_data)\n",
    "print('조정후\\n', np.c_[x_data[:2], y_data[:2]])\n",
    "\n",
    "# tensorflow 구현\n",
    "# 1.placeholder\n",
    "X = tf.placeholder(shape=[None,3], dtype=tf.float32)\n",
    "Y = tf.placeholder(shape=[None, 1], dtype=tf.float32)\n",
    "\n",
    "# 2. Weight & bias 설정\n",
    "W = tf.Variable(tf.random_normal([3,1]), name=\"weight\")\n",
    "b = tf.Variable(tf.random_normal([1]), name=\"bias\")\n",
    "\n",
    "# 3. Hypothesis\n",
    "# H = X @ W + b\n",
    "H = tf.matmul(X, W) + b\n",
    "\n",
    "# 4. cost 함수\n",
    "cost = tf.reduce_mean(tf.square(H - Y))\n",
    "\n",
    "# 5. train\n",
    "train = tf.train.GradientDescentOptimizer(learning_rate=1e-5).minimize(cost)\n",
    "\n",
    "# 6. session & 초기화\n",
    "sess = tf.Session()\n",
    "sess.run(tf.global_variables_initializer())\n",
    "\n",
    "# 7. 학습\n",
    "for step in range(1, 60001):\n",
    "    _, cost_val = sess.run([train, cost], feed_dict={X:x_data,\n",
    "                                                    Y:y_data})\n",
    "    if step%3000 == 0:\n",
    "        print(\"{:5d}번째 cost {}\".format(step, cost_val))"
   ]
  },
  {
   "cell_type": "code",
   "execution_count": 48,
   "metadata": {
    "ExecuteTime": {
     "end_time": "2021-03-22T08:40:13.660432Z",
     "start_time": "2021-03-22T08:40:13.649443Z"
    }
   },
   "outputs": [
    {
     "data": {
      "text/plain": [
       "array([[52.999905]], dtype=float32)"
      ]
     },
     "execution_count": 48,
     "metadata": {},
     "output_type": "execute_result"
    }
   ],
   "source": [
    "input_data = np.array([[118.,8.,72.]])\n",
    "scaled_input_data = scale_x.transform(input_data)\n",
    "scaler_y.inverse_transform(sess.run(H, feed_dict={X:scaled_input_data}))"
   ]
  },
  {
   "cell_type": "code",
   "execution_count": 49,
   "metadata": {
    "ExecuteTime": {
     "end_time": "2021-03-22T08:40:15.891067Z",
     "start_time": "2021-03-22T08:40:15.881069Z"
    }
   },
   "outputs": [
    {
     "data": {
      "text/plain": [
       "[array([[-0.4627602 ],\n",
       "        [-0.01051542],\n",
       "        [ 1.2542136 ]], dtype=float32),\n",
       " array([0.01908476], dtype=float32)]"
      ]
     },
     "execution_count": 49,
     "metadata": {},
     "output_type": "execute_result"
    }
   ],
   "source": [
    "sess.run([W, b])"
   ]
  },
  {
   "cell_type": "markdown",
   "metadata": {},
   "source": [
    "##  logistic Regression = Binary classification(2개 그룹 그룹)"
   ]
  },
  {
   "cell_type": "code",
   "execution_count": 50,
   "metadata": {
    "ExecuteTime": {
     "end_time": "2021-03-22T09:09:41.279831Z",
     "start_time": "2021-03-22T09:09:39.684540Z"
    }
   },
   "outputs": [
    {
     "name": "stdout",
     "output_type": "stream",
     "text": [
      "w값은  0.12925170068027214 ,b값은  -0.27210884353741516\n"
     ]
    },
    {
     "data": {
      "text/plain": [
       "[<matplotlib.lines.Line2D at 0x2761d9e1ca0>]"
      ]
     },
     "execution_count": 50,
     "metadata": {},
     "output_type": "execute_result"
    },
    {
     "data": {
      "image/png": "[encoded data removed]",
      "text/plain": [
       "<Figure size 432x288 with 1 Axes>"
      ]
     },
     "metadata": {
      "needs_background": "light"
     },
     "output_type": "display_data"
    }
   ],
   "source": [
    "# logistic Regression이 필요한 이유(기존의 linear regression으로는 안 되는 이유)\n",
    "import numpy as np\n",
    "import matplotlib.pyplot as plt\n",
    "from scipy import stats\n",
    "\n",
    "x = np.array([1,2,5,8,10])\n",
    "y = np.array([0,0,0,1,1])\n",
    "lm = stats.linregress(x, y)\n",
    "print('w값은 ', lm[0], ',b값은 ', lm[1])\n",
    "plt.scatter(x, y)\n",
    "plt.plot(x, x*lm[0]+lm[1], 'r')"
   ]
  },
  {
   "cell_type": "code",
   "execution_count": 51,
   "metadata": {
    "ExecuteTime": {
     "end_time": "2021-03-22T09:09:50.570400Z",
     "start_time": "2021-03-22T09:09:50.423766Z"
    }
   },
   "outputs": [
    {
     "name": "stdout",
     "output_type": "stream",
     "text": [
      "w값은  0.03500583430571762 ,b값은  0.1732788798133022\n"
     ]
    },
    {
     "data": {
      "text/plain": [
       "[<matplotlib.lines.Line2D at 0x2761dad2790>]"
      ]
     },
     "execution_count": 51,
     "metadata": {},
     "output_type": "execute_result"
    },
    {
     "data": {
      "image/png": "[encoded data removed]",
      "text/plain": [
       "<Figure size 432x288 with 1 Axes>"
      ]
     },
     "metadata": {
      "needs_background": "light"
     },
     "output_type": "display_data"
    }
   ],
   "source": [
    "# logistic Regression이 필요한 이유(기존의 linear regression으로는 안 되는 이유)\n",
    "import numpy as np\n",
    "import matplotlib.pyplot as plt\n",
    "from scipy import stats\n",
    "\n",
    "x = np.array([1,2,5,8,10,30])\n",
    "y = np.array([0,0,0,1,1,1])\n",
    "lm = stats.linregress(x, y)\n",
    "print('w값은 ', lm[0], ',b값은 ', lm[1])\n",
    "plt.scatter(x, y)\n",
    "plt.plot(x, x*lm[0]+lm[1], 'r')"
   ]
  }
 ],
 "metadata": {
  "kernelspec": {
   "display_name": "Python 3",
   "language": "python",
   "name": "python3"
  },
  "language_info": {
   "codemirror_mode": {
    "name": "ipython",
    "version": 3
   },
   "file_extension": ".py",
   "mimetype": "text/x-python",
   "name": "python",
   "nbconvert_exporter": "python",
   "pygments_lexer": "ipython3",
   "version": "3.8.3"
  },
  "toc": {
   "base_numbering": "5",
   "nav_menu": {},
   "number_sections": true,
   "sideBar": true,
   "skip_h1_title": false,
   "title_cell": "Table of Contents",
   "title_sidebar": "Contents",
   "toc_cell": false,
   "toc_position": {
    "height": "795.556px",
    "left": "28px",
    "top": "146.733px",
    "width": "211.997px"
   },
   "toc_section_display": true,
   "toc_window_display": false
  },
  "varInspector": {
   "cols": {
    "lenName": 16,
    "lenType": 16,
    "lenVar": 40
   },
   "kernels_config": {
    "python": {
     "delete_cmd_postfix": "",
     "delete_cmd_prefix": "del ",
     "library": "var_list.py",
     "varRefreshCmd": "print(var_dic_list())"
    },
    "r": {
     "delete_cmd_postfix": ") ",
     "delete_cmd_prefix": "rm(",
     "library": "var_list.r",
     "varRefreshCmd": "cat(var_dic_list()) "
    }
   },
   "types_to_exclude": [
    "module",
    "function",
    "builtin_function_or_method",
    "instance",
    "_Feature"
   ],
   "window_display": false
  }
 },
 "nbformat": 4,
 "nbformat_minor": 4
}
