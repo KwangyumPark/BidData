{
 "cells": [
  {
   "cell_type": "markdown",
   "metadata": {},
   "source": [
    "21.03.24 ML_DL 손글씨 데이터 분석 예제"
   ]
  },
  {
   "cell_type": "markdown",
   "metadata": {},
   "source": [
    "# 딥러닝 기초_손글씨 데이터 "
   ]
  },
  {
   "cell_type": "code",
   "execution_count": 2,
   "metadata": {
    "ExecuteTime": {
     "end_time": "2021-03-24T00:26:44.766730Z",
     "start_time": "2021-03-24T00:26:32.890369Z"
    }
   },
   "outputs": [],
   "source": [
    "from tensorflow.keras.datasets import mnist # mnist 데이터 셋\n",
    "import tensorflow.keras.utils as utils # 원핫 인코딩\n",
    "from tensorflow.keras.models import Sequential # 모델\n",
    "from tensorflow.keras.layers import Dense, Activation # model.add시\n",
    "from matplotlib import pyplot as plt\n",
    "import numpy as np\n",
    "np.random.seed(3)"
   ]
  },
  {
   "cell_type": "code",
   "execution_count": 3,
   "metadata": {
    "ExecuteTime": {
     "end_time": "2021-03-24T00:26:45.251451Z",
     "start_time": "2021-03-24T00:26:44.767720Z"
    }
   },
   "outputs": [],
   "source": [
    "# 1. 데이터 셋 준비하기\n",
    "# 훈련셋, 검증 셋 분리\n",
    "(X_train, Y_train), (X_test, Y_test) = mnist.load_data()"
   ]
  },
  {
   "cell_type": "code",
   "execution_count": 4,
   "metadata": {
    "ExecuteTime": {
     "end_time": "2021-03-24T00:26:45.261423Z",
     "start_time": "2021-03-24T00:26:45.253444Z"
    }
   },
   "outputs": [
    {
     "data": {
      "text/plain": [
       "((60000, 28, 28), (60000,), (10000, 28, 28), (10000,))"
      ]
     },
     "execution_count": 4,
     "metadata": {},
     "output_type": "execute_result"
    }
   ],
   "source": [
    "X_train.shape, Y_train.shape, X_test.shape, Y_test.shape"
   ]
  },
  {
   "cell_type": "code",
   "execution_count": 5,
   "metadata": {
    "ExecuteTime": {
     "end_time": "2021-03-24T00:26:45.366442Z",
     "start_time": "2021-03-24T00:26:45.263418Z"
    }
   },
   "outputs": [
    {
     "data": {
      "text/plain": [
       "array([[  0,   0,   0,   0,   0,   0,   0,   0,   0,   0,   0,   0,   0,\n",
       "          0,   0,   0,   0,   0,   0,   0,   0,   0,   0,   0,   0,   0,\n",
       "          0,   0],\n",
       "       [  0,   0,   0,   0,   0,   0,   0,   0,   0,   0,   0,   0,   0,\n",
       "          0,   0,   0,   0,   0,   0,   0,   0,   0,   0,   0,   0,   0,\n",
       "          0,   0],\n",
       "       [  0,   0,   0,   0,   0,   0,   0,   0,   0,   0,   0,   0,   0,\n",
       "          0,   0,   0,   0,   0,   0,   0,   0,   0,   0,   0,   0,   0,\n",
       "          0,   0],\n",
       "       [  0,   0,   0,   0,   0,   0,   0,   0,   0,   0,   0,   0,   0,\n",
       "          0,   0,   0,   0,   0,   0,   0,   0,   0,   0,   0,   0,   0,\n",
       "          0,   0],\n",
       "       [  0,   0,   0,   0,   0,   0,   0,   0,   0,   0,   0,   0,   0,\n",
       "          0,   0,   0,   0,   0,   0,   0,   0,   0,   0,   0,   0,   0,\n",
       "          0,   0],\n",
       "       [  0,   0,   0,   0,   0,   0,   0,   0,   0,   0,   0,   0,   3,\n",
       "         18,  18,  18, 126, 136, 175,  26, 166, 255, 247, 127,   0,   0,\n",
       "          0,   0],\n",
       "       [  0,   0,   0,   0,   0,   0,   0,   0,  30,  36,  94, 154, 170,\n",
       "        253, 253, 253, 253, 253, 225, 172, 253, 242, 195,  64,   0,   0,\n",
       "          0,   0],\n",
       "       [  0,   0,   0,   0,   0,   0,   0,  49, 238, 253, 253, 253, 253,\n",
       "        253, 253, 253, 253, 251,  93,  82,  82,  56,  39,   0,   0,   0,\n",
       "          0,   0],\n",
       "       [  0,   0,   0,   0,   0,   0,   0,  18, 219, 253, 253, 253, 253,\n",
       "        253, 198, 182, 247, 241,   0,   0,   0,   0,   0,   0,   0,   0,\n",
       "          0,   0],\n",
       "       [  0,   0,   0,   0,   0,   0,   0,   0,  80, 156, 107, 253, 253,\n",
       "        205,  11,   0,  43, 154,   0,   0,   0,   0,   0,   0,   0,   0,\n",
       "          0,   0],\n",
       "       [  0,   0,   0,   0,   0,   0,   0,   0,   0,  14,   1, 154, 253,\n",
       "         90,   0,   0,   0,   0,   0,   0,   0,   0,   0,   0,   0,   0,\n",
       "          0,   0],\n",
       "       [  0,   0,   0,   0,   0,   0,   0,   0,   0,   0,   0, 139, 253,\n",
       "        190,   2,   0,   0,   0,   0,   0,   0,   0,   0,   0,   0,   0,\n",
       "          0,   0],\n",
       "       [  0,   0,   0,   0,   0,   0,   0,   0,   0,   0,   0,  11, 190,\n",
       "        253,  70,   0,   0,   0,   0,   0,   0,   0,   0,   0,   0,   0,\n",
       "          0,   0],\n",
       "       [  0,   0,   0,   0,   0,   0,   0,   0,   0,   0,   0,   0,  35,\n",
       "        241, 225, 160, 108,   1,   0,   0,   0,   0,   0,   0,   0,   0,\n",
       "          0,   0],\n",
       "       [  0,   0,   0,   0,   0,   0,   0,   0,   0,   0,   0,   0,   0,\n",
       "         81, 240, 253, 253, 119,  25,   0,   0,   0,   0,   0,   0,   0,\n",
       "          0,   0],\n",
       "       [  0,   0,   0,   0,   0,   0,   0,   0,   0,   0,   0,   0,   0,\n",
       "          0,  45, 186, 253, 253, 150,  27,   0,   0,   0,   0,   0,   0,\n",
       "          0,   0],\n",
       "       [  0,   0,   0,   0,   0,   0,   0,   0,   0,   0,   0,   0,   0,\n",
       "          0,   0,  16,  93, 252, 253, 187,   0,   0,   0,   0,   0,   0,\n",
       "          0,   0],\n",
       "       [  0,   0,   0,   0,   0,   0,   0,   0,   0,   0,   0,   0,   0,\n",
       "          0,   0,   0,   0, 249, 253, 249,  64,   0,   0,   0,   0,   0,\n",
       "          0,   0],\n",
       "       [  0,   0,   0,   0,   0,   0,   0,   0,   0,   0,   0,   0,   0,\n",
       "          0,  46, 130, 183, 253, 253, 207,   2,   0,   0,   0,   0,   0,\n",
       "          0,   0],\n",
       "       [  0,   0,   0,   0,   0,   0,   0,   0,   0,   0,   0,   0,  39,\n",
       "        148, 229, 253, 253, 253, 250, 182,   0,   0,   0,   0,   0,   0,\n",
       "          0,   0],\n",
       "       [  0,   0,   0,   0,   0,   0,   0,   0,   0,   0,  24, 114, 221,\n",
       "        253, 253, 253, 253, 201,  78,   0,   0,   0,   0,   0,   0,   0,\n",
       "          0,   0],\n",
       "       [  0,   0,   0,   0,   0,   0,   0,   0,  23,  66, 213, 253, 253,\n",
       "        253, 253, 198,  81,   2,   0,   0,   0,   0,   0,   0,   0,   0,\n",
       "          0,   0],\n",
       "       [  0,   0,   0,   0,   0,   0,  18, 171, 219, 253, 253, 253, 253,\n",
       "        195,  80,   9,   0,   0,   0,   0,   0,   0,   0,   0,   0,   0,\n",
       "          0,   0],\n",
       "       [  0,   0,   0,   0,  55, 172, 226, 253, 253, 253, 253, 244, 133,\n",
       "         11,   0,   0,   0,   0,   0,   0,   0,   0,   0,   0,   0,   0,\n",
       "          0,   0],\n",
       "       [  0,   0,   0,   0, 136, 253, 253, 253, 212, 135, 132,  16,   0,\n",
       "          0,   0,   0,   0,   0,   0,   0,   0,   0,   0,   0,   0,   0,\n",
       "          0,   0],\n",
       "       [  0,   0,   0,   0,   0,   0,   0,   0,   0,   0,   0,   0,   0,\n",
       "          0,   0,   0,   0,   0,   0,   0,   0,   0,   0,   0,   0,   0,\n",
       "          0,   0],\n",
       "       [  0,   0,   0,   0,   0,   0,   0,   0,   0,   0,   0,   0,   0,\n",
       "          0,   0,   0,   0,   0,   0,   0,   0,   0,   0,   0,   0,   0,\n",
       "          0,   0],\n",
       "       [  0,   0,   0,   0,   0,   0,   0,   0,   0,   0,   0,   0,   0,\n",
       "          0,   0,   0,   0,   0,   0,   0,   0,   0,   0,   0,   0,   0,\n",
       "          0,   0]], dtype=uint8)"
      ]
     },
     "execution_count": 5,
     "metadata": {},
     "output_type": "execute_result"
    }
   ],
   "source": [
    "X_train[0]"
   ]
  },
  {
   "cell_type": "code",
   "execution_count": 6,
   "metadata": {
    "ExecuteTime": {
     "end_time": "2021-03-24T00:26:45.749829Z",
     "start_time": "2021-03-24T00:26:45.368399Z"
    }
   },
   "outputs": [
    {
     "data": {
      "text/plain": [
       "<matplotlib.image.AxesImage at 0x1e18d1601c0>"
      ]
     },
     "execution_count": 6,
     "metadata": {},
     "output_type": "execute_result"
    },
    {
     "data": {
      "image/png": "[encoded data removed]",
      "text/plain": [
       "<Figure size 432x288 with 1 Axes>"
      ]
     },
     "metadata": {
      "needs_background": "light"
     },
     "output_type": "display_data"
    }
   ],
   "source": [
    "plt.imshow(X_train[0])"
   ]
  },
  {
   "cell_type": "code",
   "execution_count": 7,
   "metadata": {
    "ExecuteTime": {
     "end_time": "2021-03-24T00:26:45.757808Z",
     "start_time": "2021-03-24T00:26:45.751824Z"
    }
   },
   "outputs": [
    {
     "data": {
      "text/plain": [
       "5"
      ]
     },
     "execution_count": 7,
     "metadata": {},
     "output_type": "execute_result"
    }
   ],
   "source": [
    "Y_train[0]"
   ]
  },
  {
   "cell_type": "code",
   "execution_count": 8,
   "metadata": {
    "ExecuteTime": {
     "end_time": "2021-03-24T00:26:45.862776Z",
     "start_time": "2021-03-24T00:26:45.758805Z"
    }
   },
   "outputs": [],
   "source": [
    "# 훈련셋과 검증셋 분리(X_train, Y_train을 검증셋과 훈련셋으로 분리)\n",
    "X_val = X_train[50000:]\n",
    "Y_val = Y_train[50000:]\n",
    "X_train = X_train[:50000]\n",
    "Y_train = Y_train[:50000]"
   ]
  },
  {
   "cell_type": "code",
   "execution_count": 9,
   "metadata": {
    "ExecuteTime": {
     "end_time": "2021-03-24T00:26:45.967477Z",
     "start_time": "2021-03-24T00:26:45.864752Z"
    }
   },
   "outputs": [
    {
     "data": {
      "text/plain": [
       "((50000, 28, 28), (50000,))"
      ]
     },
     "execution_count": 9,
     "metadata": {},
     "output_type": "execute_result"
    }
   ],
   "source": [
    "# 훈련셋 - model이 학습할 때 사용\n",
    "X_train.shape, Y_train.shape"
   ]
  },
  {
   "cell_type": "code",
   "execution_count": 10,
   "metadata": {
    "ExecuteTime": {
     "end_time": "2021-03-24T00:26:46.068207Z",
     "start_time": "2021-03-24T00:26:45.969471Z"
    }
   },
   "outputs": [
    {
     "data": {
      "text/plain": [
       "(10000, 10000)"
      ]
     },
     "execution_count": 10,
     "metadata": {},
     "output_type": "execute_result"
    }
   ],
   "source": [
    "# 검증셋 - model이 학습할 떼 사용\n",
    "len(X_val), len(Y_val)"
   ]
  },
  {
   "cell_type": "code",
   "execution_count": 11,
   "metadata": {
    "ExecuteTime": {
     "end_time": "2021-03-24T00:26:46.233840Z",
     "start_time": "2021-03-24T00:26:46.073195Z"
    }
   },
   "outputs": [
    {
     "data": {
      "text/plain": [
       "(10000, 10000)"
      ]
     },
     "execution_count": 11,
     "metadata": {},
     "output_type": "execute_result"
    }
   ],
   "source": [
    "# 훈련셋 - model 평가할 때 사용 \n",
    "len(X_test), len(Y_test)"
   ]
  },
  {
   "cell_type": "code",
   "execution_count": 12,
   "metadata": {
    "ExecuteTime": {
     "end_time": "2021-03-24T00:26:46.349652Z",
     "start_time": "2021-03-24T00:26:46.235809Z"
    }
   },
   "outputs": [
    {
     "data": {
      "text/plain": [
       "((50000, 28, 28), (10000, 28, 28), (10000, 28, 28))"
      ]
     },
     "execution_count": 12,
     "metadata": {},
     "output_type": "execute_result"
    }
   ],
   "source": [
    "X_train.shape, X_val.shape, X_test.shape"
   ]
  },
  {
   "cell_type": "code",
   "execution_count": 13,
   "metadata": {
    "ExecuteTime": {
     "end_time": "2021-03-24T00:26:46.710686Z",
     "start_time": "2021-03-24T00:26:46.351647Z"
    }
   },
   "outputs": [],
   "source": [
    "# normalize 하기 위해 색상값으로 나눠\n",
    "X_train = X_train.reshape(50000,784).astype('float32') / 255.0\n",
    "X_val   = X_val.reshape(10000,784).astype('float32')/255.0\n",
    "X_test = X_test.reshape(10000,784).astype('float32')/255.0"
   ]
  },
  {
   "cell_type": "code",
   "execution_count": 14,
   "metadata": {
    "ExecuteTime": {
     "end_time": "2021-03-24T00:26:46.716671Z",
     "start_time": "2021-03-24T00:26:46.711684Z"
    }
   },
   "outputs": [
    {
     "data": {
      "text/plain": [
       "((50000, 784), (10000, 784), (10000, 784))"
      ]
     },
     "execution_count": 14,
     "metadata": {},
     "output_type": "execute_result"
    }
   ],
   "source": [
    "X_train.shape, X_val.shape, X_test.shape"
   ]
  },
  {
   "cell_type": "code",
   "execution_count": 15,
   "metadata": {
    "ExecuteTime": {
     "end_time": "2021-03-24T00:26:46.864541Z",
     "start_time": "2021-03-24T00:26:46.718665Z"
    }
   },
   "outputs": [],
   "source": [
    "# 훈련셋과 검증셋 700개, 300개씩만 가져옴\n",
    "train_rand_idxs = np.random.choice(50000,700)\n",
    "val_rand_idxs   = np.random.choice(10000,300)\n",
    "\n",
    "X_train = X_train[train_rand_idxs]\n",
    "Y_train = Y_train[train_rand_idxs]\n",
    "X_val = X_val[val_rand_idxs]\n",
    "Y_val = Y_val[val_rand_idxs]"
   ]
  },
  {
   "cell_type": "code",
   "execution_count": 16,
   "metadata": {
    "ExecuteTime": {
     "end_time": "2021-03-24T00:26:47.080054Z",
     "start_time": "2021-03-24T00:26:46.865518Z"
    }
   },
   "outputs": [
    {
     "data": {
      "text/plain": [
       "<matplotlib.image.AxesImage at 0x1e18cbda4c0>"
      ]
     },
     "execution_count": 16,
     "metadata": {},
     "output_type": "execute_result"
    },
    {
     "data": {
      "image/png": "[encoded data removed]",
      "text/plain": [
       "<Figure size 432x288 with 1 Axes>"
      ]
     },
     "metadata": {
      "needs_background": "light"
     },
     "output_type": "display_data"
    }
   ],
   "source": [
    "plt.imshow(X_train[0].reshape(28,28))"
   ]
  },
  {
   "cell_type": "code",
   "execution_count": 17,
   "metadata": {
    "ExecuteTime": {
     "end_time": "2021-03-24T00:26:47.086014Z",
     "start_time": "2021-03-24T00:26:47.081028Z"
    }
   },
   "outputs": [
    {
     "data": {
      "text/plain": [
       "1"
      ]
     },
     "execution_count": 17,
     "metadata": {},
     "output_type": "execute_result"
    }
   ],
   "source": [
    "Y_train[0]"
   ]
  },
  {
   "cell_type": "code",
   "execution_count": 18,
   "metadata": {
    "ExecuteTime": {
     "end_time": "2021-03-24T00:26:47.193969Z",
     "start_time": "2021-03-24T00:26:47.088010Z"
    }
   },
   "outputs": [
    {
     "data": {
      "text/plain": [
       "((700,), (300,), (10000,))"
      ]
     },
     "execution_count": 18,
     "metadata": {},
     "output_type": "execute_result"
    }
   ],
   "source": [
    "Y_train.shape, Y_val.shape, Y_test.shape"
   ]
  },
  {
   "cell_type": "code",
   "execution_count": 19,
   "metadata": {
    "ExecuteTime": {
     "end_time": "2021-03-24T00:26:47.292790Z",
     "start_time": "2021-03-24T00:26:47.195962Z"
    }
   },
   "outputs": [],
   "source": [
    "# 원 핫 인코딩 = 라벨링 전환 \n",
    "# 0 => 1 0 0 0 0 0 0 0 0 0 \n",
    "# 3 => 0 0 0 1 0 0 0 0 0 0 \n",
    "Y_train = utils.to_categorical(Y_train)\n",
    "Y_val   = utils.to_categorical(Y_val)\n",
    "Y_test  = utils.to_categorical(Y_test)"
   ]
  },
  {
   "cell_type": "code",
   "execution_count": 20,
   "metadata": {
    "ExecuteTime": {
     "end_time": "2021-03-24T00:26:47.443523Z",
     "start_time": "2021-03-24T00:26:47.293788Z"
    }
   },
   "outputs": [
    {
     "data": {
      "text/plain": [
       "((700, 10), (300, 10), (10000, 10))"
      ]
     },
     "execution_count": 20,
     "metadata": {},
     "output_type": "execute_result"
    }
   ],
   "source": [
    "Y_train.shape, Y_val.shape, Y_test.shape"
   ]
  },
  {
   "cell_type": "code",
   "execution_count": 21,
   "metadata": {
    "ExecuteTime": {
     "end_time": "2021-03-24T00:26:47.586239Z",
     "start_time": "2021-03-24T00:26:47.444519Z"
    }
   },
   "outputs": [
    {
     "data": {
      "text/plain": [
       "array([0., 1., 0., 0., 0., 0., 0., 0., 0., 0.], dtype=float32)"
      ]
     },
     "execution_count": 21,
     "metadata": {},
     "output_type": "execute_result"
    }
   ],
   "source": [
    "Y_train[0]\n",
    "# 전처리 끝"
   ]
  },
  {
   "cell_type": "code",
   "execution_count": 22,
   "metadata": {
    "ExecuteTime": {
     "end_time": "2021-03-24T00:28:18.708751Z",
     "start_time": "2021-03-24T00:26:47.588235Z"
    }
   },
   "outputs": [
    {
     "name": "stdout",
     "output_type": "stream",
     "text": [
      "Epoch 1/1000\n",
      "70/70 [==============================] - 1s 13ms/step - loss: 2.2976 - accuracy: 0.1297 - val_loss: 2.2771 - val_accuracy: 0.1200\n",
      "Epoch 2/1000\n",
      "70/70 [==============================] - 0s 1ms/step - loss: 2.2611 - accuracy: 0.0955 - val_loss: 2.2451 - val_accuracy: 0.1233\n",
      "Epoch 3/1000\n",
      "70/70 [==============================] - 0s 1ms/step - loss: 2.2215 - accuracy: 0.1347 - val_loss: 2.2077 - val_accuracy: 0.1767\n",
      "Epoch 4/1000\n",
      "70/70 [==============================] - 0s 1ms/step - loss: 2.1772 - accuracy: 0.1598 - val_loss: 2.1703 - val_accuracy: 0.1933\n",
      "Epoch 5/1000\n",
      "70/70 [==============================] - 0s 1ms/step - loss: 2.1429 - accuracy: 0.1624 - val_loss: 2.1279 - val_accuracy: 0.1900\n",
      "Epoch 6/1000\n",
      "70/70 [==============================] - 0s 1ms/step - loss: 2.1079 - accuracy: 0.1627 - val_loss: 2.0847 - val_accuracy: 0.2333\n",
      "Epoch 7/1000\n",
      "70/70 [==============================] - 0s 1ms/step - loss: 2.0820 - accuracy: 0.1907 - val_loss: 2.0459 - val_accuracy: 0.2967\n",
      "Epoch 8/1000\n",
      "70/70 [==============================] - 0s 1ms/step - loss: 2.0081 - accuracy: 0.2907 - val_loss: 2.0033 - val_accuracy: 0.3367\n",
      "Epoch 9/1000\n",
      "70/70 [==============================] - 0s 1ms/step - loss: 1.9429 - accuracy: 0.3380 - val_loss: 1.9643 - val_accuracy: 0.3500\n",
      "Epoch 10/1000\n",
      "70/70 [==============================] - 0s 1ms/step - loss: 1.9280 - accuracy: 0.3194 - val_loss: 1.9250 - val_accuracy: 0.3367\n",
      "Epoch 11/1000\n",
      "70/70 [==============================] - 0s 1ms/step - loss: 1.8904 - accuracy: 0.3450 - val_loss: 1.8943 - val_accuracy: 0.3267\n",
      "Epoch 12/1000\n",
      "70/70 [==============================] - 0s 1ms/step - loss: 1.8634 - accuracy: 0.2951 - val_loss: 1.8597 - val_accuracy: 0.3167\n",
      "Epoch 13/1000\n",
      "70/70 [==============================] - 0s 1ms/step - loss: 1.8202 - accuracy: 0.3050 - val_loss: 1.8322 - val_accuracy: 0.3233\n",
      "Epoch 14/1000\n",
      "70/70 [==============================] - 0s 1ms/step - loss: 1.7868 - accuracy: 0.3154 - val_loss: 1.8096 - val_accuracy: 0.3267\n",
      "Epoch 15/1000\n",
      "70/70 [==============================] - 0s 1ms/step - loss: 1.7505 - accuracy: 0.3174 - val_loss: 1.7811 - val_accuracy: 0.3567\n",
      "Epoch 16/1000\n",
      "70/70 [==============================] - 0s 1ms/step - loss: 1.7479 - accuracy: 0.3283 - val_loss: 1.7577 - val_accuracy: 0.3633\n",
      "Epoch 17/1000\n",
      "70/70 [==============================] - 0s 1ms/step - loss: 1.7364 - accuracy: 0.3241 - val_loss: 1.7395 - val_accuracy: 0.3733\n",
      "Epoch 18/1000\n",
      "70/70 [==============================] - 0s 1ms/step - loss: 1.6859 - accuracy: 0.3431 - val_loss: 1.7237 - val_accuracy: 0.3600\n",
      "Epoch 19/1000\n",
      "70/70 [==============================] - 0s 1ms/step - loss: 1.6722 - accuracy: 0.3387 - val_loss: 1.7027 - val_accuracy: 0.3833\n",
      "Epoch 20/1000\n",
      "70/70 [==============================] - 0s 1ms/step - loss: 1.6345 - accuracy: 0.3663 - val_loss: 1.6918 - val_accuracy: 0.3600\n",
      "Epoch 21/1000\n",
      "70/70 [==============================] - 0s 1ms/step - loss: 1.6488 - accuracy: 0.3497 - val_loss: 1.6743 - val_accuracy: 0.3800\n",
      "Epoch 22/1000\n",
      "70/70 [==============================] - 0s 1ms/step - loss: 1.5897 - accuracy: 0.3640 - val_loss: 1.6572 - val_accuracy: 0.3767\n",
      "Epoch 23/1000\n",
      "70/70 [==============================] - 0s 1ms/step - loss: 1.5869 - accuracy: 0.3753 - val_loss: 1.6439 - val_accuracy: 0.3733\n",
      "Epoch 24/1000\n",
      "70/70 [==============================] - 0s 1ms/step - loss: 1.5691 - accuracy: 0.3602 - val_loss: 1.6289 - val_accuracy: 0.3833\n",
      "Epoch 25/1000\n",
      "70/70 [==============================] - 0s 1ms/step - loss: 1.5595 - accuracy: 0.3915 - val_loss: 1.6200 - val_accuracy: 0.3767\n",
      "Epoch 26/1000\n",
      "70/70 [==============================] - 0s 1ms/step - loss: 1.5822 - accuracy: 0.3671 - val_loss: 1.6064 - val_accuracy: 0.4067\n",
      "Epoch 27/1000\n",
      "70/70 [==============================] - 0s 1ms/step - loss: 1.5593 - accuracy: 0.4118 - val_loss: 1.5944 - val_accuracy: 0.4000\n",
      "Epoch 28/1000\n",
      "70/70 [==============================] - 0s 1ms/step - loss: 1.5490 - accuracy: 0.3783 - val_loss: 1.5823 - val_accuracy: 0.3967\n",
      "Epoch 29/1000\n",
      "70/70 [==============================] - 0s 1ms/step - loss: 1.5007 - accuracy: 0.4072 - val_loss: 1.5724 - val_accuracy: 0.3900\n",
      "Epoch 30/1000\n",
      "70/70 [==============================] - 0s 1ms/step - loss: 1.4301 - accuracy: 0.4234 - val_loss: 1.5607 - val_accuracy: 0.4100\n",
      "Epoch 31/1000\n",
      "70/70 [==============================] - 0s 1ms/step - loss: 1.4729 - accuracy: 0.4173 - val_loss: 1.5520 - val_accuracy: 0.4100\n",
      "Epoch 32/1000\n",
      "70/70 [==============================] - 0s 1ms/step - loss: 1.3936 - accuracy: 0.4871 - val_loss: 1.5485 - val_accuracy: 0.4133\n",
      "Epoch 33/1000\n",
      "70/70 [==============================] - 0s 1ms/step - loss: 1.4598 - accuracy: 0.4264 - val_loss: 1.5389 - val_accuracy: 0.4067\n",
      "Epoch 34/1000\n",
      "70/70 [==============================] - 0s 1ms/step - loss: 1.4420 - accuracy: 0.4462 - val_loss: 1.5242 - val_accuracy: 0.4400\n",
      "Epoch 35/1000\n",
      "70/70 [==============================] - 0s 1ms/step - loss: 1.4248 - accuracy: 0.4575 - val_loss: 1.5218 - val_accuracy: 0.4333\n",
      "Epoch 36/1000\n",
      "70/70 [==============================] - 0s 1ms/step - loss: 1.3880 - accuracy: 0.4251 - val_loss: 1.5042 - val_accuracy: 0.4300\n",
      "Epoch 37/1000\n",
      "70/70 [==============================] - 0s 1ms/step - loss: 1.4239 - accuracy: 0.4302 - val_loss: 1.5041 - val_accuracy: 0.4167\n",
      "Epoch 38/1000\n",
      "70/70 [==============================] - 0s 1ms/step - loss: 1.3882 - accuracy: 0.4518 - val_loss: 1.4953 - val_accuracy: 0.4567\n",
      "Epoch 39/1000\n",
      "70/70 [==============================] - 0s 1ms/step - loss: 1.3780 - accuracy: 0.4574 - val_loss: 1.4896 - val_accuracy: 0.4200\n",
      "Epoch 40/1000\n",
      "70/70 [==============================] - 0s 1ms/step - loss: 1.3523 - accuracy: 0.4550 - val_loss: 1.4882 - val_accuracy: 0.4467\n",
      "Epoch 41/1000\n",
      "70/70 [==============================] - 0s 1ms/step - loss: 1.3500 - accuracy: 0.4889 - val_loss: 1.4795 - val_accuracy: 0.4567\n",
      "Epoch 42/1000\n",
      "70/70 [==============================] - 0s 1ms/step - loss: 1.3620 - accuracy: 0.4811 - val_loss: 1.4726 - val_accuracy: 0.4600\n",
      "Epoch 43/1000\n",
      "70/70 [==============================] - 0s 1ms/step - loss: 1.3585 - accuracy: 0.4723 - val_loss: 1.4675 - val_accuracy: 0.4367\n",
      "Epoch 44/1000\n",
      "70/70 [==============================] - 0s 1ms/step - loss: 1.3145 - accuracy: 0.4817 - val_loss: 1.4608 - val_accuracy: 0.4600\n",
      "Epoch 45/1000\n",
      "70/70 [==============================] - 0s 1ms/step - loss: 1.3650 - accuracy: 0.4782 - val_loss: 1.4606 - val_accuracy: 0.4267\n",
      "Epoch 46/1000\n",
      "70/70 [==============================] - 0s 1ms/step - loss: 1.3108 - accuracy: 0.4969 - val_loss: 1.4499 - val_accuracy: 0.4467\n",
      "Epoch 47/1000\n",
      "70/70 [==============================] - 0s 1ms/step - loss: 1.3122 - accuracy: 0.4969 - val_loss: 1.4520 - val_accuracy: 0.4133\n",
      "Epoch 48/1000\n",
      "70/70 [==============================] - 0s 1ms/step - loss: 1.3439 - accuracy: 0.5049 - val_loss: 1.4471 - val_accuracy: 0.4400\n",
      "Epoch 49/1000\n",
      "70/70 [==============================] - 0s 1ms/step - loss: 1.3170 - accuracy: 0.5239 - val_loss: 1.4410 - val_accuracy: 0.4367\n",
      "Epoch 50/1000\n",
      "70/70 [==============================] - 0s 1ms/step - loss: 1.2963 - accuracy: 0.5275 - val_loss: 1.4339 - val_accuracy: 0.4300\n",
      "Epoch 51/1000\n",
      "70/70 [==============================] - 0s 1ms/step - loss: 1.2764 - accuracy: 0.5614 - val_loss: 1.4341 - val_accuracy: 0.4367\n",
      "Epoch 52/1000\n",
      "70/70 [==============================] - 0s 1ms/step - loss: 1.3183 - accuracy: 0.5040 - val_loss: 1.4320 - val_accuracy: 0.4267\n",
      "Epoch 53/1000\n",
      "70/70 [==============================] - 0s 1ms/step - loss: 1.2530 - accuracy: 0.5008 - val_loss: 1.4243 - val_accuracy: 0.4467\n",
      "Epoch 54/1000\n",
      "70/70 [==============================] - 0s 1ms/step - loss: 1.2569 - accuracy: 0.5338 - val_loss: 1.4253 - val_accuracy: 0.4333\n",
      "Epoch 55/1000\n",
      "70/70 [==============================] - 0s 1ms/step - loss: 1.3253 - accuracy: 0.4922 - val_loss: 1.4213 - val_accuracy: 0.4433\n",
      "Epoch 56/1000\n",
      "70/70 [==============================] - 0s 1ms/step - loss: 1.2365 - accuracy: 0.5500 - val_loss: 1.4121 - val_accuracy: 0.4467\n",
      "Epoch 57/1000\n",
      "70/70 [==============================] - 0s 1ms/step - loss: 1.2946 - accuracy: 0.4909 - val_loss: 1.4169 - val_accuracy: 0.4433\n",
      "Epoch 58/1000\n"
     ]
    },
    {
     "name": "stdout",
     "output_type": "stream",
     "text": [
      "70/70 [==============================] - 0s 1ms/step - loss: 1.2859 - accuracy: 0.5358 - val_loss: 1.4165 - val_accuracy: 0.4367\n",
      "Epoch 59/1000\n",
      "70/70 [==============================] - 0s 1ms/step - loss: 1.2624 - accuracy: 0.5401 - val_loss: 1.4130 - val_accuracy: 0.4267\n",
      "Epoch 60/1000\n",
      "70/70 [==============================] - 0s 1ms/step - loss: 1.2665 - accuracy: 0.5187 - val_loss: 1.4024 - val_accuracy: 0.4567\n",
      "Epoch 61/1000\n",
      "70/70 [==============================] - 0s 1ms/step - loss: 1.2044 - accuracy: 0.5513 - val_loss: 1.4038 - val_accuracy: 0.4500\n",
      "Epoch 62/1000\n",
      "70/70 [==============================] - 0s 1ms/step - loss: 1.2549 - accuracy: 0.5230 - val_loss: 1.3977 - val_accuracy: 0.4433\n",
      "Epoch 63/1000\n",
      "70/70 [==============================] - 0s 1ms/step - loss: 1.2254 - accuracy: 0.5510 - val_loss: 1.4029 - val_accuracy: 0.4300\n",
      "Epoch 64/1000\n",
      "70/70 [==============================] - 0s 1ms/step - loss: 1.1949 - accuracy: 0.5409 - val_loss: 1.3940 - val_accuracy: 0.4333\n",
      "Epoch 65/1000\n",
      "70/70 [==============================] - 0s 2ms/step - loss: 1.1797 - accuracy: 0.5829 - val_loss: 1.3948 - val_accuracy: 0.4400\n",
      "Epoch 66/1000\n",
      "70/70 [==============================] - 0s 1ms/step - loss: 1.1775 - accuracy: 0.5482 - val_loss: 1.3987 - val_accuracy: 0.4333\n",
      "Epoch 67/1000\n",
      "70/70 [==============================] - 0s 1ms/step - loss: 1.2121 - accuracy: 0.5641 - val_loss: 1.3950 - val_accuracy: 0.4467\n",
      "Epoch 68/1000\n",
      "70/70 [==============================] - 0s 1ms/step - loss: 1.1804 - accuracy: 0.5711 - val_loss: 1.3860 - val_accuracy: 0.4367\n",
      "Epoch 69/1000\n",
      "70/70 [==============================] - 0s 1ms/step - loss: 1.1933 - accuracy: 0.5600 - val_loss: 1.3903 - val_accuracy: 0.4300\n",
      "Epoch 70/1000\n",
      "70/70 [==============================] - 0s 1ms/step - loss: 1.2135 - accuracy: 0.5487 - val_loss: 1.3861 - val_accuracy: 0.4500\n",
      "Epoch 71/1000\n",
      "70/70 [==============================] - 0s 1ms/step - loss: 1.1771 - accuracy: 0.6004 - val_loss: 1.3905 - val_accuracy: 0.4367\n",
      "Epoch 72/1000\n",
      "70/70 [==============================] - 0s 1ms/step - loss: 1.1723 - accuracy: 0.5459 - val_loss: 1.3816 - val_accuracy: 0.4267\n",
      "Epoch 73/1000\n",
      "70/70 [==============================] - 0s 1ms/step - loss: 1.2079 - accuracy: 0.5663 - val_loss: 1.3826 - val_accuracy: 0.4267\n",
      "Epoch 74/1000\n",
      "70/70 [==============================] - 0s 1ms/step - loss: 1.1637 - accuracy: 0.5838 - val_loss: 1.3772 - val_accuracy: 0.4300\n",
      "Epoch 75/1000\n",
      "70/70 [==============================] - 0s 1ms/step - loss: 1.1608 - accuracy: 0.5993 - val_loss: 1.3826 - val_accuracy: 0.4233\n",
      "Epoch 76/1000\n",
      "70/70 [==============================] - 0s 1ms/step - loss: 1.1767 - accuracy: 0.5809 - val_loss: 1.3770 - val_accuracy: 0.4267\n",
      "Epoch 77/1000\n",
      "70/70 [==============================] - 0s 1ms/step - loss: 1.1618 - accuracy: 0.5766 - val_loss: 1.3782 - val_accuracy: 0.4300\n",
      "Epoch 78/1000\n",
      "70/70 [==============================] - 0s 1ms/step - loss: 1.1560 - accuracy: 0.5613 - val_loss: 1.3791 - val_accuracy: 0.4400\n",
      "Epoch 79/1000\n",
      "70/70 [==============================] - 0s 1ms/step - loss: 1.1444 - accuracy: 0.5861 - val_loss: 1.3717 - val_accuracy: 0.4367\n",
      "Epoch 80/1000\n",
      "70/70 [==============================] - 0s 1ms/step - loss: 1.1655 - accuracy: 0.5865 - val_loss: 1.3735 - val_accuracy: 0.4433\n",
      "Epoch 81/1000\n",
      "70/70 [==============================] - 0s 1ms/step - loss: 1.1699 - accuracy: 0.5566 - val_loss: 1.3740 - val_accuracy: 0.4167\n",
      "Epoch 82/1000\n",
      "70/70 [==============================] - 0s 1ms/step - loss: 1.1628 - accuracy: 0.5753 - val_loss: 1.3664 - val_accuracy: 0.4300\n",
      "Epoch 83/1000\n",
      "70/70 [==============================] - 0s 1ms/step - loss: 1.1433 - accuracy: 0.5781 - val_loss: 1.3697 - val_accuracy: 0.4233\n",
      "Epoch 84/1000\n",
      "70/70 [==============================] - 0s 1ms/step - loss: 1.1655 - accuracy: 0.5780 - val_loss: 1.3670 - val_accuracy: 0.4200\n",
      "Epoch 85/1000\n",
      "70/70 [==============================] - 0s 1ms/step - loss: 1.1448 - accuracy: 0.5983 - val_loss: 1.3655 - val_accuracy: 0.4267\n",
      "Epoch 86/1000\n",
      "70/70 [==============================] - 0s 1ms/step - loss: 1.1561 - accuracy: 0.5869 - val_loss: 1.3680 - val_accuracy: 0.4300\n",
      "Epoch 87/1000\n",
      "70/70 [==============================] - 0s 1ms/step - loss: 1.1562 - accuracy: 0.5724 - val_loss: 1.3677 - val_accuracy: 0.4200\n",
      "Epoch 88/1000\n",
      "70/70 [==============================] - 0s 1ms/step - loss: 1.0670 - accuracy: 0.6086 - val_loss: 1.3674 - val_accuracy: 0.4133\n",
      "Epoch 89/1000\n",
      "70/70 [==============================] - 0s 1ms/step - loss: 1.1450 - accuracy: 0.5655 - val_loss: 1.3668 - val_accuracy: 0.4167\n",
      "Epoch 90/1000\n",
      "70/70 [==============================] - 0s 1ms/step - loss: 1.1358 - accuracy: 0.6007 - val_loss: 1.3653 - val_accuracy: 0.4300\n",
      "Epoch 91/1000\n",
      "70/70 [==============================] - 0s 1ms/step - loss: 1.1087 - accuracy: 0.6030 - val_loss: 1.3749 - val_accuracy: 0.4233\n",
      "Epoch 92/1000\n",
      "70/70 [==============================] - 0s 1ms/step - loss: 1.1090 - accuracy: 0.6180 - val_loss: 1.3655 - val_accuracy: 0.4300\n",
      "Epoch 93/1000\n",
      "70/70 [==============================] - 0s 1ms/step - loss: 1.1463 - accuracy: 0.5965 - val_loss: 1.3606 - val_accuracy: 0.4200\n",
      "Epoch 94/1000\n",
      "70/70 [==============================] - 0s 1ms/step - loss: 1.1344 - accuracy: 0.5932 - val_loss: 1.3581 - val_accuracy: 0.4133\n",
      "Epoch 95/1000\n",
      "70/70 [==============================] - 0s 1ms/step - loss: 1.0907 - accuracy: 0.6055 - val_loss: 1.3585 - val_accuracy: 0.4167\n",
      "Epoch 96/1000\n",
      "70/70 [==============================] - 0s 1ms/step - loss: 1.1254 - accuracy: 0.5733 - val_loss: 1.3683 - val_accuracy: 0.4167\n",
      "Epoch 97/1000\n",
      "70/70 [==============================] - 0s 1ms/step - loss: 1.1109 - accuracy: 0.5819 - val_loss: 1.3539 - val_accuracy: 0.4267\n",
      "Epoch 98/1000\n",
      "70/70 [==============================] - 0s 1ms/step - loss: 1.0838 - accuracy: 0.5863 - val_loss: 1.3631 - val_accuracy: 0.4200\n",
      "Epoch 99/1000\n",
      "70/70 [==============================] - 0s 1ms/step - loss: 1.1197 - accuracy: 0.5816 - val_loss: 1.3608 - val_accuracy: 0.4300\n",
      "Epoch 100/1000\n",
      "70/70 [==============================] - 0s 1ms/step - loss: 1.0939 - accuracy: 0.6134 - val_loss: 1.3524 - val_accuracy: 0.4233\n",
      "Epoch 101/1000\n",
      "70/70 [==============================] - 0s 1ms/step - loss: 1.0855 - accuracy: 0.6078 - val_loss: 1.3640 - val_accuracy: 0.4167\n",
      "Epoch 102/1000\n",
      "70/70 [==============================] - 0s 1ms/step - loss: 1.0992 - accuracy: 0.5888 - val_loss: 1.3519 - val_accuracy: 0.4267\n",
      "Epoch 103/1000\n",
      "70/70 [==============================] - 0s 1ms/step - loss: 1.0565 - accuracy: 0.6007 - val_loss: 1.3600 - val_accuracy: 0.4167\n",
      "Epoch 104/1000\n",
      "70/70 [==============================] - 0s 1ms/step - loss: 1.0672 - accuracy: 0.6087 - val_loss: 1.3578 - val_accuracy: 0.4067\n",
      "Epoch 105/1000\n",
      "70/70 [==============================] - 0s 1ms/step - loss: 1.1094 - accuracy: 0.5715 - val_loss: 1.3571 - val_accuracy: 0.4167\n",
      "Epoch 106/1000\n",
      "70/70 [==============================] - 0s 1ms/step - loss: 1.0539 - accuracy: 0.6118 - val_loss: 1.3547 - val_accuracy: 0.4133\n",
      "Epoch 107/1000\n",
      "70/70 [==============================] - 0s 1ms/step - loss: 1.0991 - accuracy: 0.5977 - val_loss: 1.3652 - val_accuracy: 0.4200\n",
      "Epoch 108/1000\n",
      "70/70 [==============================] - 0s 1ms/step - loss: 1.1167 - accuracy: 0.5844 - val_loss: 1.3578 - val_accuracy: 0.4233\n",
      "Epoch 109/1000\n",
      "70/70 [==============================] - 0s 1ms/step - loss: 1.1098 - accuracy: 0.5912 - val_loss: 1.3580 - val_accuracy: 0.4200\n",
      "Epoch 110/1000\n",
      "70/70 [==============================] - 0s 1ms/step - loss: 1.0800 - accuracy: 0.6383 - val_loss: 1.3556 - val_accuracy: 0.4167\n",
      "Epoch 111/1000\n",
      "70/70 [==============================] - 0s 1ms/step - loss: 1.0942 - accuracy: 0.6078 - val_loss: 1.3632 - val_accuracy: 0.4100\n",
      "Epoch 112/1000\n",
      "70/70 [==============================] - 0s 1ms/step - loss: 1.0678 - accuracy: 0.6309 - val_loss: 1.3611 - val_accuracy: 0.4133\n",
      "Epoch 113/1000\n",
      "70/70 [==============================] - 0s 1ms/step - loss: 1.1052 - accuracy: 0.6009 - val_loss: 1.3647 - val_accuracy: 0.4067\n",
      "Epoch 114/1000\n",
      "70/70 [==============================] - 0s 1ms/step - loss: 1.0451 - accuracy: 0.6554 - val_loss: 1.3528 - val_accuracy: 0.4367\n",
      "Epoch 115/1000\n"
     ]
    },
    {
     "name": "stdout",
     "output_type": "stream",
     "text": [
      "70/70 [==============================] - 0s 1ms/step - loss: 1.0838 - accuracy: 0.6196 - val_loss: 1.3559 - val_accuracy: 0.4300\n",
      "Epoch 116/1000\n",
      "70/70 [==============================] - 0s 1ms/step - loss: 1.0560 - accuracy: 0.6099 - val_loss: 1.3514 - val_accuracy: 0.4200\n",
      "Epoch 117/1000\n",
      "70/70 [==============================] - 0s 1ms/step - loss: 1.0698 - accuracy: 0.6199 - val_loss: 1.3588 - val_accuracy: 0.4200\n",
      "Epoch 118/1000\n",
      "70/70 [==============================] - 0s 1ms/step - loss: 1.0106 - accuracy: 0.6413 - val_loss: 1.3554 - val_accuracy: 0.4400\n",
      "Epoch 119/1000\n",
      "70/70 [==============================] - 0s 1ms/step - loss: 1.0470 - accuracy: 0.6032 - val_loss: 1.3625 - val_accuracy: 0.4167\n",
      "Epoch 120/1000\n",
      "70/70 [==============================] - 0s 1ms/step - loss: 1.0882 - accuracy: 0.5902 - val_loss: 1.3507 - val_accuracy: 0.4333\n",
      "Epoch 121/1000\n",
      "70/70 [==============================] - 0s 1ms/step - loss: 1.0327 - accuracy: 0.6229 - val_loss: 1.3541 - val_accuracy: 0.4267\n",
      "Epoch 122/1000\n",
      "70/70 [==============================] - 0s 1ms/step - loss: 1.0284 - accuracy: 0.6172 - val_loss: 1.3586 - val_accuracy: 0.4267\n",
      "Epoch 123/1000\n",
      "70/70 [==============================] - 0s 1ms/step - loss: 1.0424 - accuracy: 0.6248 - val_loss: 1.3486 - val_accuracy: 0.4333\n",
      "Epoch 124/1000\n",
      "70/70 [==============================] - 0s 1ms/step - loss: 1.0004 - accuracy: 0.6440 - val_loss: 1.3551 - val_accuracy: 0.4200\n",
      "Epoch 125/1000\n",
      "70/70 [==============================] - 0s 1ms/step - loss: 1.0670 - accuracy: 0.6174 - val_loss: 1.3576 - val_accuracy: 0.4333\n",
      "Epoch 126/1000\n",
      "70/70 [==============================] - 0s 1ms/step - loss: 1.0265 - accuracy: 0.6060 - val_loss: 1.3517 - val_accuracy: 0.4300\n",
      "Epoch 127/1000\n",
      "70/70 [==============================] - 0s 1ms/step - loss: 1.0301 - accuracy: 0.6157 - val_loss: 1.3548 - val_accuracy: 0.4333\n",
      "Epoch 128/1000\n",
      "70/70 [==============================] - 0s 1ms/step - loss: 1.0676 - accuracy: 0.5989 - val_loss: 1.3627 - val_accuracy: 0.4300\n",
      "Epoch 129/1000\n",
      "70/70 [==============================] - 0s 1ms/step - loss: 1.0023 - accuracy: 0.6215 - val_loss: 1.3612 - val_accuracy: 0.4233\n",
      "Epoch 130/1000\n",
      "70/70 [==============================] - 0s 1ms/step - loss: 1.0269 - accuracy: 0.6163 - val_loss: 1.3592 - val_accuracy: 0.4300\n",
      "Epoch 131/1000\n",
      "70/70 [==============================] - 0s 1ms/step - loss: 0.9843 - accuracy: 0.6256 - val_loss: 1.3494 - val_accuracy: 0.4233\n",
      "Epoch 132/1000\n",
      "70/70 [==============================] - 0s 1ms/step - loss: 0.9481 - accuracy: 0.6452 - val_loss: 1.3480 - val_accuracy: 0.4267\n",
      "Epoch 133/1000\n",
      "70/70 [==============================] - 0s 1ms/step - loss: 1.0026 - accuracy: 0.6408 - val_loss: 1.3579 - val_accuracy: 0.4333\n",
      "Epoch 134/1000\n",
      "70/70 [==============================] - 0s 1ms/step - loss: 1.0661 - accuracy: 0.6048 - val_loss: 1.3566 - val_accuracy: 0.4300\n",
      "Epoch 135/1000\n",
      "70/70 [==============================] - 0s 1ms/step - loss: 0.9900 - accuracy: 0.6553 - val_loss: 1.3570 - val_accuracy: 0.4167\n",
      "Epoch 136/1000\n",
      "70/70 [==============================] - 0s 1ms/step - loss: 1.0023 - accuracy: 0.6234 - val_loss: 1.3561 - val_accuracy: 0.4267\n",
      "Epoch 137/1000\n",
      "70/70 [==============================] - 0s 1ms/step - loss: 1.0011 - accuracy: 0.6314 - val_loss: 1.3569 - val_accuracy: 0.4333\n",
      "Epoch 138/1000\n",
      "70/70 [==============================] - 0s 1ms/step - loss: 0.9626 - accuracy: 0.6374 - val_loss: 1.3614 - val_accuracy: 0.4200\n",
      "Epoch 139/1000\n",
      "70/70 [==============================] - 0s 1ms/step - loss: 1.0242 - accuracy: 0.6065 - val_loss: 1.3562 - val_accuracy: 0.4300\n",
      "Epoch 140/1000\n",
      "70/70 [==============================] - 0s 1ms/step - loss: 1.0093 - accuracy: 0.6343 - val_loss: 1.3657 - val_accuracy: 0.4300\n",
      "Epoch 141/1000\n",
      "70/70 [==============================] - 0s 1ms/step - loss: 1.0133 - accuracy: 0.6379 - val_loss: 1.3699 - val_accuracy: 0.4200\n",
      "Epoch 142/1000\n",
      "70/70 [==============================] - 0s 1ms/step - loss: 1.0310 - accuracy: 0.6320 - val_loss: 1.3582 - val_accuracy: 0.4233\n",
      "Epoch 143/1000\n",
      "70/70 [==============================] - 0s 1ms/step - loss: 1.0511 - accuracy: 0.5903 - val_loss: 1.3658 - val_accuracy: 0.4133\n",
      "Epoch 144/1000\n",
      "70/70 [==============================] - 0s 2ms/step - loss: 0.9967 - accuracy: 0.6210 - val_loss: 1.3611 - val_accuracy: 0.4333\n",
      "Epoch 145/1000\n",
      "70/70 [==============================] - 0s 1ms/step - loss: 0.9797 - accuracy: 0.6562 - val_loss: 1.3604 - val_accuracy: 0.4233\n",
      "Epoch 146/1000\n",
      "70/70 [==============================] - 0s 1ms/step - loss: 1.0554 - accuracy: 0.6128 - val_loss: 1.3565 - val_accuracy: 0.4267\n",
      "Epoch 147/1000\n",
      "70/70 [==============================] - 0s 1ms/step - loss: 0.9893 - accuracy: 0.6452 - val_loss: 1.3736 - val_accuracy: 0.4200\n",
      "Epoch 148/1000\n",
      "70/70 [==============================] - 0s 1ms/step - loss: 0.9968 - accuracy: 0.6168 - val_loss: 1.3560 - val_accuracy: 0.4367\n",
      "Epoch 149/1000\n",
      "70/70 [==============================] - 0s 1ms/step - loss: 0.9578 - accuracy: 0.6403 - val_loss: 1.3570 - val_accuracy: 0.4233\n",
      "Epoch 150/1000\n",
      "70/70 [==============================] - 0s 1ms/step - loss: 1.0374 - accuracy: 0.5996 - val_loss: 1.3652 - val_accuracy: 0.4200\n",
      "Epoch 151/1000\n",
      "70/70 [==============================] - 0s 1ms/step - loss: 0.9741 - accuracy: 0.6451 - val_loss: 1.3670 - val_accuracy: 0.4200\n",
      "Epoch 152/1000\n",
      "70/70 [==============================] - 0s 1ms/step - loss: 0.9556 - accuracy: 0.6754 - val_loss: 1.3598 - val_accuracy: 0.4267\n",
      "Epoch 153/1000\n",
      "70/70 [==============================] - 0s 1ms/step - loss: 1.0272 - accuracy: 0.6238 - val_loss: 1.3693 - val_accuracy: 0.4267\n",
      "Epoch 154/1000\n",
      "70/70 [==============================] - 0s 1ms/step - loss: 1.0104 - accuracy: 0.6126 - val_loss: 1.3659 - val_accuracy: 0.4267\n",
      "Epoch 155/1000\n",
      "70/70 [==============================] - 0s 1ms/step - loss: 0.9698 - accuracy: 0.6469 - val_loss: 1.3668 - val_accuracy: 0.4267\n",
      "Epoch 156/1000\n",
      "70/70 [==============================] - 0s 1ms/step - loss: 0.9821 - accuracy: 0.6460 - val_loss: 1.3681 - val_accuracy: 0.4300\n",
      "Epoch 157/1000\n",
      "70/70 [==============================] - 0s 1ms/step - loss: 0.9720 - accuracy: 0.6300 - val_loss: 1.3694 - val_accuracy: 0.4300\n",
      "Epoch 158/1000\n",
      "70/70 [==============================] - 0s 1ms/step - loss: 0.9431 - accuracy: 0.6444 - val_loss: 1.3616 - val_accuracy: 0.4333\n",
      "Epoch 159/1000\n",
      "70/70 [==============================] - ETA: 0s - loss: 0.9049 - accuracy: 0.80 - 0s 1ms/step - loss: 0.9916 - accuracy: 0.6385 - val_loss: 1.3686 - val_accuracy: 0.4233\n",
      "Epoch 160/1000\n",
      "70/70 [==============================] - 0s 1ms/step - loss: 0.9275 - accuracy: 0.6488 - val_loss: 1.3737 - val_accuracy: 0.4233\n",
      "Epoch 161/1000\n",
      "70/70 [==============================] - 0s 1ms/step - loss: 0.9786 - accuracy: 0.6573 - val_loss: 1.3775 - val_accuracy: 0.4367\n",
      "Epoch 162/1000\n",
      "70/70 [==============================] - 0s 1ms/step - loss: 0.9704 - accuracy: 0.6506 - val_loss: 1.3651 - val_accuracy: 0.4267\n",
      "Epoch 163/1000\n",
      "70/70 [==============================] - 0s 1ms/step - loss: 0.9126 - accuracy: 0.6664 - val_loss: 1.3756 - val_accuracy: 0.4067\n",
      "Epoch 164/1000\n",
      "70/70 [==============================] - 0s 1ms/step - loss: 0.9705 - accuracy: 0.6482 - val_loss: 1.3687 - val_accuracy: 0.4200\n",
      "Epoch 165/1000\n",
      "70/70 [==============================] - 0s 1ms/step - loss: 0.9739 - accuracy: 0.6412 - val_loss: 1.3709 - val_accuracy: 0.4167\n",
      "Epoch 166/1000\n",
      "70/70 [==============================] - 0s 1ms/step - loss: 1.0120 - accuracy: 0.6097 - val_loss: 1.3668 - val_accuracy: 0.4200\n",
      "Epoch 167/1000\n",
      "70/70 [==============================] - 0s 1ms/step - loss: 0.9531 - accuracy: 0.6506 - val_loss: 1.3687 - val_accuracy: 0.4267\n",
      "Epoch 168/1000\n",
      "70/70 [==============================] - 0s 1ms/step - loss: 0.9375 - accuracy: 0.6479 - val_loss: 1.3709 - val_accuracy: 0.4233\n",
      "Epoch 169/1000\n",
      "70/70 [==============================] - 0s 1ms/step - loss: 0.8920 - accuracy: 0.6761 - val_loss: 1.3681 - val_accuracy: 0.4233\n",
      "Epoch 170/1000\n",
      "70/70 [==============================] - 0s 1ms/step - loss: 0.9324 - accuracy: 0.6411 - val_loss: 1.3701 - val_accuracy: 0.4200\n",
      "Epoch 171/1000\n",
      "70/70 [==============================] - 0s 1ms/step - loss: 0.9709 - accuracy: 0.6226 - val_loss: 1.3792 - val_accuracy: 0.4400\n"
     ]
    },
    {
     "name": "stdout",
     "output_type": "stream",
     "text": [
      "Epoch 172/1000\n",
      "70/70 [==============================] - 0s 1ms/step - loss: 0.9414 - accuracy: 0.6540 - val_loss: 1.3746 - val_accuracy: 0.4233\n",
      "Epoch 173/1000\n",
      "70/70 [==============================] - 0s 1ms/step - loss: 0.9621 - accuracy: 0.6291 - val_loss: 1.3754 - val_accuracy: 0.4300\n",
      "Epoch 174/1000\n",
      "70/70 [==============================] - 0s 1ms/step - loss: 0.9484 - accuracy: 0.6651 - val_loss: 1.3783 - val_accuracy: 0.4267\n",
      "Epoch 175/1000\n",
      "70/70 [==============================] - 0s 1ms/step - loss: 0.9131 - accuracy: 0.6721 - val_loss: 1.3864 - val_accuracy: 0.4400\n",
      "Epoch 176/1000\n",
      "70/70 [==============================] - 0s 1ms/step - loss: 0.9665 - accuracy: 0.6326 - val_loss: 1.3790 - val_accuracy: 0.4267\n",
      "Epoch 177/1000\n",
      "70/70 [==============================] - 0s 1ms/step - loss: 0.9247 - accuracy: 0.6231 - val_loss: 1.3746 - val_accuracy: 0.4200\n",
      "Epoch 178/1000\n",
      "70/70 [==============================] - 0s 1ms/step - loss: 0.9327 - accuracy: 0.6460 - val_loss: 1.3688 - val_accuracy: 0.4300\n",
      "Epoch 179/1000\n",
      "70/70 [==============================] - 0s 1ms/step - loss: 0.9382 - accuracy: 0.6551 - val_loss: 1.3798 - val_accuracy: 0.4233\n",
      "Epoch 180/1000\n",
      "70/70 [==============================] - 0s 1ms/step - loss: 0.9450 - accuracy: 0.6620 - val_loss: 1.3694 - val_accuracy: 0.4300\n",
      "Epoch 181/1000\n",
      "70/70 [==============================] - 0s 1ms/step - loss: 0.9215 - accuracy: 0.6770 - val_loss: 1.3803 - val_accuracy: 0.4333\n",
      "Epoch 182/1000\n",
      "70/70 [==============================] - 0s 1ms/step - loss: 0.9701 - accuracy: 0.6337 - val_loss: 1.3803 - val_accuracy: 0.4167\n",
      "Epoch 183/1000\n",
      "70/70 [==============================] - 0s 1ms/step - loss: 0.9327 - accuracy: 0.6765 - val_loss: 1.3765 - val_accuracy: 0.4300\n",
      "Epoch 184/1000\n",
      "70/70 [==============================] - 0s 1ms/step - loss: 0.9442 - accuracy: 0.6469 - val_loss: 1.3805 - val_accuracy: 0.4267\n",
      "Epoch 185/1000\n",
      "70/70 [==============================] - 0s 1ms/step - loss: 0.9214 - accuracy: 0.6505 - val_loss: 1.3751 - val_accuracy: 0.4200\n",
      "Epoch 186/1000\n",
      "70/70 [==============================] - 0s 1ms/step - loss: 0.9996 - accuracy: 0.6047 - val_loss: 1.3849 - val_accuracy: 0.4233\n",
      "Epoch 187/1000\n",
      "70/70 [==============================] - 0s 1ms/step - loss: 0.9442 - accuracy: 0.6422 - val_loss: 1.3761 - val_accuracy: 0.4267\n",
      "Epoch 188/1000\n",
      "70/70 [==============================] - 0s 1ms/step - loss: 0.9353 - accuracy: 0.6329 - val_loss: 1.3955 - val_accuracy: 0.4333\n",
      "Epoch 189/1000\n",
      "70/70 [==============================] - 0s 1ms/step - loss: 0.9661 - accuracy: 0.6485 - val_loss: 1.3948 - val_accuracy: 0.4367\n",
      "Epoch 190/1000\n",
      "70/70 [==============================] - 0s 1ms/step - loss: 0.9429 - accuracy: 0.6339 - val_loss: 1.3807 - val_accuracy: 0.4267\n",
      "Epoch 191/1000\n",
      "70/70 [==============================] - 0s 1ms/step - loss: 0.9468 - accuracy: 0.6445 - val_loss: 1.3898 - val_accuracy: 0.4233\n",
      "Epoch 192/1000\n",
      "70/70 [==============================] - 0s 1ms/step - loss: 1.0004 - accuracy: 0.6087 - val_loss: 1.3897 - val_accuracy: 0.4267\n",
      "Epoch 193/1000\n",
      "70/70 [==============================] - 0s 1ms/step - loss: 0.9495 - accuracy: 0.6586 - val_loss: 1.3921 - val_accuracy: 0.4233\n",
      "Epoch 194/1000\n",
      "70/70 [==============================] - 0s 1ms/step - loss: 0.9317 - accuracy: 0.6492 - val_loss: 1.3839 - val_accuracy: 0.4233\n",
      "Epoch 195/1000\n",
      "70/70 [==============================] - 0s 1ms/step - loss: 0.9359 - accuracy: 0.6743 - val_loss: 1.4007 - val_accuracy: 0.4167\n",
      "Epoch 196/1000\n",
      "70/70 [==============================] - 0s 1ms/step - loss: 0.9058 - accuracy: 0.6716 - val_loss: 1.3917 - val_accuracy: 0.4200\n",
      "Epoch 197/1000\n",
      "70/70 [==============================] - 0s 1ms/step - loss: 0.8905 - accuracy: 0.6820 - val_loss: 1.4034 - val_accuracy: 0.4233\n",
      "Epoch 198/1000\n",
      "70/70 [==============================] - 0s 1ms/step - loss: 0.8944 - accuracy: 0.6391 - val_loss: 1.3951 - val_accuracy: 0.4367\n",
      "Epoch 199/1000\n",
      "70/70 [==============================] - 0s 1ms/step - loss: 0.8898 - accuracy: 0.6435 - val_loss: 1.3952 - val_accuracy: 0.4333\n",
      "Epoch 200/1000\n",
      "70/70 [==============================] - 0s 1ms/step - loss: 0.9363 - accuracy: 0.6618 - val_loss: 1.3939 - val_accuracy: 0.4400\n",
      "Epoch 201/1000\n",
      "70/70 [==============================] - 0s 1ms/step - loss: 0.9806 - accuracy: 0.6301 - val_loss: 1.3995 - val_accuracy: 0.4133\n",
      "Epoch 202/1000\n",
      "70/70 [==============================] - 0s 1ms/step - loss: 0.9382 - accuracy: 0.6489 - val_loss: 1.4045 - val_accuracy: 0.4267\n",
      "Epoch 203/1000\n",
      "70/70 [==============================] - 0s 1ms/step - loss: 0.9594 - accuracy: 0.6403 - val_loss: 1.3954 - val_accuracy: 0.4267\n",
      "Epoch 204/1000\n",
      "70/70 [==============================] - 0s 1ms/step - loss: 0.9228 - accuracy: 0.6274 - val_loss: 1.3945 - val_accuracy: 0.4300\n",
      "Epoch 205/1000\n",
      "70/70 [==============================] - 0s 1ms/step - loss: 0.9191 - accuracy: 0.6423 - val_loss: 1.4061 - val_accuracy: 0.4300\n",
      "Epoch 206/1000\n",
      "70/70 [==============================] - 0s 1ms/step - loss: 0.9032 - accuracy: 0.6651 - val_loss: 1.3997 - val_accuracy: 0.4433\n",
      "Epoch 207/1000\n",
      "70/70 [==============================] - 0s 1ms/step - loss: 0.9602 - accuracy: 0.6200 - val_loss: 1.3964 - val_accuracy: 0.4333\n",
      "Epoch 208/1000\n",
      "70/70 [==============================] - 0s 1ms/step - loss: 0.9081 - accuracy: 0.6535 - val_loss: 1.3988 - val_accuracy: 0.4333\n",
      "Epoch 209/1000\n",
      "70/70 [==============================] - 0s 1ms/step - loss: 0.9300 - accuracy: 0.6727 - val_loss: 1.4044 - val_accuracy: 0.4167\n",
      "Epoch 210/1000\n",
      "70/70 [==============================] - 0s 1ms/step - loss: 0.9390 - accuracy: 0.6306 - val_loss: 1.4072 - val_accuracy: 0.4233\n",
      "Epoch 211/1000\n",
      "70/70 [==============================] - 0s 1ms/step - loss: 0.8664 - accuracy: 0.6730 - val_loss: 1.3993 - val_accuracy: 0.4400\n",
      "Epoch 212/1000\n",
      "70/70 [==============================] - 0s 1ms/step - loss: 0.8984 - accuracy: 0.6702 - val_loss: 1.4124 - val_accuracy: 0.4333\n",
      "Epoch 213/1000\n",
      "70/70 [==============================] - 0s 1ms/step - loss: 0.9011 - accuracy: 0.6597 - val_loss: 1.4023 - val_accuracy: 0.4267\n",
      "Epoch 214/1000\n",
      "70/70 [==============================] - 0s 1ms/step - loss: 0.8578 - accuracy: 0.6739 - val_loss: 1.3982 - val_accuracy: 0.4167\n",
      "Epoch 215/1000\n",
      "70/70 [==============================] - 0s 1ms/step - loss: 0.9165 - accuracy: 0.6603 - val_loss: 1.4049 - val_accuracy: 0.4367\n",
      "Epoch 216/1000\n",
      "70/70 [==============================] - 0s 1ms/step - loss: 0.8937 - accuracy: 0.6658 - val_loss: 1.4126 - val_accuracy: 0.4300\n",
      "Epoch 217/1000\n",
      "70/70 [==============================] - 0s 1ms/step - loss: 0.9016 - accuracy: 0.6350 - val_loss: 1.4033 - val_accuracy: 0.4200\n",
      "Epoch 218/1000\n",
      "70/70 [==============================] - 0s 1ms/step - loss: 0.8917 - accuracy: 0.6772 - val_loss: 1.4120 - val_accuracy: 0.4200\n",
      "Epoch 219/1000\n",
      "70/70 [==============================] - 0s 1ms/step - loss: 0.9299 - accuracy: 0.6770 - val_loss: 1.4099 - val_accuracy: 0.4333\n",
      "Epoch 220/1000\n",
      "70/70 [==============================] - 0s 1ms/step - loss: 0.8672 - accuracy: 0.6422 - val_loss: 1.4170 - val_accuracy: 0.4333\n",
      "Epoch 221/1000\n",
      "70/70 [==============================] - 0s 1ms/step - loss: 0.9397 - accuracy: 0.6620 - val_loss: 1.4121 - val_accuracy: 0.4400\n",
      "Epoch 222/1000\n",
      "70/70 [==============================] - 0s 1ms/step - loss: 0.9014 - accuracy: 0.6705 - val_loss: 1.4190 - val_accuracy: 0.4400\n",
      "Epoch 223/1000\n",
      "70/70 [==============================] - 0s 1ms/step - loss: 0.9141 - accuracy: 0.6656 - val_loss: 1.4100 - val_accuracy: 0.4333\n",
      "Epoch 224/1000\n",
      "70/70 [==============================] - 0s 1ms/step - loss: 0.9648 - accuracy: 0.6309 - val_loss: 1.4181 - val_accuracy: 0.4233\n",
      "Epoch 225/1000\n",
      "70/70 [==============================] - 0s 1ms/step - loss: 0.9167 - accuracy: 0.6477 - val_loss: 1.4106 - val_accuracy: 0.4300\n",
      "Epoch 226/1000\n",
      "70/70 [==============================] - 0s 1ms/step - loss: 0.8537 - accuracy: 0.6833 - val_loss: 1.4149 - val_accuracy: 0.4233\n",
      "Epoch 227/1000\n",
      "70/70 [==============================] - 0s 1ms/step - loss: 0.9253 - accuracy: 0.6671 - val_loss: 1.4155 - val_accuracy: 0.4267\n",
      "Epoch 228/1000\n",
      "70/70 [==============================] - 0s 1ms/step - loss: 0.8986 - accuracy: 0.6606 - val_loss: 1.4091 - val_accuracy: 0.4367\n"
     ]
    },
    {
     "name": "stdout",
     "output_type": "stream",
     "text": [
      "Epoch 229/1000\n",
      "70/70 [==============================] - 0s 1ms/step - loss: 0.9068 - accuracy: 0.6711 - val_loss: 1.4171 - val_accuracy: 0.4367\n",
      "Epoch 230/1000\n",
      "70/70 [==============================] - 0s 1ms/step - loss: 0.8753 - accuracy: 0.6819 - val_loss: 1.4210 - val_accuracy: 0.4267\n",
      "Epoch 231/1000\n",
      "70/70 [==============================] - 0s 1ms/step - loss: 0.8986 - accuracy: 0.6544 - val_loss: 1.4137 - val_accuracy: 0.4167\n",
      "Epoch 232/1000\n",
      "70/70 [==============================] - 0s 1ms/step - loss: 0.9445 - accuracy: 0.6396 - val_loss: 1.4279 - val_accuracy: 0.4300\n",
      "Epoch 233/1000\n",
      "70/70 [==============================] - 0s 1ms/step - loss: 0.9168 - accuracy: 0.6547 - val_loss: 1.4276 - val_accuracy: 0.4333\n",
      "Epoch 234/1000\n",
      "70/70 [==============================] - 0s 1ms/step - loss: 0.8886 - accuracy: 0.6611 - val_loss: 1.4352 - val_accuracy: 0.4133\n",
      "Epoch 235/1000\n",
      "70/70 [==============================] - 0s 1ms/step - loss: 0.9006 - accuracy: 0.6531 - val_loss: 1.4261 - val_accuracy: 0.4433\n",
      "Epoch 236/1000\n",
      "70/70 [==============================] - 0s 1ms/step - loss: 0.8632 - accuracy: 0.6782 - val_loss: 1.4203 - val_accuracy: 0.4433\n",
      "Epoch 237/1000\n",
      "70/70 [==============================] - 0s 1ms/step - loss: 0.9181 - accuracy: 0.6803 - val_loss: 1.4299 - val_accuracy: 0.4400\n",
      "Epoch 238/1000\n",
      "70/70 [==============================] - 0s 1ms/step - loss: 0.8961 - accuracy: 0.6477 - val_loss: 1.4182 - val_accuracy: 0.4433\n",
      "Epoch 239/1000\n",
      "70/70 [==============================] - 0s 1ms/step - loss: 0.8400 - accuracy: 0.6816 - val_loss: 1.4248 - val_accuracy: 0.4433\n",
      "Epoch 240/1000\n",
      "70/70 [==============================] - 0s 1ms/step - loss: 0.8698 - accuracy: 0.6654 - val_loss: 1.4296 - val_accuracy: 0.4333\n",
      "Epoch 241/1000\n",
      "70/70 [==============================] - 0s 1ms/step - loss: 0.8670 - accuracy: 0.6651 - val_loss: 1.4348 - val_accuracy: 0.4333\n",
      "Epoch 242/1000\n",
      "70/70 [==============================] - 0s 1ms/step - loss: 0.9112 - accuracy: 0.6666 - val_loss: 1.4311 - val_accuracy: 0.4400\n",
      "Epoch 243/1000\n",
      "70/70 [==============================] - 0s 1ms/step - loss: 0.9024 - accuracy: 0.6426 - val_loss: 1.4294 - val_accuracy: 0.4300\n",
      "Epoch 244/1000\n",
      "70/70 [==============================] - 0s 1ms/step - loss: 0.8584 - accuracy: 0.6862 - val_loss: 1.4417 - val_accuracy: 0.4300\n",
      "Epoch 245/1000\n",
      "70/70 [==============================] - 0s 1ms/step - loss: 0.8909 - accuracy: 0.6696 - val_loss: 1.4312 - val_accuracy: 0.4333\n",
      "Epoch 246/1000\n",
      "70/70 [==============================] - 0s 1ms/step - loss: 0.8718 - accuracy: 0.6597 - val_loss: 1.4259 - val_accuracy: 0.4367\n",
      "Epoch 247/1000\n",
      "70/70 [==============================] - 0s 1ms/step - loss: 0.9506 - accuracy: 0.6180 - val_loss: 1.4433 - val_accuracy: 0.4333\n",
      "Epoch 248/1000\n",
      "70/70 [==============================] - 0s 1ms/step - loss: 0.8763 - accuracy: 0.6402 - val_loss: 1.4379 - val_accuracy: 0.4300\n",
      "Epoch 249/1000\n",
      "70/70 [==============================] - 0s 1ms/step - loss: 0.8324 - accuracy: 0.7017 - val_loss: 1.4330 - val_accuracy: 0.4300\n",
      "Epoch 250/1000\n",
      "70/70 [==============================] - 0s 1ms/step - loss: 0.8673 - accuracy: 0.6759 - val_loss: 1.4296 - val_accuracy: 0.4367\n",
      "Epoch 251/1000\n",
      "70/70 [==============================] - 0s 1ms/step - loss: 0.8717 - accuracy: 0.6731 - val_loss: 1.4377 - val_accuracy: 0.4400\n",
      "Epoch 252/1000\n",
      "70/70 [==============================] - 0s 1ms/step - loss: 0.9702 - accuracy: 0.6087 - val_loss: 1.4386 - val_accuracy: 0.4400\n",
      "Epoch 253/1000\n",
      "70/70 [==============================] - 0s 1ms/step - loss: 0.9025 - accuracy: 0.6571 - val_loss: 1.4494 - val_accuracy: 0.4300\n",
      "Epoch 254/1000\n",
      "70/70 [==============================] - 0s 1ms/step - loss: 0.9010 - accuracy: 0.6615 - val_loss: 1.4409 - val_accuracy: 0.4300\n",
      "Epoch 255/1000\n",
      "70/70 [==============================] - 0s 1ms/step - loss: 0.8534 - accuracy: 0.7023 - val_loss: 1.4486 - val_accuracy: 0.4267\n",
      "Epoch 256/1000\n",
      "70/70 [==============================] - 0s 1ms/step - loss: 0.8608 - accuracy: 0.6880 - val_loss: 1.4433 - val_accuracy: 0.4133\n",
      "Epoch 257/1000\n",
      "70/70 [==============================] - 0s 1ms/step - loss: 0.8839 - accuracy: 0.6754 - val_loss: 1.4453 - val_accuracy: 0.4333\n",
      "Epoch 258/1000\n",
      "70/70 [==============================] - 0s 1ms/step - loss: 0.9202 - accuracy: 0.6513 - val_loss: 1.4476 - val_accuracy: 0.4333\n",
      "Epoch 259/1000\n",
      "70/70 [==============================] - 0s 1ms/step - loss: 0.8463 - accuracy: 0.6744 - val_loss: 1.4442 - val_accuracy: 0.4400\n",
      "Epoch 260/1000\n",
      "70/70 [==============================] - 0s 1ms/step - loss: 0.8810 - accuracy: 0.6762 - val_loss: 1.4469 - val_accuracy: 0.4467\n",
      "Epoch 261/1000\n",
      "70/70 [==============================] - 0s 1ms/step - loss: 0.8944 - accuracy: 0.6782 - val_loss: 1.4580 - val_accuracy: 0.4567\n",
      "Epoch 262/1000\n",
      "70/70 [==============================] - 0s 1ms/step - loss: 0.8441 - accuracy: 0.6814 - val_loss: 1.4395 - val_accuracy: 0.4433\n",
      "Epoch 263/1000\n",
      "70/70 [==============================] - 0s 1ms/step - loss: 0.8622 - accuracy: 0.6811 - val_loss: 1.4517 - val_accuracy: 0.4400\n",
      "Epoch 264/1000\n",
      "70/70 [==============================] - 0s 1ms/step - loss: 0.8728 - accuracy: 0.6877 - val_loss: 1.4392 - val_accuracy: 0.4367\n",
      "Epoch 265/1000\n",
      "70/70 [==============================] - 0s 1ms/step - loss: 0.8281 - accuracy: 0.7169 - val_loss: 1.4428 - val_accuracy: 0.4433\n",
      "Epoch 266/1000\n",
      "70/70 [==============================] - 0s 1ms/step - loss: 0.8773 - accuracy: 0.6525 - val_loss: 1.4645 - val_accuracy: 0.4400\n",
      "Epoch 267/1000\n",
      "70/70 [==============================] - 0s 1ms/step - loss: 0.8615 - accuracy: 0.6866 - val_loss: 1.4405 - val_accuracy: 0.4433\n",
      "Epoch 268/1000\n",
      "70/70 [==============================] - 0s 2ms/step - loss: 0.9133 - accuracy: 0.6521 - val_loss: 1.4519 - val_accuracy: 0.4433\n",
      "Epoch 269/1000\n",
      "70/70 [==============================] - 0s 1ms/step - loss: 0.8691 - accuracy: 0.6560 - val_loss: 1.4479 - val_accuracy: 0.4367\n",
      "Epoch 270/1000\n",
      "70/70 [==============================] - 0s 1ms/step - loss: 0.8897 - accuracy: 0.6595 - val_loss: 1.4495 - val_accuracy: 0.4333\n",
      "Epoch 271/1000\n",
      "70/70 [==============================] - 0s 1ms/step - loss: 0.8688 - accuracy: 0.6754 - val_loss: 1.4503 - val_accuracy: 0.4367\n",
      "Epoch 272/1000\n",
      "70/70 [==============================] - 0s 1ms/step - loss: 0.8427 - accuracy: 0.7054 - val_loss: 1.4644 - val_accuracy: 0.4433\n",
      "Epoch 273/1000\n",
      "70/70 [==============================] - 0s 1ms/step - loss: 0.8320 - accuracy: 0.7042 - val_loss: 1.4442 - val_accuracy: 0.4367\n",
      "Epoch 274/1000\n",
      "70/70 [==============================] - 0s 1ms/step - loss: 0.8804 - accuracy: 0.6812 - val_loss: 1.4564 - val_accuracy: 0.4500\n",
      "Epoch 275/1000\n",
      "70/70 [==============================] - 0s 1ms/step - loss: 0.8945 - accuracy: 0.6671 - val_loss: 1.4637 - val_accuracy: 0.4400\n",
      "Epoch 276/1000\n",
      "70/70 [==============================] - 0s 1ms/step - loss: 0.8302 - accuracy: 0.6968 - val_loss: 1.4652 - val_accuracy: 0.4467\n",
      "Epoch 277/1000\n",
      "70/70 [==============================] - 0s 1ms/step - loss: 0.8479 - accuracy: 0.6879 - val_loss: 1.4570 - val_accuracy: 0.4467\n",
      "Epoch 278/1000\n",
      "70/70 [==============================] - 0s 1ms/step - loss: 0.8383 - accuracy: 0.6725 - val_loss: 1.4577 - val_accuracy: 0.4400\n",
      "Epoch 279/1000\n",
      "70/70 [==============================] - 0s 1ms/step - loss: 0.8464 - accuracy: 0.6847 - val_loss: 1.4537 - val_accuracy: 0.4433\n",
      "Epoch 280/1000\n",
      "70/70 [==============================] - 0s 1ms/step - loss: 0.8289 - accuracy: 0.6675 - val_loss: 1.4709 - val_accuracy: 0.4533\n",
      "Epoch 281/1000\n",
      "70/70 [==============================] - 0s 1ms/step - loss: 0.8575 - accuracy: 0.6820 - val_loss: 1.4629 - val_accuracy: 0.4433\n",
      "Epoch 282/1000\n",
      "70/70 [==============================] - 0s 1ms/step - loss: 0.8262 - accuracy: 0.6592 - val_loss: 1.4611 - val_accuracy: 0.4367\n",
      "Epoch 283/1000\n",
      "70/70 [==============================] - 0s 1ms/step - loss: 0.8714 - accuracy: 0.6533 - val_loss: 1.4613 - val_accuracy: 0.4433\n",
      "Epoch 284/1000\n",
      "70/70 [==============================] - 0s 1ms/step - loss: 0.9041 - accuracy: 0.6650 - val_loss: 1.4716 - val_accuracy: 0.4267\n",
      "Epoch 285/1000\n",
      "70/70 [==============================] - 0s 1ms/step - loss: 0.8302 - accuracy: 0.6884 - val_loss: 1.4807 - val_accuracy: 0.4400\n"
     ]
    },
    {
     "name": "stdout",
     "output_type": "stream",
     "text": [
      "Epoch 286/1000\n",
      "70/70 [==============================] - 0s 1ms/step - loss: 0.8715 - accuracy: 0.6653 - val_loss: 1.4732 - val_accuracy: 0.4400\n",
      "Epoch 287/1000\n",
      "70/70 [==============================] - 0s 1ms/step - loss: 0.7997 - accuracy: 0.7074 - val_loss: 1.4654 - val_accuracy: 0.4333\n",
      "Epoch 288/1000\n",
      "70/70 [==============================] - 0s 1ms/step - loss: 0.8679 - accuracy: 0.6778 - val_loss: 1.4694 - val_accuracy: 0.4367\n",
      "Epoch 289/1000\n",
      "70/70 [==============================] - 0s 1ms/step - loss: 0.8472 - accuracy: 0.6994 - val_loss: 1.4634 - val_accuracy: 0.4400\n",
      "Epoch 290/1000\n",
      "70/70 [==============================] - 0s 1ms/step - loss: 0.8157 - accuracy: 0.6697 - val_loss: 1.4627 - val_accuracy: 0.4433\n",
      "Epoch 291/1000\n",
      "70/70 [==============================] - 0s 1ms/step - loss: 0.8107 - accuracy: 0.6672 - val_loss: 1.4763 - val_accuracy: 0.4567\n",
      "Epoch 292/1000\n",
      "70/70 [==============================] - 0s 1ms/step - loss: 0.8428 - accuracy: 0.7023 - val_loss: 1.4758 - val_accuracy: 0.4333\n",
      "Epoch 293/1000\n",
      "70/70 [==============================] - 0s 1ms/step - loss: 0.8320 - accuracy: 0.6916 - val_loss: 1.4773 - val_accuracy: 0.4467\n",
      "Epoch 294/1000\n",
      "70/70 [==============================] - 0s 1ms/step - loss: 0.8455 - accuracy: 0.6881 - val_loss: 1.4762 - val_accuracy: 0.4567\n",
      "Epoch 295/1000\n",
      "70/70 [==============================] - 0s 1ms/step - loss: 0.8605 - accuracy: 0.6777 - val_loss: 1.4751 - val_accuracy: 0.4433\n",
      "Epoch 296/1000\n",
      "70/70 [==============================] - 0s 1ms/step - loss: 0.8670 - accuracy: 0.6784 - val_loss: 1.4754 - val_accuracy: 0.4533\n",
      "Epoch 297/1000\n",
      "70/70 [==============================] - 0s 1ms/step - loss: 0.8410 - accuracy: 0.7011 - val_loss: 1.4766 - val_accuracy: 0.4433\n",
      "Epoch 298/1000\n",
      "70/70 [==============================] - 0s 1ms/step - loss: 0.8136 - accuracy: 0.6923 - val_loss: 1.4841 - val_accuracy: 0.4433\n",
      "Epoch 299/1000\n",
      "70/70 [==============================] - 0s 1ms/step - loss: 0.8259 - accuracy: 0.6941 - val_loss: 1.4832 - val_accuracy: 0.4500\n",
      "Epoch 300/1000\n",
      "70/70 [==============================] - 0s 1ms/step - loss: 0.8209 - accuracy: 0.6867 - val_loss: 1.4927 - val_accuracy: 0.4500\n",
      "Epoch 301/1000\n",
      "70/70 [==============================] - 0s 1ms/step - loss: 0.8834 - accuracy: 0.6753 - val_loss: 1.4909 - val_accuracy: 0.4400\n",
      "Epoch 302/1000\n",
      "70/70 [==============================] - 0s 1ms/step - loss: 0.8115 - accuracy: 0.6938 - val_loss: 1.4748 - val_accuracy: 0.4367\n",
      "Epoch 303/1000\n",
      "70/70 [==============================] - 0s 1ms/step - loss: 0.8568 - accuracy: 0.6700 - val_loss: 1.4879 - val_accuracy: 0.4467\n",
      "Epoch 304/1000\n",
      "70/70 [==============================] - 0s 1ms/step - loss: 0.8496 - accuracy: 0.6600 - val_loss: 1.4814 - val_accuracy: 0.4533\n",
      "Epoch 305/1000\n",
      "70/70 [==============================] - 0s 1ms/step - loss: 0.8371 - accuracy: 0.6738 - val_loss: 1.4788 - val_accuracy: 0.4400\n",
      "Epoch 306/1000\n",
      "70/70 [==============================] - 0s 1ms/step - loss: 0.8027 - accuracy: 0.6851 - val_loss: 1.4923 - val_accuracy: 0.4367\n",
      "Epoch 307/1000\n",
      "70/70 [==============================] - 0s 1ms/step - loss: 0.8049 - accuracy: 0.6831 - val_loss: 1.4934 - val_accuracy: 0.4500\n",
      "Epoch 308/1000\n",
      "70/70 [==============================] - 0s 1ms/step - loss: 0.8465 - accuracy: 0.6955 - val_loss: 1.4864 - val_accuracy: 0.4467\n",
      "Epoch 309/1000\n",
      "70/70 [==============================] - 0s 1ms/step - loss: 0.8559 - accuracy: 0.6558 - val_loss: 1.4839 - val_accuracy: 0.4433\n",
      "Epoch 310/1000\n",
      "70/70 [==============================] - 0s 1ms/step - loss: 0.7893 - accuracy: 0.6945 - val_loss: 1.5107 - val_accuracy: 0.4500\n",
      "Epoch 311/1000\n",
      "70/70 [==============================] - 0s 1ms/step - loss: 0.8141 - accuracy: 0.6930 - val_loss: 1.4854 - val_accuracy: 0.4433\n",
      "Epoch 312/1000\n",
      "70/70 [==============================] - 0s 1ms/step - loss: 0.8086 - accuracy: 0.7314 - val_loss: 1.4962 - val_accuracy: 0.4433\n",
      "Epoch 313/1000\n",
      "70/70 [==============================] - 0s 1ms/step - loss: 0.8596 - accuracy: 0.6738 - val_loss: 1.4982 - val_accuracy: 0.4433\n",
      "Epoch 314/1000\n",
      "70/70 [==============================] - 0s 1ms/step - loss: 0.8239 - accuracy: 0.6855 - val_loss: 1.4962 - val_accuracy: 0.4400\n",
      "Epoch 315/1000\n",
      "70/70 [==============================] - 0s 1ms/step - loss: 0.8098 - accuracy: 0.6844 - val_loss: 1.5156 - val_accuracy: 0.4567\n",
      "Epoch 316/1000\n",
      "70/70 [==============================] - 0s 1ms/step - loss: 0.8163 - accuracy: 0.7110 - val_loss: 1.5002 - val_accuracy: 0.4433\n",
      "Epoch 317/1000\n",
      "70/70 [==============================] - 0s 1ms/step - loss: 0.7908 - accuracy: 0.6854 - val_loss: 1.5029 - val_accuracy: 0.4533\n",
      "Epoch 318/1000\n",
      "70/70 [==============================] - 0s 1ms/step - loss: 0.8164 - accuracy: 0.6881 - val_loss: 1.4927 - val_accuracy: 0.4467\n",
      "Epoch 319/1000\n",
      "70/70 [==============================] - 0s 1ms/step - loss: 0.8239 - accuracy: 0.6754 - val_loss: 1.4898 - val_accuracy: 0.4433\n",
      "Epoch 320/1000\n",
      "70/70 [==============================] - 0s 1ms/step - loss: 0.8496 - accuracy: 0.6845 - val_loss: 1.5096 - val_accuracy: 0.4433\n",
      "Epoch 321/1000\n",
      "70/70 [==============================] - 0s 1ms/step - loss: 0.8308 - accuracy: 0.6697 - val_loss: 1.5023 - val_accuracy: 0.4533\n",
      "Epoch 322/1000\n",
      "70/70 [==============================] - 0s 1ms/step - loss: 0.8338 - accuracy: 0.6981 - val_loss: 1.5025 - val_accuracy: 0.4467\n",
      "Epoch 323/1000\n",
      "70/70 [==============================] - 0s 1ms/step - loss: 0.7762 - accuracy: 0.7023 - val_loss: 1.5075 - val_accuracy: 0.4500\n",
      "Epoch 324/1000\n",
      "70/70 [==============================] - 0s 1ms/step - loss: 0.8204 - accuracy: 0.6917 - val_loss: 1.5142 - val_accuracy: 0.4500\n",
      "Epoch 325/1000\n",
      "70/70 [==============================] - 0s 1ms/step - loss: 0.8222 - accuracy: 0.7018 - val_loss: 1.5106 - val_accuracy: 0.4500\n",
      "Epoch 326/1000\n",
      "70/70 [==============================] - 0s 1ms/step - loss: 0.8366 - accuracy: 0.6668 - val_loss: 1.5134 - val_accuracy: 0.4533\n",
      "Epoch 327/1000\n",
      "70/70 [==============================] - 0s 1ms/step - loss: 0.8050 - accuracy: 0.6950 - val_loss: 1.5046 - val_accuracy: 0.4533\n",
      "Epoch 328/1000\n",
      "70/70 [==============================] - 0s 1ms/step - loss: 0.7885 - accuracy: 0.6880 - val_loss: 1.5204 - val_accuracy: 0.4633\n",
      "Epoch 329/1000\n",
      "70/70 [==============================] - 0s 1ms/step - loss: 0.8209 - accuracy: 0.6806 - val_loss: 1.5111 - val_accuracy: 0.4433\n",
      "Epoch 330/1000\n",
      "70/70 [==============================] - 0s 1ms/step - loss: 0.7902 - accuracy: 0.7021 - val_loss: 1.5137 - val_accuracy: 0.4400\n",
      "Epoch 331/1000\n",
      "70/70 [==============================] - 0s 1ms/step - loss: 0.7923 - accuracy: 0.7219 - val_loss: 1.5198 - val_accuracy: 0.4467\n",
      "Epoch 332/1000\n",
      "70/70 [==============================] - 0s 1ms/step - loss: 0.7960 - accuracy: 0.7179 - val_loss: 1.5135 - val_accuracy: 0.4500\n",
      "Epoch 333/1000\n",
      "70/70 [==============================] - 0s 1ms/step - loss: 0.8402 - accuracy: 0.6970 - val_loss: 1.5263 - val_accuracy: 0.4500\n",
      "Epoch 334/1000\n",
      "70/70 [==============================] - 0s 1ms/step - loss: 0.8065 - accuracy: 0.6711 - val_loss: 1.5229 - val_accuracy: 0.4533\n",
      "Epoch 335/1000\n",
      "70/70 [==============================] - 0s 1ms/step - loss: 0.8225 - accuracy: 0.6883 - val_loss: 1.5356 - val_accuracy: 0.4633\n",
      "Epoch 336/1000\n",
      "70/70 [==============================] - 0s 1ms/step - loss: 0.7853 - accuracy: 0.7001 - val_loss: 1.5245 - val_accuracy: 0.4333\n",
      "Epoch 337/1000\n",
      "70/70 [==============================] - 0s 1ms/step - loss: 0.8178 - accuracy: 0.6987 - val_loss: 1.5133 - val_accuracy: 0.4467\n",
      "Epoch 338/1000\n",
      "70/70 [==============================] - 0s 1ms/step - loss: 0.7847 - accuracy: 0.6796 - val_loss: 1.5233 - val_accuracy: 0.4500\n",
      "Epoch 339/1000\n",
      "70/70 [==============================] - 0s 1ms/step - loss: 0.8298 - accuracy: 0.6891 - val_loss: 1.5257 - val_accuracy: 0.4533\n",
      "Epoch 340/1000\n",
      "70/70 [==============================] - 0s 1ms/step - loss: 0.8044 - accuracy: 0.6832 - val_loss: 1.5249 - val_accuracy: 0.4500\n",
      "Epoch 341/1000\n",
      "70/70 [==============================] - 0s 1ms/step - loss: 0.8035 - accuracy: 0.6895 - val_loss: 1.5314 - val_accuracy: 0.4567\n",
      "Epoch 342/1000\n",
      "70/70 [==============================] - 0s 1ms/step - loss: 0.8133 - accuracy: 0.6843 - val_loss: 1.5305 - val_accuracy: 0.4400\n"
     ]
    },
    {
     "name": "stdout",
     "output_type": "stream",
     "text": [
      "Epoch 343/1000\n",
      "70/70 [==============================] - 0s 1ms/step - loss: 0.8667 - accuracy: 0.6603 - val_loss: 1.5500 - val_accuracy: 0.4600\n",
      "Epoch 344/1000\n",
      "70/70 [==============================] - 0s 1ms/step - loss: 0.7888 - accuracy: 0.7283 - val_loss: 1.5332 - val_accuracy: 0.4433\n",
      "Epoch 345/1000\n",
      "70/70 [==============================] - 0s 1ms/step - loss: 0.7582 - accuracy: 0.7144 - val_loss: 1.5377 - val_accuracy: 0.4567\n",
      "Epoch 346/1000\n",
      "70/70 [==============================] - 0s 1ms/step - loss: 0.7885 - accuracy: 0.6912 - val_loss: 1.5336 - val_accuracy: 0.4600\n",
      "Epoch 347/1000\n",
      "70/70 [==============================] - 0s 1ms/step - loss: 0.8581 - accuracy: 0.6610 - val_loss: 1.5295 - val_accuracy: 0.4500\n",
      "Epoch 348/1000\n",
      "70/70 [==============================] - 0s 1ms/step - loss: 0.8256 - accuracy: 0.6809 - val_loss: 1.5308 - val_accuracy: 0.4500\n",
      "Epoch 349/1000\n",
      "70/70 [==============================] - 0s 1ms/step - loss: 0.7984 - accuracy: 0.7072 - val_loss: 1.5369 - val_accuracy: 0.4467\n",
      "Epoch 350/1000\n",
      "70/70 [==============================] - 0s 1ms/step - loss: 0.8110 - accuracy: 0.6785 - val_loss: 1.5341 - val_accuracy: 0.4533\n",
      "Epoch 351/1000\n",
      "70/70 [==============================] - 0s 1ms/step - loss: 0.8039 - accuracy: 0.7017 - val_loss: 1.5346 - val_accuracy: 0.4467\n",
      "Epoch 352/1000\n",
      "70/70 [==============================] - 0s 1ms/step - loss: 0.7842 - accuracy: 0.7015 - val_loss: 1.5356 - val_accuracy: 0.4433\n",
      "Epoch 353/1000\n",
      "70/70 [==============================] - 0s 1ms/step - loss: 0.7930 - accuracy: 0.7030 - val_loss: 1.5345 - val_accuracy: 0.4533\n",
      "Epoch 354/1000\n",
      "70/70 [==============================] - 0s 1ms/step - loss: 0.8010 - accuracy: 0.6953 - val_loss: 1.5346 - val_accuracy: 0.4533\n",
      "Epoch 355/1000\n",
      "70/70 [==============================] - 0s 1ms/step - loss: 0.8240 - accuracy: 0.7017 - val_loss: 1.5441 - val_accuracy: 0.4533\n",
      "Epoch 356/1000\n",
      "70/70 [==============================] - 0s 1ms/step - loss: 0.8277 - accuracy: 0.6960 - val_loss: 1.5478 - val_accuracy: 0.4533\n",
      "Epoch 357/1000\n",
      "70/70 [==============================] - 0s 1ms/step - loss: 0.7287 - accuracy: 0.7098 - val_loss: 1.5436 - val_accuracy: 0.4567\n",
      "Epoch 358/1000\n",
      "70/70 [==============================] - 0s 1ms/step - loss: 0.8306 - accuracy: 0.6642 - val_loss: 1.5401 - val_accuracy: 0.4500\n",
      "Epoch 359/1000\n",
      "70/70 [==============================] - 0s 1ms/step - loss: 0.7809 - accuracy: 0.7012 - val_loss: 1.5392 - val_accuracy: 0.4533\n",
      "Epoch 360/1000\n",
      "70/70 [==============================] - 0s 1ms/step - loss: 0.7655 - accuracy: 0.7216 - val_loss: 1.5451 - val_accuracy: 0.4600\n",
      "Epoch 361/1000\n",
      "70/70 [==============================] - 0s 1ms/step - loss: 0.8254 - accuracy: 0.6715 - val_loss: 1.5558 - val_accuracy: 0.4600\n",
      "Epoch 362/1000\n",
      "70/70 [==============================] - 0s 1ms/step - loss: 0.8396 - accuracy: 0.6848 - val_loss: 1.5509 - val_accuracy: 0.4533\n",
      "Epoch 363/1000\n",
      "70/70 [==============================] - 0s 1ms/step - loss: 0.7893 - accuracy: 0.7047 - val_loss: 1.5569 - val_accuracy: 0.4467\n",
      "Epoch 364/1000\n",
      "70/70 [==============================] - 0s 1ms/step - loss: 0.7591 - accuracy: 0.7359 - val_loss: 1.5411 - val_accuracy: 0.4533\n",
      "Epoch 365/1000\n",
      "70/70 [==============================] - 0s 1ms/step - loss: 0.7825 - accuracy: 0.7139 - val_loss: 1.5546 - val_accuracy: 0.4333\n",
      "Epoch 366/1000\n",
      "70/70 [==============================] - 0s 1ms/step - loss: 0.7610 - accuracy: 0.7086 - val_loss: 1.5507 - val_accuracy: 0.4500\n",
      "Epoch 367/1000\n",
      "70/70 [==============================] - 0s 1ms/step - loss: 0.7712 - accuracy: 0.7030 - val_loss: 1.5560 - val_accuracy: 0.4400\n",
      "Epoch 368/1000\n",
      "70/70 [==============================] - 0s 1ms/step - loss: 0.8273 - accuracy: 0.6802 - val_loss: 1.5752 - val_accuracy: 0.4600\n",
      "Epoch 369/1000\n",
      "70/70 [==============================] - 0s 1ms/step - loss: 0.8046 - accuracy: 0.6860 - val_loss: 1.5611 - val_accuracy: 0.4567\n",
      "Epoch 370/1000\n",
      "70/70 [==============================] - 0s 1ms/step - loss: 0.7808 - accuracy: 0.7050 - val_loss: 1.5715 - val_accuracy: 0.4600\n",
      "Epoch 371/1000\n",
      "70/70 [==============================] - 0s 1ms/step - loss: 0.7971 - accuracy: 0.6822 - val_loss: 1.5580 - val_accuracy: 0.4567\n",
      "Epoch 372/1000\n",
      "70/70 [==============================] - 0s 1ms/step - loss: 0.7673 - accuracy: 0.6927 - val_loss: 1.5714 - val_accuracy: 0.4633\n",
      "Epoch 373/1000\n",
      "70/70 [==============================] - 0s 1ms/step - loss: 0.7668 - accuracy: 0.6910 - val_loss: 1.5634 - val_accuracy: 0.4533\n",
      "Epoch 374/1000\n",
      "70/70 [==============================] - 0s 1ms/step - loss: 0.7677 - accuracy: 0.7151 - val_loss: 1.5661 - val_accuracy: 0.4500\n",
      "Epoch 375/1000\n",
      "70/70 [==============================] - 0s 1ms/step - loss: 0.7660 - accuracy: 0.7228 - val_loss: 1.5731 - val_accuracy: 0.4500\n",
      "Epoch 376/1000\n",
      "70/70 [==============================] - 0s 1ms/step - loss: 0.7802 - accuracy: 0.6978 - val_loss: 1.5711 - val_accuracy: 0.4567\n",
      "Epoch 377/1000\n",
      "70/70 [==============================] - 0s 1ms/step - loss: 0.7256 - accuracy: 0.7366 - val_loss: 1.5690 - val_accuracy: 0.4500\n",
      "Epoch 378/1000\n",
      "70/70 [==============================] - 0s 1ms/step - loss: 0.7688 - accuracy: 0.7390 - val_loss: 1.5693 - val_accuracy: 0.4533\n",
      "Epoch 379/1000\n",
      "70/70 [==============================] - 0s 1ms/step - loss: 0.8277 - accuracy: 0.6788 - val_loss: 1.5622 - val_accuracy: 0.4500\n",
      "Epoch 380/1000\n",
      "70/70 [==============================] - 0s 1ms/step - loss: 0.8048 - accuracy: 0.6863 - val_loss: 1.5840 - val_accuracy: 0.4533\n",
      "Epoch 381/1000\n",
      "70/70 [==============================] - 0s 1ms/step - loss: 0.7903 - accuracy: 0.7027 - val_loss: 1.5683 - val_accuracy: 0.4467\n",
      "Epoch 382/1000\n",
      "70/70 [==============================] - 0s 1ms/step - loss: 0.7574 - accuracy: 0.7149 - val_loss: 1.5755 - val_accuracy: 0.4567\n",
      "Epoch 383/1000\n",
      "70/70 [==============================] - 0s 1ms/step - loss: 0.7955 - accuracy: 0.7058 - val_loss: 1.5712 - val_accuracy: 0.4500\n",
      "Epoch 384/1000\n",
      "70/70 [==============================] - 0s 1ms/step - loss: 0.7492 - accuracy: 0.7208 - val_loss: 1.5756 - val_accuracy: 0.4433\n",
      "Epoch 385/1000\n",
      "70/70 [==============================] - 0s 1ms/step - loss: 0.8097 - accuracy: 0.7100 - val_loss: 1.5806 - val_accuracy: 0.4567\n",
      "Epoch 386/1000\n",
      "70/70 [==============================] - 0s 1ms/step - loss: 0.7499 - accuracy: 0.7375 - val_loss: 1.5773 - val_accuracy: 0.4467\n",
      "Epoch 387/1000\n",
      "70/70 [==============================] - 0s 1ms/step - loss: 0.7432 - accuracy: 0.7268 - val_loss: 1.5784 - val_accuracy: 0.4433\n",
      "Epoch 388/1000\n",
      "70/70 [==============================] - 0s 1ms/step - loss: 0.8236 - accuracy: 0.6893 - val_loss: 1.5796 - val_accuracy: 0.4433\n",
      "Epoch 389/1000\n",
      "70/70 [==============================] - 0s 1ms/step - loss: 0.7474 - accuracy: 0.7056 - val_loss: 1.5740 - val_accuracy: 0.4367\n",
      "Epoch 390/1000\n",
      "70/70 [==============================] - 0s 1ms/step - loss: 0.7749 - accuracy: 0.7075 - val_loss: 1.5777 - val_accuracy: 0.4533\n",
      "Epoch 391/1000\n",
      "70/70 [==============================] - 0s 1ms/step - loss: 0.7690 - accuracy: 0.7251 - val_loss: 1.5794 - val_accuracy: 0.4333\n",
      "Epoch 392/1000\n",
      "70/70 [==============================] - 0s 1ms/step - loss: 0.7954 - accuracy: 0.6879 - val_loss: 1.5859 - val_accuracy: 0.4467\n",
      "Epoch 393/1000\n",
      "70/70 [==============================] - 0s 1ms/step - loss: 0.8033 - accuracy: 0.6892 - val_loss: 1.5721 - val_accuracy: 0.4533\n",
      "Epoch 394/1000\n",
      "70/70 [==============================] - 0s 1ms/step - loss: 0.7533 - accuracy: 0.7167 - val_loss: 1.5848 - val_accuracy: 0.4500\n",
      "Epoch 395/1000\n",
      "70/70 [==============================] - 0s 1ms/step - loss: 0.7971 - accuracy: 0.6672 - val_loss: 1.5956 - val_accuracy: 0.4600\n",
      "Epoch 396/1000\n",
      "70/70 [==============================] - 0s 1ms/step - loss: 0.7667 - accuracy: 0.6900 - val_loss: 1.5872 - val_accuracy: 0.4533\n",
      "Epoch 397/1000\n",
      "70/70 [==============================] - 0s 1ms/step - loss: 0.7099 - accuracy: 0.7260 - val_loss: 1.5908 - val_accuracy: 0.4433\n",
      "Epoch 398/1000\n",
      "70/70 [==============================] - 0s 1ms/step - loss: 0.7870 - accuracy: 0.6885 - val_loss: 1.6020 - val_accuracy: 0.4567\n",
      "Epoch 399/1000\n",
      "70/70 [==============================] - 0s 1ms/step - loss: 0.8017 - accuracy: 0.7148 - val_loss: 1.5932 - val_accuracy: 0.4533\n"
     ]
    },
    {
     "name": "stdout",
     "output_type": "stream",
     "text": [
      "Epoch 400/1000\n",
      "70/70 [==============================] - 0s 1ms/step - loss: 0.7613 - accuracy: 0.7174 - val_loss: 1.6033 - val_accuracy: 0.4567\n",
      "Epoch 401/1000\n",
      "70/70 [==============================] - 0s 1ms/step - loss: 0.8170 - accuracy: 0.7025 - val_loss: 1.5954 - val_accuracy: 0.4467\n",
      "Epoch 402/1000\n",
      "70/70 [==============================] - 0s 1ms/step - loss: 0.7272 - accuracy: 0.7300 - val_loss: 1.5850 - val_accuracy: 0.4500\n",
      "Epoch 403/1000\n",
      "70/70 [==============================] - 0s 1ms/step - loss: 0.7144 - accuracy: 0.7428 - val_loss: 1.5958 - val_accuracy: 0.4567\n",
      "Epoch 404/1000\n",
      "70/70 [==============================] - 0s 1ms/step - loss: 0.7514 - accuracy: 0.7159 - val_loss: 1.5999 - val_accuracy: 0.4333\n",
      "Epoch 405/1000\n",
      "70/70 [==============================] - 0s 1ms/step - loss: 0.7829 - accuracy: 0.7197 - val_loss: 1.5941 - val_accuracy: 0.4433\n",
      "Epoch 406/1000\n",
      "70/70 [==============================] - 0s 1ms/step - loss: 0.7535 - accuracy: 0.7038 - val_loss: 1.6114 - val_accuracy: 0.4533\n",
      "Epoch 407/1000\n",
      "70/70 [==============================] - 0s 1ms/step - loss: 0.7596 - accuracy: 0.7116 - val_loss: 1.6167 - val_accuracy: 0.4567\n",
      "Epoch 408/1000\n",
      "70/70 [==============================] - 0s 1ms/step - loss: 0.7603 - accuracy: 0.6987 - val_loss: 1.5997 - val_accuracy: 0.4400\n",
      "Epoch 409/1000\n",
      "70/70 [==============================] - 0s 1ms/step - loss: 0.7677 - accuracy: 0.7020 - val_loss: 1.5939 - val_accuracy: 0.4533\n",
      "Epoch 410/1000\n",
      "70/70 [==============================] - 0s 1ms/step - loss: 0.7834 - accuracy: 0.6963 - val_loss: 1.6068 - val_accuracy: 0.4533\n",
      "Epoch 411/1000\n",
      "70/70 [==============================] - 0s 1ms/step - loss: 0.7637 - accuracy: 0.7064 - val_loss: 1.6080 - val_accuracy: 0.4467\n",
      "Epoch 412/1000\n",
      "70/70 [==============================] - 0s 1ms/step - loss: 0.7450 - accuracy: 0.7094 - val_loss: 1.6081 - val_accuracy: 0.4533\n",
      "Epoch 413/1000\n",
      "70/70 [==============================] - 0s 1ms/step - loss: 0.7562 - accuracy: 0.7080 - val_loss: 1.6025 - val_accuracy: 0.4467\n",
      "Epoch 414/1000\n",
      "70/70 [==============================] - 0s 1ms/step - loss: 0.7766 - accuracy: 0.7239 - val_loss: 1.6151 - val_accuracy: 0.4600\n",
      "Epoch 415/1000\n",
      "70/70 [==============================] - 0s 1ms/step - loss: 0.8166 - accuracy: 0.7076 - val_loss: 1.6092 - val_accuracy: 0.4567\n",
      "Epoch 416/1000\n",
      "70/70 [==============================] - 0s 1ms/step - loss: 0.7919 - accuracy: 0.6986 - val_loss: 1.6189 - val_accuracy: 0.4567\n",
      "Epoch 417/1000\n",
      "70/70 [==============================] - 0s 1ms/step - loss: 0.7588 - accuracy: 0.7066 - val_loss: 1.6107 - val_accuracy: 0.4433\n",
      "Epoch 418/1000\n",
      "70/70 [==============================] - 0s 1ms/step - loss: 0.7511 - accuracy: 0.7233 - val_loss: 1.6103 - val_accuracy: 0.4533\n",
      "Epoch 419/1000\n",
      "70/70 [==============================] - 0s 1ms/step - loss: 0.7103 - accuracy: 0.7522 - val_loss: 1.6049 - val_accuracy: 0.4533\n",
      "Epoch 420/1000\n",
      "70/70 [==============================] - 0s 1ms/step - loss: 0.7714 - accuracy: 0.6933 - val_loss: 1.6192 - val_accuracy: 0.4533\n",
      "Epoch 421/1000\n",
      "70/70 [==============================] - 0s 1ms/step - loss: 0.7762 - accuracy: 0.7040 - val_loss: 1.6242 - val_accuracy: 0.4467\n",
      "Epoch 422/1000\n",
      "70/70 [==============================] - 0s 1ms/step - loss: 0.7576 - accuracy: 0.7212 - val_loss: 1.6222 - val_accuracy: 0.4533\n",
      "Epoch 423/1000\n",
      "70/70 [==============================] - 0s 1ms/step - loss: 0.7504 - accuracy: 0.7227 - val_loss: 1.6243 - val_accuracy: 0.4533\n",
      "Epoch 424/1000\n",
      "70/70 [==============================] - 0s 1ms/step - loss: 0.7795 - accuracy: 0.7057 - val_loss: 1.6262 - val_accuracy: 0.4467\n",
      "Epoch 425/1000\n",
      "70/70 [==============================] - 0s 1ms/step - loss: 0.7883 - accuracy: 0.7129 - val_loss: 1.6211 - val_accuracy: 0.4500\n",
      "Epoch 426/1000\n",
      "70/70 [==============================] - 0s 1ms/step - loss: 0.7194 - accuracy: 0.7326 - val_loss: 1.6218 - val_accuracy: 0.4467\n",
      "Epoch 427/1000\n",
      "70/70 [==============================] - 0s 1ms/step - loss: 0.8594 - accuracy: 0.6789 - val_loss: 1.6317 - val_accuracy: 0.4467\n",
      "Epoch 428/1000\n",
      "70/70 [==============================] - 0s 1ms/step - loss: 0.7340 - accuracy: 0.7592 - val_loss: 1.6328 - val_accuracy: 0.4400\n",
      "Epoch 429/1000\n",
      "70/70 [==============================] - 0s 1ms/step - loss: 0.7364 - accuracy: 0.7126 - val_loss: 1.6299 - val_accuracy: 0.4600\n",
      "Epoch 430/1000\n",
      "70/70 [==============================] - 0s 1ms/step - loss: 0.8126 - accuracy: 0.6847 - val_loss: 1.6411 - val_accuracy: 0.4567\n",
      "Epoch 431/1000\n",
      "70/70 [==============================] - 0s 1ms/step - loss: 0.7546 - accuracy: 0.7194 - val_loss: 1.6517 - val_accuracy: 0.4567\n",
      "Epoch 432/1000\n",
      "70/70 [==============================] - 0s 1ms/step - loss: 0.7584 - accuracy: 0.7194 - val_loss: 1.6554 - val_accuracy: 0.4567\n",
      "Epoch 433/1000\n",
      "70/70 [==============================] - 0s 1ms/step - loss: 0.7642 - accuracy: 0.7116 - val_loss: 1.6227 - val_accuracy: 0.4500\n",
      "Epoch 434/1000\n",
      "70/70 [==============================] - 0s 1ms/step - loss: 0.7587 - accuracy: 0.7232 - val_loss: 1.6350 - val_accuracy: 0.4433\n",
      "Epoch 435/1000\n",
      "70/70 [==============================] - 0s 1ms/step - loss: 0.7582 - accuracy: 0.7198 - val_loss: 1.6457 - val_accuracy: 0.4600\n",
      "Epoch 436/1000\n",
      "70/70 [==============================] - ETA: 0s - loss: 0.8065 - accuracy: 0.71 - 0s 2ms/step - loss: 0.7850 - accuracy: 0.7163 - val_loss: 1.6397 - val_accuracy: 0.4500\n",
      "Epoch 437/1000\n",
      "70/70 [==============================] - 0s 1ms/step - loss: 0.7384 - accuracy: 0.7283 - val_loss: 1.6649 - val_accuracy: 0.4467\n",
      "Epoch 438/1000\n",
      "70/70 [==============================] - 0s 1ms/step - loss: 0.7703 - accuracy: 0.6923 - val_loss: 1.6445 - val_accuracy: 0.4533\n",
      "Epoch 439/1000\n",
      "70/70 [==============================] - 0s 1ms/step - loss: 0.7261 - accuracy: 0.7384 - val_loss: 1.6359 - val_accuracy: 0.4533\n",
      "Epoch 440/1000\n",
      "70/70 [==============================] - 0s 1ms/step - loss: 0.7398 - accuracy: 0.7242 - val_loss: 1.6317 - val_accuracy: 0.4533\n",
      "Epoch 441/1000\n",
      "70/70 [==============================] - 0s 1ms/step - loss: 0.7351 - accuracy: 0.7444 - val_loss: 1.6430 - val_accuracy: 0.4533\n",
      "Epoch 442/1000\n",
      "70/70 [==============================] - 0s 1ms/step - loss: 0.7501 - accuracy: 0.7070 - val_loss: 1.6353 - val_accuracy: 0.4533\n",
      "Epoch 443/1000\n",
      "70/70 [==============================] - 0s 1ms/step - loss: 0.7819 - accuracy: 0.7049 - val_loss: 1.6475 - val_accuracy: 0.4600\n",
      "Epoch 444/1000\n",
      "70/70 [==============================] - 0s 1ms/step - loss: 0.7500 - accuracy: 0.7225 - val_loss: 1.6615 - val_accuracy: 0.4467\n",
      "Epoch 445/1000\n",
      "70/70 [==============================] - 0s 1ms/step - loss: 0.7574 - accuracy: 0.7119 - val_loss: 1.6543 - val_accuracy: 0.4600\n",
      "Epoch 446/1000\n",
      "70/70 [==============================] - 0s 1ms/step - loss: 0.7360 - accuracy: 0.7307 - val_loss: 1.6484 - val_accuracy: 0.4433\n",
      "Epoch 447/1000\n",
      "70/70 [==============================] - 0s 1ms/step - loss: 0.6695 - accuracy: 0.7537 - val_loss: 1.6588 - val_accuracy: 0.4533\n",
      "Epoch 448/1000\n",
      "70/70 [==============================] - 0s 1ms/step - loss: 0.8005 - accuracy: 0.7068 - val_loss: 1.6582 - val_accuracy: 0.4567\n",
      "Epoch 449/1000\n",
      "70/70 [==============================] - 0s 1ms/step - loss: 0.7524 - accuracy: 0.7431 - val_loss: 1.6616 - val_accuracy: 0.4567\n",
      "Epoch 450/1000\n",
      "70/70 [==============================] - 0s 1ms/step - loss: 0.7427 - accuracy: 0.6948 - val_loss: 1.6513 - val_accuracy: 0.4533\n",
      "Epoch 451/1000\n",
      "70/70 [==============================] - 0s 1ms/step - loss: 0.7588 - accuracy: 0.7140 - val_loss: 1.6569 - val_accuracy: 0.4567\n",
      "Epoch 452/1000\n",
      "70/70 [==============================] - 0s 1ms/step - loss: 0.7538 - accuracy: 0.7355 - val_loss: 1.6670 - val_accuracy: 0.4567\n",
      "Epoch 453/1000\n",
      "70/70 [==============================] - 0s 1ms/step - loss: 0.7611 - accuracy: 0.7041 - val_loss: 1.6652 - val_accuracy: 0.4567\n",
      "Epoch 454/1000\n",
      "70/70 [==============================] - 0s 1ms/step - loss: 0.7397 - accuracy: 0.7319 - val_loss: 1.6681 - val_accuracy: 0.4600\n",
      "Epoch 455/1000\n",
      "70/70 [==============================] - 0s 1ms/step - loss: 0.7210 - accuracy: 0.7327 - val_loss: 1.6725 - val_accuracy: 0.4567\n",
      "Epoch 456/1000\n"
     ]
    },
    {
     "name": "stdout",
     "output_type": "stream",
     "text": [
      "70/70 [==============================] - 0s 1ms/step - loss: 0.7277 - accuracy: 0.7243 - val_loss: 1.6584 - val_accuracy: 0.4433\n",
      "Epoch 457/1000\n",
      "70/70 [==============================] - 0s 1ms/step - loss: 0.8247 - accuracy: 0.6917 - val_loss: 1.6682 - val_accuracy: 0.4400\n",
      "Epoch 458/1000\n",
      "70/70 [==============================] - 0s 1ms/step - loss: 0.7972 - accuracy: 0.7002 - val_loss: 1.6710 - val_accuracy: 0.4500\n",
      "Epoch 459/1000\n",
      "70/70 [==============================] - 0s 1ms/step - loss: 0.7388 - accuracy: 0.7356 - val_loss: 1.6736 - val_accuracy: 0.4567\n",
      "Epoch 460/1000\n",
      "70/70 [==============================] - 0s 1ms/step - loss: 0.7433 - accuracy: 0.7079 - val_loss: 1.6699 - val_accuracy: 0.4633\n",
      "Epoch 461/1000\n",
      "70/70 [==============================] - 0s 1ms/step - loss: 0.6693 - accuracy: 0.7595 - val_loss: 1.6808 - val_accuracy: 0.4533\n",
      "Epoch 462/1000\n",
      "70/70 [==============================] - 0s 1ms/step - loss: 0.7675 - accuracy: 0.6826 - val_loss: 1.6732 - val_accuracy: 0.4433\n",
      "Epoch 463/1000\n",
      "70/70 [==============================] - 0s 1ms/step - loss: 0.8019 - accuracy: 0.7136 - val_loss: 1.6822 - val_accuracy: 0.4600\n",
      "Epoch 464/1000\n",
      "70/70 [==============================] - 0s 1ms/step - loss: 0.7401 - accuracy: 0.7145 - val_loss: 1.7047 - val_accuracy: 0.4467\n",
      "Epoch 465/1000\n",
      "70/70 [==============================] - 0s 1ms/step - loss: 0.6852 - accuracy: 0.7616 - val_loss: 1.6776 - val_accuracy: 0.4567\n",
      "Epoch 466/1000\n",
      "70/70 [==============================] - 0s 1ms/step - loss: 0.7654 - accuracy: 0.7105 - val_loss: 1.6816 - val_accuracy: 0.4567\n",
      "Epoch 467/1000\n",
      "70/70 [==============================] - 0s 1ms/step - loss: 0.7504 - accuracy: 0.7246 - val_loss: 1.6891 - val_accuracy: 0.4567\n",
      "Epoch 468/1000\n",
      "70/70 [==============================] - 0s 1ms/step - loss: 0.7063 - accuracy: 0.7304 - val_loss: 1.6719 - val_accuracy: 0.4533\n",
      "Epoch 469/1000\n",
      "70/70 [==============================] - 0s 1ms/step - loss: 0.6930 - accuracy: 0.7485 - val_loss: 1.6916 - val_accuracy: 0.4533\n",
      "Epoch 470/1000\n",
      "70/70 [==============================] - 0s 1ms/step - loss: 0.7597 - accuracy: 0.6982 - val_loss: 1.7025 - val_accuracy: 0.4567\n",
      "Epoch 471/1000\n",
      "70/70 [==============================] - 0s 1ms/step - loss: 0.7682 - accuracy: 0.7130 - val_loss: 1.6770 - val_accuracy: 0.4567\n",
      "Epoch 472/1000\n",
      "70/70 [==============================] - 0s 1ms/step - loss: 0.7143 - accuracy: 0.7247 - val_loss: 1.6869 - val_accuracy: 0.4600\n",
      "Epoch 473/1000\n",
      "70/70 [==============================] - 0s 1ms/step - loss: 0.7860 - accuracy: 0.7079 - val_loss: 1.6852 - val_accuracy: 0.4567\n",
      "Epoch 474/1000\n",
      "70/70 [==============================] - 0s 1ms/step - loss: 0.7032 - accuracy: 0.7157 - val_loss: 1.7009 - val_accuracy: 0.4633\n",
      "Epoch 475/1000\n",
      "70/70 [==============================] - 0s 1ms/step - loss: 0.7387 - accuracy: 0.7140 - val_loss: 1.6887 - val_accuracy: 0.4600\n",
      "Epoch 476/1000\n",
      "70/70 [==============================] - 0s 1ms/step - loss: 0.7363 - accuracy: 0.7384 - val_loss: 1.6921 - val_accuracy: 0.4600\n",
      "Epoch 477/1000\n",
      "70/70 [==============================] - 0s 1ms/step - loss: 0.7826 - accuracy: 0.6946 - val_loss: 1.6964 - val_accuracy: 0.4533\n",
      "Epoch 478/1000\n",
      "70/70 [==============================] - 0s 1ms/step - loss: 0.6993 - accuracy: 0.7402 - val_loss: 1.6932 - val_accuracy: 0.4500\n",
      "Epoch 479/1000\n",
      "70/70 [==============================] - 0s 1ms/step - loss: 0.7283 - accuracy: 0.7295 - val_loss: 1.6925 - val_accuracy: 0.4600\n",
      "Epoch 480/1000\n",
      "70/70 [==============================] - 0s 1ms/step - loss: 0.7175 - accuracy: 0.7404 - val_loss: 1.6747 - val_accuracy: 0.4600\n",
      "Epoch 481/1000\n",
      "70/70 [==============================] - 0s 1ms/step - loss: 0.6940 - accuracy: 0.7240 - val_loss: 1.6882 - val_accuracy: 0.4533\n",
      "Epoch 482/1000\n",
      "70/70 [==============================] - 0s 1ms/step - loss: 0.6905 - accuracy: 0.7373 - val_loss: 1.6978 - val_accuracy: 0.4567\n",
      "Epoch 483/1000\n",
      "70/70 [==============================] - 0s 1ms/step - loss: 0.7080 - accuracy: 0.7431 - val_loss: 1.6967 - val_accuracy: 0.4533\n",
      "Epoch 484/1000\n",
      "70/70 [==============================] - 0s 1ms/step - loss: 0.7204 - accuracy: 0.7354 - val_loss: 1.6994 - val_accuracy: 0.4600\n",
      "Epoch 485/1000\n",
      "70/70 [==============================] - 0s 1ms/step - loss: 0.7177 - accuracy: 0.7290 - val_loss: 1.6886 - val_accuracy: 0.4467\n",
      "Epoch 486/1000\n",
      "70/70 [==============================] - 0s 1ms/step - loss: 0.7097 - accuracy: 0.7436 - val_loss: 1.6990 - val_accuracy: 0.4600\n",
      "Epoch 487/1000\n",
      "70/70 [==============================] - 0s 1ms/step - loss: 0.7428 - accuracy: 0.7291 - val_loss: 1.7144 - val_accuracy: 0.4633\n",
      "Epoch 488/1000\n",
      "70/70 [==============================] - 0s 1ms/step - loss: 0.7369 - accuracy: 0.7296 - val_loss: 1.7086 - val_accuracy: 0.4633\n",
      "Epoch 489/1000\n",
      "70/70 [==============================] - 0s 1ms/step - loss: 0.6982 - accuracy: 0.7276 - val_loss: 1.7091 - val_accuracy: 0.4500\n",
      "Epoch 490/1000\n",
      "70/70 [==============================] - 0s 1ms/step - loss: 0.7352 - accuracy: 0.7181 - val_loss: 1.7001 - val_accuracy: 0.4533\n",
      "Epoch 491/1000\n",
      "70/70 [==============================] - 0s 1ms/step - loss: 0.7771 - accuracy: 0.6972 - val_loss: 1.7166 - val_accuracy: 0.4567\n",
      "Epoch 492/1000\n",
      "70/70 [==============================] - 0s 1ms/step - loss: 0.6998 - accuracy: 0.7215 - val_loss: 1.7172 - val_accuracy: 0.4633\n",
      "Epoch 493/1000\n",
      "70/70 [==============================] - 0s 1ms/step - loss: 0.7319 - accuracy: 0.7263 - val_loss: 1.7020 - val_accuracy: 0.4600\n",
      "Epoch 494/1000\n",
      "70/70 [==============================] - 0s 1ms/step - loss: 0.7036 - accuracy: 0.7310 - val_loss: 1.7035 - val_accuracy: 0.4567\n",
      "Epoch 495/1000\n",
      "70/70 [==============================] - 0s 1ms/step - loss: 0.7144 - accuracy: 0.7229 - val_loss: 1.7109 - val_accuracy: 0.4633\n",
      "Epoch 496/1000\n",
      "70/70 [==============================] - 0s 1ms/step - loss: 0.7401 - accuracy: 0.7263 - val_loss: 1.7240 - val_accuracy: 0.4633\n",
      "Epoch 497/1000\n",
      "70/70 [==============================] - 0s 1ms/step - loss: 0.7261 - accuracy: 0.7229 - val_loss: 1.7226 - val_accuracy: 0.4533\n",
      "Epoch 498/1000\n",
      "70/70 [==============================] - 0s 1ms/step - loss: 0.6788 - accuracy: 0.7395 - val_loss: 1.7113 - val_accuracy: 0.4567\n",
      "Epoch 499/1000\n",
      "70/70 [==============================] - 0s 1ms/step - loss: 0.6964 - accuracy: 0.7647 - val_loss: 1.7252 - val_accuracy: 0.4533\n",
      "Epoch 500/1000\n",
      "70/70 [==============================] - 0s 1ms/step - loss: 0.6886 - accuracy: 0.7652 - val_loss: 1.7231 - val_accuracy: 0.4500\n",
      "Epoch 501/1000\n",
      "70/70 [==============================] - 0s 1ms/step - loss: 0.6950 - accuracy: 0.7498 - val_loss: 1.7253 - val_accuracy: 0.4433\n",
      "Epoch 502/1000\n",
      "70/70 [==============================] - 0s 1ms/step - loss: 0.7162 - accuracy: 0.7423 - val_loss: 1.7289 - val_accuracy: 0.4567\n",
      "Epoch 503/1000\n",
      "70/70 [==============================] - 0s 1ms/step - loss: 0.7186 - accuracy: 0.7376 - val_loss: 1.7332 - val_accuracy: 0.4600\n",
      "Epoch 504/1000\n",
      "70/70 [==============================] - 0s 1ms/step - loss: 0.6987 - accuracy: 0.7229 - val_loss: 1.7385 - val_accuracy: 0.4500\n",
      "Epoch 505/1000\n",
      "70/70 [==============================] - 0s 1ms/step - loss: 0.7778 - accuracy: 0.7063 - val_loss: 1.7258 - val_accuracy: 0.4567\n",
      "Epoch 506/1000\n",
      "70/70 [==============================] - 0s 1ms/step - loss: 0.7620 - accuracy: 0.7057 - val_loss: 1.7326 - val_accuracy: 0.4533\n",
      "Epoch 507/1000\n",
      "70/70 [==============================] - 0s 1ms/step - loss: 0.7267 - accuracy: 0.7280 - val_loss: 1.7252 - val_accuracy: 0.4467\n",
      "Epoch 508/1000\n",
      "70/70 [==============================] - 0s 1ms/step - loss: 0.7673 - accuracy: 0.6841 - val_loss: 1.7361 - val_accuracy: 0.4600\n",
      "Epoch 509/1000\n",
      "70/70 [==============================] - 0s 1ms/step - loss: 0.7315 - accuracy: 0.7237 - val_loss: 1.7331 - val_accuracy: 0.4567\n",
      "Epoch 510/1000\n",
      "70/70 [==============================] - 0s 1ms/step - loss: 0.7566 - accuracy: 0.7408 - val_loss: 1.7253 - val_accuracy: 0.4433\n",
      "Epoch 511/1000\n",
      "70/70 [==============================] - 0s 1ms/step - loss: 0.7217 - accuracy: 0.7191 - val_loss: 1.7388 - val_accuracy: 0.4600\n",
      "Epoch 512/1000\n",
      "70/70 [==============================] - 0s 1ms/step - loss: 0.6961 - accuracy: 0.7413 - val_loss: 1.7521 - val_accuracy: 0.4500\n"
     ]
    },
    {
     "name": "stdout",
     "output_type": "stream",
     "text": [
      "Epoch 513/1000\n",
      "70/70 [==============================] - 0s 1ms/step - loss: 0.7316 - accuracy: 0.7185 - val_loss: 1.7282 - val_accuracy: 0.4500\n",
      "Epoch 514/1000\n",
      "70/70 [==============================] - 0s 1ms/step - loss: 0.7211 - accuracy: 0.7282 - val_loss: 1.7503 - val_accuracy: 0.4600\n",
      "Epoch 515/1000\n",
      "70/70 [==============================] - 0s 1ms/step - loss: 0.7077 - accuracy: 0.7189 - val_loss: 1.7345 - val_accuracy: 0.4500\n",
      "Epoch 516/1000\n",
      "70/70 [==============================] - 0s 1ms/step - loss: 0.7441 - accuracy: 0.7203 - val_loss: 1.7326 - val_accuracy: 0.4533\n",
      "Epoch 517/1000\n",
      "70/70 [==============================] - 0s 1ms/step - loss: 0.7552 - accuracy: 0.7277 - val_loss: 1.7472 - val_accuracy: 0.4633\n",
      "Epoch 518/1000\n",
      "70/70 [==============================] - 0s 1ms/step - loss: 0.6825 - accuracy: 0.7309 - val_loss: 1.7263 - val_accuracy: 0.4533\n",
      "Epoch 519/1000\n",
      "70/70 [==============================] - 0s 1ms/step - loss: 0.7666 - accuracy: 0.7159 - val_loss: 1.7568 - val_accuracy: 0.4600\n",
      "Epoch 520/1000\n",
      "70/70 [==============================] - 0s 1ms/step - loss: 0.7064 - accuracy: 0.7419 - val_loss: 1.7452 - val_accuracy: 0.4633\n",
      "Epoch 521/1000\n",
      "70/70 [==============================] - 0s 1ms/step - loss: 0.7079 - accuracy: 0.7529 - val_loss: 1.7382 - val_accuracy: 0.4500\n",
      "Epoch 522/1000\n",
      "70/70 [==============================] - 0s 1ms/step - loss: 0.7163 - accuracy: 0.7291 - val_loss: 1.7440 - val_accuracy: 0.4400\n",
      "Epoch 523/1000\n",
      "70/70 [==============================] - 0s 1ms/step - loss: 0.7405 - accuracy: 0.7423 - val_loss: 1.7656 - val_accuracy: 0.4700\n",
      "Epoch 524/1000\n",
      "70/70 [==============================] - 0s 1ms/step - loss: 0.7375 - accuracy: 0.7369 - val_loss: 1.7422 - val_accuracy: 0.4600\n",
      "Epoch 525/1000\n",
      "70/70 [==============================] - 0s 1ms/step - loss: 0.7548 - accuracy: 0.6972 - val_loss: 1.7528 - val_accuracy: 0.4600\n",
      "Epoch 526/1000\n",
      "70/70 [==============================] - 0s 1ms/step - loss: 0.7178 - accuracy: 0.7444 - val_loss: 1.7607 - val_accuracy: 0.4567\n",
      "Epoch 527/1000\n",
      "70/70 [==============================] - 0s 1ms/step - loss: 0.7193 - accuracy: 0.7407 - val_loss: 1.7554 - val_accuracy: 0.4633\n",
      "Epoch 528/1000\n",
      "70/70 [==============================] - 0s 1ms/step - loss: 0.7009 - accuracy: 0.7147 - val_loss: 1.7515 - val_accuracy: 0.4467\n",
      "Epoch 529/1000\n",
      "70/70 [==============================] - 0s 1ms/step - loss: 0.7593 - accuracy: 0.7083 - val_loss: 1.7676 - val_accuracy: 0.4567\n",
      "Epoch 530/1000\n",
      "70/70 [==============================] - 0s 1ms/step - loss: 0.7571 - accuracy: 0.7081 - val_loss: 1.7563 - val_accuracy: 0.4700\n",
      "Epoch 531/1000\n",
      "70/70 [==============================] - 0s 1ms/step - loss: 0.6572 - accuracy: 0.7681 - val_loss: 1.7431 - val_accuracy: 0.4400\n",
      "Epoch 532/1000\n",
      "70/70 [==============================] - 0s 1ms/step - loss: 0.6897 - accuracy: 0.7276 - val_loss: 1.7639 - val_accuracy: 0.4600\n",
      "Epoch 533/1000\n",
      "70/70 [==============================] - 0s 1ms/step - loss: 0.7191 - accuracy: 0.7334 - val_loss: 1.7635 - val_accuracy: 0.4633\n",
      "Epoch 534/1000\n",
      "70/70 [==============================] - 0s 1ms/step - loss: 0.7694 - accuracy: 0.7197 - val_loss: 1.7649 - val_accuracy: 0.4467\n",
      "Epoch 535/1000\n",
      "70/70 [==============================] - 0s 1ms/step - loss: 0.6917 - accuracy: 0.7225 - val_loss: 1.7632 - val_accuracy: 0.4600\n",
      "Epoch 536/1000\n",
      "70/70 [==============================] - 0s 1ms/step - loss: 0.7281 - accuracy: 0.7335 - val_loss: 1.7675 - val_accuracy: 0.4400\n",
      "Epoch 537/1000\n",
      "70/70 [==============================] - 0s 1ms/step - loss: 0.6965 - accuracy: 0.7572 - val_loss: 1.7521 - val_accuracy: 0.4433\n",
      "Epoch 538/1000\n",
      "70/70 [==============================] - 0s 1ms/step - loss: 0.7341 - accuracy: 0.7120 - val_loss: 1.7640 - val_accuracy: 0.4600\n",
      "Epoch 539/1000\n",
      "70/70 [==============================] - 0s 1ms/step - loss: 0.7134 - accuracy: 0.7223 - val_loss: 1.7576 - val_accuracy: 0.4500\n",
      "Epoch 540/1000\n",
      "70/70 [==============================] - 0s 1ms/step - loss: 0.6926 - accuracy: 0.7454 - val_loss: 1.7698 - val_accuracy: 0.4600\n",
      "Epoch 541/1000\n",
      "70/70 [==============================] - 0s 1ms/step - loss: 0.7318 - accuracy: 0.7352 - val_loss: 1.7860 - val_accuracy: 0.4433\n",
      "Epoch 542/1000\n",
      "70/70 [==============================] - 0s 1ms/step - loss: 0.6794 - accuracy: 0.7427 - val_loss: 1.7729 - val_accuracy: 0.4467\n",
      "Epoch 543/1000\n",
      "70/70 [==============================] - 0s 1ms/step - loss: 0.7288 - accuracy: 0.7208 - val_loss: 1.7747 - val_accuracy: 0.4533\n",
      "Epoch 544/1000\n",
      "70/70 [==============================] - 0s 1ms/step - loss: 0.7424 - accuracy: 0.7407 - val_loss: 1.7761 - val_accuracy: 0.4633\n",
      "Epoch 545/1000\n",
      "70/70 [==============================] - 0s 1ms/step - loss: 0.6363 - accuracy: 0.7927 - val_loss: 1.7837 - val_accuracy: 0.4500\n",
      "Epoch 546/1000\n",
      "70/70 [==============================] - 0s 1ms/step - loss: 0.7504 - accuracy: 0.7347 - val_loss: 1.8027 - val_accuracy: 0.4567\n",
      "Epoch 547/1000\n",
      "70/70 [==============================] - 0s 1ms/step - loss: 0.7315 - accuracy: 0.7124 - val_loss: 1.7958 - val_accuracy: 0.4567\n",
      "Epoch 548/1000\n",
      "70/70 [==============================] - 0s 1ms/step - loss: 0.7099 - accuracy: 0.7493 - val_loss: 1.7834 - val_accuracy: 0.4600\n",
      "Epoch 549/1000\n",
      "70/70 [==============================] - 0s 1ms/step - loss: 0.7000 - accuracy: 0.7416 - val_loss: 1.7872 - val_accuracy: 0.4600\n",
      "Epoch 550/1000\n",
      "70/70 [==============================] - 0s 1ms/step - loss: 0.6585 - accuracy: 0.7513 - val_loss: 1.7662 - val_accuracy: 0.4467\n",
      "Epoch 551/1000\n",
      "70/70 [==============================] - 0s 1ms/step - loss: 0.7345 - accuracy: 0.6926 - val_loss: 1.7866 - val_accuracy: 0.4467\n",
      "Epoch 552/1000\n",
      "70/70 [==============================] - 0s 1ms/step - loss: 0.6898 - accuracy: 0.7470 - val_loss: 1.7807 - val_accuracy: 0.4467\n",
      "Epoch 553/1000\n",
      "70/70 [==============================] - 0s 1ms/step - loss: 0.7252 - accuracy: 0.7557 - val_loss: 1.7738 - val_accuracy: 0.4433\n",
      "Epoch 554/1000\n",
      "70/70 [==============================] - 0s 1ms/step - loss: 0.7039 - accuracy: 0.7392 - val_loss: 1.7791 - val_accuracy: 0.4467\n",
      "Epoch 555/1000\n",
      "70/70 [==============================] - 0s 1ms/step - loss: 0.7170 - accuracy: 0.7298 - val_loss: 1.7758 - val_accuracy: 0.4467\n",
      "Epoch 556/1000\n",
      "70/70 [==============================] - 0s 1ms/step - loss: 0.6839 - accuracy: 0.7478 - val_loss: 1.7931 - val_accuracy: 0.4500\n",
      "Epoch 557/1000\n",
      "70/70 [==============================] - 0s 1ms/step - loss: 0.7274 - accuracy: 0.7166 - val_loss: 1.7930 - val_accuracy: 0.4467\n",
      "Epoch 558/1000\n",
      "70/70 [==============================] - 0s 1ms/step - loss: 0.7108 - accuracy: 0.7310 - val_loss: 1.7851 - val_accuracy: 0.4600\n",
      "Epoch 559/1000\n",
      "70/70 [==============================] - 0s 1ms/step - loss: 0.7468 - accuracy: 0.7282 - val_loss: 1.7980 - val_accuracy: 0.4500\n",
      "Epoch 560/1000\n",
      "70/70 [==============================] - 0s 1ms/step - loss: 0.7321 - accuracy: 0.7371 - val_loss: 1.7965 - val_accuracy: 0.4600\n",
      "Epoch 561/1000\n",
      "70/70 [==============================] - 0s 1ms/step - loss: 0.6454 - accuracy: 0.7609 - val_loss: 1.7854 - val_accuracy: 0.4467\n",
      "Epoch 562/1000\n",
      "70/70 [==============================] - 0s 1ms/step - loss: 0.7365 - accuracy: 0.7247 - val_loss: 1.8110 - val_accuracy: 0.4433\n",
      "Epoch 563/1000\n",
      "70/70 [==============================] - 0s 1ms/step - loss: 0.6753 - accuracy: 0.7451 - val_loss: 1.7996 - val_accuracy: 0.4500\n",
      "Epoch 564/1000\n",
      "70/70 [==============================] - 0s 1ms/step - loss: 0.7393 - accuracy: 0.7530 - val_loss: 1.7858 - val_accuracy: 0.4433\n",
      "Epoch 565/1000\n",
      "70/70 [==============================] - 0s 1ms/step - loss: 0.6994 - accuracy: 0.7453 - val_loss: 1.7799 - val_accuracy: 0.4500\n",
      "Epoch 566/1000\n",
      "70/70 [==============================] - 0s 1ms/step - loss: 0.6967 - accuracy: 0.7497 - val_loss: 1.8029 - val_accuracy: 0.4667\n",
      "Epoch 567/1000\n",
      "70/70 [==============================] - 0s 1ms/step - loss: 0.6581 - accuracy: 0.7302 - val_loss: 1.8041 - val_accuracy: 0.4733\n",
      "Epoch 568/1000\n",
      "70/70 [==============================] - 0s 1ms/step - loss: 0.7219 - accuracy: 0.7308 - val_loss: 1.8148 - val_accuracy: 0.4467\n",
      "Epoch 569/1000\n",
      "70/70 [==============================] - 0s 1ms/step - loss: 0.7323 - accuracy: 0.7189 - val_loss: 1.8195 - val_accuracy: 0.4500\n"
     ]
    },
    {
     "name": "stdout",
     "output_type": "stream",
     "text": [
      "Epoch 570/1000\n",
      "70/70 [==============================] - 0s 1ms/step - loss: 0.7434 - accuracy: 0.7161 - val_loss: 1.8101 - val_accuracy: 0.4467\n",
      "Epoch 571/1000\n",
      "70/70 [==============================] - 0s 1ms/step - loss: 0.6921 - accuracy: 0.7348 - val_loss: 1.7992 - val_accuracy: 0.4467\n",
      "Epoch 572/1000\n",
      "70/70 [==============================] - 0s 1ms/step - loss: 0.6793 - accuracy: 0.7640 - val_loss: 1.7999 - val_accuracy: 0.4467\n",
      "Epoch 573/1000\n",
      "70/70 [==============================] - 0s 1ms/step - loss: 0.6781 - accuracy: 0.7519 - val_loss: 1.7914 - val_accuracy: 0.4567\n",
      "Epoch 574/1000\n",
      "70/70 [==============================] - 0s 1ms/step - loss: 0.7476 - accuracy: 0.7120 - val_loss: 1.8216 - val_accuracy: 0.4633\n",
      "Epoch 575/1000\n",
      "70/70 [==============================] - 0s 1ms/step - loss: 0.6647 - accuracy: 0.7492 - val_loss: 1.8001 - val_accuracy: 0.4500\n",
      "Epoch 576/1000\n",
      "70/70 [==============================] - 0s 1ms/step - loss: 0.6306 - accuracy: 0.7764 - val_loss: 1.8115 - val_accuracy: 0.4467\n",
      "Epoch 577/1000\n",
      "70/70 [==============================] - 0s 1ms/step - loss: 0.6829 - accuracy: 0.7411 - val_loss: 1.8116 - val_accuracy: 0.4467\n",
      "Epoch 578/1000\n",
      "70/70 [==============================] - 0s 1ms/step - loss: 0.7187 - accuracy: 0.7340 - val_loss: 1.8218 - val_accuracy: 0.4467\n",
      "Epoch 579/1000\n",
      "70/70 [==============================] - 0s 1ms/step - loss: 0.6873 - accuracy: 0.7355 - val_loss: 1.8491 - val_accuracy: 0.4600\n",
      "Epoch 580/1000\n",
      "70/70 [==============================] - 0s 1ms/step - loss: 0.6547 - accuracy: 0.7676 - val_loss: 1.8296 - val_accuracy: 0.4333\n",
      "Epoch 581/1000\n",
      "70/70 [==============================] - 0s 1ms/step - loss: 0.6594 - accuracy: 0.7492 - val_loss: 1.8255 - val_accuracy: 0.4367\n",
      "Epoch 582/1000\n",
      "70/70 [==============================] - 0s 1ms/step - loss: 0.6896 - accuracy: 0.7403 - val_loss: 1.8284 - val_accuracy: 0.4467\n",
      "Epoch 583/1000\n",
      "70/70 [==============================] - 0s 1ms/step - loss: 0.6576 - accuracy: 0.7667 - val_loss: 1.8143 - val_accuracy: 0.4467\n",
      "Epoch 584/1000\n",
      "70/70 [==============================] - 0s 1ms/step - loss: 0.7244 - accuracy: 0.7509 - val_loss: 1.8394 - val_accuracy: 0.4567\n",
      "Epoch 585/1000\n",
      "70/70 [==============================] - 0s 1ms/step - loss: 0.7401 - accuracy: 0.7450 - val_loss: 1.8478 - val_accuracy: 0.4633\n",
      "Epoch 586/1000\n",
      "70/70 [==============================] - 0s 1ms/step - loss: 0.7094 - accuracy: 0.7326 - val_loss: 1.8298 - val_accuracy: 0.4433\n",
      "Epoch 587/1000\n",
      "70/70 [==============================] - 0s 1ms/step - loss: 0.7027 - accuracy: 0.7322 - val_loss: 1.8340 - val_accuracy: 0.4467\n",
      "Epoch 588/1000\n",
      "70/70 [==============================] - 0s 1ms/step - loss: 0.6818 - accuracy: 0.7448 - val_loss: 1.8468 - val_accuracy: 0.4467\n",
      "Epoch 589/1000\n",
      "70/70 [==============================] - 0s 1ms/step - loss: 0.7260 - accuracy: 0.7245 - val_loss: 1.8449 - val_accuracy: 0.4467\n",
      "Epoch 590/1000\n",
      "70/70 [==============================] - 0s 1ms/step - loss: 0.7116 - accuracy: 0.7338 - val_loss: 1.8396 - val_accuracy: 0.4533\n",
      "Epoch 591/1000\n",
      "70/70 [==============================] - 0s 1ms/step - loss: 0.7194 - accuracy: 0.7275 - val_loss: 1.8384 - val_accuracy: 0.4400\n",
      "Epoch 592/1000\n",
      "70/70 [==============================] - 0s 1ms/step - loss: 0.6517 - accuracy: 0.7656 - val_loss: 1.8273 - val_accuracy: 0.4500\n",
      "Epoch 593/1000\n",
      "70/70 [==============================] - 0s 1ms/step - loss: 0.7097 - accuracy: 0.7605 - val_loss: 1.8358 - val_accuracy: 0.4500\n",
      "Epoch 594/1000\n",
      "70/70 [==============================] - 0s 1ms/step - loss: 0.6559 - accuracy: 0.7637 - val_loss: 1.8288 - val_accuracy: 0.4467\n",
      "Epoch 595/1000\n",
      "70/70 [==============================] - 0s 1ms/step - loss: 0.6941 - accuracy: 0.7535 - val_loss: 1.8405 - val_accuracy: 0.4433\n",
      "Epoch 596/1000\n",
      "70/70 [==============================] - 0s 1ms/step - loss: 0.7052 - accuracy: 0.7419 - val_loss: 1.8402 - val_accuracy: 0.4467\n",
      "Epoch 597/1000\n",
      "70/70 [==============================] - 0s 1ms/step - loss: 0.6853 - accuracy: 0.7611 - val_loss: 1.8269 - val_accuracy: 0.4467\n",
      "Epoch 598/1000\n",
      "70/70 [==============================] - 0s 1ms/step - loss: 0.7016 - accuracy: 0.7458 - val_loss: 1.8276 - val_accuracy: 0.4433\n",
      "Epoch 599/1000\n",
      "70/70 [==============================] - 0s 1ms/step - loss: 0.6883 - accuracy: 0.7427 - val_loss: 1.8542 - val_accuracy: 0.4500\n",
      "Epoch 600/1000\n",
      "70/70 [==============================] - 0s 1ms/step - loss: 0.6858 - accuracy: 0.7496 - val_loss: 1.8436 - val_accuracy: 0.4400\n",
      "Epoch 601/1000\n",
      "70/70 [==============================] - 0s 1ms/step - loss: 0.6726 - accuracy: 0.7407 - val_loss: 1.8480 - val_accuracy: 0.4433\n",
      "Epoch 602/1000\n",
      "70/70 [==============================] - 0s 1ms/step - loss: 0.6729 - accuracy: 0.7534 - val_loss: 1.8421 - val_accuracy: 0.4467\n",
      "Epoch 603/1000\n",
      "70/70 [==============================] - 0s 2ms/step - loss: 0.6469 - accuracy: 0.7622 - val_loss: 1.8347 - val_accuracy: 0.4467\n",
      "Epoch 604/1000\n",
      "70/70 [==============================] - 0s 1ms/step - loss: 0.7032 - accuracy: 0.7475 - val_loss: 1.8497 - val_accuracy: 0.4400\n",
      "Epoch 605/1000\n",
      "70/70 [==============================] - 0s 1ms/step - loss: 0.6936 - accuracy: 0.7774 - val_loss: 1.8619 - val_accuracy: 0.4500\n",
      "Epoch 606/1000\n",
      "70/70 [==============================] - 0s 1ms/step - loss: 0.6891 - accuracy: 0.7493 - val_loss: 1.8453 - val_accuracy: 0.4433\n",
      "Epoch 607/1000\n",
      "70/70 [==============================] - 0s 1ms/step - loss: 0.7074 - accuracy: 0.7416 - val_loss: 1.8620 - val_accuracy: 0.4433\n",
      "Epoch 608/1000\n",
      "70/70 [==============================] - 0s 1ms/step - loss: 0.6713 - accuracy: 0.7594 - val_loss: 1.8425 - val_accuracy: 0.4467\n",
      "Epoch 609/1000\n",
      "70/70 [==============================] - 0s 1ms/step - loss: 0.6891 - accuracy: 0.7352 - val_loss: 1.8595 - val_accuracy: 0.4467\n",
      "Epoch 610/1000\n",
      "70/70 [==============================] - 0s 1ms/step - loss: 0.6875 - accuracy: 0.7346 - val_loss: 1.8541 - val_accuracy: 0.4567\n",
      "Epoch 611/1000\n",
      "70/70 [==============================] - 0s 1ms/step - loss: 0.6425 - accuracy: 0.7669 - val_loss: 1.8598 - val_accuracy: 0.4433\n",
      "Epoch 612/1000\n",
      "70/70 [==============================] - 0s 1ms/step - loss: 0.6670 - accuracy: 0.7508 - val_loss: 1.8613 - val_accuracy: 0.4433\n",
      "Epoch 613/1000\n",
      "70/70 [==============================] - 0s 1ms/step - loss: 0.6633 - accuracy: 0.7797 - val_loss: 1.8695 - val_accuracy: 0.4433\n",
      "Epoch 614/1000\n",
      "70/70 [==============================] - 0s 1ms/step - loss: 0.6705 - accuracy: 0.7544 - val_loss: 1.8510 - val_accuracy: 0.4367\n",
      "Epoch 615/1000\n",
      "70/70 [==============================] - 0s 1ms/step - loss: 0.6722 - accuracy: 0.7715 - val_loss: 1.8583 - val_accuracy: 0.4467\n",
      "Epoch 616/1000\n",
      "70/70 [==============================] - 0s 1ms/step - loss: 0.6755 - accuracy: 0.7542 - val_loss: 1.8596 - val_accuracy: 0.4467\n",
      "Epoch 617/1000\n",
      "70/70 [==============================] - 0s 1ms/step - loss: 0.7020 - accuracy: 0.7319 - val_loss: 1.8736 - val_accuracy: 0.4467\n",
      "Epoch 618/1000\n",
      "70/70 [==============================] - 0s 1ms/step - loss: 0.6567 - accuracy: 0.7638 - val_loss: 1.8600 - val_accuracy: 0.4467\n",
      "Epoch 619/1000\n",
      "70/70 [==============================] - 0s 1ms/step - loss: 0.6636 - accuracy: 0.7568 - val_loss: 1.8534 - val_accuracy: 0.4433\n",
      "Epoch 620/1000\n",
      "70/70 [==============================] - 0s 1ms/step - loss: 0.6754 - accuracy: 0.7562 - val_loss: 1.8791 - val_accuracy: 0.4500\n",
      "Epoch 621/1000\n",
      "70/70 [==============================] - 0s 1ms/step - loss: 0.6933 - accuracy: 0.7434 - val_loss: 1.8663 - val_accuracy: 0.4400\n",
      "Epoch 622/1000\n",
      "70/70 [==============================] - 0s 1ms/step - loss: 0.6783 - accuracy: 0.7358 - val_loss: 1.8638 - val_accuracy: 0.4433\n",
      "Epoch 623/1000\n",
      "70/70 [==============================] - 0s 1ms/step - loss: 0.6583 - accuracy: 0.7411 - val_loss: 1.8697 - val_accuracy: 0.4500\n",
      "Epoch 624/1000\n",
      "70/70 [==============================] - 0s 1ms/step - loss: 0.6262 - accuracy: 0.7773 - val_loss: 1.8592 - val_accuracy: 0.4533\n",
      "Epoch 625/1000\n",
      "70/70 [==============================] - 0s 1ms/step - loss: 0.7128 - accuracy: 0.7548 - val_loss: 1.8822 - val_accuracy: 0.4467\n",
      "Epoch 626/1000\n",
      "70/70 [==============================] - 0s 1ms/step - loss: 0.6542 - accuracy: 0.7668 - val_loss: 1.8843 - val_accuracy: 0.4467\n"
     ]
    },
    {
     "name": "stdout",
     "output_type": "stream",
     "text": [
      "Epoch 627/1000\n",
      "70/70 [==============================] - 0s 1ms/step - loss: 0.6889 - accuracy: 0.7429 - val_loss: 1.8647 - val_accuracy: 0.4433\n",
      "Epoch 628/1000\n",
      "70/70 [==============================] - 0s 1ms/step - loss: 0.6628 - accuracy: 0.7450 - val_loss: 1.8783 - val_accuracy: 0.4467\n",
      "Epoch 629/1000\n",
      "70/70 [==============================] - 0s 1ms/step - loss: 0.7404 - accuracy: 0.7289 - val_loss: 1.8869 - val_accuracy: 0.4500\n",
      "Epoch 630/1000\n",
      "70/70 [==============================] - 0s 1ms/step - loss: 0.6452 - accuracy: 0.7579 - val_loss: 1.8891 - val_accuracy: 0.4600\n",
      "Epoch 631/1000\n",
      "70/70 [==============================] - 0s 1ms/step - loss: 0.7077 - accuracy: 0.7441 - val_loss: 1.9064 - val_accuracy: 0.4433\n",
      "Epoch 632/1000\n",
      "70/70 [==============================] - 0s 1ms/step - loss: 0.7224 - accuracy: 0.7122 - val_loss: 1.8914 - val_accuracy: 0.4533\n",
      "Epoch 633/1000\n",
      "70/70 [==============================] - ETA: 0s - loss: 0.6486 - accuracy: 0.70 - 0s 1ms/step - loss: 0.6922 - accuracy: 0.7570 - val_loss: 1.8868 - val_accuracy: 0.4433\n",
      "Epoch 634/1000\n",
      "70/70 [==============================] - 0s 1ms/step - loss: 0.6831 - accuracy: 0.7364 - val_loss: 1.8700 - val_accuracy: 0.4500\n",
      "Epoch 635/1000\n",
      "70/70 [==============================] - 0s 1ms/step - loss: 0.6765 - accuracy: 0.7654 - val_loss: 1.8847 - val_accuracy: 0.4433\n",
      "Epoch 636/1000\n",
      "70/70 [==============================] - 0s 1ms/step - loss: 0.6583 - accuracy: 0.7638 - val_loss: 1.8720 - val_accuracy: 0.4433\n",
      "Epoch 637/1000\n",
      "70/70 [==============================] - 0s 1ms/step - loss: 0.6712 - accuracy: 0.7633 - val_loss: 1.8874 - val_accuracy: 0.4500\n",
      "Epoch 638/1000\n",
      "70/70 [==============================] - 0s 1ms/step - loss: 0.6483 - accuracy: 0.7620 - val_loss: 1.8653 - val_accuracy: 0.4433\n",
      "Epoch 639/1000\n",
      "70/70 [==============================] - 0s 1ms/step - loss: 0.6393 - accuracy: 0.7954 - val_loss: 1.8710 - val_accuracy: 0.4500\n",
      "Epoch 640/1000\n",
      "70/70 [==============================] - 0s 1ms/step - loss: 0.6762 - accuracy: 0.7545 - val_loss: 1.8754 - val_accuracy: 0.4433\n",
      "Epoch 641/1000\n",
      "70/70 [==============================] - 0s 1ms/step - loss: 0.6410 - accuracy: 0.7642 - val_loss: 1.8779 - val_accuracy: 0.4533\n",
      "Epoch 642/1000\n",
      "70/70 [==============================] - 0s 1ms/step - loss: 0.7088 - accuracy: 0.7371 - val_loss: 1.8695 - val_accuracy: 0.4467\n",
      "Epoch 643/1000\n",
      "70/70 [==============================] - 0s 1ms/step - loss: 0.7484 - accuracy: 0.7172 - val_loss: 1.8898 - val_accuracy: 0.4467\n",
      "Epoch 644/1000\n",
      "70/70 [==============================] - 0s 1ms/step - loss: 0.6730 - accuracy: 0.7685 - val_loss: 1.9077 - val_accuracy: 0.4533\n",
      "Epoch 645/1000\n",
      "70/70 [==============================] - 0s 1ms/step - loss: 0.6966 - accuracy: 0.7639 - val_loss: 1.8836 - val_accuracy: 0.4533\n",
      "Epoch 646/1000\n",
      "70/70 [==============================] - 0s 1ms/step - loss: 0.6520 - accuracy: 0.7526 - val_loss: 1.8880 - val_accuracy: 0.4533\n",
      "Epoch 647/1000\n",
      "70/70 [==============================] - 0s 1ms/step - loss: 0.6681 - accuracy: 0.7713 - val_loss: 1.8765 - val_accuracy: 0.4467\n",
      "Epoch 648/1000\n",
      "70/70 [==============================] - 0s 1ms/step - loss: 0.6851 - accuracy: 0.7374 - val_loss: 1.8915 - val_accuracy: 0.4500\n",
      "Epoch 649/1000\n",
      "70/70 [==============================] - 0s 1ms/step - loss: 0.6409 - accuracy: 0.7599 - val_loss: 1.8912 - val_accuracy: 0.4533\n",
      "Epoch 650/1000\n",
      "70/70 [==============================] - 0s 1ms/step - loss: 0.6440 - accuracy: 0.7508 - val_loss: 1.8960 - val_accuracy: 0.4467\n",
      "Epoch 651/1000\n",
      "70/70 [==============================] - 0s 1ms/step - loss: 0.6747 - accuracy: 0.7475 - val_loss: 1.8887 - val_accuracy: 0.4500\n",
      "Epoch 652/1000\n",
      "70/70 [==============================] - 0s 1ms/step - loss: 0.6691 - accuracy: 0.7501 - val_loss: 1.8944 - val_accuracy: 0.4533\n",
      "Epoch 653/1000\n",
      "70/70 [==============================] - 0s 1ms/step - loss: 0.7120 - accuracy: 0.7416 - val_loss: 1.9009 - val_accuracy: 0.4500\n",
      "Epoch 654/1000\n",
      "70/70 [==============================] - 0s 1ms/step - loss: 0.7037 - accuracy: 0.7275 - val_loss: 1.9021 - val_accuracy: 0.4500\n",
      "Epoch 655/1000\n",
      "70/70 [==============================] - 0s 1ms/step - loss: 0.6288 - accuracy: 0.7624 - val_loss: 1.9081 - val_accuracy: 0.4467\n",
      "Epoch 656/1000\n",
      "70/70 [==============================] - 0s 1ms/step - loss: 0.6708 - accuracy: 0.7770 - val_loss: 1.8907 - val_accuracy: 0.4533\n",
      "Epoch 657/1000\n",
      "70/70 [==============================] - 0s 1ms/step - loss: 0.6546 - accuracy: 0.7739 - val_loss: 1.8898 - val_accuracy: 0.4467\n",
      "Epoch 658/1000\n",
      "70/70 [==============================] - 0s 1ms/step - loss: 0.6715 - accuracy: 0.7434 - val_loss: 1.8922 - val_accuracy: 0.4400\n",
      "Epoch 659/1000\n",
      "70/70 [==============================] - 0s 1ms/step - loss: 0.6711 - accuracy: 0.7533 - val_loss: 1.9007 - val_accuracy: 0.4533\n",
      "Epoch 660/1000\n",
      "70/70 [==============================] - 0s 1ms/step - loss: 0.6259 - accuracy: 0.7600 - val_loss: 1.8927 - val_accuracy: 0.4500\n",
      "Epoch 661/1000\n",
      "70/70 [==============================] - 0s 1ms/step - loss: 0.6405 - accuracy: 0.7675 - val_loss: 1.9164 - val_accuracy: 0.4500\n",
      "Epoch 662/1000\n",
      "70/70 [==============================] - 0s 1ms/step - loss: 0.6412 - accuracy: 0.7716 - val_loss: 1.9112 - val_accuracy: 0.4467\n",
      "Epoch 663/1000\n",
      "70/70 [==============================] - 0s 1ms/step - loss: 0.6238 - accuracy: 0.7724 - val_loss: 1.9214 - val_accuracy: 0.4500\n",
      "Epoch 664/1000\n",
      "70/70 [==============================] - 0s 1ms/step - loss: 0.6999 - accuracy: 0.7330 - val_loss: 1.9023 - val_accuracy: 0.4433\n",
      "Epoch 665/1000\n",
      "70/70 [==============================] - 0s 1ms/step - loss: 0.6584 - accuracy: 0.7399 - val_loss: 1.9157 - val_accuracy: 0.4500\n",
      "Epoch 666/1000\n",
      "70/70 [==============================] - 0s 1ms/step - loss: 0.7178 - accuracy: 0.7068 - val_loss: 1.9195 - val_accuracy: 0.4500\n",
      "Epoch 667/1000\n",
      "70/70 [==============================] - 0s 1ms/step - loss: 0.6852 - accuracy: 0.7420 - val_loss: 1.9005 - val_accuracy: 0.4467\n",
      "Epoch 668/1000\n",
      "70/70 [==============================] - 0s 1ms/step - loss: 0.6748 - accuracy: 0.7610 - val_loss: 1.9291 - val_accuracy: 0.4600\n",
      "Epoch 669/1000\n",
      "70/70 [==============================] - 0s 1ms/step - loss: 0.6913 - accuracy: 0.7644 - val_loss: 1.9246 - val_accuracy: 0.4500\n",
      "Epoch 670/1000\n",
      "70/70 [==============================] - 0s 1ms/step - loss: 0.6728 - accuracy: 0.7478 - val_loss: 1.9212 - val_accuracy: 0.4500\n",
      "Epoch 671/1000\n",
      "70/70 [==============================] - 0s 1ms/step - loss: 0.6210 - accuracy: 0.7635 - val_loss: 1.9174 - val_accuracy: 0.4533\n",
      "Epoch 672/1000\n",
      "70/70 [==============================] - 0s 1ms/step - loss: 0.6782 - accuracy: 0.7497 - val_loss: 1.9302 - val_accuracy: 0.4533\n",
      "Epoch 673/1000\n",
      "70/70 [==============================] - 0s 1ms/step - loss: 0.6079 - accuracy: 0.7867 - val_loss: 1.9123 - val_accuracy: 0.4500\n",
      "Epoch 674/1000\n",
      "70/70 [==============================] - 0s 1ms/step - loss: 0.6433 - accuracy: 0.7583 - val_loss: 1.9090 - val_accuracy: 0.4433\n",
      "Epoch 675/1000\n",
      "70/70 [==============================] - 0s 1ms/step - loss: 0.6469 - accuracy: 0.7652 - val_loss: 1.9084 - val_accuracy: 0.4467\n",
      "Epoch 676/1000\n",
      "70/70 [==============================] - 0s 1ms/step - loss: 0.6743 - accuracy: 0.7528 - val_loss: 1.9298 - val_accuracy: 0.4467\n",
      "Epoch 677/1000\n",
      "70/70 [==============================] - 0s 1ms/step - loss: 0.6431 - accuracy: 0.7812 - val_loss: 1.9300 - val_accuracy: 0.4500\n",
      "Epoch 678/1000\n",
      "70/70 [==============================] - 0s 1ms/step - loss: 0.6088 - accuracy: 0.7782 - val_loss: 1.9013 - val_accuracy: 0.4433\n",
      "Epoch 679/1000\n",
      "70/70 [==============================] - 0s 1ms/step - loss: 0.6540 - accuracy: 0.7393 - val_loss: 1.9141 - val_accuracy: 0.4433\n",
      "Epoch 680/1000\n",
      "70/70 [==============================] - 0s 1ms/step - loss: 0.6533 - accuracy: 0.7564 - val_loss: 1.9411 - val_accuracy: 0.4467\n",
      "Epoch 681/1000\n",
      "70/70 [==============================] - 0s 1ms/step - loss: 0.6535 - accuracy: 0.7747 - val_loss: 1.9327 - val_accuracy: 0.4500\n",
      "Epoch 682/1000\n",
      "70/70 [==============================] - 0s 1ms/step - loss: 0.6378 - accuracy: 0.7603 - val_loss: 1.9274 - val_accuracy: 0.4467\n",
      "Epoch 683/1000\n"
     ]
    },
    {
     "name": "stdout",
     "output_type": "stream",
     "text": [
      "70/70 [==============================] - 0s 1ms/step - loss: 0.7246 - accuracy: 0.7385 - val_loss: 1.9321 - val_accuracy: 0.4467\n",
      "Epoch 684/1000\n",
      "70/70 [==============================] - 0s 1ms/step - loss: 0.6112 - accuracy: 0.7789 - val_loss: 1.9296 - val_accuracy: 0.4500\n",
      "Epoch 685/1000\n",
      "70/70 [==============================] - 0s 1ms/step - loss: 0.6624 - accuracy: 0.7763 - val_loss: 1.9323 - val_accuracy: 0.4433\n",
      "Epoch 686/1000\n",
      "70/70 [==============================] - 0s 1ms/step - loss: 0.6664 - accuracy: 0.7509 - val_loss: 1.9506 - val_accuracy: 0.4533\n",
      "Epoch 687/1000\n",
      "70/70 [==============================] - 0s 1ms/step - loss: 0.6688 - accuracy: 0.7465 - val_loss: 1.9429 - val_accuracy: 0.4467\n",
      "Epoch 688/1000\n",
      "70/70 [==============================] - 0s 1ms/step - loss: 0.6037 - accuracy: 0.7767 - val_loss: 1.9253 - val_accuracy: 0.4467\n",
      "Epoch 689/1000\n",
      "70/70 [==============================] - 0s 1ms/step - loss: 0.7000 - accuracy: 0.7514 - val_loss: 1.9331 - val_accuracy: 0.4567\n",
      "Epoch 690/1000\n",
      "70/70 [==============================] - 0s 1ms/step - loss: 0.6060 - accuracy: 0.7890 - val_loss: 1.9393 - val_accuracy: 0.4533\n",
      "Epoch 691/1000\n",
      "70/70 [==============================] - 0s 1ms/step - loss: 0.6711 - accuracy: 0.7801 - val_loss: 1.9488 - val_accuracy: 0.4533\n",
      "Epoch 692/1000\n",
      "70/70 [==============================] - 0s 1ms/step - loss: 0.6457 - accuracy: 0.7746 - val_loss: 1.9317 - val_accuracy: 0.4467\n",
      "Epoch 693/1000\n",
      "70/70 [==============================] - 0s 1ms/step - loss: 0.6617 - accuracy: 0.7534 - val_loss: 1.9567 - val_accuracy: 0.4633\n",
      "Epoch 694/1000\n",
      "70/70 [==============================] - 0s 1ms/step - loss: 0.6237 - accuracy: 0.7651 - val_loss: 1.9434 - val_accuracy: 0.4467\n",
      "Epoch 695/1000\n",
      "70/70 [==============================] - 0s 1ms/step - loss: 0.6315 - accuracy: 0.7746 - val_loss: 1.9402 - val_accuracy: 0.4533\n",
      "Epoch 696/1000\n",
      "70/70 [==============================] - 0s 1ms/step - loss: 0.6630 - accuracy: 0.7594 - val_loss: 1.9478 - val_accuracy: 0.4500\n",
      "Epoch 697/1000\n",
      "70/70 [==============================] - 0s 1ms/step - loss: 0.6218 - accuracy: 0.7764 - val_loss: 1.9540 - val_accuracy: 0.4333\n",
      "Epoch 698/1000\n",
      "70/70 [==============================] - 0s 1ms/step - loss: 0.6627 - accuracy: 0.7624 - val_loss: 1.9504 - val_accuracy: 0.4500\n",
      "Epoch 699/1000\n",
      "70/70 [==============================] - 0s 1ms/step - loss: 0.6613 - accuracy: 0.7596 - val_loss: 1.9357 - val_accuracy: 0.4400\n",
      "Epoch 700/1000\n",
      "70/70 [==============================] - 0s 1ms/step - loss: 0.6384 - accuracy: 0.7776 - val_loss: 1.9639 - val_accuracy: 0.4467\n",
      "Epoch 701/1000\n",
      "70/70 [==============================] - 0s 1ms/step - loss: 0.6112 - accuracy: 0.7770 - val_loss: 1.9572 - val_accuracy: 0.4633\n",
      "Epoch 702/1000\n",
      "70/70 [==============================] - 0s 1ms/step - loss: 0.6907 - accuracy: 0.7517 - val_loss: 1.9452 - val_accuracy: 0.4467\n",
      "Epoch 703/1000\n",
      "70/70 [==============================] - 0s 1ms/step - loss: 0.6426 - accuracy: 0.7671 - val_loss: 1.9607 - val_accuracy: 0.4467\n",
      "Epoch 704/1000\n",
      "70/70 [==============================] - 0s 1ms/step - loss: 0.7181 - accuracy: 0.7474 - val_loss: 1.9563 - val_accuracy: 0.4533\n",
      "Epoch 705/1000\n",
      "70/70 [==============================] - 0s 1ms/step - loss: 0.6243 - accuracy: 0.7854 - val_loss: 1.9618 - val_accuracy: 0.4467\n",
      "Epoch 706/1000\n",
      "70/70 [==============================] - 0s 1ms/step - loss: 0.7058 - accuracy: 0.7382 - val_loss: 1.9552 - val_accuracy: 0.4433\n",
      "Epoch 707/1000\n",
      "70/70 [==============================] - 0s 1ms/step - loss: 0.6549 - accuracy: 0.7766 - val_loss: 1.9471 - val_accuracy: 0.4533\n",
      "Epoch 708/1000\n",
      "70/70 [==============================] - 0s 1ms/step - loss: 0.6385 - accuracy: 0.7467 - val_loss: 1.9561 - val_accuracy: 0.4500\n",
      "Epoch 709/1000\n",
      "70/70 [==============================] - 0s 1ms/step - loss: 0.6555 - accuracy: 0.7649 - val_loss: 1.9673 - val_accuracy: 0.4500\n",
      "Epoch 710/1000\n",
      "70/70 [==============================] - 0s 1ms/step - loss: 0.6347 - accuracy: 0.7796 - val_loss: 1.9803 - val_accuracy: 0.4533\n",
      "Epoch 711/1000\n",
      "70/70 [==============================] - 0s 1ms/step - loss: 0.6198 - accuracy: 0.7675 - val_loss: 1.9695 - val_accuracy: 0.4467\n",
      "Epoch 712/1000\n",
      "70/70 [==============================] - 0s 1ms/step - loss: 0.6422 - accuracy: 0.7669 - val_loss: 1.9766 - val_accuracy: 0.4500\n",
      "Epoch 713/1000\n",
      "70/70 [==============================] - 0s 1ms/step - loss: 0.6494 - accuracy: 0.7680 - val_loss: 1.9571 - val_accuracy: 0.4467\n",
      "Epoch 714/1000\n",
      "70/70 [==============================] - 0s 1ms/step - loss: 0.6077 - accuracy: 0.7767 - val_loss: 1.9649 - val_accuracy: 0.4467\n",
      "Epoch 715/1000\n",
      "70/70 [==============================] - 0s 1ms/step - loss: 0.6257 - accuracy: 0.7547 - val_loss: 1.9717 - val_accuracy: 0.4600\n",
      "Epoch 716/1000\n",
      "70/70 [==============================] - 0s 1ms/step - loss: 0.6546 - accuracy: 0.7673 - val_loss: 1.9708 - val_accuracy: 0.4533\n",
      "Epoch 717/1000\n",
      "70/70 [==============================] - 0s 1ms/step - loss: 0.6328 - accuracy: 0.7790 - val_loss: 1.9618 - val_accuracy: 0.4433\n",
      "Epoch 718/1000\n",
      "70/70 [==============================] - 0s 1ms/step - loss: 0.6464 - accuracy: 0.7563 - val_loss: 1.9724 - val_accuracy: 0.4433\n",
      "Epoch 719/1000\n",
      "70/70 [==============================] - 0s 1ms/step - loss: 0.6460 - accuracy: 0.7694 - val_loss: 1.9709 - val_accuracy: 0.4533\n",
      "Epoch 720/1000\n",
      "70/70 [==============================] - 0s 1ms/step - loss: 0.6182 - accuracy: 0.7772 - val_loss: 1.9808 - val_accuracy: 0.4467\n",
      "Epoch 721/1000\n",
      "70/70 [==============================] - 0s 1ms/step - loss: 0.6507 - accuracy: 0.7938 - val_loss: 1.9777 - val_accuracy: 0.4400\n",
      "Epoch 722/1000\n",
      "70/70 [==============================] - 0s 1ms/step - loss: 0.6149 - accuracy: 0.7788 - val_loss: 1.9873 - val_accuracy: 0.4500\n",
      "Epoch 723/1000\n",
      "70/70 [==============================] - 0s 1ms/step - loss: 0.6709 - accuracy: 0.7715 - val_loss: 1.9632 - val_accuracy: 0.4500\n",
      "Epoch 724/1000\n",
      "70/70 [==============================] - 0s 1ms/step - loss: 0.6816 - accuracy: 0.7489 - val_loss: 1.9914 - val_accuracy: 0.4633\n",
      "Epoch 725/1000\n",
      "70/70 [==============================] - 0s 1ms/step - loss: 0.6202 - accuracy: 0.7948 - val_loss: 1.9711 - val_accuracy: 0.4467\n",
      "Epoch 726/1000\n",
      "70/70 [==============================] - 0s 1ms/step - loss: 0.6564 - accuracy: 0.7650 - val_loss: 1.9901 - val_accuracy: 0.4500\n",
      "Epoch 727/1000\n",
      "70/70 [==============================] - 0s 1ms/step - loss: 0.6372 - accuracy: 0.7690 - val_loss: 1.9699 - val_accuracy: 0.4467\n",
      "Epoch 728/1000\n",
      "70/70 [==============================] - 0s 1ms/step - loss: 0.6504 - accuracy: 0.7893 - val_loss: 1.9772 - val_accuracy: 0.4567\n",
      "Epoch 729/1000\n",
      "70/70 [==============================] - 0s 1ms/step - loss: 0.6919 - accuracy: 0.7595 - val_loss: 1.9814 - val_accuracy: 0.4333\n",
      "Epoch 730/1000\n",
      "70/70 [==============================] - 0s 1ms/step - loss: 0.6454 - accuracy: 0.7638 - val_loss: 2.0030 - val_accuracy: 0.4600\n",
      "Epoch 731/1000\n",
      "70/70 [==============================] - 0s 1ms/step - loss: 0.6213 - accuracy: 0.7590 - val_loss: 1.9949 - val_accuracy: 0.4567\n",
      "Epoch 732/1000\n",
      "70/70 [==============================] - 0s 1ms/step - loss: 0.6591 - accuracy: 0.7396 - val_loss: 1.9775 - val_accuracy: 0.4533\n",
      "Epoch 733/1000\n",
      "70/70 [==============================] - 0s 1ms/step - loss: 0.6584 - accuracy: 0.7645 - val_loss: 2.0078 - val_accuracy: 0.4667\n",
      "Epoch 734/1000\n",
      "70/70 [==============================] - 0s 1ms/step - loss: 0.7171 - accuracy: 0.7065 - val_loss: 2.0018 - val_accuracy: 0.4500\n",
      "Epoch 735/1000\n",
      "70/70 [==============================] - 0s 1ms/step - loss: 0.6429 - accuracy: 0.7680 - val_loss: 2.0033 - val_accuracy: 0.4533\n",
      "Epoch 736/1000\n",
      "70/70 [==============================] - 0s 1ms/step - loss: 0.6043 - accuracy: 0.7810 - val_loss: 1.9989 - val_accuracy: 0.4533\n",
      "Epoch 737/1000\n",
      "70/70 [==============================] - 0s 1ms/step - loss: 0.6616 - accuracy: 0.7572 - val_loss: 1.9996 - val_accuracy: 0.4667\n",
      "Epoch 738/1000\n",
      "70/70 [==============================] - 0s 1ms/step - loss: 0.6411 - accuracy: 0.7724 - val_loss: 1.9866 - val_accuracy: 0.4500\n",
      "Epoch 739/1000\n",
      "70/70 [==============================] - 0s 1ms/step - loss: 0.6337 - accuracy: 0.7791 - val_loss: 1.9842 - val_accuracy: 0.4500\n"
     ]
    },
    {
     "name": "stdout",
     "output_type": "stream",
     "text": [
      "Epoch 740/1000\n",
      "70/70 [==============================] - 0s 1ms/step - loss: 0.6689 - accuracy: 0.7537 - val_loss: 2.0069 - val_accuracy: 0.4500\n",
      "Epoch 741/1000\n",
      "70/70 [==============================] - 0s 1ms/step - loss: 0.6989 - accuracy: 0.7491 - val_loss: 1.9904 - val_accuracy: 0.4500\n",
      "Epoch 742/1000\n",
      "70/70 [==============================] - 0s 1ms/step - loss: 0.5910 - accuracy: 0.8079 - val_loss: 1.9804 - val_accuracy: 0.4533\n",
      "Epoch 743/1000\n",
      "70/70 [==============================] - 0s 1ms/step - loss: 0.6093 - accuracy: 0.7714 - val_loss: 1.9970 - val_accuracy: 0.4433\n",
      "Epoch 744/1000\n",
      "70/70 [==============================] - 0s 1ms/step - loss: 0.6493 - accuracy: 0.7634 - val_loss: 1.9922 - val_accuracy: 0.4433\n",
      "Epoch 745/1000\n",
      "70/70 [==============================] - 0s 1ms/step - loss: 0.6600 - accuracy: 0.7724 - val_loss: 1.9941 - val_accuracy: 0.4500\n",
      "Epoch 746/1000\n",
      "70/70 [==============================] - 0s 1ms/step - loss: 0.6396 - accuracy: 0.7873 - val_loss: 1.9975 - val_accuracy: 0.4533\n",
      "Epoch 747/1000\n",
      "70/70 [==============================] - 0s 1ms/step - loss: 0.6490 - accuracy: 0.7499 - val_loss: 1.9733 - val_accuracy: 0.4467\n",
      "Epoch 748/1000\n",
      "70/70 [==============================] - 0s 1ms/step - loss: 0.6456 - accuracy: 0.7814 - val_loss: 2.0064 - val_accuracy: 0.4467\n",
      "Epoch 749/1000\n",
      "70/70 [==============================] - 0s 1ms/step - loss: 0.6219 - accuracy: 0.7794 - val_loss: 2.0064 - val_accuracy: 0.4500\n",
      "Epoch 750/1000\n",
      "70/70 [==============================] - 0s 1ms/step - loss: 0.6870 - accuracy: 0.7648 - val_loss: 2.0071 - val_accuracy: 0.4600\n",
      "Epoch 751/1000\n",
      "70/70 [==============================] - 0s 1ms/step - loss: 0.6172 - accuracy: 0.7729 - val_loss: 2.0117 - val_accuracy: 0.4600\n",
      "Epoch 752/1000\n",
      "70/70 [==============================] - 0s 1ms/step - loss: 0.6367 - accuracy: 0.7615 - val_loss: 2.0043 - val_accuracy: 0.4533\n",
      "Epoch 753/1000\n",
      "70/70 [==============================] - 0s 1ms/step - loss: 0.6292 - accuracy: 0.7722 - val_loss: 2.0147 - val_accuracy: 0.4667\n",
      "Epoch 754/1000\n",
      "70/70 [==============================] - 0s 1ms/step - loss: 0.6327 - accuracy: 0.7701 - val_loss: 1.9933 - val_accuracy: 0.4500\n",
      "Epoch 755/1000\n",
      "70/70 [==============================] - 0s 1ms/step - loss: 0.6239 - accuracy: 0.7650 - val_loss: 2.0080 - val_accuracy: 0.4733\n",
      "Epoch 756/1000\n",
      "70/70 [==============================] - 0s 1ms/step - loss: 0.6437 - accuracy: 0.7590 - val_loss: 2.0161 - val_accuracy: 0.4533\n",
      "Epoch 757/1000\n",
      "70/70 [==============================] - 0s 1ms/step - loss: 0.6885 - accuracy: 0.7424 - val_loss: 2.0052 - val_accuracy: 0.4500\n",
      "Epoch 758/1000\n",
      "70/70 [==============================] - 0s 1ms/step - loss: 0.5910 - accuracy: 0.7856 - val_loss: 2.0081 - val_accuracy: 0.4533\n",
      "Epoch 759/1000\n",
      "70/70 [==============================] - 0s 1ms/step - loss: 0.5830 - accuracy: 0.8048 - val_loss: 2.0327 - val_accuracy: 0.4600\n",
      "Epoch 760/1000\n",
      "70/70 [==============================] - 0s 1ms/step - loss: 0.6606 - accuracy: 0.7763 - val_loss: 2.0194 - val_accuracy: 0.4533\n",
      "Epoch 761/1000\n",
      "70/70 [==============================] - 0s 1ms/step - loss: 0.6352 - accuracy: 0.7507 - val_loss: 2.0154 - val_accuracy: 0.4533\n",
      "Epoch 762/1000\n",
      "70/70 [==============================] - 0s 1ms/step - loss: 0.6328 - accuracy: 0.7683 - val_loss: 2.0149 - val_accuracy: 0.4500\n",
      "Epoch 763/1000\n",
      "70/70 [==============================] - 0s 1ms/step - loss: 0.6262 - accuracy: 0.7790 - val_loss: 2.0252 - val_accuracy: 0.4700\n",
      "Epoch 764/1000\n",
      "70/70 [==============================] - 0s 1ms/step - loss: 0.6511 - accuracy: 0.7694 - val_loss: 2.0310 - val_accuracy: 0.4567\n",
      "Epoch 765/1000\n",
      "70/70 [==============================] - 0s 1ms/step - loss: 0.6108 - accuracy: 0.7952 - val_loss: 2.0190 - val_accuracy: 0.4600\n",
      "Epoch 766/1000\n",
      "70/70 [==============================] - 0s 1ms/step - loss: 0.6097 - accuracy: 0.7764 - val_loss: 2.0076 - val_accuracy: 0.4533\n",
      "Epoch 767/1000\n",
      "70/70 [==============================] - 0s 1ms/step - loss: 0.6427 - accuracy: 0.7768 - val_loss: 2.0397 - val_accuracy: 0.4767\n",
      "Epoch 768/1000\n",
      "70/70 [==============================] - 0s 1ms/step - loss: 0.6377 - accuracy: 0.7703 - val_loss: 2.0276 - val_accuracy: 0.4600\n",
      "Epoch 769/1000\n",
      "70/70 [==============================] - 0s 1ms/step - loss: 0.5966 - accuracy: 0.7875 - val_loss: 2.0352 - val_accuracy: 0.4633\n",
      "Epoch 770/1000\n",
      "70/70 [==============================] - 0s 1ms/step - loss: 0.6198 - accuracy: 0.7877 - val_loss: 2.0353 - val_accuracy: 0.4667\n",
      "Epoch 771/1000\n",
      "70/70 [==============================] - 0s 1ms/step - loss: 0.6950 - accuracy: 0.7353 - val_loss: 2.0314 - val_accuracy: 0.4633\n",
      "Epoch 772/1000\n",
      "70/70 [==============================] - 0s 1ms/step - loss: 0.6144 - accuracy: 0.7676 - val_loss: 2.0396 - val_accuracy: 0.4567\n",
      "Epoch 773/1000\n",
      "70/70 [==============================] - 0s 1ms/step - loss: 0.6399 - accuracy: 0.7582 - val_loss: 2.0338 - val_accuracy: 0.4733\n",
      "Epoch 774/1000\n",
      "70/70 [==============================] - 0s 1ms/step - loss: 0.6352 - accuracy: 0.7676 - val_loss: 2.0317 - val_accuracy: 0.4500\n",
      "Epoch 775/1000\n",
      "70/70 [==============================] - 0s 1ms/step - loss: 0.6194 - accuracy: 0.7723 - val_loss: 2.0288 - val_accuracy: 0.4567\n",
      "Epoch 776/1000\n",
      "70/70 [==============================] - 0s 1ms/step - loss: 0.6064 - accuracy: 0.7871 - val_loss: 2.0175 - val_accuracy: 0.4500\n",
      "Epoch 777/1000\n",
      "70/70 [==============================] - 0s 1ms/step - loss: 0.5999 - accuracy: 0.7780 - val_loss: 2.0255 - val_accuracy: 0.4600\n",
      "Epoch 778/1000\n",
      "70/70 [==============================] - 0s 1ms/step - loss: 0.6497 - accuracy: 0.7673 - val_loss: 2.0373 - val_accuracy: 0.4533\n",
      "Epoch 779/1000\n",
      "70/70 [==============================] - 0s 1ms/step - loss: 0.6345 - accuracy: 0.7937 - val_loss: 2.0108 - val_accuracy: 0.4567\n",
      "Epoch 780/1000\n",
      "70/70 [==============================] - 0s 1ms/step - loss: 0.6584 - accuracy: 0.7469 - val_loss: 2.0398 - val_accuracy: 0.4633\n",
      "Epoch 781/1000\n",
      "70/70 [==============================] - 0s 1ms/step - loss: 0.6618 - accuracy: 0.7574 - val_loss: 2.0363 - val_accuracy: 0.4533\n",
      "Epoch 782/1000\n",
      "70/70 [==============================] - 0s 1ms/step - loss: 0.6367 - accuracy: 0.7661 - val_loss: 2.0406 - val_accuracy: 0.4533\n",
      "Epoch 783/1000\n",
      "70/70 [==============================] - 0s 1ms/step - loss: 0.5934 - accuracy: 0.7810 - val_loss: 2.0360 - val_accuracy: 0.4633\n",
      "Epoch 784/1000\n",
      "70/70 [==============================] - 0s 1ms/step - loss: 0.6658 - accuracy: 0.7429 - val_loss: 2.0444 - val_accuracy: 0.4633\n",
      "Epoch 785/1000\n",
      "70/70 [==============================] - 0s 1ms/step - loss: 0.6003 - accuracy: 0.7808 - val_loss: 2.0320 - val_accuracy: 0.4567\n",
      "Epoch 786/1000\n",
      "70/70 [==============================] - 0s 1ms/step - loss: 0.6130 - accuracy: 0.7602 - val_loss: 2.0452 - val_accuracy: 0.4500\n",
      "Epoch 787/1000\n",
      "70/70 [==============================] - 0s 1ms/step - loss: 0.6117 - accuracy: 0.7860 - val_loss: 2.0495 - val_accuracy: 0.4567\n",
      "Epoch 788/1000\n",
      "70/70 [==============================] - 0s 1ms/step - loss: 0.6281 - accuracy: 0.7785 - val_loss: 2.0359 - val_accuracy: 0.4533\n",
      "Epoch 789/1000\n",
      "70/70 [==============================] - 0s 1ms/step - loss: 0.6341 - accuracy: 0.7879 - val_loss: 2.0564 - val_accuracy: 0.4600\n",
      "Epoch 790/1000\n",
      "70/70 [==============================] - 0s 1ms/step - loss: 0.6253 - accuracy: 0.7820 - val_loss: 2.0487 - val_accuracy: 0.4633\n",
      "Epoch 791/1000\n",
      "70/70 [==============================] - 0s 1ms/step - loss: 0.5924 - accuracy: 0.8102 - val_loss: 2.0414 - val_accuracy: 0.4600\n",
      "Epoch 792/1000\n",
      "70/70 [==============================] - 0s 1ms/step - loss: 0.6167 - accuracy: 0.7855 - val_loss: 2.0598 - val_accuracy: 0.4667\n",
      "Epoch 793/1000\n",
      "70/70 [==============================] - 0s 1ms/step - loss: 0.6194 - accuracy: 0.7778 - val_loss: 2.0446 - val_accuracy: 0.4600\n",
      "Epoch 794/1000\n",
      "70/70 [==============================] - 0s 1ms/step - loss: 0.6220 - accuracy: 0.7786 - val_loss: 2.0570 - val_accuracy: 0.4467\n",
      "Epoch 795/1000\n",
      "70/70 [==============================] - 0s 1ms/step - loss: 0.6547 - accuracy: 0.7635 - val_loss: 2.0603 - val_accuracy: 0.4567\n",
      "Epoch 796/1000\n",
      "70/70 [==============================] - 0s 1ms/step - loss: 0.6361 - accuracy: 0.7854 - val_loss: 2.0523 - val_accuracy: 0.4633\n"
     ]
    },
    {
     "name": "stdout",
     "output_type": "stream",
     "text": [
      "Epoch 797/1000\n",
      "70/70 [==============================] - 0s 1ms/step - loss: 0.6170 - accuracy: 0.7811 - val_loss: 2.0553 - val_accuracy: 0.4500\n",
      "Epoch 798/1000\n",
      "70/70 [==============================] - 0s 1ms/step - loss: 0.6233 - accuracy: 0.7849 - val_loss: 2.0517 - val_accuracy: 0.4600\n",
      "Epoch 799/1000\n",
      "70/70 [==============================] - 0s 1ms/step - loss: 0.6777 - accuracy: 0.7465 - val_loss: 2.0518 - val_accuracy: 0.4633\n",
      "Epoch 800/1000\n",
      "70/70 [==============================] - 0s 1ms/step - loss: 0.6329 - accuracy: 0.7902 - val_loss: 2.0604 - val_accuracy: 0.4467\n",
      "Epoch 801/1000\n",
      "70/70 [==============================] - 0s 1ms/step - loss: 0.6199 - accuracy: 0.7750 - val_loss: 2.0421 - val_accuracy: 0.4500\n",
      "Epoch 802/1000\n",
      "70/70 [==============================] - 0s 1ms/step - loss: 0.6327 - accuracy: 0.7568 - val_loss: 2.0588 - val_accuracy: 0.4667\n",
      "Epoch 803/1000\n",
      "70/70 [==============================] - 0s 1ms/step - loss: 0.6278 - accuracy: 0.7662 - val_loss: 2.0675 - val_accuracy: 0.4533\n",
      "Epoch 804/1000\n",
      "70/70 [==============================] - 0s 1ms/step - loss: 0.6190 - accuracy: 0.7740 - val_loss: 2.0552 - val_accuracy: 0.4567\n",
      "Epoch 805/1000\n",
      "70/70 [==============================] - 0s 1ms/step - loss: 0.6226 - accuracy: 0.7727 - val_loss: 2.0834 - val_accuracy: 0.4633\n",
      "Epoch 806/1000\n",
      "70/70 [==============================] - 0s 1ms/step - loss: 0.6661 - accuracy: 0.7569 - val_loss: 2.0832 - val_accuracy: 0.4667\n",
      "Epoch 807/1000\n",
      "70/70 [==============================] - 0s 1ms/step - loss: 0.5844 - accuracy: 0.7888 - val_loss: 2.0496 - val_accuracy: 0.4500\n",
      "Epoch 808/1000\n",
      "70/70 [==============================] - 0s 1ms/step - loss: 0.6051 - accuracy: 0.7812 - val_loss: 2.0657 - val_accuracy: 0.4633\n",
      "Epoch 809/1000\n",
      "70/70 [==============================] - 0s 1ms/step - loss: 0.6023 - accuracy: 0.8068 - val_loss: 2.0707 - val_accuracy: 0.4533\n",
      "Epoch 810/1000\n",
      "70/70 [==============================] - 0s 1ms/step - loss: 0.6751 - accuracy: 0.7646 - val_loss: 2.0745 - val_accuracy: 0.4633\n",
      "Epoch 811/1000\n",
      "70/70 [==============================] - 0s 1ms/step - loss: 0.6244 - accuracy: 0.7897 - val_loss: 2.0837 - val_accuracy: 0.4567\n",
      "Epoch 812/1000\n",
      "70/70 [==============================] - 0s 1ms/step - loss: 0.6217 - accuracy: 0.7662 - val_loss: 2.0898 - val_accuracy: 0.4633\n",
      "Epoch 813/1000\n",
      "70/70 [==============================] - 0s 1ms/step - loss: 0.6117 - accuracy: 0.7764 - val_loss: 2.0682 - val_accuracy: 0.4600\n",
      "Epoch 814/1000\n",
      "70/70 [==============================] - 0s 1ms/step - loss: 0.6459 - accuracy: 0.7641 - val_loss: 2.0751 - val_accuracy: 0.4600\n",
      "Epoch 815/1000\n",
      "70/70 [==============================] - 0s 1ms/step - loss: 0.6201 - accuracy: 0.7808 - val_loss: 2.0784 - val_accuracy: 0.4600\n",
      "Epoch 816/1000\n",
      "70/70 [==============================] - 0s 1ms/step - loss: 0.6194 - accuracy: 0.7694 - val_loss: 2.0788 - val_accuracy: 0.4600\n",
      "Epoch 817/1000\n",
      "70/70 [==============================] - 0s 1ms/step - loss: 0.6742 - accuracy: 0.7623 - val_loss: 2.0715 - val_accuracy: 0.4633\n",
      "Epoch 818/1000\n",
      "70/70 [==============================] - 0s 1ms/step - loss: 0.6532 - accuracy: 0.7743 - val_loss: 2.0610 - val_accuracy: 0.4667\n",
      "Epoch 819/1000\n",
      "70/70 [==============================] - 0s 1ms/step - loss: 0.6127 - accuracy: 0.7902 - val_loss: 2.0862 - val_accuracy: 0.4633\n",
      "Epoch 820/1000\n",
      "70/70 [==============================] - 0s 1ms/step - loss: 0.5831 - accuracy: 0.7990 - val_loss: 2.0862 - val_accuracy: 0.4633\n",
      "Epoch 821/1000\n",
      "70/70 [==============================] - 0s 1ms/step - loss: 0.6641 - accuracy: 0.7441 - val_loss: 2.0824 - val_accuracy: 0.4667\n",
      "Epoch 822/1000\n",
      "70/70 [==============================] - 0s 1ms/step - loss: 0.5890 - accuracy: 0.7932 - val_loss: 2.0907 - val_accuracy: 0.4600\n",
      "Epoch 823/1000\n",
      "70/70 [==============================] - 0s 1ms/step - loss: 0.6286 - accuracy: 0.7749 - val_loss: 2.0775 - val_accuracy: 0.4567\n",
      "Epoch 824/1000\n",
      "70/70 [==============================] - 0s 1ms/step - loss: 0.6032 - accuracy: 0.7901 - val_loss: 2.0687 - val_accuracy: 0.4467\n",
      "Epoch 825/1000\n",
      "70/70 [==============================] - 0s 1ms/step - loss: 0.6416 - accuracy: 0.7697 - val_loss: 2.0973 - val_accuracy: 0.4667\n",
      "Epoch 826/1000\n",
      "70/70 [==============================] - 0s 1ms/step - loss: 0.6366 - accuracy: 0.7728 - val_loss: 2.0965 - val_accuracy: 0.4567\n",
      "Epoch 827/1000\n",
      "70/70 [==============================] - 0s 1ms/step - loss: 0.6352 - accuracy: 0.7701 - val_loss: 2.0822 - val_accuracy: 0.4500\n",
      "Epoch 828/1000\n",
      "70/70 [==============================] - 0s 1ms/step - loss: 0.6315 - accuracy: 0.7476 - val_loss: 2.0964 - val_accuracy: 0.4567\n",
      "Epoch 829/1000\n",
      "70/70 [==============================] - 0s 1ms/step - loss: 0.6148 - accuracy: 0.7799 - val_loss: 2.0870 - val_accuracy: 0.4500\n",
      "Epoch 830/1000\n",
      "70/70 [==============================] - 0s 1ms/step - loss: 0.6262 - accuracy: 0.7801 - val_loss: 2.0883 - val_accuracy: 0.4567\n",
      "Epoch 831/1000\n",
      "70/70 [==============================] - 0s 1ms/step - loss: 0.6002 - accuracy: 0.7741 - val_loss: 2.0980 - val_accuracy: 0.4500\n",
      "Epoch 832/1000\n",
      "70/70 [==============================] - 0s 1ms/step - loss: 0.6503 - accuracy: 0.7641 - val_loss: 2.0903 - val_accuracy: 0.4567\n",
      "Epoch 833/1000\n",
      "70/70 [==============================] - 0s 1ms/step - loss: 0.5948 - accuracy: 0.7905 - val_loss: 2.0910 - val_accuracy: 0.4400\n",
      "Epoch 834/1000\n",
      "70/70 [==============================] - 0s 1ms/step - loss: 0.5736 - accuracy: 0.7864 - val_loss: 2.1025 - val_accuracy: 0.4533\n",
      "Epoch 835/1000\n",
      "70/70 [==============================] - 0s 1ms/step - loss: 0.6308 - accuracy: 0.7528 - val_loss: 2.0999 - val_accuracy: 0.4533\n",
      "Epoch 836/1000\n",
      "70/70 [==============================] - 0s 1ms/step - loss: 0.6534 - accuracy: 0.7616 - val_loss: 2.1040 - val_accuracy: 0.4567\n",
      "Epoch 837/1000\n",
      "70/70 [==============================] - 0s 1ms/step - loss: 0.6027 - accuracy: 0.7710 - val_loss: 2.1283 - val_accuracy: 0.4700\n",
      "Epoch 838/1000\n",
      "70/70 [==============================] - 0s 1ms/step - loss: 0.5933 - accuracy: 0.7748 - val_loss: 2.1137 - val_accuracy: 0.4567\n",
      "Epoch 839/1000\n",
      "70/70 [==============================] - 0s 1ms/step - loss: 0.6100 - accuracy: 0.7690 - val_loss: 2.1056 - val_accuracy: 0.4533\n",
      "Epoch 840/1000\n",
      "70/70 [==============================] - 0s 1ms/step - loss: 0.6055 - accuracy: 0.7816 - val_loss: 2.1029 - val_accuracy: 0.4533\n",
      "Epoch 841/1000\n",
      "70/70 [==============================] - 0s 1ms/step - loss: 0.6354 - accuracy: 0.7810 - val_loss: 2.1164 - val_accuracy: 0.4467\n",
      "Epoch 842/1000\n",
      "70/70 [==============================] - 0s 1ms/step - loss: 0.6257 - accuracy: 0.7505 - val_loss: 2.1055 - val_accuracy: 0.4500\n",
      "Epoch 843/1000\n",
      "70/70 [==============================] - 0s 1ms/step - loss: 0.5774 - accuracy: 0.7961 - val_loss: 2.1034 - val_accuracy: 0.4500\n",
      "Epoch 844/1000\n",
      "70/70 [==============================] - 0s 1ms/step - loss: 0.5681 - accuracy: 0.7971 - val_loss: 2.1237 - val_accuracy: 0.4567\n",
      "Epoch 845/1000\n",
      "70/70 [==============================] - 0s 1ms/step - loss: 0.6390 - accuracy: 0.7693 - val_loss: 2.1027 - val_accuracy: 0.4600\n",
      "Epoch 846/1000\n",
      "70/70 [==============================] - 0s 1ms/step - loss: 0.6065 - accuracy: 0.7820 - val_loss: 2.1155 - val_accuracy: 0.4567\n",
      "Epoch 847/1000\n",
      "70/70 [==============================] - 0s 1ms/step - loss: 0.6042 - accuracy: 0.7844 - val_loss: 2.1251 - val_accuracy: 0.4500\n",
      "Epoch 848/1000\n",
      "70/70 [==============================] - 0s 1ms/step - loss: 0.6097 - accuracy: 0.7529 - val_loss: 2.1075 - val_accuracy: 0.4500\n",
      "Epoch 849/1000\n",
      "70/70 [==============================] - 0s 1ms/step - loss: 0.6412 - accuracy: 0.7462 - val_loss: 2.1213 - val_accuracy: 0.4467\n",
      "Epoch 850/1000\n",
      "70/70 [==============================] - 0s 1ms/step - loss: 0.6314 - accuracy: 0.7624 - val_loss: 2.1073 - val_accuracy: 0.4400\n",
      "Epoch 851/1000\n",
      "70/70 [==============================] - 0s 1ms/step - loss: 0.6032 - accuracy: 0.7782 - val_loss: 2.1291 - val_accuracy: 0.4467\n",
      "Epoch 852/1000\n",
      "70/70 [==============================] - 0s 1ms/step - loss: 0.6044 - accuracy: 0.7912 - val_loss: 2.1160 - val_accuracy: 0.4600\n",
      "Epoch 853/1000\n",
      "70/70 [==============================] - 0s 1ms/step - loss: 0.6451 - accuracy: 0.7697 - val_loss: 2.1260 - val_accuracy: 0.4533\n"
     ]
    },
    {
     "name": "stdout",
     "output_type": "stream",
     "text": [
      "Epoch 854/1000\n",
      "70/70 [==============================] - 0s 1ms/step - loss: 0.6410 - accuracy: 0.7711 - val_loss: 2.1177 - val_accuracy: 0.4600\n",
      "Epoch 855/1000\n",
      "70/70 [==============================] - 0s 1ms/step - loss: 0.6044 - accuracy: 0.7914 - val_loss: 2.1256 - val_accuracy: 0.4567\n",
      "Epoch 856/1000\n",
      "70/70 [==============================] - 0s 1ms/step - loss: 0.6168 - accuracy: 0.7760 - val_loss: 2.1343 - val_accuracy: 0.4400\n",
      "Epoch 857/1000\n",
      "70/70 [==============================] - 0s 1ms/step - loss: 0.6354 - accuracy: 0.7716 - val_loss: 2.1238 - val_accuracy: 0.4500\n",
      "Epoch 858/1000\n",
      "70/70 [==============================] - 0s 1ms/step - loss: 0.5873 - accuracy: 0.7826 - val_loss: 2.1335 - val_accuracy: 0.4467\n",
      "Epoch 859/1000\n",
      "70/70 [==============================] - 0s 1ms/step - loss: 0.6023 - accuracy: 0.7855 - val_loss: 2.1344 - val_accuracy: 0.4567\n",
      "Epoch 860/1000\n",
      "70/70 [==============================] - 0s 1ms/step - loss: 0.5940 - accuracy: 0.7880 - val_loss: 2.1317 - val_accuracy: 0.4533\n",
      "Epoch 861/1000\n",
      "70/70 [==============================] - 0s 1ms/step - loss: 0.5846 - accuracy: 0.7881 - val_loss: 2.1359 - val_accuracy: 0.4533\n",
      "Epoch 862/1000\n",
      "70/70 [==============================] - 0s 1ms/step - loss: 0.6243 - accuracy: 0.7601 - val_loss: 2.1238 - val_accuracy: 0.4433\n",
      "Epoch 863/1000\n",
      "70/70 [==============================] - 0s 1ms/step - loss: 0.6262 - accuracy: 0.7853 - val_loss: 2.1605 - val_accuracy: 0.4433\n",
      "Epoch 864/1000\n",
      "70/70 [==============================] - 0s 1ms/step - loss: 0.5870 - accuracy: 0.7799 - val_loss: 2.1457 - val_accuracy: 0.4533\n",
      "Epoch 865/1000\n",
      "70/70 [==============================] - 0s 1ms/step - loss: 0.6919 - accuracy: 0.7561 - val_loss: 2.1437 - val_accuracy: 0.4500\n",
      "Epoch 866/1000\n",
      "70/70 [==============================] - 0s 1ms/step - loss: 0.5946 - accuracy: 0.7850 - val_loss: 2.1534 - val_accuracy: 0.4533\n",
      "Epoch 867/1000\n",
      "70/70 [==============================] - 0s 1ms/step - loss: 0.5974 - accuracy: 0.7727 - val_loss: 2.1407 - val_accuracy: 0.4533\n",
      "Epoch 868/1000\n",
      "70/70 [==============================] - 0s 1ms/step - loss: 0.6202 - accuracy: 0.7732 - val_loss: 2.1349 - val_accuracy: 0.4500\n",
      "Epoch 869/1000\n",
      "70/70 [==============================] - 0s 1ms/step - loss: 0.6019 - accuracy: 0.7732 - val_loss: 2.1587 - val_accuracy: 0.4567\n",
      "Epoch 870/1000\n",
      "70/70 [==============================] - 0s 1ms/step - loss: 0.5982 - accuracy: 0.7876 - val_loss: 2.1613 - val_accuracy: 0.4533\n",
      "Epoch 871/1000\n",
      "70/70 [==============================] - 0s 1ms/step - loss: 0.5979 - accuracy: 0.7723 - val_loss: 2.1359 - val_accuracy: 0.4533\n",
      "Epoch 872/1000\n",
      "70/70 [==============================] - 0s 1ms/step - loss: 0.5926 - accuracy: 0.7916 - val_loss: 2.1328 - val_accuracy: 0.4500\n",
      "Epoch 873/1000\n",
      "70/70 [==============================] - 0s 1ms/step - loss: 0.5712 - accuracy: 0.8136 - val_loss: 2.1454 - val_accuracy: 0.4467\n",
      "Epoch 874/1000\n",
      "70/70 [==============================] - 0s 1ms/step - loss: 0.5977 - accuracy: 0.7905 - val_loss: 2.1446 - val_accuracy: 0.4533\n",
      "Epoch 875/1000\n",
      "70/70 [==============================] - 0s 1ms/step - loss: 0.6072 - accuracy: 0.7800 - val_loss: 2.1563 - val_accuracy: 0.4500\n",
      "Epoch 876/1000\n",
      "70/70 [==============================] - 0s 1ms/step - loss: 0.6152 - accuracy: 0.7804 - val_loss: 2.1552 - val_accuracy: 0.4467\n",
      "Epoch 877/1000\n",
      "70/70 [==============================] - 0s 1ms/step - loss: 0.5854 - accuracy: 0.7730 - val_loss: 2.1617 - val_accuracy: 0.4567\n",
      "Epoch 878/1000\n",
      "70/70 [==============================] - 0s 1ms/step - loss: 0.5827 - accuracy: 0.7918 - val_loss: 2.1546 - val_accuracy: 0.4433\n",
      "Epoch 879/1000\n",
      "70/70 [==============================] - 0s 1ms/step - loss: 0.6285 - accuracy: 0.7691 - val_loss: 2.1575 - val_accuracy: 0.4500\n",
      "Epoch 880/1000\n",
      "70/70 [==============================] - 0s 1ms/step - loss: 0.5776 - accuracy: 0.7856 - val_loss: 2.1707 - val_accuracy: 0.4500\n",
      "Epoch 881/1000\n",
      "70/70 [==============================] - 0s 1ms/step - loss: 0.6518 - accuracy: 0.7494 - val_loss: 2.1686 - val_accuracy: 0.4500\n",
      "Epoch 882/1000\n",
      "70/70 [==============================] - 0s 1ms/step - loss: 0.6020 - accuracy: 0.7749 - val_loss: 2.1612 - val_accuracy: 0.4533\n",
      "Epoch 883/1000\n",
      "70/70 [==============================] - 0s 1ms/step - loss: 0.5879 - accuracy: 0.7802 - val_loss: 2.1585 - val_accuracy: 0.4500\n",
      "Epoch 884/1000\n",
      "70/70 [==============================] - 0s 1ms/step - loss: 0.6237 - accuracy: 0.7658 - val_loss: 2.1751 - val_accuracy: 0.4500\n",
      "Epoch 885/1000\n",
      "70/70 [==============================] - 0s 1ms/step - loss: 0.6454 - accuracy: 0.7575 - val_loss: 2.1659 - val_accuracy: 0.4433\n",
      "Epoch 886/1000\n",
      "70/70 [==============================] - 0s 1ms/step - loss: 0.6130 - accuracy: 0.7705 - val_loss: 2.1710 - val_accuracy: 0.4467\n",
      "Epoch 887/1000\n",
      "70/70 [==============================] - 0s 1ms/step - loss: 0.5767 - accuracy: 0.7775 - val_loss: 2.1599 - val_accuracy: 0.4500\n",
      "Epoch 888/1000\n",
      "70/70 [==============================] - 0s 1ms/step - loss: 0.6166 - accuracy: 0.7716 - val_loss: 2.1652 - val_accuracy: 0.4467\n",
      "Epoch 889/1000\n",
      "70/70 [==============================] - 0s 1ms/step - loss: 0.6128 - accuracy: 0.7805 - val_loss: 2.1550 - val_accuracy: 0.4467\n",
      "Epoch 890/1000\n",
      "70/70 [==============================] - 0s 1ms/step - loss: 0.5670 - accuracy: 0.7800 - val_loss: 2.1664 - val_accuracy: 0.4467\n",
      "Epoch 891/1000\n",
      "70/70 [==============================] - 0s 1ms/step - loss: 0.6057 - accuracy: 0.7726 - val_loss: 2.1803 - val_accuracy: 0.4533\n",
      "Epoch 892/1000\n",
      "70/70 [==============================] - 0s 1ms/step - loss: 0.5292 - accuracy: 0.8215 - val_loss: 2.1803 - val_accuracy: 0.4533\n",
      "Epoch 893/1000\n",
      "70/70 [==============================] - 0s 1ms/step - loss: 0.5971 - accuracy: 0.7857 - val_loss: 2.1532 - val_accuracy: 0.4400\n",
      "Epoch 894/1000\n",
      "70/70 [==============================] - 0s 1ms/step - loss: 0.5713 - accuracy: 0.7803 - val_loss: 2.1709 - val_accuracy: 0.4433\n",
      "Epoch 895/1000\n",
      "70/70 [==============================] - 0s 1ms/step - loss: 0.6327 - accuracy: 0.7649 - val_loss: 2.1781 - val_accuracy: 0.4600\n",
      "Epoch 896/1000\n",
      "70/70 [==============================] - 0s 1ms/step - loss: 0.5973 - accuracy: 0.7718 - val_loss: 2.1798 - val_accuracy: 0.4500\n",
      "Epoch 897/1000\n",
      "70/70 [==============================] - 0s 1ms/step - loss: 0.6093 - accuracy: 0.7822 - val_loss: 2.2009 - val_accuracy: 0.4500\n",
      "Epoch 898/1000\n",
      "70/70 [==============================] - 0s 1ms/step - loss: 0.5899 - accuracy: 0.7840 - val_loss: 2.1831 - val_accuracy: 0.4433\n",
      "Epoch 899/1000\n",
      "70/70 [==============================] - 0s 1ms/step - loss: 0.5497 - accuracy: 0.8123 - val_loss: 2.1826 - val_accuracy: 0.4533\n",
      "Epoch 900/1000\n",
      "70/70 [==============================] - 0s 1ms/step - loss: 0.6217 - accuracy: 0.7685 - val_loss: 2.1853 - val_accuracy: 0.4533\n",
      "Epoch 901/1000\n",
      "70/70 [==============================] - 0s 1ms/step - loss: 0.5928 - accuracy: 0.7837 - val_loss: 2.1726 - val_accuracy: 0.4433\n",
      "Epoch 902/1000\n",
      "70/70 [==============================] - 0s 1ms/step - loss: 0.6543 - accuracy: 0.7460 - val_loss: 2.1835 - val_accuracy: 0.4433\n",
      "Epoch 903/1000\n",
      "70/70 [==============================] - 0s 1ms/step - loss: 0.5907 - accuracy: 0.7813 - val_loss: 2.1867 - val_accuracy: 0.4533\n",
      "Epoch 904/1000\n",
      "70/70 [==============================] - 0s 1ms/step - loss: 0.5423 - accuracy: 0.8022 - val_loss: 2.1965 - val_accuracy: 0.4500\n",
      "Epoch 905/1000\n",
      "70/70 [==============================] - 0s 1ms/step - loss: 0.5897 - accuracy: 0.7923 - val_loss: 2.1831 - val_accuracy: 0.4433\n",
      "Epoch 906/1000\n",
      "70/70 [==============================] - 0s 1ms/step - loss: 0.6511 - accuracy: 0.7414 - val_loss: 2.1970 - val_accuracy: 0.4433\n",
      "Epoch 907/1000\n",
      "70/70 [==============================] - 0s 1ms/step - loss: 0.6415 - accuracy: 0.7625 - val_loss: 2.2051 - val_accuracy: 0.4567\n",
      "Epoch 908/1000\n",
      "70/70 [==============================] - 0s 1ms/step - loss: 0.5923 - accuracy: 0.7754 - val_loss: 2.2121 - val_accuracy: 0.4533\n",
      "Epoch 909/1000\n",
      "70/70 [==============================] - 0s 1ms/step - loss: 0.5898 - accuracy: 0.7907 - val_loss: 2.1986 - val_accuracy: 0.4467\n",
      "Epoch 910/1000\n",
      "70/70 [==============================] - 0s 1ms/step - loss: 0.6135 - accuracy: 0.7702 - val_loss: 2.1967 - val_accuracy: 0.4433\n"
     ]
    },
    {
     "name": "stdout",
     "output_type": "stream",
     "text": [
      "Epoch 911/1000\n",
      "70/70 [==============================] - 0s 1ms/step - loss: 0.6114 - accuracy: 0.7719 - val_loss: 2.2028 - val_accuracy: 0.4533\n",
      "Epoch 912/1000\n",
      "70/70 [==============================] - 0s 1ms/step - loss: 0.5849 - accuracy: 0.7974 - val_loss: 2.2043 - val_accuracy: 0.4500\n",
      "Epoch 913/1000\n",
      "70/70 [==============================] - 0s 1ms/step - loss: 0.5831 - accuracy: 0.7912 - val_loss: 2.2022 - val_accuracy: 0.4467\n",
      "Epoch 914/1000\n",
      "70/70 [==============================] - 0s 1ms/step - loss: 0.6069 - accuracy: 0.7825 - val_loss: 2.1936 - val_accuracy: 0.4433\n",
      "Epoch 915/1000\n",
      "70/70 [==============================] - 0s 1ms/step - loss: 0.5926 - accuracy: 0.7864 - val_loss: 2.2009 - val_accuracy: 0.4467\n",
      "Epoch 916/1000\n",
      "70/70 [==============================] - 0s 1ms/step - loss: 0.5873 - accuracy: 0.7907 - val_loss: 2.2025 - val_accuracy: 0.4433\n",
      "Epoch 917/1000\n",
      "70/70 [==============================] - 0s 1ms/step - loss: 0.6125 - accuracy: 0.7785 - val_loss: 2.2094 - val_accuracy: 0.4400\n",
      "Epoch 918/1000\n",
      "70/70 [==============================] - 0s 1ms/step - loss: 0.6068 - accuracy: 0.7751 - val_loss: 2.2083 - val_accuracy: 0.4500\n",
      "Epoch 919/1000\n",
      "70/70 [==============================] - 0s 1ms/step - loss: 0.5576 - accuracy: 0.7823 - val_loss: 2.2292 - val_accuracy: 0.4567\n",
      "Epoch 920/1000\n",
      "70/70 [==============================] - 0s 1ms/step - loss: 0.5791 - accuracy: 0.7841 - val_loss: 2.2084 - val_accuracy: 0.4500\n",
      "Epoch 921/1000\n",
      "70/70 [==============================] - 0s 1ms/step - loss: 0.6195 - accuracy: 0.7809 - val_loss: 2.1994 - val_accuracy: 0.4400\n",
      "Epoch 922/1000\n",
      "70/70 [==============================] - 0s 1ms/step - loss: 0.6059 - accuracy: 0.7748 - val_loss: 2.1984 - val_accuracy: 0.4433\n",
      "Epoch 923/1000\n",
      "70/70 [==============================] - 0s 1ms/step - loss: 0.5603 - accuracy: 0.8044 - val_loss: 2.2200 - val_accuracy: 0.4567\n",
      "Epoch 924/1000\n",
      "70/70 [==============================] - 0s 1ms/step - loss: 0.6085 - accuracy: 0.7826 - val_loss: 2.2230 - val_accuracy: 0.4467\n",
      "Epoch 925/1000\n",
      "70/70 [==============================] - 0s 1ms/step - loss: 0.6097 - accuracy: 0.7794 - val_loss: 2.2077 - val_accuracy: 0.4500\n",
      "Epoch 926/1000\n",
      "70/70 [==============================] - 0s 1ms/step - loss: 0.6069 - accuracy: 0.7799 - val_loss: 2.2231 - val_accuracy: 0.4467\n",
      "Epoch 927/1000\n",
      "70/70 [==============================] - 0s 1ms/step - loss: 0.5540 - accuracy: 0.8006 - val_loss: 2.2140 - val_accuracy: 0.4533\n",
      "Epoch 928/1000\n",
      "70/70 [==============================] - 0s 1ms/step - loss: 0.5874 - accuracy: 0.7910 - val_loss: 2.2149 - val_accuracy: 0.4467\n",
      "Epoch 929/1000\n",
      "70/70 [==============================] - 0s 1ms/step - loss: 0.5733 - accuracy: 0.7897 - val_loss: 2.2108 - val_accuracy: 0.4433\n",
      "Epoch 930/1000\n",
      "70/70 [==============================] - 0s 1ms/step - loss: 0.5490 - accuracy: 0.8110 - val_loss: 2.2266 - val_accuracy: 0.4500\n",
      "Epoch 931/1000\n",
      "70/70 [==============================] - 0s 1ms/step - loss: 0.5895 - accuracy: 0.7826 - val_loss: 2.2198 - val_accuracy: 0.4467\n",
      "Epoch 932/1000\n",
      "70/70 [==============================] - 0s 1ms/step - loss: 0.6008 - accuracy: 0.7798 - val_loss: 2.2205 - val_accuracy: 0.4467\n",
      "Epoch 933/1000\n",
      "70/70 [==============================] - 0s 1ms/step - loss: 0.6201 - accuracy: 0.7712 - val_loss: 2.2205 - val_accuracy: 0.4400\n",
      "Epoch 934/1000\n",
      "70/70 [==============================] - 0s 1ms/step - loss: 0.5694 - accuracy: 0.7952 - val_loss: 2.2247 - val_accuracy: 0.4400\n",
      "Epoch 935/1000\n",
      "70/70 [==============================] - 0s 1ms/step - loss: 0.6077 - accuracy: 0.7839 - val_loss: 2.2230 - val_accuracy: 0.4433\n",
      "Epoch 936/1000\n",
      "70/70 [==============================] - 0s 1ms/step - loss: 0.6005 - accuracy: 0.7779 - val_loss: 2.2310 - val_accuracy: 0.4467\n",
      "Epoch 937/1000\n",
      "70/70 [==============================] - 0s 1ms/step - loss: 0.6016 - accuracy: 0.7738 - val_loss: 2.2291 - val_accuracy: 0.4433\n",
      "Epoch 938/1000\n",
      "70/70 [==============================] - 0s 1ms/step - loss: 0.5961 - accuracy: 0.7829 - val_loss: 2.2298 - val_accuracy: 0.4467\n",
      "Epoch 939/1000\n",
      "70/70 [==============================] - 0s 1ms/step - loss: 0.5678 - accuracy: 0.7780 - val_loss: 2.2371 - val_accuracy: 0.4500\n",
      "Epoch 940/1000\n",
      "70/70 [==============================] - 0s 1ms/step - loss: 0.6128 - accuracy: 0.7747 - val_loss: 2.2383 - val_accuracy: 0.4533\n",
      "Epoch 941/1000\n",
      "70/70 [==============================] - 0s 1ms/step - loss: 0.5977 - accuracy: 0.7893 - val_loss: 2.2222 - val_accuracy: 0.4433\n",
      "Epoch 942/1000\n",
      "70/70 [==============================] - 0s 1ms/step - loss: 0.5626 - accuracy: 0.8193 - val_loss: 2.2389 - val_accuracy: 0.4400\n",
      "Epoch 943/1000\n",
      "70/70 [==============================] - 0s 1ms/step - loss: 0.5954 - accuracy: 0.7960 - val_loss: 2.2392 - val_accuracy: 0.4433\n",
      "Epoch 944/1000\n",
      "70/70 [==============================] - 0s 1ms/step - loss: 0.5476 - accuracy: 0.8018 - val_loss: 2.2307 - val_accuracy: 0.4467\n",
      "Epoch 945/1000\n",
      "70/70 [==============================] - 0s 1ms/step - loss: 0.5952 - accuracy: 0.7866 - val_loss: 2.2268 - val_accuracy: 0.4433\n",
      "Epoch 946/1000\n",
      "70/70 [==============================] - 0s 1ms/step - loss: 0.5797 - accuracy: 0.7915 - val_loss: 2.2380 - val_accuracy: 0.4400\n",
      "Epoch 947/1000\n",
      "70/70 [==============================] - 0s 1ms/step - loss: 0.6172 - accuracy: 0.7741 - val_loss: 2.2443 - val_accuracy: 0.4500\n",
      "Epoch 948/1000\n",
      "70/70 [==============================] - 0s 1ms/step - loss: 0.6297 - accuracy: 0.7706 - val_loss: 2.2443 - val_accuracy: 0.4467\n",
      "Epoch 949/1000\n",
      "70/70 [==============================] - 0s 1ms/step - loss: 0.6025 - accuracy: 0.7790 - val_loss: 2.2315 - val_accuracy: 0.4333\n",
      "Epoch 950/1000\n",
      "70/70 [==============================] - 0s 1ms/step - loss: 0.5797 - accuracy: 0.7866 - val_loss: 2.2448 - val_accuracy: 0.4533\n",
      "Epoch 951/1000\n",
      "70/70 [==============================] - 0s 1ms/step - loss: 0.5810 - accuracy: 0.7759 - val_loss: 2.2447 - val_accuracy: 0.4500\n",
      "Epoch 952/1000\n",
      "70/70 [==============================] - 0s 1ms/step - loss: 0.6079 - accuracy: 0.7845 - val_loss: 2.2584 - val_accuracy: 0.4500\n",
      "Epoch 953/1000\n",
      "70/70 [==============================] - 0s 1ms/step - loss: 0.5596 - accuracy: 0.8057 - val_loss: 2.2517 - val_accuracy: 0.4533\n",
      "Epoch 954/1000\n",
      "70/70 [==============================] - 0s 1ms/step - loss: 0.5574 - accuracy: 0.8093 - val_loss: 2.2377 - val_accuracy: 0.4367\n",
      "Epoch 955/1000\n",
      "70/70 [==============================] - 0s 1ms/step - loss: 0.6128 - accuracy: 0.7901 - val_loss: 2.2571 - val_accuracy: 0.4533\n",
      "Epoch 956/1000\n",
      "70/70 [==============================] - 0s 1ms/step - loss: 0.5665 - accuracy: 0.8075 - val_loss: 2.2542 - val_accuracy: 0.4433\n",
      "Epoch 957/1000\n",
      "70/70 [==============================] - 0s 1ms/step - loss: 0.5996 - accuracy: 0.7698 - val_loss: 2.2491 - val_accuracy: 0.4433\n",
      "Epoch 958/1000\n",
      "70/70 [==============================] - 0s 1ms/step - loss: 0.5795 - accuracy: 0.7842 - val_loss: 2.2560 - val_accuracy: 0.4500\n",
      "Epoch 959/1000\n",
      "70/70 [==============================] - 0s 1ms/step - loss: 0.6015 - accuracy: 0.7823 - val_loss: 2.2585 - val_accuracy: 0.4433\n",
      "Epoch 960/1000\n",
      "70/70 [==============================] - 0s 1ms/step - loss: 0.6251 - accuracy: 0.7652 - val_loss: 2.2774 - val_accuracy: 0.4433\n",
      "Epoch 961/1000\n",
      "70/70 [==============================] - 0s 1ms/step - loss: 0.5808 - accuracy: 0.7856 - val_loss: 2.2511 - val_accuracy: 0.4467\n",
      "Epoch 962/1000\n",
      "70/70 [==============================] - 0s 1ms/step - loss: 0.5884 - accuracy: 0.7874 - val_loss: 2.2625 - val_accuracy: 0.4500\n",
      "Epoch 963/1000\n",
      "70/70 [==============================] - 0s 1ms/step - loss: 0.5966 - accuracy: 0.7741 - val_loss: 2.2752 - val_accuracy: 0.4400\n",
      "Epoch 964/1000\n",
      "70/70 [==============================] - 0s 1ms/step - loss: 0.6439 - accuracy: 0.7591 - val_loss: 2.2519 - val_accuracy: 0.4467\n",
      "Epoch 965/1000\n",
      "70/70 [==============================] - 0s 1ms/step - loss: 0.6161 - accuracy: 0.7667 - val_loss: 2.2510 - val_accuracy: 0.4433\n",
      "Epoch 966/1000\n",
      "70/70 [==============================] - 0s 1ms/step - loss: 0.5448 - accuracy: 0.8107 - val_loss: 2.2396 - val_accuracy: 0.4400\n",
      "Epoch 967/1000\n",
      "70/70 [==============================] - 0s 1ms/step - loss: 0.5672 - accuracy: 0.7788 - val_loss: 2.2552 - val_accuracy: 0.4433\n"
     ]
    },
    {
     "name": "stdout",
     "output_type": "stream",
     "text": [
      "Epoch 968/1000\n",
      "70/70 [==============================] - 0s 1ms/step - loss: 0.5715 - accuracy: 0.7931 - val_loss: 2.2678 - val_accuracy: 0.4433\n",
      "Epoch 969/1000\n",
      "70/70 [==============================] - 0s 1ms/step - loss: 0.5700 - accuracy: 0.7971 - val_loss: 2.2495 - val_accuracy: 0.4433\n",
      "Epoch 970/1000\n",
      "70/70 [==============================] - 0s 1ms/step - loss: 0.5516 - accuracy: 0.8116 - val_loss: 2.2637 - val_accuracy: 0.4367\n",
      "Epoch 971/1000\n",
      "70/70 [==============================] - 0s 1ms/step - loss: 0.6149 - accuracy: 0.7463 - val_loss: 2.2577 - val_accuracy: 0.4367\n",
      "Epoch 972/1000\n",
      "70/70 [==============================] - 0s 1ms/step - loss: 0.5902 - accuracy: 0.7922 - val_loss: 2.2708 - val_accuracy: 0.4433\n",
      "Epoch 973/1000\n",
      "70/70 [==============================] - 0s 1ms/step - loss: 0.5963 - accuracy: 0.7909 - val_loss: 2.2630 - val_accuracy: 0.4367\n",
      "Epoch 974/1000\n",
      "70/70 [==============================] - 0s 1ms/step - loss: 0.5528 - accuracy: 0.8009 - val_loss: 2.2547 - val_accuracy: 0.4400\n",
      "Epoch 975/1000\n",
      "70/70 [==============================] - 0s 1ms/step - loss: 0.5680 - accuracy: 0.7987 - val_loss: 2.2675 - val_accuracy: 0.4300\n",
      "Epoch 976/1000\n",
      "70/70 [==============================] - 0s 1ms/step - loss: 0.5547 - accuracy: 0.8138 - val_loss: 2.2669 - val_accuracy: 0.4433\n",
      "Epoch 977/1000\n",
      "70/70 [==============================] - 0s 1ms/step - loss: 0.5564 - accuracy: 0.8113 - val_loss: 2.2804 - val_accuracy: 0.4400\n",
      "Epoch 978/1000\n",
      "70/70 [==============================] - 0s 1ms/step - loss: 0.5809 - accuracy: 0.7796 - val_loss: 2.2805 - val_accuracy: 0.4400\n",
      "Epoch 979/1000\n",
      "70/70 [==============================] - 0s 1ms/step - loss: 0.5859 - accuracy: 0.7843 - val_loss: 2.2801 - val_accuracy: 0.4433\n",
      "Epoch 980/1000\n",
      "70/70 [==============================] - 0s 1ms/step - loss: 0.5848 - accuracy: 0.7867 - val_loss: 2.2637 - val_accuracy: 0.4367\n",
      "Epoch 981/1000\n",
      "70/70 [==============================] - 0s 1ms/step - loss: 0.5873 - accuracy: 0.7900 - val_loss: 2.2763 - val_accuracy: 0.4367\n",
      "Epoch 982/1000\n",
      "70/70 [==============================] - 0s 1ms/step - loss: 0.6019 - accuracy: 0.7698 - val_loss: 2.2652 - val_accuracy: 0.4500\n",
      "Epoch 983/1000\n",
      "70/70 [==============================] - 0s 1ms/step - loss: 0.5408 - accuracy: 0.7997 - val_loss: 2.2855 - val_accuracy: 0.4400\n",
      "Epoch 984/1000\n",
      "70/70 [==============================] - 0s 1ms/step - loss: 0.5641 - accuracy: 0.7973 - val_loss: 2.2846 - val_accuracy: 0.4400\n",
      "Epoch 985/1000\n",
      "70/70 [==============================] - 0s 1ms/step - loss: 0.6367 - accuracy: 0.7773 - val_loss: 2.2770 - val_accuracy: 0.4500\n",
      "Epoch 986/1000\n",
      "70/70 [==============================] - 0s 1ms/step - loss: 0.5967 - accuracy: 0.7749 - val_loss: 2.2791 - val_accuracy: 0.4333\n",
      "Epoch 987/1000\n",
      "70/70 [==============================] - 0s 1ms/step - loss: 0.5770 - accuracy: 0.7857 - val_loss: 2.2836 - val_accuracy: 0.4367\n",
      "Epoch 988/1000\n",
      "70/70 [==============================] - 0s 1ms/step - loss: 0.5499 - accuracy: 0.8069 - val_loss: 2.2808 - val_accuracy: 0.4233\n",
      "Epoch 989/1000\n",
      "70/70 [==============================] - 0s 1ms/step - loss: 0.5756 - accuracy: 0.7945 - val_loss: 2.2893 - val_accuracy: 0.4333\n",
      "Epoch 990/1000\n",
      "70/70 [==============================] - 0s 1ms/step - loss: 0.6362 - accuracy: 0.7761 - val_loss: 2.2968 - val_accuracy: 0.4333\n",
      "Epoch 991/1000\n",
      "70/70 [==============================] - 0s 1ms/step - loss: 0.6262 - accuracy: 0.7782 - val_loss: 2.2903 - val_accuracy: 0.4367\n",
      "Epoch 992/1000\n",
      "70/70 [==============================] - 0s 1ms/step - loss: 0.5457 - accuracy: 0.7940 - val_loss: 2.2945 - val_accuracy: 0.4400\n",
      "Epoch 993/1000\n",
      "70/70 [==============================] - 0s 1ms/step - loss: 0.5727 - accuracy: 0.8018 - val_loss: 2.2954 - val_accuracy: 0.4333\n",
      "Epoch 994/1000\n",
      "70/70 [==============================] - 0s 1ms/step - loss: 0.5577 - accuracy: 0.7989 - val_loss: 2.2913 - val_accuracy: 0.4200\n",
      "Epoch 995/1000\n",
      "70/70 [==============================] - 0s 1ms/step - loss: 0.5674 - accuracy: 0.7963 - val_loss: 2.2906 - val_accuracy: 0.4367\n",
      "Epoch 996/1000\n",
      "70/70 [==============================] - 0s 1ms/step - loss: 0.5568 - accuracy: 0.7982 - val_loss: 2.3145 - val_accuracy: 0.4400\n",
      "Epoch 997/1000\n",
      "70/70 [==============================] - 0s 1ms/step - loss: 0.6244 - accuracy: 0.7834 - val_loss: 2.2850 - val_accuracy: 0.4467\n",
      "Epoch 998/1000\n",
      "70/70 [==============================] - 0s 1ms/step - loss: 0.5930 - accuracy: 0.7870 - val_loss: 2.2933 - val_accuracy: 0.4433\n",
      "Epoch 999/1000\n",
      "70/70 [==============================] - 0s 1ms/step - loss: 0.5675 - accuracy: 0.7885 - val_loss: 2.2997 - val_accuracy: 0.4433\n",
      "Epoch 1000/1000\n",
      "70/70 [==============================] - 0s 1ms/step - loss: 0.5555 - accuracy: 0.8197 - val_loss: 2.2938 - val_accuracy: 0.4400\n"
     ]
    }
   ],
   "source": [
    "# 2. 모델 구성하기\n",
    "model = Sequential()\n",
    "model.add(Dense(units=2, input_dim=784, activation=\"relu\"))\n",
    "model.add(Dense(units=10, activation=\"softmax\"))\n",
    "\n",
    "# 3. 모델 학습과정 설정\n",
    "model.compile(loss=\"categorical_crossentropy\", optimizer=\"sgd\", metrics=['accuracy'])\n",
    "\n",
    "# 4. 모델 학습시키기\n",
    "hist = model.fit(X_train, Y_train, epochs=1000, batch_size=10, \n",
    "                validation_data=(X_val, Y_val))"
   ]
  },
  {
   "cell_type": "code",
   "execution_count": 23,
   "metadata": {
    "ExecuteTime": {
     "end_time": "2021-03-24T00:28:18.714728Z",
     "start_time": "2021-03-24T00:28:18.709761Z"
    }
   },
   "outputs": [
    {
     "data": {
      "text/plain": [
       "dict_keys(['loss', 'accuracy', 'val_loss', 'val_accuracy'])"
      ]
     },
     "execution_count": 23,
     "metadata": {},
     "output_type": "execute_result"
    }
   ],
   "source": [
    "# 5. 모델학습과정 표시하고 평가하기\n",
    "hist.history.keys()"
   ]
  },
  {
   "cell_type": "code",
   "execution_count": 24,
   "metadata": {
    "ExecuteTime": {
     "end_time": "2021-03-24T00:28:19.110123Z",
     "start_time": "2021-03-24T00:28:18.719734Z"
    }
   },
   "outputs": [
    {
     "data": {
      "text/plain": [
       "<matplotlib.legend.Legend at 0x1e18e7825e0>"
      ]
     },
     "execution_count": 24,
     "metadata": {},
     "output_type": "execute_result"
    },
    {
     "data": {
      "image/png": "[encoded data removed]",
      "text/plain": [
       "<Figure size 432x288 with 2 Axes>"
      ]
     },
     "metadata": {
      "needs_background": "light"
     },
     "output_type": "display_data"
    }
   ],
   "source": [
    "# 학습과정 표시하기\n",
    "fig, loss_ax = plt.subplots()\n",
    "loss_ax.plot(hist.history['loss'], 'y', label=\"train loss\")\n",
    "loss_ax.plot(hist.history['val_loss'], 'g', label=\"val loss\")\n",
    "loss_ax.set_xlabel(\"epochs\")\n",
    "loss_ax.set_ylabel(\"loss\")\n",
    "\n",
    "acc_ax = loss_ax.twinx() # x축 공유하는 acc_ax\n",
    "acc_ax.plot(hist.history['accuracy'], 'b', label=\"train accuracy\")\n",
    "acc_ax.plot(hist.history['val_accuracy'], 'r', label=\"val accuracy\")\n",
    "acc_ax.set_ylabel(\"accuracy\")\n",
    "\n",
    "loss_ax.legend(loc=\"upper left\")\n",
    "acc_ax.legend(loc=\"lower left\")"
   ]
  },
  {
   "cell_type": "code",
   "execution_count": 25,
   "metadata": {
    "ExecuteTime": {
     "end_time": "2021-03-24T00:28:19.573221Z",
     "start_time": "2021-03-24T00:28:19.112119Z"
    }
   },
   "outputs": [
    {
     "name": "stdout",
     "output_type": "stream",
     "text": [
      "313/313 [==============================] - 0s 936us/step - loss: 2.3174 - accuracy: 0.4540\n"
     ]
    }
   ],
   "source": [
    "# 모델 평가하기\n",
    "loss_and_metrics = model.evaluate(X_test, Y_test, batch_size=32)"
   ]
  },
  {
   "cell_type": "code",
   "execution_count": 26,
   "metadata": {
    "ExecuteTime": {
     "end_time": "2021-03-24T00:28:19.578182Z",
     "start_time": "2021-03-24T00:28:19.574192Z"
    }
   },
   "outputs": [
    {
     "name": "stdout",
     "output_type": "stream",
     "text": [
      "loss : 2.317365884780884\n",
      "accuracy : 0.45399999618530273\n"
     ]
    }
   ],
   "source": [
    "print(\"loss :\", loss_and_metrics[0])\n",
    "print(\"accuracy :\", loss_and_metrics[1])"
   ]
  },
  {
   "cell_type": "code",
   "execution_count": 27,
   "metadata": {
    "ExecuteTime": {
     "end_time": "2021-03-24T00:28:19.862387Z",
     "start_time": "2021-03-24T00:28:19.579179Z"
    }
   },
   "outputs": [],
   "source": [
    "# 6. 모델 저장 및 로드하기\n",
    "model.save(\"model/mnist.h5\")"
   ]
  },
  {
   "cell_type": "code",
   "execution_count": 28,
   "metadata": {
    "ExecuteTime": {
     "end_time": "2021-03-24T00:28:19.870344Z",
     "start_time": "2021-03-24T00:28:19.863371Z"
    }
   },
   "outputs": [
    {
     "name": "stdout",
     "output_type": "stream",
     "text": [
      "Model: \"sequential\"\n",
      "_________________________________________________________________\n",
      "Layer (type)                 Output Shape              Param #   \n",
      "=================================================================\n",
      "dense (Dense)                (None, 2)                 1570      \n",
      "_________________________________________________________________\n",
      "dense_1 (Dense)              (None, 10)                30        \n",
      "=================================================================\n",
      "Total params: 1,600\n",
      "Trainable params: 1,600\n",
      "Non-trainable params: 0\n",
      "_________________________________________________________________\n"
     ]
    }
   ],
   "source": [
    "model.summary()"
   ]
  },
  {
   "cell_type": "code",
   "execution_count": 29,
   "metadata": {
    "ExecuteTime": {
     "end_time": "2021-03-24T00:28:20.145533Z",
     "start_time": "2021-03-24T00:28:19.872338Z"
    }
   },
   "outputs": [],
   "source": [
    "from tensorflow.keras.models import load_model\n",
    "model2 = load_model('model/mnist.h5')"
   ]
  },
  {
   "cell_type": "code",
   "execution_count": 30,
   "metadata": {
    "ExecuteTime": {
     "end_time": "2021-03-24T00:28:20.275655Z",
     "start_time": "2021-03-24T00:28:20.145978Z"
    }
   },
   "outputs": [
    {
     "data": {
      "text/plain": [
       "<matplotlib.image.AxesImage at 0x1e18f9e0640>"
      ]
     },
     "execution_count": 30,
     "metadata": {},
     "output_type": "execute_result"
    },
    {
     "data": {
      "image/png": "[encoded data removed]",
      "text/plain": [
       "<Figure size 432x288 with 1 Axes>"
      ]
     },
     "metadata": {
      "needs_background": "light"
     },
     "output_type": "display_data"
    }
   ],
   "source": [
    "plt.imshow(X_val[0].reshape(28,28))"
   ]
  },
  {
   "cell_type": "code",
   "execution_count": 31,
   "metadata": {
    "ExecuteTime": {
     "end_time": "2021-03-24T00:28:20.398868Z",
     "start_time": "2021-03-24T00:28:20.276632Z"
    }
   },
   "outputs": [
    {
     "data": {
      "text/plain": [
       "8"
      ]
     },
     "execution_count": 31,
     "metadata": {},
     "output_type": "execute_result"
    }
   ],
   "source": [
    "result = model2.predict(X_val[0].reshape(1,784))\n",
    "result.argmax()"
   ]
  },
  {
   "cell_type": "code",
   "execution_count": 32,
   "metadata": {
    "ExecuteTime": {
     "end_time": "2021-03-24T00:28:20.406774Z",
     "start_time": "2021-03-24T00:28:20.399806Z"
    }
   },
   "outputs": [
    {
     "data": {
      "text/plain": [
       "7"
      ]
     },
     "execution_count": 32,
     "metadata": {},
     "output_type": "execute_result"
    }
   ],
   "source": [
    "Y_val[0].argmax()"
   ]
  },
  {
   "cell_type": "code",
   "execution_count": 33,
   "metadata": {
    "ExecuteTime": {
     "end_time": "2021-03-24T00:28:20.582975Z",
     "start_time": "2021-03-24T00:28:20.408769Z"
    }
   },
   "outputs": [
    {
     "name": "stderr",
     "output_type": "stream",
     "text": [
      "C:\\Users\\tjoeun\\anaconda3\\lib\\site-packages\\tensorflow\\python\\keras\\engine\\sequential.py:450: UserWarning: `model.predict_classes()` is deprecated and will be removed after 2021-01-01. Please use instead:* `np.argmax(model.predict(x), axis=-1)`,   if your model does multi-class classification   (e.g. if it uses a `softmax` last-layer activation).* `(model.predict(x) > 0.5).astype(\"int32\")`,   if your model does binary classification   (e.g. if it uses a `sigmoid` last-layer activation).\n",
      "  warnings.warn('`model.predict_classes()` is deprecated and '\n"
     ]
    },
    {
     "data": {
      "text/plain": [
       "array([8], dtype=int64)"
      ]
     },
     "execution_count": 33,
     "metadata": {},
     "output_type": "execute_result"
    }
   ],
   "source": [
    "model2.predict_classes(X_val[0].reshape(1,784))"
   ]
  },
  {
   "cell_type": "markdown",
   "metadata": {},
   "source": [
    "## 콜백 함수"
   ]
  },
  {
   "cell_type": "code",
   "execution_count": 34,
   "metadata": {
    "ExecuteTime": {
     "end_time": "2021-03-24T02:25:02.727019Z",
     "start_time": "2021-03-24T02:23:45.746882Z"
    }
   },
   "outputs": [
    {
     "name": "stdout",
     "output_type": "stream",
     "text": [
      "epoch:0, loss:2.246981620788574, val_loss:2.2063801288604736\n",
      "epoch:10, loss:1.7704095840454102, val_loss:1.742183804512024\n",
      "epoch:20, loss:1.536165475845337, val_loss:1.5586752891540527\n",
      "epoch:30, loss:1.392292857170105, val_loss:1.4527093172073364\n",
      "epoch:40, loss:1.2875536680221558, val_loss:1.3847883939743042\n",
      "epoch:50, loss:1.213523507118225, val_loss:1.3379645347595215\n",
      "epoch:60, loss:1.1543753147125244, val_loss:1.3049004077911377\n",
      "epoch:70, loss:1.1041722297668457, val_loss:1.2848036289215088\n",
      "epoch:80, loss:1.0615408420562744, val_loss:1.265627145767212\n",
      "epoch:90, loss:1.025641679763794, val_loss:1.26396644115448\n",
      "epoch:100, loss:0.9967818856239319, val_loss:1.255997896194458\n",
      "epoch:110, loss:0.9654520750045776, val_loss:1.248613953590393\n",
      "epoch:120, loss:0.937047004699707, val_loss:1.2267273664474487\n",
      "epoch:130, loss:0.9191588759422302, val_loss:1.2396568059921265\n",
      "epoch:140, loss:0.8952111005783081, val_loss:1.2282304763793945\n",
      "epoch:150, loss:0.8721347451210022, val_loss:1.2452791929244995\n",
      "epoch:160, loss:0.857246458530426, val_loss:1.246260166168213\n",
      "epoch:170, loss:0.8425285220146179, val_loss:1.2321860790252686\n",
      "epoch:180, loss:0.8259309530258179, val_loss:1.246994972229004\n",
      "epoch:190, loss:0.8138783574104309, val_loss:1.2403301000595093\n",
      "epoch:200, loss:0.7971503734588623, val_loss:1.2622225284576416\n",
      "epoch:210, loss:0.7800769209861755, val_loss:1.2915558815002441\n",
      "epoch:220, loss:0.7732541561126709, val_loss:1.2780078649520874\n",
      "epoch:230, loss:0.7628100514411926, val_loss:1.2794907093048096\n",
      "epoch:240, loss:0.748973548412323, val_loss:1.2983827590942383\n",
      "epoch:250, loss:0.7409524321556091, val_loss:1.3209114074707031\n",
      "epoch:260, loss:0.7297751307487488, val_loss:1.3031538724899292\n",
      "epoch:270, loss:0.7209106683731079, val_loss:1.3217382431030273\n",
      "epoch:280, loss:0.7106280326843262, val_loss:1.3314051628112793\n",
      "epoch:290, loss:0.7023007273674011, val_loss:1.3372621536254883\n",
      "epoch:300, loss:0.6973607540130615, val_loss:1.3407052755355835\n",
      "epoch:310, loss:0.6851093173027039, val_loss:1.3618698120117188\n",
      "epoch:320, loss:0.6824972033500671, val_loss:1.369646430015564\n",
      "epoch:330, loss:0.6716817617416382, val_loss:1.3935633897781372\n",
      "epoch:340, loss:0.6622639298439026, val_loss:1.4051179885864258\n",
      "epoch:350, loss:0.6544503569602966, val_loss:1.4032912254333496\n",
      "epoch:360, loss:0.6507828831672668, val_loss:1.4121659994125366\n",
      "epoch:370, loss:0.642897367477417, val_loss:1.425232172012329\n",
      "epoch:380, loss:0.6354683637619019, val_loss:1.457091212272644\n",
      "epoch:390, loss:0.6258887052536011, val_loss:1.4514094591140747\n",
      "epoch:400, loss:0.6211464405059814, val_loss:1.4762829542160034\n",
      "epoch:410, loss:0.6168984770774841, val_loss:1.4769668579101562\n",
      "epoch:420, loss:0.6125768423080444, val_loss:1.4896037578582764\n",
      "epoch:430, loss:0.6060565114021301, val_loss:1.5065404176712036\n",
      "epoch:440, loss:0.5971032381057739, val_loss:1.5197529792785645\n",
      "epoch:450, loss:0.5980592370033264, val_loss:1.5304796695709229\n",
      "epoch:460, loss:0.5862222909927368, val_loss:1.5720168352127075\n",
      "epoch:470, loss:0.5796565413475037, val_loss:1.561625599861145\n",
      "epoch:480, loss:0.5763534903526306, val_loss:1.5879021883010864\n",
      "epoch:490, loss:0.569194495677948, val_loss:1.5982900857925415\n",
      "epoch:500, loss:0.5665146112442017, val_loss:1.6183054447174072\n",
      "epoch:510, loss:0.5649965405464172, val_loss:1.6166852712631226\n",
      "epoch:520, loss:0.5613498687744141, val_loss:1.6440037488937378\n",
      "epoch:530, loss:0.5482102036476135, val_loss:1.6520216464996338\n",
      "epoch:540, loss:0.5509873032569885, val_loss:1.6581045389175415\n",
      "epoch:550, loss:0.5422842502593994, val_loss:1.6745444536209106\n",
      "epoch:560, loss:0.5387914776802063, val_loss:1.703681468963623\n",
      "epoch:570, loss:0.5344401597976685, val_loss:1.7199729681015015\n",
      "epoch:580, loss:0.5283629894256592, val_loss:1.759053349494934\n",
      "epoch:590, loss:0.5241265296936035, val_loss:1.7552636861801147\n",
      "epoch:600, loss:0.5170506238937378, val_loss:1.7508916854858398\n",
      "epoch:610, loss:0.5147929787635803, val_loss:1.774253487586975\n",
      "epoch:620, loss:0.5098093748092651, val_loss:1.7923589944839478\n",
      "epoch:630, loss:0.5053948163986206, val_loss:1.8368902206420898\n",
      "epoch:640, loss:0.5026987195014954, val_loss:1.8432568311691284\n",
      "epoch:650, loss:0.49820348620414734, val_loss:1.8684744834899902\n",
      "epoch:660, loss:0.49282798171043396, val_loss:1.8903206586837769\n",
      "epoch:670, loss:0.48967787623405457, val_loss:1.9009292125701904\n",
      "epoch:680, loss:0.48594149947166443, val_loss:1.9159315824508667\n",
      "epoch:690, loss:0.47904640436172485, val_loss:1.9420627355575562\n",
      "epoch:700, loss:0.4754258394241333, val_loss:1.9721863269805908\n",
      "epoch:710, loss:0.4723045229911804, val_loss:1.9881962537765503\n",
      "epoch:720, loss:0.4702952802181244, val_loss:2.015178918838501\n",
      "epoch:730, loss:0.46864306926727295, val_loss:2.013429880142212\n",
      "epoch:740, loss:0.46408769488334656, val_loss:2.0583877563476562\n",
      "epoch:750, loss:0.45880115032196045, val_loss:2.066688299179077\n",
      "epoch:760, loss:0.45411786437034607, val_loss:2.0686702728271484\n",
      "epoch:770, loss:0.45020484924316406, val_loss:2.0881078243255615\n",
      "epoch:780, loss:0.4471193552017212, val_loss:2.0992400646209717\n",
      "epoch:790, loss:0.44484326243400574, val_loss:2.1609675884246826\n",
      "epoch:800, loss:0.4400709271430969, val_loss:2.192784070968628\n",
      "epoch:810, loss:0.4356420040130615, val_loss:2.180896043777466\n",
      "epoch:820, loss:0.4341870844364166, val_loss:2.205266237258911\n",
      "epoch:830, loss:0.432144433259964, val_loss:2.256222724914551\n",
      "epoch:840, loss:0.43023499846458435, val_loss:2.248117446899414\n",
      "epoch:850, loss:0.42571157217025757, val_loss:2.2744548320770264\n",
      "epoch:860, loss:0.42422524094581604, val_loss:2.284360885620117\n",
      "epoch:870, loss:0.42123356461524963, val_loss:2.2961974143981934\n",
      "epoch:880, loss:0.4160572588443756, val_loss:2.319591760635376\n",
      "epoch:890, loss:0.41465890407562256, val_loss:2.333575963973999\n",
      "epoch:900, loss:0.4078787565231323, val_loss:2.377575397491455\n",
      "epoch:910, loss:0.4050562381744385, val_loss:2.3883845806121826\n",
      "epoch:920, loss:0.40348005294799805, val_loss:2.422982692718506\n",
      "epoch:930, loss:0.4009672701358795, val_loss:2.4036760330200195\n",
      "epoch:940, loss:0.4020703136920929, val_loss:2.387205123901367\n",
      "epoch:950, loss:0.3982296884059906, val_loss:2.4674746990203857\n",
      "epoch:960, loss:0.3964889645576477, val_loss:2.4740915298461914\n",
      "epoch:970, loss:0.39364537596702576, val_loss:2.47658634185791\n",
      "epoch:980, loss:0.38938137888908386, val_loss:2.5228710174560547\n",
      "epoch:990, loss:0.3896849751472473, val_loss:2.4964799880981445\n"
     ]
    }
   ],
   "source": [
    "import tensorflow as tf\n",
    "np.random.seed(3)\n",
    "class CustomHistory(tf.keras.callbacks.Callback):\n",
    "    def __init__(self):\n",
    "        self.epoch = 0\n",
    "        self.train_loss = []\n",
    "        self.val_loss = []\n",
    "        self.train_acc = []\n",
    "        self.val_acc = []\n",
    "    def on_epoch_end(self, batch, logs={}):\n",
    "        self.train_loss.append(logs.get('loss'))\n",
    "        self.val_loss.append(logs.get('val_loss'))\n",
    "        self.train_acc.append(logs.get('accuracy'))\n",
    "        self.val_acc.append(logs.get('val_accuracy'))\n",
    "        if self.epoch % 10 == 0:\n",
    "            print(\"epoch:{}, loss:{}, val_loss:{}\".format(self.epoch, \n",
    "                                            logs.get('loss'), logs.get('val_loss')))\n",
    "        self.epoch += 1\n",
    "# 1. 데이터 셋\n",
    "# 훈련셋, 검증 셋 분리\n",
    "(X_train, Y_train), (X_test, Y_test) = mnist.load_data()\n",
    "# 훈련셋과 검증셋 분리(X_train, Y_train을 검증셋과 훈련셋으로 분리)\n",
    "X_val = X_train[50000:]\n",
    "Y_val = Y_train[50000:]\n",
    "X_train = X_train[:50000]\n",
    "Y_train = Y_train[:50000]\n",
    "# normalize 하기 위해 색상값으로 나눠\n",
    "X_train = X_train.reshape(50000,784).astype('float32') / 255.0\n",
    "X_val   = X_val.reshape(10000,784).astype('float32')/255.0\n",
    "X_test = X_test.reshape(10000,784).astype('float32')/255.0\n",
    "# 훈련셋과 검증셋 700개, 300개씩만 가져옴\n",
    "train_rand_idxs = np.random.choice(50000,700)\n",
    "val_rand_idxs   = np.random.choice(10000,300)\n",
    "X_train = X_train[train_rand_idxs]\n",
    "Y_train = Y_train[train_rand_idxs]\n",
    "X_val = X_val[val_rand_idxs]\n",
    "Y_val = Y_val[val_rand_idxs]\n",
    "# 원 핫 인코딩 = 라벨링 전환 \n",
    "Y_train = utils.to_categorical(Y_train)\n",
    "Y_val   = utils.to_categorical(Y_val)\n",
    "Y_test  = utils.to_categorical(Y_test)\n",
    "\n",
    "# 2. 모델 구성하기\n",
    "model = Sequential()\n",
    "model.add(Dense(units=2, input_dim=784, activation=\"relu\"))\n",
    "model.add(Dense(units=10, activation=\"softmax\"))\n",
    "\n",
    "# 3. 모델 학습과정 설정\n",
    "model.compile(loss=\"categorical_crossentropy\", optimizer=\"sgd\", \n",
    "              metrics=['accuracy'])\n",
    "\n",
    "# 4. 모델 학습시키기\n",
    "custom_hist = CustomHistory()\n",
    "hist = model.fit(X_train, Y_train, epochs=1000, batch_size=10, \n",
    "                validation_data=(X_val, Y_val), verbose=0,\n",
    "                callbacks=[custom_hist])\n",
    "    "
   ]
  },
  {
   "cell_type": "markdown",
   "metadata": {},
   "source": [
    "## Early Stopping\n",
    "- val_loss 값이 늘어나면 epoch를 다 수행하지 않고 조기 종료"
   ]
  },
  {
   "cell_type": "code",
   "execution_count": 35,
   "metadata": {
    "ExecuteTime": {
     "end_time": "2021-03-24T02:26:32.784937Z",
     "start_time": "2021-03-24T02:26:18.441642Z"
    }
   },
   "outputs": [
    {
     "name": "stdout",
     "output_type": "stream",
     "text": [
      "Epoch 1/1000\n",
      "70/70 [==============================] - 1s 3ms/step - loss: 2.2886 - accuracy: 0.1369 - val_loss: 2.2460 - val_accuracy: 0.1667\n",
      "Epoch 2/1000\n",
      "70/70 [==============================] - 0s 1ms/step - loss: 2.2240 - accuracy: 0.1818 - val_loss: 2.2160 - val_accuracy: 0.1767\n",
      "Epoch 3/1000\n",
      "70/70 [==============================] - 0s 1ms/step - loss: 2.1894 - accuracy: 0.1793 - val_loss: 2.1920 - val_accuracy: 0.1800\n",
      "Epoch 4/1000\n",
      "70/70 [==============================] - 0s 1ms/step - loss: 2.1991 - accuracy: 0.1770 - val_loss: 2.1639 - val_accuracy: 0.1800\n",
      "Epoch 5/1000\n",
      "70/70 [==============================] - 0s 1ms/step - loss: 2.1483 - accuracy: 0.1901 - val_loss: 2.1128 - val_accuracy: 0.1800\n",
      "Epoch 6/1000\n",
      "70/70 [==============================] - 0s 1ms/step - loss: 2.0931 - accuracy: 0.1920 - val_loss: 2.0793 - val_accuracy: 0.2267\n",
      "Epoch 7/1000\n",
      "70/70 [==============================] - 0s 1ms/step - loss: 2.0630 - accuracy: 0.2823 - val_loss: 2.0496 - val_accuracy: 0.2333\n",
      "Epoch 8/1000\n",
      "70/70 [==============================] - 0s 1ms/step - loss: 2.0245 - accuracy: 0.2460 - val_loss: 2.0214 - val_accuracy: 0.2333\n",
      "Epoch 9/1000\n",
      "70/70 [==============================] - 0s 1ms/step - loss: 1.9425 - accuracy: 0.2721 - val_loss: 1.9985 - val_accuracy: 0.2433\n",
      "Epoch 10/1000\n",
      "70/70 [==============================] - 0s 1ms/step - loss: 1.9286 - accuracy: 0.2938 - val_loss: 1.9757 - val_accuracy: 0.2467\n",
      "Epoch 11/1000\n",
      "70/70 [==============================] - 0s 1ms/step - loss: 1.9248 - accuracy: 0.2678 - val_loss: 1.9535 - val_accuracy: 0.2567\n",
      "Epoch 12/1000\n",
      "70/70 [==============================] - 0s 1ms/step - loss: 1.8531 - accuracy: 0.3177 - val_loss: 1.9338 - val_accuracy: 0.2633\n",
      "Epoch 13/1000\n",
      "70/70 [==============================] - 0s 1ms/step - loss: 1.8674 - accuracy: 0.3167 - val_loss: 1.9168 - val_accuracy: 0.2600\n",
      "Epoch 14/1000\n",
      "70/70 [==============================] - 0s 1ms/step - loss: 1.8327 - accuracy: 0.2991 - val_loss: 1.9016 - val_accuracy: 0.2700\n",
      "Epoch 15/1000\n",
      "70/70 [==============================] - 0s 1ms/step - loss: 1.8057 - accuracy: 0.3098 - val_loss: 1.8886 - val_accuracy: 0.2733\n",
      "Epoch 16/1000\n",
      "70/70 [==============================] - 0s 1ms/step - loss: 1.8086 - accuracy: 0.3262 - val_loss: 1.8780 - val_accuracy: 0.2933\n",
      "Epoch 17/1000\n",
      "70/70 [==============================] - 0s 1ms/step - loss: 1.7829 - accuracy: 0.3213 - val_loss: 1.8626 - val_accuracy: 0.2800\n",
      "Epoch 18/1000\n",
      "70/70 [==============================] - 0s 1ms/step - loss: 1.7464 - accuracy: 0.3506 - val_loss: 1.8533 - val_accuracy: 0.2967\n",
      "Epoch 19/1000\n",
      "70/70 [==============================] - 0s 1ms/step - loss: 1.7368 - accuracy: 0.3488 - val_loss: 1.8403 - val_accuracy: 0.2967\n",
      "Epoch 20/1000\n",
      "70/70 [==============================] - 0s 1ms/step - loss: 1.7146 - accuracy: 0.3349 - val_loss: 1.8306 - val_accuracy: 0.2933\n",
      "Epoch 21/1000\n",
      "70/70 [==============================] - 0s 1ms/step - loss: 1.6782 - accuracy: 0.3649 - val_loss: 1.8212 - val_accuracy: 0.3100\n",
      "Epoch 22/1000\n",
      "70/70 [==============================] - 0s 1ms/step - loss: 1.6929 - accuracy: 0.3091 - val_loss: 1.8102 - val_accuracy: 0.3200\n",
      "Epoch 23/1000\n",
      "70/70 [==============================] - 0s 1ms/step - loss: 1.6563 - accuracy: 0.3893 - val_loss: 1.8048 - val_accuracy: 0.3167\n",
      "Epoch 24/1000\n",
      "70/70 [==============================] - 0s 1ms/step - loss: 1.6571 - accuracy: 0.4018 - val_loss: 1.7923 - val_accuracy: 0.3300\n",
      "Epoch 25/1000\n",
      "70/70 [==============================] - 0s 1ms/step - loss: 1.6593 - accuracy: 0.3752 - val_loss: 1.7858 - val_accuracy: 0.3267\n",
      "Epoch 26/1000\n",
      "70/70 [==============================] - 0s 1ms/step - loss: 1.6700 - accuracy: 0.3500 - val_loss: 1.7847 - val_accuracy: 0.3100\n",
      "Epoch 27/1000\n",
      "70/70 [==============================] - 0s 1ms/step - loss: 1.6698 - accuracy: 0.3598 - val_loss: 1.7738 - val_accuracy: 0.3300\n",
      "Epoch 28/1000\n",
      "70/70 [==============================] - 0s 1ms/step - loss: 1.6429 - accuracy: 0.3882 - val_loss: 1.7651 - val_accuracy: 0.3300\n",
      "Epoch 29/1000\n",
      "70/70 [==============================] - 0s 1ms/step - loss: 1.5992 - accuracy: 0.4058 - val_loss: 1.7584 - val_accuracy: 0.3200\n",
      "Epoch 30/1000\n",
      "70/70 [==============================] - 0s 1ms/step - loss: 1.6449 - accuracy: 0.3835 - val_loss: 1.7559 - val_accuracy: 0.3167\n",
      "Epoch 31/1000\n",
      "70/70 [==============================] - 0s 1ms/step - loss: 1.6014 - accuracy: 0.3702 - val_loss: 1.7457 - val_accuracy: 0.3367\n",
      "Epoch 32/1000\n",
      "70/70 [==============================] - 0s 1ms/step - loss: 1.5992 - accuracy: 0.4022 - val_loss: 1.7380 - val_accuracy: 0.3467\n",
      "Epoch 33/1000\n",
      "70/70 [==============================] - 0s 1ms/step - loss: 1.5842 - accuracy: 0.4044 - val_loss: 1.7347 - val_accuracy: 0.3167\n",
      "Epoch 34/1000\n",
      "70/70 [==============================] - 0s 1ms/step - loss: 1.5478 - accuracy: 0.4390 - val_loss: 1.7319 - val_accuracy: 0.3233\n",
      "Epoch 35/1000\n",
      "70/70 [==============================] - 0s 1ms/step - loss: 1.5576 - accuracy: 0.4183 - val_loss: 1.7194 - val_accuracy: 0.3433\n",
      "Epoch 36/1000\n",
      "70/70 [==============================] - 0s 1ms/step - loss: 1.5111 - accuracy: 0.4159 - val_loss: 1.7194 - val_accuracy: 0.3267\n",
      "Epoch 37/1000\n",
      "70/70 [==============================] - 0s 1ms/step - loss: 1.5613 - accuracy: 0.4189 - val_loss: 1.7079 - val_accuracy: 0.3467\n",
      "Epoch 38/1000\n",
      "70/70 [==============================] - 0s 1ms/step - loss: 1.5390 - accuracy: 0.4025 - val_loss: 1.7069 - val_accuracy: 0.3367\n",
      "Epoch 39/1000\n",
      "70/70 [==============================] - 0s 1ms/step - loss: 1.5704 - accuracy: 0.4058 - val_loss: 1.7015 - val_accuracy: 0.3433\n",
      "Epoch 40/1000\n",
      "70/70 [==============================] - 0s 1ms/step - loss: 1.5191 - accuracy: 0.4565 - val_loss: 1.7010 - val_accuracy: 0.3367\n",
      "Epoch 41/1000\n",
      "70/70 [==============================] - 0s 1ms/step - loss: 1.4944 - accuracy: 0.4395 - val_loss: 1.6865 - val_accuracy: 0.3400\n",
      "Epoch 42/1000\n",
      "70/70 [==============================] - 0s 1ms/step - loss: 1.4464 - accuracy: 0.4785 - val_loss: 1.6829 - val_accuracy: 0.3467\n",
      "Epoch 43/1000\n",
      "70/70 [==============================] - 0s 1ms/step - loss: 1.5161 - accuracy: 0.4405 - val_loss: 1.6854 - val_accuracy: 0.3400\n",
      "Epoch 44/1000\n",
      "70/70 [==============================] - 0s 1ms/step - loss: 1.4539 - accuracy: 0.4673 - val_loss: 1.6761 - val_accuracy: 0.3467\n",
      "Epoch 45/1000\n",
      "70/70 [==============================] - 0s 1ms/step - loss: 1.4658 - accuracy: 0.4673 - val_loss: 1.6742 - val_accuracy: 0.3333\n",
      "Epoch 46/1000\n",
      "70/70 [==============================] - 0s 1ms/step - loss: 1.4614 - accuracy: 0.4581 - val_loss: 1.6690 - val_accuracy: 0.3433\n",
      "Epoch 47/1000\n",
      "70/70 [==============================] - 0s 1ms/step - loss: 1.4473 - accuracy: 0.4758 - val_loss: 1.6641 - val_accuracy: 0.3400\n",
      "Epoch 48/1000\n",
      "70/70 [==============================] - 0s 1ms/step - loss: 1.4324 - accuracy: 0.4820 - val_loss: 1.6582 - val_accuracy: 0.3400\n",
      "Epoch 49/1000\n",
      "70/70 [==============================] - 0s 1ms/step - loss: 1.4316 - accuracy: 0.4686 - val_loss: 1.6586 - val_accuracy: 0.3400\n",
      "Epoch 50/1000\n",
      "70/70 [==============================] - 0s 1ms/step - loss: 1.4892 - accuracy: 0.4426 - val_loss: 1.6550 - val_accuracy: 0.3467\n",
      "Epoch 51/1000\n",
      "70/70 [==============================] - 0s 1ms/step - loss: 1.4510 - accuracy: 0.4956 - val_loss: 1.6503 - val_accuracy: 0.3567\n",
      "Epoch 52/1000\n",
      "70/70 [==============================] - 0s 1ms/step - loss: 1.4374 - accuracy: 0.4982 - val_loss: 1.6513 - val_accuracy: 0.3633\n",
      "Epoch 53/1000\n",
      "70/70 [==============================] - 0s 1ms/step - loss: 1.4387 - accuracy: 0.5029 - val_loss: 1.6472 - val_accuracy: 0.3433\n",
      "Epoch 54/1000\n",
      "70/70 [==============================] - 0s 1ms/step - loss: 1.4292 - accuracy: 0.4986 - val_loss: 1.6452 - val_accuracy: 0.3533\n",
      "Epoch 55/1000\n",
      "70/70 [==============================] - 0s 1ms/step - loss: 1.4641 - accuracy: 0.4690 - val_loss: 1.6461 - val_accuracy: 0.3600\n",
      "Epoch 56/1000\n",
      "70/70 [==============================] - 0s 1ms/step - loss: 1.4286 - accuracy: 0.4687 - val_loss: 1.6441 - val_accuracy: 0.3600\n",
      "Epoch 57/1000\n",
      "70/70 [==============================] - 0s 1ms/step - loss: 1.4336 - accuracy: 0.4984 - val_loss: 1.6350 - val_accuracy: 0.3733\n",
      "Epoch 58/1000\n"
     ]
    },
    {
     "name": "stdout",
     "output_type": "stream",
     "text": [
      "70/70 [==============================] - 0s 1ms/step - loss: 1.4362 - accuracy: 0.4951 - val_loss: 1.6358 - val_accuracy: 0.3600\n",
      "Epoch 59/1000\n",
      "70/70 [==============================] - 0s 1ms/step - loss: 1.4083 - accuracy: 0.4916 - val_loss: 1.6345 - val_accuracy: 0.3667\n",
      "Epoch 60/1000\n",
      "70/70 [==============================] - 0s 1ms/step - loss: 1.4154 - accuracy: 0.4832 - val_loss: 1.6268 - val_accuracy: 0.3833\n",
      "Epoch 61/1000\n",
      "70/70 [==============================] - 0s 1ms/step - loss: 1.4130 - accuracy: 0.4928 - val_loss: 1.6268 - val_accuracy: 0.3867\n",
      "Epoch 62/1000\n",
      "70/70 [==============================] - 0s 1ms/step - loss: 1.3694 - accuracy: 0.5019 - val_loss: 1.6292 - val_accuracy: 0.3700\n",
      "Epoch 63/1000\n",
      "70/70 [==============================] - 0s 1ms/step - loss: 1.3893 - accuracy: 0.5123 - val_loss: 1.6225 - val_accuracy: 0.3967\n",
      "Epoch 64/1000\n",
      "70/70 [==============================] - 0s 1ms/step - loss: 1.3870 - accuracy: 0.4785 - val_loss: 1.6227 - val_accuracy: 0.3767\n",
      "Epoch 65/1000\n",
      "70/70 [==============================] - 0s 1ms/step - loss: 1.3811 - accuracy: 0.5159 - val_loss: 1.6202 - val_accuracy: 0.3767\n",
      "Epoch 66/1000\n",
      "70/70 [==============================] - 0s 1ms/step - loss: 1.4063 - accuracy: 0.4985 - val_loss: 1.6208 - val_accuracy: 0.4000\n",
      "Epoch 67/1000\n",
      "70/70 [==============================] - 0s 1ms/step - loss: 1.3597 - accuracy: 0.5202 - val_loss: 1.6200 - val_accuracy: 0.3800\n",
      "Epoch 68/1000\n",
      "70/70 [==============================] - 0s 1ms/step - loss: 1.3619 - accuracy: 0.5358 - val_loss: 1.6159 - val_accuracy: 0.3867\n",
      "Epoch 69/1000\n",
      "70/70 [==============================] - 0s 1ms/step - loss: 1.3581 - accuracy: 0.5154 - val_loss: 1.6115 - val_accuracy: 0.4033\n",
      "Epoch 70/1000\n",
      "70/70 [==============================] - 0s 1ms/step - loss: 1.3438 - accuracy: 0.5358 - val_loss: 1.6122 - val_accuracy: 0.4100\n",
      "Epoch 71/1000\n",
      "70/70 [==============================] - 0s 1ms/step - loss: 1.3064 - accuracy: 0.5687 - val_loss: 1.6111 - val_accuracy: 0.3933\n",
      "Epoch 72/1000\n",
      "70/70 [==============================] - 0s 1ms/step - loss: 1.3618 - accuracy: 0.5204 - val_loss: 1.6096 - val_accuracy: 0.3867\n",
      "Epoch 73/1000\n",
      "70/70 [==============================] - 0s 1ms/step - loss: 1.3285 - accuracy: 0.4873 - val_loss: 1.6091 - val_accuracy: 0.3967\n",
      "Epoch 74/1000\n",
      "70/70 [==============================] - 0s 1ms/step - loss: 1.3087 - accuracy: 0.5426 - val_loss: 1.6055 - val_accuracy: 0.4000\n",
      "Epoch 75/1000\n",
      "70/70 [==============================] - 0s 1ms/step - loss: 1.3244 - accuracy: 0.5360 - val_loss: 1.6055 - val_accuracy: 0.3900\n",
      "Epoch 76/1000\n",
      "70/70 [==============================] - 0s 1ms/step - loss: 1.2843 - accuracy: 0.5424 - val_loss: 1.6058 - val_accuracy: 0.3967\n",
      "Epoch 77/1000\n",
      "70/70 [==============================] - 0s 1ms/step - loss: 1.2779 - accuracy: 0.5417 - val_loss: 1.6026 - val_accuracy: 0.3867\n",
      "Epoch 78/1000\n",
      "70/70 [==============================] - 0s 1ms/step - loss: 1.3440 - accuracy: 0.5115 - val_loss: 1.6007 - val_accuracy: 0.4033\n",
      "Epoch 79/1000\n",
      "70/70 [==============================] - 0s 1ms/step - loss: 1.2739 - accuracy: 0.5395 - val_loss: 1.5986 - val_accuracy: 0.4067\n",
      "Epoch 80/1000\n",
      "70/70 [==============================] - 0s 1ms/step - loss: 1.2676 - accuracy: 0.5450 - val_loss: 1.5995 - val_accuracy: 0.4033\n",
      "Epoch 81/1000\n",
      "70/70 [==============================] - 0s 1ms/step - loss: 1.3229 - accuracy: 0.5305 - val_loss: 1.5992 - val_accuracy: 0.4000\n",
      "Epoch 82/1000\n",
      "70/70 [==============================] - 0s 1ms/step - loss: 1.2676 - accuracy: 0.5407 - val_loss: 1.5985 - val_accuracy: 0.4033\n",
      "Epoch 83/1000\n",
      "70/70 [==============================] - 0s 1ms/step - loss: 1.2523 - accuracy: 0.5436 - val_loss: 1.5964 - val_accuracy: 0.3933\n",
      "Epoch 84/1000\n",
      "70/70 [==============================] - 0s 1ms/step - loss: 1.2857 - accuracy: 0.5331 - val_loss: 1.5963 - val_accuracy: 0.3933\n",
      "Epoch 85/1000\n",
      "70/70 [==============================] - 0s 1ms/step - loss: 1.2930 - accuracy: 0.5269 - val_loss: 1.5972 - val_accuracy: 0.3933\n",
      "Epoch 86/1000\n",
      "70/70 [==============================] - 0s 1ms/step - loss: 1.2521 - accuracy: 0.5557 - val_loss: 1.5938 - val_accuracy: 0.4000\n",
      "Epoch 87/1000\n",
      "70/70 [==============================] - 0s 1ms/step - loss: 1.2215 - accuracy: 0.5546 - val_loss: 1.5921 - val_accuracy: 0.3967\n",
      "Epoch 88/1000\n",
      "70/70 [==============================] - 0s 1ms/step - loss: 1.2619 - accuracy: 0.5406 - val_loss: 1.6000 - val_accuracy: 0.3967\n",
      "Epoch 89/1000\n",
      "70/70 [==============================] - 0s 1ms/step - loss: 1.2136 - accuracy: 0.5550 - val_loss: 1.5931 - val_accuracy: 0.3967\n",
      "Epoch 90/1000\n",
      "70/70 [==============================] - 0s 1ms/step - loss: 1.2907 - accuracy: 0.5516 - val_loss: 1.5935 - val_accuracy: 0.3967\n",
      "Epoch 91/1000\n",
      "70/70 [==============================] - 0s 1ms/step - loss: 1.2589 - accuracy: 0.5314 - val_loss: 1.5932 - val_accuracy: 0.3933\n",
      "Epoch 92/1000\n",
      "70/70 [==============================] - 0s 1ms/step - loss: 1.1799 - accuracy: 0.5682 - val_loss: 1.5982 - val_accuracy: 0.4200\n",
      "Epoch 93/1000\n",
      "70/70 [==============================] - 0s 1ms/step - loss: 1.2704 - accuracy: 0.5696 - val_loss: 1.5935 - val_accuracy: 0.4000\n",
      "Epoch 94/1000\n",
      "70/70 [==============================] - 0s 1ms/step - loss: 1.2667 - accuracy: 0.5299 - val_loss: 1.6031 - val_accuracy: 0.4100\n",
      "Epoch 95/1000\n",
      "70/70 [==============================] - 0s 1ms/step - loss: 1.2626 - accuracy: 0.5652 - val_loss: 1.5942 - val_accuracy: 0.3933\n",
      "Epoch 96/1000\n",
      "70/70 [==============================] - 0s 1ms/step - loss: 1.2507 - accuracy: 0.5323 - val_loss: 1.5921 - val_accuracy: 0.3900\n",
      "Epoch 97/1000\n",
      "70/70 [==============================] - 0s 1ms/step - loss: 1.2893 - accuracy: 0.5112 - val_loss: 1.5917 - val_accuracy: 0.3900\n",
      "Epoch 98/1000\n",
      "70/70 [==============================] - 0s 1ms/step - loss: 1.2082 - accuracy: 0.5482 - val_loss: 1.5931 - val_accuracy: 0.4033\n",
      "Epoch 99/1000\n",
      "70/70 [==============================] - 0s 1ms/step - loss: 1.2248 - accuracy: 0.5691 - val_loss: 1.5983 - val_accuracy: 0.4000\n",
      "Epoch 100/1000\n",
      "70/70 [==============================] - 0s 1ms/step - loss: 1.2206 - accuracy: 0.5375 - val_loss: 1.5951 - val_accuracy: 0.3900\n",
      "Epoch 101/1000\n",
      "70/70 [==============================] - 0s 1ms/step - loss: 1.2137 - accuracy: 0.5630 - val_loss: 1.5938 - val_accuracy: 0.3933\n",
      "Epoch 102/1000\n",
      "70/70 [==============================] - 0s 1ms/step - loss: 1.2258 - accuracy: 0.5677 - val_loss: 1.6029 - val_accuracy: 0.3933\n",
      "Epoch 103/1000\n",
      "70/70 [==============================] - 0s 1ms/step - loss: 1.2333 - accuracy: 0.5581 - val_loss: 1.5970 - val_accuracy: 0.4067\n",
      "Epoch 104/1000\n",
      "70/70 [==============================] - 0s 1ms/step - loss: 1.2500 - accuracy: 0.5413 - val_loss: 1.5944 - val_accuracy: 0.4033\n",
      "Epoch 105/1000\n",
      "70/70 [==============================] - 0s 1ms/step - loss: 1.1844 - accuracy: 0.5895 - val_loss: 1.5956 - val_accuracy: 0.4000\n",
      "Epoch 106/1000\n",
      "70/70 [==============================] - 0s 2ms/step - loss: 1.2043 - accuracy: 0.5609 - val_loss: 1.5970 - val_accuracy: 0.4033\n",
      "Epoch 107/1000\n",
      "70/70 [==============================] - 0s 1ms/step - loss: 1.1780 - accuracy: 0.5859 - val_loss: 1.6090 - val_accuracy: 0.4033\n",
      "Epoch 108/1000\n",
      "70/70 [==============================] - 0s 1ms/step - loss: 1.1977 - accuracy: 0.5514 - val_loss: 1.5918 - val_accuracy: 0.4033\n",
      "Epoch 109/1000\n",
      "70/70 [==============================] - 0s 1ms/step - loss: 1.1922 - accuracy: 0.5629 - val_loss: 1.6025 - val_accuracy: 0.4000\n",
      "Epoch 110/1000\n",
      "70/70 [==============================] - 0s 1ms/step - loss: 1.2046 - accuracy: 0.5525 - val_loss: 1.5964 - val_accuracy: 0.4033\n",
      "Epoch 111/1000\n",
      "70/70 [==============================] - 0s 1ms/step - loss: 1.1651 - accuracy: 0.5681 - val_loss: 1.6040 - val_accuracy: 0.4100\n",
      "Epoch 112/1000\n",
      "70/70 [==============================] - 0s 1ms/step - loss: 1.2169 - accuracy: 0.5604 - val_loss: 1.5959 - val_accuracy: 0.4067\n",
      "Epoch 113/1000\n",
      "70/70 [==============================] - 0s 1ms/step - loss: 1.1751 - accuracy: 0.5561 - val_loss: 1.5916 - val_accuracy: 0.4033\n",
      "Epoch 114/1000\n",
      "70/70 [==============================] - 0s 1ms/step - loss: 1.1316 - accuracy: 0.6143 - val_loss: 1.6014 - val_accuracy: 0.4000\n",
      "Epoch 115/1000\n"
     ]
    },
    {
     "name": "stdout",
     "output_type": "stream",
     "text": [
      "70/70 [==============================] - 0s 1ms/step - loss: 1.1773 - accuracy: 0.5694 - val_loss: 1.5972 - val_accuracy: 0.4067\n",
      "Epoch 116/1000\n",
      "70/70 [==============================] - 0s 1ms/step - loss: 1.1843 - accuracy: 0.5744 - val_loss: 1.5994 - val_accuracy: 0.4033\n",
      "Epoch 117/1000\n",
      "70/70 [==============================] - 0s 1ms/step - loss: 1.1760 - accuracy: 0.5768 - val_loss: 1.6002 - val_accuracy: 0.4000\n",
      "Epoch 118/1000\n",
      "70/70 [==============================] - 0s 1ms/step - loss: 1.1877 - accuracy: 0.5606 - val_loss: 1.6086 - val_accuracy: 0.4067\n",
      "Epoch 119/1000\n",
      "70/70 [==============================] - 0s 1ms/step - loss: 1.1258 - accuracy: 0.5758 - val_loss: 1.5982 - val_accuracy: 0.4100\n",
      "Epoch 120/1000\n",
      "70/70 [==============================] - 0s 1ms/step - loss: 1.2299 - accuracy: 0.5513 - val_loss: 1.6123 - val_accuracy: 0.4000\n",
      "Epoch 121/1000\n",
      "70/70 [==============================] - 0s 1ms/step - loss: 1.2317 - accuracy: 0.5626 - val_loss: 1.5978 - val_accuracy: 0.4033\n",
      "Epoch 122/1000\n",
      "70/70 [==============================] - 0s 1ms/step - loss: 1.1689 - accuracy: 0.5950 - val_loss: 1.6002 - val_accuracy: 0.4033\n",
      "Epoch 123/1000\n",
      "70/70 [==============================] - 0s 1ms/step - loss: 1.1540 - accuracy: 0.5703 - val_loss: 1.6007 - val_accuracy: 0.4033\n",
      "Epoch 124/1000\n",
      "70/70 [==============================] - 0s 1ms/step - loss: 1.1397 - accuracy: 0.5628 - val_loss: 1.6067 - val_accuracy: 0.4067\n",
      "Epoch 125/1000\n",
      "70/70 [==============================] - 0s 1ms/step - loss: 1.1112 - accuracy: 0.6066 - val_loss: 1.6057 - val_accuracy: 0.4000\n",
      "Epoch 126/1000\n",
      "70/70 [==============================] - 0s 1ms/step - loss: 1.1495 - accuracy: 0.5726 - val_loss: 1.6146 - val_accuracy: 0.4000\n",
      "Epoch 127/1000\n",
      "70/70 [==============================] - 0s 1ms/step - loss: 1.1213 - accuracy: 0.6107 - val_loss: 1.6094 - val_accuracy: 0.4033\n",
      "Epoch 128/1000\n",
      "70/70 [==============================] - 0s 1ms/step - loss: 1.1157 - accuracy: 0.5810 - val_loss: 1.6302 - val_accuracy: 0.4067\n",
      "Epoch 129/1000\n",
      "70/70 [==============================] - 0s 1ms/step - loss: 1.1543 - accuracy: 0.5694 - val_loss: 1.6144 - val_accuracy: 0.4067\n",
      "Epoch 130/1000\n",
      "70/70 [==============================] - 0s 1ms/step - loss: 1.1436 - accuracy: 0.5813 - val_loss: 1.6115 - val_accuracy: 0.3967\n",
      "Epoch 131/1000\n",
      "70/70 [==============================] - 0s 1ms/step - loss: 1.0997 - accuracy: 0.6155 - val_loss: 1.6138 - val_accuracy: 0.4000\n",
      "Epoch 132/1000\n",
      "70/70 [==============================] - 0s 1ms/step - loss: 1.1210 - accuracy: 0.5701 - val_loss: 1.6181 - val_accuracy: 0.3900\n",
      "Epoch 133/1000\n",
      "70/70 [==============================] - 0s 1ms/step - loss: 1.1264 - accuracy: 0.5800 - val_loss: 1.6148 - val_accuracy: 0.4067\n",
      "Epoch 134/1000\n",
      "70/70 [==============================] - 0s 1ms/step - loss: 1.1174 - accuracy: 0.6047 - val_loss: 1.6163 - val_accuracy: 0.4000\n",
      "Epoch 135/1000\n",
      "70/70 [==============================] - 0s 1ms/step - loss: 1.1535 - accuracy: 0.5720 - val_loss: 1.6143 - val_accuracy: 0.4033\n",
      "Epoch 136/1000\n",
      "70/70 [==============================] - 0s 1ms/step - loss: 1.1535 - accuracy: 0.5501 - val_loss: 1.6118 - val_accuracy: 0.3900\n",
      "Epoch 137/1000\n",
      "70/70 [==============================] - 0s 1ms/step - loss: 1.0840 - accuracy: 0.6055 - val_loss: 1.6158 - val_accuracy: 0.4000\n",
      "Epoch 138/1000\n",
      "70/70 [==============================] - 0s 1ms/step - loss: 1.0768 - accuracy: 0.6055 - val_loss: 1.6162 - val_accuracy: 0.4000\n",
      "Epoch 139/1000\n",
      "70/70 [==============================] - 0s 1ms/step - loss: 1.1320 - accuracy: 0.5914 - val_loss: 1.6185 - val_accuracy: 0.4000\n",
      "Epoch 140/1000\n",
      "70/70 [==============================] - 0s 1ms/step - loss: 1.0736 - accuracy: 0.6073 - val_loss: 1.6194 - val_accuracy: 0.3933\n",
      "Epoch 141/1000\n",
      "70/70 [==============================] - 0s 1ms/step - loss: 1.1101 - accuracy: 0.5815 - val_loss: 1.6251 - val_accuracy: 0.4000\n",
      "Epoch 142/1000\n",
      "70/70 [==============================] - 0s 1ms/step - loss: 1.0988 - accuracy: 0.6249 - val_loss: 1.6317 - val_accuracy: 0.4133\n",
      "Epoch 143/1000\n",
      "70/70 [==============================] - 0s 1ms/step - loss: 1.1748 - accuracy: 0.5566 - val_loss: 1.6261 - val_accuracy: 0.3967\n"
     ]
    }
   ],
   "source": [
    "from tensorflow.keras.datasets import mnist # mnist 데이터셋\n",
    "import tensorflow.keras.utils as utils # 원핫인코딩\n",
    "from tensorflow.keras.models import Sequential # 모델\n",
    "from tensorflow.keras.layers import Dense, Activation # model.add시\n",
    "from matplotlib import pyplot as plt\n",
    "import numpy as np\n",
    "np.random.seed(3)\n",
    "# 1. 데이터 셋\n",
    "# 훈련셋, 검증 셋 분리\n",
    "(X_train, Y_train), (X_test, Y_test) = mnist.load_data()\n",
    "# 훈련셋과 검증셋 분리(X_train, Y_train을 검증셋과 훈련셋으로 분리)\n",
    "X_val = X_train[50000:]\n",
    "Y_val = Y_train[50000:]\n",
    "X_train = X_train[:50000]\n",
    "Y_train = Y_train[:50000]\n",
    "# normalize 하기 위해 색상값으로 나눠\n",
    "X_train = X_train.reshape(50000,784).astype('float32') / 255.0\n",
    "X_val   = X_val.reshape(10000,784).astype('float32')/255.0\n",
    "X_test = X_test.reshape(10000,784).astype('float32')/255.0\n",
    "# 훈련셋과 검증셋 700개, 300개씩만 가져옴\n",
    "train_rand_idxs = np.random.choice(50000,700)\n",
    "val_rand_idxs   = np.random.choice(10000,300)\n",
    "X_train = X_train[train_rand_idxs]\n",
    "Y_train = Y_train[train_rand_idxs]\n",
    "X_val = X_val[val_rand_idxs]\n",
    "Y_val = Y_val[val_rand_idxs]\n",
    "# 원 핫 인코딩 = 라벨링 전환 \n",
    "Y_train = utils.to_categorical(Y_train)\n",
    "Y_val   = utils.to_categorical(Y_val)\n",
    "Y_test  = utils.to_categorical(Y_test)\n",
    "\n",
    "# 2. 모델 구성하기\n",
    "model = Sequential()\n",
    "model.add(Dense(units=2, input_dim=784, activation=\"relu\"))\n",
    "model.add(Dense(units=10, activation=\"softmax\"))\n",
    "\n",
    "# 3. 모델 학습과정 설정\n",
    "model.compile(loss=\"categorical_crossentropy\", optimizer=\"sgd\", \n",
    "              metrics=['accuracy'])\n",
    "\n",
    "# 4. 모델 학습시키기\n",
    "from tensorflow.keras.callbacks import EarlyStopping\n",
    "# early_stopping = EarlyStopping() # 성급한 조기 종료\n",
    "early_stopping = EarlyStopping(patience=30) # patience 인자 수만큼 loss가 오를 수 있음\n",
    "hist = model.fit(X_train, Y_train, epochs=1000, batch_size=10, \n",
    "                validation_data=(X_val, Y_val), verbose=1,\n",
    "                callbacks=[early_stopping])"
   ]
  },
  {
   "cell_type": "code",
   "execution_count": 36,
   "metadata": {
    "ExecuteTime": {
     "end_time": "2021-03-24T02:26:50.765277Z",
     "start_time": "2021-03-24T02:26:50.494653Z"
    }
   },
   "outputs": [
    {
     "data": {
      "text/plain": [
       "<matplotlib.legend.Legend at 0x1e1994b66d0>"
      ]
     },
     "execution_count": 36,
     "metadata": {},
     "output_type": "execute_result"
    },
    {
     "data": {
      "image/png": "[encoded data removed]",
      "text/plain": [
       "<Figure size 432x288 with 2 Axes>"
      ]
     },
     "metadata": {
      "needs_background": "light"
     },
     "output_type": "display_data"
    }
   ],
   "source": [
    "# 5.학습과정 표시하기\n",
    "fig, loss_ax = plt.subplots()\n",
    "loss_ax.plot(hist.history['loss'], 'y', label=\"train loss\")\n",
    "loss_ax.plot(hist.history['val_loss'], 'g', label=\"val loss\")\n",
    "loss_ax.set_xlabel(\"epochs\")\n",
    "loss_ax.set_ylabel(\"loss\")\n",
    "\n",
    "acc_ax = loss_ax.twinx() # x축 공유하는 acc_ax\n",
    "acc_ax.plot(hist.history['accuracy'], 'b', label=\"train accuracy\")\n",
    "acc_ax.plot(hist.history['val_accuracy'], 'r', label=\"val accuracy\")\n",
    "acc_ax.set_ylabel(\"accuracy\")\n",
    "\n",
    "loss_ax.legend(loc=\"upper left\")\n",
    "acc_ax.legend(loc=\"lower left\")"
   ]
  },
  {
   "cell_type": "code",
   "execution_count": 37,
   "metadata": {
    "ExecuteTime": {
     "end_time": "2021-03-24T02:26:53.826216Z",
     "start_time": "2021-03-24T02:26:53.390694Z"
    }
   },
   "outputs": [
    {
     "name": "stdout",
     "output_type": "stream",
     "text": [
      "313/313 [==============================] - 0s 916us/step - loss: 1.5438 - accuracy: 0.4331\n",
      "\n",
      "loss_and_metrics : [1.5437591075897217, 0.43309998512268066]\n"
     ]
    }
   ],
   "source": [
    "# 6. 모델 평가하기\n",
    "loss_and_metrics = model.evaluate(X_test, Y_test, batch_size=32)\n",
    "print()\n",
    "print('loss_and_metrics :', loss_and_metrics)"
   ]
  },
  {
   "cell_type": "code",
   "execution_count": 38,
   "metadata": {
    "ExecuteTime": {
     "end_time": "2021-03-24T02:26:56.162380Z",
     "start_time": "2021-03-24T02:26:56.158400Z"
    }
   },
   "outputs": [],
   "source": [
    "# 7. 모델 사용하기\n",
    "idx = np.random.choice(X_test.shape[0],5)"
   ]
  },
  {
   "cell_type": "code",
   "execution_count": 39,
   "metadata": {
    "ExecuteTime": {
     "end_time": "2021-03-24T02:26:58.059635Z",
     "start_time": "2021-03-24T02:26:58.054648Z"
    }
   },
   "outputs": [
    {
     "data": {
      "text/plain": [
       "array([[0., 0., 0., ..., 0., 0., 0.],\n",
       "       [0., 0., 0., ..., 0., 0., 0.],\n",
       "       [0., 0., 0., ..., 0., 0., 0.],\n",
       "       [0., 0., 0., ..., 0., 0., 0.],\n",
       "       [0., 0., 0., ..., 0., 0., 0.]], dtype=float32)"
      ]
     },
     "execution_count": 39,
     "metadata": {},
     "output_type": "execute_result"
    }
   ],
   "source": [
    "xhat = X_test[idx]\n",
    "xhat"
   ]
  },
  {
   "cell_type": "code",
   "execution_count": 40,
   "metadata": {
    "ExecuteTime": {
     "end_time": "2021-03-24T02:27:00.190910Z",
     "start_time": "2021-03-24T02:27:00.119083Z"
    }
   },
   "outputs": [
    {
     "data": {
      "text/plain": [
       "array([6, 5, 2, 1, 6], dtype=int64)"
      ]
     },
     "execution_count": 40,
     "metadata": {},
     "output_type": "execute_result"
    }
   ],
   "source": [
    "yhat = model.predict(xhat)\n",
    "yhat = np.argmax(yhat, axis=1) # 예측치\n",
    "yhat"
   ]
  },
  {
   "cell_type": "code",
   "execution_count": 41,
   "metadata": {
    "ExecuteTime": {
     "end_time": "2021-03-24T02:27:01.866523Z",
     "start_time": "2021-03-24T02:27:01.862514Z"
    }
   },
   "outputs": [
    {
     "data": {
      "text/plain": [
       "array([9, 9, 2, 1, 9], dtype=int64)"
      ]
     },
     "execution_count": 41,
     "metadata": {},
     "output_type": "execute_result"
    }
   ],
   "source": [
    "np.argmax(Y_test[idx], axis=1) # 실제값"
   ]
  },
  {
   "cell_type": "code",
   "execution_count": 42,
   "metadata": {
    "ExecuteTime": {
     "end_time": "2021-03-24T02:27:04.418581Z",
     "start_time": "2021-03-24T02:27:04.413595Z"
    }
   },
   "outputs": [
    {
     "name": "stdout",
     "output_type": "stream",
     "text": [
      "0 번째 실제값 : 9 \t예측값 : 6\n",
      "1 번째 실제값 : 9 \t예측값 : 5\n",
      "2 번째 실제값 : 2 \t예측값 : 2\n",
      "3 번째 실제값 : 1 \t예측값 : 1\n",
      "4 번째 실제값 : 9 \t예측값 : 6\n"
     ]
    }
   ],
   "source": [
    "for i in range(5):\n",
    "    print(i,\"번째 실제값 :\", np.argmax(Y_test[idx[i]]), \"\\t예측값 :\",\n",
    "         yhat[i])"
   ]
  },
  {
   "cell_type": "code",
   "execution_count": 43,
   "metadata": {
    "ExecuteTime": {
     "end_time": "2021-03-24T02:27:06.897860Z",
     "start_time": "2021-03-24T02:27:06.741515Z"
    }
   },
   "outputs": [],
   "source": [
    "# 8. 모델 저장하기\n",
    "model.save('model/mnist.h5')"
   ]
  },
  {
   "cell_type": "code",
   "execution_count": 44,
   "metadata": {
    "ExecuteTime": {
     "end_time": "2021-03-24T02:27:09.291913Z",
     "start_time": "2021-03-24T02:27:09.182203Z"
    }
   },
   "outputs": [
    {
     "name": "stderr",
     "output_type": "stream",
     "text": [
      "C:\\Users\\tjoeun\\anaconda3\\lib\\site-packages\\tensorflow\\python\\keras\\engine\\sequential.py:450: UserWarning: `model.predict_classes()` is deprecated and will be removed after 2021-01-01. Please use instead:* `np.argmax(model.predict(x), axis=-1)`,   if your model does multi-class classification   (e.g. if it uses a `softmax` last-layer activation).* `(model.predict(x) > 0.5).astype(\"int32\")`,   if your model does binary classification   (e.g. if it uses a `sigmoid` last-layer activation).\n",
      "  warnings.warn('`model.predict_classes()` is deprecated and '\n"
     ]
    },
    {
     "data": {
      "text/plain": [
       "array([6, 5, 2, 1, 6], dtype=int64)"
      ]
     },
     "execution_count": 44,
     "metadata": {},
     "output_type": "execute_result"
    }
   ],
   "source": [
    "# 9. 모델 재사용하기\n",
    "from tensorflow.keras.models import load_model\n",
    "model2 = load_model(\"model/mnist.h5\")\n",
    "model2.predict_classes(xhat)"
   ]
  },
  {
   "cell_type": "markdown",
   "metadata": {},
   "source": [
    "## 위 모델의 accuracy 늘리기\n",
    "- 데이터 확보\n",
    "- Layer층 충분히 확보"
   ]
  },
  {
   "cell_type": "code",
   "execution_count": 52,
   "metadata": {
    "ExecuteTime": {
     "end_time": "2021-03-24T07:15:22.874470Z",
     "start_time": "2021-03-24T06:52:09.443282Z"
    }
   },
   "outputs": [
    {
     "name": "stdout",
     "output_type": "stream",
     "text": [
      "Epoch 1/10\n",
      "5000/5000 [==============================] - 139s 28ms/step - loss: 0.3380 - accuracy: 0.8937 - val_loss: 0.1258 - val_accuracy: 0.9615\n",
      "Epoch 2/10\n",
      "5000/5000 [==============================] - 142s 28ms/step - loss: 0.1178 - accuracy: 0.9655 - val_loss: 0.1082 - val_accuracy: 0.9699\n",
      "Epoch 3/10\n",
      "5000/5000 [==============================] - 142s 28ms/step - loss: 0.0860 - accuracy: 0.9760 - val_loss: 0.1078 - val_accuracy: 0.9711\n",
      "Epoch 4/10\n",
      "5000/5000 [==============================] - 143s 29ms/step - loss: 0.0734 - accuracy: 0.9795 - val_loss: 0.1216 - val_accuracy: 0.9762\n",
      "Epoch 5/10\n",
      "5000/5000 [==============================] - 131s 26ms/step - loss: 0.0625 - accuracy: 0.9830 - val_loss: 0.1092 - val_accuracy: 0.9746\n",
      "Epoch 6/10\n",
      "5000/5000 [==============================] - 133s 27ms/step - loss: 0.0519 - accuracy: 0.9862 - val_loss: 0.1175 - val_accuracy: 0.9775\n",
      "Epoch 7/10\n",
      "5000/5000 [==============================] - 140s 28ms/step - loss: 0.0500 - accuracy: 0.9876 - val_loss: 0.1354 - val_accuracy: 0.9754\n",
      "Epoch 8/10\n",
      "5000/5000 [==============================] - 140s 28ms/step - loss: 0.0526 - accuracy: 0.9884 - val_loss: 0.1309 - val_accuracy: 0.9750\n",
      "Epoch 9/10\n",
      "5000/5000 [==============================] - 141s 28ms/step - loss: 0.0391 - accuracy: 0.9898 - val_loss: 0.1495 - val_accuracy: 0.9780\n",
      "Epoch 10/10\n",
      "5000/5000 [==============================] - 141s 28ms/step - loss: 0.0363 - accuracy: 0.9902 - val_loss: 0.1166 - val_accuracy: 0.9785\n"
     ]
    }
   ],
   "source": [
    "from tensorflow.keras.datasets import mnist # mnist 데이터셋\n",
    "import tensorflow.keras.utils as utils # 원핫인코딩\n",
    "from tensorflow.keras.models import Sequential # 모델\n",
    "from tensorflow.keras.layers import Dense, Activation # model.add시\n",
    "from matplotlib import pyplot as plt\n",
    "import numpy as np\n",
    "np.random.seed(3)\n",
    "# 1. 데이터 셋\n",
    "# 훈련셋, 검증 셋 분리\n",
    "(X_train, Y_train), (X_test, Y_test) = mnist.load_data()\n",
    "# 훈련셋과 검증셋 분리(X_train, Y_train을 검증셋과 훈련셋으로 분리)\n",
    "X_val = X_train[50000:]\n",
    "Y_val = Y_train[50000:]\n",
    "X_train = X_train[:50000]\n",
    "Y_train = Y_train[:50000]\n",
    "# normalize 하기 위해 색상값으로 나눠\n",
    "X_train = X_train.reshape(50000,784).astype('float32') / 255.0\n",
    "X_val   = X_val.reshape(10000,784).astype('float32')/255.0\n",
    "X_test = X_test.reshape(10000,784).astype('float32')/255.0\n",
    "# 훈련셋과 검증셋 700개, 300개씩만 가져옴\n",
    "# train_rand_idxs = np.random.choice(50000,700)\n",
    "# val_rand_idxs   = np.random.choice(10000,300)\n",
    "# X_train = X_train[train_rand_idxs]\n",
    "# Y_train = Y_train[train_rand_idxs]\n",
    "# X_val = X_val[val_rand_idxs]\n",
    "# Y_val = Y_val[val_rand_idxs]\n",
    "# 원 핫 인코딩 = 라벨링 전환 \n",
    "Y_train = utils.to_categorical(Y_train)\n",
    "Y_val   = utils.to_categorical(Y_val)\n",
    "Y_test  = utils.to_categorical(Y_test)\n",
    "\n",
    "# 2. 모델 구성하기\n",
    "model = Sequential()\n",
    "model.add(Dense(units=612, input_dim=784, activation=\"relu\"))\n",
    "model.add(Dense(units=1024, activation=\"relu\"))\n",
    "model.add(Dense(units=256, activation=\"relu\"))\n",
    "model.add(Dense(units=10, activation=\"softmax\"))\n",
    "\n",
    "# 3. 모델 학습과정 설정\n",
    "model.compile(loss=\"categorical_crossentropy\", optimizer=\"nadam\", \n",
    "              metrics=['accuracy'])\n",
    "\n",
    "# 4. 모델 학습시키기\n",
    "from tensorflow.keras.callbacks import EarlyStopping\n",
    "# early_stopping = EarlyStopping() # 성급한 조기 종료\n",
    "early_stopping = EarlyStopping(patience=10) # patience 인자 수만큼 loss가 오를 수 있음\n",
    "hist = model.fit(X_train, Y_train, epochs=10, batch_size=10, \n",
    "                validation_data=(X_val, Y_val), verbose=1,\n",
    "                callbacks=[early_stopping])"
   ]
  },
  {
   "cell_type": "code",
   "execution_count": 53,
   "metadata": {
    "ExecuteTime": {
     "end_time": "2021-03-24T07:15:27.215383Z",
     "start_time": "2021-03-24T07:15:26.945317Z"
    }
   },
   "outputs": [
    {
     "data": {
      "text/plain": [
       "<matplotlib.legend.Legend at 0x1e19a4cc7f0>"
      ]
     },
     "execution_count": 53,
     "metadata": {},
     "output_type": "execute_result"
    },
    {
     "data": {
      "image/png": "[encoded data removed]",
      "text/plain": [
       "<Figure size 432x288 with 2 Axes>"
      ]
     },
     "metadata": {
      "needs_background": "light"
     },
     "output_type": "display_data"
    }
   ],
   "source": [
    "# 5.학습과정 표시하기\n",
    "fig, loss_ax = plt.subplots()\n",
    "loss_ax.plot(hist.history['loss'], 'y', label=\"train loss\")\n",
    "loss_ax.plot(hist.history['val_loss'], 'g', label=\"val loss\")\n",
    "loss_ax.set_xlabel(\"epochs\")\n",
    "loss_ax.set_ylabel(\"loss\")\n",
    "\n",
    "acc_ax = loss_ax.twinx() # x축 공유하는 acc_ax\n",
    "acc_ax.plot(hist.history['accuracy'], 'b', label=\"train accuracy\")\n",
    "acc_ax.plot(hist.history['val_accuracy'], 'r', label=\"val accuracy\")\n",
    "acc_ax.set_ylabel(\"accuracy\")\n",
    "\n",
    "loss_ax.legend(loc=\"upper left\")\n",
    "acc_ax.legend(loc=\"lower left\")"
   ]
  },
  {
   "cell_type": "code",
   "execution_count": 54,
   "metadata": {
    "ExecuteTime": {
     "end_time": "2021-03-24T07:15:31.941145Z",
     "start_time": "2021-03-24T07:15:31.855374Z"
    }
   },
   "outputs": [
    {
     "name": "stdout",
     "output_type": "stream",
     "text": [
      "WARNING:tensorflow:6 out of the last 7 calls to <function Model.make_predict_function.<locals>.predict_function at 0x000001E192CF4310> triggered tf.function retracing. Tracing is expensive and the excessive number of tracings could be due to (1) creating @tf.function repeatedly in a loop, (2) passing tensors with different shapes, (3) passing Python objects instead of tensors. For (1), please define your @tf.function outside of the loop. For (2), @tf.function has experimental_relax_shapes=True option that relaxes argument shapes that can avoid unnecessary retracing. For (3), please refer to https://www.tensorflow.org/guide/function#controlling_retracing and https://www.tensorflow.org/api_docs/python/tf/function for  more details.\n"
     ]
    },
    {
     "name": "stderr",
     "output_type": "stream",
     "text": [
      "C:\\Users\\tjoeun\\anaconda3\\lib\\site-packages\\tensorflow\\python\\keras\\engine\\sequential.py:450: UserWarning: `model.predict_classes()` is deprecated and will be removed after 2021-01-01. Please use instead:* `np.argmax(model.predict(x), axis=-1)`,   if your model does multi-class classification   (e.g. if it uses a `softmax` last-layer activation).* `(model.predict(x) > 0.5).astype(\"int32\")`,   if your model does binary classification   (e.g. if it uses a `sigmoid` last-layer activation).\n",
      "  warnings.warn('`model.predict_classes()` is deprecated and '\n"
     ]
    },
    {
     "data": {
      "text/plain": [
       "array([6, 6, 7, 5, 0], dtype=int64)"
      ]
     },
     "execution_count": 54,
     "metadata": {},
     "output_type": "execute_result"
    }
   ],
   "source": [
    "# 7. 모델 사용\n",
    "idx = np.random.choice(X_test.shape[0],5)\n",
    "xhat = X_test[idx]\n",
    "yhat = model.predict_classes(xhat)\n",
    "yhat"
   ]
  },
  {
   "cell_type": "code",
   "execution_count": 55,
   "metadata": {
    "ExecuteTime": {
     "end_time": "2021-03-24T07:15:35.563662Z",
     "start_time": "2021-03-24T07:15:34.384503Z"
    }
   },
   "outputs": [
    {
     "name": "stdout",
     "output_type": "stream",
     "text": [
      "313/313 [==============================] - 1s 3ms/step - loss: 0.1194 - accuracy: 0.9794\n",
      "\n",
      "loss_and_metrics : [0.11939841508865356, 0.9793999791145325]\n"
     ]
    }
   ],
   "source": [
    "# 8. 모델 평가하기\n",
    "loss_and_metrics = model.evaluate(X_test, Y_test, batch_size=32)\n",
    "print()\n",
    "print('loss_and_metrics :', loss_and_metrics)"
   ]
  },
  {
   "cell_type": "code",
   "execution_count": 56,
   "metadata": {
    "ExecuteTime": {
     "end_time": "2021-03-24T07:15:38.765947Z",
     "start_time": "2021-03-24T07:15:38.552068Z"
    }
   },
   "outputs": [],
   "source": [
    "# 9. 모델 저장\n",
    "model.save('model/mnist_v1.h5')"
   ]
  },
  {
   "cell_type": "code",
   "execution_count": 57,
   "metadata": {
    "ExecuteTime": {
     "end_time": "2021-03-24T07:15:40.776596Z",
     "start_time": "2021-03-24T07:15:40.672763Z"
    }
   },
   "outputs": [
    {
     "name": "stdout",
     "output_type": "stream",
     "text": [
      "WARNING:tensorflow:7 out of the last 8 calls to <function Model.make_predict_function.<locals>.predict_function at 0x000001E192D8AEE0> triggered tf.function retracing. Tracing is expensive and the excessive number of tracings could be due to (1) creating @tf.function repeatedly in a loop, (2) passing tensors with different shapes, (3) passing Python objects instead of tensors. For (1), please define your @tf.function outside of the loop. For (2), @tf.function has experimental_relax_shapes=True option that relaxes argument shapes that can avoid unnecessary retracing. For (3), please refer to https://www.tensorflow.org/guide/function#controlling_retracing and https://www.tensorflow.org/api_docs/python/tf/function for  more details.\n"
     ]
    },
    {
     "data": {
      "text/plain": [
       "array([1, 1, 7, 5, 7], dtype=int64)"
      ]
     },
     "execution_count": 57,
     "metadata": {},
     "output_type": "execute_result"
    }
   ],
   "source": [
    "# 10. 저장된 모델 재사용\n",
    "from tensorflow.keras.models import load_model\n",
    "model2 = load_model(\"model/mnist.h5\")\n",
    "model2.predict_classes(xhat)"
   ]
  }
 ],
 "metadata": {
  "kernelspec": {
   "display_name": "Python 3",
   "language": "python",
   "name": "python3"
  },
  "language_info": {
   "codemirror_mode": {
    "name": "ipython",
    "version": 3
   },
   "file_extension": ".py",
   "mimetype": "text/x-python",
   "name": "python",
   "nbconvert_exporter": "python",
   "pygments_lexer": "ipython3",
   "version": "3.8.5"
  },
  "toc": {
   "base_numbering": "7",
   "nav_menu": {},
   "number_sections": true,
   "sideBar": true,
   "skip_h1_title": false,
   "title_cell": "Table of Contents",
   "title_sidebar": "Contents",
   "toc_cell": false,
   "toc_position": {
    "height": "795.556px",
    "left": "271.997px",
    "top": "180px",
    "width": "211.997px"
   },
   "toc_section_display": true,
   "toc_window_display": false
  },
  "varInspector": {
   "cols": {
    "lenName": 16,
    "lenType": 16,
    "lenVar": 40
   },
   "kernels_config": {
    "python": {
     "delete_cmd_postfix": "",
     "delete_cmd_prefix": "del ",
     "library": "var_list.py",
     "varRefreshCmd": "print(var_dic_list())"
    },
    "r": {
     "delete_cmd_postfix": ") ",
     "delete_cmd_prefix": "rm(",
     "library": "var_list.r",
     "varRefreshCmd": "cat(var_dic_list()) "
    }
   },
   "types_to_exclude": [
    "module",
    "function",
    "builtin_function_or_method",
    "instance",
    "_Feature"
   ],
   "window_display": false
  }
 },
 "nbformat": 4,
 "nbformat_minor": 4
}
