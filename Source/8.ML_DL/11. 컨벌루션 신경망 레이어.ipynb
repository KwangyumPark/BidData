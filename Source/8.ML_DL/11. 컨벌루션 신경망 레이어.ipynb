{
 "cells": [
  {
   "cell_type": "markdown",
   "metadata": {},
   "source": [
    "21.03.25 ML_DL 컨벌루션 신경망 레이어(CNN)"
   ]
  },
  {
   "cell_type": "markdown",
   "metadata": {},
   "source": [
    "# 컨벌루션 신경망 레이어(CNN)"
   ]
  },
  {
   "cell_type": "code",
   "execution_count": 31,
   "metadata": {
    "ExecuteTime": {
     "end_time": "2021-03-25T02:31:35.198576Z",
     "start_time": "2021-03-25T02:31:35.084880Z"
    }
   },
   "outputs": [
    {
     "name": "stdout",
     "output_type": "stream",
     "text": [
      "(24, 24, 4)\n",
      "<class 'numpy.ndarray'>\n"
     ]
    },
    {
     "data": {
      "image/png": "[encoded data removed]",
      "text/plain": [
       "<Figure size 432x288 with 1 Axes>"
      ]
     },
     "metadata": {
      "needs_background": "light"
     },
     "output_type": "display_data"
    }
   ],
   "source": [
    "import matplotlib.pyplot as plt\n",
    "c0 = plt.imread('data/handwriting/handwriting_shape/train/circle/circle001.png')\n",
    "plt.imshow(c0)\n",
    "print(c0.shape)\n",
    "print(type(c0))"
   ]
  },
  {
   "cell_type": "code",
   "execution_count": 32,
   "metadata": {
    "ExecuteTime": {
     "end_time": "2021-03-25T02:31:45.681407Z",
     "start_time": "2021-03-25T02:31:45.677417Z"
    }
   },
   "outputs": [],
   "source": [
    "import numpy as np\n",
    "from tensorflow.keras.models import Sequential\n",
    "from tensorflow.keras.layers import Conv2D # 필터링\n",
    "from tensorflow.keras.layers import MaxPool2D # 풀링\n",
    "from tensorflow.keras.layers import Flatten # 2차원 영상 데이터를 1차원\n",
    "from tensorflow.keras.layers import Dense, Dropout\n",
    "from tensorflow.keras.preprocessing.image import ImageDataGenerator\n",
    "np.random.seed(3)"
   ]
  },
  {
   "cell_type": "code",
   "execution_count": 33,
   "metadata": {
    "ExecuteTime": {
     "end_time": "2021-03-25T02:31:50.266693Z",
     "start_time": "2021-03-25T02:31:50.245722Z"
    }
   },
   "outputs": [
    {
     "name": "stdout",
     "output_type": "stream",
     "text": [
      "Found 45 images belonging to 3 classes.\n",
      "Found 15 images belonging to 3 classes.\n"
     ]
    }
   ],
   "source": [
    "# 1. 데이터 생성하기\n",
    "train_datagen = ImageDataGenerator(rescale=1./255) # 정규화작업\n",
    "train_generator = train_datagen.flow_from_directory(\n",
    "                    'data/handwriting/hard_handwriting_shape/train',\n",
    "                    target_size = (24,24),\n",
    "                    batch_size=3,\n",
    "                    class_mode = \"categorical\")\n",
    "\n",
    "test_datagen = ImageDataGenerator(rescale=1./255)\n",
    "test_generator = test_datagen.flow_from_directory(\n",
    "                    'data/handwriting/hard_handwriting_shape/test',\n",
    "                    target_size= (24,24),\n",
    "                    batch_size=3,\n",
    "                    class_mode = \"categorical\")"
   ]
  },
  {
   "cell_type": "code",
   "execution_count": 37,
   "metadata": {
    "ExecuteTime": {
     "end_time": "2021-03-25T02:32:22.558665Z",
     "start_time": "2021-03-25T02:32:22.500684Z"
    }
   },
   "outputs": [],
   "source": [
    "# 2. 모델 구성\n",
    "model = Sequential()\n",
    "model.add(Conv2D(32, kernel_size=(3,3), activation=\"relu\", input_shape=(24,24,3)))\n",
    "model.add(Conv2D(64, kernel_size=(3,3), activation=\"relu\"))\n",
    "model.add(MaxPool2D(pool_size=(2,2))) # 2*2에서 제일 큰값만 뽑아 이미지 축소\n",
    "model.add(Flatten()) # 2차원 이미지데이터를 1차원으로\n",
    "model.add(Dense(128, activation=\"relu\"))\n",
    "model.add(Dense(3, activation=\"softmax\"))"
   ]
  },
  {
   "cell_type": "code",
   "execution_count": 40,
   "metadata": {
    "ExecuteTime": {
     "end_time": "2021-03-25T02:33:07.523681Z",
     "start_time": "2021-03-25T02:32:55.381060Z"
    }
   },
   "outputs": [
    {
     "name": "stdout",
     "output_type": "stream",
     "text": [
      "Epoch 1/50\n",
      "15/15 [==============================] - 1s 25ms/step - loss: 0.9181 - accuracy: 0.5262 - val_loss: 2.5092 - val_accuracy: 0.3333\n",
      "Epoch 2/50\n",
      "15/15 [==============================] - 0s 14ms/step - loss: 0.2593 - accuracy: 0.8850 - val_loss: 2.6871 - val_accuracy: 0.4000\n",
      "Epoch 3/50\n",
      "15/15 [==============================] - 0s 14ms/step - loss: 0.0471 - accuracy: 1.0000 - val_loss: 3.6513 - val_accuracy: 0.3333\n",
      "Epoch 4/50\n",
      "15/15 [==============================] - 0s 14ms/step - loss: 0.0044 - accuracy: 1.0000 - val_loss: 4.4173 - val_accuracy: 0.3333\n",
      "Epoch 5/50\n",
      "15/15 [==============================] - 0s 15ms/step - loss: 0.0023 - accuracy: 1.0000 - val_loss: 4.4304 - val_accuracy: 0.3333\n",
      "Epoch 6/50\n",
      "15/15 [==============================] - 0s 15ms/step - loss: 4.7112e-04 - accuracy: 1.0000 - val_loss: 4.5048 - val_accuracy: 0.3333\n",
      "Epoch 7/50\n",
      "15/15 [==============================] - 0s 14ms/step - loss: 3.6067e-04 - accuracy: 1.0000 - val_loss: 4.5887 - val_accuracy: 0.3333\n",
      "Epoch 8/50\n",
      "15/15 [==============================] - 0s 15ms/step - loss: 1.4359e-04 - accuracy: 1.0000 - val_loss: 4.6328 - val_accuracy: 0.3333\n",
      "Epoch 9/50\n",
      "15/15 [==============================] - 0s 15ms/step - loss: 1.4808e-04 - accuracy: 1.0000 - val_loss: 4.6612 - val_accuracy: 0.3333\n",
      "Epoch 10/50\n",
      "15/15 [==============================] - 0s 15ms/step - loss: 2.0042e-04 - accuracy: 1.0000 - val_loss: 4.6730 - val_accuracy: 0.3333\n",
      "Epoch 11/50\n",
      "15/15 [==============================] - 0s 15ms/step - loss: 8.3479e-05 - accuracy: 1.0000 - val_loss: 4.7007 - val_accuracy: 0.3333\n",
      "Epoch 12/50\n",
      "15/15 [==============================] - 0s 14ms/step - loss: 1.4378e-04 - accuracy: 1.0000 - val_loss: 4.7115 - val_accuracy: 0.3333\n",
      "Epoch 13/50\n",
      "15/15 [==============================] - 0s 14ms/step - loss: 8.9176e-05 - accuracy: 1.0000 - val_loss: 4.7354 - val_accuracy: 0.3333\n",
      "Epoch 14/50\n",
      "15/15 [==============================] - 0s 14ms/step - loss: 6.0103e-05 - accuracy: 1.0000 - val_loss: 4.7549 - val_accuracy: 0.3333\n",
      "Epoch 15/50\n",
      "15/15 [==============================] - 0s 13ms/step - loss: 5.6745e-05 - accuracy: 1.0000 - val_loss: 4.7898 - val_accuracy: 0.3333\n",
      "Epoch 16/50\n",
      "15/15 [==============================] - 0s 17ms/step - loss: 5.4338e-05 - accuracy: 1.0000 - val_loss: 4.8179 - val_accuracy: 0.3333\n",
      "Epoch 17/50\n",
      "15/15 [==============================] - 0s 15ms/step - loss: 3.6914e-05 - accuracy: 1.0000 - val_loss: 4.8566 - val_accuracy: 0.3333\n",
      "Epoch 18/50\n",
      "15/15 [==============================] - 0s 15ms/step - loss: 2.5963e-05 - accuracy: 1.0000 - val_loss: 4.8686 - val_accuracy: 0.3333\n",
      "Epoch 19/50\n",
      "15/15 [==============================] - 0s 14ms/step - loss: 3.3460e-05 - accuracy: 1.0000 - val_loss: 4.8893 - val_accuracy: 0.3333\n",
      "Epoch 20/50\n",
      "15/15 [==============================] - 0s 14ms/step - loss: 2.8167e-05 - accuracy: 1.0000 - val_loss: 4.9260 - val_accuracy: 0.3333\n",
      "Epoch 21/50\n",
      "15/15 [==============================] - 0s 14ms/step - loss: 2.3734e-05 - accuracy: 1.0000 - val_loss: 4.9536 - val_accuracy: 0.3333\n",
      "Epoch 22/50\n",
      "15/15 [==============================] - 0s 14ms/step - loss: 2.4030e-05 - accuracy: 1.0000 - val_loss: 4.9746 - val_accuracy: 0.3333\n",
      "Epoch 23/50\n",
      "15/15 [==============================] - 0s 14ms/step - loss: 1.4544e-05 - accuracy: 1.0000 - val_loss: 4.9983 - val_accuracy: 0.3333\n",
      "Epoch 24/50\n",
      "15/15 [==============================] - 0s 13ms/step - loss: 2.0831e-05 - accuracy: 1.0000 - val_loss: 5.0283 - val_accuracy: 0.3333\n",
      "Epoch 25/50\n",
      "15/15 [==============================] - 0s 14ms/step - loss: 2.0007e-05 - accuracy: 1.0000 - val_loss: 5.0446 - val_accuracy: 0.3333\n",
      "Epoch 26/50\n",
      "15/15 [==============================] - 0s 14ms/step - loss: 1.2584e-05 - accuracy: 1.0000 - val_loss: 5.0697 - val_accuracy: 0.3333\n",
      "Epoch 27/50\n",
      "15/15 [==============================] - 0s 14ms/step - loss: 1.1264e-05 - accuracy: 1.0000 - val_loss: 5.0919 - val_accuracy: 0.3333\n",
      "Epoch 28/50\n",
      "15/15 [==============================] - 0s 14ms/step - loss: 1.1469e-05 - accuracy: 1.0000 - val_loss: 5.1223 - val_accuracy: 0.3333\n",
      "Epoch 29/50\n",
      "15/15 [==============================] - 0s 14ms/step - loss: 1.0127e-05 - accuracy: 1.0000 - val_loss: 5.1478 - val_accuracy: 0.3333\n",
      "Epoch 30/50\n",
      "15/15 [==============================] - 0s 14ms/step - loss: 1.1313e-05 - accuracy: 1.0000 - val_loss: 5.1686 - val_accuracy: 0.3333\n",
      "Epoch 31/50\n",
      "15/15 [==============================] - 0s 14ms/step - loss: 1.1390e-05 - accuracy: 1.0000 - val_loss: 5.1932 - val_accuracy: 0.3333\n",
      "Epoch 32/50\n",
      "15/15 [==============================] - 0s 14ms/step - loss: 7.5714e-06 - accuracy: 1.0000 - val_loss: 5.2204 - val_accuracy: 0.3333\n",
      "Epoch 33/50\n",
      "15/15 [==============================] - 0s 13ms/step - loss: 8.1836e-06 - accuracy: 1.0000 - val_loss: 5.2373 - val_accuracy: 0.3333\n",
      "Epoch 34/50\n",
      "15/15 [==============================] - 0s 14ms/step - loss: 6.2713e-06 - accuracy: 1.0000 - val_loss: 5.2569 - val_accuracy: 0.3333\n",
      "Epoch 35/50\n",
      "15/15 [==============================] - 0s 17ms/step - loss: 9.1255e-06 - accuracy: 1.0000 - val_loss: 5.2811 - val_accuracy: 0.3333\n",
      "Epoch 36/50\n",
      "15/15 [==============================] - 0s 15ms/step - loss: 5.7779e-06 - accuracy: 1.0000 - val_loss: 5.2995 - val_accuracy: 0.3333\n",
      "Epoch 37/50\n",
      "15/15 [==============================] - 0s 15ms/step - loss: 5.3746e-06 - accuracy: 1.0000 - val_loss: 5.3245 - val_accuracy: 0.3333\n",
      "Epoch 38/50\n",
      "15/15 [==============================] - 0s 14ms/step - loss: 6.7860e-06 - accuracy: 1.0000 - val_loss: 5.3409 - val_accuracy: 0.3333\n",
      "Epoch 39/50\n",
      "15/15 [==============================] - 0s 14ms/step - loss: 6.2398e-06 - accuracy: 1.0000 - val_loss: 5.3622 - val_accuracy: 0.3333\n",
      "Epoch 40/50\n",
      "15/15 [==============================] - 0s 15ms/step - loss: 7.0421e-06 - accuracy: 1.0000 - val_loss: 5.3732 - val_accuracy: 0.3333\n",
      "Epoch 41/50\n",
      "15/15 [==============================] - 0s 14ms/step - loss: 5.8219e-06 - accuracy: 1.0000 - val_loss: 5.4034 - val_accuracy: 0.3333\n",
      "Epoch 42/50\n",
      "15/15 [==============================] - 0s 13ms/step - loss: 7.7245e-06 - accuracy: 1.0000 - val_loss: 5.4185 - val_accuracy: 0.3333\n",
      "Epoch 43/50\n",
      "15/15 [==============================] - 0s 15ms/step - loss: 5.5933e-06 - accuracy: 1.0000 - val_loss: 5.4359 - val_accuracy: 0.3333\n",
      "Epoch 44/50\n",
      "15/15 [==============================] - 0s 15ms/step - loss: 4.0921e-06 - accuracy: 1.0000 - val_loss: 5.4540 - val_accuracy: 0.3333\n",
      "Epoch 45/50\n",
      "15/15 [==============================] - 0s 15ms/step - loss: 3.7101e-06 - accuracy: 1.0000 - val_loss: 5.4615 - val_accuracy: 0.3333\n",
      "Epoch 46/50\n",
      "15/15 [==============================] - 0s 14ms/step - loss: 3.5578e-06 - accuracy: 1.0000 - val_loss: 5.4861 - val_accuracy: 0.3333\n",
      "Epoch 47/50\n",
      "15/15 [==============================] - 0s 14ms/step - loss: 4.2143e-06 - accuracy: 1.0000 - val_loss: 5.5053 - val_accuracy: 0.3333\n",
      "Epoch 48/50\n",
      "15/15 [==============================] - 0s 14ms/step - loss: 3.7789e-06 - accuracy: 1.0000 - val_loss: 5.5177 - val_accuracy: 0.3333\n",
      "Epoch 49/50\n",
      "15/15 [==============================] - 0s 14ms/step - loss: 2.8220e-06 - accuracy: 1.0000 - val_loss: 5.5368 - val_accuracy: 0.3333\n",
      "Epoch 50/50\n",
      "15/15 [==============================] - 0s 14ms/step - loss: 2.6803e-06 - accuracy: 1.0000 - val_loss: 5.5530 - val_accuracy: 0.3333\n"
     ]
    },
    {
     "data": {
      "text/plain": [
       "<tensorflow.python.keras.callbacks.History at 0x1472086ba00>"
      ]
     },
     "execution_count": 40,
     "metadata": {},
     "output_type": "execute_result"
    }
   ],
   "source": [
    "# 3. 모델 학습과정 설정\n",
    "model.compile(loss=\"categorical_crossentropy\", optimizer=\"adam\", \n",
    "              metrics=['accuracy'])\n",
    "# 4. 모델 학습시키기\n",
    "model.fit_generator(train_generator, steps_per_epoch=15,\n",
    "                   epochs=50,\n",
    "                   validation_data=test_generator,\n",
    "                   validation_steps=5)"
   ]
  },
  {
   "cell_type": "code",
   "execution_count": 41,
   "metadata": {
    "ExecuteTime": {
     "end_time": "2021-03-25T02:33:13.659360Z",
     "start_time": "2021-03-25T02:33:13.493636Z"
    }
   },
   "outputs": [
    {
     "name": "stdout",
     "output_type": "stream",
     "text": [
      "loss : 5.552955150604248\n",
      "accuracy : 0.3333333432674408\n",
      "\n",
      "{'circle': 0, 'rectangle': 1, 'triangle': 2}\n",
      "[[0.00 0.00 1.00]\n",
      " [0.00 0.01 0.99]\n",
      " [0.01 0.01 0.98]\n",
      " [0.00 0.01 0.99]\n",
      " [0.00 0.00 1.00]\n",
      " [0.28 0.00 0.72]\n",
      " [0.00 0.00 1.00]\n",
      " [0.00 0.00 1.00]\n",
      " [0.06 0.00 0.94]\n",
      " [0.27 0.00 0.73]\n",
      " [0.00 0.00 1.00]\n",
      " [0.00 0.00 1.00]\n",
      " [0.00 0.00 1.00]\n",
      " [0.00 0.00 1.00]\n",
      " [0.93 0.00 0.06]]\n"
     ]
    },
    {
     "name": "stderr",
     "output_type": "stream",
     "text": [
      "C:\\Users\\tjoeun\\anaconda3\\lib\\site-packages\\tensorflow\\python\\keras\\engine\\training.py:1905: UserWarning: `Model.predict_generator` is deprecated and will be removed in a future version. Please use `Model.predict`, which supports generators.\n",
      "  warnings.warn('`Model.predict_generator` is deprecated and '\n"
     ]
    }
   ],
   "source": [
    "# 5. 모델 평가하기\n",
    "score = model.evaluate_generator(test_generator, steps=5)\n",
    "print('loss :',score[0])\n",
    "print('accuracy :',score[1])\n",
    "print()\n",
    "# 6. 예측 하기\n",
    "pred = model.predict_generator(test_generator)\n",
    "print(test_generator.class_indices)\n",
    "np.set_printoptions(formatter={'float':lambda x : \"{:0.2f}\".format(x)})\n",
    "print(pred)"
   ]
  },
  {
   "cell_type": "markdown",
   "metadata": {},
   "source": [
    "## accuracy 늘리기\n",
    "- 데이터 확보, 데이터 부풀리기(ImageDataGenerator)\n",
    "- 레이어 층\n",
    "- 레이어 층"
   ]
  },
  {
   "cell_type": "code",
   "execution_count": 42,
   "metadata": {
    "ExecuteTime": {
     "end_time": "2021-03-25T02:33:26.044523Z",
     "start_time": "2021-03-25T02:33:26.022559Z"
    }
   },
   "outputs": [
    {
     "name": "stdout",
     "output_type": "stream",
     "text": [
      "Found 69 images belonging to 3 classes.\n",
      "Found 15 images belonging to 3 classes.\n"
     ]
    }
   ],
   "source": [
    "# 1. 데이터 생성하기\n",
    "train_datagen = ImageDataGenerator(rescale=1./255, # 정규화작업\n",
    "                            rotation_range=10,\n",
    "                            width_shift_range=0.2,\n",
    "                            height_shift_range=0.2,\n",
    "                            shear_range=0.7, #0.7라이안 밀림\n",
    "                            zoom_range=[0.9,2.2], # 0.9배~2.2배\n",
    "                            horizontal_flip=True, # 수평방향으로 뒤집기\n",
    "                            vertical_flip=True, # 수직방향으로 뒤집기\n",
    "                            fill_mode='nearest')#이미지를 회전, \n",
    "                              #이동하거나 축소할 때 공간을 채우는 방식\n",
    "\n",
    "train_generator = train_datagen.flow_from_directory(\n",
    "                    'data/handwriting/hand_test/train',\n",
    "                    target_size = (24,24),\n",
    "                    batch_size=3,\n",
    "                    class_mode = \"categorical\")\n",
    "\n",
    "test_datagen = ImageDataGenerator(rescale=1./255)\n",
    "test_generator = test_datagen.flow_from_directory(\n",
    "                    'data/handwriting/hand_test/test',\n",
    "                    target_size= (24,24),\n",
    "                    batch_size=3,\n",
    "                    class_mode = \"categorical\")"
   ]
  },
  {
   "cell_type": "code",
   "execution_count": 43,
   "metadata": {
    "ExecuteTime": {
     "end_time": "2021-03-25T02:33:28.744422Z",
     "start_time": "2021-03-25T02:33:28.668620Z"
    }
   },
   "outputs": [],
   "source": [
    "# 2. 모델 구성\n",
    "# Conv2D(필터갯수, 필터사이즈, activation_fun, 입력사이즈)\n",
    "model = Sequential()\n",
    "model.add(Conv2D(32, kernel_size=(3,3), activation=\"relu\", input_shape=(24,24,3)))\n",
    "model.add(Conv2D(32, kernel_size=(3,3), activation=\"relu\"))\n",
    "model.add(MaxPool2D(pool_size=(2,2))) # 2*2에서 제일 큰값만 뽑아 이미지 축소\n",
    "model.add(Dropout(0.1)) # 과적합을 막는 목적\n",
    "model.add(Conv2D(64, kernel_size=(3,3), activation=\"relu\"))\n",
    "model.add(Conv2D(64, kernel_size=(3,3), activation=\"relu\"))\n",
    "model.add(MaxPool2D(pool_size=(2,2))) # 2*2에서 제일 큰값만 뽑아 이미지 축소\n",
    "model.add(Dropout(0.1))\n",
    "model.add(Flatten()) # 2차원 이미지데이터를 1차원으로\n",
    "model.add(Dense(128, activation=\"relu\"))\n",
    "model.add(Dense(3, activation=\"softmax\"))"
   ]
  },
  {
   "cell_type": "code",
   "execution_count": 44,
   "metadata": {
    "ExecuteTime": {
     "end_time": "2021-03-25T02:33:42.106816Z",
     "start_time": "2021-03-25T02:33:32.525614Z"
    }
   },
   "outputs": [
    {
     "name": "stdout",
     "output_type": "stream",
     "text": [
      "Epoch 1/50\n",
      "15/15 [==============================] - 1s 23ms/step - loss: 1.1278 - accuracy: 0.3110 - val_loss: 1.0975 - val_accuracy: 0.4000\n",
      "Epoch 2/50\n",
      "15/15 [==============================] - 0s 10ms/step - loss: 1.0816 - accuracy: 0.5005 - val_loss: 1.0941 - val_accuracy: 0.5333\n",
      "Epoch 3/50\n",
      "15/15 [==============================] - 0s 11ms/step - loss: 1.0971 - accuracy: 0.2971 - val_loss: 1.0948 - val_accuracy: 0.3333\n",
      "Epoch 4/50\n",
      "15/15 [==============================] - 0s 10ms/step - loss: 1.0975 - accuracy: 0.3008 - val_loss: 1.0922 - val_accuracy: 0.4000\n",
      "Epoch 5/50\n",
      "15/15 [==============================] - 0s 10ms/step - loss: 1.0887 - accuracy: 0.3444 - val_loss: 1.0809 - val_accuracy: 0.3333\n",
      "Epoch 6/50\n",
      "15/15 [==============================] - 0s 10ms/step - loss: 1.0739 - accuracy: 0.4028 - val_loss: 1.0478 - val_accuracy: 0.4667\n",
      "Epoch 7/50\n",
      "15/15 [==============================] - 0s 10ms/step - loss: 1.0490 - accuracy: 0.3670 - val_loss: 0.9434 - val_accuracy: 0.7333\n",
      "Epoch 8/50\n",
      "15/15 [==============================] - 0s 10ms/step - loss: 1.0062 - accuracy: 0.4992 - val_loss: 0.9127 - val_accuracy: 0.4667\n",
      "Epoch 9/50\n",
      "15/15 [==============================] - 0s 10ms/step - loss: 1.0138 - accuracy: 0.4250 - val_loss: 0.9811 - val_accuracy: 0.5333\n",
      "Epoch 10/50\n",
      "15/15 [==============================] - 0s 10ms/step - loss: 0.9352 - accuracy: 0.5537 - val_loss: 0.9359 - val_accuracy: 0.5333\n",
      "Epoch 11/50\n",
      "15/15 [==============================] - 0s 11ms/step - loss: 0.7846 - accuracy: 0.7063 - val_loss: 1.0074 - val_accuracy: 0.3333\n",
      "Epoch 12/50\n",
      "15/15 [==============================] - 0s 11ms/step - loss: 1.0780 - accuracy: 0.4580 - val_loss: 0.8872 - val_accuracy: 0.7333\n",
      "Epoch 13/50\n",
      "15/15 [==============================] - 0s 11ms/step - loss: 0.7336 - accuracy: 0.7977 - val_loss: 0.8687 - val_accuracy: 0.8000\n",
      "Epoch 14/50\n",
      "15/15 [==============================] - 0s 10ms/step - loss: 0.6145 - accuracy: 0.7855 - val_loss: 1.0240 - val_accuracy: 0.7333\n",
      "Epoch 15/50\n",
      "15/15 [==============================] - 0s 10ms/step - loss: 0.8263 - accuracy: 0.4965 - val_loss: 0.8868 - val_accuracy: 0.8000\n",
      "Epoch 16/50\n",
      "15/15 [==============================] - 0s 10ms/step - loss: 0.5523 - accuracy: 0.8813 - val_loss: 0.9920 - val_accuracy: 0.8000\n",
      "Epoch 17/50\n",
      "15/15 [==============================] - 0s 10ms/step - loss: 0.9213 - accuracy: 0.7454 - val_loss: 0.8655 - val_accuracy: 0.6667\n",
      "Epoch 18/50\n",
      "15/15 [==============================] - 0s 10ms/step - loss: 0.8428 - accuracy: 0.6095 - val_loss: 0.6644 - val_accuracy: 0.7333\n",
      "Epoch 19/50\n",
      "15/15 [==============================] - 0s 10ms/step - loss: 0.5384 - accuracy: 0.7909 - val_loss: 0.7699 - val_accuracy: 0.5333\n",
      "Epoch 20/50\n",
      "15/15 [==============================] - 0s 10ms/step - loss: 0.2986 - accuracy: 0.9314 - val_loss: 1.8158 - val_accuracy: 0.3333\n",
      "Epoch 21/50\n",
      "15/15 [==============================] - 0s 10ms/step - loss: 0.5319 - accuracy: 0.7464 - val_loss: 1.1103 - val_accuracy: 0.4667\n",
      "Epoch 22/50\n",
      "15/15 [==============================] - 0s 10ms/step - loss: 0.5829 - accuracy: 0.7194 - val_loss: 1.0573 - val_accuracy: 0.6000\n",
      "Epoch 23/50\n",
      "15/15 [==============================] - 0s 10ms/step - loss: 0.4905 - accuracy: 0.7837 - val_loss: 0.8791 - val_accuracy: 0.4667\n",
      "Epoch 24/50\n",
      "15/15 [==============================] - 0s 10ms/step - loss: 0.5930 - accuracy: 0.7761 - val_loss: 0.8673 - val_accuracy: 0.6000\n",
      "Epoch 25/50\n",
      "15/15 [==============================] - 0s 10ms/step - loss: 0.3459 - accuracy: 0.8961 - val_loss: 1.7416 - val_accuracy: 0.5333\n",
      "Epoch 26/50\n",
      "15/15 [==============================] - 0s 10ms/step - loss: 0.2140 - accuracy: 0.9189 - val_loss: 0.7741 - val_accuracy: 0.7333\n",
      "Epoch 27/50\n",
      "15/15 [==============================] - 0s 11ms/step - loss: 0.7810 - accuracy: 0.7153 - val_loss: 0.9182 - val_accuracy: 0.6000\n",
      "Epoch 28/50\n",
      "15/15 [==============================] - 0s 10ms/step - loss: 0.2651 - accuracy: 0.8802 - val_loss: 2.0472 - val_accuracy: 0.5333\n",
      "Epoch 29/50\n",
      "15/15 [==============================] - 0s 11ms/step - loss: 0.2890 - accuracy: 0.8729 - val_loss: 1.6622 - val_accuracy: 0.5333\n",
      "Epoch 30/50\n",
      "15/15 [==============================] - 0s 10ms/step - loss: 0.2585 - accuracy: 0.9037 - val_loss: 0.8375 - val_accuracy: 0.7333\n",
      "Epoch 31/50\n",
      "15/15 [==============================] - 0s 11ms/step - loss: 0.5159 - accuracy: 0.7573 - val_loss: 1.6879 - val_accuracy: 0.4667\n",
      "Epoch 32/50\n",
      "15/15 [==============================] - 0s 11ms/step - loss: 0.7301 - accuracy: 0.7849 - val_loss: 0.7354 - val_accuracy: 0.7333\n",
      "Epoch 33/50\n",
      "15/15 [==============================] - 0s 11ms/step - loss: 0.2738 - accuracy: 0.9074 - val_loss: 1.7661 - val_accuracy: 0.5333\n",
      "Epoch 34/50\n",
      "15/15 [==============================] - 0s 11ms/step - loss: 0.1152 - accuracy: 0.9624 - val_loss: 1.0480 - val_accuracy: 0.6000\n",
      "Epoch 35/50\n",
      "15/15 [==============================] - 0s 11ms/step - loss: 0.3579 - accuracy: 0.8694 - val_loss: 1.1198 - val_accuracy: 0.8000\n",
      "Epoch 36/50\n",
      "15/15 [==============================] - 0s 11ms/step - loss: 0.3012 - accuracy: 0.9045 - val_loss: 1.5190 - val_accuracy: 0.6000\n",
      "Epoch 37/50\n",
      "15/15 [==============================] - 0s 11ms/step - loss: 0.3897 - accuracy: 0.9033 - val_loss: 1.2453 - val_accuracy: 0.6667\n",
      "Epoch 38/50\n",
      "15/15 [==============================] - 0s 11ms/step - loss: 0.2899 - accuracy: 0.9468 - val_loss: 0.9890 - val_accuracy: 0.8000\n",
      "Epoch 39/50\n",
      "15/15 [==============================] - 0s 11ms/step - loss: 0.3680 - accuracy: 0.8440 - val_loss: 1.7398 - val_accuracy: 0.6000\n",
      "Epoch 40/50\n",
      "15/15 [==============================] - 0s 11ms/step - loss: 0.3743 - accuracy: 0.9475 - val_loss: 0.9057 - val_accuracy: 0.8000\n",
      "Epoch 41/50\n",
      "15/15 [==============================] - 0s 10ms/step - loss: 0.2069 - accuracy: 0.9041 - val_loss: 0.8333 - val_accuracy: 0.8000\n",
      "Epoch 42/50\n",
      "15/15 [==============================] - 0s 11ms/step - loss: 0.1746 - accuracy: 0.9146 - val_loss: 1.1656 - val_accuracy: 0.7333\n",
      "Epoch 43/50\n",
      "15/15 [==============================] - 0s 11ms/step - loss: 0.0993 - accuracy: 0.9770 - val_loss: 0.9790 - val_accuracy: 0.8000\n",
      "Epoch 44/50\n",
      "15/15 [==============================] - 0s 10ms/step - loss: 0.1402 - accuracy: 0.8961 - val_loss: 1.2135 - val_accuracy: 0.7333\n",
      "Epoch 45/50\n",
      "15/15 [==============================] - 0s 10ms/step - loss: 0.0415 - accuracy: 0.9930 - val_loss: 1.1816 - val_accuracy: 0.8000\n",
      "Epoch 46/50\n",
      "15/15 [==============================] - 0s 11ms/step - loss: 0.0881 - accuracy: 0.9447 - val_loss: 0.9444 - val_accuracy: 0.8000\n",
      "Epoch 47/50\n",
      "15/15 [==============================] - 0s 10ms/step - loss: 0.2166 - accuracy: 0.9110 - val_loss: 0.6122 - val_accuracy: 0.8000\n",
      "Epoch 48/50\n",
      "15/15 [==============================] - 0s 10ms/step - loss: 0.2910 - accuracy: 0.8547 - val_loss: 1.0838 - val_accuracy: 0.7333\n",
      "Epoch 49/50\n",
      "15/15 [==============================] - 0s 10ms/step - loss: 0.1568 - accuracy: 0.9166 - val_loss: 1.7052 - val_accuracy: 0.6667\n",
      "Epoch 50/50\n",
      "15/15 [==============================] - 0s 10ms/step - loss: 0.2144 - accuracy: 0.9314 - val_loss: 1.4717 - val_accuracy: 0.7333\n"
     ]
    },
    {
     "data": {
      "text/plain": [
       "<tensorflow.python.keras.callbacks.History at 0x147218ccfa0>"
      ]
     },
     "execution_count": 44,
     "metadata": {},
     "output_type": "execute_result"
    }
   ],
   "source": [
    "# 3. 모델 학습과정 설정\n",
    "model.compile(loss=\"categorical_crossentropy\", optimizer=\"adam\", \n",
    "              metrics=['accuracy'])\n",
    "# 4. 모델 학습시키기\n",
    "model.fit_generator(train_generator, steps_per_epoch=15,\n",
    "                   epochs=50,\n",
    "                   validation_data=test_generator,\n",
    "                   validation_steps=5)"
   ]
  },
  {
   "cell_type": "code",
   "execution_count": 45,
   "metadata": {
    "ExecuteTime": {
     "end_time": "2021-03-25T02:33:52.169630Z",
     "start_time": "2021-03-25T02:33:51.988617Z"
    }
   },
   "outputs": [
    {
     "name": "stdout",
     "output_type": "stream",
     "text": [
      "loss : 1.471691370010376\n",
      "accuracy : 0.7333333492279053\n",
      "\n",
      "{'circle': 0, 'rectangle': 1, 'triangle': 2}\n",
      "[2 1 2 0 0 0 0 2 2 1 2 0 0 1 2]\n",
      "[[0.00 0.00 1.00]\n",
      " [0.00 1.00 0.00]\n",
      " [0.24 0.05 0.71]\n",
      " [0.92 0.02 0.06]\n",
      " [0.98 0.00 0.02]\n",
      " [0.56 0.04 0.41]\n",
      " [0.78 0.00 0.22]\n",
      " [0.00 0.00 1.00]\n",
      " [0.01 0.00 0.99]\n",
      " [0.43 0.51 0.06]\n",
      " [0.03 0.00 0.97]\n",
      " [0.99 0.00 0.01]\n",
      " [1.00 0.00 0.00]\n",
      " [0.16 0.83 0.00]\n",
      " [0.06 0.00 0.94]]\n"
     ]
    }
   ],
   "source": [
    "# 5. 모델 평가하기\n",
    "score = model.evaluate_generator(test_generator, steps=5)\n",
    "print('loss :',score[0])\n",
    "print('accuracy :',score[1])\n",
    "print()\n",
    "# 6. 예측 하기\n",
    "pred = model.predict_generator(test_generator)\n",
    "print(test_generator.class_indices)\n",
    "np.set_printoptions(formatter={'float':lambda x : \"{:0.2f}\".format(x)})\n",
    "print(np.argmax(pred, axis=1))\n",
    "print(pred)"
   ]
  }
 ],
 "metadata": {
  "kernelspec": {
   "display_name": "Python 3",
   "language": "python",
   "name": "python3"
  },
  "language_info": {
   "codemirror_mode": {
    "name": "ipython",
    "version": 3
   },
   "file_extension": ".py",
   "mimetype": "text/x-python",
   "name": "python",
   "nbconvert_exporter": "python",
   "pygments_lexer": "ipython3",
   "version": "3.8.5"
  },
  "toc": {
   "base_numbering": "11",
   "nav_menu": {},
   "number_sections": true,
   "sideBar": true,
   "skip_h1_title": false,
   "title_cell": "Table of Contents",
   "title_sidebar": "Contents",
   "toc_cell": false,
   "toc_position": {
    "height": "795.556px",
    "left": "29px",
    "top": "152.733px",
    "width": "211.997px"
   },
   "toc_section_display": true,
   "toc_window_display": false
  },
  "varInspector": {
   "cols": {
    "lenName": 16,
    "lenType": 16,
    "lenVar": 40
   },
   "kernels_config": {
    "python": {
     "delete_cmd_postfix": "",
     "delete_cmd_prefix": "del ",
     "library": "var_list.py",
     "varRefreshCmd": "print(var_dic_list())"
    },
    "r": {
     "delete_cmd_postfix": ") ",
     "delete_cmd_prefix": "rm(",
     "library": "var_list.r",
     "varRefreshCmd": "cat(var_dic_list()) "
    }
   },
   "types_to_exclude": [
    "module",
    "function",
    "builtin_function_or_method",
    "instance",
    "_Feature"
   ],
   "window_display": false
  }
 },
 "nbformat": 4,
 "nbformat_minor": 4
}
