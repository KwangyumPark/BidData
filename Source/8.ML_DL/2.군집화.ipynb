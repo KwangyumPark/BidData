{
 "cells": [
  {
   "cell_type": "markdown",
   "metadata": {},
   "source": [
    "21.03.19 ML_DL 군집화"
   ]
  },
  {
   "cell_type": "markdown",
   "metadata": {},
   "source": [
    "# 군집화"
   ]
  },
  {
   "cell_type": "code",
   "execution_count": 1,
   "metadata": {
    "ExecuteTime": {
     "end_time": "2021-03-21T10:34:20.972186Z",
     "start_time": "2021-03-21T10:34:20.665201Z"
    }
   },
   "outputs": [],
   "source": [
    "import random\n",
    "import numpy as np\n",
    "import matplotlib.pyplot as plt"
   ]
  },
  {
   "cell_type": "code",
   "execution_count": 2,
   "metadata": {
    "ExecuteTime": {
     "end_time": "2021-03-21T10:34:20.988143Z",
     "start_time": "2021-03-21T10:34:20.974181Z"
    }
   },
   "outputs": [],
   "source": [
    "data = []\n",
    "for i in range(50):\n",
    "    data.append([random.randint(40,70), random.randint(140,180)])\n",
    "    data.append([random.randint(60,90), random.randint(170,200)])"
   ]
  },
  {
   "cell_type": "code",
   "execution_count": 3,
   "metadata": {
    "ExecuteTime": {
     "end_time": "2021-03-21T10:34:21.020058Z",
     "start_time": "2021-03-21T10:34:20.991136Z"
    }
   },
   "outputs": [
    {
     "name": "stdout",
     "output_type": "stream",
     "text": [
      "[56, 163] [48, 159] [68, 170] [69, 169] [52, 140] [69, 161] [49, 170] [70, 174] [57, 148] [60, 157] [70, 141] [54, 159] [44, 169] [61, 155] [60, 153] [48, 149] [64, 163] [43, 155] [46, 180] [68, 149] [62, 173] [60, 174] [49, 167] [69, 151] [58, 159] [49, 161] [53, 142] [50, 151] [53, 149] [56, 177] [63, 176] [53, 174] [70, 171] [44, 157] [40, 163] [41, 168] [61, 165] [57, 174] [64, 160] [49, 144] [47, 179] [47, 178] [44, 145] [53, 159] [61, 159] [68, 169] [54, 149] [64, 149] [57, 176] [62, 154] \n",
      "~~~~~~~~~~~~~~~~~~~~~~~~~~~~~~~~~~~~~~~~~~~~~~~~~~~~~~~~~~~~~~~~~~~~~~~~~~~~~~~~~~~~~~~~~~~\n",
      "[81, 188] [83, 186] [86, 185] [80, 182] [82, 187] [70, 194] [90, 197] [65, 177] [90, 195] [71, 200] [82, 173] [81, 182] [69, 182] [90, 172] [83, 173] [70, 178] [71, 184] [64, 172] [90, 186] [70, 176] [79, 197] [63, 196] [67, 188] [67, 190] [81, 172] [88, 191] [76, 185] [81, 188] [82, 192] [80, 184] [66, 174] [62, 187] [75, 172] [67, 185] [75, 184] [76, 187] [65, 189] [66, 181] [60, 176] [75, 178] [88, 191] [71, 180] [83, 197] [80, 200] [65, 199] [63, 197] [82, 191] [64, 170] [65, 189] [84, 171] "
     ]
    }
   ],
   "source": [
    "# 여자 데이터\n",
    "for female in data[0:100:2]:\n",
    "    print(female, end=\" \")\n",
    "\n",
    "print(\"\\n~~~~~~~~~~~~~~~~~~~~~~~~~~~~~~~~~~~~~~~~~~~~~~~~~~~~~~~~~~~~~~~~~~~~~~~~~~~~~~~~~~~~~~~~~~~\") \n",
    "\n",
    "#남자 데이터\n",
    "for male in data[1:100:2]:\n",
    "    print(male, end=\" \")"
   ]
  },
  {
   "cell_type": "code",
   "execution_count": 4,
   "metadata": {
    "ExecuteTime": {
     "end_time": "2021-03-21T10:34:21.193744Z",
     "start_time": "2021-03-21T10:34:21.023051Z"
    }
   },
   "outputs": [
    {
     "data": {
      "text/plain": [
       "[<matplotlib.lines.Line2D at 0x1ab17622df0>]"
      ]
     },
     "execution_count": 4,
     "metadata": {},
     "output_type": "execute_result"
    },
    {
     "data": {
      "image/png": "[encoded data removed]",
      "text/plain": [
       "<Figure size 432x288 with 1 Axes>"
      ]
     },
     "metadata": {
      "needs_background": "light"
     },
     "output_type": "display_data"
    }
   ],
   "source": [
    "# 여자 몸무게\n",
    "[d[0] for d in data[0:100:2]]\n",
    "# 여자 키\n",
    "[d[1] for d in data[0:100:2]]\n",
    "\n",
    "# 남자 몸무게\n",
    "[d[0] for d in data[1:100:2]]\n",
    "# 남자 키\n",
    "[d[1] for d in data[1:100:2]]\n",
    "\n",
    "plt.plot([d[0] for d in data[0:100:2]], \n",
    "         [d[1] for d in data[0:100:2]], \"o\", color='r')\n",
    "plt.plot([d[0] for d in data[1:100:2]], \n",
    "         [d[1] for d in data[1:100:2]], \"o\", color='b')"
   ]
  },
  {
   "cell_type": "code",
   "execution_count": 5,
   "metadata": {
    "ExecuteTime": {
     "end_time": "2021-03-21T10:34:21.209472Z",
     "start_time": "2021-03-21T10:34:21.197519Z"
    }
   },
   "outputs": [
    {
     "name": "stdout",
     "output_type": "stream",
     "text": [
      "초기 랜덤 기준점 : [[79, 173], [54, 158]]\n"
     ]
    }
   ],
   "source": [
    "# 초기 랜덤 지점 2개\n",
    "random_points = [[random.randint(40,90), random.randint(140,200)],\n",
    "                [random.randint(40,90), random.randint(140,200)]]\n",
    "print('초기 랜덤 기준점 :', random_points)"
   ]
  },
  {
   "cell_type": "code",
   "execution_count": 6,
   "metadata": {
    "ExecuteTime": {
     "end_time": "2021-03-21T10:34:21.225412Z",
     "start_time": "2021-03-21T10:34:21.212446Z"
    }
   },
   "outputs": [
    {
     "name": "stdout",
     "output_type": "stream",
     "text": [
      "79 173/54 158\n"
     ]
    }
   ],
   "source": [
    "# 기준점 1\n",
    "print(random_points[0][0], random_points[0][1], end='/')\n",
    "# 기준점 2\n",
    "print(random_points[1][0], random_points[1][1])"
   ]
  },
  {
   "cell_type": "code",
   "execution_count": 7,
   "metadata": {
    "ExecuteTime": {
     "end_time": "2021-03-21T10:34:21.478026Z",
     "start_time": "2021-03-21T10:34:21.227406Z"
    }
   },
   "outputs": [
    {
     "data": {
      "text/plain": [
       "[<matplotlib.lines.Line2D at 0x1ab177c0d00>]"
      ]
     },
     "execution_count": 7,
     "metadata": {},
     "output_type": "execute_result"
    },
    {
     "data": {
      "image/png": "[encoded data removed]",
      "text/plain": [
       "<Figure size 432x288 with 1 Axes>"
      ]
     },
     "metadata": {
      "needs_background": "light"
     },
     "output_type": "display_data"
    }
   ],
   "source": [
    "for x in data:\n",
    "    plt.plot(x[0], x[1], 'o', color='k')\n",
    "plt.plot(random_points[0][0], \n",
    "         random_points[0][1], 'x', color='r') # 기준점1\n",
    "plt.plot(random_points[1][0], \n",
    "         random_points[1][1], 'x', color='b') # 기준점2    "
   ]
  },
  {
   "cell_type": "code",
   "execution_count": 8,
   "metadata": {
    "ExecuteTime": {
     "end_time": "2021-03-21T10:34:21.493877Z",
     "start_time": "2021-03-21T10:34:21.481909Z"
    }
   },
   "outputs": [],
   "source": [
    "# 두 영역으로 나눌 빈 리스트 생성\n",
    "group1 = []\n",
    "group2 = []"
   ]
  },
  {
   "cell_type": "code",
   "execution_count": 9,
   "metadata": {
    "ExecuteTime": {
     "end_time": "2021-03-21T10:34:21.508917Z",
     "start_time": "2021-03-21T10:34:21.496868Z"
    }
   },
   "outputs": [],
   "source": [
    "# 영역을 나누기 위해 두 점 사이의 거리를 구하는 함수 [0,0] ~ [3,4]\n",
    "def dist(a, b):\n",
    "    return np.sqrt((a[0]-b[0])**2 + (a[1]-b[1])**2)"
   ]
  },
  {
   "cell_type": "code",
   "execution_count": 10,
   "metadata": {
    "ExecuteTime": {
     "end_time": "2021-03-21T10:34:21.524793Z",
     "start_time": "2021-03-21T10:34:21.514821Z"
    }
   },
   "outputs": [
    {
     "data": {
      "text/plain": [
       "5.0"
      ]
     },
     "execution_count": 10,
     "metadata": {},
     "output_type": "execute_result"
    }
   ],
   "source": [
    "a = [0,0]; b=[3,4]\n",
    "dist(a, b)"
   ]
  },
  {
   "cell_type": "code",
   "execution_count": 11,
   "metadata": {
    "ExecuteTime": {
     "end_time": "2021-03-21T10:34:21.540749Z",
     "start_time": "2021-03-21T10:34:21.527786Z"
    }
   },
   "outputs": [],
   "source": [
    "for d in data:\n",
    "    if dist(random_points[0], d) < dist(random_points[1],d): \n",
    "        group1.append(d) # 빨간 x랑 더 가까운 그룹 \n",
    "    else:\n",
    "        group2.append(d) # 파란 x랑 더 가까운 그룹"
   ]
  },
  {
   "cell_type": "code",
   "execution_count": 12,
   "metadata": {
    "ExecuteTime": {
     "end_time": "2021-03-21T10:34:21.762225Z",
     "start_time": "2021-03-21T10:34:21.542746Z"
    }
   },
   "outputs": [
    {
     "data": {
      "text/plain": [
       "[<matplotlib.lines.Line2D at 0x1ab1793d850>]"
      ]
     },
     "execution_count": 12,
     "metadata": {},
     "output_type": "execute_result"
    },
    {
     "data": {
      "image/png": "[encoded data removed]",
      "text/plain": [
       "<Figure size 432x288 with 1 Axes>"
      ]
     },
     "metadata": {
      "needs_background": "light"
     },
     "output_type": "display_data"
    }
   ],
   "source": [
    "# 새로운 영역과 랜덤점 그래프\n",
    "for d in group1:\n",
    "    plt.plot(d[0], d[1], 'o', color='r')\n",
    "for d in group2:\n",
    "    plt.plot(d[0], d[1],'o', color='b')\n",
    "plt.plot(random_points[0][0], random_points[0][1], 'x', color='r') # 기준점1\n",
    "plt.plot(random_points[1][0], random_points[1][1], 'x', color='b') # 기준점2"
   ]
  },
  {
   "cell_type": "code",
   "execution_count": 13,
   "metadata": {
    "ExecuteTime": {
     "end_time": "2021-03-21T10:34:21.778151Z",
     "start_time": "2021-03-21T10:34:21.764176Z"
    }
   },
   "outputs": [
    {
     "name": "stdout",
     "output_type": "stream",
     "text": [
      "[[79, 173], [54, 158]]\n",
      "[[74.76363636363637, 183.6909090909091], [54.8, 160.0888888888889]]\n"
     ]
    }
   ],
   "source": [
    "# 기준점 이동\n",
    "sumX = 0; sumY = 0\n",
    "for g in group1:\n",
    "    sumX += g[0] # x축값들 누적\n",
    "    sumY += g[1] # y축값들 누적\n",
    "# 새로운 기준점\n",
    "new_points = []\n",
    "new_points.append([sumX/len(group1), sumY/len(group1)])\n",
    "sumX = 0 ; sumY = 0;\n",
    "for g in group2:\n",
    "    sumX += g[0]\n",
    "    sumY += g[1]\n",
    "new_points.append([sumX/len(group2), sumY/len(group2)])\n",
    "print(random_points)\n",
    "print(new_points)"
   ]
  },
  {
   "cell_type": "code",
   "execution_count": 14,
   "metadata": {
    "ExecuteTime": {
     "end_time": "2021-03-21T10:34:22.012117Z",
     "start_time": "2021-03-21T10:34:21.781108Z"
    }
   },
   "outputs": [
    {
     "data": {
      "text/plain": [
       "[<matplotlib.lines.Line2D at 0x1ab17ab3220>]"
      ]
     },
     "execution_count": 14,
     "metadata": {},
     "output_type": "execute_result"
    },
    {
     "data": {
      "image/png": "[encoded data removed]",
      "text/plain": [
       "<Figure size 432x288 with 1 Axes>"
      ]
     },
     "metadata": {
      "needs_background": "light"
     },
     "output_type": "display_data"
    }
   ],
   "source": [
    "# 새로운 영역과 랜덤점 그래프\n",
    "for d in group1:\n",
    "    plt.plot(d[0], d[1], 'o', color='r')\n",
    "for d in group2:\n",
    "    plt.plot(d[0], d[1],'o', color='b')\n",
    "plt.plot(new_points[0][0], new_points[0][1], 'x', color='r') # 기준점1\n",
    "plt.plot(new_points[1][0], new_points[1][1], 'x', color='b') # 기준점2"
   ]
  },
  {
   "cell_type": "code",
   "execution_count": 15,
   "metadata": {
    "ExecuteTime": {
     "end_time": "2021-03-21T10:34:22.027819Z",
     "start_time": "2021-03-21T10:34:22.014819Z"
    }
   },
   "outputs": [],
   "source": [
    "group1 = []\n",
    "group2 = []\n",
    "for d in data:\n",
    "    if dist(new_points[0], d) < dist(new_points[1],d): \n",
    "        group1.append(d) # 빨간 x랑 더 가까운 그룹 \n",
    "    else:\n",
    "        group2.append(d) # 파란 x랑 더 가까운 그룹"
   ]
  },
  {
   "cell_type": "code",
   "execution_count": 16,
   "metadata": {
    "ExecuteTime": {
     "end_time": "2021-03-21T10:34:22.261802Z",
     "start_time": "2021-03-21T10:34:22.029781Z"
    }
   },
   "outputs": [
    {
     "data": {
      "text/plain": [
       "[<matplotlib.lines.Line2D at 0x1ab17c1db50>]"
      ]
     },
     "execution_count": 16,
     "metadata": {},
     "output_type": "execute_result"
    },
    {
     "data": {
      "image/png": "[encoded data removed]",
      "text/plain": [
       "<Figure size 432x288 with 1 Axes>"
      ]
     },
     "metadata": {
      "needs_background": "light"
     },
     "output_type": "display_data"
    }
   ],
   "source": [
    "# 새로운 영역과 랜덤점 그래프\n",
    "for d in group1:\n",
    "    plt.plot(d[0], d[1], 'o', color='r')\n",
    "for d in group2:\n",
    "    plt.plot(d[0], d[1],'o', color='b')\n",
    "plt.plot(new_points[0][0], new_points[0][1], 'x', color='r') # 기준점1\n",
    "plt.plot(new_points[1][0], new_points[1][1], 'x', color='b') # 기준점2"
   ]
  },
  {
   "cell_type": "markdown",
   "metadata": {},
   "source": [
    "전체코드"
   ]
  },
  {
   "cell_type": "code",
   "execution_count": 17,
   "metadata": {
    "ExecuteTime": {
     "end_time": "2021-03-21T10:34:22.309667Z",
     "start_time": "2021-03-21T10:34:22.264751Z"
    }
   },
   "outputs": [
    {
     "name": "stdout",
     "output_type": "stream",
     "text": [
      "초기기준점 : [[60, 151], [72, 162]]\n",
      "1 번째 기준 : [[52.588235294117645, 153.38235294117646], [70.31818181818181, 182.45454545454547]]\n",
      "2 번째 기준 : [[53.648648648648646, 154.05405405405406], [70.53968253968254, 183.44444444444446]]\n",
      "3 번째 기준 : [[53.648648648648646, 154.05405405405406], [70.53968253968254, 183.44444444444446]]\n",
      "4 번째 기준 : [[53.648648648648646, 154.05405405405406], [70.53968253968254, 183.44444444444446]]\n",
      "5 번째 기준 : [[53.648648648648646, 154.05405405405406], [70.53968253968254, 183.44444444444446]]\n",
      "6 번째 기준 : [[53.648648648648646, 154.05405405405406], [70.53968253968254, 183.44444444444446]]\n",
      "7 번째 기준 : [[53.648648648648646, 154.05405405405406], [70.53968253968254, 183.44444444444446]]\n",
      "8 번째 기준 : [[53.648648648648646, 154.05405405405406], [70.53968253968254, 183.44444444444446]]\n",
      "9 번째 기준 : [[53.648648648648646, 154.05405405405406], [70.53968253968254, 183.44444444444446]]\n",
      "10 번째 기준 : [[53.648648648648646, 154.05405405405406], [70.53968253968254, 183.44444444444446]]\n"
     ]
    }
   ],
   "source": [
    "import random\n",
    "import numpy as np\n",
    "import matplotlib.pyplot as plt\n",
    "\n",
    "# 영역을 나누기 위해 두 점 사이의 거리를 구하는 함수 [0,0] ~ [3,4]\n",
    "def dist(a, b):\n",
    "    return np.sqrt((a[0]-b[0])**2 + (a[1]-b[1])**2)\n",
    "\n",
    "data = []\n",
    "for i in range(50):\n",
    "    data.append([random.randint(40,70), random.randint(140,180)])\n",
    "    data.append([random.randint(60,90), random.randint(170,200)])\n",
    "new_points = [[random.randint(40,90), random.randint(140,200)],\n",
    "              [random.randint(40,90), random.randint(140,200)]]\n",
    "print('초기기준점 :',new_points)\n",
    "for i in range(1,11):\n",
    "    group1 = []\n",
    "    group2 = []\n",
    "    for d in data:\n",
    "        if dist(new_points[0], d) < dist(new_points[1], d):\n",
    "            group1.append(d)\n",
    "        else:\n",
    "            group2.append(d)\n",
    "    # group1과 group2의 중간지점을 새로운 기준점\n",
    "    sumX = 0; sumY = 0\n",
    "    for g in group1:\n",
    "        sumX += g[0]\n",
    "        sumY += g[1]\n",
    "    new_points = []\n",
    "    new_points.append([sumX/len(group1), sumY/len(group1)])\n",
    "    sumX = 0; sumY = 0\n",
    "    for g in group2:\n",
    "        sumX += g[0]\n",
    "        sumY += g[1]\n",
    "    new_points.append([sumX/len(group2), sumY/len(group2)])\n",
    "    print(i,'번째 기준 :', new_points)"
   ]
  },
  {
   "cell_type": "code",
   "execution_count": 18,
   "metadata": {
    "ExecuteTime": {
     "end_time": "2021-03-21T10:34:22.446543Z",
     "start_time": "2021-03-21T10:34:22.312623Z"
    }
   },
   "outputs": [
    {
     "data": {
      "text/plain": [
       "[<matplotlib.lines.Line2D at 0x1ab17c9af40>]"
      ]
     },
     "execution_count": 18,
     "metadata": {},
     "output_type": "execute_result"
    },
    {
     "data": {
      "image/png": "[encoded data removed]",
      "text/plain": [
       "<Figure size 432x288 with 1 Axes>"
      ]
     },
     "metadata": {
      "needs_background": "light"
     },
     "output_type": "display_data"
    }
   ],
   "source": [
    "# 여자 몸무게 \n",
    "[d[0] for d in data[0:100:2] ]\n",
    "# 여자 키\n",
    "[d[1] for d in data[0:100:2] ]\n",
    "# 남자 몸무게 \n",
    "[d[0] for d in data[1:100:2] ]\n",
    "# 남자 키\n",
    "[d[1] for d in data[1:100:2] ]\n",
    "plt.plot([d[0] for d in data[0:100:2] ], [d[1] for d in data[0:100:2] ], 'o', \n",
    "         color='r')\n",
    "plt.plot([d[0] for d in data[1:100:2] ], [d[1] for d in data[1:100:2] ], 'o',\n",
    "        color='b')"
   ]
  },
  {
   "cell_type": "code",
   "execution_count": 19,
   "metadata": {
    "ExecuteTime": {
     "end_time": "2021-03-21T10:34:22.679209Z",
     "start_time": "2021-03-21T10:34:22.449567Z"
    }
   },
   "outputs": [
    {
     "data": {
      "image/png": "[encoded data removed]",
      "text/plain": [
       "<Figure size 432x288 with 1 Axes>"
      ]
     },
     "metadata": {
      "needs_background": "light"
     },
     "output_type": "display_data"
    }
   ],
   "source": [
    "for g in group1:\n",
    "    plt.plot(g[0], g[1], 'o', color='r')\n",
    "for g in group2:\n",
    "    plt.plot(g[0], g[1], 'o', color='b')"
   ]
  }
 ],
 "metadata": {
  "kernelspec": {
   "display_name": "Python 3",
   "language": "python",
   "name": "python3"
  },
  "language_info": {
   "codemirror_mode": {
    "name": "ipython",
    "version": 3
   },
   "file_extension": ".py",
   "mimetype": "text/x-python",
   "name": "python",
   "nbconvert_exporter": "python",
   "pygments_lexer": "ipython3",
   "version": "3.8.3"
  },
  "toc": {
   "base_numbering": "2",
   "nav_menu": {},
   "number_sections": true,
   "sideBar": true,
   "skip_h1_title": false,
   "title_cell": "Table of Contents",
   "title_sidebar": "Contents",
   "toc_cell": false,
   "toc_position": {
    "height": "861.083px",
    "left": "71px",
    "top": "222.4px",
    "width": "217.55px"
   },
   "toc_section_display": true,
   "toc_window_display": false
  },
  "varInspector": {
   "cols": {
    "lenName": 16,
    "lenType": 16,
    "lenVar": 40
   },
   "kernels_config": {
    "python": {
     "delete_cmd_postfix": "",
     "delete_cmd_prefix": "del ",
     "library": "var_list.py",
     "varRefreshCmd": "print(var_dic_list())"
    },
    "r": {
     "delete_cmd_postfix": ") ",
     "delete_cmd_prefix": "rm(",
     "library": "var_list.r",
     "varRefreshCmd": "cat(var_dic_list()) "
    }
   },
   "types_to_exclude": [
    "module",
    "function",
    "builtin_function_or_method",
    "instance",
    "_Feature"
   ],
   "window_display": false
  }
 },
 "nbformat": 4,
 "nbformat_minor": 4
}
