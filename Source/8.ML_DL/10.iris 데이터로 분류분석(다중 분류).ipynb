{
 "cells": [
  {
   "cell_type": "markdown",
   "metadata": {},
   "source": [
    "21.03.25 ML_DL iris 데이터로 분석(다중분석)"
   ]
  },
  {
   "cell_type": "markdown",
   "metadata": {},
   "source": [
    "# Iris 데이터를 통한 분류 분석"
   ]
  },
  {
   "cell_type": "code",
   "execution_count": 1,
   "metadata": {
    "ExecuteTime": {
     "end_time": "2021-03-25T01:49:11.538414Z",
     "start_time": "2021-03-25T01:49:04.537227Z"
    }
   },
   "outputs": [],
   "source": [
    "import seaborn as sns\n",
    "import pandas as pd # 원핫인코딩\n",
    "from sklearn.model_selection import train_test_split # 훈련셋과 테스트셋 분리\n",
    "from tensorflow.keras.models import Sequential\n",
    "from tensorflow.keras.layers import Dense, Input, Dropout\n",
    "import matplotlib.pyplot as plt"
   ]
  },
  {
   "cell_type": "code",
   "execution_count": 2,
   "metadata": {
    "ExecuteTime": {
     "end_time": "2021-03-25T01:49:11.668630Z",
     "start_time": "2021-03-25T01:49:11.547391Z"
    }
   },
   "outputs": [
    {
     "data": {
      "text/html": [
       "<div>\n",
       "<style scoped>\n",
       "    .dataframe tbody tr th:only-of-type {\n",
       "        vertical-align: middle;\n",
       "    }\n",
       "\n",
       "    .dataframe tbody tr th {\n",
       "        vertical-align: top;\n",
       "    }\n",
       "\n",
       "    .dataframe thead th {\n",
       "        text-align: right;\n",
       "    }\n",
       "</style>\n",
       "<table border=\"1\" class=\"dataframe\">\n",
       "  <thead>\n",
       "    <tr style=\"text-align: right;\">\n",
       "      <th></th>\n",
       "      <th>setosa</th>\n",
       "      <th>versicolor</th>\n",
       "      <th>virginica</th>\n",
       "    </tr>\n",
       "  </thead>\n",
       "  <tbody>\n",
       "    <tr>\n",
       "      <th>0</th>\n",
       "      <td>1</td>\n",
       "      <td>0</td>\n",
       "      <td>0</td>\n",
       "    </tr>\n",
       "    <tr>\n",
       "      <th>50</th>\n",
       "      <td>0</td>\n",
       "      <td>1</td>\n",
       "      <td>0</td>\n",
       "    </tr>\n",
       "    <tr>\n",
       "      <th>100</th>\n",
       "      <td>0</td>\n",
       "      <td>0</td>\n",
       "      <td>1</td>\n",
       "    </tr>\n",
       "  </tbody>\n",
       "</table>\n",
       "</div>"
      ],
      "text/plain": [
       "     setosa  versicolor  virginica\n",
       "0         1           0          0\n",
       "50        0           1          0\n",
       "100       0           0          1"
      ]
     },
     "execution_count": 2,
     "metadata": {},
     "output_type": "execute_result"
    }
   ],
   "source": [
    "# 1. 데이터 셋\n",
    "iris = sns.load_dataset(\"iris\")\n",
    "# display(iris.head(2))\n",
    "iris_X = iris.iloc[:, :-1].to_numpy()\n",
    "iris_Y = iris.iloc[:, -1]\n",
    "# iris_Y = utils.to_categorical(iris_Y) # 숫자가 아니면 to_categorical 불가\n",
    "iris_Y = pd.get_dummies(iris_Y)\n",
    "iris_Y[::50]"
   ]
  },
  {
   "cell_type": "code",
   "execution_count": 3,
   "metadata": {
    "ExecuteTime": {
     "end_time": "2021-03-25T01:49:28.540643Z",
     "start_time": "2021-03-25T01:49:28.528675Z"
    }
   },
   "outputs": [
    {
     "data": {
      "text/plain": [
       "((105, 4), (105, 3), (45, 4), (45, 3))"
      ]
     },
     "execution_count": 3,
     "metadata": {},
     "output_type": "execute_result"
    }
   ],
   "source": [
    "from tensorflow.keras.callbacks import EarlyStopping, ModelCheckpoint\n",
    "import os\n",
    "model_save_folder = './model/'\n",
    "if not os.path.exists(model_save_folder):\n",
    "    os.mkdir(model_save_folder)\n",
    "file = model_save_folder + 'iris-{epoch:03d}-val{val_accuracy:.4f}.h5'\n",
    "\n",
    "early_stopping = EarlyStopping(patience=40)\n",
    "checkpoint = ModelCheckpoint(filepath=file,\n",
    "                            monitor='val_accuracy',\n",
    "                            verbose=1,\n",
    "                            save_best_only=True)\n",
    "\n",
    "# 1. 데이터 셋\n",
    "iris = sns.load_dataset(\"iris\")\n",
    "# display(iris.head(2))\n",
    "iris_X = iris.iloc[:, :-1].to_numpy()\n",
    "iris_Y = iris.iloc[:, -1]\n",
    "# iris_Y = utils.to_categorical(iris_Y) # 숫자가 아니면 to_categorical 불가\n",
    "iris_Y = pd.get_dummies(iris_Y).to_numpy()\n",
    "# 1 0 0 = setosa  / 0 1 0 => versicolor / 0 0 1 => virginica\n",
    "train_X, test_X, train_Y, test_Y = train_test_split(iris_X, iris_Y, test_size=0.3,\n",
    "                                                   random_state=1)\n",
    "train_X.shape, train_Y.shape, test_X.shape, test_Y.shape"
   ]
  },
  {
   "cell_type": "code",
   "execution_count": 4,
   "metadata": {
    "ExecuteTime": {
     "end_time": "2021-03-25T01:49:48.227327Z",
     "start_time": "2021-03-25T01:49:40.009028Z"
    }
   },
   "outputs": [
    {
     "name": "stdout",
     "output_type": "stream",
     "text": [
      "Epoch 1/300\n",
      "2/2 [==============================] - 2s 1s/step - loss: 1.1458 - accuracy: 0.3994 - val_loss: 1.1653 - val_accuracy: 0.2381\n",
      "\n",
      "Epoch 00001: val_accuracy improved from -inf to 0.23810, saving model to ./model\\iris-001-val0.2381.h5\n",
      "Epoch 2/300\n",
      "2/2 [==============================] - 0s 38ms/step - loss: 1.0244 - accuracy: 0.4333 - val_loss: 1.1086 - val_accuracy: 0.5238\n",
      "\n",
      "Epoch 00002: val_accuracy improved from 0.23810 to 0.52381, saving model to ./model\\iris-002-val0.5238.h5\n",
      "Epoch 3/300\n",
      "2/2 [==============================] - 0s 36ms/step - loss: 0.9347 - accuracy: 0.7387 - val_loss: 1.0863 - val_accuracy: 0.5238\n",
      "\n",
      "Epoch 00003: val_accuracy did not improve from 0.52381\n",
      "Epoch 4/300\n",
      "2/2 [==============================] - 0s 36ms/step - loss: 0.8964 - accuracy: 0.7387 - val_loss: 1.0318 - val_accuracy: 0.5238\n",
      "\n",
      "Epoch 00004: val_accuracy did not improve from 0.52381\n",
      "Epoch 5/300\n",
      "2/2 [==============================] - 0s 35ms/step - loss: 0.8414 - accuracy: 0.7454 - val_loss: 0.9546 - val_accuracy: 0.5238\n",
      "\n",
      "Epoch 00005: val_accuracy did not improve from 0.52381\n",
      "Epoch 6/300\n",
      "2/2 [==============================] - 0s 36ms/step - loss: 0.7994 - accuracy: 0.7387 - val_loss: 0.8680 - val_accuracy: 0.5238\n",
      "\n",
      "Epoch 00006: val_accuracy did not improve from 0.52381\n",
      "Epoch 7/300\n",
      "2/2 [==============================] - 0s 35ms/step - loss: 0.7555 - accuracy: 0.7254 - val_loss: 0.8083 - val_accuracy: 0.6667\n",
      "\n",
      "Epoch 00007: val_accuracy improved from 0.52381 to 0.66667, saving model to ./model\\iris-007-val0.6667.h5\n",
      "Epoch 8/300\n",
      "2/2 [==============================] - 0s 42ms/step - loss: 0.7191 - accuracy: 0.8089 - val_loss: 0.7764 - val_accuracy: 0.7143\n",
      "\n",
      "Epoch 00008: val_accuracy improved from 0.66667 to 0.71429, saving model to ./model\\iris-008-val0.7143.h5\n",
      "Epoch 9/300\n",
      "2/2 [==============================] - 0s 36ms/step - loss: 0.6819 - accuracy: 0.8886 - val_loss: 0.7615 - val_accuracy: 0.7143\n",
      "\n",
      "Epoch 00009: val_accuracy did not improve from 0.71429\n",
      "Epoch 10/300\n",
      "2/2 [==============================] - 0s 38ms/step - loss: 0.6473 - accuracy: 0.8276 - val_loss: 0.7568 - val_accuracy: 0.5714\n",
      "\n",
      "Epoch 00010: val_accuracy did not improve from 0.71429\n",
      "Epoch 11/300\n",
      "2/2 [==============================] - 0s 36ms/step - loss: 0.6170 - accuracy: 0.7321 - val_loss: 0.7528 - val_accuracy: 0.5714\n",
      "\n",
      "Epoch 00011: val_accuracy did not improve from 0.71429\n",
      "Epoch 12/300\n",
      "2/2 [==============================] - 0s 41ms/step - loss: 0.5957 - accuracy: 0.7254 - val_loss: 0.7395 - val_accuracy: 0.5714\n",
      "\n",
      "Epoch 00012: val_accuracy did not improve from 0.71429\n",
      "Epoch 13/300\n",
      "2/2 [==============================] - 0s 37ms/step - loss: 0.5401 - accuracy: 0.7654 - val_loss: 0.7200 - val_accuracy: 0.5714\n",
      "\n",
      "Epoch 00013: val_accuracy did not improve from 0.71429\n",
      "Epoch 14/300\n",
      "2/2 [==============================] - 0s 36ms/step - loss: 0.5258 - accuracy: 0.7387 - val_loss: 0.6713 - val_accuracy: 0.7143\n",
      "\n",
      "Epoch 00014: val_accuracy did not improve from 0.71429\n",
      "Epoch 15/300\n",
      "2/2 [==============================] - 0s 37ms/step - loss: 0.5093 - accuracy: 0.8089 - val_loss: 0.6202 - val_accuracy: 0.7619\n",
      "\n",
      "Epoch 00015: val_accuracy improved from 0.71429 to 0.76190, saving model to ./model\\iris-015-val0.7619.h5\n",
      "Epoch 16/300\n",
      "2/2 [==============================] - 0s 40ms/step - loss: 0.4759 - accuracy: 0.8965 - val_loss: 0.5794 - val_accuracy: 0.8571\n",
      "\n",
      "Epoch 00016: val_accuracy improved from 0.76190 to 0.85714, saving model to ./model\\iris-016-val0.8571.h5\n",
      "Epoch 17/300\n",
      "2/2 [==============================] - 0s 36ms/step - loss: 0.4370 - accuracy: 0.9470 - val_loss: 0.5433 - val_accuracy: 0.8571\n",
      "\n",
      "Epoch 00017: val_accuracy did not improve from 0.85714\n",
      "Epoch 18/300\n",
      "2/2 [==============================] - 0s 37ms/step - loss: 0.4139 - accuracy: 0.9403 - val_loss: 0.5166 - val_accuracy: 0.9524\n",
      "\n",
      "Epoch 00018: val_accuracy improved from 0.85714 to 0.95238, saving model to ./model\\iris-018-val0.9524.h5\n",
      "Epoch 19/300\n",
      "2/2 [==============================] - 0s 39ms/step - loss: 0.3832 - accuracy: 0.9616 - val_loss: 0.5005 - val_accuracy: 0.8571\n",
      "\n",
      "Epoch 00019: val_accuracy did not improve from 0.95238\n",
      "Epoch 20/300\n",
      "2/2 [==============================] - 0s 38ms/step - loss: 0.3837 - accuracy: 0.9403 - val_loss: 0.4896 - val_accuracy: 0.8571\n",
      "\n",
      "Epoch 00020: val_accuracy did not improve from 0.95238\n",
      "Epoch 21/300\n",
      "2/2 [==============================] - 0s 36ms/step - loss: 0.3600 - accuracy: 0.9337 - val_loss: 0.4859 - val_accuracy: 0.8095\n",
      "\n",
      "Epoch 00021: val_accuracy did not improve from 0.95238\n",
      "Epoch 22/300\n",
      "2/2 [==============================] - 0s 38ms/step - loss: 0.3605 - accuracy: 0.9270 - val_loss: 0.4613 - val_accuracy: 0.8571\n",
      "\n",
      "Epoch 00022: val_accuracy did not improve from 0.95238\n",
      "Epoch 23/300\n",
      "2/2 [==============================] - 0s 41ms/step - loss: 0.3385 - accuracy: 0.9270 - val_loss: 0.4357 - val_accuracy: 0.9048\n",
      "\n",
      "Epoch 00023: val_accuracy did not improve from 0.95238\n",
      "Epoch 24/300\n",
      "2/2 [==============================] - 0s 35ms/step - loss: 0.3075 - accuracy: 0.9483 - val_loss: 0.4213 - val_accuracy: 0.9048\n",
      "\n",
      "Epoch 00024: val_accuracy did not improve from 0.95238\n",
      "Epoch 25/300\n",
      "2/2 [==============================] - 0s 36ms/step - loss: 0.2868 - accuracy: 0.9841 - val_loss: 0.4054 - val_accuracy: 0.9048\n",
      "\n",
      "Epoch 00025: val_accuracy did not improve from 0.95238\n",
      "Epoch 26/300\n",
      "2/2 [==============================] - 0s 35ms/step - loss: 0.2942 - accuracy: 0.9708 - val_loss: 0.3867 - val_accuracy: 0.9524\n",
      "\n",
      "Epoch 00026: val_accuracy did not improve from 0.95238\n",
      "Epoch 27/300\n",
      "2/2 [==============================] - 0s 37ms/step - loss: 0.2708 - accuracy: 0.9775 - val_loss: 0.3742 - val_accuracy: 0.9048\n",
      "\n",
      "Epoch 00027: val_accuracy did not improve from 0.95238\n",
      "Epoch 28/300\n",
      "2/2 [==============================] - 0s 39ms/step - loss: 0.2557 - accuracy: 0.9708 - val_loss: 0.3659 - val_accuracy: 0.9048\n",
      "\n",
      "Epoch 00028: val_accuracy did not improve from 0.95238\n",
      "Epoch 29/300\n",
      "2/2 [==============================] - 0s 34ms/step - loss: 0.2544 - accuracy: 0.9708 - val_loss: 0.3521 - val_accuracy: 0.9048\n",
      "\n",
      "Epoch 00029: val_accuracy did not improve from 0.95238\n",
      "Epoch 30/300\n",
      "2/2 [==============================] - 0s 36ms/step - loss: 0.2266 - accuracy: 0.9775 - val_loss: 0.3402 - val_accuracy: 0.9048\n",
      "\n",
      "Epoch 00030: val_accuracy did not improve from 0.95238\n",
      "Epoch 31/300\n",
      "2/2 [==============================] - 0s 38ms/step - loss: 0.2217 - accuracy: 0.9841 - val_loss: 0.3205 - val_accuracy: 0.9048\n",
      "\n",
      "Epoch 00031: val_accuracy did not improve from 0.95238\n",
      "Epoch 32/300\n",
      "2/2 [==============================] - 0s 35ms/step - loss: 0.2219 - accuracy: 0.9775 - val_loss: 0.3075 - val_accuracy: 0.9524\n",
      "\n",
      "Epoch 00032: val_accuracy did not improve from 0.95238\n",
      "Epoch 33/300\n",
      "2/2 [==============================] - 0s 35ms/step - loss: 0.2052 - accuracy: 0.9775 - val_loss: 0.2992 - val_accuracy: 0.9524\n",
      "\n",
      "Epoch 00033: val_accuracy did not improve from 0.95238\n",
      "Epoch 34/300\n",
      "2/2 [==============================] - 0s 36ms/step - loss: 0.2007 - accuracy: 0.9775 - val_loss: 0.2905 - val_accuracy: 0.9524\n",
      "\n",
      "Epoch 00034: val_accuracy did not improve from 0.95238\n",
      "Epoch 35/300\n",
      "2/2 [==============================] - 0s 36ms/step - loss: 0.1872 - accuracy: 0.9775 - val_loss: 0.2866 - val_accuracy: 0.9048\n",
      "\n",
      "Epoch 00035: val_accuracy did not improve from 0.95238\n",
      "Epoch 36/300\n",
      "2/2 [==============================] - 0s 36ms/step - loss: 0.1847 - accuracy: 0.9775 - val_loss: 0.2787 - val_accuracy: 0.9048\n",
      "\n",
      "Epoch 00036: val_accuracy did not improve from 0.95238\n",
      "Epoch 37/300\n",
      "2/2 [==============================] - 0s 36ms/step - loss: 0.1839 - accuracy: 0.9708 - val_loss: 0.2697 - val_accuracy: 0.9524\n",
      "\n",
      "Epoch 00037: val_accuracy did not improve from 0.95238\n",
      "Epoch 38/300\n",
      "2/2 [==============================] - 0s 37ms/step - loss: 0.1723 - accuracy: 0.9775 - val_loss: 0.2642 - val_accuracy: 0.9048\n",
      "\n",
      "Epoch 00038: val_accuracy did not improve from 0.95238\n",
      "Epoch 39/300\n",
      "2/2 [==============================] - 0s 38ms/step - loss: 0.1587 - accuracy: 0.9775 - val_loss: 0.2558 - val_accuracy: 0.9524\n",
      "\n",
      "Epoch 00039: val_accuracy did not improve from 0.95238\n",
      "Epoch 40/300\n",
      "2/2 [==============================] - 0s 36ms/step - loss: 0.1531 - accuracy: 0.9841 - val_loss: 0.2461 - val_accuracy: 0.9524\n",
      "\n",
      "Epoch 00040: val_accuracy did not improve from 0.95238\n",
      "Epoch 41/300\n"
     ]
    },
    {
     "name": "stdout",
     "output_type": "stream",
     "text": [
      "2/2 [==============================] - 0s 35ms/step - loss: 0.1635 - accuracy: 0.9708 - val_loss: 0.2440 - val_accuracy: 0.9524\n",
      "\n",
      "Epoch 00041: val_accuracy did not improve from 0.95238\n",
      "Epoch 42/300\n",
      "2/2 [==============================] - 0s 38ms/step - loss: 0.1574 - accuracy: 0.9775 - val_loss: 0.2428 - val_accuracy: 0.9048\n",
      "\n",
      "Epoch 00042: val_accuracy did not improve from 0.95238\n",
      "Epoch 43/300\n",
      "2/2 [==============================] - 0s 35ms/step - loss: 0.1467 - accuracy: 0.9775 - val_loss: 0.2337 - val_accuracy: 0.9524\n",
      "\n",
      "Epoch 00043: val_accuracy did not improve from 0.95238\n",
      "Epoch 44/300\n",
      "2/2 [==============================] - 0s 35ms/step - loss: 0.1499 - accuracy: 0.9708 - val_loss: 0.2236 - val_accuracy: 0.9524\n",
      "\n",
      "Epoch 00044: val_accuracy did not improve from 0.95238\n",
      "Epoch 45/300\n",
      "2/2 [==============================] - 0s 35ms/step - loss: 0.1452 - accuracy: 0.9775 - val_loss: 0.2192 - val_accuracy: 0.9524\n",
      "\n",
      "Epoch 00045: val_accuracy did not improve from 0.95238\n",
      "Epoch 46/300\n",
      "2/2 [==============================] - 0s 36ms/step - loss: 0.1307 - accuracy: 0.9775 - val_loss: 0.2161 - val_accuracy: 0.9524\n",
      "\n",
      "Epoch 00046: val_accuracy did not improve from 0.95238\n",
      "Epoch 47/300\n",
      "2/2 [==============================] - 0s 35ms/step - loss: 0.1368 - accuracy: 0.9708 - val_loss: 0.2152 - val_accuracy: 0.9524\n",
      "\n",
      "Epoch 00047: val_accuracy did not improve from 0.95238\n",
      "Epoch 48/300\n",
      "2/2 [==============================] - 0s 39ms/step - loss: 0.1225 - accuracy: 0.9775 - val_loss: 0.2150 - val_accuracy: 0.9048\n",
      "\n",
      "Epoch 00048: val_accuracy did not improve from 0.95238\n",
      "Epoch 49/300\n",
      "2/2 [==============================] - 0s 48ms/step - loss: 0.1215 - accuracy: 0.9775 - val_loss: 0.2074 - val_accuracy: 0.9524\n",
      "\n",
      "Epoch 00049: val_accuracy did not improve from 0.95238\n",
      "Epoch 50/300\n",
      "2/2 [==============================] - 0s 36ms/step - loss: 0.1216 - accuracy: 0.9775 - val_loss: 0.2010 - val_accuracy: 0.9524\n",
      "\n",
      "Epoch 00050: val_accuracy did not improve from 0.95238\n",
      "Epoch 51/300\n",
      "2/2 [==============================] - 0s 39ms/step - loss: 0.1154 - accuracy: 0.9775 - val_loss: 0.1980 - val_accuracy: 0.9524\n",
      "\n",
      "Epoch 00051: val_accuracy did not improve from 0.95238\n",
      "Epoch 52/300\n",
      "2/2 [==============================] - 0s 35ms/step - loss: 0.1235 - accuracy: 0.9708 - val_loss: 0.1951 - val_accuracy: 0.9524\n",
      "\n",
      "Epoch 00052: val_accuracy did not improve from 0.95238\n",
      "Epoch 53/300\n",
      "2/2 [==============================] - 0s 39ms/step - loss: 0.1087 - accuracy: 0.9775 - val_loss: 0.1965 - val_accuracy: 0.9524\n",
      "\n",
      "Epoch 00053: val_accuracy did not improve from 0.95238\n",
      "Epoch 54/300\n",
      "2/2 [==============================] - 0s 34ms/step - loss: 0.1178 - accuracy: 0.9708 - val_loss: 0.1933 - val_accuracy: 0.9524\n",
      "\n",
      "Epoch 00054: val_accuracy did not improve from 0.95238\n",
      "Epoch 55/300\n",
      "2/2 [==============================] - 0s 34ms/step - loss: 0.1166 - accuracy: 0.9708 - val_loss: 0.1883 - val_accuracy: 0.9524\n",
      "\n",
      "Epoch 00055: val_accuracy did not improve from 0.95238\n",
      "Epoch 56/300\n",
      "2/2 [==============================] - 0s 33ms/step - loss: 0.1102 - accuracy: 0.9708 - val_loss: 0.1861 - val_accuracy: 0.9524\n",
      "\n",
      "Epoch 00056: val_accuracy did not improve from 0.95238\n",
      "Epoch 57/300\n",
      "2/2 [==============================] - 0s 35ms/step - loss: 0.0977 - accuracy: 0.9775 - val_loss: 0.1870 - val_accuracy: 0.9524\n",
      "\n",
      "Epoch 00057: val_accuracy did not improve from 0.95238\n",
      "Epoch 58/300\n",
      "2/2 [==============================] - 0s 37ms/step - loss: 0.1067 - accuracy: 0.9708 - val_loss: 0.1816 - val_accuracy: 0.9524\n",
      "\n",
      "Epoch 00058: val_accuracy did not improve from 0.95238\n",
      "Epoch 59/300\n",
      "2/2 [==============================] - 0s 36ms/step - loss: 0.0945 - accuracy: 0.9775 - val_loss: 0.1797 - val_accuracy: 0.9524\n",
      "\n",
      "Epoch 00059: val_accuracy did not improve from 0.95238\n",
      "Epoch 60/300\n",
      "2/2 [==============================] - 0s 39ms/step - loss: 0.0958 - accuracy: 0.9775 - val_loss: 0.1762 - val_accuracy: 0.9524\n",
      "\n",
      "Epoch 00060: val_accuracy did not improve from 0.95238\n",
      "Epoch 61/300\n",
      "2/2 [==============================] - 0s 37ms/step - loss: 0.0846 - accuracy: 0.9841 - val_loss: 0.1750 - val_accuracy: 0.9048\n",
      "\n",
      "Epoch 00061: val_accuracy did not improve from 0.95238\n",
      "Epoch 62/300\n",
      "2/2 [==============================] - 0s 37ms/step - loss: 0.0974 - accuracy: 0.9775 - val_loss: 0.1741 - val_accuracy: 0.9048\n",
      "\n",
      "Epoch 00062: val_accuracy did not improve from 0.95238\n",
      "Epoch 63/300\n",
      "2/2 [==============================] - 0s 35ms/step - loss: 0.0963 - accuracy: 0.9775 - val_loss: 0.1705 - val_accuracy: 0.9524\n",
      "\n",
      "Epoch 00063: val_accuracy did not improve from 0.95238\n",
      "Epoch 64/300\n",
      "2/2 [==============================] - 0s 36ms/step - loss: 0.0861 - accuracy: 0.9775 - val_loss: 0.1707 - val_accuracy: 0.9524\n",
      "\n",
      "Epoch 00064: val_accuracy did not improve from 0.95238\n",
      "Epoch 65/300\n",
      "2/2 [==============================] - 0s 37ms/step - loss: 0.0848 - accuracy: 0.9775 - val_loss: 0.1688 - val_accuracy: 0.9524\n",
      "\n",
      "Epoch 00065: val_accuracy did not improve from 0.95238\n",
      "Epoch 66/300\n",
      "2/2 [==============================] - 0s 36ms/step - loss: 0.0915 - accuracy: 0.9775 - val_loss: 0.1660 - val_accuracy: 0.9524\n",
      "\n",
      "Epoch 00066: val_accuracy did not improve from 0.95238\n",
      "Epoch 67/300\n",
      "2/2 [==============================] - 0s 38ms/step - loss: 0.0964 - accuracy: 0.9708 - val_loss: 0.1657 - val_accuracy: 0.9048\n",
      "\n",
      "Epoch 00067: val_accuracy did not improve from 0.95238\n",
      "Epoch 68/300\n",
      "2/2 [==============================] - 0s 36ms/step - loss: 0.0813 - accuracy: 0.9775 - val_loss: 0.1635 - val_accuracy: 0.9524\n",
      "\n",
      "Epoch 00068: val_accuracy did not improve from 0.95238\n",
      "Epoch 69/300\n",
      "2/2 [==============================] - 0s 37ms/step - loss: 0.0897 - accuracy: 0.9775 - val_loss: 0.1625 - val_accuracy: 0.9524\n",
      "\n",
      "Epoch 00069: val_accuracy did not improve from 0.95238\n",
      "Epoch 70/300\n",
      "2/2 [==============================] - 0s 37ms/step - loss: 0.0790 - accuracy: 0.9775 - val_loss: 0.1617 - val_accuracy: 0.9048\n",
      "\n",
      "Epoch 00070: val_accuracy did not improve from 0.95238\n",
      "Epoch 71/300\n",
      "2/2 [==============================] - 0s 35ms/step - loss: 0.0875 - accuracy: 0.9775 - val_loss: 0.1610 - val_accuracy: 0.9048\n",
      "\n",
      "Epoch 00071: val_accuracy did not improve from 0.95238\n",
      "Epoch 72/300\n",
      "2/2 [==============================] - 0s 35ms/step - loss: 0.0707 - accuracy: 0.9841 - val_loss: 0.1599 - val_accuracy: 0.9048\n",
      "\n",
      "Epoch 00072: val_accuracy did not improve from 0.95238\n",
      "Epoch 73/300\n",
      "2/2 [==============================] - 0s 37ms/step - loss: 0.0889 - accuracy: 0.9708 - val_loss: 0.1622 - val_accuracy: 0.9048\n",
      "\n",
      "Epoch 00073: val_accuracy did not improve from 0.95238\n",
      "Epoch 74/300\n",
      "2/2 [==============================] - 0s 37ms/step - loss: 0.0833 - accuracy: 0.9775 - val_loss: 0.1580 - val_accuracy: 0.9048\n",
      "\n",
      "Epoch 00074: val_accuracy did not improve from 0.95238\n",
      "Epoch 75/300\n",
      "2/2 [==============================] - 0s 36ms/step - loss: 0.0770 - accuracy: 0.9775 - val_loss: 0.1573 - val_accuracy: 0.9524\n",
      "\n",
      "Epoch 00075: val_accuracy did not improve from 0.95238\n",
      "Epoch 76/300\n",
      "2/2 [==============================] - 0s 35ms/step - loss: 0.0740 - accuracy: 0.9775 - val_loss: 0.1573 - val_accuracy: 0.9524\n",
      "\n",
      "Epoch 00076: val_accuracy did not improve from 0.95238\n",
      "Epoch 77/300\n",
      "2/2 [==============================] - 0s 37ms/step - loss: 0.0749 - accuracy: 0.9775 - val_loss: 0.1556 - val_accuracy: 0.9524\n",
      "\n",
      "Epoch 00077: val_accuracy did not improve from 0.95238\n",
      "Epoch 78/300\n",
      "2/2 [==============================] - 0s 37ms/step - loss: 0.0731 - accuracy: 0.9775 - val_loss: 0.1609 - val_accuracy: 0.9048\n",
      "\n",
      "Epoch 00078: val_accuracy did not improve from 0.95238\n",
      "Epoch 79/300\n",
      "2/2 [==============================] - 0s 36ms/step - loss: 0.0747 - accuracy: 0.9775 - val_loss: 0.1636 - val_accuracy: 0.9048\n",
      "\n",
      "Epoch 00079: val_accuracy did not improve from 0.95238\n",
      "Epoch 80/300\n",
      "2/2 [==============================] - 0s 36ms/step - loss: 0.0799 - accuracy: 0.9841 - val_loss: 0.1540 - val_accuracy: 0.9524\n",
      "\n",
      "Epoch 00080: val_accuracy did not improve from 0.95238\n",
      "Epoch 81/300\n",
      "2/2 [==============================] - 0s 36ms/step - loss: 0.0644 - accuracy: 0.9841 - val_loss: 0.1535 - val_accuracy: 0.9524\n",
      "\n",
      "Epoch 00081: val_accuracy did not improve from 0.95238\n",
      "Epoch 82/300\n",
      "2/2 [==============================] - 0s 37ms/step - loss: 0.0847 - accuracy: 0.9708 - val_loss: 0.1580 - val_accuracy: 0.9048\n"
     ]
    },
    {
     "name": "stdout",
     "output_type": "stream",
     "text": [
      "\n",
      "Epoch 00082: val_accuracy did not improve from 0.95238\n",
      "Epoch 83/300\n",
      "2/2 [==============================] - 0s 36ms/step - loss: 0.0798 - accuracy: 0.9775 - val_loss: 0.1595 - val_accuracy: 0.9048\n",
      "\n",
      "Epoch 00083: val_accuracy did not improve from 0.95238\n",
      "Epoch 84/300\n",
      "2/2 [==============================] - 0s 35ms/step - loss: 0.0620 - accuracy: 0.9841 - val_loss: 0.1555 - val_accuracy: 0.9048\n",
      "\n",
      "Epoch 00084: val_accuracy did not improve from 0.95238\n",
      "Epoch 85/300\n",
      "2/2 [==============================] - 0s 35ms/step - loss: 0.0744 - accuracy: 0.9775 - val_loss: 0.1530 - val_accuracy: 0.8571\n",
      "\n",
      "Epoch 00085: val_accuracy did not improve from 0.95238\n",
      "Epoch 86/300\n",
      "2/2 [==============================] - 0s 35ms/step - loss: 0.0799 - accuracy: 0.9708 - val_loss: 0.1516 - val_accuracy: 0.9524\n",
      "\n",
      "Epoch 00086: val_accuracy did not improve from 0.95238\n",
      "Epoch 87/300\n",
      "2/2 [==============================] - 0s 34ms/step - loss: 0.0791 - accuracy: 0.9708 - val_loss: 0.1515 - val_accuracy: 0.9524\n",
      "\n",
      "Epoch 00087: val_accuracy did not improve from 0.95238\n",
      "Epoch 88/300\n",
      "2/2 [==============================] - 0s 35ms/step - loss: 0.0812 - accuracy: 0.9708 - val_loss: 0.1509 - val_accuracy: 0.9524\n",
      "\n",
      "Epoch 00088: val_accuracy did not improve from 0.95238\n",
      "Epoch 89/300\n",
      "2/2 [==============================] - 0s 37ms/step - loss: 0.0670 - accuracy: 0.9775 - val_loss: 0.1509 - val_accuracy: 0.9048\n",
      "\n",
      "Epoch 00089: val_accuracy did not improve from 0.95238\n",
      "Epoch 90/300\n",
      "2/2 [==============================] - 0s 39ms/step - loss: 0.0655 - accuracy: 0.9775 - val_loss: 0.1538 - val_accuracy: 0.9048\n",
      "\n",
      "Epoch 00090: val_accuracy did not improve from 0.95238\n",
      "Epoch 91/300\n",
      "2/2 [==============================] - 0s 36ms/step - loss: 0.0774 - accuracy: 0.9708 - val_loss: 0.1589 - val_accuracy: 0.9048\n",
      "\n",
      "Epoch 00091: val_accuracy did not improve from 0.95238\n",
      "Epoch 92/300\n",
      "2/2 [==============================] - 0s 37ms/step - loss: 0.0730 - accuracy: 0.9775 - val_loss: 0.1522 - val_accuracy: 0.9048\n",
      "\n",
      "Epoch 00092: val_accuracy did not improve from 0.95238\n",
      "Epoch 93/300\n",
      "2/2 [==============================] - 0s 36ms/step - loss: 0.0705 - accuracy: 0.9775 - val_loss: 0.1501 - val_accuracy: 0.9048\n",
      "\n",
      "Epoch 00093: val_accuracy did not improve from 0.95238\n",
      "Epoch 94/300\n",
      "2/2 [==============================] - 0s 36ms/step - loss: 0.0618 - accuracy: 0.9775 - val_loss: 0.1500 - val_accuracy: 0.9048\n",
      "\n",
      "Epoch 00094: val_accuracy did not improve from 0.95238\n",
      "Epoch 95/300\n",
      "2/2 [==============================] - 0s 34ms/step - loss: 0.0712 - accuracy: 0.9775 - val_loss: 0.1519 - val_accuracy: 0.9048\n",
      "\n",
      "Epoch 00095: val_accuracy did not improve from 0.95238\n",
      "Epoch 96/300\n",
      "2/2 [==============================] - 0s 36ms/step - loss: 0.0613 - accuracy: 0.9775 - val_loss: 0.1563 - val_accuracy: 0.9048\n",
      "\n",
      "Epoch 00096: val_accuracy did not improve from 0.95238\n",
      "Epoch 97/300\n",
      "2/2 [==============================] - 0s 35ms/step - loss: 0.0604 - accuracy: 0.9775 - val_loss: 0.1572 - val_accuracy: 0.9048\n",
      "\n",
      "Epoch 00097: val_accuracy did not improve from 0.95238\n",
      "Epoch 98/300\n",
      "2/2 [==============================] - 0s 40ms/step - loss: 0.0750 - accuracy: 0.9708 - val_loss: 0.1508 - val_accuracy: 0.8571\n",
      "\n",
      "Epoch 00098: val_accuracy did not improve from 0.95238\n",
      "Epoch 99/300\n",
      "2/2 [==============================] - 0s 36ms/step - loss: 0.0707 - accuracy: 0.9775 - val_loss: 0.1486 - val_accuracy: 0.9524\n",
      "\n",
      "Epoch 00099: val_accuracy did not improve from 0.95238\n",
      "Epoch 100/300\n",
      "2/2 [==============================] - 0s 39ms/step - loss: 0.0766 - accuracy: 0.9708 - val_loss: 0.1485 - val_accuracy: 0.9524\n",
      "\n",
      "Epoch 00100: val_accuracy did not improve from 0.95238\n",
      "Epoch 101/300\n",
      "2/2 [==============================] - 0s 34ms/step - loss: 0.0569 - accuracy: 0.9841 - val_loss: 0.1489 - val_accuracy: 0.9048\n",
      "\n",
      "Epoch 00101: val_accuracy did not improve from 0.95238\n",
      "Epoch 102/300\n",
      "2/2 [==============================] - 0s 35ms/step - loss: 0.0618 - accuracy: 0.9775 - val_loss: 0.1620 - val_accuracy: 0.9048\n",
      "\n",
      "Epoch 00102: val_accuracy did not improve from 0.95238\n",
      "Epoch 103/300\n",
      "2/2 [==============================] - 0s 37ms/step - loss: 0.0630 - accuracy: 0.9775 - val_loss: 0.1696 - val_accuracy: 0.9048\n",
      "\n",
      "Epoch 00103: val_accuracy did not improve from 0.95238\n",
      "Epoch 104/300\n",
      "2/2 [==============================] - 0s 35ms/step - loss: 0.0663 - accuracy: 0.9921 - val_loss: 0.1559 - val_accuracy: 0.9048\n",
      "\n",
      "Epoch 00104: val_accuracy did not improve from 0.95238\n",
      "Epoch 105/300\n",
      "2/2 [==============================] - 0s 36ms/step - loss: 0.0662 - accuracy: 0.9775 - val_loss: 0.1492 - val_accuracy: 0.8571\n",
      "\n",
      "Epoch 00105: val_accuracy did not improve from 0.95238\n",
      "Epoch 106/300\n",
      "2/2 [==============================] - 0s 36ms/step - loss: 0.0610 - accuracy: 0.9841 - val_loss: 0.1480 - val_accuracy: 0.9524\n",
      "\n",
      "Epoch 00106: val_accuracy did not improve from 0.95238\n",
      "Epoch 107/300\n",
      "2/2 [==============================] - 0s 36ms/step - loss: 0.0764 - accuracy: 0.9708 - val_loss: 0.1573 - val_accuracy: 0.9048\n",
      "\n",
      "Epoch 00107: val_accuracy did not improve from 0.95238\n",
      "Epoch 108/300\n",
      "2/2 [==============================] - 0s 37ms/step - loss: 0.0751 - accuracy: 0.9708 - val_loss: 0.1595 - val_accuracy: 0.9048\n",
      "\n",
      "Epoch 00108: val_accuracy did not improve from 0.95238\n",
      "Epoch 109/300\n",
      "2/2 [==============================] - 0s 38ms/step - loss: 0.0640 - accuracy: 0.9841 - val_loss: 0.1504 - val_accuracy: 0.8571\n",
      "\n",
      "Epoch 00109: val_accuracy did not improve from 0.95238\n",
      "Epoch 110/300\n",
      "2/2 [==============================] - 0s 38ms/step - loss: 0.0737 - accuracy: 0.9708 - val_loss: 0.1569 - val_accuracy: 0.9048\n",
      "\n",
      "Epoch 00110: val_accuracy did not improve from 0.95238\n",
      "Epoch 111/300\n",
      "2/2 [==============================] - 0s 35ms/step - loss: 0.0750 - accuracy: 0.9708 - val_loss: 0.1554 - val_accuracy: 0.9048\n",
      "\n",
      "Epoch 00111: val_accuracy did not improve from 0.95238\n",
      "Epoch 112/300\n",
      "2/2 [==============================] - 0s 37ms/step - loss: 0.0715 - accuracy: 0.9708 - val_loss: 0.1516 - val_accuracy: 0.9048\n",
      "\n",
      "Epoch 00112: val_accuracy did not improve from 0.95238\n",
      "Epoch 113/300\n",
      "2/2 [==============================] - 0s 39ms/step - loss: 0.0692 - accuracy: 0.9708 - val_loss: 0.1497 - val_accuracy: 0.8571\n",
      "\n",
      "Epoch 00113: val_accuracy did not improve from 0.95238\n",
      "Epoch 114/300\n",
      "2/2 [==============================] - 0s 36ms/step - loss: 0.0600 - accuracy: 0.9775 - val_loss: 0.1482 - val_accuracy: 0.9524\n",
      "\n",
      "Epoch 00114: val_accuracy did not improve from 0.95238\n",
      "Epoch 115/300\n",
      "2/2 [==============================] - 0s 38ms/step - loss: 0.0584 - accuracy: 0.9775 - val_loss: 0.1490 - val_accuracy: 0.8571\n",
      "\n",
      "Epoch 00115: val_accuracy did not improve from 0.95238\n",
      "Epoch 116/300\n",
      "2/2 [==============================] - 0s 33ms/step - loss: 0.0537 - accuracy: 0.9775 - val_loss: 0.1623 - val_accuracy: 0.9048\n",
      "\n",
      "Epoch 00116: val_accuracy did not improve from 0.95238\n",
      "Epoch 117/300\n",
      "2/2 [==============================] - 0s 36ms/step - loss: 0.0586 - accuracy: 0.9775 - val_loss: 0.1664 - val_accuracy: 0.9048\n",
      "\n",
      "Epoch 00117: val_accuracy did not improve from 0.95238\n",
      "Epoch 118/300\n",
      "2/2 [==============================] - 0s 34ms/step - loss: 0.0622 - accuracy: 0.9921 - val_loss: 0.1588 - val_accuracy: 0.9048\n",
      "\n",
      "Epoch 00118: val_accuracy did not improve from 0.95238\n",
      "Epoch 119/300\n",
      "2/2 [==============================] - 0s 35ms/step - loss: 0.0678 - accuracy: 0.9708 - val_loss: 0.1564 - val_accuracy: 0.9048\n",
      "\n",
      "Epoch 00119: val_accuracy did not improve from 0.95238\n",
      "Epoch 120/300\n",
      "2/2 [==============================] - 0s 35ms/step - loss: 0.0558 - accuracy: 0.9841 - val_loss: 0.1485 - val_accuracy: 0.9048\n",
      "\n",
      "Epoch 00120: val_accuracy did not improve from 0.95238\n",
      "Epoch 121/300\n",
      "2/2 [==============================] - 0s 38ms/step - loss: 0.0647 - accuracy: 0.9775 - val_loss: 0.1519 - val_accuracy: 0.9048\n",
      "\n",
      "Epoch 00121: val_accuracy did not improve from 0.95238\n",
      "Epoch 122/300\n",
      "2/2 [==============================] - 0s 37ms/step - loss: 0.0538 - accuracy: 0.9775 - val_loss: 0.1619 - val_accuracy: 0.9048\n",
      "\n",
      "Epoch 00122: val_accuracy did not improve from 0.95238\n",
      "Epoch 123/300\n",
      "2/2 [==============================] - 0s 37ms/step - loss: 0.0535 - accuracy: 0.9775 - val_loss: 0.1630 - val_accuracy: 0.9048\n",
      "\n",
      "Epoch 00123: val_accuracy did not improve from 0.95238\n",
      "Epoch 124/300\n"
     ]
    },
    {
     "name": "stdout",
     "output_type": "stream",
     "text": [
      "2/2 [==============================] - 0s 36ms/step - loss: 0.0534 - accuracy: 0.9775 - val_loss: 0.1547 - val_accuracy: 0.9048\n",
      "\n",
      "Epoch 00124: val_accuracy did not improve from 0.95238\n",
      "Epoch 125/300\n",
      "2/2 [==============================] - 0s 36ms/step - loss: 0.0540 - accuracy: 0.9841 - val_loss: 0.1505 - val_accuracy: 0.8571\n",
      "\n",
      "Epoch 00125: val_accuracy did not improve from 0.95238\n",
      "Epoch 126/300\n",
      "2/2 [==============================] - 0s 38ms/step - loss: 0.0528 - accuracy: 0.9775 - val_loss: 0.1586 - val_accuracy: 0.9048\n",
      "\n",
      "Epoch 00126: val_accuracy did not improve from 0.95238\n",
      "Epoch 127/300\n",
      "2/2 [==============================] - 0s 35ms/step - loss: 0.0693 - accuracy: 0.9708 - val_loss: 0.1672 - val_accuracy: 0.9048\n",
      "\n",
      "Epoch 00127: val_accuracy did not improve from 0.95238\n",
      "Epoch 128/300\n",
      "2/2 [==============================] - 0s 37ms/step - loss: 0.0683 - accuracy: 0.9854 - val_loss: 0.1609 - val_accuracy: 0.9048\n",
      "\n",
      "Epoch 00128: val_accuracy did not improve from 0.95238\n",
      "Epoch 129/300\n",
      "2/2 [==============================] - 0s 37ms/step - loss: 0.0638 - accuracy: 0.9775 - val_loss: 0.1508 - val_accuracy: 0.8571\n",
      "\n",
      "Epoch 00129: val_accuracy did not improve from 0.95238\n",
      "Epoch 130/300\n",
      "2/2 [==============================] - 0s 37ms/step - loss: 0.0620 - accuracy: 0.9775 - val_loss: 0.1509 - val_accuracy: 0.8571\n",
      "\n",
      "Epoch 00130: val_accuracy did not improve from 0.95238\n",
      "Epoch 131/300\n",
      "2/2 [==============================] - 0s 40ms/step - loss: 0.0712 - accuracy: 0.9708 - val_loss: 0.1598 - val_accuracy: 0.9048\n",
      "\n",
      "Epoch 00131: val_accuracy did not improve from 0.95238\n",
      "Epoch 132/300\n",
      "2/2 [==============================] - 0s 37ms/step - loss: 0.0667 - accuracy: 0.9708 - val_loss: 0.1668 - val_accuracy: 0.9048\n",
      "\n",
      "Epoch 00132: val_accuracy did not improve from 0.95238\n",
      "Epoch 133/300\n",
      "2/2 [==============================] - 0s 37ms/step - loss: 0.0648 - accuracy: 0.9775 - val_loss: 0.1543 - val_accuracy: 0.9048\n",
      "\n",
      "Epoch 00133: val_accuracy did not improve from 0.95238\n",
      "Epoch 134/300\n",
      "2/2 [==============================] - 0s 36ms/step - loss: 0.0482 - accuracy: 0.9841 - val_loss: 0.1520 - val_accuracy: 0.8571\n",
      "\n",
      "Epoch 00134: val_accuracy did not improve from 0.95238\n",
      "Epoch 135/300\n",
      "2/2 [==============================] - 0s 35ms/step - loss: 0.0683 - accuracy: 0.9708 - val_loss: 0.1629 - val_accuracy: 0.9048\n",
      "\n",
      "Epoch 00135: val_accuracy did not improve from 0.95238\n",
      "Epoch 136/300\n",
      "2/2 [==============================] - 0s 35ms/step - loss: 0.0595 - accuracy: 0.9854 - val_loss: 0.1621 - val_accuracy: 0.9048\n",
      "\n",
      "Epoch 00136: val_accuracy did not improve from 0.95238\n",
      "Epoch 137/300\n",
      "2/2 [==============================] - 0s 36ms/step - loss: 0.0510 - accuracy: 0.9841 - val_loss: 0.1551 - val_accuracy: 0.9048\n",
      "\n",
      "Epoch 00137: val_accuracy did not improve from 0.95238\n",
      "Epoch 138/300\n",
      "2/2 [==============================] - 0s 36ms/step - loss: 0.0639 - accuracy: 0.9775 - val_loss: 0.1621 - val_accuracy: 0.9048\n",
      "\n",
      "Epoch 00138: val_accuracy did not improve from 0.95238\n",
      "Epoch 139/300\n",
      "2/2 [==============================] - 0s 37ms/step - loss: 0.0669 - accuracy: 0.9708 - val_loss: 0.1765 - val_accuracy: 0.9048\n",
      "\n",
      "Epoch 00139: val_accuracy did not improve from 0.95238\n",
      "Epoch 140/300\n",
      "2/2 [==============================] - 0s 35ms/step - loss: 0.0578 - accuracy: 0.9854 - val_loss: 0.1653 - val_accuracy: 0.9048\n",
      "\n",
      "Epoch 00140: val_accuracy did not improve from 0.95238\n",
      "Epoch 141/300\n",
      "2/2 [==============================] - 0s 38ms/step - loss: 0.0631 - accuracy: 0.9708 - val_loss: 0.1519 - val_accuracy: 0.8571\n",
      "\n",
      "Epoch 00141: val_accuracy did not improve from 0.95238\n",
      "Epoch 142/300\n",
      "2/2 [==============================] - 0s 37ms/step - loss: 0.0563 - accuracy: 0.9775 - val_loss: 0.1515 - val_accuracy: 0.9048\n",
      "\n",
      "Epoch 00142: val_accuracy did not improve from 0.95238\n",
      "Epoch 143/300\n",
      "2/2 [==============================] - 0s 35ms/step - loss: 0.0728 - accuracy: 0.9708 - val_loss: 0.1549 - val_accuracy: 0.8571\n",
      "\n",
      "Epoch 00143: val_accuracy did not improve from 0.95238\n",
      "Epoch 144/300\n",
      "2/2 [==============================] - 0s 35ms/step - loss: 0.0463 - accuracy: 0.9841 - val_loss: 0.1657 - val_accuracy: 0.9048\n",
      "\n",
      "Epoch 00144: val_accuracy did not improve from 0.95238\n",
      "Epoch 145/300\n",
      "2/2 [==============================] - 0s 37ms/step - loss: 0.0590 - accuracy: 0.9854 - val_loss: 0.1913 - val_accuracy: 0.9048\n",
      "\n",
      "Epoch 00145: val_accuracy did not improve from 0.95238\n",
      "Epoch 146/300\n",
      "2/2 [==============================] - 0s 39ms/step - loss: 0.0623 - accuracy: 0.9854 - val_loss: 0.1721 - val_accuracy: 0.9048\n",
      "\n",
      "Epoch 00146: val_accuracy did not improve from 0.95238\n"
     ]
    },
    {
     "data": {
      "text/plain": [
       "<matplotlib.legend.Legend at 0x1a655e965e0>"
      ]
     },
     "execution_count": 4,
     "metadata": {},
     "output_type": "execute_result"
    },
    {
     "data": {
      "image/png": "[encoded data removed]",
      "text/plain": [
       "<Figure size 432x288 with 2 Axes>"
      ]
     },
     "metadata": {
      "needs_background": "light"
     },
     "output_type": "display_data"
    }
   ],
   "source": [
    "# 2. 모델 구성\n",
    "model = Sequential()\n",
    "model.add(Dense(60, input_dim=4, activation=\"relu\"))\n",
    "model.add(Dense(50, activation=\"relu\"))\n",
    "model.add(Dense(30, activation=\"relu\"))\n",
    "model.add(Dense(3, activation=\"softmax\"))\n",
    "\n",
    "# 3. 학습과정 설정\n",
    "model.compile(loss=\"categorical_crossentropy\",optimizer=\"adam\",metrics=['accuracy'])\n",
    "\n",
    "# 4. 학습\n",
    "hist = model.fit(train_X, train_Y, batch_size=50, epochs=300,\n",
    "                    validation_split=0.2,\n",
    "                    callbacks=[early_stopping, checkpoint])\n",
    "# 5.학습과정 표시하기\n",
    "fig, loss_ax = plt.subplots()\n",
    "loss_ax.plot(hist.history['loss'], 'y', label=\"train loss\")\n",
    "loss_ax.plot(hist.history['val_loss'], 'g', label=\"val loss\")\n",
    "loss_ax.set_xlabel(\"epochs\")\n",
    "loss_ax.set_ylabel(\"loss\")\n",
    "\n",
    "acc_ax = loss_ax.twinx() # x축 공유하는 acc_ax\n",
    "acc_ax.plot(hist.history['accuracy'], 'b', label=\"train accuracy\")\n",
    "acc_ax.plot(hist.history['val_accuracy'], 'r', label=\"val accuracy\")\n",
    "acc_ax.set_ylabel(\"accuracy\")\n",
    "\n",
    "loss_ax.legend(loc=\"upper left\")\n",
    "acc_ax.legend(loc=\"lower left\")"
   ]
  },
  {
   "cell_type": "code",
   "execution_count": 5,
   "metadata": {
    "ExecuteTime": {
     "end_time": "2021-03-25T01:50:01.844951Z",
     "start_time": "2021-03-25T01:50:01.839964Z"
    }
   },
   "outputs": [
    {
     "data": {
      "text/plain": [
       "array([0, 1, 1, 0, 2, 1, 2, 0, 0, 2, 1, 0, 2, 1, 1, 0, 1, 1, 0, 0, 1, 1,\n",
       "       1, 0, 2, 1, 0, 0, 1, 2, 1, 2, 1, 2, 2, 0, 1, 0, 1, 2, 2, 0, 2, 2,\n",
       "       1], dtype=int64)"
      ]
     },
     "execution_count": 5,
     "metadata": {},
     "output_type": "execute_result"
    }
   ],
   "source": [
    "# 예측\n",
    "real = np.argmax(test_Y, axis=1) # 실제값\n",
    "real"
   ]
  },
  {
   "cell_type": "code",
   "execution_count": 6,
   "metadata": {
    "ExecuteTime": {
     "end_time": "2021-03-25T01:50:09.197621Z",
     "start_time": "2021-03-25T01:50:09.079927Z"
    }
   },
   "outputs": [
    {
     "name": "stderr",
     "output_type": "stream",
     "text": [
      "C:\\Users\\tjoeun\\anaconda3\\lib\\site-packages\\tensorflow\\python\\keras\\engine\\sequential.py:450: UserWarning: `model.predict_classes()` is deprecated and will be removed after 2021-01-01. Please use instead:* `np.argmax(model.predict(x), axis=-1)`,   if your model does multi-class classification   (e.g. if it uses a `softmax` last-layer activation).* `(model.predict(x) > 0.5).astype(\"int32\")`,   if your model does binary classification   (e.g. if it uses a `sigmoid` last-layer activation).\n",
      "  warnings.warn('`model.predict_classes()` is deprecated and '\n"
     ]
    },
    {
     "data": {
      "text/plain": [
       "array([0, 1, 1, 0, 1, 1, 2, 0, 0, 2, 1, 0, 2, 1, 1, 0, 1, 1, 0, 0, 1, 1,\n",
       "       1, 0, 2, 1, 0, 0, 1, 2, 1, 2, 1, 2, 2, 0, 1, 0, 1, 2, 2, 0, 2, 2,\n",
       "       1], dtype=int64)"
      ]
     },
     "execution_count": 6,
     "metadata": {},
     "output_type": "execute_result"
    }
   ],
   "source": [
    "pred = model.predict_classes(test_X)\n",
    "pred"
   ]
  },
  {
   "cell_type": "code",
   "execution_count": 7,
   "metadata": {
    "ExecuteTime": {
     "end_time": "2021-03-25T01:50:15.547923Z",
     "start_time": "2021-03-25T01:50:15.543941Z"
    }
   },
   "outputs": [
    {
     "data": {
      "text/plain": [
       "False"
      ]
     },
     "execution_count": 7,
     "metadata": {},
     "output_type": "execute_result"
    }
   ],
   "source": [
    "np.all(pred==real)"
   ]
  },
  {
   "cell_type": "code",
   "execution_count": 8,
   "metadata": {
    "ExecuteTime": {
     "end_time": "2021-03-25T01:50:20.354053Z",
     "start_time": "2021-03-25T01:50:20.159911Z"
    }
   },
   "outputs": [
    {
     "data": {
      "text/html": [
       "<div>\n",
       "<style scoped>\n",
       "    .dataframe tbody tr th:only-of-type {\n",
       "        vertical-align: middle;\n",
       "    }\n",
       "\n",
       "    .dataframe tbody tr th {\n",
       "        vertical-align: top;\n",
       "    }\n",
       "\n",
       "    .dataframe thead th {\n",
       "        text-align: right;\n",
       "    }\n",
       "</style>\n",
       "<table border=\"1\" class=\"dataframe\">\n",
       "  <thead>\n",
       "    <tr style=\"text-align: right;\">\n",
       "      <th>pred</th>\n",
       "      <th>0</th>\n",
       "      <th>1</th>\n",
       "      <th>2</th>\n",
       "    </tr>\n",
       "    <tr>\n",
       "      <th>real</th>\n",
       "      <th></th>\n",
       "      <th></th>\n",
       "      <th></th>\n",
       "    </tr>\n",
       "  </thead>\n",
       "  <tbody>\n",
       "    <tr>\n",
       "      <th>0</th>\n",
       "      <td>14</td>\n",
       "      <td>0</td>\n",
       "      <td>0</td>\n",
       "    </tr>\n",
       "    <tr>\n",
       "      <th>1</th>\n",
       "      <td>0</td>\n",
       "      <td>18</td>\n",
       "      <td>0</td>\n",
       "    </tr>\n",
       "    <tr>\n",
       "      <th>2</th>\n",
       "      <td>0</td>\n",
       "      <td>1</td>\n",
       "      <td>12</td>\n",
       "    </tr>\n",
       "  </tbody>\n",
       "</table>\n",
       "</div>"
      ],
      "text/plain": [
       "pred   0   1   2\n",
       "real            \n",
       "0     14   0   0\n",
       "1      0  18   0\n",
       "2      0   1  12"
      ]
     },
     "execution_count": 8,
     "metadata": {},
     "output_type": "execute_result"
    }
   ],
   "source": [
    "ct_result = pd.crosstab(real, pred)\n",
    "ct_result.index.name = \"real\"\n",
    "ct_result.columns.name = \"pred\"\n",
    "ct_result"
   ]
  },
  {
   "cell_type": "code",
   "execution_count": 9,
   "metadata": {
    "ExecuteTime": {
     "end_time": "2021-03-25T01:50:26.951975Z",
     "start_time": "2021-03-25T01:50:26.871905Z"
    }
   },
   "outputs": [
    {
     "name": "stdout",
     "output_type": "stream",
     "text": [
      "5/5 [==============================] - 0s 997us/step - loss: 0.0478 - accuracy: 0.9778\n"
     ]
    }
   ],
   "source": [
    "# 평가\n",
    "score = model.evaluate(test_X, test_Y, batch_size=10)"
   ]
  },
  {
   "cell_type": "code",
   "execution_count": 10,
   "metadata": {
    "ExecuteTime": {
     "end_time": "2021-03-25T01:50:36.084891Z",
     "start_time": "2021-03-25T01:50:36.080912Z"
    }
   },
   "outputs": [
    {
     "name": "stdout",
     "output_type": "stream",
     "text": [
      "평가된 loss : 0.04779522866010666\n",
      "평가된 accuracy : 0.9777777791023254\n",
      "[0.04779522866010666, 0.9777777791023254]\n"
     ]
    }
   ],
   "source": [
    "print(\"평가된 loss :\", score[0])\n",
    "print(\"평가된 accuracy :\", score[1])\n",
    "print(score)"
   ]
  },
  {
   "cell_type": "code",
   "execution_count": 11,
   "metadata": {
    "ExecuteTime": {
     "end_time": "2021-03-25T01:50:44.270877Z",
     "start_time": "2021-03-25T01:50:44.264874Z"
    }
   },
   "outputs": [
    {
     "data": {
      "text/plain": [
       "sepal_length           6.4\n",
       "sepal_width            3.2\n",
       "petal_length           4.5\n",
       "petal_width            1.5\n",
       "species         versicolor\n",
       "Name: 51, dtype: object"
      ]
     },
     "execution_count": 11,
     "metadata": {},
     "output_type": "execute_result"
    }
   ],
   "source": [
    "iris.iloc[51]"
   ]
  },
  {
   "cell_type": "code",
   "execution_count": 12,
   "metadata": {
    "ExecuteTime": {
     "end_time": "2021-03-25T01:50:51.097549Z",
     "start_time": "2021-03-25T01:50:51.007892Z"
    }
   },
   "outputs": [
    {
     "data": {
      "text/plain": [
       "1"
      ]
     },
     "execution_count": 12,
     "metadata": {},
     "output_type": "execute_result"
    }
   ],
   "source": [
    "np.argmax(model.predict(np.array([[6.4, 3.2,4.5,1.5]])))"
   ]
  }
 ],
 "metadata": {
  "kernelspec": {
   "display_name": "Python 3",
   "language": "python",
   "name": "python3"
  },
  "language_info": {
   "codemirror_mode": {
    "name": "ipython",
    "version": 3
   },
   "file_extension": ".py",
   "mimetype": "text/x-python",
   "name": "python",
   "nbconvert_exporter": "python",
   "pygments_lexer": "ipython3",
   "version": "3.8.5"
  },
  "toc": {
   "base_numbering": "10",
   "nav_menu": {},
   "number_sections": true,
   "sideBar": true,
   "skip_h1_title": false,
   "title_cell": "Table of Contents",
   "title_sidebar": "Contents",
   "toc_cell": false,
   "toc_position": {
    "height": "861.111px",
    "left": "317.99px",
    "top": "179.999px",
    "width": "426.667px"
   },
   "toc_section_display": true,
   "toc_window_display": false
  },
  "varInspector": {
   "cols": {
    "lenName": 16,
    "lenType": 16,
    "lenVar": 40
   },
   "kernels_config": {
    "python": {
     "delete_cmd_postfix": "",
     "delete_cmd_prefix": "del ",
     "library": "var_list.py",
     "varRefreshCmd": "print(var_dic_list())"
    },
    "r": {
     "delete_cmd_postfix": ") ",
     "delete_cmd_prefix": "rm(",
     "library": "var_list.r",
     "varRefreshCmd": "cat(var_dic_list()) "
    }
   },
   "types_to_exclude": [
    "module",
    "function",
    "builtin_function_or_method",
    "instance",
    "_Feature"
   ],
   "window_display": false
  }
 },
 "nbformat": 4,
 "nbformat_minor": 4
}
