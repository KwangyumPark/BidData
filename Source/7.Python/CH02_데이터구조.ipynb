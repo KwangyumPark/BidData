{
 "cells": [
  {
   "cell_type": "markdown",
   "metadata": {},
   "source": [
    "21.02.23 Python 데이터 구조"
   ]
  },
  {
   "cell_type": "markdown",
   "metadata": {},
   "source": [
    "# 3장. 데이터 구조 "
   ]
  },
  {
   "cell_type": "markdown",
   "metadata": {},
   "source": [
    "# 1절. 리스트\n",
    "- [ ]를 이용해 만들며 리스트를 이용하면 여러 개 값을 저장 및 관리 가능\n",
    "- 리스트를 만들려면 대괄호(‘[’와 ‘]’)를 이용\n",
    "- 인덱스를 이용해 읽기와 쓰기를 지원\n",
    "- 부분 데이터셋을 뽑아내는 슬라이싱(slicing)을 지원\n",
    "- 파이썬의 인덱스는 0부터 시작\n"
   ]
  },
  {
   "cell_type": "code",
   "execution_count": 1,
   "metadata": {
    "ExecuteTime": {
     "end_time": "2021-02-22T07:21:19.215724Z",
     "start_time": "2021-02-22T07:21:19.206761Z"
    }
   },
   "outputs": [
    {
     "data": {
      "text/plain": [
       "list"
      ]
     },
     "execution_count": 1,
     "metadata": {},
     "output_type": "execute_result"
    }
   ],
   "source": [
    "fruits = ['banana', 'apple', 'orange', 'grape']\n",
    "type(fruits)"
   ]
  },
  {
   "cell_type": "code",
   "execution_count": 4,
   "metadata": {
    "ExecuteTime": {
     "end_time": "2021-02-22T07:21:55.149948Z",
     "start_time": "2021-02-22T07:21:55.146975Z"
    }
   },
   "outputs": [
    {
     "name": "stdout",
     "output_type": "stream",
     "text": [
      "['banana', 'apple', 'orange', 'grape']\n"
     ]
    }
   ],
   "source": [
    "print(fruits)"
   ]
  },
  {
   "cell_type": "code",
   "execution_count": 5,
   "metadata": {
    "ExecuteTime": {
     "end_time": "2021-02-22T07:21:56.886803Z",
     "start_time": "2021-02-22T07:21:56.882813Z"
    }
   },
   "outputs": [
    {
     "name": "stdout",
     "output_type": "stream",
     "text": [
      "banana\n"
     ]
    }
   ],
   "source": [
    "print(fruits[0])"
   ]
  },
  {
   "cell_type": "code",
   "execution_count": 6,
   "metadata": {
    "ExecuteTime": {
     "end_time": "2021-02-22T07:34:27.238775Z",
     "start_time": "2021-02-22T07:34:27.233788Z"
    }
   },
   "outputs": [
    {
     "name": "stdout",
     "output_type": "stream",
     "text": [
      "banana\n",
      "apple\n",
      "orange\n",
      "grape\n"
     ]
    }
   ],
   "source": [
    "for fruit in fruits : \n",
    "    print(fruit)"
   ]
  },
  {
   "cell_type": "code",
   "execution_count": 9,
   "metadata": {
    "ExecuteTime": {
     "end_time": "2021-02-22T07:39:29.830515Z",
     "start_time": "2021-02-22T07:39:29.814894Z"
    }
   },
   "outputs": [
    {
     "data": {
      "text/plain": [
       "[0, 1, 2, 3, 4, 5]"
      ]
     },
     "execution_count": 9,
     "metadata": {},
     "output_type": "execute_result"
    }
   ],
   "source": [
    "list(range(6)) \n",
    "# range(from, to, by) : from부터 to  앞까지 by씩 증가 되면서 만들어진 list\n",
    "# from 생략시 (0부터 /by 생략시 1씩)\n"
   ]
  },
  {
   "cell_type": "code",
   "execution_count": 10,
   "metadata": {
    "ExecuteTime": {
     "end_time": "2021-02-22T07:39:31.814175Z",
     "start_time": "2021-02-22T07:39:31.798553Z"
    }
   },
   "outputs": [
    {
     "data": {
      "text/plain": [
       "[0, 2, 4, 6, 8]"
      ]
     },
     "execution_count": 10,
     "metadata": {},
     "output_type": "execute_result"
    }
   ],
   "source": [
    "list(range(0,10,2))"
   ]
  },
  {
   "cell_type": "code",
   "execution_count": 11,
   "metadata": {
    "ExecuteTime": {
     "end_time": "2021-02-22T07:39:53.933848Z",
     "start_time": "2021-02-22T07:39:53.928861Z"
    }
   },
   "outputs": [
    {
     "data": {
      "text/plain": [
       "[10, 8, 6, 4, 2, 0]"
      ]
     },
     "execution_count": 11,
     "metadata": {},
     "output_type": "execute_result"
    }
   ],
   "source": [
    "list(range(10,-1,-2))"
   ]
  },
  {
   "cell_type": "code",
   "execution_count": 1,
   "metadata": {
    "ExecuteTime": {
     "end_time": "2021-02-23T12:16:26.152824Z",
     "start_time": "2021-02-23T12:16:26.144844Z"
    }
   },
   "outputs": [
    {
     "name": "stdout",
     "output_type": "stream",
     "text": [
      "0\t1\t2\t3\t4\t"
     ]
    }
   ],
   "source": [
    "for i in range(5):\n",
    "    print(i, end='\\t')"
   ]
  },
  {
   "cell_type": "code",
   "execution_count": 15,
   "metadata": {
    "ExecuteTime": {
     "end_time": "2021-02-22T07:43:13.560128Z",
     "start_time": "2021-02-22T07:43:13.544505Z"
    }
   },
   "outputs": [
    {
     "name": "stdout",
     "output_type": "stream",
     "text": [
      "0번째 : banana\n",
      "1번째 : apple\n",
      "2번째 : orange\n",
      "3번째 : grape\n"
     ]
    }
   ],
   "source": [
    "# 0번째 : banana........len(fruits): fruits 요소의 갯수\n",
    "for idx in range(len(fruits)):\n",
    "    print('{}번째 : {}'.format(idx, fruits[idx]))"
   ]
  },
  {
   "cell_type": "code",
   "execution_count": 2,
   "metadata": {
    "ExecuteTime": {
     "end_time": "2021-02-23T12:16:32.242373Z",
     "start_time": "2021-02-23T12:16:32.235436Z"
    }
   },
   "outputs": [],
   "source": [
    "numbers = [1, 2, 3, True, '5']"
   ]
  },
  {
   "cell_type": "code",
   "execution_count": 3,
   "metadata": {
    "ExecuteTime": {
     "end_time": "2021-02-23T12:16:33.902602Z",
     "start_time": "2021-02-23T12:16:33.881660Z"
    }
   },
   "outputs": [
    {
     "data": {
      "text/plain": [
       "[1, 2, 3, True, '5']"
      ]
     },
     "execution_count": 3,
     "metadata": {},
     "output_type": "execute_result"
    }
   ],
   "source": [
    "numbers"
   ]
  },
  {
   "cell_type": "code",
   "execution_count": 5,
   "metadata": {
    "ExecuteTime": {
     "end_time": "2021-02-23T12:16:53.417237Z",
     "start_time": "2021-02-23T12:16:53.405229Z"
    }
   },
   "outputs": [
    {
     "name": "stdout",
     "output_type": "stream",
     "text": [
      "[[1, 2, 3, 4, 5], [10, 20, 30, 40, 50], [1, 3, 5, 7, 9], [2, 4, 6, 8, 10]]\n"
     ]
    }
   ],
   "source": [
    "numbers_2d = [[1,2,3,4,5], \n",
    "              [10,20,30,40,50],\n",
    "              [1,3,5,7,9],\n",
    "              [2,4,6,8,10]]\n",
    "\n",
    "print(numbers_2d)"
   ]
  },
  {
   "cell_type": "code",
   "execution_count": 6,
   "metadata": {
    "ExecuteTime": {
     "end_time": "2021-02-23T12:16:55.354334Z",
     "start_time": "2021-02-23T12:16:55.337381Z"
    }
   },
   "outputs": [
    {
     "data": {
      "text/plain": [
       "10"
      ]
     },
     "execution_count": 6,
     "metadata": {},
     "output_type": "execute_result"
    }
   ],
   "source": [
    "numbers_2d[1][0]"
   ]
  },
  {
   "cell_type": "code",
   "execution_count": 24,
   "metadata": {
    "ExecuteTime": {
     "end_time": "2021-02-22T07:50:37.211360Z",
     "start_time": "2021-02-22T07:50:37.206373Z"
    }
   },
   "outputs": [
    {
     "name": "stdout",
     "output_type": "stream",
     "text": [
      "1\t2\t3\t4\t5\t\n",
      "10\t20\t30\t40\t50\t\n",
      "1\t3\t5\t7\t9\t\n",
      "2\t4\t6\t8\t10\t\n"
     ]
    }
   ],
   "source": [
    "for row in numbers_2d:\n",
    "    for data in row:\n",
    "        print(data, end='\\t')\n",
    "    print() # 프린트 개행"
   ]
  },
  {
   "cell_type": "code",
   "execution_count": 29,
   "metadata": {
    "ExecuteTime": {
     "end_time": "2021-02-22T07:55:46.083797Z",
     "start_time": "2021-02-22T07:55:46.077813Z"
    }
   },
   "outputs": [
    {
     "name": "stdout",
     "output_type": "stream",
     "text": [
      "0행0열 :  1\t0행1열 :  2\t0행2열 :  3\t0행3열 :  4\t0행4열 :  5\t\n",
      "1행0열 : 10\t1행1열 : 20\t1행2열 : 30\t1행3열 : 40\t1행4열 : 50\t\n",
      "2행0열 :  1\t2행1열 :  3\t2행2열 :  5\t2행3열 :  7\t2행4열 :  9\t\n",
      "3행0열 :  2\t3행1열 :  4\t3행2열 :  6\t3행3열 :  8\t3행4열 : 10\t\n"
     ]
    }
   ],
   "source": [
    "for i in range(len(numbers_2d)):  # len(numbers_2d) = 4\n",
    "    for j in range(len(numbers_2d[i])):\n",
    "        print(\"{}행{}열 : {:>2}\".format(i, j, numbers_2d[i][j]), end='\\t')\n",
    "    print()"
   ]
  },
  {
   "cell_type": "markdown",
   "metadata": {},
   "source": [
    "## 1.2 기본 정보 조회"
   ]
  },
  {
   "cell_type": "code",
   "execution_count": 8,
   "metadata": {
    "ExecuteTime": {
     "end_time": "2021-02-23T12:17:04.513608Z",
     "start_time": "2021-02-23T12:17:04.504633Z"
    }
   },
   "outputs": [],
   "source": [
    "numbers = [1,2,3,4,5]\n",
    "numbers_2d = [[1000,2,3,4,5],\n",
    "             [10,20,30,40,50,],\n",
    "             [1,3,5,7,9],\n",
    "             [2,4,6,8,10]]\n"
   ]
  },
  {
   "cell_type": "markdown",
   "metadata": {
    "ExecuteTime": {
     "end_time": "2021-02-22T08:04:05.641251Z",
     "start_time": "2021-02-22T08:04:05.637288Z"
    }
   },
   "source": [
    "## 1.3 요소 수"
   ]
  },
  {
   "cell_type": "code",
   "execution_count": 32,
   "metadata": {
    "ExecuteTime": {
     "end_time": "2021-02-22T08:04:57.240527Z",
     "start_time": "2021-02-22T08:04:57.236538Z"
    }
   },
   "outputs": [
    {
     "name": "stdout",
     "output_type": "stream",
     "text": [
      "numbers_2d[0]의 요소 수 :  5\n"
     ]
    }
   ],
   "source": [
    "print('numbers_2d[0]의 요소 수 : ', len(numbers_2d[0]))"
   ]
  },
  {
   "cell_type": "code",
   "execution_count": 33,
   "metadata": {
    "ExecuteTime": {
     "end_time": "2021-02-22T08:05:39.649516Z",
     "start_time": "2021-02-22T08:05:39.645546Z"
    }
   },
   "outputs": [
    {
     "data": {
      "text/plain": [
       "(1, 5)"
      ]
     },
     "execution_count": 33,
     "metadata": {},
     "output_type": "execute_result"
    }
   ],
   "source": [
    "# 최소값 min, 최대값 max\n",
    "min(numbers), max(numbers)"
   ]
  },
  {
   "cell_type": "code",
   "execution_count": 34,
   "metadata": {
    "ExecuteTime": {
     "end_time": "2021-02-22T08:07:58.561604Z",
     "start_time": "2021-02-22T08:07:58.556618Z"
    }
   },
   "outputs": [
    {
     "data": {
      "text/plain": [
       "([1, 3, 5, 7, 9], [1000, 2, 3, 4, 5])"
      ]
     },
     "execution_count": 34,
     "metadata": {},
     "output_type": "execute_result"
    }
   ],
   "source": [
    "# 2차원 리스트에서는 max() 함수는 부분 리스트 중 텃 요소가 가장 큰 값을 갖는 리스트를 반환\n",
    "#                 min() 함수는 부분 리스트 중 첫요소가 가장 작은 값을 갖는 리스트를 반환\n",
    "min(numbers_2d), max(numbers_2d)"
   ]
  },
  {
   "cell_type": "code",
   "execution_count": null,
   "metadata": {},
   "outputs": [],
   "source": [
    "# 요소 추가"
   ]
  },
  {
   "cell_type": "code",
   "execution_count": null,
   "metadata": {},
   "outputs": [],
   "source": [
    "# + 두 리스트를 연결\n",
    "# * 리스트를 곱한 수 만큼 반복\n",
    "# append() 리스트를 요소별로 맨 뒤에 추가\n",
    "# insert() 지정된 index 위치에 삽입"
   ]
  },
  {
   "cell_type": "code",
   "execution_count": 35,
   "metadata": {
    "ExecuteTime": {
     "end_time": "2021-02-22T08:10:26.721094Z",
     "start_time": "2021-02-22T08:10:26.716129Z"
    }
   },
   "outputs": [
    {
     "data": {
      "text/plain": [
       "[1, 2, 3, 4, 5, 1, 2, 3, 4, 5]"
      ]
     },
     "execution_count": 35,
     "metadata": {},
     "output_type": "execute_result"
    }
   ],
   "source": [
    "numbers = [1,2,3,4,5]\n",
    "numbers = numbers + numbers # 리스트에 연결\n",
    "numbers"
   ]
  },
  {
   "cell_type": "code",
   "execution_count": 36,
   "metadata": {
    "ExecuteTime": {
     "end_time": "2021-02-22T08:10:51.712204Z",
     "start_time": "2021-02-22T08:10:51.708236Z"
    }
   },
   "outputs": [
    {
     "name": "stdout",
     "output_type": "stream",
     "text": [
      "[1, 2, 3, 1, 2, 3, 1, 2, 3]\n"
     ]
    }
   ],
   "source": [
    "numbers = [1,2,3]\n",
    "print(numbers * 3) # 반복"
   ]
  },
  {
   "cell_type": "code",
   "execution_count": 37,
   "metadata": {
    "ExecuteTime": {
     "end_time": "2021-02-22T08:11:06.007872Z",
     "start_time": "2021-02-22T08:11:06.003902Z"
    }
   },
   "outputs": [
    {
     "name": "stdout",
     "output_type": "stream",
     "text": [
      "ABCABCABC\n"
     ]
    }
   ],
   "source": [
    "print('ABC' * 3)"
   ]
  },
  {
   "cell_type": "code",
   "execution_count": 38,
   "metadata": {
    "ExecuteTime": {
     "end_time": "2021-02-22T08:12:18.808706Z",
     "start_time": "2021-02-22T08:12:18.803743Z"
    }
   },
   "outputs": [
    {
     "data": {
      "text/plain": [
       "[1, 2, 3, 4]"
      ]
     },
     "execution_count": 38,
     "metadata": {},
     "output_type": "execute_result"
    }
   ],
   "source": [
    "# append() 함수 이용\n",
    "numbers = [1,2,3]\n",
    "numbers.append(4) # 요소의 맨 뒤에 추가\n",
    "numbers"
   ]
  },
  {
   "cell_type": "code",
   "execution_count": 40,
   "metadata": {
    "ExecuteTime": {
     "end_time": "2021-02-22T08:13:56.042701Z",
     "start_time": "2021-02-22T08:13:56.037714Z"
    }
   },
   "outputs": [
    {
     "data": {
      "text/plain": [
       "[1, 2, 3, 4, 5, 6]"
      ]
     },
     "execution_count": 40,
     "metadata": {},
     "output_type": "execute_result"
    }
   ],
   "source": [
    "# extend()\n",
    "numbers = [1,2,3]\n",
    "num = [4,5,6]\n",
    "numbers.extend(num)\n",
    "numbers"
   ]
  },
  {
   "cell_type": "code",
   "execution_count": 41,
   "metadata": {
    "ExecuteTime": {
     "end_time": "2021-02-22T08:14:18.984463Z",
     "start_time": "2021-02-22T08:14:18.979470Z"
    }
   },
   "outputs": [
    {
     "data": {
      "text/plain": [
       "[1, 2, 3, 4, 5, 6, 'H', 'e', 'l', 'l', 'o']"
      ]
     },
     "execution_count": 41,
     "metadata": {},
     "output_type": "execute_result"
    }
   ],
   "source": [
    "numbers.extend('Hello')\n",
    "numbers"
   ]
  },
  {
   "cell_type": "code",
   "execution_count": 42,
   "metadata": {
    "ExecuteTime": {
     "end_time": "2021-02-22T08:15:59.048344Z",
     "start_time": "2021-02-22T08:15:59.043379Z"
    }
   },
   "outputs": [
    {
     "data": {
      "text/plain": [
       "[1, 'xx', 2, 3, 4, 5]"
      ]
     },
     "execution_count": 42,
     "metadata": {},
     "output_type": "execute_result"
    }
   ],
   "source": [
    "# insert(idx, 추가할내용) : idx 번째 인덱스에 추가할 내용 삽입\n",
    "numbers = [1,2,3,4,5]\n",
    "numbers.insert(1,'xx')\n",
    "numbers"
   ]
  },
  {
   "cell_type": "markdown",
   "metadata": {},
   "source": [
    "## 1.4 인덱싱"
   ]
  },
  {
   "cell_type": "code",
   "execution_count": 44,
   "metadata": {
    "ExecuteTime": {
     "end_time": "2021-02-22T08:19:54.639905Z",
     "start_time": "2021-02-22T08:19:54.635914Z"
    }
   },
   "outputs": [
    {
     "name": "stdout",
     "output_type": "stream",
     "text": [
      "([1, 2, 3], [1, 2, 3], [1, 2, 3])\n",
      "[[1, 2, 3], [1, 2, 3]]\n"
     ]
    }
   ],
   "source": [
    "numbers = [1,2,3], [1,2,3], [1,2,3]\n",
    "numbers_2d = [[1,2,3],[1,2,3]]\n",
    "print(numbers)\n",
    "print(numbers_2d)"
   ]
  },
  {
   "cell_type": "code",
   "execution_count": 48,
   "metadata": {
    "ExecuteTime": {
     "end_time": "2021-02-22T08:21:46.128601Z",
     "start_time": "2021-02-22T08:21:46.123614Z"
    }
   },
   "outputs": [
    {
     "data": {
      "text/plain": [
       "0"
      ]
     },
     "execution_count": 48,
     "metadata": {},
     "output_type": "execute_result"
    }
   ],
   "source": [
    "numbers.count(2) # 2가 몇개 있는지"
   ]
  },
  {
   "cell_type": "code",
   "execution_count": 46,
   "metadata": {
    "ExecuteTime": {
     "end_time": "2021-02-22T08:21:18.231390Z",
     "start_time": "2021-02-22T08:21:18.227424Z"
    }
   },
   "outputs": [
    {
     "data": {
      "text/plain": [
       "0"
      ]
     },
     "execution_count": 46,
     "metadata": {},
     "output_type": "execute_result"
    }
   ],
   "source": [
    "numbers.count(9)"
   ]
  },
  {
   "cell_type": "code",
   "execution_count": 47,
   "metadata": {
    "ExecuteTime": {
     "end_time": "2021-02-22T08:21:36.139655Z",
     "start_time": "2021-02-22T08:21:36.122918Z"
    }
   },
   "outputs": [
    {
     "data": {
      "text/plain": [
       "3"
      ]
     },
     "execution_count": 47,
     "metadata": {},
     "output_type": "execute_result"
    }
   ],
   "source": [
    "numbers.count([1,2,3])"
   ]
  },
  {
   "cell_type": "code",
   "execution_count": 52,
   "metadata": {
    "ExecuteTime": {
     "end_time": "2021-02-22T08:36:36.801552Z",
     "start_time": "2021-02-22T08:36:36.792577Z"
    }
   },
   "outputs": [
    {
     "ename": "ValueError",
     "evalue": "3 is not in list",
     "output_type": "error",
     "traceback": [
      "\u001b[1;31m---------------------------------------------------------------------------\u001b[0m",
      "\u001b[1;31mValueError\u001b[0m                                Traceback (most recent call last)",
      "\u001b[1;32m<ipython-input-52-21a5e9a627c2>\u001b[0m in \u001b[0;36m<module>\u001b[1;34m\u001b[0m\n\u001b[0;32m      1\u001b[0m \u001b[0mnumbers\u001b[0m \u001b[1;33m=\u001b[0m \u001b[1;33m[\u001b[0m\u001b[1;36m1\u001b[0m\u001b[1;33m,\u001b[0m\u001b[1;36m3\u001b[0m\u001b[1;33m,\u001b[0m\u001b[1;36m5\u001b[0m\u001b[1;33m,\u001b[0m\u001b[1;36m7\u001b[0m\u001b[1;33m,\u001b[0m\u001b[1;36m9\u001b[0m\u001b[1;33m]\u001b[0m\u001b[1;33m\u001b[0m\u001b[1;33m\u001b[0m\u001b[0m\n\u001b[0;32m      2\u001b[0m \u001b[0mnumbers\u001b[0m\u001b[1;33m.\u001b[0m\u001b[0mindex\u001b[0m\u001b[1;33m(\u001b[0m\u001b[1;36m3\u001b[0m\u001b[1;33m)\u001b[0m\u001b[1;33m\u001b[0m\u001b[1;33m\u001b[0m\u001b[0m\n\u001b[1;32m----> 3\u001b[1;33m \u001b[0mnumbers\u001b[0m\u001b[1;33m.\u001b[0m\u001b[0mindex\u001b[0m\u001b[1;33m(\u001b[0m\u001b[1;36m3\u001b[0m\u001b[1;33m,\u001b[0m\u001b[1;36m5\u001b[0m\u001b[1;33m)\u001b[0m\u001b[1;33m\u001b[0m\u001b[1;33m\u001b[0m\u001b[0m\n\u001b[0m",
      "\u001b[1;31mValueError\u001b[0m: 3 is not in list"
     ]
    }
   ],
   "source": [
    "numbers = [1,3,5,7,9]\n",
    "numbers.index(3)\n",
    "numbers.index(3,5)"
   ]
  },
  {
   "cell_type": "markdown",
   "metadata": {},
   "source": [
    "## 1.5 원하는 리스트 내용만 추출\n",
    "- 리스트 슬라이싱, 인덱스보다 많이 사용"
   ]
  },
  {
   "cell_type": "code",
   "execution_count": 53,
   "metadata": {
    "ExecuteTime": {
     "end_time": "2021-02-22T08:39:29.665138Z",
     "start_time": "2021-02-22T08:39:29.649290Z"
    }
   },
   "outputs": [],
   "source": [
    "numbers = [1,2,3,4,5]"
   ]
  },
  {
   "cell_type": "code",
   "execution_count": 54,
   "metadata": {
    "ExecuteTime": {
     "end_time": "2021-02-22T08:40:15.093412Z",
     "start_time": "2021-02-22T08:40:15.089444Z"
    }
   },
   "outputs": [
    {
     "data": {
      "text/plain": [
       "[3, 4, 5]"
      ]
     },
     "execution_count": 54,
     "metadata": {},
     "output_type": "execute_result"
    }
   ],
   "source": [
    "numbers[2:9] # 2부터 9번 인덱스 바로 앞까지 (해당 인덱스가 없을경우 끝까지)"
   ]
  },
  {
   "cell_type": "code",
   "execution_count": 55,
   "metadata": {
    "ExecuteTime": {
     "end_time": "2021-02-22T08:40:33.077236Z",
     "start_time": "2021-02-22T08:40:33.072270Z"
    }
   },
   "outputs": [
    {
     "data": {
      "text/plain": [
       "[5, 4, 3, 2, 1]"
      ]
     },
     "execution_count": 55,
     "metadata": {},
     "output_type": "execute_result"
    }
   ],
   "source": [
    "numbers[::-1]"
   ]
  },
  {
   "cell_type": "code",
   "execution_count": 56,
   "metadata": {
    "ExecuteTime": {
     "end_time": "2021-02-22T08:40:49.204125Z",
     "start_time": "2021-02-22T08:40:49.200140Z"
    }
   },
   "outputs": [
    {
     "data": {
      "text/plain": [
       "[1, 2, 3, 4, 5]"
      ]
     },
     "execution_count": 56,
     "metadata": {},
     "output_type": "execute_result"
    }
   ],
   "source": [
    "numbers[::]"
   ]
  },
  {
   "cell_type": "code",
   "execution_count": 57,
   "metadata": {
    "ExecuteTime": {
     "end_time": "2021-02-22T08:41:28.605177Z",
     "start_time": "2021-02-22T08:41:28.600211Z"
    }
   },
   "outputs": [
    {
     "data": {
      "text/plain": [
       "[1, 2, 3, 4]"
      ]
     },
     "execution_count": 57,
     "metadata": {},
     "output_type": "execute_result"
    }
   ],
   "source": [
    "numbers[-5:-1]"
   ]
  },
  {
   "cell_type": "code",
   "execution_count": 58,
   "metadata": {
    "ExecuteTime": {
     "end_time": "2021-02-22T08:42:36.647759Z",
     "start_time": "2021-02-22T08:42:36.642773Z"
    }
   },
   "outputs": [
    {
     "data": {
      "text/plain": [
       "[]"
      ]
     },
     "execution_count": 58,
     "metadata": {},
     "output_type": "execute_result"
    }
   ],
   "source": [
    "numbers[-1:-5] #-1부터 -5 바로 전까지 by(1)씩 인덱스를 전진하며 엑세스"
   ]
  },
  {
   "cell_type": "code",
   "execution_count": 59,
   "metadata": {
    "ExecuteTime": {
     "end_time": "2021-02-22T08:44:20.024988Z",
     "start_time": "2021-02-22T08:44:20.008255Z"
    }
   },
   "outputs": [
    {
     "data": {
      "text/plain": [
       "[[10, 20, 30], [11, 12, 13]]"
      ]
     },
     "execution_count": 59,
     "metadata": {},
     "output_type": "execute_result"
    }
   ],
   "source": [
    "numbers_2d = [[1,2,3],[10,20,30],[11,12,13],[21,22,23]]\n",
    "numbers_2d[1:3]"
   ]
  },
  {
   "cell_type": "code",
   "execution_count": 60,
   "metadata": {
    "ExecuteTime": {
     "end_time": "2021-02-22T08:44:43.639560Z",
     "start_time": "2021-02-22T08:44:43.623917Z"
    }
   },
   "outputs": [
    {
     "data": {
      "text/plain": [
       "[2, 3]"
      ]
     },
     "execution_count": 60,
     "metadata": {},
     "output_type": "execute_result"
    }
   ],
   "source": [
    "numbers_2d[0][1:3]"
   ]
  },
  {
   "cell_type": "code",
   "execution_count": null,
   "metadata": {},
   "outputs": [],
   "source": [
    "# 람다식을 이용한 list의 원하는 데이터 엑세스"
   ]
  },
  {
   "cell_type": "code",
   "execution_count": 62,
   "metadata": {
    "ExecuteTime": {
     "end_time": "2021-02-22T08:47:29.757821Z",
     "start_time": "2021-02-22T08:47:29.752855Z"
    }
   },
   "outputs": [
    {
     "data": {
      "text/plain": [
       "[1, 3, 5, 9, 10, 12, 13, 18, 19, 20]"
      ]
     },
     "execution_count": 62,
     "metadata": {},
     "output_type": "execute_result"
    }
   ],
   "source": [
    "numbers = [1,3,5,9,10,12,13,18,19,20]\n",
    "\n",
    "# 모든 데이터 가져오기\n",
    "# for data in numbers:\n",
    "#    print(data)\n",
    "[data for data in numbers]"
   ]
  },
  {
   "cell_type": "code",
   "execution_count": 63,
   "metadata": {
    "ExecuteTime": {
     "end_time": "2021-02-22T08:50:46.831919Z",
     "start_time": "2021-02-22T08:50:46.816166Z"
    }
   },
   "outputs": [
    {
     "data": {
      "text/plain": [
       "[10, 12, 18, 20]"
      ]
     },
     "execution_count": 63,
     "metadata": {},
     "output_type": "execute_result"
    }
   ],
   "source": [
    "# 짝수 데이터만 가져오기\n",
    "# for x in numbers:\n",
    "#    if x%2 == 0:\n",
    "#        print(x)\n",
    "\n",
    "[x for x in numbers if x%2 == 0]"
   ]
  },
  {
   "cell_type": "code",
   "execution_count": 64,
   "metadata": {
    "ExecuteTime": {
     "end_time": "2021-02-22T08:52:00.579986Z",
     "start_time": "2021-02-22T08:52:00.575005Z"
    }
   },
   "outputs": [
    {
     "data": {
      "text/plain": [
       "[10, 12, 13, 18, 19, 20]"
      ]
     },
     "execution_count": 64,
     "metadata": {},
     "output_type": "execute_result"
    }
   ],
   "source": [
    "# 10 이상의 데이터만 list로 가져오기\n",
    "[x for x in numbers if x >= 10]"
   ]
  },
  {
   "cell_type": "code",
   "execution_count": 92,
   "metadata": {
    "ExecuteTime": {
     "end_time": "2021-02-22T09:17:27.553861Z",
     "start_time": "2021-02-22T09:17:27.548899Z"
    }
   },
   "outputs": [
    {
     "data": {
      "text/plain": [
       "['orange', 'apple', 'mango']"
      ]
     },
     "execution_count": 92,
     "metadata": {},
     "output_type": "execute_result"
    }
   ],
   "source": [
    "# 과일의 글씨가 5글자 이상인 과일만 추출\n",
    "fruits = ['orange', 'apple', 'mango', 'kiwi']\n",
    "[fruits for fruits in fruits if len(fruits) >= 5]"
   ]
  },
  {
   "cell_type": "code",
   "execution_count": 97,
   "metadata": {
    "ExecuteTime": {
     "end_time": "2021-02-22T09:19:33.864312Z",
     "start_time": "2021-02-22T09:19:33.860323Z"
    }
   },
   "outputs": [
    {
     "data": {
      "text/plain": [
       "[1, 4, 9, 16, 25]"
      ]
     },
     "execution_count": 97,
     "metadata": {},
     "output_type": "execute_result"
    }
   ],
   "source": [
    "# 리스트의 값의 제곱을 추출하라\n",
    "L = [1,2,3,4,5]\n",
    "[x**2 for x in L]"
   ]
  },
  {
   "cell_type": "code",
   "execution_count": 98,
   "metadata": {
    "ExecuteTime": {
     "end_time": "2021-02-22T09:19:45.009435Z",
     "start_time": "2021-02-22T09:19:45.004447Z"
    }
   },
   "outputs": [
    {
     "data": {
      "text/plain": [
       "[1, 8, 27, 64, 125]"
      ]
     },
     "execution_count": 98,
     "metadata": {},
     "output_type": "execute_result"
    }
   ],
   "source": [
    "# 리스트의 값의 세제곱을 추출하라\n",
    "L = [1,2,3,4,5]\n",
    "[x**3 for x in L]"
   ]
  },
  {
   "cell_type": "code",
   "execution_count": 99,
   "metadata": {
    "ExecuteTime": {
     "end_time": "2021-02-22T09:19:52.521771Z",
     "start_time": "2021-02-22T09:19:52.516784Z"
    }
   },
   "outputs": [
    {
     "data": {
      "text/plain": [
       "[2, 4, 6, 8, 10]"
      ]
     },
     "execution_count": 99,
     "metadata": {},
     "output_type": "execute_result"
    }
   ],
   "source": [
    "# 리스트의 값의 두배의 수를 추출하라\n",
    "L = [1,2,3,4,5]\n",
    "[x*2 for x in L]"
   ]
  },
  {
   "cell_type": "markdown",
   "metadata": {},
   "source": [
    "## 1.6 요소 수정하기"
   ]
  },
  {
   "cell_type": "code",
   "execution_count": 1,
   "metadata": {
    "ExecuteTime": {
     "end_time": "2021-02-23T00:36:22.698985Z",
     "start_time": "2021-02-23T00:36:22.689035Z"
    }
   },
   "outputs": [
    {
     "data": {
      "text/plain": [
       "[0, 1, 2, 3, 4, 5, 6, 7, 8, 9]"
      ]
     },
     "execution_count": 1,
     "metadata": {},
     "output_type": "execute_result"
    }
   ],
   "source": [
    "numbers = [0,1,2,3,4,5,6,7,8,9] #부분 리스트를 통째로 바꾼다.(슬라이싱)\n",
    "numbers"
   ]
  },
  {
   "cell_type": "code",
   "execution_count": 5,
   "metadata": {
    "ExecuteTime": {
     "end_time": "2021-02-23T00:39:51.354609Z",
     "start_time": "2021-02-23T00:39:51.349623Z"
    }
   },
   "outputs": [
    {
     "data": {
      "text/plain": [
       "[999, 999, 999, 999, 999, 9]"
      ]
     },
     "execution_count": 5,
     "metadata": {},
     "output_type": "execute_result"
    }
   ],
   "source": [
    "numbers[0:5]=[999,999,999,999,999]\n",
    "numbers"
   ]
  },
  {
   "cell_type": "code",
   "execution_count": 6,
   "metadata": {
    "ExecuteTime": {
     "end_time": "2021-02-23T00:40:10.169040Z",
     "start_time": "2021-02-23T00:40:10.165050Z"
    }
   },
   "outputs": [
    {
     "data": {
      "text/plain": [
       "[999, 999, 222, 999, 999, 9]"
      ]
     },
     "execution_count": 6,
     "metadata": {},
     "output_type": "execute_result"
    }
   ],
   "source": [
    "numbers[2] = 222\n",
    "numbers"
   ]
  },
  {
   "cell_type": "code",
   "execution_count": 8,
   "metadata": {
    "ExecuteTime": {
     "end_time": "2021-02-23T00:40:57.401127Z",
     "start_time": "2021-02-23T00:40:57.396146Z"
    }
   },
   "outputs": [
    {
     "data": {
      "text/plain": [
       "[5, 6, 7, 8, 9, 5, 6, 7, 8, 9]"
      ]
     },
     "execution_count": 8,
     "metadata": {},
     "output_type": "execute_result"
    }
   ],
   "source": [
    "numbers = [0,1,2,3,4,5,6,7,8,9]\n",
    "numbers[0:5] = numbers[5:]\n",
    "numbers"
   ]
  },
  {
   "cell_type": "code",
   "execution_count": 11,
   "metadata": {
    "ExecuteTime": {
     "end_time": "2021-02-23T00:43:43.416652Z",
     "start_time": "2021-02-23T00:43:43.412661Z"
    }
   },
   "outputs": [
    {
     "name": "stdout",
     "output_type": "stream",
     "text": [
      "수정전 :  [0, 0, 0, 0, 0, 0, 0, 0, 0, 0]\n",
      "수정후 :  [99, 0, 99, 0, 99, 0, 99, 0, 99, 0]\n"
     ]
    }
   ],
   "source": [
    "# 슬라이싱에서 by를 추가\n",
    "numbers = [0] * 10\n",
    "print('수정전 : ', numbers)\n",
    "numbers[::2] = [99,99,99,99,99]\n",
    "print('수정후 : ', numbers)"
   ]
  },
  {
   "cell_type": "code",
   "execution_count": null,
   "metadata": {},
   "outputs": [],
   "source": [
    "# 슬라이싱에서 by가 포함될 경우 바꾸려는 값의 갯수가 맞아야 한다.\n",
    "numbers[::2] = [11,11,11]"
   ]
  },
  {
   "cell_type": "markdown",
   "metadata": {},
   "source": [
    "## 1.7 데이터 삭제하기\n",
    "- pop() : 가장 마지막 요소 반환후 삭제, pop(n): n번째 요소가 반환되고 삭제\n",
    "- remove() : remove(data)-> 해당 데이터 삭제\n",
    "- del : 지정된 위치 항목 삭제, 뱐수삭제"
   ]
  },
  {
   "cell_type": "code",
   "execution_count": 12,
   "metadata": {
    "ExecuteTime": {
     "end_time": "2021-02-23T00:49:19.866545Z",
     "start_time": "2021-02-23T00:49:19.863546Z"
    }
   },
   "outputs": [
    {
     "name": "stdout",
     "output_type": "stream",
     "text": [
      "[0, 1, 2, 3, 4, 5, 6, 7, 8, 9]\n",
      "9\n",
      "[0, 1, 2, 3, 4, 5, 6, 7, 8]\n"
     ]
    }
   ],
   "source": [
    "numbers = [0,1,2,3,4,5,6,7,8,9]\n",
    "print(numbers)\n",
    "print(numbers.pop())\n",
    "print(numbers)"
   ]
  },
  {
   "cell_type": "code",
   "execution_count": 13,
   "metadata": {
    "ExecuteTime": {
     "end_time": "2021-02-23T00:49:47.575246Z",
     "start_time": "2021-02-23T00:49:47.571282Z"
    }
   },
   "outputs": [
    {
     "name": "stdout",
     "output_type": "stream",
     "text": [
      "2\n",
      "[0, 1, 3, 4, 5, 6, 7, 8]\n"
     ]
    }
   ],
   "source": [
    "print(numbers.pop(2))\n",
    "print(numbers)"
   ]
  },
  {
   "cell_type": "code",
   "execution_count": 14,
   "metadata": {
    "ExecuteTime": {
     "end_time": "2021-02-23T00:51:16.176533Z",
     "start_time": "2021-02-23T00:51:16.171546Z"
    }
   },
   "outputs": [
    {
     "name": "stdout",
     "output_type": "stream",
     "text": [
      "pop전 [[1, 2, 3], [10, 20, 30], [100, 200, 300]]\n",
      "[100, 200, 300]\n",
      "pop 후 [[1, 2, 3], [10, 20, 30]]\n"
     ]
    }
   ],
   "source": [
    "numbers_2d = [[1,2,3],[10,20,30],[100,200,300]]\n",
    "print('pop전', numbers_2d)\n",
    "print(numbers_2d.pop())\n",
    "print('pop 후', numbers_2d)"
   ]
  },
  {
   "cell_type": "code",
   "execution_count": 16,
   "metadata": {
    "ExecuteTime": {
     "end_time": "2021-02-23T00:52:22.608781Z",
     "start_time": "2021-02-23T00:52:22.602778Z"
    }
   },
   "outputs": [
    {
     "name": "stdout",
     "output_type": "stream",
     "text": [
      "None\n"
     ]
    },
    {
     "data": {
      "text/plain": [
       "[0, 1, 2, 3, 4, 6, 7, 8, 9]"
      ]
     },
     "execution_count": 16,
     "metadata": {},
     "output_type": "execute_result"
    }
   ],
   "source": [
    "numbers = [0,1,2,3,4,5,6,7,8,9]\n",
    "print(numbers.remove(5)) # 반환값이 없다.\n",
    "numbers"
   ]
  },
  {
   "cell_type": "code",
   "execution_count": 17,
   "metadata": {
    "ExecuteTime": {
     "end_time": "2021-02-23T00:53:01.443740Z",
     "start_time": "2021-02-23T00:53:01.434764Z"
    }
   },
   "outputs": [
    {
     "ename": "ValueError",
     "evalue": "list.remove(x): x not in list",
     "output_type": "error",
     "traceback": [
      "\u001b[1;31m---------------------------------------------------------------------------\u001b[0m",
      "\u001b[1;31mValueError\u001b[0m                                Traceback (most recent call last)",
      "\u001b[1;32m<ipython-input-17-b23ddd7c18b2>\u001b[0m in \u001b[0;36m<module>\u001b[1;34m\u001b[0m\n\u001b[1;32m----> 1\u001b[1;33m \u001b[0mnumbers\u001b[0m\u001b[1;33m.\u001b[0m\u001b[0mremove\u001b[0m\u001b[1;33m(\u001b[0m\u001b[1;36m99\u001b[0m\u001b[1;33m)\u001b[0m\u001b[1;33m\u001b[0m\u001b[1;33m\u001b[0m\u001b[0m\n\u001b[0m",
      "\u001b[1;31mValueError\u001b[0m: list.remove(x): x not in list"
     ]
    }
   ],
   "source": [
    "numbers.remove(99) # 없는값을 삭제 하려면 에러발생"
   ]
  },
  {
   "cell_type": "code",
   "execution_count": 19,
   "metadata": {
    "ExecuteTime": {
     "end_time": "2021-02-23T00:54:44.478511Z",
     "start_time": "2021-02-23T00:54:44.475519Z"
    }
   },
   "outputs": [
    {
     "name": "stdout",
     "output_type": "stream",
     "text": [
      "[0, 1, 2, 3, 4, 6, 7, 8, 9]\n",
      "[0, 1, 3, 4, 6, 7, 8, 9]\n"
     ]
    }
   ],
   "source": [
    "print(numbers)\n",
    "del numbers[2] # 변수삭제\n",
    "print(numbers)"
   ]
  },
  {
   "cell_type": "code",
   "execution_count": 20,
   "metadata": {
    "ExecuteTime": {
     "end_time": "2021-02-23T00:55:06.554558Z",
     "start_time": "2021-02-23T00:55:06.546579Z"
    }
   },
   "outputs": [
    {
     "ename": "NameError",
     "evalue": "name 'numbers' is not defined",
     "output_type": "error",
     "traceback": [
      "\u001b[1;31m---------------------------------------------------------------------------\u001b[0m",
      "\u001b[1;31mNameError\u001b[0m                                 Traceback (most recent call last)",
      "\u001b[1;32m<ipython-input-20-ace1044fa32e>\u001b[0m in \u001b[0;36m<module>\u001b[1;34m\u001b[0m\n\u001b[0;32m      1\u001b[0m \u001b[1;32mdel\u001b[0m \u001b[0mnumbers\u001b[0m\u001b[1;33m\u001b[0m\u001b[1;33m\u001b[0m\u001b[0m\n\u001b[1;32m----> 2\u001b[1;33m \u001b[0mnumbers\u001b[0m\u001b[1;33m\u001b[0m\u001b[1;33m\u001b[0m\u001b[0m\n\u001b[0m",
      "\u001b[1;31mNameError\u001b[0m: name 'numbers' is not defined"
     ]
    }
   ],
   "source": [
    "del numbers\n",
    "numbers"
   ]
  },
  {
   "cell_type": "code",
   "execution_count": 23,
   "metadata": {
    "ExecuteTime": {
     "end_time": "2021-02-23T00:57:03.991201Z",
     "start_time": "2021-02-23T00:57:03.987235Z"
    }
   },
   "outputs": [
    {
     "name": "stdout",
     "output_type": "stream",
     "text": [
      "clear 전 :  [0, 1, 2, 3, 4]\n",
      "clear 후 :  []\n"
     ]
    }
   ],
   "source": [
    "numbers = [0,1,2,3,4]\n",
    "print(\"clear 전 : \", numbers)\n",
    "numbers.clear()\n",
    "#del numbers[:]\n",
    "print(\"clear 후 : \", numbers)"
   ]
  },
  {
   "cell_type": "markdown",
   "metadata": {},
   "source": [
    "## 1.8 정렬하기"
   ]
  },
  {
   "cell_type": "code",
   "execution_count": 24,
   "metadata": {
    "ExecuteTime": {
     "end_time": "2021-02-23T00:58:38.799200Z",
     "start_time": "2021-02-23T00:58:38.794214Z"
    }
   },
   "outputs": [
    {
     "data": {
      "text/plain": [
       "[0, 1, 2, 4, 5, 6, 8, 9]"
      ]
     },
     "execution_count": 24,
     "metadata": {},
     "output_type": "execute_result"
    }
   ],
   "source": [
    "numbers = [9,5,1,0,6,4,2,8]\n",
    "numbers.sort() # 기본 정렬은 오름차순, sort 실행 후  리스트가 바뀜\n",
    "numbers"
   ]
  },
  {
   "cell_type": "code",
   "execution_count": 25,
   "metadata": {
    "ExecuteTime": {
     "end_time": "2021-02-23T00:59:42.322451Z",
     "start_time": "2021-02-23T00:59:42.317490Z"
    }
   },
   "outputs": [
    {
     "data": {
      "text/plain": [
       "[9, 8, 6, 5, 4, 2, 1, 0]"
      ]
     },
     "execution_count": 25,
     "metadata": {},
     "output_type": "execute_result"
    }
   ],
   "source": [
    "numbers = [9,5,1,0,6,4,2,8]\n",
    "numbers.sort() # 기본 정렬은 오름차순, sort 실행 후  리스트가 바뀜\n",
    "numbers[::-1] # 내림차순으로 출력되나 리스트는 바뀌지 않음"
   ]
  },
  {
   "cell_type": "code",
   "execution_count": 26,
   "metadata": {
    "ExecuteTime": {
     "end_time": "2021-02-23T00:59:59.639273Z",
     "start_time": "2021-02-23T00:59:59.634312Z"
    }
   },
   "outputs": [
    {
     "data": {
      "text/plain": [
       "[0, 1, 2, 4, 5, 6, 8, 9]"
      ]
     },
     "execution_count": 26,
     "metadata": {},
     "output_type": "execute_result"
    }
   ],
   "source": [
    "numbers"
   ]
  },
  {
   "cell_type": "code",
   "execution_count": 28,
   "metadata": {
    "ExecuteTime": {
     "end_time": "2021-02-23T01:01:45.999038Z",
     "start_time": "2021-02-23T01:01:45.995072Z"
    }
   },
   "outputs": [
    {
     "name": "stdout",
     "output_type": "stream",
     "text": [
      "[9, 8, 6, 5, 4, 2, 1, 0]\n"
     ]
    }
   ],
   "source": [
    "numbers.sort(reverse=True) # 내림차순 정렬 및 리스트 변경\n",
    "print(numbers)"
   ]
  },
  {
   "cell_type": "code",
   "execution_count": 29,
   "metadata": {
    "ExecuteTime": {
     "end_time": "2021-02-23T01:03:05.518764Z",
     "start_time": "2021-02-23T01:03:05.513802Z"
    }
   },
   "outputs": [
    {
     "data": {
      "text/plain": [
       "[0, 1, 2, 4, 5, 6, 8, 9]"
      ]
     },
     "execution_count": 29,
     "metadata": {},
     "output_type": "execute_result"
    }
   ],
   "source": [
    "numbers.reverse() # 리스트를 역순으로 변경\n",
    "numbers"
   ]
  },
  {
   "cell_type": "code",
   "execution_count": 30,
   "metadata": {
    "ExecuteTime": {
     "end_time": "2021-02-23T01:04:17.581264Z",
     "start_time": "2021-02-23T01:04:17.577289Z"
    }
   },
   "outputs": [
    {
     "data": {
      "text/plain": [
       "[9, 8, 6, 5, 4, 2, 1, 0]"
      ]
     },
     "execution_count": 30,
     "metadata": {},
     "output_type": "execute_result"
    }
   ],
   "source": [
    "numbers = numbers[::-1] # reverse() 함수와 같은 명령어\n",
    "numbers"
   ]
  },
  {
   "cell_type": "markdown",
   "metadata": {},
   "source": [
    "## 1.9 리스트 복제"
   ]
  },
  {
   "cell_type": "code",
   "execution_count": 31,
   "metadata": {
    "ExecuteTime": {
     "end_time": "2021-02-23T01:07:58.918124Z",
     "start_time": "2021-02-23T01:07:58.913163Z"
    }
   },
   "outputs": [
    {
     "name": "stdout",
     "output_type": "stream",
     "text": [
      "정렬전 데이터 :  [2, 4, 6, 7, 10]\n",
      "정렬후 데이터 :  [2, 4, 6, 7, 10]\n"
     ]
    }
   ],
   "source": [
    "numbers = [6,2,7,4,10]\n",
    "new_numbers = numbers #정렬전 데이터\n",
    "numbers.sort() #numbers는 정렬된 데이터로\n",
    "print('정렬전 데이터 : ', new_numbers)\n",
    "print('정렬후 데이터 : ', numbers)"
   ]
  },
  {
   "cell_type": "code",
   "execution_count": 33,
   "metadata": {
    "ExecuteTime": {
     "end_time": "2021-02-23T01:14:46.381341Z",
     "start_time": "2021-02-23T01:14:46.377376Z"
    }
   },
   "outputs": [
    {
     "name": "stdout",
     "output_type": "stream",
     "text": [
      "정렬전 :  [6, 2, 7, 4, 10]\n",
      "정렬후 :  [2, 4, 6, 7, 10]\n",
      "new_numbers 데이터 주소 :  2225299630400\n",
      "numbers 데이터 주소 :  2225308852480\n"
     ]
    }
   ],
   "source": [
    "# 리스트 복제\n",
    "numbers = [6,2,7,4,10]\n",
    "new_numbers = numbers.copy() # new_numbers에 number 데이터를 복제\n",
    "numbers.sort()\n",
    "print('정렬전 : ', new_numbers)\n",
    "print('정렬후 : ', numbers)\n",
    "print('new_numbers 데이터 주소 : ', id(new_numbers))\n",
    "print('numbers 데이터 주소 : ', id(numbers))"
   ]
  },
  {
   "cell_type": "code",
   "execution_count": 34,
   "metadata": {
    "ExecuteTime": {
     "end_time": "2021-02-23T01:16:15.869221Z",
     "start_time": "2021-02-23T01:16:15.864236Z"
    }
   },
   "outputs": [
    {
     "data": {
      "text/plain": [
       "['광주', '부산', '서울', '울산', '인천']"
      ]
     },
     "execution_count": 34,
     "metadata": {},
     "output_type": "execute_result"
    }
   ],
   "source": [
    "city = ['서울','부산','인천','광주','울산']\n",
    "city.sort()\n",
    "city"
   ]
  },
  {
   "cell_type": "code",
   "execution_count": 35,
   "metadata": {
    "ExecuteTime": {
     "end_time": "2021-02-23T01:17:03.179642Z",
     "start_time": "2021-02-23T01:17:03.175659Z"
    }
   },
   "outputs": [
    {
     "data": {
      "text/plain": [
       "'광주 부산 서울 울산 인천'"
      ]
     },
     "execution_count": 35,
     "metadata": {},
     "output_type": "execute_result"
    }
   ],
   "source": [
    "' '.join(city)"
   ]
  },
  {
   "cell_type": "markdown",
   "metadata": {},
   "source": [
    "# 2절. 튜플\n",
    "- 리스트와 유사하지만, 읽기 전용, 수정이 필요없는 배열 형태의 데이터 타입에 사용\n",
    "- 데이터를 수정할 수 없기 때문에 제공되는 함수가 많지 않음"
   ]
  },
  {
   "cell_type": "code",
   "execution_count": 36,
   "metadata": {
    "ExecuteTime": {
     "end_time": "2021-02-23T01:22:17.268579Z",
     "start_time": "2021-02-23T01:22:17.263594Z"
    }
   },
   "outputs": [
    {
     "data": {
      "text/plain": [
       "tuple"
      ]
     },
     "execution_count": 36,
     "metadata": {},
     "output_type": "execute_result"
    }
   ],
   "source": [
    "city = ('서울', '부산', '인천', '대구', '대전')\n",
    "type(city)"
   ]
  },
  {
   "cell_type": "code",
   "execution_count": 37,
   "metadata": {
    "ExecuteTime": {
     "end_time": "2021-02-23T01:22:56.739147Z",
     "start_time": "2021-02-23T01:22:56.735138Z"
    }
   },
   "outputs": [
    {
     "data": {
      "text/plain": [
       "'서울-부산-인천-대구-대전'"
      ]
     },
     "execution_count": 37,
     "metadata": {},
     "output_type": "execute_result"
    }
   ],
   "source": [
    "'-'.join(city)"
   ]
  },
  {
   "cell_type": "code",
   "execution_count": 39,
   "metadata": {
    "ExecuteTime": {
     "end_time": "2021-02-23T01:24:16.722719Z",
     "start_time": "2021-02-23T01:24:16.719757Z"
    }
   },
   "outputs": [
    {
     "name": "stdout",
     "output_type": "stream",
     "text": [
      "<class 'list'>\n",
      "['서울']\n"
     ]
    }
   ],
   "source": [
    "l = ['서울'] #요소가 하나 있는 리스트\n",
    "print(type(l))\n",
    "print(l)"
   ]
  },
  {
   "cell_type": "code",
   "execution_count": 40,
   "metadata": {
    "ExecuteTime": {
     "end_time": "2021-02-23T01:25:39.186965Z",
     "start_time": "2021-02-23T01:25:39.183000Z"
    }
   },
   "outputs": [
    {
     "name": "stdout",
     "output_type": "stream",
     "text": [
      "<class 'tuple'> 1\n",
      "('서울',)\n"
     ]
    }
   ],
   "source": [
    "city = ('서울',) # 요소가 한개 있는 튜플(X)\n",
    "print(type(city),len(city))\n",
    "print(city)"
   ]
  },
  {
   "cell_type": "code",
   "execution_count": 41,
   "metadata": {
    "ExecuteTime": {
     "end_time": "2021-02-23T01:42:23.949094Z",
     "start_time": "2021-02-23T01:42:23.933471Z"
    }
   },
   "outputs": [
    {
     "data": {
      "text/plain": [
       "tuple"
      ]
     },
     "execution_count": 41,
     "metadata": {},
     "output_type": "execute_result"
    }
   ],
   "source": [
    "numbers = 1,2,3 # 여러개의 값이 나열될 때는 자동적으로 튜플처리\n",
    "type(numbers)"
   ]
  },
  {
   "cell_type": "code",
   "execution_count": 42,
   "metadata": {
    "ExecuteTime": {
     "end_time": "2021-02-23T01:43:38.008727Z",
     "start_time": "2021-02-23T01:43:38.004724Z"
    }
   },
   "outputs": [
    {
     "data": {
      "text/plain": [
       "(1, 3, 3)"
      ]
     },
     "execution_count": 42,
     "metadata": {},
     "output_type": "execute_result"
    }
   ],
   "source": [
    "min(numbers), max(numbers), len(numbers)"
   ]
  },
  {
   "cell_type": "code",
   "execution_count": 43,
   "metadata": {
    "ExecuteTime": {
     "end_time": "2021-02-23T01:44:09.225361Z",
     "start_time": "2021-02-23T01:44:09.220395Z"
    }
   },
   "outputs": [
    {
     "data": {
      "text/plain": [
       "2"
      ]
     },
     "execution_count": 43,
     "metadata": {},
     "output_type": "execute_result"
    }
   ],
   "source": [
    "numbers = (1,2,1,2,3)\n",
    "numbers.count(2)"
   ]
  },
  {
   "cell_type": "code",
   "execution_count": 44,
   "metadata": {
    "ExecuteTime": {
     "end_time": "2021-02-23T01:44:22.185068Z",
     "start_time": "2021-02-23T01:44:22.181098Z"
    }
   },
   "outputs": [
    {
     "data": {
      "text/plain": [
       "4"
      ]
     },
     "execution_count": 44,
     "metadata": {},
     "output_type": "execute_result"
    }
   ],
   "source": [
    "numbers.index(3) # index(3) 의 값을 반환"
   ]
  },
  {
   "cell_type": "code",
   "execution_count": 45,
   "metadata": {
    "ExecuteTime": {
     "end_time": "2021-02-23T01:45:35.441693Z",
     "start_time": "2021-02-23T01:45:35.436706Z"
    }
   },
   "outputs": [
    {
     "data": {
      "text/plain": [
       "(2, 3, 4)"
      ]
     },
     "execution_count": 45,
     "metadata": {},
     "output_type": "execute_result"
    }
   ],
   "source": [
    "data = (0,1,2,3,4,(5,6))\n",
    "data[2:5]"
   ]
  },
  {
   "cell_type": "code",
   "execution_count": 46,
   "metadata": {
    "ExecuteTime": {
     "end_time": "2021-02-23T01:45:49.889437Z",
     "start_time": "2021-02-23T01:45:49.884471Z"
    }
   },
   "outputs": [
    {
     "data": {
      "text/plain": [
       "((5, 6), 4, 3, 2, 1, 0)"
      ]
     },
     "execution_count": 46,
     "metadata": {},
     "output_type": "execute_result"
    }
   ],
   "source": [
    "data[::-1]"
   ]
  },
  {
   "cell_type": "code",
   "execution_count": 47,
   "metadata": {
    "ExecuteTime": {
     "end_time": "2021-02-23T01:46:25.561807Z",
     "start_time": "2021-02-23T01:46:25.556846Z"
    }
   },
   "outputs": [
    {
     "data": {
      "text/plain": [
       "((5, 6),)"
      ]
     },
     "execution_count": 47,
     "metadata": {},
     "output_type": "execute_result"
    }
   ],
   "source": [
    "data[5:9:2]"
   ]
  },
  {
   "cell_type": "code",
   "execution_count": 48,
   "metadata": {
    "ExecuteTime": {
     "end_time": "2021-02-23T01:49:46.456939Z",
     "start_time": "2021-02-23T01:49:46.451952Z"
    }
   },
   "outputs": [
    {
     "data": {
      "text/plain": [
       "('서울', 2, True, '서울', 2, True, '서울', 2, True)"
      ]
     },
     "execution_count": 48,
     "metadata": {},
     "output_type": "execute_result"
    }
   ],
   "source": [
    "data = ('서울', 2 , True)\n",
    "data * 3"
   ]
  },
  {
   "cell_type": "code",
   "execution_count": 49,
   "metadata": {
    "ExecuteTime": {
     "end_time": "2021-02-23T01:50:29.952045Z",
     "start_time": "2021-02-23T01:50:29.948056Z"
    }
   },
   "outputs": [],
   "source": [
    "del data"
   ]
  },
  {
   "cell_type": "markdown",
   "metadata": {},
   "source": [
    "# 3절. 딕셔너리 \n",
    "cf. 자바에서의 hashmap과 동일\n",
    "- 중괄호({})를 이용해서 딕셔너리 생성, 키(key)-값(value)의 쌍으로 구성된 자료구조\n",
    "- 키는 유일한 값(중복허용 안함), 키에 리스트는 사용 불가, 키에 tuple은 가능.\n",
    "- 값은 중복 가능, 모든 데이터 타입이 가능\n",
    "- 없는 키의 값을 참조하면 에러발생\n",
    "- 인덱스를 이용한 참조는 지원 안함"
   ]
  },
  {
   "cell_type": "code",
   "execution_count": 50,
   "metadata": {
    "ExecuteTime": {
     "end_time": "2021-02-23T01:56:32.908172Z",
     "start_time": "2021-02-23T01:56:32.903185Z"
    }
   },
   "outputs": [
    {
     "data": {
      "text/plain": [
       "2"
      ]
     },
     "execution_count": 50,
     "metadata": {},
     "output_type": "execute_result"
    }
   ],
   "source": [
    "dic = {'key1':'value','key2':'value'}\n",
    "len(dic) # 데이터 구조의 요소 갯수"
   ]
  },
  {
   "cell_type": "code",
   "execution_count": 51,
   "metadata": {
    "ExecuteTime": {
     "end_time": "2021-02-23T01:57:58.751862Z",
     "start_time": "2021-02-23T01:57:58.746877Z"
    }
   },
   "outputs": [
    {
     "data": {
      "text/plain": [
       "{'fruit': 'apple', 'number': 1, 'sport': 'football'}"
      ]
     },
     "execution_count": 51,
     "metadata": {},
     "output_type": "execute_result"
    }
   ],
   "source": [
    "my_favorite = {'fruit':'apple', 'number':1, 'sport':'football'}\n",
    "my_favorite"
   ]
  },
  {
   "cell_type": "code",
   "execution_count": 52,
   "metadata": {
    "ExecuteTime": {
     "end_time": "2021-02-23T01:59:02.974798Z",
     "start_time": "2021-02-23T01:59:02.970832Z"
    }
   },
   "outputs": [
    {
     "data": {
      "text/plain": [
       "'apple'"
      ]
     },
     "execution_count": 52,
     "metadata": {},
     "output_type": "execute_result"
    }
   ],
   "source": [
    "my_favorite.get('fruit')"
   ]
  },
  {
   "cell_type": "code",
   "execution_count": 54,
   "metadata": {
    "ExecuteTime": {
     "end_time": "2021-02-23T01:59:40.351557Z",
     "start_time": "2021-02-23T01:59:40.347568Z"
    }
   },
   "outputs": [
    {
     "data": {
      "text/plain": [
       "'apple'"
      ]
     },
     "execution_count": 54,
     "metadata": {},
     "output_type": "execute_result"
    }
   ],
   "source": [
    "my_favorite['fruit']"
   ]
  },
  {
   "cell_type": "code",
   "execution_count": 55,
   "metadata": {
    "ExecuteTime": {
     "end_time": "2021-02-23T02:00:16.652646Z",
     "start_time": "2021-02-23T02:00:16.646659Z"
    }
   },
   "outputs": [
    {
     "ename": "KeyError",
     "evalue": "'people'",
     "output_type": "error",
     "traceback": [
      "\u001b[1;31m---------------------------------------------------------------------------\u001b[0m",
      "\u001b[1;31mKeyError\u001b[0m                                  Traceback (most recent call last)",
      "\u001b[1;32m<ipython-input-55-cdef3704f9c9>\u001b[0m in \u001b[0;36m<module>\u001b[1;34m\u001b[0m\n\u001b[1;32m----> 1\u001b[1;33m \u001b[0mmy_favorite\u001b[0m\u001b[1;33m[\u001b[0m\u001b[1;34m'people'\u001b[0m\u001b[1;33m]\u001b[0m \u001b[1;31m# 키 목록에 없는 데이터 참조시 에러\u001b[0m\u001b[1;33m\u001b[0m\u001b[1;33m\u001b[0m\u001b[0m\n\u001b[0m",
      "\u001b[1;31mKeyError\u001b[0m: 'people'"
     ]
    }
   ],
   "source": [
    "my_favorite['people'] # 키 목록에 없는 데이터 참조시 에러"
   ]
  },
  {
   "cell_type": "code",
   "execution_count": 56,
   "metadata": {
    "ExecuteTime": {
     "end_time": "2021-02-23T02:00:26.707666Z",
     "start_time": "2021-02-23T02:00:26.690938Z"
    }
   },
   "outputs": [
    {
     "ename": "KeyError",
     "evalue": "0",
     "output_type": "error",
     "traceback": [
      "\u001b[1;31m---------------------------------------------------------------------------\u001b[0m",
      "\u001b[1;31mKeyError\u001b[0m                                  Traceback (most recent call last)",
      "\u001b[1;32m<ipython-input-56-148c5aa02857>\u001b[0m in \u001b[0;36m<module>\u001b[1;34m\u001b[0m\n\u001b[1;32m----> 1\u001b[1;33m \u001b[0mmy_favorite\u001b[0m\u001b[1;33m[\u001b[0m\u001b[1;36m0\u001b[0m\u001b[1;33m]\u001b[0m \u001b[1;31m# 인덱스를 이용한 참조는 지원 안함\u001b[0m\u001b[1;33m\u001b[0m\u001b[1;33m\u001b[0m\u001b[0m\n\u001b[0m",
      "\u001b[1;31mKeyError\u001b[0m: 0"
     ]
    }
   ],
   "source": [
    "my_favorite[0] # 인덱스를 이용한 참조는 지원 안함"
   ]
  },
  {
   "cell_type": "code",
   "execution_count": 57,
   "metadata": {
    "ExecuteTime": {
     "end_time": "2021-02-23T02:01:14.567503Z",
     "start_time": "2021-02-23T02:01:14.562537Z"
    }
   },
   "outputs": [
    {
     "data": {
      "text/plain": [
       "{'fruit': 'banana', 'number': 1, 'sport': 'football'}"
      ]
     },
     "execution_count": 57,
     "metadata": {},
     "output_type": "execute_result"
    }
   ],
   "source": [
    "my_favorite = {'fruit':'apple', 'number':1, 'sport':'football'}\n",
    "my_favorite['fruit'] = 'banana'\n",
    "my_favorite"
   ]
  },
  {
   "cell_type": "code",
   "execution_count": 58,
   "metadata": {
    "ExecuteTime": {
     "end_time": "2021-02-23T02:03:37.431351Z",
     "start_time": "2021-02-23T02:03:37.426363Z"
    }
   },
   "outputs": [
    {
     "data": {
      "text/plain": [
       "{1: 'Hello', 2: 'Python'}"
      ]
     },
     "execution_count": 58,
     "metadata": {},
     "output_type": "execute_result"
    }
   ],
   "source": [
    "# 키 : 문자, 숫자, 튜플, 중복불가\n",
    "# 값 : 모든 문자 타입, 중복 가능\n",
    "my_dicl = {1:'Hello', 2:'World', 2:'Python'}\n",
    "my_dicl"
   ]
  },
  {
   "cell_type": "code",
   "execution_count": 63,
   "metadata": {
    "ExecuteTime": {
     "end_time": "2021-02-23T02:07:27.143536Z",
     "start_time": "2021-02-23T02:07:27.138549Z"
    }
   },
   "outputs": [
    {
     "data": {
      "text/plain": [
       "{1: 'HI',\n",
       " 2: 'Python',\n",
       " 'people': ['홍길동', '홍길순'],\n",
       " 'sty': ['python', 'hadoop'],\n",
       " 'study': ['python', 'hadoop']}"
      ]
     },
     "execution_count": 63,
     "metadata": {},
     "output_type": "execute_result"
    }
   ],
   "source": [
    "my_dicl['people'] = ['홍길동','홍길순'] # my_dicl에 요소추가\n",
    "my_dicl['study'] = ['python','hadoop'] # 추가\n",
    "my_dicl[1] = 'HI'\n",
    "# my_dicl.append('people':['홍길동','홍길순']) 불가\n",
    "my_dicl"
   ]
  },
  {
   "cell_type": "code",
   "execution_count": 64,
   "metadata": {
    "ExecuteTime": {
     "end_time": "2021-02-23T02:07:28.950746Z",
     "start_time": "2021-02-23T02:07:28.945759Z"
    }
   },
   "outputs": [
    {
     "data": {
      "text/plain": [
       "{1: 'HI', 2: 'Python', 'people': ['홍길동', '홍길순'], 'sty': ['python', 'hadoop']}"
      ]
     },
     "execution_count": 64,
     "metadata": {},
     "output_type": "execute_result"
    }
   ],
   "source": [
    "del my_dicl['study']\n",
    "my_dicl"
   ]
  },
  {
   "cell_type": "code",
   "execution_count": 65,
   "metadata": {
    "ExecuteTime": {
     "end_time": "2021-02-23T02:10:56.463475Z",
     "start_time": "2021-02-23T02:10:56.458495Z"
    }
   },
   "outputs": [
    {
     "data": {
      "text/plain": [
       "{'name': 'KilDong', 'age': 30}"
      ]
     },
     "execution_count": 65,
     "metadata": {},
     "output_type": "execute_result"
    }
   ],
   "source": [
    "my_dic2 = {'name':'Hong','name':'KilDong','age':30}\n",
    "my_dic2"
   ]
  },
  {
   "cell_type": "code",
   "execution_count": 66,
   "metadata": {
    "ExecuteTime": {
     "end_time": "2021-02-23T02:13:01.518198Z",
     "start_time": "2021-02-23T02:13:01.513212Z"
    }
   },
   "outputs": [
    {
     "data": {
      "text/plain": [
       "{1: 'World', False: 'Hadoop'}"
      ]
     },
     "execution_count": 66,
     "metadata": {},
     "output_type": "execute_result"
    }
   ],
   "source": [
    "# 키 목록에서 True와 1은 같은 값으로 간주, False와 0은 같은 키로 간주\n",
    "my_dic3 = {1:'Hello', True:'World', False:'Python', 0:'Hadoop'}\n",
    "my_dic3"
   ]
  },
  {
   "cell_type": "code",
   "execution_count": 164,
   "metadata": {
    "ExecuteTime": {
     "end_time": "2021-02-23T05:25:03.774187Z",
     "start_time": "2021-02-23T05:25:03.769202Z"
    }
   },
   "outputs": [
    {
     "name": "stdout",
     "output_type": "stream",
     "text": [
      "홍길동\t25\t010-9999-9999\t\n",
      "0번째 데이터 홍길동\t1번째 데이터 25\t2번째 데이터 010-9999-9999\t"
     ]
    }
   ],
   "source": [
    "my_list = ['홍길동',25,'010-9999-9999']\n",
    "my_tupple = ('홍길동',25,'010-9999-9999')\n",
    "for data in my_tupple:\n",
    "    print(data, end='\\t')\n",
    "print() # 개행\n",
    "for idx in range(len(my_list)):\n",
    "    print(\"{}번째 데이터 {}\".format(idx, my_tupple[idx]) , end='\\t')"
   ]
  },
  {
   "cell_type": "code",
   "execution_count": null,
   "metadata": {},
   "outputs": [],
   "source": []
  },
  {
   "cell_type": "code",
   "execution_count": 72,
   "metadata": {
    "ExecuteTime": {
     "end_time": "2021-02-23T02:20:03.109401Z",
     "start_time": "2021-02-23T02:20:03.104414Z"
    }
   },
   "outputs": [
    {
     "name": "stdout",
     "output_type": "stream",
     "text": [
      "name\tage\ttel\t"
     ]
    }
   ],
   "source": [
    "my_dic = {'name':'홍길동', 'age':25, 'tel':'010-9999-9999'}\n",
    "\n",
    "for data in my_dic:\n",
    "    print(data, end='\\t')"
   ]
  },
  {
   "cell_type": "code",
   "execution_count": 73,
   "metadata": {
    "ExecuteTime": {
     "end_time": "2021-02-23T02:20:27.601251Z",
     "start_time": "2021-02-23T02:20:27.596246Z"
    }
   },
   "outputs": [
    {
     "data": {
      "text/plain": [
       "dict_keys(['name', 'age', 'tel'])"
      ]
     },
     "execution_count": 73,
     "metadata": {},
     "output_type": "execute_result"
    }
   ],
   "source": [
    "my_dic.keys() # 키 목록만 출력"
   ]
  },
  {
   "cell_type": "code",
   "execution_count": 74,
   "metadata": {
    "ExecuteTime": {
     "end_time": "2021-02-23T02:20:53.041137Z",
     "start_time": "2021-02-23T02:20:53.036151Z"
    }
   },
   "outputs": [
    {
     "data": {
      "text/plain": [
       "dict_values(['홍길동', 25, '010-9999-9999'])"
      ]
     },
     "execution_count": 74,
     "metadata": {},
     "output_type": "execute_result"
    }
   ],
   "source": [
    "my_dic.values() # 값들만 반환"
   ]
  },
  {
   "cell_type": "code",
   "execution_count": 75,
   "metadata": {
    "ExecuteTime": {
     "end_time": "2021-02-23T02:21:44.665135Z",
     "start_time": "2021-02-23T02:21:44.660129Z"
    }
   },
   "outputs": [
    {
     "data": {
      "text/plain": [
       "dict_items([('name', '홍길동'), ('age', 25), ('tel', '010-9999-9999')])"
      ]
     },
     "execution_count": 75,
     "metadata": {},
     "output_type": "execute_result"
    }
   ],
   "source": [
    "my_dic.items() # 튜플로 이루어진(키,값)들을 반환"
   ]
  },
  {
   "cell_type": "code",
   "execution_count": 79,
   "metadata": {
    "ExecuteTime": {
     "end_time": "2021-02-23T02:34:50.717349Z",
     "start_time": "2021-02-23T02:34:50.700663Z"
    }
   },
   "outputs": [
    {
     "name": "stdout",
     "output_type": "stream",
     "text": [
      "name\tage\ttel\t"
     ]
    }
   ],
   "source": [
    "for key in my_dic:\n",
    "    print(key, end='\\t')"
   ]
  },
  {
   "cell_type": "code",
   "execution_count": 82,
   "metadata": {
    "ExecuteTime": {
     "end_time": "2021-02-23T02:36:08.024186Z",
     "start_time": "2021-02-23T02:36:08.021219Z"
    }
   },
   "outputs": [
    {
     "name": "stdout",
     "output_type": "stream",
     "text": [
      "name\tage\ttel\t"
     ]
    }
   ],
   "source": [
    "for key in my_dic.keys():\n",
    "    print(key, end='\\t')"
   ]
  },
  {
   "cell_type": "code",
   "execution_count": 84,
   "metadata": {
    "ExecuteTime": {
     "end_time": "2021-02-23T02:36:48.328156Z",
     "start_time": "2021-02-23T02:36:48.324166Z"
    }
   },
   "outputs": [
    {
     "name": "stdout",
     "output_type": "stream",
     "text": [
      "홍길동\t25\t010-9999-9999\t"
     ]
    }
   ],
   "source": [
    "for value in my_dic.values():\n",
    "    print(value, end='\\t')"
   ]
  },
  {
   "cell_type": "code",
   "execution_count": 85,
   "metadata": {
    "ExecuteTime": {
     "end_time": "2021-02-23T02:37:16.577115Z",
     "start_time": "2021-02-23T02:37:16.573146Z"
    }
   },
   "outputs": [
    {
     "name": "stdout",
     "output_type": "stream",
     "text": [
      "('name', '홍길동')\t('age', 25)\t('tel', '010-9999-9999')\t"
     ]
    }
   ],
   "source": [
    "for item in my_dic.items():\n",
    "    print(item, end='\\t')"
   ]
  },
  {
   "cell_type": "code",
   "execution_count": 86,
   "metadata": {
    "ExecuteTime": {
     "end_time": "2021-02-23T02:38:30.456184Z",
     "start_time": "2021-02-23T02:38:30.452193Z"
    }
   },
   "outputs": [
    {
     "name": "stdout",
     "output_type": "stream",
     "text": [
      "name은 홍길동\tage은 25\ttel은 010-9999-9999\t"
     ]
    }
   ],
   "source": [
    "for key, value in my_dic.items():\n",
    "    print(\"{}은 {}\".format(key,value), end='\\t')"
   ]
  },
  {
   "cell_type": "markdown",
   "metadata": {},
   "source": [
    "**in 연산자**"
   ]
  },
  {
   "cell_type": "code",
   "execution_count": 87,
   "metadata": {
    "ExecuteTime": {
     "end_time": "2021-02-23T02:41:48.043624Z",
     "start_time": "2021-02-23T02:41:48.039655Z"
    }
   },
   "outputs": [
    {
     "data": {
      "text/plain": [
       "False"
      ]
     },
     "execution_count": 87,
     "metadata": {},
     "output_type": "execute_result"
    }
   ],
   "source": [
    "my_favorite = {'fruit':'apple','number':1,'sports':'football'}\n",
    "'football' in my_favorite"
   ]
  },
  {
   "cell_type": "code",
   "execution_count": 88,
   "metadata": {
    "ExecuteTime": {
     "end_time": "2021-02-23T02:42:05.048184Z",
     "start_time": "2021-02-23T02:42:05.044194Z"
    }
   },
   "outputs": [
    {
     "data": {
      "text/plain": [
       "True"
      ]
     },
     "execution_count": 88,
     "metadata": {},
     "output_type": "execute_result"
    }
   ],
   "source": [
    "'sports' in my_favorite"
   ]
  },
  {
   "cell_type": "code",
   "execution_count": 91,
   "metadata": {
    "ExecuteTime": {
     "end_time": "2021-02-23T02:45:06.672326Z",
     "start_time": "2021-02-23T02:45:06.668372Z"
    }
   },
   "outputs": [
    {
     "name": "stdout",
     "output_type": "stream",
     "text": [
      "new_my_favorite :  {'fruit': 'apple', 'number': 1, 'sports': 'football'}\n",
      "my_favorite :  {'fruit': 'apple', 'number': 1, 'sports': 'football'}\n"
     ]
    }
   ],
   "source": [
    "my_favorite\n",
    "# 할당\n",
    "new_my_favorite = my_favorite\n",
    "print('new_my_favorite : ', new_my_favorite)\n",
    "print('my_favorite : ', my_favorite)"
   ]
  },
  {
   "cell_type": "code",
   "execution_count": 92,
   "metadata": {
    "ExecuteTime": {
     "end_time": "2021-02-23T02:45:14.783468Z",
     "start_time": "2021-02-23T02:45:14.779491Z"
    }
   },
   "outputs": [
    {
     "name": "stdout",
     "output_type": "stream",
     "text": [
      "new_my_favorite :  {'fruit': 'apple', 'number': '다 좋아', 'sports': 'football'}\n",
      "my_favorite :  {'fruit': 'apple', 'number': '다 좋아', 'sports': 'football'}\n"
     ]
    }
   ],
   "source": [
    "my_favorite['number'] = '다 좋아'\n",
    "print('new_my_favorite : ', new_my_favorite)\n",
    "print('my_favorite : ', my_favorite)"
   ]
  },
  {
   "cell_type": "markdown",
   "metadata": {},
   "source": [
    "# 4절. 셋 만들기\n",
    "- 중복을 허용하지 않는 집합(순서 X )\n",
    "- 생성시 중괄호 사용({})나 set() 함수를 이용하여 셋 생성\n",
    "    set(딕셔너리타입의 변수) : 딕셔너리 변수의 키값만 셋에 추가\n",
    "- 집합 연산자(&: 교집합, |: 합집합, -: 차집합) "
   ]
  },
  {
   "cell_type": "code",
   "execution_count": 93,
   "metadata": {
    "ExecuteTime": {
     "end_time": "2021-02-23T02:56:39.722651Z",
     "start_time": "2021-02-23T02:56:39.717685Z"
    }
   },
   "outputs": [
    {
     "data": {
      "text/plain": [
       "{'apple', 'banana', 'orange'}"
      ]
     },
     "execution_count": 93,
     "metadata": {},
     "output_type": "execute_result"
    }
   ],
   "source": [
    "fruits = {'apple', 'orange', 'banana', 'banana'}\n",
    "fruits"
   ]
  },
  {
   "cell_type": "code",
   "execution_count": 101,
   "metadata": {
    "ExecuteTime": {
     "end_time": "2021-02-23T03:02:15.734662Z",
     "start_time": "2021-02-23T03:02:15.729702Z"
    }
   },
   "outputs": [
    {
     "data": {
      "text/plain": [
       "{1, 2, 3}"
      ]
     },
     "execution_count": 101,
     "metadata": {},
     "output_type": "execute_result"
    }
   ],
   "source": [
    "s1 = set([1,2,3,1])\n",
    "s1"
   ]
  },
  {
   "cell_type": "code",
   "execution_count": 95,
   "metadata": {
    "ExecuteTime": {
     "end_time": "2021-02-23T02:57:49.007031Z",
     "start_time": "2021-02-23T02:57:49.002044Z"
    }
   },
   "outputs": [
    {
     "data": {
      "text/plain": [
       "{1, 2, 3, 4}"
      ]
     },
     "execution_count": 95,
     "metadata": {},
     "output_type": "execute_result"
    }
   ],
   "source": [
    "s1.add(4)\n",
    "s1.add(1)\n",
    "s1"
   ]
  },
  {
   "cell_type": "code",
   "execution_count": 103,
   "metadata": {
    "ExecuteTime": {
     "end_time": "2021-02-23T03:02:17.456898Z",
     "start_time": "2021-02-23T03:02:17.452904Z"
    }
   },
   "outputs": [
    {
     "data": {
      "text/plain": [
       "{(5, 6, 7, 8, 9), 1, 2, 3}"
      ]
     },
     "execution_count": 103,
     "metadata": {},
     "output_type": "execute_result"
    }
   ],
   "source": [
    "s1.add((5,6,7,8,9))\n",
    "s1"
   ]
  },
  {
   "cell_type": "code",
   "execution_count": 97,
   "metadata": {
    "ExecuteTime": {
     "end_time": "2021-02-23T02:58:39.626657Z",
     "start_time": "2021-02-23T02:58:39.617681Z"
    }
   },
   "outputs": [
    {
     "ename": "TypeError",
     "evalue": "unhashable type: 'list'",
     "output_type": "error",
     "traceback": [
      "\u001b[1;31m---------------------------------------------------------------------------\u001b[0m",
      "\u001b[1;31mTypeError\u001b[0m                                 Traceback (most recent call last)",
      "\u001b[1;32m<ipython-input-97-79dd1bf4b4a1>\u001b[0m in \u001b[0;36m<module>\u001b[1;34m\u001b[0m\n\u001b[1;32m----> 1\u001b[1;33m \u001b[0ms1\u001b[0m\u001b[1;33m.\u001b[0m\u001b[0madd\u001b[0m\u001b[1;33m(\u001b[0m\u001b[1;33m[\u001b[0m\u001b[1;36m10\u001b[0m\u001b[1;33m,\u001b[0m\u001b[1;36m11\u001b[0m\u001b[1;33m]\u001b[0m\u001b[1;33m)\u001b[0m\u001b[1;33m\u001b[0m\u001b[1;33m\u001b[0m\u001b[0m\n\u001b[0m",
      "\u001b[1;31mTypeError\u001b[0m: unhashable type: 'list'"
     ]
    }
   ],
   "source": [
    "s1.add([10,11]) # add 함수는 list 인수 추가 불가"
   ]
  },
  {
   "cell_type": "code",
   "execution_count": 98,
   "metadata": {
    "ExecuteTime": {
     "end_time": "2021-02-23T03:00:40.863039Z",
     "start_time": "2021-02-23T03:00:40.854372Z"
    }
   },
   "outputs": [
    {
     "ename": "TypeError",
     "evalue": "unhashable type: 'dict'",
     "output_type": "error",
     "traceback": [
      "\u001b[1;31m---------------------------------------------------------------------------\u001b[0m",
      "\u001b[1;31mTypeError\u001b[0m                                 Traceback (most recent call last)",
      "\u001b[1;32m<ipython-input-98-57b353156364>\u001b[0m in \u001b[0;36m<module>\u001b[1;34m\u001b[0m\n\u001b[1;32m----> 1\u001b[1;33m \u001b[0ms1\u001b[0m\u001b[1;33m.\u001b[0m\u001b[0madd\u001b[0m\u001b[1;33m(\u001b[0m\u001b[1;33m{\u001b[0m\u001b[1;34m'name'\u001b[0m\u001b[1;33m:\u001b[0m\u001b[1;34m'kil'\u001b[0m\u001b[1;33m}\u001b[0m\u001b[1;33m)\u001b[0m \u001b[1;31m# add 함수는 dictionary 함수 추가 불가\u001b[0m\u001b[1;33m\u001b[0m\u001b[1;33m\u001b[0m\u001b[0m\n\u001b[0m",
      "\u001b[1;31mTypeError\u001b[0m: unhashable type: 'dict'"
     ]
    }
   ],
   "source": [
    "s1.add({'name':'kil'}) # add 함수는 dictionary 함수 추가 불가"
   ]
  },
  {
   "cell_type": "code",
   "execution_count": 104,
   "metadata": {
    "ExecuteTime": {
     "end_time": "2021-02-23T03:02:19.798238Z",
     "start_time": "2021-02-23T03:02:19.794244Z"
    }
   },
   "outputs": [
    {
     "data": {
      "text/plain": [
       "{(5, 6, 7, 8, 9), 1, 2, 3, 'name'}"
      ]
     },
     "execution_count": 104,
     "metadata": {},
     "output_type": "execute_result"
    }
   ],
   "source": [
    "s1.update({'name':'KilDong'}) # 딕셔너리는 키값만 추가\n",
    "s1"
   ]
  },
  {
   "cell_type": "code",
   "execution_count": 105,
   "metadata": {
    "ExecuteTime": {
     "end_time": "2021-02-23T03:03:02.766056Z",
     "start_time": "2021-02-23T03:03:02.761086Z"
    }
   },
   "outputs": [
    {
     "data": {
      "text/plain": [
       "{(5, 6, 7, 8, 9), 1, 2, 3}"
      ]
     },
     "execution_count": 105,
     "metadata": {},
     "output_type": "execute_result"
    }
   ],
   "source": [
    "s1.remove('name') # 튿정요소 삭제(없는 데이터의 경우 에러)\n",
    "s1"
   ]
  },
  {
   "cell_type": "code",
   "execution_count": 106,
   "metadata": {
    "ExecuteTime": {
     "end_time": "2021-02-23T03:04:36.542281Z",
     "start_time": "2021-02-23T03:04:36.537314Z"
    }
   },
   "outputs": [
    {
     "data": {
      "text/plain": [
       "{0, True}"
      ]
     },
     "execution_count": 106,
     "metadata": {},
     "output_type": "execute_result"
    }
   ],
   "source": [
    "s1 = {0,False,True,1} # False와 0, True와 1을 같은 값으로 간주\n",
    "s1"
   ]
  },
  {
   "cell_type": "code",
   "execution_count": 107,
   "metadata": {
    "ExecuteTime": {
     "end_time": "2021-02-23T03:05:41.089897Z",
     "start_time": "2021-02-23T03:05:41.073160Z"
    }
   },
   "outputs": [
    {
     "data": {
      "text/plain": [
       "({1, 2, 3, 4, 5, 6}, {1, 5, 6, 7, 8, 9})"
      ]
     },
     "execution_count": 107,
     "metadata": {},
     "output_type": "execute_result"
    }
   ],
   "source": [
    "s1 = {1,2,3,4,5,6}\n",
    "s2 = {1,5,6,7,8,9}\n",
    "s1,s2"
   ]
  },
  {
   "cell_type": "code",
   "execution_count": 108,
   "metadata": {
    "ExecuteTime": {
     "end_time": "2021-02-23T03:06:04.285799Z",
     "start_time": "2021-02-23T03:06:04.280835Z"
    }
   },
   "outputs": [
    {
     "data": {
      "text/plain": [
       "{1, 2, 3, 4, 5, 6, 7, 8, 9}"
      ]
     },
     "execution_count": 108,
     "metadata": {},
     "output_type": "execute_result"
    }
   ],
   "source": [
    "#합집합\n",
    "s1|s2"
   ]
  },
  {
   "cell_type": "code",
   "execution_count": 109,
   "metadata": {
    "ExecuteTime": {
     "end_time": "2021-02-23T03:06:26.412470Z",
     "start_time": "2021-02-23T03:06:26.408480Z"
    }
   },
   "outputs": [
    {
     "data": {
      "text/plain": [
       "{1, 5, 6}"
      ]
     },
     "execution_count": 109,
     "metadata": {},
     "output_type": "execute_result"
    }
   ],
   "source": [
    "#교집합\n",
    "s1 & s2"
   ]
  },
  {
   "cell_type": "code",
   "execution_count": 110,
   "metadata": {
    "ExecuteTime": {
     "end_time": "2021-02-23T03:06:45.445071Z",
     "start_time": "2021-02-23T03:06:45.441103Z"
    }
   },
   "outputs": [
    {
     "data": {
      "text/plain": [
       "{2, 3, 4}"
      ]
     },
     "execution_count": 110,
     "metadata": {},
     "output_type": "execute_result"
    }
   ],
   "source": [
    "# 차집합\n",
    "s1 - s2"
   ]
  },
  {
   "cell_type": "code",
   "execution_count": 112,
   "metadata": {
    "ExecuteTime": {
     "end_time": "2021-02-23T03:08:37.168344Z",
     "start_time": "2021-02-23T03:08:37.153446Z"
    }
   },
   "outputs": [
    {
     "name": "stdout",
     "output_type": "stream",
     "text": [
      "sunja\tkildong\tkilja\t"
     ]
    }
   ],
   "source": [
    "names = {'kildong', 'kilja', 'sunja'}\n",
    "\n",
    "for name in names:\n",
    "    print(name, end='\\t')"
   ]
  },
  {
   "cell_type": "markdown",
   "metadata": {},
   "source": [
    "# 5절. enumerate\n",
    "- 반복자 또는 순서 객체로 반복문을 처리할 때 인덱스 처리를 해결"
   ]
  },
  {
   "cell_type": "code",
   "execution_count": 113,
   "metadata": {
    "ExecuteTime": {
     "end_time": "2021-02-23T03:14:37.475715Z",
     "start_time": "2021-02-23T03:14:37.460165Z"
    }
   },
   "outputs": [
    {
     "name": "stdout",
     "output_type": "stream",
     "text": [
      "1번째 이름은 sunja입니다.\n",
      "2번째 이름은 kildong입니다.\n",
      "3번째 이름은 kilja입니다.\n"
     ]
    }
   ],
   "source": [
    "for index, name in enumerate(names):\n",
    "    print('{}번째 이름은 {}입니다.'.format(index+1, name))"
   ]
  },
  {
   "cell_type": "code",
   "execution_count": 116,
   "metadata": {
    "ExecuteTime": {
     "end_time": "2021-02-23T03:20:54.732558Z",
     "start_time": "2021-02-23T03:20:54.727571Z"
    }
   },
   "outputs": [
    {
     "name": "stdout",
     "output_type": "stream",
     "text": [
      "0번째 : 말자\n",
      "1번째 : 순자\n",
      "2번째 : 길동\n"
     ]
    }
   ],
   "source": [
    "L = ['말자','순자','길동']\n",
    "\n",
    "for idx, name in enumerate(L):\n",
    "    print('{}번째 : {}'.format(idx, name))"
   ]
  },
  {
   "cell_type": "code",
   "execution_count": 117,
   "metadata": {
    "ExecuteTime": {
     "end_time": "2021-02-23T03:34:57.985552Z",
     "start_time": "2021-02-23T03:34:57.981550Z"
    }
   },
   "outputs": [
    {
     "data": {
      "text/plain": [
       "[(0, ('name', '홍길동')), (1, ('age', 35)), (2, ('address', '마포'))]"
      ]
     },
     "execution_count": 117,
     "metadata": {},
     "output_type": "execute_result"
    }
   ],
   "source": [
    "dic = {\"name\":\"홍길동\", \"age\":35, \"address\":\"마포\"}\n",
    "list(enumerate(dic.items()))"
   ]
  },
  {
   "cell_type": "code",
   "execution_count": null,
   "metadata": {},
   "outputs": [],
   "source": [
    "for idx, (key, value) in enumerate(dic.items()):\n",
    "    print(\"{}번째 키는 {}, 값은 {}\".format())"
   ]
  },
  {
   "cell_type": "markdown",
   "metadata": {
    "ExecuteTime": {
     "end_time": "2021-02-23T03:44:14.841462Z",
     "start_time": "2021-02-23T03:44:14.837473Z"
    }
   },
   "source": [
    "## 연습문제"
   ]
  },
  {
   "cell_type": "code",
   "execution_count": 157,
   "metadata": {
    "ExecuteTime": {
     "end_time": "2021-02-23T04:08:55.598931Z",
     "start_time": "2021-02-23T04:08:55.593946Z"
    }
   },
   "outputs": [
    {
     "data": {
      "text/plain": [
       "[1, 2, 4, 5, 6, 7, 8, 9, 10, 100]"
      ]
     },
     "execution_count": 157,
     "metadata": {},
     "output_type": "execute_result"
    }
   ],
   "source": [
    "numbers = [1,2,4,5,6,7,8,9,10]\n",
    "# 1. 숫자 100을 맨 뒤에 추가하세요\n",
    "numbers.append(100)\n",
    "numbers"
   ]
  },
  {
   "cell_type": "code",
   "execution_count": 158,
   "metadata": {
    "ExecuteTime": {
     "end_time": "2021-02-23T04:08:57.902006Z",
     "start_time": "2021-02-23T04:08:57.897043Z"
    }
   },
   "outputs": [
    {
     "data": {
      "text/plain": [
       "[1, 2, 4, 5, 6, 7, 8, 9, 10, 100, 200, 300, 400, 500]"
      ]
     },
     "execution_count": 158,
     "metadata": {},
     "output_type": "execute_result"
    }
   ],
   "source": [
    "# 2. 다음 리스트를 numbers리스트 맨 뒤에 추가하세요\n",
    "data = [200, 300, 400, 500]\n",
    "numbers.extend(data)\n",
    "numbers"
   ]
  },
  {
   "cell_type": "code",
   "execution_count": 128,
   "metadata": {
    "ExecuteTime": {
     "end_time": "2021-02-23T03:52:38.596573Z",
     "start_time": "2021-02-23T03:52:38.591612Z"
    }
   },
   "outputs": [
    {
     "data": {
      "text/plain": [
       "[1, 2, 4, 5, 6]"
      ]
     },
     "execution_count": 128,
     "metadata": {},
     "output_type": "execute_result"
    }
   ],
   "source": [
    "# 3. 처음 다섯 개 숫자만 출력하세요\n",
    "numbers[:5:]"
   ]
  },
  {
   "cell_type": "code",
   "execution_count": 156,
   "metadata": {
    "ExecuteTime": {
     "end_time": "2021-02-23T04:07:56.718280Z",
     "start_time": "2021-02-23T04:07:56.713313Z"
    }
   },
   "outputs": [
    {
     "data": {
      "text/plain": [
       "[0, 0, 0, 0, 0, 0, 0]"
      ]
     },
     "execution_count": 156,
     "metadata": {},
     "output_type": "execute_result"
    }
   ],
   "source": [
    "# 4. 리스트에서 짝수 번째 데이터만 출력하세요\n",
    "numbers[::2]"
   ]
  },
  {
   "cell_type": "code",
   "execution_count": 160,
   "metadata": {
    "ExecuteTime": {
     "end_time": "2021-02-23T04:09:12.934495Z",
     "start_time": "2021-02-23T04:09:12.928526Z"
    }
   },
   "outputs": [
    {
     "data": {
      "text/plain": [
       "[0, 2, 0, 5, 0, 7, 0, 9, 0, 100, 0, 300, 0, 500]"
      ]
     },
     "execution_count": 160,
     "metadata": {},
     "output_type": "execute_result"
    }
   ],
   "source": [
    "# 5. 짝수번째 데이터를 모두 0으로 바꾸세요\n",
    "numbers[::2] =[0] * len(numbers[ : : 2])\n",
    "numbers"
   ]
  },
  {
   "cell_type": "code",
   "execution_count": 161,
   "metadata": {
    "ExecuteTime": {
     "end_time": "2021-02-23T04:09:31.573866Z",
     "start_time": "2021-02-23T04:09:31.569877Z"
    }
   },
   "outputs": [
    {
     "data": {
      "text/plain": [
       "[500, 300, 100, 9, 7, 5, 2, 0, 0, 0, 0, 0, 0, 0]"
      ]
     },
     "execution_count": 161,
     "metadata": {},
     "output_type": "execute_result"
    }
   ],
   "source": [
    "# 6. 데이터를 역순으로 나열하세요(내림차순 정렬이 아닙니다)\n",
    "numbers.sort(reverse=True)\n",
    "numbers"
   ]
  },
  {
   "cell_type": "code",
   "execution_count": null,
   "metadata": {},
   "outputs": [],
   "source": [
    "# 다음 딕셔너리 데이터가 주어졌을 경우 요구사항대로 코드를 작성하세요.\n",
    "# member_info = {“name”:”홍길동”, “age”:20,”address”:”서울시 마포구“,“sore”:90}"
   ]
  },
  {
   "cell_type": "code",
   "execution_count": 147,
   "metadata": {
    "ExecuteTime": {
     "end_time": "2021-02-23T04:04:12.702946Z",
     "start_time": "2021-02-23T04:04:12.697959Z"
    }
   },
   "outputs": [
    {
     "data": {
      "text/plain": [
       "'서울시 마포구'"
      ]
     },
     "execution_count": 147,
     "metadata": {},
     "output_type": "execute_result"
    }
   ],
   "source": [
    "# 7. address값을 출력하세요\n",
    "member_info = {'name':'홍길동', 'age':20,'address':'서울시 마포구','score':90}\n",
    "member_info['address']"
   ]
  },
  {
   "cell_type": "code",
   "execution_count": 146,
   "metadata": {
    "ExecuteTime": {
     "end_time": "2021-02-23T04:03:57.829921Z",
     "start_time": "2021-02-23T04:03:57.825958Z"
    }
   },
   "outputs": [],
   "source": [
    "# 8. score 를 출력하고 member_info 딕셔너리에서 삭제하세요.\n",
    "member_info['score']\n",
    "del member_info"
   ]
  },
  {
   "cell_type": "code",
   "execution_count": 149,
   "metadata": {
    "ExecuteTime": {
     "end_time": "2021-02-23T04:04:58.510687Z",
     "start_time": "2021-02-23T04:04:58.505700Z"
    }
   },
   "outputs": [
    {
     "data": {
      "text/plain": [
       "{'name': '홍길동', 'age': 20, 'address': '서울시 서대문구', 'score': 90}"
      ]
     },
     "execution_count": 149,
     "metadata": {},
     "output_type": "execute_result"
    }
   ],
   "source": [
    "# 9. Address를 “서울시 서대문구”로 변경하세요.\n",
    "member_info['address'] = '서울시 서대문구'\n",
    "member_info"
   ]
  },
  {
   "cell_type": "code",
   "execution_count": null,
   "metadata": {},
   "outputs": [],
   "source": [
    "# 10. member_info 딕셔너리 데이터의 값을 리스트로 출력하세요"
   ]
  },
  {
   "cell_type": "code",
   "execution_count": 163,
   "metadata": {
    "ExecuteTime": {
     "end_time": "2021-02-23T05:22:57.685196Z",
     "start_time": "2021-02-23T05:22:57.680184Z"
    }
   },
   "outputs": [
    {
     "data": {
      "text/plain": [
       "['홍길동', 20, '서울시 서대문구', 90]"
      ]
     },
     "execution_count": 163,
     "metadata": {},
     "output_type": "execute_result"
    }
   ],
   "source": [
    "list(member_info.values())"
   ]
  },
  {
   "cell_type": "code",
   "execution_count": 165,
   "metadata": {
    "ExecuteTime": {
     "end_time": "2021-02-23T05:26:18.235466Z",
     "start_time": "2021-02-23T05:26:18.232492Z"
    }
   },
   "outputs": [
    {
     "name": "stdout",
     "output_type": "stream",
     "text": [
      "['orange', 'banana']\n"
     ]
    }
   ],
   "source": [
    "# 서술형 연습문제 1\n",
    "L1 = (\"orange\",\"apple\",\"banana\",\"kiwi\")\n",
    "new_list = [i for i in L1 if len(i)>5]\n",
    "print(new_list)"
   ]
  },
  {
   "cell_type": "code",
   "execution_count": 166,
   "metadata": {
    "ExecuteTime": {
     "end_time": "2021-02-23T05:26:20.532745Z",
     "start_time": "2021-02-23T05:26:20.526787Z"
    }
   },
   "outputs": [
    {
     "data": {
      "text/plain": [
       "[1, 2, 3, 4, 5, 10, 20, 30, 40, 50]"
      ]
     },
     "execution_count": 166,
     "metadata": {},
     "output_type": "execute_result"
    }
   ],
   "source": [
    "# 4\n",
    "numbers = [1,2,3,4,5]\n",
    "numbers.extend([10,20,30,40,50])\n",
    "numbers"
   ]
  },
  {
   "cell_type": "code",
   "execution_count": 167,
   "metadata": {
    "ExecuteTime": {
     "end_time": "2021-02-23T05:26:23.035788Z",
     "start_time": "2021-02-23T05:26:23.031799Z"
    }
   },
   "outputs": [
    {
     "name": "stdout",
     "output_type": "stream",
     "text": [
      "[0, 1, 0, 3, 0, 5, 0, 7, 0, 9]\n"
     ]
    }
   ],
   "source": [
    "# 5\n",
    "numbers = list(range(10))\n",
    "numbers[ : : 2]= [0] * len(numbers[ : : 2])\n",
    "print(numbers)"
   ]
  },
  {
   "cell_type": "code",
   "execution_count": 168,
   "metadata": {
    "ExecuteTime": {
     "end_time": "2021-02-23T05:26:25.020746Z",
     "start_time": "2021-02-23T05:26:25.015748Z"
    }
   },
   "outputs": [
    {
     "data": {
      "text/plain": [
       "[5, 1, 6, 3, 7, 5, 8, 7, 9, 9]"
      ]
     },
     "execution_count": 168,
     "metadata": {},
     "output_type": "execute_result"
    }
   ],
   "source": [
    "# 6. \n",
    "numbers = [0,1,2,3,4,5,6,7,8,9]\n",
    "numbers[::2] = numbers[5:]\n",
    "numbers"
   ]
  },
  {
   "cell_type": "code",
   "execution_count": 169,
   "metadata": {
    "ExecuteTime": {
     "end_time": "2021-02-23T05:26:27.731787Z",
     "start_time": "2021-02-23T05:26:27.727790Z"
    }
   },
   "outputs": [
    {
     "name": "stdout",
     "output_type": "stream",
     "text": [
      "10\n",
      "10\n",
      "10\n",
      "10\n"
     ]
    }
   ],
   "source": [
    "# 8\n",
    "my_dic = {\"a\":10, \"b\":20, \"c\":30}\n",
    "print(my_dic['a'])\n",
    "print(list(my_dic.items())[0][1])\n",
    "print(list(my_dic.values())[0])\n",
    "print(my_dic.get('a'))"
   ]
  }
 ],
 "metadata": {
  "kernelspec": {
   "display_name": "Python 3",
   "language": "python",
   "name": "python3"
  },
  "language_info": {
   "codemirror_mode": {
    "name": "ipython",
    "version": 3
   },
   "file_extension": ".py",
   "mimetype": "text/x-python",
   "name": "python",
   "nbconvert_exporter": "python",
   "pygments_lexer": "ipython3",
   "version": "3.8.3"
  },
  "toc": {
   "base_numbering": 1,
   "nav_menu": {},
   "number_sections": false,
   "sideBar": true,
   "skip_h1_title": false,
   "title_cell": "Table of Contents",
   "title_sidebar": "Contents",
   "toc_cell": false,
   "toc_position": {
    "height": "704.028px",
    "left": "1837.77px",
    "top": "93.7326px",
    "width": "295.556px"
   },
   "toc_section_display": true,
   "toc_window_display": true
  },
  "varInspector": {
   "cols": {
    "lenName": 16,
    "lenType": 16,
    "lenVar": 40
   },
   "kernels_config": {
    "python": {
     "delete_cmd_postfix": "",
     "delete_cmd_prefix": "del ",
     "library": "var_list.py",
     "varRefreshCmd": "print(var_dic_list())"
    },
    "r": {
     "delete_cmd_postfix": ") ",
     "delete_cmd_prefix": "rm(",
     "library": "var_list.r",
     "varRefreshCmd": "cat(var_dic_list()) "
    }
   },
   "oldHeight": 122.22178,
   "position": {
    "height": "144.427px",
    "left": "830px",
    "right": "20px",
    "top": "120px",
    "width": "350px"
   },
   "types_to_exclude": [
    "module",
    "function",
    "builtin_function_or_method",
    "instance",
    "_Feature"
   ],
   "varInspector_section_display": "block",
   "window_display": false
  }
 },
 "nbformat": 4,
 "nbformat_minor": 4
}
