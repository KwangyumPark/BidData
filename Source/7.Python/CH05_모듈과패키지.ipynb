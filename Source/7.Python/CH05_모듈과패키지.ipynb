{
 "cells": [
  {
   "cell_type": "markdown",
   "metadata": {},
   "source": [
    "21.02.25 Python 모듈과 패키지"
   ]
  },
  {
   "cell_type": "markdown",
   "metadata": {},
   "source": [
    "# CH06. 모듈과 패키지"
   ]
  },
  {
   "cell_type": "markdown",
   "metadata": {},
   "source": [
    "# 1절. 모듈 사용하기\n",
    "- 파이썬 모듈은 파이썬 정의와 문장을 담고 있는 파일(함수, 변수, 클래스가 있는 *.py 파일)\n",
    "- 200여 개의 파이썬 모듈이 파이썬 인터프리터에 포함"
   ]
  },
  {
   "cell_type": "code",
   "execution_count": 2,
   "metadata": {
    "ExecuteTime": {
     "end_time": "2021-02-25T03:49:34.130047Z",
     "start_time": "2021-02-25T03:49:34.119076Z"
    }
   },
   "outputs": [
    {
     "data": {
      "text/plain": [
       "'Thu Feb 25 12:49:34 2021'"
      ]
     },
     "execution_count": 2,
     "metadata": {},
     "output_type": "execute_result"
    }
   ],
   "source": [
    "# import 모듈명: 모듈안의 함수를 모두 사용 가능, 모듈이름.함수()로 사용가능\n",
    "import time # 타임 모듈 안의 함수, 변수, 클래스 사용\n",
    "time.ctime()"
   ]
  },
  {
   "cell_type": "code",
   "execution_count": 3,
   "metadata": {
    "ExecuteTime": {
     "end_time": "2021-02-25T03:50:25.316057Z",
     "start_time": "2021-02-25T03:50:25.311069Z"
    }
   },
   "outputs": [
    {
     "data": {
      "text/plain": [
       "1614225025.312067"
      ]
     },
     "execution_count": 3,
     "metadata": {},
     "output_type": "execute_result"
    }
   ],
   "source": [
    "time.time() # uninx time(1970년 이후 밀리세컨)"
   ]
  },
  {
   "cell_type": "code",
   "execution_count": 4,
   "metadata": {
    "ExecuteTime": {
     "end_time": "2021-02-25T03:51:59.109986Z",
     "start_time": "2021-02-25T03:51:59.105997Z"
    }
   },
   "outputs": [],
   "source": [
    "del time # 메모리에서 모듈 import 삭제"
   ]
  },
  {
   "cell_type": "code",
   "execution_count": 6,
   "metadata": {
    "ExecuteTime": {
     "end_time": "2021-02-25T03:55:21.459048Z",
     "start_time": "2021-02-25T03:55:21.454082Z"
    }
   },
   "outputs": [
    {
     "data": {
      "text/plain": [
       "'Thu Feb 25 12:55:21 2021'"
      ]
     },
     "execution_count": 6,
     "metadata": {},
     "output_type": "execute_result"
    }
   ],
   "source": [
    "# 2.from 모듈명 import 함수명\n",
    "#   from 패키지명 import 모듈명 (페키지는 디렉토리, 모듈은 .py 파일)\n",
    "#    from 패키지명, 모델명 import 함수명 as 별칭\n",
    "from time import ctime\n",
    "ctime()"
   ]
  },
  {
   "cell_type": "code",
   "execution_count": 7,
   "metadata": {
    "ExecuteTime": {
     "end_time": "2021-02-25T03:56:04.772786Z",
     "start_time": "2021-02-25T03:56:04.769793Z"
    }
   },
   "outputs": [],
   "source": [
    "del ctime # 메모리에 있는 ctime 함수 삭제"
   ]
  },
  {
   "cell_type": "code",
   "execution_count": 8,
   "metadata": {
    "ExecuteTime": {
     "end_time": "2021-02-25T03:58:47.417950Z",
     "start_time": "2021-02-25T03:58:47.413951Z"
    }
   },
   "outputs": [
    {
     "data": {
      "text/plain": [
       "'Thu Feb 25 12:58:47 2021'"
      ]
     },
     "execution_count": 8,
     "metadata": {},
     "output_type": "execute_result"
    }
   ],
   "source": [
    "# 3. import 모듈명 as 별칭 : 모듈명을 메모리에 Load 하고 별칭으로 사용\n",
    "import time as t\n",
    "t.ctime()"
   ]
  },
  {
   "cell_type": "code",
   "execution_count": 9,
   "metadata": {
    "ExecuteTime": {
     "end_time": "2021-02-25T03:59:55.409929Z",
     "start_time": "2021-02-25T03:59:55.405940Z"
    }
   },
   "outputs": [],
   "source": [
    "del t # 별칭으로 unload 가능"
   ]
  },
  {
   "cell_type": "code",
   "execution_count": 11,
   "metadata": {
    "ExecuteTime": {
     "end_time": "2021-02-25T04:02:00.394328Z",
     "start_time": "2021-02-25T04:02:00.389340Z"
    }
   },
   "outputs": [
    {
     "data": {
      "text/plain": [
       "'Thu Feb 25 13:02:00 2021'"
      ]
     },
     "execution_count": 11,
     "metadata": {},
     "output_type": "execute_result"
    }
   ],
   "source": [
    "# 4. from 모듈명 import 함수명\n",
    "#    from 패키지명 import 모듈명 as 별칭\n",
    "#    from 패키지명, 모델명 import 함수명 as 별칭\n",
    "from time import ctime as ct\n",
    "ct()"
   ]
  },
  {
   "cell_type": "code",
   "execution_count": 14,
   "metadata": {
    "ExecuteTime": {
     "end_time": "2021-02-25T04:02:23.609163Z",
     "start_time": "2021-02-25T04:02:23.606171Z"
    }
   },
   "outputs": [],
   "source": [
    "del ct "
   ]
  },
  {
   "cell_type": "code",
   "execution_count": 15,
   "metadata": {
    "ExecuteTime": {
     "end_time": "2021-02-25T04:05:02.721658Z",
     "start_time": "2021-02-25T04:05:02.718686Z"
    }
   },
   "outputs": [],
   "source": [
    "import time"
   ]
  },
  {
   "cell_type": "code",
   "execution_count": 16,
   "metadata": {
    "ExecuteTime": {
     "end_time": "2021-02-25T04:05:10.523417Z",
     "start_time": "2021-02-25T04:05:10.517433Z"
    }
   },
   "outputs": [
    {
     "data": {
      "text/plain": [
       "['_STRUCT_TM_ITEMS',\n",
       " '__doc__',\n",
       " '__loader__',\n",
       " '__name__',\n",
       " '__package__',\n",
       " '__spec__',\n",
       " 'altzone',\n",
       " 'asctime',\n",
       " 'ctime',\n",
       " 'daylight',\n",
       " 'get_clock_info',\n",
       " 'gmtime',\n",
       " 'localtime',\n",
       " 'mktime',\n",
       " 'monotonic',\n",
       " 'monotonic_ns',\n",
       " 'perf_counter',\n",
       " 'perf_counter_ns',\n",
       " 'process_time',\n",
       " 'process_time_ns',\n",
       " 'sleep',\n",
       " 'strftime',\n",
       " 'strptime',\n",
       " 'struct_time',\n",
       " 'thread_time',\n",
       " 'thread_time_ns',\n",
       " 'time',\n",
       " 'time_ns',\n",
       " 'timezone',\n",
       " 'tzname']"
      ]
     },
     "execution_count": 16,
     "metadata": {},
     "output_type": "execute_result"
    }
   ],
   "source": [
    "dir(time) # time안에 있는 변수, 함수, 클래스 등을 list로 출력"
   ]
  },
  {
   "cell_type": "code",
   "execution_count": 18,
   "metadata": {
    "ExecuteTime": {
     "end_time": "2021-02-25T04:08:40.528211Z",
     "start_time": "2021-02-25T04:08:40.525207Z"
    }
   },
   "outputs": [
    {
     "name": "stdout",
     "output_type": "stream",
     "text": [
      "['__doc__', '__loader__', '__name__', '__package__', '__spec__', 'acos', 'acosh', 'asin', 'asinh', 'atan', 'atan2', 'atanh', 'ceil', 'comb', 'copysign', 'cos', 'cosh', 'degrees', 'dist', 'e', 'erf', 'erfc', 'exp', 'expm1', 'fabs', 'factorial', 'floor', 'fmod', 'frexp', 'fsum', 'gamma', 'gcd', 'hypot', 'inf', 'isclose', 'isfinite', 'isinf', 'isnan', 'isqrt', 'ldexp', 'lgamma', 'log', 'log10', 'log1p', 'log2', 'modf', 'nan', 'perm', 'pi', 'pow', 'prod', 'radians', 'remainder', 'sin', 'sinh', 'sqrt', 'tan', 'tanh', 'tau', 'trunc']\n"
     ]
    }
   ],
   "source": [
    "import math\n",
    "print(dir(math))"
   ]
  },
  {
   "cell_type": "markdown",
   "metadata": {},
   "source": []
  },
  {
   "cell_type": "markdown",
   "metadata": {},
   "source": [
    "# 2.절 사용자 정의 모듈\n",
    "- 함수나 클래스 등을 파이썬 파일에 저장하여 모듈을 만들어 재사용 가능\n",
    "- 모듈을 가져오는 순서 (1) 내장모듈 (2)sys.path 변수에 저장된 경로"
   ]
  },
  {
   "cell_type": "code",
   "execution_count": 20,
   "metadata": {
    "ExecuteTime": {
     "end_time": "2021-02-25T05:47:30.608277Z",
     "start_time": "2021-02-25T05:47:30.604287Z"
    }
   },
   "outputs": [
    {
     "data": {
      "text/plain": [
       "['E:\\\\BigData\\\\2.Big_data(정규)\\\\2.코드(source)\\\\8_Python',\n",
       " 'C:\\\\Users\\\\tjoeun\\\\anaconda3\\\\python38.zip',\n",
       " 'C:\\\\Users\\\\tjoeun\\\\anaconda3\\\\DLLs',\n",
       " 'C:\\\\Users\\\\tjoeun\\\\anaconda3\\\\lib',\n",
       " 'C:\\\\Users\\\\tjoeun\\\\anaconda3',\n",
       " '',\n",
       " 'C:\\\\Users\\\\tjoeun\\\\anaconda3\\\\lib\\\\site-packages',\n",
       " 'C:\\\\Users\\\\tjoeun\\\\anaconda3\\\\lib\\\\site-packages\\\\win32',\n",
       " 'C:\\\\Users\\\\tjoeun\\\\anaconda3\\\\lib\\\\site-packages\\\\win32\\\\lib',\n",
       " 'C:\\\\Users\\\\tjoeun\\\\anaconda3\\\\lib\\\\site-packages\\\\Pythonwin',\n",
       " 'C:\\\\Users\\\\tjoeun\\\\anaconda3\\\\lib\\\\site-packages\\\\IPython\\\\extensions',\n",
       " 'C:\\\\Users\\\\tjoeun\\\\.ipython']"
      ]
     },
     "execution_count": 20,
     "metadata": {},
     "output_type": "execute_result"
    }
   ],
   "source": [
    "import sys\n",
    "sys.path"
   ]
  },
  {
   "cell_type": "code",
   "execution_count": 35,
   "metadata": {
    "ExecuteTime": {
     "end_time": "2021-02-25T06:09:27.514486Z",
     "start_time": "2021-02-25T06:09:27.510518Z"
    }
   },
   "outputs": [],
   "source": [
    "sys.path.append('E:\\\\BigData\\\\2.Big_data(정규)\\\\2.코드(source)\\\\pylib')\n",
    "sys.path\n",
    "import fibonacci"
   ]
  },
  {
   "cell_type": "code",
   "execution_count": 38,
   "metadata": {
    "ExecuteTime": {
     "end_time": "2021-02-25T06:13:38.928816Z",
     "start_time": "2021-02-25T06:13:38.924849Z"
    }
   },
   "outputs": [
    {
     "name": "stdout",
     "output_type": "stream",
     "text": [
      "0 1 1 2 3 5 8 13 21 34 55 89 144 233 \n"
     ]
    }
   ],
   "source": [
    "temp = fibonacci.fibo_print(300)\n",
    "temp"
   ]
  },
  {
   "cell_type": "code",
   "execution_count": 36,
   "metadata": {
    "ExecuteTime": {
     "end_time": "2021-02-25T06:12:35.021309Z",
     "start_time": "2021-02-25T06:12:35.013331Z"
    }
   },
   "outputs": [
    {
     "data": {
      "text/plain": [
       "<module 'fibonacci' from 'E:\\\\BigData\\\\2.Big_data(정규)\\\\2.코드(source)\\\\pylib\\\\fibonacci.py'>"
      ]
     },
     "execution_count": 36,
     "metadata": {},
     "output_type": "execute_result"
    }
   ],
   "source": [
    "from importlib import reload # 패키지나 모듈을 다시 로드 시키는 함수\n",
    "reload(fibonacci)"
   ]
  },
  {
   "cell_type": "markdown",
   "metadata": {},
   "source": [
    "# 3.절 패키지\n",
    "- 모듈 이름이 A,B 라면 A라는 패키지 안에 B라는 서브 모듈\n",
    "- 다중 모듈 패키지 ex) numpy, ..."
   ]
  },
  {
   "cell_type": "code",
   "execution_count": 1,
   "metadata": {
    "ExecuteTime": {
     "end_time": "2021-02-25T06:54:43.639252Z",
     "start_time": "2021-02-25T06:54:43.623609Z"
    }
   },
   "outputs": [
    {
     "name": "stdout",
     "output_type": "stream",
     "text": [
      "sample_pac 패키지를 실행합니다.\n"
     ]
    }
   ],
   "source": [
    "import sys\n",
    "sys.path.append('E:\\\\BigData\\\\2.Big_data(정규)\\\\2.코드(source)\\\\pylib')\n",
    "import sample_pac # 상위 패키지를 import해도 하위 패키지는 import 되지 않는다."
   ]
  },
  {
   "cell_type": "code",
   "execution_count": 51,
   "metadata": {
    "ExecuteTime": {
     "end_time": "2021-02-25T06:50:04.388153Z",
     "start_time": "2021-02-25T06:50:04.384163Z"
    }
   },
   "outputs": [],
   "source": [
    "import sample_pac.ab.a"
   ]
  },
  {
   "cell_type": "code",
   "execution_count": 52,
   "metadata": {
    "ExecuteTime": {
     "end_time": "2021-02-25T06:51:11.196966Z",
     "start_time": "2021-02-25T06:51:11.191992Z"
    }
   },
   "outputs": [
    {
     "name": "stdout",
     "output_type": "stream",
     "text": [
      "hello - a 모듈 안\n"
     ]
    }
   ],
   "source": [
    "sample_pac.ab.a.hello()"
   ]
  },
  {
   "cell_type": "code",
   "execution_count": 53,
   "metadata": {
    "ExecuteTime": {
     "end_time": "2021-02-25T06:51:48.964050Z",
     "start_time": "2021-02-25T06:51:48.960061Z"
    }
   },
   "outputs": [],
   "source": [
    "from sample_pac.ab import a"
   ]
  },
  {
   "cell_type": "code",
   "execution_count": 54,
   "metadata": {
    "ExecuteTime": {
     "end_time": "2021-02-25T06:51:56.581085Z",
     "start_time": "2021-02-25T06:51:56.577116Z"
    }
   },
   "outputs": [
    {
     "name": "stdout",
     "output_type": "stream",
     "text": [
      "hello - a 모듈 안\n"
     ]
    }
   ],
   "source": [
    "a.hello()"
   ]
  },
  {
   "cell_type": "code",
   "execution_count": 55,
   "metadata": {
    "ExecuteTime": {
     "end_time": "2021-02-25T06:52:23.043860Z",
     "start_time": "2021-02-25T06:52:23.039858Z"
    }
   },
   "outputs": [],
   "source": [
    "from sample_pac.ab.a import hello"
   ]
  },
  {
   "cell_type": "code",
   "execution_count": 56,
   "metadata": {
    "ExecuteTime": {
     "end_time": "2021-02-25T06:52:28.067835Z",
     "start_time": "2021-02-25T06:52:28.063845Z"
    }
   },
   "outputs": [
    {
     "name": "stdout",
     "output_type": "stream",
     "text": [
      "hello - a 모듈 안\n"
     ]
    }
   ],
   "source": [
    "hello()"
   ]
  },
  {
   "cell_type": "code",
   "execution_count": 57,
   "metadata": {
    "ExecuteTime": {
     "end_time": "2021-02-25T06:53:01.653040Z",
     "start_time": "2021-02-25T06:53:01.649051Z"
    }
   },
   "outputs": [],
   "source": [
    "from sample_pac.ab import b"
   ]
  },
  {
   "cell_type": "code",
   "execution_count": 58,
   "metadata": {
    "ExecuteTime": {
     "end_time": "2021-02-25T06:53:15.915923Z",
     "start_time": "2021-02-25T06:53:15.911921Z"
    }
   },
   "outputs": [
    {
     "name": "stdout",
     "output_type": "stream",
     "text": [
      "world - b.py안\n"
     ]
    }
   ],
   "source": [
    "b.world()"
   ]
  },
  {
   "cell_type": "code",
   "execution_count": 1,
   "metadata": {
    "ExecuteTime": {
     "end_time": "2021-02-25T07:08:30.961984Z",
     "start_time": "2021-02-25T07:08:30.957995Z"
    }
   },
   "outputs": [],
   "source": [
    "import sys\n",
    "sys.path.append('E:\\\\BigData\\\\2.Big_data(정규)\\\\2.코드(source)\\\\pylib')"
   ]
  },
  {
   "cell_type": "code",
   "execution_count": 2,
   "metadata": {
    "ExecuteTime": {
     "end_time": "2021-02-25T06:59:42.519838Z",
     "start_time": "2021-02-25T06:59:42.510884Z"
    }
   },
   "outputs": [
    {
     "name": "stdout",
     "output_type": "stream",
     "text": [
      "sample_pac 패키지를 실행합니다.\n",
      "sample_pac 패키지 안의 ab 패키지 import\n"
     ]
    }
   ],
   "source": [
    "from sample_pac.ab import *"
   ]
  },
  {
   "cell_type": "code",
   "execution_count": 3,
   "metadata": {
    "ExecuteTime": {
     "end_time": "2021-02-25T06:59:51.714761Z",
     "start_time": "2021-02-25T06:59:51.699117Z"
    }
   },
   "outputs": [
    {
     "name": "stdout",
     "output_type": "stream",
     "text": [
      "hello - a 모듈 안\n"
     ]
    }
   ],
   "source": [
    "a.hello()"
   ]
  },
  {
   "cell_type": "code",
   "execution_count": 4,
   "metadata": {
    "ExecuteTime": {
     "end_time": "2021-02-25T07:00:00.229900Z",
     "start_time": "2021-02-25T07:00:00.062847Z"
    }
   },
   "outputs": [
    {
     "ename": "NameError",
     "evalue": "name 'b' is not defined",
     "output_type": "error",
     "traceback": [
      "\u001b[1;31m---------------------------------------------------------------------------\u001b[0m",
      "\u001b[1;31mNameError\u001b[0m                                 Traceback (most recent call last)",
      "\u001b[1;32m<ipython-input-4-0c2420a3bc53>\u001b[0m in \u001b[0;36m<module>\u001b[1;34m\u001b[0m\n\u001b[1;32m----> 1\u001b[1;33m \u001b[0mb\u001b[0m\u001b[1;33m.\u001b[0m\u001b[0mworld\u001b[0m\u001b[1;33m(\u001b[0m\u001b[1;33m)\u001b[0m\u001b[1;33m\u001b[0m\u001b[1;33m\u001b[0m\u001b[0m\n\u001b[0m",
      "\u001b[1;31mNameError\u001b[0m: name 'b' is not defined"
     ]
    }
   ],
   "source": [
    "b.world()"
   ]
  },
  {
   "cell_type": "code",
   "execution_count": 2,
   "metadata": {
    "ExecuteTime": {
     "end_time": "2021-02-25T07:08:33.775855Z",
     "start_time": "2021-02-25T07:08:33.765863Z"
    }
   },
   "outputs": [
    {
     "name": "stdout",
     "output_type": "stream",
     "text": [
      "sample_pac 패키지를 실행합니다.\n",
      "sample_pac 패키지 안에 cd 패키지 cd 패키지\n",
      "sample_pac 패키지 안의 ab 패키지 import\n"
     ]
    }
   ],
   "source": [
    "from sample_pac.cd import c"
   ]
  },
  {
   "cell_type": "code",
   "execution_count": 3,
   "metadata": {
    "ExecuteTime": {
     "end_time": "2021-02-25T07:09:12.315079Z",
     "start_time": "2021-02-25T07:09:12.311094Z"
    }
   },
   "outputs": [
    {
     "name": "stdout",
     "output_type": "stream",
     "text": [
      "nice - c.py 안\n",
      "hello - a 모듈 안\n"
     ]
    }
   ],
   "source": [
    "c.nice()"
   ]
  },
  {
   "cell_type": "code",
   "execution_count": null,
   "metadata": {},
   "outputs": [],
   "source": [
    "# 특수 속성듣\n",
    "\n",
    "# __init__.py\n",
    "# __all__\n",
    "# __name__\n",
    "# __parh__\n",
    "# __file__"
   ]
  },
  {
   "cell_type": "code",
   "execution_count": null,
   "metadata": {},
   "outputs": [],
   "source": [
    "from mypkg import foo"
   ]
  },
  {
   "cell_type": "code",
   "execution_count": null,
   "metadata": {},
   "outputs": [],
   "source": [
    "foo.foo_hello()"
   ]
  },
  {
   "cell_type": "code",
   "execution_count": 9,
   "metadata": {
    "ExecuteTime": {
     "end_time": "2021-02-25T07:44:31.846497Z",
     "start_time": "2021-02-25T07:44:31.842507Z"
    }
   },
   "outputs": [],
   "source": [
    "from mypkg import bar"
   ]
  },
  {
   "cell_type": "code",
   "execution_count": 10,
   "metadata": {
    "ExecuteTime": {
     "end_time": "2021-02-25T07:44:39.829822Z",
     "start_time": "2021-02-25T07:44:39.825832Z"
    }
   },
   "outputs": [
    {
     "name": "stdout",
     "output_type": "stream",
     "text": [
      "bar Hello - mypkg 안에\n"
     ]
    }
   ],
   "source": [
    "bar.bar_hello()"
   ]
  },
  {
   "cell_type": "markdown",
   "metadata": {},
   "source": [
    "# 4절. 패키지 설치 및 삭제"
   ]
  },
  {
   "cell_type": "code",
   "execution_count": 1,
   "metadata": {
    "ExecuteTime": {
     "end_time": "2021-02-25T08:00:00.445597Z",
     "start_time": "2021-02-25T08:00:00.391741Z"
    }
   },
   "outputs": [
    {
     "name": "stdout",
     "output_type": "stream",
     "text": [
      "function                   15981\n",
      "dict                       10081\n",
      "tuple                      8066\n",
      "weakref                    3058\n",
      "wrapper_descriptor         2375\n",
      "getset_descriptor          2150\n",
      "list                       1972\n",
      "type                       1865\n",
      "builtin_function_or_method 1772\n",
      "cell                       1642\n"
     ]
    }
   ],
   "source": [
    "import objgraph\n",
    "objgraph.show_most_common_types() # 메모리 사용량 출력"
   ]
  },
  {
   "cell_type": "code",
   "execution_count": 21,
   "metadata": {
    "ExecuteTime": {
     "end_time": "2021-02-25T07:59:43.995462Z",
     "start_time": "2021-02-25T07:59:43.991498Z"
    }
   },
   "outputs": [],
   "source": [
    "l = [10,.3565678, 10.54836,11.654866]"
   ]
  }
 ],
 "metadata": {
  "kernelspec": {
   "display_name": "Python 3",
   "language": "python",
   "name": "python3"
  },
  "language_info": {
   "codemirror_mode": {
    "name": "ipython",
    "version": 3
   },
   "file_extension": ".py",
   "mimetype": "text/x-python",
   "name": "python",
   "nbconvert_exporter": "python",
   "pygments_lexer": "ipython3",
   "version": "3.8.3"
  },
  "toc": {
   "base_numbering": 1,
   "nav_menu": {},
   "number_sections": false,
   "sideBar": true,
   "skip_h1_title": false,
   "title_cell": "Table of Contents",
   "title_sidebar": "Contents",
   "toc_cell": false,
   "toc_position": {
    "height": "830px",
    "left": "54px",
    "top": "214.733px",
    "width": "240px"
   },
   "toc_section_display": true,
   "toc_window_display": true
  },
  "varInspector": {
   "cols": {
    "lenName": 16,
    "lenType": 16,
    "lenVar": 40
   },
   "kernels_config": {
    "python": {
     "delete_cmd_postfix": "",
     "delete_cmd_prefix": "del ",
     "library": "var_list.py",
     "varRefreshCmd": "print(var_dic_list())"
    },
    "r": {
     "delete_cmd_postfix": ") ",
     "delete_cmd_prefix": "rm(",
     "library": "var_list.r",
     "varRefreshCmd": "cat(var_dic_list()) "
    }
   },
   "types_to_exclude": [
    "module",
    "function",
    "builtin_function_or_method",
    "instance",
    "_Feature"
   ],
   "window_display": false
  }
 },
 "nbformat": 4,
 "nbformat_minor": 4
}
