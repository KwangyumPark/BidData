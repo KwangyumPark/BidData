{
 "cells": [
  {
   "cell_type": "code",
   "execution_count": null,
   "metadata": {
    "ExecuteTime": {
     "end_time": "2021-04-14T06:05:28.881855Z",
     "start_time": "2021-04-14T06:05:20.763328Z"
    }
   },
   "outputs": [],
   "source": [
    "from selenium import webdriver\n",
    "import time\n",
    "from bs4 import BeautifulSoup\n",
    "import csv\n",
    "\n",
    "driver = webdriver.Chrome()\n",
    "\n",
    "driver.get('https://www.menupan.com/restaurant/bestrest/bestrest.asp?pt=wk')\n",
    "time.sleep(3)\n",
    "results = []\n",
    "    \n",
    "for page in range(1, 2):\n",
    "    text = driver.page_source\n",
    "    soup = BeautifulSoup(text, 'html.parser')\n",
    "\n",
    "    for li in soup.select('div.rankingList > ul.list > li'):\n",
    "        try:\n",
    "            restName = li.select_one('p.listName > span.restName > a').text\n",
    "            restType = li.select_one('p.listType').text\n",
    "            restArea = li.select_one('p.listArea').text\n",
    "            results  = rastName,restType,restArea\n",
    "            print(restName, restType, restArea)\n",
    "        except BaseException as ex:\n",
    "            print(ex)\n",
    "\n",
    "    print('----------')\n",
    "\n",
    "    page_buttons = driver.find_elements_by_xpath('//div.Wrapper // div.')\n",
    "    page_buttons[page + 25].click()\n",
    "    time.sleep(3)\n",
    "\n",
    "   "
   ]
  },
  {
   "cell_type": "code",
   "execution_count": 22,
   "metadata": {
    "ExecuteTime": {
     "end_time": "2021-04-15T03:54:34.082036Z",
     "start_time": "2021-04-15T03:34:57.560428Z"
    }
   },
   "outputs": [
    {
     "data": {
      "text/html": [
       "<div>\n",
       "<style scoped>\n",
       "    .dataframe tbody tr th:only-of-type {\n",
       "        vertical-align: middle;\n",
       "    }\n",
       "\n",
       "    .dataframe tbody tr th {\n",
       "        vertical-align: top;\n",
       "    }\n",
       "\n",
       "    .dataframe thead th {\n",
       "        text-align: right;\n",
       "    }\n",
       "</style>\n",
       "<table border=\"1\" class=\"dataframe\">\n",
       "  <thead>\n",
       "    <tr style=\"text-align: right;\">\n",
       "      <th></th>\n",
       "      <th>상호명</th>\n",
       "      <th>업종</th>\n",
       "      <th>지역</th>\n",
       "    </tr>\n",
       "  </thead>\n",
       "  <tbody>\n",
       "    <tr>\n",
       "      <th>0</th>\n",
       "      <td>샤브웰 탄방점</td>\n",
       "      <td>뷔페</td>\n",
       "      <td>대전 서구 탄방동</td>\n",
       "    </tr>\n",
       "    <tr>\n",
       "      <th>1</th>\n",
       "      <td>정림한정식</td>\n",
       "      <td>한식</td>\n",
       "      <td>부산 동래구 수안동</td>\n",
       "    </tr>\n",
       "    <tr>\n",
       "      <th>2</th>\n",
       "      <td>취영루</td>\n",
       "      <td>중식</td>\n",
       "      <td>강남구 논현동</td>\n",
       "    </tr>\n",
       "    <tr>\n",
       "      <th>3</th>\n",
       "      <td>이천쌀밥한상</td>\n",
       "      <td>한식</td>\n",
       "      <td>송파구 방이동</td>\n",
       "    </tr>\n",
       "    <tr>\n",
       "      <th>4</th>\n",
       "      <td>간장게장무한리필</td>\n",
       "      <td>한식</td>\n",
       "      <td>마포구 현석동</td>\n",
       "    </tr>\n",
       "    <tr>\n",
       "      <th>...</th>\n",
       "      <td>...</td>\n",
       "      <td>...</td>\n",
       "      <td>...</td>\n",
       "    </tr>\n",
       "    <tr>\n",
       "      <th>9587</th>\n",
       "      <td>프리가(FRIGGA)</td>\n",
       "      <td>뷔페</td>\n",
       "      <td>영등포구 여의도동</td>\n",
       "    </tr>\n",
       "    <tr>\n",
       "      <th>9588</th>\n",
       "      <td>삼성웰스토리 순복음교회</td>\n",
       "      <td>한식</td>\n",
       "      <td>영등포구 여의도동</td>\n",
       "    </tr>\n",
       "    <tr>\n",
       "      <th>9589</th>\n",
       "      <td>돈갑</td>\n",
       "      <td>한식</td>\n",
       "      <td>부산 남구 대연동</td>\n",
       "    </tr>\n",
       "    <tr>\n",
       "      <th>9590</th>\n",
       "      <td>우목정</td>\n",
       "      <td>한식</td>\n",
       "      <td>경기 포천시 이동면</td>\n",
       "    </tr>\n",
       "    <tr>\n",
       "      <th>9591</th>\n",
       "      <td>포천송영선할머니갈비</td>\n",
       "      <td>한식</td>\n",
       "      <td>경기 포천시 이동면</td>\n",
       "    </tr>\n",
       "  </tbody>\n",
       "</table>\n",
       "<p>9592 rows × 3 columns</p>\n",
       "</div>"
      ],
      "text/plain": [
       "               상호명  업종          지역\n",
       "0          샤브웰 탄방점  뷔페   대전 서구 탄방동\n",
       "1            정림한정식  한식  부산 동래구 수안동\n",
       "2              취영루  중식     강남구 논현동\n",
       "3           이천쌀밥한상  한식     송파구 방이동\n",
       "4         간장게장무한리필  한식     마포구 현석동\n",
       "...            ...  ..         ...\n",
       "9587   프리가(FRIGGA)  뷔페   영등포구 여의도동\n",
       "9588  삼성웰스토리 순복음교회  한식   영등포구 여의도동\n",
       "9589            돈갑  한식   부산 남구 대연동\n",
       "9590           우목정  한식  경기 포천시 이동면\n",
       "9591    포천송영선할머니갈비  한식  경기 포천시 이동면\n",
       "\n",
       "[9592 rows x 3 columns]"
      ]
     },
     "execution_count": 22,
     "metadata": {},
     "output_type": "execute_result"
    }
   ],
   "source": [
    "from bs4 import BeautifulSoup\n",
    "import pandas as pd\n",
    "import urllib.request as REQ\n",
    "\n",
    "\n",
    "url = \"http://www.menupan.com/restaurant/bestrest/bestrest.asp?page={}&trec=9595&pt=wk\"\n",
    "\n",
    "results = []\n",
    "\n",
    "for n in range(1,800):\n",
    "    link = url.format(n)\n",
    "    response = REQ.urlopen(link)\n",
    "    bs = BeautifulSoup(response, 'html.parser')\n",
    "    tag_body = bs.select_one('.rankingList .list')\n",
    "    ab = tag_body.findAll('li')\n",
    "    \n",
    "    for a in ab:\n",
    "            restName = a.select_one('p.listName > span.restName > a').string\n",
    "            restType = a.select_one('.listType').string\n",
    "            restArea = a.select_one('.listArea').string\n",
    "            results.append({ \n",
    "                             \"상호명\": restName,\n",
    "                             \"업종\"  : restType,\n",
    "                             \"지역\"  : restArea })\n",
    "            df = pd.DataFrame(results)\n",
    "\n",
    "df"
   ]
  },
  {
   "cell_type": "code",
   "execution_count": 15,
   "metadata": {
    "ExecuteTime": {
     "end_time": "2021-04-15T00:49:51.408566Z",
     "start_time": "2021-04-15T00:49:50.856846Z"
    }
   },
   "outputs": [
    {
     "ename": "AttributeError",
     "evalue": "'list' object attribute 'append' is read-only",
     "output_type": "error",
     "traceback": [
      "\u001b[1;31m---------------------------------------------------------------------------\u001b[0m",
      "\u001b[1;31mAttributeError\u001b[0m                            Traceback (most recent call last)",
      "\u001b[1;32m<ipython-input-15-20bb8bece0c1>\u001b[0m in \u001b[0;36m<module>\u001b[1;34m\u001b[0m\n\u001b[0;32m     24\u001b[0m                 \u001b[0mrestType\u001b[0m \u001b[1;33m=\u001b[0m \u001b[0ma\u001b[0m\u001b[1;33m.\u001b[0m\u001b[0mselect_one\u001b[0m\u001b[1;33m(\u001b[0m\u001b[1;34m'.listType'\u001b[0m\u001b[1;33m)\u001b[0m\u001b[1;33m.\u001b[0m\u001b[0mstring\u001b[0m\u001b[1;33m\u001b[0m\u001b[1;33m\u001b[0m\u001b[0m\n\u001b[0;32m     25\u001b[0m                 \u001b[0mrestArea\u001b[0m \u001b[1;33m=\u001b[0m \u001b[0ma\u001b[0m\u001b[1;33m.\u001b[0m\u001b[0mselect_one\u001b[0m\u001b[1;33m(\u001b[0m\u001b[1;34m'.listArea'\u001b[0m\u001b[1;33m)\u001b[0m\u001b[1;33m.\u001b[0m\u001b[0mstring\u001b[0m\u001b[1;33m\u001b[0m\u001b[1;33m\u001b[0m\u001b[0m\n\u001b[1;32m---> 26\u001b[1;33m                 results.append = [{ \"상호명\": restName,\n\u001b[0m\u001b[0;32m     27\u001b[0m                              \u001b[1;34m\"업종\"\u001b[0m  \u001b[1;33m:\u001b[0m \u001b[0mrestType\u001b[0m\u001b[1;33m,\u001b[0m\u001b[1;33m\u001b[0m\u001b[1;33m\u001b[0m\u001b[0m\n\u001b[0;32m     28\u001b[0m                              \"지역\"  : restArea }]\n",
      "\u001b[1;31mAttributeError\u001b[0m: 'list' object attribute 'append' is read-only"
     ]
    }
   ],
   "source": [
    "from bs4 import BeautifulSoup\n",
    "import pandas as pd\n",
    "import urllib.request as REQ\n",
    "import codecs\n",
    "import csv\n",
    "\n",
    "url = \"http://www.menupan.com/restaurant/bestrest/bestrest.asp?page={}&trec=9595&pt=wk\"\n",
    "\n",
    "results = []\n",
    "\n",
    "with open('restRank.csv','w', newline='', encoding=\"utf-8\") as f:\n",
    "    writer = csv.writer(f)\n",
    "    writer.writerow([\"상호명,업종,지역\"])\n",
    "    \n",
    "    for n in range(1,3):\n",
    "        link = url.format(n)\n",
    "        response = REQ.urlopen(link)\n",
    "        bs = BeautifulSoup(response, 'html.parser')\n",
    "        tag_body = bs.select_one('.rankingList .list')\n",
    "        ab = tag_body.findAll('li')\n",
    "\n",
    "        for a in ab:\n",
    "                restName = a.select_one('p.listName > span.restName > a').string\n",
    "                restType = a.select_one('.listType').string\n",
    "                restArea = a.select_one('.listArea').string\n",
    "                results.append = [{ \"상호명\": restName,\n",
    "                             \"업종\"  : restType,\n",
    "                             \"지역\"  : restArea }]\n",
    "                writer.writerow(results)\n",
    "\n"
   ]
  },
  {
   "cell_type": "code",
   "execution_count": null,
   "metadata": {},
   "outputs": [],
   "source": []
  },
  {
   "cell_type": "code",
   "execution_count": null,
   "metadata": {},
   "outputs": [],
   "source": []
  },
  {
   "cell_type": "code",
   "execution_count": null,
   "metadata": {},
   "outputs": [],
   "source": []
  },
  {
   "cell_type": "code",
   "execution_count": null,
   "metadata": {},
   "outputs": [],
   "source": []
  },
  {
   "cell_type": "code",
   "execution_count": null,
   "metadata": {},
   "outputs": [],
   "source": []
  },
  {
   "cell_type": "code",
   "execution_count": null,
   "metadata": {},
   "outputs": [],
   "source": []
  },
  {
   "cell_type": "code",
   "execution_count": null,
   "metadata": {},
   "outputs": [],
   "source": []
  },
  {
   "cell_type": "code",
   "execution_count": null,
   "metadata": {},
   "outputs": [],
   "source": []
  },
  {
   "cell_type": "code",
   "execution_count": null,
   "metadata": {},
   "outputs": [],
   "source": []
  },
  {
   "cell_type": "code",
   "execution_count": null,
   "metadata": {},
   "outputs": [],
   "source": []
  },
  {
   "cell_type": "code",
   "execution_count": null,
   "metadata": {},
   "outputs": [],
   "source": []
  }
 ],
 "metadata": {
  "kernelspec": {
   "display_name": "Python 3",
   "language": "python",
   "name": "python3"
  },
  "language_info": {
   "codemirror_mode": {
    "name": "ipython",
    "version": 3
   },
   "file_extension": ".py",
   "mimetype": "text/x-python",
   "name": "python",
   "nbconvert_exporter": "python",
   "pygments_lexer": "ipython3",
   "version": "3.8.5"
  },
  "toc": {
   "base_numbering": 1,
   "nav_menu": {},
   "number_sections": true,
   "sideBar": true,
   "skip_h1_title": false,
   "title_cell": "Table of Contents",
   "title_sidebar": "Contents",
   "toc_cell": false,
   "toc_position": {},
   "toc_section_display": true,
   "toc_window_display": false
  },
  "varInspector": {
   "cols": {
    "lenName": 16,
    "lenType": 16,
    "lenVar": 40
   },
   "kernels_config": {
    "python": {
     "delete_cmd_postfix": "",
     "delete_cmd_prefix": "del ",
     "library": "var_list.py",
     "varRefreshCmd": "print(var_dic_list())"
    },
    "r": {
     "delete_cmd_postfix": ") ",
     "delete_cmd_prefix": "rm(",
     "library": "var_list.r",
     "varRefreshCmd": "cat(var_dic_list()) "
    }
   },
   "types_to_exclude": [
    "module",
    "function",
    "builtin_function_or_method",
    "instance",
    "_Feature"
   ],
   "window_display": false
  }
 },
 "nbformat": 4,
 "nbformat_minor": 4
}
