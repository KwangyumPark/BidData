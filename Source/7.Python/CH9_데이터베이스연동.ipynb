{
 "cells": [
  {
   "cell_type": "markdown",
   "metadata": {},
   "source": [
    "21.03.03 Python 데이터베이스 연동"
   ]
  },
  {
   "cell_type": "markdown",
   "metadata": {},
   "source": [
    "# 10장. 데이터베이스연동 "
   ]
  },
  {
   "cell_type": "markdown",
   "metadata": {},
   "source": [
    "# 1절. SQLite 데이터 베이스 연결"
   ]
  },
  {
   "cell_type": "markdown",
   "metadata": {},
   "source": [
    "## 1.1 SQLite와 파이썬\n",
    "- SQLite 데이터 베이스는 별도의 서버 프로세스 없이 SQL을 사용하여 DB 엑세스를 할 수 있도록 만든 **간단한 디스크 기반 데이터 베이스**를 제공하는 C 라이브러리\n",
    "- SQLite는 프로토타입을 만들때 사용.\n",
    "- 정식제품은 오라클 및 DMBS를 사용.\n",
    "- DB browser 사용"
   ]
  },
  {
   "cell_type": "code",
   "execution_count": 1,
   "metadata": {
    "ExecuteTime": {
     "end_time": "2021-03-03T01:17:12.035411Z",
     "start_time": "2021-03-03T01:17:12.019789Z"
    }
   },
   "outputs": [
    {
     "data": {
      "text/plain": [
       "'3.33.0'"
      ]
     },
     "execution_count": 1,
     "metadata": {},
     "output_type": "execute_result"
    }
   ],
   "source": [
    "import sqlite3\n",
    "sqlite3.sqlite_version"
   ]
  },
  {
   "cell_type": "markdown",
   "metadata": {},
   "source": [
    "# 1.2 데이터 베이스 연결"
   ]
  },
  {
   "cell_type": "code",
   "execution_count": 5,
   "metadata": {
    "ExecuteTime": {
     "end_time": "2021-03-03T01:45:31.748413Z",
     "start_time": "2021-03-03T01:45:31.743448Z"
    }
   },
   "outputs": [
    {
     "data": {
      "text/plain": [
       "<sqlite3.Connection at 0x19f54c61c60>"
      ]
     },
     "execution_count": 5,
     "metadata": {},
     "output_type": "execute_result"
    }
   ],
   "source": [
    "# DB 연결 객체 생성시 파일이 ㅇ벗으면 생성, 있으며 그 파일과 연동.\n",
    "conn = sqlite3.connect('data/ch10_example.db')\n",
    "conn "
   ]
  },
  {
   "cell_type": "code",
   "execution_count": 6,
   "metadata": {
    "ExecuteTime": {
     "end_time": "2021-03-03T01:46:39.594973Z",
     "start_time": "2021-03-03T01:46:39.591003Z"
    }
   },
   "outputs": [],
   "source": [
    "# 커서 객체 반환. 커서는 SQL문을 실행 시키고 결과 데이터를 조회하는데 사용\n",
    "cursor = conn.cursor()"
   ]
  },
  {
   "cell_type": "code",
   "execution_count": 9,
   "metadata": {
    "ExecuteTime": {
     "end_time": "2021-03-03T01:50:56.978469Z",
     "start_time": "2021-03-03T01:50:56.814584Z"
    }
   },
   "outputs": [
    {
     "data": {
      "text/plain": [
       "<sqlite3.Cursor at 0x19f54cb6420>"
      ]
     },
     "execution_count": 9,
     "metadata": {},
     "output_type": "execute_result"
    }
   ],
   "source": [
    "cursor.execute('''\n",
    "    CREATE TABLE MEMBER (\n",
    "        NAME TEXT,\n",
    "        AGE INT,\n",
    "        EMAIL TEXT\n",
    "    )\n",
    "''')"
   ]
  },
  {
   "cell_type": "code",
   "execution_count": 11,
   "metadata": {
    "ExecuteTime": {
     "end_time": "2021-03-03T01:53:08.860322Z",
     "start_time": "2021-03-03T01:53:08.854334Z"
    }
   },
   "outputs": [
    {
     "data": {
      "text/plain": [
       "<sqlite3.Cursor at 0x19f54cb6420>"
      ]
     },
     "execution_count": 11,
     "metadata": {},
     "output_type": "execute_result"
    }
   ],
   "source": [
    "cursor.execute(\"INSERT INTO MEMBER VALUES ('홍길동',20,'hong@kildong.com')\")\n",
    "cursor.execute(\"INSERT INTO MEMBER VALUES ('김길동',40,'kim@kildong.com')\")\n",
    "cursor.execute(\"INSERT INTO MEMBER VALUES ('신길동',60,'shin@kildong.com')\")"
   ]
  },
  {
   "cell_type": "code",
   "execution_count": 12,
   "metadata": {
    "ExecuteTime": {
     "end_time": "2021-03-03T01:53:20.777991Z",
     "start_time": "2021-03-03T01:53:20.613907Z"
    }
   },
   "outputs": [],
   "source": [
    "conn.commit() # conn.rollback() - 롤백"
   ]
  },
  {
   "cell_type": "code",
   "execution_count": 13,
   "metadata": {
    "ExecuteTime": {
     "end_time": "2021-03-03T01:55:36.043396Z",
     "start_time": "2021-03-03T01:55:36.038427Z"
    }
   },
   "outputs": [
    {
     "data": {
      "text/plain": [
       "<sqlite3.Cursor at 0x19f54cb6420>"
      ]
     },
     "execution_count": 13,
     "metadata": {},
     "output_type": "execute_result"
    }
   ],
   "source": [
    "cursor.execute(\"SELECT * FROM MEMBER\") # 실행결과는 cursor 가르키고 있음."
   ]
  },
  {
   "cell_type": "code",
   "execution_count": 14,
   "metadata": {
    "ExecuteTime": {
     "end_time": "2021-03-03T01:57:27.017065Z",
     "start_time": "2021-03-03T01:57:27.014054Z"
    }
   },
   "outputs": [
    {
     "name": "stdout",
     "output_type": "stream",
     "text": [
      "[('홍길동', 20, 'hong@kildong.com'), ('김길동', 40, 'kim@kildong.com'), ('신길동', 60, 'shin@kildong.com')]\n"
     ]
    }
   ],
   "source": [
    "# select문의 결과를 받는 함수 : \n",
    "# fetchone() : 결과를 한행씩 받을 때 \n",
    "# fetchmany(n) : 결과를 n개 받을 때 \n",
    "# fetall(n) : 결과를 모두 받을 때\n",
    "print(cursor.fetchall())"
   ]
  },
  {
   "cell_type": "code",
   "execution_count": 15,
   "metadata": {
    "ExecuteTime": {
     "end_time": "2021-03-03T01:58:36.456824Z",
     "start_time": "2021-03-03T01:58:36.452835Z"
    }
   },
   "outputs": [
    {
     "name": "stdout",
     "output_type": "stream",
     "text": [
      "[]\n"
     ]
    }
   ],
   "source": [
    "print(cursor.fetchall()) # 한번 호출된 fetall()은 다시 호출시 결과값이 없다."
   ]
  },
  {
   "cell_type": "code",
   "execution_count": 16,
   "metadata": {
    "ExecuteTime": {
     "end_time": "2021-03-03T02:00:25.321371Z",
     "start_time": "2021-03-03T02:00:25.316384Z"
    }
   },
   "outputs": [
    {
     "name": "stdout",
     "output_type": "stream",
     "text": [
      "('홍길동', 20, 'hong@kildong.com')\n",
      "('김길동', 40, 'kim@kildong.com')\n",
      "('신길동', 60, 'shin@kildong.com')\n"
     ]
    }
   ],
   "source": [
    "cursor.execute(\"SELECT * FROM MEMBER\")\n",
    "members = cursor.fetchall()\n",
    "for member in members:\n",
    "    print(member)"
   ]
  },
  {
   "cell_type": "code",
   "execution_count": 18,
   "metadata": {
    "ExecuteTime": {
     "end_time": "2021-03-03T02:00:41.449562Z",
     "start_time": "2021-03-03T02:00:41.445571Z"
    }
   },
   "outputs": [
    {
     "data": {
      "text/plain": [
       "('홍길동', 20, 'hong@kildong.com')"
      ]
     },
     "execution_count": 18,
     "metadata": {},
     "output_type": "execute_result"
    }
   ],
   "source": [
    "members[0]"
   ]
  },
  {
   "cell_type": "code",
   "execution_count": 24,
   "metadata": {
    "ExecuteTime": {
     "end_time": "2021-03-03T02:08:48.226959Z",
     "start_time": "2021-03-03T02:08:48.211336Z"
    }
   },
   "outputs": [
    {
     "name": "stdout",
     "output_type": "stream",
     "text": [
      "('홍길동', 20, 'hong@kildong.com')\n",
      "('김길동', 40, 'kim@kildong.com')\n",
      "('신길동', 60, 'shin@kildong.com')\n"
     ]
    }
   ],
   "source": [
    "cursor.execute(\"SELECT * FROM MEMBER\")\n",
    "\n",
    "while True:\n",
    "    member = cursor.fetchone()\n",
    "    if member is None:\n",
    "        break\n",
    "    print(member)\n",
    "    "
   ]
  },
  {
   "cell_type": "code",
   "execution_count": 26,
   "metadata": {
    "ExecuteTime": {
     "end_time": "2021-03-03T02:10:35.640062Z",
     "start_time": "2021-03-03T02:10:35.635101Z"
    }
   },
   "outputs": [
    {
     "name": "stdout",
     "output_type": "stream",
     "text": [
      "('홍길동', 20, 'hong@kildong.com')\n",
      "('김길동', 40, 'kim@kildong.com')\n"
     ]
    }
   ],
   "source": [
    "cursor.execute(\"SELECT * FROM MEMBER\")\n",
    "\n",
    "for member in cursor.fetchmany(2):\n",
    "    print(member)"
   ]
  },
  {
   "cell_type": "code",
   "execution_count": 27,
   "metadata": {
    "ExecuteTime": {
     "end_time": "2021-03-03T02:10:55.375899Z",
     "start_time": "2021-03-03T02:10:55.370938Z"
    }
   },
   "outputs": [
    {
     "data": {
      "text/plain": [
       "[('신길동', 60, 'shin@kildong.com')]"
      ]
     },
     "execution_count": 27,
     "metadata": {},
     "output_type": "execute_result"
    }
   ],
   "source": [
    "cursor.fetchmany(2)"
   ]
  },
  {
   "cell_type": "code",
   "execution_count": 28,
   "metadata": {
    "ExecuteTime": {
     "end_time": "2021-03-03T02:12:36.734925Z",
     "start_time": "2021-03-03T02:12:36.730959Z"
    }
   },
   "outputs": [],
   "source": [
    "cursor.close() # 생략가능\n",
    "conn.close() # 꼭 close 해야 connection 종료"
   ]
  },
  {
   "cell_type": "markdown",
   "metadata": {},
   "source": [
    "## 1.3 SQL 구문에 파라미터 사용하기\n",
    "- qmark, named(추천) 방법"
   ]
  },
  {
   "cell_type": "code",
   "execution_count": 32,
   "metadata": {
    "ExecuteTime": {
     "end_time": "2021-03-03T02:36:45.028920Z",
     "start_time": "2021-03-03T02:36:45.023925Z"
    }
   },
   "outputs": [
    {
     "name": "stdout",
     "output_type": "stream",
     "text": [
      "[('홍길동', 20, 'hong@kildong.com')]\n"
     ]
    }
   ],
   "source": [
    "# 파라미터 사용하기 : qmark 방법 이용\n",
    "conn = sqlite3.connect('data/ch10_example.db')\n",
    "cursor = conn.cursor()\n",
    "cursor.execute(\"SELECT * FROM MEMBER WHERE name IN (?,?)\",('홍길동','김철수'))\n",
    "print(cursor.fetchall())"
   ]
  },
  {
   "cell_type": "code",
   "execution_count": 33,
   "metadata": {
    "ExecuteTime": {
     "end_time": "2021-03-03T02:37:41.032226Z",
     "start_time": "2021-03-03T02:37:24.390995Z"
    }
   },
   "outputs": [
    {
     "name": "stdout",
     "output_type": "stream",
     "text": [
      "검색할 이름1 : 신길동\n",
      "검색할 이름2 : 홍길동\n",
      "[('홍길동', 20, 'hong@kildong.com'), ('신길동', 60, 'shin@kildong.com')]\n"
     ]
    }
   ],
   "source": [
    "name1 = input('검색할 이름1 : ')\n",
    "name2 = input('검색할 이름2 : ')\n",
    "names = (name1, name2)\n",
    "cursor.execute(\"SELECT * FROM MEMBER WHERE NAME IN (?,?)\", names)\n",
    "print(cursor.fetchall())"
   ]
  },
  {
   "cell_type": "code",
   "execution_count": 37,
   "metadata": {
    "ExecuteTime": {
     "end_time": "2021-03-03T02:59:32.118468Z",
     "start_time": "2021-03-03T02:59:28.980399Z"
    }
   },
   "outputs": [
    {
     "name": "stdout",
     "output_type": "stream",
     "text": [
      "검색 하고자 하는 이름 : 홍길동\n",
      "해당 이름이 없습니다.\n"
     ]
    }
   ],
   "source": [
    "# 파라미터 사용하기 : named 방법\n",
    "name = input('검색 하고자 하는 이름 : ')\n",
    "cursor.execute(\"SELECT * FROM MEMBER WHERE NAME*:name\", {'name':name})\n",
    "members = cursor.fetchall()\n",
    "if len(members) == 0:\n",
    "    print('해당 이름이 없습니다.')\n",
    "else:\n",
    "    print(cursor.fetchall())"
   ]
  },
  {
   "cell_type": "code",
   "execution_count": 38,
   "metadata": {
    "ExecuteTime": {
     "end_time": "2021-03-03T03:04:39.176766Z",
     "start_time": "2021-03-03T03:04:33.315018Z"
    }
   },
   "outputs": [
    {
     "name": "stdout",
     "output_type": "stream",
     "text": [
      "입력할 이름?박길동\n",
      "나이를 잘못 입력 하셨습니다. 초기 값으로 20살 입력\n"
     ]
    },
    {
     "data": {
      "text/plain": [
       "<sqlite3.Cursor at 0x19f54b59260>"
      ]
     },
     "execution_count": 38,
     "metadata": {},
     "output_type": "execute_result"
    }
   ],
   "source": [
    "try:\n",
    "    name = input('입력할 이름?')\n",
    "    age = int('입력할 나이?')\n",
    "    email = input('입력할 메일은?')\n",
    "except:\n",
    "    print('나이를 잘못 입력 하셨습니다. 초기 값으로 20살 입력')\n",
    "    age = 20\n",
    "    email = ('입력할 메일은 ?')\n",
    "cursor.execute('INSERT INTO MEMBER VALUES(:name, :age, :email)', \n",
    "              {'name':name, 'age':age, 'email':email})"
   ]
  },
  {
   "cell_type": "code",
   "execution_count": 39,
   "metadata": {
    "ExecuteTime": {
     "end_time": "2021-03-03T03:05:48.758660Z",
     "start_time": "2021-03-03T03:05:48.754688Z"
    }
   },
   "outputs": [
    {
     "name": "stdout",
     "output_type": "stream",
     "text": [
      "[('홍길동', 20, 'hong@kildong.com'), ('김길동', 40, 'kim@kildong.com'), ('신길동', 60, 'shin@kildong.com'), ('박길동', 20, '입력할 메일은 ?')]\n"
     ]
    }
   ],
   "source": [
    "cursor.execute('SELECT * FROM MEMBER')\n",
    "print(cursor.fetchall())"
   ]
  },
  {
   "cell_type": "code",
   "execution_count": 64,
   "metadata": {
    "ExecuteTime": {
     "end_time": "2021-03-03T03:44:24.453837Z",
     "start_time": "2021-03-03T03:44:24.445884Z"
    }
   },
   "outputs": [
    {
     "ename": "ProgrammingError",
     "evalue": "Cannot operate on a closed database.",
     "output_type": "error",
     "traceback": [
      "\u001b[1;31m---------------------------------------------------------------------------\u001b[0m",
      "\u001b[1;31mProgrammingError\u001b[0m                          Traceback (most recent call last)",
      "\u001b[1;32m<ipython-input-64-bcf77f1a4cb7>\u001b[0m in \u001b[0;36m<module>\u001b[1;34m\u001b[0m\n\u001b[1;32m----> 1\u001b[1;33m \u001b[0mcursor\u001b[0m\u001b[1;33m.\u001b[0m\u001b[0mclose\u001b[0m\u001b[1;33m(\u001b[0m\u001b[1;33m)\u001b[0m\u001b[1;33m\u001b[0m\u001b[1;33m\u001b[0m\u001b[0m\n\u001b[0m\u001b[0;32m      2\u001b[0m \u001b[0mconn\u001b[0m\u001b[1;33m.\u001b[0m\u001b[0mclose\u001b[0m\u001b[1;33m(\u001b[0m\u001b[1;33m)\u001b[0m\u001b[1;33m\u001b[0m\u001b[1;33m\u001b[0m\u001b[0m\n",
      "\u001b[1;31mProgrammingError\u001b[0m: Cannot operate on a closed database."
     ]
    }
   ],
   "source": [
    "cursor.close()\n",
    "conn.close()"
   ]
  },
  {
   "cell_type": "markdown",
   "metadata": {},
   "source": [
    "# 2절. Oracle DB 연결"
   ]
  },
  {
   "cell_type": "code",
   "execution_count": 2,
   "metadata": {
    "ExecuteTime": {
     "end_time": "2021-03-03T06:00:00.835145Z",
     "start_time": "2021-03-03T06:00:00.822200Z"
    }
   },
   "outputs": [
    {
     "data": {
      "text/plain": [
       "'(DESCRIPTION=(ADDRESS=(PROTOCOL=TCP)(HOST=localhost)(PORT=1521))(CONNECT_DATA=(SID=xe)))'"
      ]
     },
     "execution_count": 2,
     "metadata": {},
     "output_type": "execute_result"
    }
   ],
   "source": [
    "# 데이터 베이스 설정(DBMS가 있는 서버 주소, 포트번호, sid 들을 설정)\n",
    "import cx_Oracle\n",
    "oracle_dsn = cx_Oracle.makedsn(host='localhost', port=1521, sid='xe')\n",
    "oracle_dsn"
   ]
  },
  {
   "cell_type": "code",
   "execution_count": 60,
   "metadata": {
    "ExecuteTime": {
     "end_time": "2021-03-03T03:41:58.195086Z",
     "start_time": "2021-03-03T03:41:58.175152Z"
    }
   },
   "outputs": [
    {
     "data": {
      "text/plain": [
       "<cx_Oracle.Connection to scott@(DESCRIPTION=(ADDRESS=(PROTOCOL=TCP)(HOST=localhost)(PORT=1521))(CONNECT_DATA=(SID=xe)))>"
      ]
     },
     "execution_count": 60,
     "metadata": {},
     "output_type": "execute_result"
    }
   ],
   "source": [
    "conn = cx_Oracle.connect(dsn=oracle_dsn, user='scott', password='tiger')\n",
    "conn"
   ]
  },
  {
   "cell_type": "code",
   "execution_count": 46,
   "metadata": {
    "ExecuteTime": {
     "end_time": "2021-03-03T03:21:29.155447Z",
     "start_time": "2021-03-03T03:21:29.025790Z"
    }
   },
   "outputs": [],
   "source": [
    "conn.close()"
   ]
  },
  {
   "cell_type": "code",
   "execution_count": 74,
   "metadata": {
    "ExecuteTime": {
     "end_time": "2021-03-03T03:52:29.354146Z",
     "start_time": "2021-03-03T03:52:29.334178Z"
    }
   },
   "outputs": [],
   "source": [
    "# 1. conn 얻어오는 방법 (1)\n",
    "oracle_dsn = cx_Oracle.makedsn(host='localhost', port=1521, sid='xe')\n",
    "conn = cx_Oracle.connect(dsn=oracle_dsn, user='scott', password='tiger')"
   ]
  },
  {
   "cell_type": "code",
   "execution_count": 56,
   "metadata": {
    "ExecuteTime": {
     "end_time": "2021-03-03T03:41:15.363286Z",
     "start_time": "2021-03-03T03:41:15.358298Z"
    }
   },
   "outputs": [],
   "source": [
    "conn.close()"
   ]
  },
  {
   "cell_type": "code",
   "execution_count": 3,
   "metadata": {
    "ExecuteTime": {
     "end_time": "2021-03-03T06:00:03.675723Z",
     "start_time": "2021-03-03T06:00:03.350064Z"
    }
   },
   "outputs": [
    {
     "data": {
      "text/plain": [
       "<cx_Oracle.Connection to scott@localhost:1521/xe>"
      ]
     },
     "execution_count": 3,
     "metadata": {},
     "output_type": "execute_result"
    }
   ],
   "source": [
    "# 2. conn 얻어오는 방법 (2)\n",
    "conn = cx_Oracle.connect(\"scott\",\"tiger\",\"localhost:1521/xe\")\n",
    "conn"
   ]
  },
  {
   "cell_type": "code",
   "execution_count": 6,
   "metadata": {
    "ExecuteTime": {
     "end_time": "2021-03-03T06:00:56.208520Z",
     "start_time": "2021-03-03T06:00:56.205555Z"
    }
   },
   "outputs": [],
   "source": [
    "# cussor 얻어오기\n",
    "cursor = conn.cursor()"
   ]
  },
  {
   "cell_type": "code",
   "execution_count": 7,
   "metadata": {
    "ExecuteTime": {
     "end_time": "2021-03-03T06:00:59.442830Z",
     "start_time": "2021-03-03T06:00:59.438830Z"
    }
   },
   "outputs": [],
   "source": [
    "sql = \"SELECT * FROM EMP\"\n",
    "cursor.execute(sql)\n",
    "emp = cursor.fetchall()"
   ]
  },
  {
   "cell_type": "code",
   "execution_count": 8,
   "metadata": {
    "ExecuteTime": {
     "end_time": "2021-03-03T06:01:03.488484Z",
     "start_time": "2021-03-03T06:01:02.045533Z"
    }
   },
   "outputs": [
    {
     "name": "stdout",
     "output_type": "stream",
     "text": [
      "검색하고자 하는 부서 번호는 ?10\n",
      "(7782, 'CLARK', 'MANAGER', 7839, datetime.datetime(1981, 6, 9, 0, 0), 2450.0, None, 10)\n",
      "(7839, 'KING', 'PRESIDENT', None, datetime.datetime(1981, 11, 17, 0, 0), 5000.0, None, 10)\n",
      "(7934, 'MILLER', 'CLERK', 7782, datetime.datetime(1982, 1, 23, 0, 0), 1300.0, None, 10)\n"
     ]
    }
   ],
   "source": [
    "sql = \"SELECT * FROM EMP WHERE DEPTNO=:deptno\"\n",
    "deptno = input('검색하고자 하는 부서 번호는 ?')\n",
    "cursor.execute(sql, {'deptno':deptno})\n",
    "\n",
    "for emp in cursor:\n",
    "    print(emp)"
   ]
  },
  {
   "cell_type": "code",
   "execution_count": 9,
   "metadata": {
    "ExecuteTime": {
     "end_time": "2021-03-03T06:01:06.959497Z",
     "start_time": "2021-03-03T06:01:05.718277Z"
    }
   },
   "outputs": [
    {
     "name": "stdout",
     "output_type": "stream",
     "text": [
      "검색하고자 하는 부서 번호는 ?20\n",
      "(7369, 'SMITH', 'CLERK', 7902, datetime.datetime(1980, 12, 17, 0, 0), 800.0, None, 20)\n",
      "(7566, 'JONES', 'MANAGER', 7839, datetime.datetime(1981, 4, 2, 0, 0), 2975.0, None, 20)\n",
      "(7788, 'SCOTT', 'ANALYST', 7566, datetime.datetime(1982, 12, 9, 0, 0), 3000.0, None, 20)\n",
      "(7876, 'ADAMS', 'CLERK', 7788, datetime.datetime(1983, 1, 12, 0, 0), 1100.0, None, 20)\n",
      "(7902, 'FORD', 'ANALYST', 7566, datetime.datetime(1981, 12, 3, 0, 0), 3000.0, None, 20)\n"
     ]
    }
   ],
   "source": [
    "sql = \"SELECT * FROM EMP WHERE DEPTNO=:deptno\"\n",
    "deptno = input('검색하고자 하는 부서 번호는 ?')\n",
    "cursor.execute(sql, {'deptno':deptno})\n",
    "\n",
    "emp = cursor.fetchall()\n",
    "if len(emp)==0 :\n",
    "    print('입력하신 부서번호의 데이터가 없습니다.')\n",
    "else:\n",
    "    for e in emp:\n",
    "        print(e)"
   ]
  },
  {
   "cell_type": "code",
   "execution_count": 76,
   "metadata": {
    "ExecuteTime": {
     "end_time": "2021-03-03T03:52:40.267876Z",
     "start_time": "2021-03-03T03:52:40.245937Z"
    }
   },
   "outputs": [
    {
     "data": {
      "text/html": [
       "<div>\n",
       "<style scoped>\n",
       "    .dataframe tbody tr th:only-of-type {\n",
       "        vertical-align: middle;\n",
       "    }\n",
       "\n",
       "    .dataframe tbody tr th {\n",
       "        vertical-align: top;\n",
       "    }\n",
       "\n",
       "    .dataframe thead th {\n",
       "        text-align: right;\n",
       "    }\n",
       "</style>\n",
       "<table border=\"1\" class=\"dataframe\">\n",
       "  <thead>\n",
       "    <tr style=\"text-align: right;\">\n",
       "      <th></th>\n",
       "      <th>0</th>\n",
       "      <th>1</th>\n",
       "      <th>2</th>\n",
       "      <th>3</th>\n",
       "      <th>4</th>\n",
       "      <th>5</th>\n",
       "      <th>6</th>\n",
       "      <th>7</th>\n",
       "    </tr>\n",
       "  </thead>\n",
       "  <tbody>\n",
       "    <tr>\n",
       "      <th>0</th>\n",
       "      <td>7369</td>\n",
       "      <td>SMITH</td>\n",
       "      <td>CLERK</td>\n",
       "      <td>7902.0</td>\n",
       "      <td>1980-12-17</td>\n",
       "      <td>800.0</td>\n",
       "      <td>NaN</td>\n",
       "      <td>20</td>\n",
       "    </tr>\n",
       "    <tr>\n",
       "      <th>1</th>\n",
       "      <td>7499</td>\n",
       "      <td>ALLEN</td>\n",
       "      <td>SALESMAN</td>\n",
       "      <td>7698.0</td>\n",
       "      <td>1981-02-20</td>\n",
       "      <td>1600.0</td>\n",
       "      <td>300.0</td>\n",
       "      <td>30</td>\n",
       "    </tr>\n",
       "    <tr>\n",
       "      <th>2</th>\n",
       "      <td>7521</td>\n",
       "      <td>WARD</td>\n",
       "      <td>SALESMAN</td>\n",
       "      <td>7698.0</td>\n",
       "      <td>1981-02-22</td>\n",
       "      <td>1250.0</td>\n",
       "      <td>500.0</td>\n",
       "      <td>30</td>\n",
       "    </tr>\n",
       "    <tr>\n",
       "      <th>3</th>\n",
       "      <td>7566</td>\n",
       "      <td>JONES</td>\n",
       "      <td>MANAGER</td>\n",
       "      <td>7839.0</td>\n",
       "      <td>1981-04-02</td>\n",
       "      <td>2975.0</td>\n",
       "      <td>NaN</td>\n",
       "      <td>20</td>\n",
       "    </tr>\n",
       "    <tr>\n",
       "      <th>4</th>\n",
       "      <td>7654</td>\n",
       "      <td>MARTIN</td>\n",
       "      <td>SALESMAN</td>\n",
       "      <td>7698.0</td>\n",
       "      <td>1981-09-28</td>\n",
       "      <td>1250.0</td>\n",
       "      <td>1400.0</td>\n",
       "      <td>30</td>\n",
       "    </tr>\n",
       "    <tr>\n",
       "      <th>5</th>\n",
       "      <td>7698</td>\n",
       "      <td>BLAKE</td>\n",
       "      <td>MANAGER</td>\n",
       "      <td>7839.0</td>\n",
       "      <td>1981-05-01</td>\n",
       "      <td>2850.0</td>\n",
       "      <td>NaN</td>\n",
       "      <td>30</td>\n",
       "    </tr>\n",
       "    <tr>\n",
       "      <th>6</th>\n",
       "      <td>7782</td>\n",
       "      <td>CLARK</td>\n",
       "      <td>MANAGER</td>\n",
       "      <td>7839.0</td>\n",
       "      <td>1981-06-09</td>\n",
       "      <td>2450.0</td>\n",
       "      <td>NaN</td>\n",
       "      <td>10</td>\n",
       "    </tr>\n",
       "    <tr>\n",
       "      <th>7</th>\n",
       "      <td>7788</td>\n",
       "      <td>SCOTT</td>\n",
       "      <td>ANALYST</td>\n",
       "      <td>7566.0</td>\n",
       "      <td>1982-12-09</td>\n",
       "      <td>3000.0</td>\n",
       "      <td>NaN</td>\n",
       "      <td>20</td>\n",
       "    </tr>\n",
       "    <tr>\n",
       "      <th>8</th>\n",
       "      <td>7839</td>\n",
       "      <td>KING</td>\n",
       "      <td>PRESIDENT</td>\n",
       "      <td>NaN</td>\n",
       "      <td>1981-11-17</td>\n",
       "      <td>5000.0</td>\n",
       "      <td>NaN</td>\n",
       "      <td>10</td>\n",
       "    </tr>\n",
       "    <tr>\n",
       "      <th>9</th>\n",
       "      <td>7844</td>\n",
       "      <td>TURNER</td>\n",
       "      <td>SALESMAN</td>\n",
       "      <td>7698.0</td>\n",
       "      <td>1981-09-08</td>\n",
       "      <td>1500.0</td>\n",
       "      <td>0.0</td>\n",
       "      <td>30</td>\n",
       "    </tr>\n",
       "    <tr>\n",
       "      <th>10</th>\n",
       "      <td>7876</td>\n",
       "      <td>ADAMS</td>\n",
       "      <td>CLERK</td>\n",
       "      <td>7788.0</td>\n",
       "      <td>1983-01-12</td>\n",
       "      <td>1100.0</td>\n",
       "      <td>NaN</td>\n",
       "      <td>20</td>\n",
       "    </tr>\n",
       "    <tr>\n",
       "      <th>11</th>\n",
       "      <td>7900</td>\n",
       "      <td>JAMES</td>\n",
       "      <td>CLERK</td>\n",
       "      <td>7698.0</td>\n",
       "      <td>1981-12-03</td>\n",
       "      <td>950.0</td>\n",
       "      <td>NaN</td>\n",
       "      <td>30</td>\n",
       "    </tr>\n",
       "    <tr>\n",
       "      <th>12</th>\n",
       "      <td>7902</td>\n",
       "      <td>FORD</td>\n",
       "      <td>ANALYST</td>\n",
       "      <td>7566.0</td>\n",
       "      <td>1981-12-03</td>\n",
       "      <td>3000.0</td>\n",
       "      <td>NaN</td>\n",
       "      <td>20</td>\n",
       "    </tr>\n",
       "    <tr>\n",
       "      <th>13</th>\n",
       "      <td>7934</td>\n",
       "      <td>MILLER</td>\n",
       "      <td>CLERK</td>\n",
       "      <td>7782.0</td>\n",
       "      <td>1982-01-23</td>\n",
       "      <td>1300.0</td>\n",
       "      <td>NaN</td>\n",
       "      <td>10</td>\n",
       "    </tr>\n",
       "  </tbody>\n",
       "</table>\n",
       "</div>"
      ],
      "text/plain": [
       "       0       1          2       3          4       5       6   7\n",
       "0   7369   SMITH      CLERK  7902.0 1980-12-17   800.0     NaN  20\n",
       "1   7499   ALLEN   SALESMAN  7698.0 1981-02-20  1600.0   300.0  30\n",
       "2   7521    WARD   SALESMAN  7698.0 1981-02-22  1250.0   500.0  30\n",
       "3   7566   JONES    MANAGER  7839.0 1981-04-02  2975.0     NaN  20\n",
       "4   7654  MARTIN   SALESMAN  7698.0 1981-09-28  1250.0  1400.0  30\n",
       "5   7698   BLAKE    MANAGER  7839.0 1981-05-01  2850.0     NaN  30\n",
       "6   7782   CLARK    MANAGER  7839.0 1981-06-09  2450.0     NaN  10\n",
       "7   7788   SCOTT    ANALYST  7566.0 1982-12-09  3000.0     NaN  20\n",
       "8   7839    KING  PRESIDENT     NaN 1981-11-17  5000.0     NaN  10\n",
       "9   7844  TURNER   SALESMAN  7698.0 1981-09-08  1500.0     0.0  30\n",
       "10  7876   ADAMS      CLERK  7788.0 1983-01-12  1100.0     NaN  20\n",
       "11  7900   JAMES      CLERK  7698.0 1981-12-03   950.0     NaN  30\n",
       "12  7902    FORD    ANALYST  7566.0 1981-12-03  3000.0     NaN  20\n",
       "13  7934  MILLER      CLERK  7782.0 1982-01-23  1300.0     NaN  10"
      ]
     },
     "execution_count": 76,
     "metadata": {},
     "output_type": "execute_result"
    }
   ],
   "source": [
    "import pandas as pd\n",
    "cursor.execute(\"SELECT * FROM EMP\")\n",
    "data = cursor.fetchall() # 튜플 리스트\n",
    "data_df = pd.DataFrame(data) # 데이터 프레임\n",
    "data_df"
   ]
  },
  {
   "cell_type": "code",
   "execution_count": 77,
   "metadata": {
    "ExecuteTime": {
     "end_time": "2021-03-03T03:52:43.450835Z",
     "start_time": "2021-03-03T03:52:43.444844Z"
    }
   },
   "outputs": [
    {
     "data": {
      "text/plain": [
       "[('EMPNO', <cx_Oracle.DbType DB_TYPE_NUMBER>, 5, None, 4, 0, 0),\n",
       " ('ENAME', <cx_Oracle.DbType DB_TYPE_VARCHAR>, 10, 10, None, None, 1),\n",
       " ('JOB', <cx_Oracle.DbType DB_TYPE_VARCHAR>, 9, 9, None, None, 1),\n",
       " ('MGR', <cx_Oracle.DbType DB_TYPE_NUMBER>, 5, None, 4, 0, 1),\n",
       " ('HIREDATE', <cx_Oracle.DbType DB_TYPE_DATE>, 23, None, None, None, 1),\n",
       " ('SAL', <cx_Oracle.DbType DB_TYPE_NUMBER>, 11, None, 7, 2, 1),\n",
       " ('COMM', <cx_Oracle.DbType DB_TYPE_NUMBER>, 11, None, 7, 2, 1),\n",
       " ('DEPTNO', <cx_Oracle.DbType DB_TYPE_NUMBER>, 3, None, 2, 0, 1)]"
      ]
     },
     "execution_count": 77,
     "metadata": {},
     "output_type": "execute_result"
    }
   ],
   "source": [
    "# 각 필드의 특정 정보(필드명, display_size, 내부크기, 정확도, scale, null)\n",
    "cursor.description"
   ]
  },
  {
   "cell_type": "code",
   "execution_count": 79,
   "metadata": {
    "ExecuteTime": {
     "end_time": "2021-03-03T03:53:13.105902Z",
     "start_time": "2021-03-03T03:53:13.100941Z"
    }
   },
   "outputs": [
    {
     "data": {
      "text/plain": [
       "['EMPNO', 'ENAME', 'JOB', 'MGR', 'HIREDATE', 'SAL', 'COMM', 'DEPTNO']"
      ]
     },
     "execution_count": 79,
     "metadata": {},
     "output_type": "execute_result"
    }
   ],
   "source": [
    "[row[0] for row in cursor.description]"
   ]
  },
  {
   "cell_type": "code",
   "execution_count": 81,
   "metadata": {
    "ExecuteTime": {
     "end_time": "2021-03-03T03:53:53.583830Z",
     "start_time": "2021-03-03T03:53:53.581832Z"
    }
   },
   "outputs": [],
   "source": [
    "data_df.columns = [row[0] for row in cursor.description]"
   ]
  },
  {
   "cell_type": "code",
   "execution_count": 82,
   "metadata": {
    "ExecuteTime": {
     "end_time": "2021-03-03T03:54:04.724974Z",
     "start_time": "2021-03-03T03:54:04.719987Z"
    }
   },
   "outputs": [
    {
     "data": {
      "text/plain": [
       "Index(['EMPNO', 'ENAME', 'JOB', 'MGR', 'HIREDATE', 'SAL', 'COMM', 'DEPTNO'], dtype='object')"
      ]
     },
     "execution_count": 82,
     "metadata": {},
     "output_type": "execute_result"
    }
   ],
   "source": [
    "data_df.columns"
   ]
  },
  {
   "cell_type": "code",
   "execution_count": 83,
   "metadata": {
    "ExecuteTime": {
     "end_time": "2021-03-03T03:54:29.910982Z",
     "start_time": "2021-03-03T03:54:29.893050Z"
    }
   },
   "outputs": [
    {
     "data": {
      "text/html": [
       "<div>\n",
       "<style scoped>\n",
       "    .dataframe tbody tr th:only-of-type {\n",
       "        vertical-align: middle;\n",
       "    }\n",
       "\n",
       "    .dataframe tbody tr th {\n",
       "        vertical-align: top;\n",
       "    }\n",
       "\n",
       "    .dataframe thead th {\n",
       "        text-align: right;\n",
       "    }\n",
       "</style>\n",
       "<table border=\"1\" class=\"dataframe\">\n",
       "  <thead>\n",
       "    <tr style=\"text-align: right;\">\n",
       "      <th></th>\n",
       "      <th>EMPNO</th>\n",
       "      <th>ENAME</th>\n",
       "      <th>JOB</th>\n",
       "      <th>MGR</th>\n",
       "      <th>HIREDATE</th>\n",
       "      <th>SAL</th>\n",
       "      <th>COMM</th>\n",
       "      <th>DEPTNO</th>\n",
       "    </tr>\n",
       "  </thead>\n",
       "  <tbody>\n",
       "    <tr>\n",
       "      <th>0</th>\n",
       "      <td>7369</td>\n",
       "      <td>SMITH</td>\n",
       "      <td>CLERK</td>\n",
       "      <td>7902.0</td>\n",
       "      <td>1980-12-17</td>\n",
       "      <td>800.0</td>\n",
       "      <td>NaN</td>\n",
       "      <td>20</td>\n",
       "    </tr>\n",
       "    <tr>\n",
       "      <th>1</th>\n",
       "      <td>7499</td>\n",
       "      <td>ALLEN</td>\n",
       "      <td>SALESMAN</td>\n",
       "      <td>7698.0</td>\n",
       "      <td>1981-02-20</td>\n",
       "      <td>1600.0</td>\n",
       "      <td>300.0</td>\n",
       "      <td>30</td>\n",
       "    </tr>\n",
       "    <tr>\n",
       "      <th>2</th>\n",
       "      <td>7521</td>\n",
       "      <td>WARD</td>\n",
       "      <td>SALESMAN</td>\n",
       "      <td>7698.0</td>\n",
       "      <td>1981-02-22</td>\n",
       "      <td>1250.0</td>\n",
       "      <td>500.0</td>\n",
       "      <td>30</td>\n",
       "    </tr>\n",
       "    <tr>\n",
       "      <th>3</th>\n",
       "      <td>7566</td>\n",
       "      <td>JONES</td>\n",
       "      <td>MANAGER</td>\n",
       "      <td>7839.0</td>\n",
       "      <td>1981-04-02</td>\n",
       "      <td>2975.0</td>\n",
       "      <td>NaN</td>\n",
       "      <td>20</td>\n",
       "    </tr>\n",
       "    <tr>\n",
       "      <th>4</th>\n",
       "      <td>7654</td>\n",
       "      <td>MARTIN</td>\n",
       "      <td>SALESMAN</td>\n",
       "      <td>7698.0</td>\n",
       "      <td>1981-09-28</td>\n",
       "      <td>1250.0</td>\n",
       "      <td>1400.0</td>\n",
       "      <td>30</td>\n",
       "    </tr>\n",
       "  </tbody>\n",
       "</table>\n",
       "</div>"
      ],
      "text/plain": [
       "   EMPNO   ENAME       JOB     MGR   HIREDATE     SAL    COMM  DEPTNO\n",
       "0   7369   SMITH     CLERK  7902.0 1980-12-17   800.0     NaN      20\n",
       "1   7499   ALLEN  SALESMAN  7698.0 1981-02-20  1600.0   300.0      30\n",
       "2   7521    WARD  SALESMAN  7698.0 1981-02-22  1250.0   500.0      30\n",
       "3   7566   JONES   MANAGER  7839.0 1981-04-02  2975.0     NaN      20\n",
       "4   7654  MARTIN  SALESMAN  7698.0 1981-09-28  1250.0  1400.0      30"
      ]
     },
     "execution_count": 83,
     "metadata": {},
     "output_type": "execute_result"
    }
   ],
   "source": [
    "data_df.head()"
   ]
  },
  {
   "cell_type": "code",
   "execution_count": 84,
   "metadata": {
    "ExecuteTime": {
     "end_time": "2021-03-03T03:54:47.022578Z",
     "start_time": "2021-03-03T03:54:47.004655Z"
    }
   },
   "outputs": [
    {
     "data": {
      "text/html": [
       "<div>\n",
       "<style scoped>\n",
       "    .dataframe tbody tr th:only-of-type {\n",
       "        vertical-align: middle;\n",
       "    }\n",
       "\n",
       "    .dataframe tbody tr th {\n",
       "        vertical-align: top;\n",
       "    }\n",
       "\n",
       "    .dataframe thead th {\n",
       "        text-align: right;\n",
       "    }\n",
       "</style>\n",
       "<table border=\"1\" class=\"dataframe\">\n",
       "  <thead>\n",
       "    <tr style=\"text-align: right;\">\n",
       "      <th></th>\n",
       "      <th>EMPNO</th>\n",
       "      <th>ENAME</th>\n",
       "      <th>JOB</th>\n",
       "      <th>MGR</th>\n",
       "      <th>HIREDATE</th>\n",
       "      <th>SAL</th>\n",
       "      <th>COMM</th>\n",
       "      <th>DEPTNO</th>\n",
       "    </tr>\n",
       "  </thead>\n",
       "  <tbody>\n",
       "    <tr>\n",
       "      <th>9</th>\n",
       "      <td>7844</td>\n",
       "      <td>TURNER</td>\n",
       "      <td>SALESMAN</td>\n",
       "      <td>7698.0</td>\n",
       "      <td>1981-09-08</td>\n",
       "      <td>1500.0</td>\n",
       "      <td>0.0</td>\n",
       "      <td>30</td>\n",
       "    </tr>\n",
       "    <tr>\n",
       "      <th>10</th>\n",
       "      <td>7876</td>\n",
       "      <td>ADAMS</td>\n",
       "      <td>CLERK</td>\n",
       "      <td>7788.0</td>\n",
       "      <td>1983-01-12</td>\n",
       "      <td>1100.0</td>\n",
       "      <td>NaN</td>\n",
       "      <td>20</td>\n",
       "    </tr>\n",
       "    <tr>\n",
       "      <th>11</th>\n",
       "      <td>7900</td>\n",
       "      <td>JAMES</td>\n",
       "      <td>CLERK</td>\n",
       "      <td>7698.0</td>\n",
       "      <td>1981-12-03</td>\n",
       "      <td>950.0</td>\n",
       "      <td>NaN</td>\n",
       "      <td>30</td>\n",
       "    </tr>\n",
       "    <tr>\n",
       "      <th>12</th>\n",
       "      <td>7902</td>\n",
       "      <td>FORD</td>\n",
       "      <td>ANALYST</td>\n",
       "      <td>7566.0</td>\n",
       "      <td>1981-12-03</td>\n",
       "      <td>3000.0</td>\n",
       "      <td>NaN</td>\n",
       "      <td>20</td>\n",
       "    </tr>\n",
       "    <tr>\n",
       "      <th>13</th>\n",
       "      <td>7934</td>\n",
       "      <td>MILLER</td>\n",
       "      <td>CLERK</td>\n",
       "      <td>7782.0</td>\n",
       "      <td>1982-01-23</td>\n",
       "      <td>1300.0</td>\n",
       "      <td>NaN</td>\n",
       "      <td>10</td>\n",
       "    </tr>\n",
       "  </tbody>\n",
       "</table>\n",
       "</div>"
      ],
      "text/plain": [
       "    EMPNO   ENAME       JOB     MGR   HIREDATE     SAL  COMM  DEPTNO\n",
       "9    7844  TURNER  SALESMAN  7698.0 1981-09-08  1500.0   0.0      30\n",
       "10   7876   ADAMS     CLERK  7788.0 1983-01-12  1100.0   NaN      20\n",
       "11   7900   JAMES     CLERK  7698.0 1981-12-03   950.0   NaN      30\n",
       "12   7902    FORD   ANALYST  7566.0 1981-12-03  3000.0   NaN      20\n",
       "13   7934  MILLER     CLERK  7782.0 1982-01-23  1300.0   NaN      10"
      ]
     },
     "execution_count": 84,
     "metadata": {},
     "output_type": "execute_result"
    }
   ],
   "source": [
    "data_df.tail()"
   ]
  },
  {
   "cell_type": "code",
   "execution_count": 10,
   "metadata": {
    "ExecuteTime": {
     "end_time": "2021-03-03T06:01:20.745485Z",
     "start_time": "2021-03-03T06:01:20.740478Z"
    }
   },
   "outputs": [],
   "source": [
    "cursor.close()\n",
    "conn.close()"
   ]
  },
  {
   "cell_type": "markdown",
   "metadata": {},
   "source": [
    "# 3절. Maria DB 연결"
   ]
  },
  {
   "cell_type": "code",
   "execution_count": 87,
   "metadata": {
    "ExecuteTime": {
     "end_time": "2021-03-03T04:09:28.882025Z",
     "start_time": "2021-03-03T04:09:28.564065Z"
    }
   },
   "outputs": [],
   "source": [
    "import pymysql"
   ]
  },
  {
   "cell_type": "code",
   "execution_count": 89,
   "metadata": {
    "ExecuteTime": {
     "end_time": "2021-03-03T04:11:48.497484Z",
     "start_time": "2021-03-03T04:11:48.490503Z"
    }
   },
   "outputs": [
    {
     "data": {
      "text/plain": [
       "<pymysql.connections.Connection at 0x19f5ee83700>"
      ]
     },
     "execution_count": 89,
     "metadata": {},
     "output_type": "execute_result"
    }
   ],
   "source": [
    "conn = pymysql.connect(host=\"localhost\",\n",
    "                      port=3306,\n",
    "                      db=\"kimdb\",\n",
    "                      user=\"root\", passwd=\"mysql\",\n",
    "                      charset=\"utf8\", autocommit=True)\n",
    "conn"
   ]
  },
  {
   "cell_type": "code",
   "execution_count": 91,
   "metadata": {
    "ExecuteTime": {
     "end_time": "2021-03-03T04:14:21.033244Z",
     "start_time": "2021-03-03T04:14:21.027280Z"
    }
   },
   "outputs": [
    {
     "name": "stdout",
     "output_type": "stream",
     "text": [
      "(1001, 'bill', 'president', None, datetime.date(1989, 1, 10), 7000, None, 10)\n",
      "(1111, 'smith', 'manager', 1001, datetime.date(1990, 12, 17), 1000, None, 10)\n",
      "(1112, 'ally', 'salesman', 1116, datetime.date(1991, 2, 20), 1600, 500, 30)\n",
      "(1113, 'word', 'salesman', 1116, datetime.date(1992, 2, 24), 1450, 300, 30)\n",
      "(1114, 'james', 'manager', 1001, datetime.date(1990, 4, 12), 3975, None, 20)\n",
      "(1116, 'johnson', 'manager', 1001, datetime.date(1991, 5, 1), 3550, None, 30)\n",
      "(1118, 'martin', 'analyst', 1111, datetime.date(1991, 9, 9), 3450, None, 10)\n",
      "(1121, 'kim', 'clerk', 1114, datetime.date(1990, 12, 8), 4000, None, 20)\n",
      "(1123, 'lee', 'salesman', 1116, datetime.date(1991, 9, 23), 1200, 0, 30)\n",
      "(1226, 'park', 'analyst', 1111, datetime.date(1990, 1, 3), 2500, None, 10)\n"
     ]
    }
   ],
   "source": [
    "cursor = conn.cursor()\n",
    "sql = \"SELECT * FROM PERSONAL\"\n",
    "cursor.execute(sql)\n",
    "result = cursor.fetchall()\n",
    "for r in result:\n",
    "    print(r)"
   ]
  },
  {
   "cell_type": "code",
   "execution_count": 92,
   "metadata": {
    "ExecuteTime": {
     "end_time": "2021-03-03T04:15:30.598275Z",
     "start_time": "2021-03-03T04:15:30.570349Z"
    }
   },
   "outputs": [
    {
     "data": {
      "text/html": [
       "<div>\n",
       "<style scoped>\n",
       "    .dataframe tbody tr th:only-of-type {\n",
       "        vertical-align: middle;\n",
       "    }\n",
       "\n",
       "    .dataframe tbody tr th {\n",
       "        vertical-align: top;\n",
       "    }\n",
       "\n",
       "    .dataframe thead th {\n",
       "        text-align: right;\n",
       "    }\n",
       "</style>\n",
       "<table border=\"1\" class=\"dataframe\">\n",
       "  <thead>\n",
       "    <tr style=\"text-align: right;\">\n",
       "      <th></th>\n",
       "      <th>pno</th>\n",
       "      <th>pname</th>\n",
       "      <th>job</th>\n",
       "      <th>manager</th>\n",
       "      <th>startdate</th>\n",
       "      <th>pay</th>\n",
       "      <th>bonus</th>\n",
       "      <th>dno</th>\n",
       "    </tr>\n",
       "  </thead>\n",
       "  <tbody>\n",
       "    <tr>\n",
       "      <th>0</th>\n",
       "      <td>1001</td>\n",
       "      <td>bill</td>\n",
       "      <td>president</td>\n",
       "      <td>NaN</td>\n",
       "      <td>1989-01-10</td>\n",
       "      <td>7000</td>\n",
       "      <td>NaN</td>\n",
       "      <td>10</td>\n",
       "    </tr>\n",
       "    <tr>\n",
       "      <th>1</th>\n",
       "      <td>1111</td>\n",
       "      <td>smith</td>\n",
       "      <td>manager</td>\n",
       "      <td>1001.0</td>\n",
       "      <td>1990-12-17</td>\n",
       "      <td>1000</td>\n",
       "      <td>NaN</td>\n",
       "      <td>10</td>\n",
       "    </tr>\n",
       "    <tr>\n",
       "      <th>2</th>\n",
       "      <td>1112</td>\n",
       "      <td>ally</td>\n",
       "      <td>salesman</td>\n",
       "      <td>1116.0</td>\n",
       "      <td>1991-02-20</td>\n",
       "      <td>1600</td>\n",
       "      <td>500.0</td>\n",
       "      <td>30</td>\n",
       "    </tr>\n",
       "    <tr>\n",
       "      <th>3</th>\n",
       "      <td>1113</td>\n",
       "      <td>word</td>\n",
       "      <td>salesman</td>\n",
       "      <td>1116.0</td>\n",
       "      <td>1992-02-24</td>\n",
       "      <td>1450</td>\n",
       "      <td>300.0</td>\n",
       "      <td>30</td>\n",
       "    </tr>\n",
       "    <tr>\n",
       "      <th>4</th>\n",
       "      <td>1114</td>\n",
       "      <td>james</td>\n",
       "      <td>manager</td>\n",
       "      <td>1001.0</td>\n",
       "      <td>1990-04-12</td>\n",
       "      <td>3975</td>\n",
       "      <td>NaN</td>\n",
       "      <td>20</td>\n",
       "    </tr>\n",
       "    <tr>\n",
       "      <th>5</th>\n",
       "      <td>1116</td>\n",
       "      <td>johnson</td>\n",
       "      <td>manager</td>\n",
       "      <td>1001.0</td>\n",
       "      <td>1991-05-01</td>\n",
       "      <td>3550</td>\n",
       "      <td>NaN</td>\n",
       "      <td>30</td>\n",
       "    </tr>\n",
       "    <tr>\n",
       "      <th>6</th>\n",
       "      <td>1118</td>\n",
       "      <td>martin</td>\n",
       "      <td>analyst</td>\n",
       "      <td>1111.0</td>\n",
       "      <td>1991-09-09</td>\n",
       "      <td>3450</td>\n",
       "      <td>NaN</td>\n",
       "      <td>10</td>\n",
       "    </tr>\n",
       "    <tr>\n",
       "      <th>7</th>\n",
       "      <td>1121</td>\n",
       "      <td>kim</td>\n",
       "      <td>clerk</td>\n",
       "      <td>1114.0</td>\n",
       "      <td>1990-12-08</td>\n",
       "      <td>4000</td>\n",
       "      <td>NaN</td>\n",
       "      <td>20</td>\n",
       "    </tr>\n",
       "    <tr>\n",
       "      <th>8</th>\n",
       "      <td>1123</td>\n",
       "      <td>lee</td>\n",
       "      <td>salesman</td>\n",
       "      <td>1116.0</td>\n",
       "      <td>1991-09-23</td>\n",
       "      <td>1200</td>\n",
       "      <td>0.0</td>\n",
       "      <td>30</td>\n",
       "    </tr>\n",
       "    <tr>\n",
       "      <th>9</th>\n",
       "      <td>1226</td>\n",
       "      <td>park</td>\n",
       "      <td>analyst</td>\n",
       "      <td>1111.0</td>\n",
       "      <td>1990-01-03</td>\n",
       "      <td>2500</td>\n",
       "      <td>NaN</td>\n",
       "      <td>10</td>\n",
       "    </tr>\n",
       "  </tbody>\n",
       "</table>\n",
       "</div>"
      ],
      "text/plain": [
       "    pno    pname        job  manager   startdate   pay  bonus  dno\n",
       "0  1001     bill  president      NaN  1989-01-10  7000    NaN   10\n",
       "1  1111    smith    manager   1001.0  1990-12-17  1000    NaN   10\n",
       "2  1112     ally   salesman   1116.0  1991-02-20  1600  500.0   30\n",
       "3  1113     word   salesman   1116.0  1992-02-24  1450  300.0   30\n",
       "4  1114    james    manager   1001.0  1990-04-12  3975    NaN   20\n",
       "5  1116  johnson    manager   1001.0  1991-05-01  3550    NaN   30\n",
       "6  1118   martin    analyst   1111.0  1991-09-09  3450    NaN   10\n",
       "7  1121      kim      clerk   1114.0  1990-12-08  4000    NaN   20\n",
       "8  1123      lee   salesman   1116.0  1991-09-23  1200    0.0   30\n",
       "9  1226     park    analyst   1111.0  1990-01-03  2500    NaN   10"
      ]
     },
     "execution_count": 92,
     "metadata": {},
     "output_type": "execute_result"
    }
   ],
   "source": [
    "personal = pd.DataFrame(result)\n",
    "personal.columns = [row[0] for row in cursor.description]\n",
    "personal"
   ]
  },
  {
   "cell_type": "code",
   "execution_count": 93,
   "metadata": {
    "ExecuteTime": {
     "end_time": "2021-03-03T04:16:03.958193Z",
     "start_time": "2021-03-03T04:16:03.954203Z"
    }
   },
   "outputs": [],
   "source": [
    "cursor.close()\n",
    "conn.close()"
   ]
  }
 ],
 "metadata": {
  "kernelspec": {
   "display_name": "Python 3",
   "language": "python",
   "name": "python3"
  },
  "language_info": {
   "codemirror_mode": {
    "name": "ipython",
    "version": 3
   },
   "file_extension": ".py",
   "mimetype": "text/x-python",
   "name": "python",
   "nbconvert_exporter": "python",
   "pygments_lexer": "ipython3",
   "version": "3.8.3"
  },
  "toc": {
   "base_numbering": 1,
   "nav_menu": {},
   "number_sections": false,
   "sideBar": true,
   "skip_h1_title": false,
   "title_cell": "Table of Contents",
   "title_sidebar": "Contents",
   "toc_cell": false,
   "toc_position": {
    "height": "830px",
    "left": "75px",
    "top": "315.622px",
    "width": "240px"
   },
   "toc_section_display": true,
   "toc_window_display": false
  },
  "varInspector": {
   "cols": {
    "lenName": 16,
    "lenType": 16,
    "lenVar": 40
   },
   "kernels_config": {
    "python": {
     "delete_cmd_postfix": "",
     "delete_cmd_prefix": "del ",
     "library": "var_list.py",
     "varRefreshCmd": "print(var_dic_list())"
    },
    "r": {
     "delete_cmd_postfix": ") ",
     "delete_cmd_prefix": "rm(",
     "library": "var_list.r",
     "varRefreshCmd": "cat(var_dic_list()) "
    }
   },
   "types_to_exclude": [
    "module",
    "function",
    "builtin_function_or_method",
    "instance",
    "_Feature"
   ],
   "window_display": false
  }
 },
 "nbformat": 4,
 "nbformat_minor": 4
}
