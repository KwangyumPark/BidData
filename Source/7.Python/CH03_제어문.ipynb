{
 "cells": [
  {
   "cell_type": "markdown",
   "metadata": {},
   "source": [
    "21.02.23 Python 제어문"
   ]
  },
  {
   "cell_type": "markdown",
   "metadata": {},
   "source": [
    "# 4장. 제어문\n",
    "- if, for, in, while, 중첩 가능, 중첩루프 탈출"
   ]
  },
  {
   "cell_type": "markdown",
   "metadata": {},
   "source": [
    "## 1절. 조건문"
   ]
  },
  {
   "cell_type": "code",
   "execution_count": 4,
   "metadata": {
    "ExecuteTime": {
     "end_time": "2021-02-23T05:40:49.414940Z",
     "start_time": "2021-02-23T05:40:45.732539Z"
    }
   },
   "outputs": [
    {
     "name": "stdout",
     "output_type": "stream",
     "text": [
      "Enter your score : 50\n",
      "분발하세요.\n",
      "점수를 입력받아 잘한 사람 출력\n"
     ]
    }
   ],
   "source": [
    "score = int(input('Enter your score : '))\n",
    "\n",
    "if score >= 90:\n",
    "    print('참 잘했어요.')\n",
    "    print('다음에도 기대 할께요.')\n",
    "else:\n",
    "    print('분발하세요.')\n",
    "    \n",
    "print('점수를 입력받아 점수 출력 출력')"
   ]
  },
  {
   "cell_type": "code",
   "execution_count": 5,
   "metadata": {
    "ExecuteTime": {
     "end_time": "2021-02-23T05:57:21.860856Z",
     "start_time": "2021-02-23T05:57:19.499464Z"
    }
   },
   "outputs": [
    {
     "name": "stdout",
     "output_type": "stream",
     "text": [
      "Enter your score : 90\n",
      "입력한 점수는 90 이고 학점은 A 입니다.\n"
     ]
    }
   ],
   "source": [
    "score = int(input('Enter your score : '))\n",
    "\n",
    "if 90 <= score <= 100:\n",
    "    grade = 'A'\n",
    "elif 80 <= score < 90:\n",
    "    grade = 'B'\n",
    "elif 70 <= score < 80:\n",
    "    grade = 'C'\n",
    "elif 60 <= score < 70:\n",
    "    grade = 'D'\n",
    "elif 0 <= score < 60:\n",
    "    grade = 'F'\n",
    "else:\n",
    "    grade = '유효하지 않는 점수 입니다.'\n",
    "    \n",
    "print('입력한 점수는 {} 이고 학점은 {} 입니다.'.format(score, grade))"
   ]
  },
  {
   "cell_type": "markdown",
   "metadata": {},
   "source": [
    "## 2절. 반복문"
   ]
  },
  {
   "cell_type": "markdown",
   "metadata": {},
   "source": [
    "### 2.1 for-in\n",
    "- for 변수 in 나열 가능한 자료:\n",
    "      반복할 문장1\n",
    "      반복할 문장2\n",
    "  else:\n",
    "      선택사항 문장"
   ]
  },
  {
   "cell_type": "code",
   "execution_count": 6,
   "metadata": {
    "ExecuteTime": {
     "end_time": "2021-02-23T06:18:17.198789Z",
     "start_time": "2021-02-23T06:18:17.194809Z"
    }
   },
   "outputs": [
    {
     "name": "stdout",
     "output_type": "stream",
     "text": [
      "1\t3\t5\t7\t9\tDONE\n"
     ]
    }
   ],
   "source": [
    "for i in range(1,10,2):\n",
    "    print(i, end='\\t')\n",
    "else:\n",
    "    print('DONE')"
   ]
  },
  {
   "cell_type": "markdown",
   "metadata": {},
   "source": [
    "### 2.2 while\n",
    "- while 조건 :\n",
    "-    반복할 문장 1\n",
    "-    반복할 문장 2\n",
    "- else:\n",
    "     조건이 거짓일 때 실행할 문장\n",
    "- else 구문은 선택사항\n",
    "- 무한 반복문이 실행되지 않도록 주의"
   ]
  },
  {
   "cell_type": "code",
   "execution_count": 8,
   "metadata": {
    "ExecuteTime": {
     "end_time": "2021-02-23T06:32:33.748148Z",
     "start_time": "2021-02-23T06:32:33.743161Z"
    }
   },
   "outputs": [
    {
     "name": "stdout",
     "output_type": "stream",
     "text": [
      "0\t1\t2\t3\t4\t5\t6\t7\t8\t9\ti값이 10이라서 빠져나감\n"
     ]
    }
   ],
   "source": [
    "i = 0\n",
    "\n",
    "while i < 10:\n",
    "    print(i, end='\\t')\n",
    "    i += 1\n",
    "else:\n",
    "    print('i값이 {}이라서 빠져나감'.format(i))"
   ]
  },
  {
   "cell_type": "code",
   "execution_count": 9,
   "metadata": {
    "ExecuteTime": {
     "end_time": "2021-02-23T06:37:43.933540Z",
     "start_time": "2021-02-23T06:37:43.916803Z"
    }
   },
   "outputs": [
    {
     "name": "stdout",
     "output_type": "stream",
     "text": [
      "1부타 100까지 짝수의 합은 :  49\n"
     ]
    }
   ],
   "source": [
    "# 1~100 까지의 짝수의 합\n",
    "sum = 0\n",
    "i = 1\n",
    "\n",
    "while i < 100:\n",
    "    if i%2 == 0:\n",
    "        sum += 1\n",
    "    i += 1\n",
    "else:\n",
    "    print(\"1부터 100까지 짝수의 합은 : \", sum)"
   ]
  },
  {
   "cell_type": "markdown",
   "metadata": {},
   "source": [
    "### 2.3 break, continue"
   ]
  },
  {
   "cell_type": "code",
   "execution_count": 10,
   "metadata": {
    "ExecuteTime": {
     "end_time": "2021-02-23T06:40:10.777610Z",
     "start_time": "2021-02-23T06:40:10.773620Z"
    }
   },
   "outputs": [
    {
     "name": "stdout",
     "output_type": "stream",
     "text": [
      "1 2 3 4 "
     ]
    }
   ],
   "source": [
    "num = 0\n",
    "\n",
    "while num <= 10:\n",
    "    num += 1\n",
    "    if num == 5:\n",
    "        break; # 현재 반복문을 빠져나감\n",
    "    print(num, end= ' ')"
   ]
  },
  {
   "cell_type": "code",
   "execution_count": 11,
   "metadata": {
    "ExecuteTime": {
     "end_time": "2021-02-23T06:40:33.161271Z",
     "start_time": "2021-02-23T06:40:33.157303Z"
    }
   },
   "outputs": [
    {
     "name": "stdout",
     "output_type": "stream",
     "text": [
      "1 2 3 4 6 7 8 9 10 11 "
     ]
    }
   ],
   "source": [
    "num = 0\n",
    "\n",
    "while num <= 10:\n",
    "    num += 1\n",
    "    if num == 5:\n",
    "        continue; # 반복문의 조건으로 감\n",
    "    print(num, end= ' ')"
   ]
  },
  {
   "cell_type": "code",
   "execution_count": 22,
   "metadata": {
    "ExecuteTime": {
     "end_time": "2021-02-23T07:01:17.908436Z",
     "start_time": "2021-02-23T07:00:43.700929Z"
    },
    "code_folding": []
   },
   "outputs": [
    {
     "name": "stdout",
     "output_type": "stream",
     "text": [
      "0 ~ 100 사이의 수를 맞춰 보세요\n",
      "50\n",
      "더 작은 수를 입력 하세요.\n",
      "0 ~ 100 사이의 수를 맞춰 보세요\n",
      "30\n",
      "더 작은 수를 입력 하세요.\n",
      "0 ~ 100 사이의 수를 맞춰 보세요\n",
      "20\n",
      "더 큰수를 입력하세요.\n",
      "0 ~ 100 사이의 수를 맞춰 보세요\n",
      "10\n",
      "더 큰수를 입력하세요.\n",
      "0 ~ 100 사이의 수를 맞춰 보세요\n",
      "15\n",
      "더 큰수를 입력하세요.\n",
      "0 ~ 100 사이의 수를 맞춰 보세요\n",
      "18\n",
      "더 큰수를 입력하세요.\n",
      "0 ~ 100 사이의 수를 맞춰 보세요\n",
      "19\n",
      "더 큰수를 입력하세요.\n",
      "0 ~ 100 사이의 수를 맞춰 보세요\n",
      "20\n",
      "더 큰수를 입력하세요.\n",
      "0 ~ 100 사이의 수를 맞춰 보세요\n",
      "25\n",
      "더 작은 수를 입력 하세요.\n",
      "0 ~ 100 사이의 수를 맞춰 보세요\n",
      "24\n",
      "더 작은 수를 입력 하세요.\n",
      "0 ~ 100 사이의 수를 맞춰 보세요\n",
      "23\n",
      "더 작은 수를 입력 하세요.\n",
      "0 ~ 100 사이의 수를 맞춰 보세요\n",
      "22\n",
      "정답입니다. 축하합니다.\n"
     ]
    }
   ],
   "source": [
    "# 숫자 찾기 게임\n",
    "'''\n",
    "1 ~ 100 사이의 숫자를 맞추는 프로그램을 제작 하세요.\n",
    "(프로그램 안에서 임의의 숫자가 만들어지고, 입력한 숫자와 비교하여 출력에서는\n",
    "결과값과 비교하여 up, down을 알려주고, 최종적으로 맞출 때까지 실행)\n",
    "'''\n",
    "\n",
    "min = 1\n",
    "max = 100\n",
    "randomNum = random.randint(min, max)\n",
    "print('비밀이야',randomNum)\n",
    "inputNum = 0\n",
    "while randomNum != inputNum :\n",
    "    print(min, '~', max, '사이의 컴퓨터가 선택한 특정 수를 맞춰보세요 : ')\n",
    "    inputNum = int(input())\n",
    "    if randomNum < inputNum:\n",
    "        max = inputNum -1\n",
    "        print('당신이 입력한 수보다 작은 수예요(DOWN)')\n",
    "    elif inputNum < randomNum:\n",
    "        min = inputNum +1\n",
    "        print('당신이 입력한 수보다 큰 수예요(UP)')\n",
    "    else :\n",
    "        print(\"축하 축하 맞추셨어요\")\n"
   ]
  },
  {
   "cell_type": "markdown",
   "metadata": {},
   "source": [
    "## 3절. 중첩루프(반복문 안의 반복문)\n",
    "- 2 이상의 데이터 구조는 모든 항목들을 처리하기 위해 사용"
   ]
  },
  {
   "cell_type": "code",
   "execution_count": 23,
   "metadata": {
    "ExecuteTime": {
     "end_time": "2021-02-23T07:05:43.173966Z",
     "start_time": "2021-02-23T07:05:43.169976Z"
    }
   },
   "outputs": [
    {
     "name": "stdout",
     "output_type": "stream",
     "text": [
      "[[1, 2, 3, 4, 5], [10, 20, 30, 40], [11, 22, 33, 44]]\n"
     ]
    }
   ],
   "source": [
    "list_2d = [[1,2,3,4,5],\n",
    "          [10,20,30,40],\n",
    "          [11,22,33,44]]\n",
    "print(list_2d)"
   ]
  },
  {
   "cell_type": "code",
   "execution_count": 24,
   "metadata": {
    "ExecuteTime": {
     "end_time": "2021-02-23T07:08:28.325761Z",
     "start_time": "2021-02-23T07:08:28.320774Z"
    }
   },
   "outputs": [
    {
     "name": "stdout",
     "output_type": "stream",
     "text": [
      "0행 0열 : 1\t0행 1열 : 2\t0행 2열 : 3\t0행 3열 : 4\t0행 4열 : 5\t\n",
      "1행 0열 : 10\t1행 1열 : 20\t1행 2열 : 30\t1행 3열 : 40\t\n",
      "2행 0열 : 11\t2행 1열 : 22\t2행 2열 : 33\t2행 3열 : 44\t\n"
     ]
    }
   ],
   "source": [
    "for i in range(len(list_2d)):\n",
    "    for j in range(len(list_2d[i])):\n",
    "        print(\"{}행 {}열 : {}\".format(i, j, list_2d[i][j]), end='\\t')\n",
    "    print()"
   ]
  },
  {
   "cell_type": "code",
   "execution_count": 25,
   "metadata": {
    "ExecuteTime": {
     "end_time": "2021-02-23T07:10:33.173798Z",
     "start_time": "2021-02-23T07:10:33.169809Z"
    }
   },
   "outputs": [
    {
     "name": "stdout",
     "output_type": "stream",
     "text": [
      "2행 0열 : 1\t2행 1열 : 2\t2행 2열 : 3\t2행 3열 : 4\t2행 4열 : 5\t2행 0열 : 10\t2행 1열 : 20\t2행 2열 : 30\t2행 3열 : 40\t2행 0열 : 11\t2행 1열 : 22\t2행 2열 : 33\t2행 3열 : 44\t"
     ]
    }
   ],
   "source": [
    "for idx, row in enumerate(list_2d):\n",
    "    for j, data in enumerate(row):\n",
    "        print(\"{}행 {}열 : {}\".format(i,j,data), end='\\t')"
   ]
  },
  {
   "cell_type": "code",
   "execution_count": 32,
   "metadata": {
    "ExecuteTime": {
     "end_time": "2021-02-23T07:35:23.205434Z",
     "start_time": "2021-02-23T07:35:23.198478Z"
    }
   },
   "outputs": [
    {
     "name": "stdout",
     "output_type": "stream",
     "text": [
      "2*1= 2\t3*1= 3\t4*1= 4\t5*1= 5\t6*1= 6\t7*1= 7\t8*1= 8\t9*1= 9\t\n",
      "2*2= 4\t3*2= 6\t4*2= 8\t5*2=10\t6*2=12\t7*2=14\t8*2=16\t9*2=18\t\n",
      "2*3= 6\t3*3= 9\t4*3=12\t5*3=15\t6*3=18\t7*3=21\t8*3=24\t9*3=27\t\n",
      "2*4= 8\t3*4=12\t4*4=16\t5*4=20\t6*4=24\t7*4=28\t8*4=32\t9*4=36\t\n",
      "2*5=10\t3*5=15\t4*5=20\t5*5=25\t6*5=30\t7*5=35\t8*5=40\t9*5=45\t\n",
      "2*6=12\t3*6=18\t4*6=24\t5*6=30\t6*6=36\t7*6=42\t8*6=48\t9*6=54\t\n",
      "2*7=14\t3*7=21\t4*7=28\t5*7=35\t6*7=42\t7*7=49\t8*7=56\t9*7=63\t\n",
      "2*8=16\t3*8=24\t4*8=32\t5*8=40\t6*8=48\t7*8=56\t8*8=64\t9*8=72\t\n",
      "2*9=18\t3*9=27\t4*9=36\t5*9=45\t6*9=54\t7*9=63\t8*9=72\t9*9=81\t\n"
     ]
    }
   ],
   "source": [
    "# 2단부터 9단 까지의 구구단 출력\n",
    "'''\n",
    "2*1 = 2  3*1 = 3 .... 9*1=9\n",
    ".\n",
    ".\n",
    ".\n",
    "2*9 = 18 ............ 9*9=81\n",
    "'''\n",
    "\n",
    "for i in range(1,10):\n",
    "    for j in range(2,10):\n",
    "        print(\"{}*{}={:>2}\".format(j,i,i*j), end='\\t')\n",
    "    print()"
   ]
  },
  {
   "cell_type": "markdown",
   "metadata": {},
   "source": [
    "## 4절. 중첩루프 탈출"
   ]
  },
  {
   "cell_type": "code",
   "execution_count": 31,
   "metadata": {
    "ExecuteTime": {
     "end_time": "2021-02-23T07:21:07.604201Z",
     "start_time": "2021-02-23T07:21:07.600231Z"
    }
   },
   "outputs": [
    {
     "name": "stdout",
     "output_type": "stream",
     "text": [
      "0 1\n",
      "0 2\n",
      "2 1\n"
     ]
    }
   ],
   "source": [
    "# break\n",
    "for a in range(0,3):      # a = 0,1,2\n",
    "    for b in range(1,3):  # b = 1,2\n",
    "        if a == b:\n",
    "            break;\n",
    "        print(a,b)"
   ]
  },
  {
   "cell_type": "code",
   "execution_count": 34,
   "metadata": {
    "ExecuteTime": {
     "end_time": "2021-02-23T07:38:19.586070Z",
     "start_time": "2021-02-23T07:38:19.581104Z"
    }
   },
   "outputs": [
    {
     "name": "stdout",
     "output_type": "stream",
     "text": [
      "0 1\n",
      "0 2\n"
     ]
    }
   ],
   "source": [
    "# break를 만나면 바깥쪽 반복문까지 탈출, 방법 1. 플래그 이용\n",
    "\n",
    "break_out_flag = False\n",
    "\n",
    "for a in range(3):\n",
    "    \n",
    "    for b in range(1,3):\n",
    "        if a == b:\n",
    "            break_out_flag = True\n",
    "            break;\n",
    "        print(a,b)\n",
    "    \n",
    "    if break_out_flag:\n",
    "        break;"
   ]
  },
  {
   "cell_type": "code",
   "execution_count": null,
   "metadata": {},
   "outputs": [],
   "source": [
    "# break를 만나면 바깥쪽 반복문까지 탈출, 방법 2. exception 이용"
   ]
  },
  {
   "cell_type": "code",
   "execution_count": 35,
   "metadata": {
    "ExecuteTime": {
     "end_time": "2021-02-23T07:41:13.472705Z",
     "start_time": "2021-02-23T07:41:13.468736Z"
    }
   },
   "outputs": [],
   "source": [
    "class BreakOutOfALoop(Exception): pass # 아무것도 하지 않는 조건"
   ]
  },
  {
   "cell_type": "code",
   "execution_count": 38,
   "metadata": {
    "ExecuteTime": {
     "end_time": "2021-02-23T07:43:23.057169Z",
     "start_time": "2021-02-23T07:43:23.052164Z"
    }
   },
   "outputs": [
    {
     "name": "stdout",
     "output_type": "stream",
     "text": [
      "0 1\n",
      "0 2\n"
     ]
    }
   ],
   "source": [
    "for a in range(0,3):\n",
    "    \n",
    "    try:\n",
    "        for b in range(1,3):\n",
    "            if a == b:\n",
    "                raise BreakOutOfALoop\n",
    "            print(a,b)\n",
    "    \n",
    "    except BreakOutOfALoop:\n",
    "        break\n",
    "        "
   ]
  },
  {
   "cell_type": "code",
   "execution_count": 41,
   "metadata": {
    "ExecuteTime": {
     "end_time": "2021-02-23T07:46:42.616955Z",
     "start_time": "2021-02-23T07:46:42.612981Z"
    }
   },
   "outputs": [
    {
     "name": "stdout",
     "output_type": "stream",
     "text": [
      "0 1\n",
      "0 2\n",
      "a와 b가 같아지면 break\n"
     ]
    }
   ],
   "source": [
    "try:\n",
    "    for a in range(0,3):\n",
    "        for b in range(1,3):\n",
    "            if a == b:\n",
    "                raise BreakOutOfALoop\n",
    "            print(a,b)\n",
    "except BreakOutOfALoop:\n",
    "    print('a와 b가 같아지면 break')"
   ]
  },
  {
   "cell_type": "markdown",
   "metadata": {},
   "source": [
    "## 연습문제"
   ]
  },
  {
   "cell_type": "code",
   "execution_count": 12,
   "metadata": {
    "ExecuteTime": {
     "end_time": "2021-02-23T12:29:54.963778Z",
     "start_time": "2021-02-23T12:29:51.969116Z"
    }
   },
   "outputs": [
    {
     "name": "stdout",
     "output_type": "stream",
     "text": [
      "양의 정수를 입력하세요10\n",
      "10를 입력하셨네요. 짝수입니다\n"
     ]
    }
   ],
   "source": [
    "# 실습형 연습문제 1\n",
    "num = -1\n",
    "while(num<=0):\n",
    "    num = int(input('양의 정수를 입력하세요'))\n",
    "    if(num>0) and (num%2==0):\n",
    "        print(\"{}를 입력하셨네요. 짝수입니다\".format(num))\n",
    "    elif (num>0) and (num%2 ==1):\n",
    "        print(\"{}를 입력하셨네요. 홀수입니다\".format(num))\n",
    "    else:\n",
    "        print(\"양수\")"
   ]
  },
  {
   "cell_type": "code",
   "execution_count": 11,
   "metadata": {
    "ExecuteTime": {
     "end_time": "2021-02-23T12:29:44.853919Z",
     "start_time": "2021-02-23T12:29:44.845973Z"
    }
   },
   "outputs": [
    {
     "name": "stdout",
     "output_type": "stream",
     "text": [
      "1~50까지의 3의 배수의 총합 : 408\n"
     ]
    }
   ],
   "source": [
    "# 실습형 연습문제 2. 1~50까지 3의 배수의 총합\n",
    "sum = 0\n",
    "for i in range(1,51):\n",
    "    if(i%3==0):\n",
    "        sum += i\n",
    "else:\n",
    "    print('1~50까지의 3의 배수의 총합 :', sum)"
   ]
  },
  {
   "cell_type": "code",
   "execution_count": 2,
   "metadata": {
    "ExecuteTime": {
     "end_time": "2021-02-23T12:26:19.945981Z",
     "start_time": "2021-02-23T12:26:19.929019Z"
    }
   },
   "outputs": [
    {
     "name": "stdout",
     "output_type": "stream",
     "text": [
      "a\n",
      "*****\n",
      "*****\n",
      "*****\n",
      "*****\n",
      "*****\n",
      "b\n",
      "*\n",
      "**\n",
      "***\n",
      "****\n",
      "*****\n",
      "c\n",
      "*****\n",
      "****\n",
      "***\n",
      "**\n",
      "*\n",
      "d\n",
      "    *\n",
      "   **\n",
      "  ***\n",
      " ****\n",
      "*****\n",
      "e\n",
      "*****\n",
      " ****\n",
      "  ***\n",
      "   **\n",
      "    *\n"
     ]
    }
   ],
   "source": [
    "# Q3.\n",
    "print('a')\n",
    "for i in range(5):\n",
    "    for j in range(5):\n",
    "        print('*', end='')\n",
    "    print()\n",
    "\n",
    "print('b')\n",
    "for i in range(5):\n",
    "    for j in range(i+1):\n",
    "        print('*', end='')\n",
    "    print()\n",
    "\n",
    "print('c')\n",
    "for i in range(5, 0, -1):\n",
    "    for j in range(i):\n",
    "        print('*', end='')\n",
    "    print()\n",
    "\n",
    "print('d')    \n",
    "for j in range(1,6):\n",
    "    for i in range(5-j):\n",
    "        print(' ', end='')\n",
    "    for i in range(j):\n",
    "        print('*', end='')\n",
    "    print()\n",
    "\n",
    "print('e') \n",
    "for i in range(5,0, -1):\n",
    "    for k in range(5-i):\n",
    "        print(' ', end='')\n",
    "    for j in range(i):\n",
    "        print('*', end='')\n",
    "    print()\n",
    "   "
   ]
  },
  {
   "cell_type": "code",
   "execution_count": 10,
   "metadata": {
    "ExecuteTime": {
     "end_time": "2021-02-23T12:29:28.612166Z",
     "start_time": "2021-02-23T12:29:28.597178Z"
    }
   },
   "outputs": [
    {
     "name": "stdout",
     "output_type": "stream",
     "text": [
      "165\n"
     ]
    }
   ],
   "source": [
    "# 서술형 연습문제1.\n",
    "sum = 0\n",
    "for i in range(1,31):\n",
    "    if(i%3==0):\n",
    "        sum = sum + i\n",
    "    else:\n",
    "        pass\n",
    "print(sum)"
   ]
  },
  {
   "cell_type": "code",
   "execution_count": 9,
   "metadata": {
    "ExecuteTime": {
     "end_time": "2021-02-23T12:29:26.057035Z",
     "start_time": "2021-02-23T12:29:26.049011Z"
    }
   },
   "outputs": [
    {
     "name": "stdout",
     "output_type": "stream",
     "text": [
      "1 3 5 7 9 "
     ]
    }
   ],
   "source": [
    "# 서술형 연습문제2.\n",
    "num = 0\n",
    "while num <= 10:\n",
    "    if num%2 == 1:\n",
    "        print(num, end=' ')\n",
    "    num += 1"
   ]
  },
  {
   "cell_type": "code",
   "execution_count": 8,
   "metadata": {
    "ExecuteTime": {
     "end_time": "2021-02-23T12:29:23.049882Z",
     "start_time": "2021-02-23T12:29:23.033970Z"
    }
   },
   "outputs": [
    {
     "name": "stdout",
     "output_type": "stream",
     "text": [
      "1 2 3 \n",
      "4 5 6 7 \n",
      "8 9 \n"
     ]
    }
   ],
   "source": [
    "# 서술형 연습문제 3번\n",
    "list_2d = [[1,2,3,],[4,5,6,7],[8,9]]\n",
    "for row in list_2d:\n",
    "    for data in row:\n",
    "        print(data, end=' ')\n",
    "    print()"
   ]
  },
  {
   "cell_type": "code",
   "execution_count": 7,
   "metadata": {
    "ExecuteTime": {
     "end_time": "2021-02-23T12:29:21.063598Z",
     "start_time": "2021-02-23T12:29:21.043626Z"
    }
   },
   "outputs": [
    {
     "name": "stdout",
     "output_type": "stream",
     "text": [
      "0 apple\n",
      "1 banana\n"
     ]
    }
   ],
   "source": [
    "#서술형 연습문제 4번\n",
    "colors = {\"red\":\"apple\", 'yellow':'banana'}\n",
    "for i, v in enumerate(colors.values()):\n",
    "    print(i, v)"
   ]
  },
  {
   "cell_type": "code",
   "execution_count": 6,
   "metadata": {
    "ExecuteTime": {
     "end_time": "2021-02-23T12:29:11.767349Z",
     "start_time": "2021-02-23T12:29:11.749374Z"
    }
   },
   "outputs": [
    {
     "name": "stdout",
     "output_type": "stream",
     "text": [
      "1 0\n"
     ]
    }
   ],
   "source": [
    "#서술형 연습문제 5번\n",
    "for i in range(0,2):\n",
    "    for j in range(0,2):\n",
    "        if i==j:\n",
    "            break\n",
    "        print(i, j)"
   ]
  },
  {
   "cell_type": "code",
   "execution_count": 5,
   "metadata": {
    "ExecuteTime": {
     "end_time": "2021-02-23T12:29:06.861962Z",
     "start_time": "2021-02-23T12:29:06.849012Z"
    }
   },
   "outputs": [
    {
     "name": "stdout",
     "output_type": "stream",
     "text": [
      "0 0\n",
      "1 0\n",
      "1 1\n"
     ]
    }
   ],
   "source": [
    "#서술형 연습문제 6번\n",
    "for i in range(0,2):\n",
    "    for j in range(0,2):\n",
    "        print(i, j)\n",
    "        if i==j:\n",
    "            break"
   ]
  },
  {
   "cell_type": "code",
   "execution_count": 3,
   "metadata": {
    "ExecuteTime": {
     "end_time": "2021-02-23T12:28:59.647364Z",
     "start_time": "2021-02-23T12:28:59.639402Z"
    }
   },
   "outputs": [
    {
     "name": "stdout",
     "output_type": "stream",
     "text": [
      "3 5 7 9 "
     ]
    }
   ],
   "source": [
    "L = [3,4,5,6,7,8,9,10]\n",
    "for i, data in enumerate(L):\n",
    "    if(i%2==0):\n",
    "        print(data, end=' ')"
   ]
  }
 ],
 "metadata": {
  "kernelspec": {
   "display_name": "Python 3",
   "language": "python",
   "name": "python3"
  },
  "language_info": {
   "codemirror_mode": {
    "name": "ipython",
    "version": 3
   },
   "file_extension": ".py",
   "mimetype": "text/x-python",
   "name": "python",
   "nbconvert_exporter": "python",
   "pygments_lexer": "ipython3",
   "version": "3.8.3"
  },
  "toc": {
   "base_numbering": 1,
   "nav_menu": {},
   "number_sections": false,
   "sideBar": false,
   "skip_h1_title": false,
   "title_cell": "Table of Contents",
   "title_sidebar": "Contents",
   "toc_cell": false,
   "toc_position": {
    "height": "757px",
    "left": "1664px",
    "top": "127.77px",
    "width": "384px"
   },
   "toc_section_display": true,
   "toc_window_display": true
  },
  "varInspector": {
   "cols": {
    "lenName": 16,
    "lenType": 16,
    "lenVar": 40
   },
   "kernels_config": {
    "python": {
     "delete_cmd_postfix": "",
     "delete_cmd_prefix": "del ",
     "library": "var_list.py",
     "varRefreshCmd": "print(var_dic_list())"
    },
    "r": {
     "delete_cmd_postfix": ") ",
     "delete_cmd_prefix": "rm(",
     "library": "var_list.r",
     "varRefreshCmd": "cat(var_dic_list()) "
    }
   },
   "types_to_exclude": [
    "module",
    "function",
    "builtin_function_or_method",
    "instance",
    "_Feature"
   ],
   "window_display": false
  }
 },
 "nbformat": 4,
 "nbformat_minor": 4
}
