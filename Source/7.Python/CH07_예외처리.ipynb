{
 "cells": [
  {
   "cell_type": "markdown",
   "metadata": {},
   "source": [
    "# CH8.  예외처리"
   ]
  },
  {
   "cell_type": "markdown",
   "metadata": {},
   "source": [
    "# 1절. 예외처리\n",
    "- 예외가 날 가능성이 있는 부분에 대해 미리 대비하는 프로그래밍"
   ]
  },
  {
   "cell_type": "code",
   "execution_count": 2,
   "metadata": {
    "ExecuteTime": {
     "end_time": "2021-02-26T06:10:04.950375Z",
     "start_time": "2021-02-26T06:09:57.079440Z"
    }
   },
   "outputs": [
    {
     "name": "stdout",
     "output_type": "stream",
     "text": [
      "읽을 파일 이름은?ch07\n"
     ]
    },
    {
     "ename": "FileNotFoundError",
     "evalue": "[Errno 2] No such file or directory: 'data/ch07'",
     "output_type": "error",
     "traceback": [
      "\u001b[1;31m---------------------------------------------------------------------------\u001b[0m",
      "\u001b[1;31mFileNotFoundError\u001b[0m                         Traceback (most recent call last)",
      "\u001b[1;32m<ipython-input-2-0c1360960e7e>\u001b[0m in \u001b[0;36m<module>\u001b[1;34m\u001b[0m\n\u001b[0;32m      1\u001b[0m \u001b[0mfilename\u001b[0m \u001b[1;33m=\u001b[0m \u001b[0minput\u001b[0m\u001b[1;33m(\u001b[0m\u001b[1;34m'읽을 파일 이름은?'\u001b[0m\u001b[1;33m)\u001b[0m\u001b[1;33m\u001b[0m\u001b[1;33m\u001b[0m\u001b[0m\n\u001b[1;32m----> 2\u001b[1;33m \u001b[0mf\u001b[0m \u001b[1;33m=\u001b[0m \u001b[0mopen\u001b[0m\u001b[1;33m(\u001b[0m\u001b[1;34m'data/'\u001b[0m\u001b[1;33m+\u001b[0m\u001b[0mfilename\u001b[0m\u001b[1;33m,\u001b[0m \u001b[1;34m'r'\u001b[0m\u001b[1;33m)\u001b[0m\u001b[1;33m\u001b[0m\u001b[1;33m\u001b[0m\u001b[0m\n\u001b[0m\u001b[0;32m      3\u001b[0m \u001b[0mfirstline\u001b[0m \u001b[1;33m=\u001b[0m \u001b[0mtest\u001b[0m \u001b[1;33m=\u001b[0m \u001b[0mf\u001b[0m\u001b[1;33m.\u001b[0m\u001b[0mreadline\u001b[0m\u001b[1;33m(\u001b[0m\u001b[1;33m)\u001b[0m\u001b[1;33m\u001b[0m\u001b[1;33m\u001b[0m\u001b[0m\n\u001b[0;32m      4\u001b[0m \u001b[0mprint\u001b[0m\u001b[1;33m(\u001b[0m\u001b[0mfirstline\u001b[0m\u001b[1;33m)\u001b[0m\u001b[1;33m\u001b[0m\u001b[1;33m\u001b[0m\u001b[0m\n\u001b[0;32m      5\u001b[0m \u001b[0mf\u001b[0m\u001b[1;33m.\u001b[0m\u001b[0mclose\u001b[0m\u001b[1;33m(\u001b[0m\u001b[1;33m)\u001b[0m\u001b[1;33m\u001b[0m\u001b[1;33m\u001b[0m\u001b[0m\n",
      "\u001b[1;31mFileNotFoundError\u001b[0m: [Errno 2] No such file or directory: 'data/ch07'"
     ]
    }
   ],
   "source": [
    "filename = input('읽을 파일 이름은?')\n",
    "f = open('data/'+filename, 'r')\n",
    "firstline = test = f.readline()\n",
    "print(firstline)\n",
    "f.close()"
   ]
  },
  {
   "cell_type": "code",
   "execution_count": 3,
   "metadata": {
    "ExecuteTime": {
     "end_time": "2021-02-26T06:14:19.042982Z",
     "start_time": "2021-02-26T06:14:16.766136Z"
    }
   },
   "outputs": [
    {
     "name": "stdout",
     "output_type": "stream",
     "text": [
      "정수를 입력 하세요 : ㄴ\n"
     ]
    },
    {
     "ename": "ValueError",
     "evalue": "invalid literal for int() with base 10: 'ㄴ'",
     "output_type": "error",
     "traceback": [
      "\u001b[1;31m---------------------------------------------------------------------------\u001b[0m",
      "\u001b[1;31mValueError\u001b[0m                                Traceback (most recent call last)",
      "\u001b[1;32m<ipython-input-3-830421c18be9>\u001b[0m in \u001b[0;36m<module>\u001b[1;34m\u001b[0m\n\u001b[1;32m----> 1\u001b[1;33m \u001b[0mnum\u001b[0m \u001b[1;33m=\u001b[0m \u001b[0mint\u001b[0m\u001b[1;33m(\u001b[0m\u001b[0minput\u001b[0m\u001b[1;33m(\u001b[0m\u001b[1;34m'정수를 입력 하세요 : '\u001b[0m\u001b[1;33m)\u001b[0m\u001b[1;33m)\u001b[0m\u001b[1;33m\u001b[0m\u001b[1;33m\u001b[0m\u001b[0m\n\u001b[0m",
      "\u001b[1;31mValueError\u001b[0m: invalid literal for int() with base 10: 'ㄴ'"
     ]
    }
   ],
   "source": [
    "num = int(input('정수를 입력 하세요 : '))"
   ]
  },
  {
   "cell_type": "code",
   "execution_count": 4,
   "metadata": {
    "ExecuteTime": {
     "end_time": "2021-02-26T06:15:05.747182Z",
     "start_time": "2021-02-26T06:15:01.893506Z"
    }
   },
   "outputs": [
    {
     "name": "stdout",
     "output_type": "stream",
     "text": [
      "정수를 입력 하세요 : 0\n"
     ]
    },
    {
     "ename": "ZeroDivisionError",
     "evalue": "division by zero",
     "output_type": "error",
     "traceback": [
      "\u001b[1;31m---------------------------------------------------------------------------\u001b[0m",
      "\u001b[1;31mZeroDivisionError\u001b[0m                         Traceback (most recent call last)",
      "\u001b[1;32m<ipython-input-4-efe8daa523b8>\u001b[0m in \u001b[0;36m<module>\u001b[1;34m\u001b[0m\n\u001b[0;32m      1\u001b[0m \u001b[0mnum\u001b[0m \u001b[1;33m=\u001b[0m \u001b[0mint\u001b[0m\u001b[1;33m(\u001b[0m\u001b[0minput\u001b[0m\u001b[1;33m(\u001b[0m\u001b[1;34m'정수를 입력 하세요 : '\u001b[0m\u001b[1;33m)\u001b[0m\u001b[1;33m)\u001b[0m\u001b[1;33m\u001b[0m\u001b[1;33m\u001b[0m\u001b[0m\n\u001b[1;32m----> 2\u001b[1;33m \u001b[0mprint\u001b[0m\u001b[1;33m(\u001b[0m\u001b[1;36m10\u001b[0m \u001b[1;33m/\u001b[0m \u001b[0mnum\u001b[0m\u001b[1;33m)\u001b[0m\u001b[1;33m\u001b[0m\u001b[1;33m\u001b[0m\u001b[0m\n\u001b[0m",
      "\u001b[1;31mZeroDivisionError\u001b[0m: division by zero"
     ]
    }
   ],
   "source": [
    "num = int(input('정수를 입력 하세요 : '))\n",
    "print(10 / num)"
   ]
  },
  {
   "cell_type": "code",
   "execution_count": 5,
   "metadata": {
    "ExecuteTime": {
     "end_time": "2021-02-26T06:17:16.947865Z",
     "start_time": "2021-02-26T06:17:13.708880Z"
    }
   },
   "outputs": [
    {
     "name": "stdout",
     "output_type": "stream",
     "text": [
      "원하는 인덱스는 ?3\n"
     ]
    },
    {
     "ename": "IndexError",
     "evalue": "list index out of range",
     "output_type": "error",
     "traceback": [
      "\u001b[1;31m---------------------------------------------------------------------------\u001b[0m",
      "\u001b[1;31mIndexError\u001b[0m                                Traceback (most recent call last)",
      "\u001b[1;32m<ipython-input-5-27eb6838fe56>\u001b[0m in \u001b[0;36m<module>\u001b[1;34m\u001b[0m\n\u001b[0;32m      1\u001b[0m \u001b[0ml\u001b[0m \u001b[1;33m=\u001b[0m \u001b[1;33m[\u001b[0m\u001b[1;36m1\u001b[0m\u001b[1;33m,\u001b[0m \u001b[1;36m2\u001b[0m\u001b[1;33m,\u001b[0m \u001b[1;36m3\u001b[0m\u001b[1;33m]\u001b[0m\u001b[1;33m\u001b[0m\u001b[1;33m\u001b[0m\u001b[0m\n\u001b[0;32m      2\u001b[0m \u001b[0midx\u001b[0m \u001b[1;33m=\u001b[0m \u001b[0mint\u001b[0m\u001b[1;33m(\u001b[0m\u001b[0minput\u001b[0m\u001b[1;33m(\u001b[0m\u001b[1;34m'원하는 인덱스는 ?'\u001b[0m\u001b[1;33m)\u001b[0m\u001b[1;33m)\u001b[0m\u001b[1;33m\u001b[0m\u001b[1;33m\u001b[0m\u001b[0m\n\u001b[1;32m----> 3\u001b[1;33m \u001b[0mprint\u001b[0m\u001b[1;33m(\u001b[0m\u001b[1;34m'{}번째 값은 {}'\u001b[0m\u001b[1;33m.\u001b[0m\u001b[0mformat\u001b[0m\u001b[1;33m(\u001b[0m\u001b[0midx\u001b[0m\u001b[1;33m,\u001b[0m \u001b[0ml\u001b[0m\u001b[1;33m[\u001b[0m\u001b[0midx\u001b[0m\u001b[1;33m]\u001b[0m\u001b[1;33m)\u001b[0m\u001b[1;33m)\u001b[0m\u001b[1;33m\u001b[0m\u001b[1;33m\u001b[0m\u001b[0m\n\u001b[0m",
      "\u001b[1;31mIndexError\u001b[0m: list index out of range"
     ]
    }
   ],
   "source": [
    "l = [1, 2, 3]\n",
    "idx = int(input('원하는 인덱스는 ?'))\n",
    "print('{}번째 값은 {}'.format(idx, l[idx]))"
   ]
  },
  {
   "cell_type": "markdown",
   "metadata": {},
   "source": [
    "# 2절. 예외처리하기(try~except)"
   ]
  },
  {
   "cell_type": "code",
   "execution_count": 6,
   "metadata": {
    "ExecuteTime": {
     "end_time": "2021-02-26T06:19:33.907617Z",
     "start_time": "2021-02-26T06:19:30.598049Z"
    }
   },
   "outputs": [
    {
     "name": "stdout",
     "output_type": "stream",
     "text": [
      "정수는 ?f\n"
     ]
    },
    {
     "ename": "ValueError",
     "evalue": "invalid literal for int() with base 10: 'f'",
     "output_type": "error",
     "traceback": [
      "\u001b[1;31m---------------------------------------------------------------------------\u001b[0m",
      "\u001b[1;31mValueError\u001b[0m                                Traceback (most recent call last)",
      "\u001b[1;32m<ipython-input-6-7e75986e88ca>\u001b[0m in \u001b[0;36m<module>\u001b[1;34m\u001b[0m\n\u001b[1;32m----> 1\u001b[1;33m \u001b[0mx\u001b[0m \u001b[1;33m=\u001b[0m \u001b[0mint\u001b[0m\u001b[1;33m(\u001b[0m\u001b[0minput\u001b[0m\u001b[1;33m(\u001b[0m\u001b[1;34m\"정수는 ?\"\u001b[0m\u001b[1;33m)\u001b[0m\u001b[1;33m)\u001b[0m\u001b[1;33m\u001b[0m\u001b[1;33m\u001b[0m\u001b[0m\n\u001b[0m\u001b[0;32m      2\u001b[0m \u001b[0mprint\u001b[0m\u001b[1;33m(\u001b[0m\u001b[1;34m'입력한 정수는 {} 입니다.'\u001b[0m\u001b[1;33m.\u001b[0m\u001b[0mformat\u001b[0m\u001b[1;33m(\u001b[0m\u001b[0mx\u001b[0m\u001b[1;33m)\u001b[0m\u001b[1;33m)\u001b[0m\u001b[1;33m\u001b[0m\u001b[1;33m\u001b[0m\u001b[0m\n",
      "\u001b[1;31mValueError\u001b[0m: invalid literal for int() with base 10: 'f'"
     ]
    }
   ],
   "source": [
    "try:\n",
    "    x = int(input(\"정수는 ?\"))\n",
    "    print('입력한 정수는 {} 입니다.'.format(x))\n",
    "except: ValueError as e :\n",
    "        print(e)\n",
    "        print('점수를 입력 안하셨습니다.')"
   ]
  },
  {
   "cell_type": "code",
   "execution_count": 8,
   "metadata": {
    "ExecuteTime": {
     "end_time": "2021-02-26T06:43:12.723621Z",
     "start_time": "2021-02-26T06:43:07.210615Z"
    }
   },
   "outputs": [
    {
     "name": "stdout",
     "output_type": "stream",
     "text": [
      "수 : a\n",
      "유요한 점수를 다시 입력 하세요.\n",
      "수 : e\n",
      "유요한 점수를 다시 입력 하세요.\n",
      "수 : 5\n",
      "입력한 점수는 5\n"
     ]
    }
   ],
   "source": [
    "# 입력한 값이 정수가 아닐 경우 예외 메세지를 출력, 다시 입력 받는다.\n",
    "while True:\n",
    "    try:\n",
    "        x = int(input('수 : '))\n",
    "        print(\"입력한 점수는 : {}\".format(x))\n",
    "        break\n",
    "    except ValueError:\n",
    "        print('유요한 점수를 다시 입력 하세요.')"
   ]
  },
  {
   "cell_type": "code",
   "execution_count": 11,
   "metadata": {
    "ExecuteTime": {
     "end_time": "2021-02-26T06:49:14.532031Z",
     "start_time": "2021-02-26T06:49:06.841843Z"
    }
   },
   "outputs": [
    {
     "name": "stdout",
     "output_type": "stream",
     "text": [
      "수 : 0\n",
      "입력한 점수는 : 0\n",
      "0으로 나눌 수 없어요. 다시 입력 하세요.\n",
      "수 : ㄷ\n",
      "유요한 점수를 다시 입력 하세요.\n",
      "수 : 20\n",
      "입력한 점수는 : 20\n",
      "100/20 = 5.0 \n"
     ]
    }
   ],
   "source": [
    "# 100을 입력한 정수 값으로 나누어 출력한다. (두가지 예외 사항을 따로 처리)\n",
    "while True:\n",
    "    try:\n",
    "        x = int(input('수 : '))\n",
    "        print(\"입력한 점수는 : {}\".format(x))\n",
    "        result = 100 / x\n",
    "        print(\"100/{} = {} \".format(x, result))\n",
    "        break\n",
    "   # except Exception:         # 상위 예외 클래스는 하단에\n",
    "   #     print('예외 입니다.')\n",
    "    except ValueError:\n",
    "        print('유요한 점수를 다시 입력 하세요.')\n",
    "    except ZeroDivisionError:\n",
    "        print('0으로 나눌 수 없어요. 다시 입력 하세요.')"
   ]
  },
  {
   "cell_type": "code",
   "execution_count": 12,
   "metadata": {
    "ExecuteTime": {
     "end_time": "2021-02-26T06:56:19.312724Z",
     "start_time": "2021-02-26T06:56:11.113293Z"
    }
   },
   "outputs": [
    {
     "name": "stdout",
     "output_type": "stream",
     "text": [
      "수 : s\n",
      "문자나 0은 입력하실 수 없습니다. 다시 입력 하세요.\n",
      "invalid literal for int() with base 10: 's'\n",
      "수 : f\n",
      "문자나 0은 입력하실 수 없습니다. 다시 입력 하세요.\n",
      "invalid literal for int() with base 10: 'f'\n",
      "수 : 0\n",
      "입력한 점수는 : 0\n",
      "문자나 0은 입력하실 수 없습니다. 다시 입력 하세요.\n",
      "division by zero\n",
      "수 : 10\n",
      "입력한 점수는 : 10\n",
      "100/10 = 10.0 \n"
     ]
    }
   ],
   "source": [
    "# 100을 입력한 정수 값으로 나누어 출력한다. (두가지 예외 사항을 하나로 처리)\n",
    "while True:\n",
    "    try:\n",
    "        x = int(input('수 : '))\n",
    "        print(\"입력한 점수는 : {}\".format(x))\n",
    "        result = 100 / x\n",
    "        print(\"100/{} = {} \".format(x, result))\n",
    "        break\n",
    "        \n",
    "    except (ValueError, ZeroDivisionError) as e:\n",
    "        print('문자나 0은 입력하실 수 없습니다. 다시 입력 하세요.')\n",
    "        print(e.__str__())\n"
   ]
  },
  {
   "cell_type": "code",
   "execution_count": 13,
   "metadata": {
    "ExecuteTime": {
     "end_time": "2021-02-26T06:57:45.593387Z",
     "start_time": "2021-02-26T06:57:38.800820Z"
    }
   },
   "outputs": [
    {
     "name": "stdout",
     "output_type": "stream",
     "text": [
      "수 : 0\n",
      "입력한 점수는 : 0\n",
      "다시 입력 하세요.\n",
      "수 : ㄱ\n",
      "다시 입력 하세요.\n",
      "수 : 50\n",
      "입력한 점수는 : 50\n",
      "100/50 = 2.0 \n"
     ]
    }
   ],
   "source": [
    "# 100을 입력한 정수 값으로 나누어 출력한다. (모든 예외 사항을 하나로 처리)\n",
    "while True:\n",
    "    try:\n",
    "        x = int(input('수 : '))\n",
    "        print(\"입력한 점수는 : {}\".format(x))\n",
    "        result = 100 / x\n",
    "        print(\"100/{} = {} \".format(x, result))\n",
    "        break\n",
    "        \n",
    "    except Exception:\n",
    "        print('다시 입력 하세요.')\n"
   ]
  },
  {
   "cell_type": "code",
   "execution_count": null,
   "metadata": {},
   "outputs": [],
   "source": [
    "# try ~ except ~ (else) ~ finally"
   ]
  },
  {
   "cell_type": "code",
   "execution_count": 15,
   "metadata": {
    "ExecuteTime": {
     "end_time": "2021-02-26T07:06:27.515657Z",
     "start_time": "2021-02-26T07:06:27.510696Z"
    }
   },
   "outputs": [
    {
     "name": "stdout",
     "output_type": "stream",
     "text": [
      "파일이 없습니다.\n"
     ]
    }
   ],
   "source": [
    "# else 블럭 : try 블럭에서 예외가 발생되면 except 블럭 실행, 예외가 발생되면 else블럭 실행\n",
    "try:\n",
    "    f = open('data/ch08_ab.txt','r')\n",
    "    data = f.read()\n",
    "    print(data)\n",
    "except FileNotFoundError:\n",
    "    print('파일이 없습니다.')\n",
    "else:\n",
    "    data = f.read()\n",
    "    print(data)\n",
    "    f.close()\n",
    "finally: # finally 블럭은 try 블럭에 에러가 발생하든 안하든 꼭 실행\n",
    "    f.close()"
   ]
  },
  {
   "cell_type": "code",
   "execution_count": 18,
   "metadata": {
    "ExecuteTime": {
     "end_time": "2021-02-26T07:09:06.340566Z",
     "start_time": "2021-02-26T07:09:06.335579Z"
    }
   },
   "outputs": [
    {
     "name": "stdout",
     "output_type": "stream",
     "text": [
      "jupyter notebook KR utf-8\n",
      "Hello\n",
      "Python\n"
     ]
    }
   ],
   "source": [
    "try:\n",
    "    f = open('data/ch08_abc.txt','r')\n",
    "    data = f.read()\n",
    "    print(data)\n",
    "except FileNotFoundError:\n",
    "    print('파일이 없습니다.')\n",
    "finally: # finally 블럭은 try 블럭에 에러가 발생하든 안하든 꼭 실행\n",
    "    f.close()"
   ]
  },
  {
   "cell_type": "code",
   "execution_count": 20,
   "metadata": {
    "ExecuteTime": {
     "end_time": "2021-02-26T07:12:52.376256Z",
     "start_time": "2021-02-26T07:12:38.085651Z"
    }
   },
   "outputs": [
    {
     "name": "stdout",
     "output_type": "stream",
     "text": [
      "수 : ㅇ\n",
      "invalid literal for int() with base 10: 'ㅇ'\n",
      "invalid literal for int() with base 10: 'ㅇ'\n",
      "수 : 50\n",
      "입력한 점수는 : 50\n",
      "100/50 = 2.0 \n"
     ]
    }
   ],
   "source": [
    "# 예외 인수 #\n",
    "# 100을 입력한 정수 값으로 나누어 출력한다. (두가지 예외 사항을 하나로 처리)\n",
    "while True:\n",
    "    try:\n",
    "        x = int(input('수 : '))\n",
    "        print(\"입력한 점수는 : {}\".format(x))\n",
    "        result = 100 / x\n",
    "        print(\"100/{} = {} \".format(x, result))\n",
    "        break\n",
    "        \n",
    "    except (ValueError, ZeroDivisionError) as e:\n",
    "        print(e)\n",
    "        print(e.args[0]) # e.args 튜플형식이므로 e.args[0]을 이용하여 예외 메세지 확인"
   ]
  },
  {
   "cell_type": "markdown",
   "metadata": {},
   "source": [
    "# 3절. raise로 예외 발생 시키기"
   ]
  },
  {
   "cell_type": "code",
   "execution_count": 21,
   "metadata": {
    "ExecuteTime": {
     "end_time": "2021-02-26T07:14:36.037558Z",
     "start_time": "2021-02-26T07:14:36.029580Z"
    }
   },
   "outputs": [
    {
     "ename": "NameError",
     "evalue": "예외 발생",
     "output_type": "error",
     "traceback": [
      "\u001b[1;31m---------------------------------------------------------------------------\u001b[0m",
      "\u001b[1;31mNameError\u001b[0m                                 Traceback (most recent call last)",
      "\u001b[1;32m<ipython-input-21-e58b31f2f51e>\u001b[0m in \u001b[0;36m<module>\u001b[1;34m\u001b[0m\n\u001b[1;32m----> 1\u001b[1;33m \u001b[1;32mraise\u001b[0m \u001b[0mNameError\u001b[0m\u001b[1;33m(\u001b[0m\u001b[1;34m'예외 발생'\u001b[0m\u001b[1;33m)\u001b[0m\u001b[1;33m\u001b[0m\u001b[1;33m\u001b[0m\u001b[0m\n\u001b[0m",
      "\u001b[1;31mNameError\u001b[0m: 예외 발생"
     ]
    }
   ],
   "source": [
    "raise NameError('예외 발생')"
   ]
  },
  {
   "cell_type": "code",
   "execution_count": 28,
   "metadata": {
    "ExecuteTime": {
     "end_time": "2021-02-26T07:18:19.313826Z",
     "start_time": "2021-02-26T07:18:19.310833Z"
    }
   },
   "outputs": [],
   "source": [
    "def insert(data):\n",
    "    if len(data) == 0:\n",
    "        raise Exception('길이가 0이라 출력할 것이 없습니다.')\n",
    "    print(data, '를 입력 할께요.')"
   ]
  },
  {
   "cell_type": "code",
   "execution_count": 29,
   "metadata": {
    "ExecuteTime": {
     "end_time": "2021-02-26T07:18:20.753520Z",
     "start_time": "2021-02-26T07:18:20.749531Z"
    }
   },
   "outputs": [
    {
     "name": "stdout",
     "output_type": "stream",
     "text": [
      "길이가 0이라 출력할 것이 없습니다.\n"
     ]
    }
   ],
   "source": [
    "try:\n",
    "    insert([])\n",
    "except Exception as e:\n",
    "    print(e.args[0])"
   ]
  },
  {
   "cell_type": "markdown",
   "metadata": {},
   "source": [
    "# 4절. raise를 이용하여 추상 클래스 정의하기\n",
    "- python은 추상 클래스를 생성할 수 없으나 raise를 이용해서 추상 클래스를 흉내낸다.\n",
    "# 5절. 사용자 정의 예외"
   ]
  },
  {
   "cell_type": "code",
   "execution_count": 34,
   "metadata": {
    "ExecuteTime": {
     "end_time": "2021-02-26T07:41:56.598303Z",
     "start_time": "2021-02-26T07:41:56.594338Z"
    }
   },
   "outputs": [],
   "source": [
    "class AbstractError(Exception):\n",
    "    '추상 클래스를 이용하여 객체를 생성할 때 나는 오류'\n",
    "    def __init__(self):\n",
    "        Exception.__init__(self, \"Shape는 추상 클래스에서 객체 생성 불가\")\n"
   ]
  },
  {
   "cell_type": "code",
   "execution_count": 35,
   "metadata": {
    "ExecuteTime": {
     "end_time": "2021-02-26T07:41:58.254326Z",
     "start_time": "2021-02-26T07:41:58.250337Z"
    }
   },
   "outputs": [],
   "source": [
    "class Shape:\n",
    "    def __init__(self):\n",
    "        raise AbstractError()\n",
    "    def cal_area(self):\n",
    "        raise AbstractError()"
   ]
  },
  {
   "cell_type": "code",
   "execution_count": 36,
   "metadata": {
    "ExecuteTime": {
     "end_time": "2021-02-26T07:43:40.671137Z",
     "start_time": "2021-02-26T07:43:40.667175Z"
    }
   },
   "outputs": [],
   "source": [
    "class Circle(Shape):\n",
    "    def __init__(self, r):\n",
    "        self.r = r\n",
    "    def cal_area(self):\n",
    "        return r*r*3.14"
   ]
  },
  {
   "cell_type": "code",
   "execution_count": 39,
   "metadata": {
    "ExecuteTime": {
     "end_time": "2021-02-26T07:44:17.941742Z",
     "start_time": "2021-02-26T07:44:17.937734Z"
    }
   },
   "outputs": [
    {
     "name": "stdout",
     "output_type": "stream",
     "text": [
      "<__main__.Circle object at 0x0000021FDE2FE3A0>\n"
     ]
    }
   ],
   "source": [
    "c = Circle(3)"
   ]
  },
  {
   "cell_type": "markdown",
   "metadata": {},
   "source": [
    "# 6절. 파일 정리 작업"
   ]
  },
  {
   "cell_type": "code",
   "execution_count": 42,
   "metadata": {
    "ExecuteTime": {
     "end_time": "2021-02-26T07:49:45.820156Z",
     "start_time": "2021-02-26T07:49:34.906442Z"
    }
   },
   "outputs": [
    {
     "name": "stdout",
     "output_type": "stream",
     "text": [
      "파일명은 : ch08_abc.txt\n",
      "['jupyter notebook KR utf-8\\n', 'Hello\\n', 'Python']\n"
     ]
    }
   ],
   "source": [
    "filename = input('파일명은 : ')\n",
    "\n",
    "f = open('data/'+filename, 'r')\n",
    "lines = f.readlines()\n",
    "print(lines)\n",
    "f.close() # close는 꼭 삽입해야 한다."
   ]
  },
  {
   "cell_type": "code",
   "execution_count": 44,
   "metadata": {
    "ExecuteTime": {
     "end_time": "2021-02-26T07:51:23.167428Z",
     "start_time": "2021-02-26T07:51:23.162456Z"
    }
   },
   "outputs": [
    {
     "name": "stdout",
     "output_type": "stream",
     "text": [
      "['jupyter notebook KR utf-8\\n', 'Hello\\n', 'Python']\n"
     ]
    }
   ],
   "source": [
    "# with 절 이후에는 자동적으로 close()\n",
    "with open('data/ch08_abc.txt','r') as f:\n",
    "    lines = f.readlines()\n",
    "    print(lines)"
   ]
  },
  {
   "cell_type": "markdown",
   "metadata": {},
   "source": [
    "# 연습문제"
   ]
  },
  {
   "cell_type": "code",
   "execution_count": 45,
   "metadata": {
    "ExecuteTime": {
     "end_time": "2021-02-26T07:58:02.811242Z",
     "start_time": "2021-02-26T07:57:53.401832Z"
    }
   },
   "outputs": [
    {
     "name": "stdout",
     "output_type": "stream",
     "text": [
      "첫번째 숫자를 입력 하세요 : 10\n",
      "두번째 숫자를 입력 하세요 : ㄹ\n",
      "유효한 숫자가 아닙니다.. 다시 입력 하세요.\n",
      "could not convert string to float: 'ㄹ'\n",
      "첫번째 숫자를 입력 하세요 : 10\n",
      "두번째 숫자를 입력 하세요 : 50\n",
      "입력한 수는 : 10.0과 50.0 입니다.\n"
     ]
    }
   ],
   "source": [
    "while True:\n",
    "    try:\n",
    "        x = float(input('첫번째 숫자를 입력 하세요 : '))\n",
    "        y = float(input('두번째 숫자를 입력 하세요 : '))\n",
    "        print(\"입력한 수는 : {}과 {} 입니다.\".format(x,y))\n",
    "        break\n",
    "        \n",
    "    except (ValueError, ZeroDivisionError) as e:\n",
    "        print('유효한 숫자가 아닙니다. 다시 입력 하세요.')\n",
    "        print(e.__str__())"
   ]
  },
  {
   "cell_type": "code",
   "execution_count": 49,
   "metadata": {
    "ExecuteTime": {
     "end_time": "2021-02-26T08:01:28.034126Z",
     "start_time": "2021-02-26T08:01:25.489256Z"
    }
   },
   "outputs": [
    {
     "name": "stdout",
     "output_type": "stream",
     "text": [
      "첫번째 숫자를 입력 하세요 : 10\n",
      "두번째 숫자를 입력 하세요 : 40\n",
      "입력한 수는 : 10.0과 40.0 입니다.\n",
      "10.0을 40.0로 나누면 0.25입니다.\n"
     ]
    }
   ],
   "source": [
    "# 실습형 1. 모든 예외처리를 하나로 \"유효한 숫자가 아닙니다. 다시 시도하세요\"로 메세지 출력\n",
    "while True:\n",
    "    try:\n",
    "        num1 = float(input('첫번째 수는?'))\n",
    "        num2 = float(input('두번째 수는?'))\n",
    "        print(\"입력한 수는 {}, {}입니다\".format(num1, num2))\n",
    "        print(\"{}을 {}로 나누면 {}\".format(num1, num2, num1/num2))\n",
    "        break;\n",
    "    except:\n",
    "        print(\"유효한 숫자가 아닙니다. 다시 시도하세요\")"
   ]
  },
  {
   "cell_type": "code",
   "execution_count": 57,
   "metadata": {
    "ExecuteTime": {
     "end_time": "2021-02-26T08:14:24.608793Z",
     "start_time": "2021-02-26T08:14:21.279092Z"
    }
   },
   "outputs": [
    {
     "name": "stdout",
     "output_type": "stream",
     "text": [
      "첫번째 숫자를 입력 하세요 : 0\n",
      "두번째 숫자를 입력 하세요 : 5\n",
      "입력한 수는 : 0.0과 5.0 입니다.\n",
      "0.0을 5.0로 나누면 0.0입니다.\n"
     ]
    }
   ],
   "source": [
    "# 실습형 2 : 문자 입력과 0입력의 예외를 따로 처리\n",
    "while True:\n",
    "    try:\n",
    "        num1 = float(input('첫번째 수는?'))\n",
    "        num2 = float(input('두번째 수는?'))\n",
    "        print(\"입력한 수는 {}, {}입니다\".format(num1, num2))\n",
    "        print(\"{}을 {}로 나누면 {}\".format(num1, num2, num1/num2))\n",
    "        break;\n",
    "    except ValueError:\n",
    "        print(\"숫자가 아닙니다. 다시 시도하세요\")\n",
    "    except ZeroDivisionError:\n",
    "        print(\"0으로 나눌 수 없습니다. 다시 시도하세요\")"
   ]
  },
  {
   "cell_type": "code",
   "execution_count": null,
   "metadata": {},
   "outputs": [],
   "source": [
    "# 문제풀이형 1.\n",
    "# 답: 3번"
   ]
  },
  {
   "cell_type": "code",
   "execution_count": null,
   "metadata": {},
   "outputs": [],
   "source": [
    "# 문제풀이형 2.\n",
    "# 답: 2번"
   ]
  },
  {
   "cell_type": "code",
   "execution_count": null,
   "metadata": {},
   "outputs": [],
   "source": [
    "# 문제풀이형 3.\n",
    "# 답: 4번"
   ]
  },
  {
   "cell_type": "code",
   "execution_count": null,
   "metadata": {},
   "outputs": [],
   "source": [
    "# 문제풀이형 4.\n",
    "# 답: 3번"
   ]
  },
  {
   "cell_type": "code",
   "execution_count": null,
   "metadata": {},
   "outputs": [],
   "source": []
  },
  {
   "cell_type": "code",
   "execution_count": null,
   "metadata": {},
   "outputs": [],
   "source": []
  }
 ],
 "metadata": {
  "kernelspec": {
   "display_name": "Python 3",
   "language": "python",
   "name": "python3"
  },
  "language_info": {
   "codemirror_mode": {
    "name": "ipython",
    "version": 3
   },
   "file_extension": ".py",
   "mimetype": "text/x-python",
   "name": "python",
   "nbconvert_exporter": "python",
   "pygments_lexer": "ipython3",
   "version": "3.8.5"
  },
  "toc": {
   "base_numbering": 1,
   "nav_menu": {},
   "number_sections": false,
   "sideBar": true,
   "skip_h1_title": false,
   "title_cell": "Table of Contents",
   "title_sidebar": "Contents",
   "toc_cell": false,
   "toc_position": {
    "height": "830px",
    "left": "79px",
    "top": "253.733px",
    "width": "240px"
   },
   "toc_section_display": true,
   "toc_window_display": true
  },
  "varInspector": {
   "cols": {
    "lenName": 16,
    "lenType": 16,
    "lenVar": 40
   },
   "kernels_config": {
    "python": {
     "delete_cmd_postfix": "",
     "delete_cmd_prefix": "del ",
     "library": "var_list.py",
     "varRefreshCmd": "print(var_dic_list())"
    },
    "r": {
     "delete_cmd_postfix": ") ",
     "delete_cmd_prefix": "rm(",
     "library": "var_list.r",
     "varRefreshCmd": "cat(var_dic_list()) "
    }
   },
   "types_to_exclude": [
    "module",
    "function",
    "builtin_function_or_method",
    "instance",
    "_Feature"
   ],
   "window_display": false
  }
 },
 "nbformat": 4,
 "nbformat_minor": 4
}
