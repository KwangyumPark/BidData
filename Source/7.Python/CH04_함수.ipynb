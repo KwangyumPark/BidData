{
 "cells": [
  {
   "cell_type": "markdown",
   "metadata": {},
   "source": [
    "21.02.24 Python 함수"
   ]
  },
  {
   "cell_type": "markdown",
   "metadata": {},
   "source": [
    "# CH05. 함수\n",
    "- 반복해서 사용한 코드를 묶어놓고 그것에 이름을 붙인것.\n",
    "- 반복해서 사용할 코드는 함수를 이용하면 훨씬 구조적이고 간결한 코드를 작성할 수 있다.\n",
    "- 함수의 정의\n",
    "    \n",
    "    def 함수명(param1, param2...)\n",
    "        expresions"
   ]
  },
  {
   "cell_type": "markdown",
   "metadata": {},
   "source": [
    "## 1.1 매개변수 및 함수"
   ]
  },
  {
   "cell_type": "code",
   "execution_count": 1,
   "metadata": {
    "ExecuteTime": {
     "end_time": "2021-02-24T00:39:39.979121Z",
     "start_time": "2021-02-24T00:39:39.976129Z"
    }
   },
   "outputs": [],
   "source": [
    "def my_hello():\n",
    "    print('Hello, world')\n",
    "    print('Hello, Python')"
   ]
  },
  {
   "cell_type": "code",
   "execution_count": 2,
   "metadata": {
    "ExecuteTime": {
     "end_time": "2021-02-24T00:40:06.399212Z",
     "start_time": "2021-02-24T00:40:06.390236Z"
    }
   },
   "outputs": [
    {
     "data": {
      "text/plain": [
       "<function __main__.my_hello()>"
      ]
     },
     "execution_count": 2,
     "metadata": {},
     "output_type": "execute_result"
    }
   ],
   "source": [
    "my_hello"
   ]
  },
  {
   "cell_type": "code",
   "execution_count": 5,
   "metadata": {
    "ExecuteTime": {
     "end_time": "2021-02-24T00:43:25.769764Z",
     "start_time": "2021-02-24T00:43:25.765796Z"
    }
   },
   "outputs": [
    {
     "name": "stdout",
     "output_type": "stream",
     "text": [
      "Hello, world\n",
      "Hello, Python\n"
     ]
    }
   ],
   "source": [
    "if __name__=='__main__':\n",
    "    my_hello()"
   ]
  },
  {
   "cell_type": "code",
   "execution_count": 6,
   "metadata": {
    "ExecuteTime": {
     "end_time": "2021-02-24T00:48:56.875591Z",
     "start_time": "2021-02-24T00:48:56.870625Z"
    }
   },
   "outputs": [
    {
     "name": "stdout",
     "output_type": "stream",
     "text": [
      "90\n",
      "50\n"
     ]
    }
   ],
   "source": [
    "def my_add(num1, num2, num3=0): # 기본값을 갖는 매개변수는 뒤에\n",
    "    return num1+num2+num3\n",
    "\n",
    "print(my_add(20,30,40))\n",
    "print(my_add(20,30))\n"
   ]
  },
  {
   "cell_type": "markdown",
   "metadata": {},
   "source": [
    "## 1.2 docstring"
   ]
  },
  {
   "cell_type": "code",
   "execution_count": 15,
   "metadata": {
    "ExecuteTime": {
     "end_time": "2021-02-24T00:55:29.612302Z",
     "start_time": "2021-02-24T00:55:29.596670Z"
    }
   },
   "outputs": [],
   "source": [
    "def my_function():\n",
    "    \"\"\"\n",
    "    함수의 첫 라인에 독스트링을 포함시킬 수 있다.\n",
    "    독스트링은 함수의 설명서를 달아주는 역할, 주석보다 더 많은 기능을 한다.\n",
    "    \"\"\"\n",
    "    pass"
   ]
  },
  {
   "cell_type": "code",
   "execution_count": 19,
   "metadata": {
    "ExecuteTime": {
     "end_time": "2021-02-24T01:01:03.815586Z",
     "start_time": "2021-02-24T01:01:03.811621Z"
    }
   },
   "outputs": [
    {
     "name": "stdout",
     "output_type": "stream",
     "text": [
      "\n",
      "    함수의 첫 라인에 독스트링을 포함시킬 수 있다.\n",
      "    독스트링은 함수의 설명서를 달아주는 역할, 주석보다 더 많은 기능을 한다.\n",
      "    \n"
     ]
    }
   ],
   "source": [
    "print(my_function.__doc__)"
   ]
  },
  {
   "cell_type": "code",
   "execution_count": 24,
   "metadata": {
    "ExecuteTime": {
     "end_time": "2021-02-24T01:04:02.927150Z",
     "start_time": "2021-02-24T01:04:02.923188Z"
    }
   },
   "outputs": [],
   "source": [
    "def fibonacci(n):\n",
    "    \"\"\"\n",
    "    매개변수로 들어온 n값 미만까지 피보나치 수열을 출력합니다.\n",
    "    \"\"\"\n",
    "    \n",
    "    a,b = 0,1\n",
    "    \n",
    "    while a < n:\n",
    "        print(a, end=' ')\n",
    "        a, b = b, a+b\n",
    "    print()\n",
    "    "
   ]
  },
  {
   "cell_type": "code",
   "execution_count": 25,
   "metadata": {
    "ExecuteTime": {
     "end_time": "2021-02-24T01:04:26.175117Z",
     "start_time": "2021-02-24T01:04:26.171153Z"
    }
   },
   "outputs": [
    {
     "name": "stdout",
     "output_type": "stream",
     "text": [
      "0 1 1 2 3 5 8 13 21 34 55 89 144 \n"
     ]
    }
   ],
   "source": [
    "fibonacci(200)"
   ]
  },
  {
   "cell_type": "code",
   "execution_count": 26,
   "metadata": {
    "ExecuteTime": {
     "end_time": "2021-02-24T01:06:29.254865Z",
     "start_time": "2021-02-24T01:06:29.250892Z"
    }
   },
   "outputs": [],
   "source": [
    "global_var = 100 #전역변수 \n",
    "\n",
    "def func1():\n",
    "    print(global_var)"
   ]
  },
  {
   "cell_type": "code",
   "execution_count": 27,
   "metadata": {
    "ExecuteTime": {
     "end_time": "2021-02-24T01:06:35.614747Z",
     "start_time": "2021-02-24T01:06:35.610782Z"
    }
   },
   "outputs": [
    {
     "name": "stdout",
     "output_type": "stream",
     "text": [
      "100\n"
     ]
    }
   ],
   "source": [
    "func1()"
   ]
  },
  {
   "cell_type": "code",
   "execution_count": 28,
   "metadata": {
    "ExecuteTime": {
     "end_time": "2021-02-24T01:07:25.462794Z",
     "start_time": "2021-02-24T01:07:25.458817Z"
    }
   },
   "outputs": [],
   "source": [
    "def func2():\n",
    "    local_var = 200\n",
    "    print(local_var)"
   ]
  },
  {
   "cell_type": "code",
   "execution_count": 29,
   "metadata": {
    "ExecuteTime": {
     "end_time": "2021-02-24T01:07:35.943619Z",
     "start_time": "2021-02-24T01:07:35.927989Z"
    }
   },
   "outputs": [
    {
     "name": "stdout",
     "output_type": "stream",
     "text": [
      "200\n"
     ]
    }
   ],
   "source": [
    "func2()"
   ]
  },
  {
   "cell_type": "code",
   "execution_count": 30,
   "metadata": {
    "ExecuteTime": {
     "end_time": "2021-02-24T01:08:01.746624Z",
     "start_time": "2021-02-24T01:08:01.738645Z"
    }
   },
   "outputs": [
    {
     "ename": "NameError",
     "evalue": "name 'local_var' is not defined",
     "output_type": "error",
     "traceback": [
      "\u001b[1;31m---------------------------------------------------------------------------\u001b[0m",
      "\u001b[1;31mNameError\u001b[0m                                 Traceback (most recent call last)",
      "\u001b[1;32m<ipython-input-30-3bfff76e6cd3>\u001b[0m in \u001b[0;36m<module>\u001b[1;34m\u001b[0m\n\u001b[1;32m----> 1\u001b[1;33m \u001b[0mprint\u001b[0m\u001b[1;33m(\u001b[0m\u001b[0mlocal_var\u001b[0m\u001b[1;33m)\u001b[0m\u001b[1;33m\u001b[0m\u001b[1;33m\u001b[0m\u001b[0m\n\u001b[0m",
      "\u001b[1;31mNameError\u001b[0m: name 'local_var' is not defined"
     ]
    }
   ],
   "source": [
    "print(local_var)"
   ]
  },
  {
   "cell_type": "code",
   "execution_count": 1,
   "metadata": {
    "ExecuteTime": {
     "end_time": "2021-02-24T12:31:18.754175Z",
     "start_time": "2021-02-24T12:31:18.410945Z"
    }
   },
   "outputs": [
    {
     "ename": "UnboundLocalError",
     "evalue": "local variable 'g_var' referenced before assignment",
     "output_type": "error",
     "traceback": [
      "\u001b[1;31m---------------------------------------------------------------------------\u001b[0m",
      "\u001b[1;31mUnboundLocalError\u001b[0m                         Traceback (most recent call last)",
      "\u001b[1;32m<ipython-input-1-8b31894eb38c>\u001b[0m in \u001b[0;36m<module>\u001b[1;34m\u001b[0m\n\u001b[0;32m      6\u001b[0m     \u001b[0mg_var\u001b[0m \u001b[1;33m=\u001b[0m \u001b[1;36m200\u001b[0m \u001b[1;31m# 지역변수 선언 후 할당\u001b[0m\u001b[1;33m\u001b[0m\u001b[1;33m\u001b[0m\u001b[0m\n\u001b[0;32m      7\u001b[0m     \u001b[0mprint\u001b[0m\u001b[1;33m(\u001b[0m\u001b[1;34m\"after\"\u001b[0m\u001b[1;33m,\u001b[0m \u001b[0mg_var\u001b[0m\u001b[1;33m)\u001b[0m\u001b[1;33m\u001b[0m\u001b[1;33m\u001b[0m\u001b[0m\n\u001b[1;32m----> 8\u001b[1;33m \u001b[0mfun3\u001b[0m\u001b[1;33m(\u001b[0m\u001b[1;33m)\u001b[0m\u001b[1;33m\u001b[0m\u001b[1;33m\u001b[0m\u001b[0m\n\u001b[0m\u001b[0;32m      9\u001b[0m \u001b[1;33m\u001b[0m\u001b[0m\n",
      "\u001b[1;32m<ipython-input-1-8b31894eb38c>\u001b[0m in \u001b[0;36mfun3\u001b[1;34m()\u001b[0m\n\u001b[0;32m      3\u001b[0m \u001b[1;33m\u001b[0m\u001b[0m\n\u001b[0;32m      4\u001b[0m \u001b[1;32mdef\u001b[0m \u001b[0mfun3\u001b[0m\u001b[1;33m(\u001b[0m\u001b[1;33m)\u001b[0m\u001b[1;33m:\u001b[0m\u001b[1;33m\u001b[0m\u001b[1;33m\u001b[0m\u001b[0m\n\u001b[1;32m----> 5\u001b[1;33m     \u001b[0mprint\u001b[0m\u001b[1;33m(\u001b[0m\u001b[1;34m\"before\"\u001b[0m\u001b[1;33m,\u001b[0m \u001b[0mg_var\u001b[0m\u001b[1;33m)\u001b[0m\u001b[1;33m\u001b[0m\u001b[1;33m\u001b[0m\u001b[0m\n\u001b[0m\u001b[0;32m      6\u001b[0m     \u001b[0mg_var\u001b[0m \u001b[1;33m=\u001b[0m \u001b[1;36m200\u001b[0m \u001b[1;31m# 지역변수 선언 후 할당\u001b[0m\u001b[1;33m\u001b[0m\u001b[1;33m\u001b[0m\u001b[0m\n\u001b[0;32m      7\u001b[0m     \u001b[0mprint\u001b[0m\u001b[1;33m(\u001b[0m\u001b[1;34m\"after\"\u001b[0m\u001b[1;33m,\u001b[0m \u001b[0mg_var\u001b[0m\u001b[1;33m)\u001b[0m\u001b[1;33m\u001b[0m\u001b[1;33m\u001b[0m\u001b[0m\n",
      "\u001b[1;31mUnboundLocalError\u001b[0m: local variable 'g_var' referenced before assignment"
     ]
    }
   ],
   "source": [
    "# 렉시컬 특성\n",
    "g_var = 100\n",
    "\n",
    "def fun3():\n",
    "    print(\"before\", g_var)\n",
    "    g_var = 200 # 지역변수 선언 후 할당\n",
    "    print(\"after\", g_var)\n",
    "fun3()\n",
    "    "
   ]
  },
  {
   "cell_type": "code",
   "execution_count": 35,
   "metadata": {
    "ExecuteTime": {
     "end_time": "2021-02-24T01:16:35.383277Z",
     "start_time": "2021-02-24T01:16:35.378298Z"
    }
   },
   "outputs": [
    {
     "name": "stdout",
     "output_type": "stream",
     "text": [
      "실행전 g_var :  100\n",
      "before :  100\n",
      "after :  200\n",
      "200\n"
     ]
    }
   ],
   "source": [
    "g_var = 100\n",
    "\n",
    "def fun3():\n",
    "    global g_var # g_var 을 전역 변수로 사용하겠다고 선언\n",
    "    print('before : ', g_var)\n",
    "    g_var = 200 # 전역변수 g_var에 다시 값 할당\n",
    "    print('after : ', g_var) \n",
    "\n",
    "print('실행전 g_var : ',g_var)\n",
    "fun3()\n",
    "print(g_var)"
   ]
  },
  {
   "cell_type": "code",
   "execution_count": 38,
   "metadata": {
    "ExecuteTime": {
     "end_time": "2021-02-24T01:20:23.308919Z",
     "start_time": "2021-02-24T01:20:23.305918Z"
    }
   },
   "outputs": [
    {
     "name": "stdout",
     "output_type": "stream",
     "text": [
      "func1() 실행 전 global_var 값:  100\n",
      "200\n",
      "func1() 실행 후 global_var 값:  100\n"
     ]
    }
   ],
   "source": [
    "global_var = 100\n",
    "\n",
    "def func1():\n",
    "    global_var = 200 # 지역변수 선언\n",
    "    print(global_var) # 지역변수\n",
    "print('func1() 실행 전 global_var 값: ', global_var)\n",
    "func1()\n",
    "print('func1() 실행 후 global_var 값: ', global_var)"
   ]
  },
  {
   "cell_type": "code",
   "execution_count": 39,
   "metadata": {
    "ExecuteTime": {
     "end_time": "2021-02-24T01:20:25.294172Z",
     "start_time": "2021-02-24T01:20:25.290163Z"
    }
   },
   "outputs": [
    {
     "name": "stdout",
     "output_type": "stream",
     "text": [
      "func1() 실행 전 global_var 값:  100\n",
      "200\n",
      "func1() 실행 후 global_var 값:  200\n"
     ]
    }
   ],
   "source": [
    "global_var = 100\n",
    "\n",
    "def func1():\n",
    "    global global_var\n",
    "    global_var = 200 # 전역변수 선언\n",
    "    print(global_var) # 전역변수\n",
    "print('func1() 실행 전 global_var 값: ', global_var)\n",
    "func1()\n",
    "print('func1() 실행 후 global_var 값: ', global_var)"
   ]
  },
  {
   "cell_type": "markdown",
   "metadata": {},
   "source": [
    "## 1.3 값에 의한 호출\n",
    "- 함수에 인수로 전달되는 변수가 스칼라 변수(숫자, 문자, 논리)일 경우"
   ]
  },
  {
   "cell_type": "code",
   "execution_count": 43,
   "metadata": {
    "ExecuteTime": {
     "end_time": "2021-02-24T01:39:53.515541Z",
     "start_time": "2021-02-24T01:39:53.510551Z"
    }
   },
   "outputs": [
    {
     "data": {
      "text/plain": [
       "2144034701040"
      ]
     },
     "execution_count": 43,
     "metadata": {},
     "output_type": "execute_result"
    }
   ],
   "source": [
    "foo = 'a' # 전역변수\n",
    "id(foo)"
   ]
  },
  {
   "cell_type": "code",
   "execution_count": 46,
   "metadata": {
    "ExecuteTime": {
     "end_time": "2021-02-24T01:41:37.891458Z",
     "start_time": "2021-02-24T01:41:37.886459Z"
    }
   },
   "outputs": [
    {
     "name": "stdout",
     "output_type": "stream",
     "text": [
      "Before :  a 의 주소는 2144034701040\n",
      "After :  aaa 의 주소는 2144117810736\n"
     ]
    }
   ],
   "source": [
    "def func1(foo): # 매개변수는 지역변수\n",
    "    print('Before : ', foo, '의 주소는', id(foo))\n",
    "    foo = foo * 3\n",
    "    print('After : ',  foo, '의 주소는', id(foo))\n",
    "func1(foo)"
   ]
  },
  {
   "cell_type": "code",
   "execution_count": 47,
   "metadata": {
    "ExecuteTime": {
     "end_time": "2021-02-24T01:43:45.506091Z",
     "start_time": "2021-02-24T01:43:45.503099Z"
    }
   },
   "outputs": [
    {
     "name": "stdout",
     "output_type": "stream",
     "text": [
      "a 2144034701040\n"
     ]
    }
   ],
   "source": [
    "print(foo, id(foo)) # 전역변수"
   ]
  },
  {
   "cell_type": "markdown",
   "metadata": {},
   "source": [
    "## 1.4 참조에 의한 호출\n",
    "- 함수에 인수로 전달되는 변수가 리스트, 딕셔너리, 셋일 경우"
   ]
  },
  {
   "cell_type": "code",
   "execution_count": 48,
   "metadata": {
    "ExecuteTime": {
     "end_time": "2021-02-24T01:45:25.299003Z",
     "start_time": "2021-02-24T01:45:25.294016Z"
    }
   },
   "outputs": [
    {
     "data": {
      "text/plain": [
       "2144125228224"
      ]
     },
     "execution_count": 48,
     "metadata": {},
     "output_type": "execute_result"
    }
   ],
   "source": [
    "L = [1,2,3,4,5]\n",
    "id(L)"
   ]
  },
  {
   "cell_type": "code",
   "execution_count": 49,
   "metadata": {
    "ExecuteTime": {
     "end_time": "2021-02-24T01:48:44.292239Z",
     "start_time": "2021-02-24T01:48:44.286274Z"
    }
   },
   "outputs": [
    {
     "name": "stdout",
     "output_type": "stream",
     "text": [
      "Before :  [1, 2, 3, 4, 5] 의 주소는 2144125228224\n",
      "After :  [1, 2, 3, 4, 5, 6] 의 주소는 2144125228224\n",
      "함수 호출 후에 L :  [1, 2, 3, 4, 5, 6] 의 주소는 : 2144125228224\n"
     ]
    }
   ],
   "source": [
    "def func2(foo):\n",
    "    print('Before : ', foo, '의 주소는', id(foo))\n",
    "    foo.append(6)\n",
    "    print('After : ', foo, '의 주소는', id(foo))\n",
    "func2(L)\n",
    "print('함수 호출 후에 L : ', L, '의 주소는 :', id(L))\n"
   ]
  },
  {
   "cell_type": "markdown",
   "metadata": {},
   "source": [
    "## 1.5 함수 이름 변경\n",
    "- Python: 함수형 언어, 객체지향 언어"
   ]
  },
  {
   "cell_type": "code",
   "execution_count": 50,
   "metadata": {
    "ExecuteTime": {
     "end_time": "2021-02-24T01:51:10.331256Z",
     "start_time": "2021-02-24T01:51:10.327266Z"
    }
   },
   "outputs": [],
   "source": [
    "def fibonacci(n):\n",
    "    \"\"\"\n",
    "    매개변수로 들어온 n값 미만까지 피보나치 수열을 출력합니다.\n",
    "    \"\"\"\n",
    "    \n",
    "    a,b = 0,1\n",
    "    \n",
    "    while a < n:\n",
    "        print(a, end=' ')\n",
    "        a, b = b, a+b\n",
    "    print()"
   ]
  },
  {
   "cell_type": "code",
   "execution_count": 52,
   "metadata": {
    "ExecuteTime": {
     "end_time": "2021-02-24T01:51:32.014534Z",
     "start_time": "2021-02-24T01:51:31.998646Z"
    }
   },
   "outputs": [
    {
     "data": {
      "text/plain": [
       "function"
      ]
     },
     "execution_count": 52,
     "metadata": {},
     "output_type": "execute_result"
    }
   ],
   "source": [
    "type(fibonacci)"
   ]
  },
  {
   "cell_type": "code",
   "execution_count": 53,
   "metadata": {
    "ExecuteTime": {
     "end_time": "2021-02-24T01:52:12.594900Z",
     "start_time": "2021-02-24T01:52:12.591896Z"
    }
   },
   "outputs": [],
   "source": [
    "fibo = fibonacci # fibonacci가 fibo로 사용가능"
   ]
  },
  {
   "cell_type": "code",
   "execution_count": 54,
   "metadata": {
    "ExecuteTime": {
     "end_time": "2021-02-24T01:52:56.392988Z",
     "start_time": "2021-02-24T01:52:56.388999Z"
    }
   },
   "outputs": [
    {
     "name": "stdout",
     "output_type": "stream",
     "text": [
      "0 1 1 2 3 5 8 13 21 34 55 89 \n"
     ]
    }
   ],
   "source": [
    "fibo(100)"
   ]
  },
  {
   "cell_type": "markdown",
   "metadata": {},
   "source": [
    "# 2절. 함수의 실행 결과를 반환하는 return"
   ]
  },
  {
   "cell_type": "code",
   "execution_count": 59,
   "metadata": {
    "ExecuteTime": {
     "end_time": "2021-02-24T02:01:44.855827Z",
     "start_time": "2021-02-24T02:01:44.851825Z"
    }
   },
   "outputs": [],
   "source": [
    "def fibonacci_print(n):\n",
    "    \"\"\"\n",
    "    매개변수로 들어온 n값 미만까지 피보나치 수열을 출력합니다.\n",
    "    \"\"\"\n",
    "    \n",
    "    a,b = 0,1\n",
    "    \n",
    "    while a < n:\n",
    "        print(a, end=' ')\n",
    "        a, b = b, a+b\n",
    "    print()\n",
    "\n",
    "def fibonacci(n):\n",
    "    'n값 미만의 피보나치 수열을 return'\n",
    "    \n",
    "    result = []\n",
    "    a,b = 0,1\n",
    "    \n",
    "    while a < n:\n",
    "        result.append(a)\n",
    "        a, b = b, a+b\n",
    "        \n",
    "    return result\n"
   ]
  },
  {
   "cell_type": "code",
   "execution_count": 60,
   "metadata": {
    "ExecuteTime": {
     "end_time": "2021-02-24T02:02:00.583699Z",
     "start_time": "2021-02-24T02:02:00.579730Z"
    }
   },
   "outputs": [
    {
     "name": "stdout",
     "output_type": "stream",
     "text": [
      "0 1 1 2 3 5 8 13 21 34 55 89 \n"
     ]
    }
   ],
   "source": [
    "x = fibonacci_print(100)"
   ]
  },
  {
   "cell_type": "code",
   "execution_count": 63,
   "metadata": {
    "ExecuteTime": {
     "end_time": "2021-02-24T02:02:49.799566Z",
     "start_time": "2021-02-24T02:02:49.795575Z"
    }
   },
   "outputs": [
    {
     "name": "stdout",
     "output_type": "stream",
     "text": [
      "None <class 'NoneType'>\n"
     ]
    }
   ],
   "source": [
    "print(x, type(x))"
   ]
  },
  {
   "cell_type": "code",
   "execution_count": 64,
   "metadata": {
    "ExecuteTime": {
     "end_time": "2021-02-24T02:03:56.167744Z",
     "start_time": "2021-02-24T02:03:56.163755Z"
    }
   },
   "outputs": [],
   "source": [
    "L = fibonacci(100)"
   ]
  },
  {
   "cell_type": "code",
   "execution_count": 65,
   "metadata": {
    "ExecuteTime": {
     "end_time": "2021-02-24T02:04:20.007428Z",
     "start_time": "2021-02-24T02:04:20.003432Z"
    }
   },
   "outputs": [
    {
     "name": "stdout",
     "output_type": "stream",
     "text": [
      "[0, 1, 1, 2, 3, 5, 8, 13, 21, 34, 55, 89] <class 'list'>\n"
     ]
    }
   ],
   "source": [
    "print(L, type(L))"
   ]
  },
  {
   "cell_type": "markdown",
   "metadata": {},
   "source": [
    "## 2.1 여러개의 값 반환"
   ]
  },
  {
   "cell_type": "code",
   "execution_count": 66,
   "metadata": {
    "ExecuteTime": {
     "end_time": "2021-02-24T02:06:45.167365Z",
     "start_time": "2021-02-24T02:06:45.164354Z"
    }
   },
   "outputs": [],
   "source": [
    "def swap(a, b):\n",
    "    return b, a"
   ]
  },
  {
   "cell_type": "code",
   "execution_count": 68,
   "metadata": {
    "ExecuteTime": {
     "end_time": "2021-02-24T02:08:12.943929Z",
     "start_time": "2021-02-24T02:08:12.939965Z"
    }
   },
   "outputs": [
    {
     "name": "stdout",
     "output_type": "stream",
     "text": [
      "함수 실행 전 :  5 10\n",
      "함수 실행 후 :  10 5\n"
     ]
    }
   ],
   "source": [
    "x = 5\n",
    "y = 10\n",
    "print('함수 실행 전 : ', x, y)\n",
    "x, y = swap(x, y)\n",
    "print('함수 실행 후 : ', x, y)"
   ]
  },
  {
   "cell_type": "code",
   "execution_count": 69,
   "metadata": {
    "ExecuteTime": {
     "end_time": "2021-02-24T02:08:53.022908Z",
     "start_time": "2021-02-24T02:08:53.018918Z"
    }
   },
   "outputs": [
    {
     "name": "stdout",
     "output_type": "stream",
     "text": [
      "<class 'tuple'>\n",
      "(5, 10)\n"
     ]
    }
   ],
   "source": [
    "a = swap(x, y)\n",
    "print(type(a))\n",
    "print(a)"
   ]
  },
  {
   "cell_type": "markdown",
   "metadata": {},
   "source": [
    "# 3절. 함수의 매개변수(중요)"
   ]
  },
  {
   "cell_type": "markdown",
   "metadata": {},
   "source": [
    "## 3.1 기본값을 갖는 매개변수"
   ]
  },
  {
   "cell_type": "code",
   "execution_count": 70,
   "metadata": {
    "ExecuteTime": {
     "end_time": "2021-02-24T02:14:56.262922Z",
     "start_time": "2021-02-24T02:14:56.247277Z"
    }
   },
   "outputs": [
    {
     "data": {
      "text/plain": [
       "'http://localhost:80'"
      ]
     },
     "execution_count": 70,
     "metadata": {},
     "output_type": "execute_result"
    }
   ],
   "source": [
    "def make_url(ip, port=80):\n",
    "    return \"http://{}:{}\".format(ip, port)\n",
    "make_url('localhost',80)"
   ]
  },
  {
   "cell_type": "code",
   "execution_count": 71,
   "metadata": {
    "ExecuteTime": {
     "end_time": "2021-02-24T02:15:21.519643Z",
     "start_time": "2021-02-24T02:15:21.515680Z"
    }
   },
   "outputs": [
    {
     "data": {
      "text/plain": [
       "'http://localhost:80'"
      ]
     },
     "execution_count": 71,
     "metadata": {},
     "output_type": "execute_result"
    }
   ],
   "source": [
    "make_url(\"localhost\")"
   ]
  },
  {
   "cell_type": "markdown",
   "metadata": {},
   "source": [
    "## 3.2 기본 변수를 갖는 매개변수 "
   ]
  },
  {
   "cell_type": "code",
   "execution_count": 72,
   "metadata": {
    "ExecuteTime": {
     "end_time": "2021-02-24T02:19:13.679279Z",
     "start_time": "2021-02-24T02:19:13.676295Z"
    }
   },
   "outputs": [],
   "source": [
    "i = 5\n",
    "# 기본 변수가 스탈라 변수일 때 arg의 기본값은 함수가 정의된 지점에서 한번만 평가된다.\n",
    "def func2(arg=i): \n",
    "    print('arg = ', arg)"
   ]
  },
  {
   "cell_type": "code",
   "execution_count": 73,
   "metadata": {
    "ExecuteTime": {
     "end_time": "2021-02-24T02:19:51.783537Z",
     "start_time": "2021-02-24T02:19:51.779573Z"
    }
   },
   "outputs": [
    {
     "name": "stdout",
     "output_type": "stream",
     "text": [
      "arg =  5\n"
     ]
    }
   ],
   "source": [
    "i = 6\n",
    "func2()"
   ]
  },
  {
   "cell_type": "code",
   "execution_count": 74,
   "metadata": {
    "ExecuteTime": {
     "end_time": "2021-02-24T02:21:05.382292Z",
     "start_time": "2021-02-24T02:21:05.378303Z"
    }
   },
   "outputs": [
    {
     "name": "stdout",
     "output_type": "stream",
     "text": [
      "arg =  5\n",
      "None\n"
     ]
    }
   ],
   "source": [
    "print(func2())"
   ]
  },
  {
   "cell_type": "code",
   "execution_count": 77,
   "metadata": {
    "ExecuteTime": {
     "end_time": "2021-02-24T02:39:44.259593Z",
     "start_time": "2021-02-24T02:39:44.255598Z"
    }
   },
   "outputs": [
    {
     "name": "stdout",
     "output_type": "stream",
     "text": [
      "[1]\n",
      "[1]\n"
     ]
    }
   ],
   "source": [
    "# 기본 변수가 리스느, 딕셔너리, 셋 또는 객체일 때 함수를 호출 후 다시 전달\n",
    "list_ = []\n",
    "\n",
    "def func3(a, L = list_):\n",
    "    L.append(a)\n",
    "    return L\n",
    "print(func3(1))\n",
    "print(list_)"
   ]
  },
  {
   "cell_type": "code",
   "execution_count": 81,
   "metadata": {
    "ExecuteTime": {
     "end_time": "2021-02-24T02:41:48.891834Z",
     "start_time": "2021-02-24T02:41:48.887845Z"
    }
   },
   "outputs": [
    {
     "name": "stdout",
     "output_type": "stream",
     "text": [
      "[1, 2, 2, 2, 2]\n",
      "[1, 2, 2, 2, 2]\n"
     ]
    }
   ],
   "source": [
    "print(func3(2))\n",
    "print(list_)"
   ]
  },
  {
   "cell_type": "code",
   "execution_count": 82,
   "metadata": {
    "ExecuteTime": {
     "end_time": "2021-02-24T02:44:26.883174Z",
     "start_time": "2021-02-24T02:44:26.879185Z"
    }
   },
   "outputs": [
    {
     "name": "stdout",
     "output_type": "stream",
     "text": [
      "[1]\n"
     ]
    }
   ],
   "source": [
    "def func(a, L=[]):\n",
    "    L.append(a)\n",
    "    return L\n",
    "\n",
    "print(func(1))"
   ]
  },
  {
   "cell_type": "code",
   "execution_count": 83,
   "metadata": {
    "ExecuteTime": {
     "end_time": "2021-02-24T02:45:26.524334Z",
     "start_time": "2021-02-24T02:45:26.520363Z"
    }
   },
   "outputs": [
    {
     "name": "stdout",
     "output_type": "stream",
     "text": [
      "[1, 2]\n"
     ]
    }
   ],
   "source": [
    "print(func(2))"
   ]
  },
  {
   "cell_type": "markdown",
   "metadata": {},
   "source": [
    "## 3.3 순서 인수와 키워드 인수\n",
    "- 순서인수(기본값을 갖는 인수)가 같이 올 때는 키워드 인수가 반드시 뒤에 온다.\n",
    "<pre>\n",
    "    def function명 (변수명1, 변수명2, 변수명=기본값)\n",
    "                    문서변수         키워드 변수"
   ]
  },
  {
   "cell_type": "code",
   "execution_count": 85,
   "metadata": {
    "ExecuteTime": {
     "end_time": "2021-02-24T02:53:38.748880Z",
     "start_time": "2021-02-24T02:53:38.743893Z"
    }
   },
   "outputs": [
    {
     "data": {
      "text/plain": [
       "[10]"
      ]
     },
     "execution_count": 85,
     "metadata": {},
     "output_type": "execute_result"
    }
   ],
   "source": [
    "def func4(a, L=None):\n",
    "    if L is None:\n",
    "        L = []\n",
    "    L.append(a)\n",
    "    return L\n",
    "    \n",
    "func4(10)"
   ]
  },
  {
   "cell_type": "code",
   "execution_count": 89,
   "metadata": {
    "ExecuteTime": {
     "end_time": "2021-02-24T02:54:27.282566Z",
     "start_time": "2021-02-24T02:54:27.277599Z"
    }
   },
   "outputs": [
    {
     "data": {
      "text/plain": [
       "[30]"
      ]
     },
     "execution_count": 89,
     "metadata": {},
     "output_type": "execute_result"
    }
   ],
   "source": [
    "func4(30)"
   ]
  },
  {
   "cell_type": "code",
   "execution_count": 91,
   "metadata": {
    "ExecuteTime": {
     "end_time": "2021-02-24T02:55:07.826078Z",
     "start_time": "2021-02-24T02:55:07.822095Z"
    }
   },
   "outputs": [
    {
     "data": {
      "text/plain": [
       "[10]"
      ]
     },
     "execution_count": 91,
     "metadata": {},
     "output_type": "execute_result"
    }
   ],
   "source": [
    "list_ = []\n",
    "func4(10, list_)"
   ]
  },
  {
   "cell_type": "code",
   "execution_count": 95,
   "metadata": {
    "ExecuteTime": {
     "end_time": "2021-02-24T02:56:02.617435Z",
     "start_time": "2021-02-24T02:56:02.613426Z"
    }
   },
   "outputs": [
    {
     "data": {
      "text/plain": [
       "[10, 10, 10, 2, 2]"
      ]
     },
     "execution_count": 95,
     "metadata": {},
     "output_type": "execute_result"
    }
   ],
   "source": [
    "func4(2, list_)"
   ]
  },
  {
   "cell_type": "code",
   "execution_count": 96,
   "metadata": {
    "ExecuteTime": {
     "end_time": "2021-02-24T02:56:49.418694Z",
     "start_time": "2021-02-24T02:56:49.413732Z"
    }
   },
   "outputs": [
    {
     "data": {
      "text/plain": [
       "[10, 10, 10, 2, 2, 2]"
      ]
     },
     "execution_count": 96,
     "metadata": {},
     "output_type": "execute_result"
    }
   ],
   "source": [
    "func4(a=2, L=list_)"
   ]
  },
  {
   "cell_type": "code",
   "execution_count": 97,
   "metadata": {
    "ExecuteTime": {
     "end_time": "2021-02-24T02:57:37.034733Z",
     "start_time": "2021-02-24T02:57:37.029769Z"
    }
   },
   "outputs": [
    {
     "data": {
      "text/plain": [
       "[10, 10, 10, 2, 2, 2, 2]"
      ]
     },
     "execution_count": 97,
     "metadata": {},
     "output_type": "execute_result"
    }
   ],
   "source": [
    "func4(L=list_, a=2)"
   ]
  },
  {
   "cell_type": "code",
   "execution_count": 98,
   "metadata": {
    "ExecuteTime": {
     "end_time": "2021-02-24T02:57:57.433594Z",
     "start_time": "2021-02-24T02:57:57.429606Z"
    }
   },
   "outputs": [
    {
     "data": {
      "text/plain": [
       "[30]"
      ]
     },
     "execution_count": 98,
     "metadata": {},
     "output_type": "execute_result"
    }
   ],
   "source": [
    "func4(a=30)"
   ]
  },
  {
   "cell_type": "code",
   "execution_count": 99,
   "metadata": {
    "ExecuteTime": {
     "end_time": "2021-02-24T02:58:51.077357Z",
     "start_time": "2021-02-24T02:58:51.069358Z"
    }
   },
   "outputs": [
    {
     "ename": "TypeError",
     "evalue": "func4() got multiple values for argument 'L'",
     "output_type": "error",
     "traceback": [
      "\u001b[1;31m---------------------------------------------------------------------------\u001b[0m",
      "\u001b[1;31mTypeError\u001b[0m                                 Traceback (most recent call last)",
      "\u001b[1;32m<ipython-input-99-4805ead12ee4>\u001b[0m in \u001b[0;36m<module>\u001b[1;34m\u001b[0m\n\u001b[1;32m----> 1\u001b[1;33m \u001b[0mfunc4\u001b[0m\u001b[1;33m(\u001b[0m\u001b[1;36m50\u001b[0m\u001b[1;33m,\u001b[0m \u001b[1;36m40\u001b[0m\u001b[1;33m,\u001b[0m \u001b[0mL\u001b[0m\u001b[1;33m=\u001b[0m\u001b[1;33m[\u001b[0m\u001b[1;33m]\u001b[0m\u001b[1;33m)\u001b[0m\u001b[1;33m\u001b[0m\u001b[1;33m\u001b[0m\u001b[0m\n\u001b[0m",
      "\u001b[1;31mTypeError\u001b[0m: func4() got multiple values for argument 'L'"
     ]
    }
   ],
   "source": [
    "func4(50, 40, L=[]) #에러발생 - a값이 동시에 2개가 들어와서"
   ]
  },
  {
   "cell_type": "code",
   "execution_count": 100,
   "metadata": {
    "ExecuteTime": {
     "end_time": "2021-02-24T02:59:40.014457Z",
     "start_time": "2021-02-24T02:59:40.005481Z"
    }
   },
   "outputs": [
    {
     "ename": "TypeError",
     "evalue": "func4() got multiple values for argument 'a'",
     "output_type": "error",
     "traceback": [
      "\u001b[1;31m---------------------------------------------------------------------------\u001b[0m",
      "\u001b[1;31mTypeError\u001b[0m                                 Traceback (most recent call last)",
      "\u001b[1;32m<ipython-input-100-50b44bea2a06>\u001b[0m in \u001b[0;36m<module>\u001b[1;34m\u001b[0m\n\u001b[1;32m----> 1\u001b[1;33m \u001b[0mfunc4\u001b[0m\u001b[1;33m(\u001b[0m\u001b[1;33m[\u001b[0m\u001b[1;33m]\u001b[0m\u001b[1;33m,\u001b[0m \u001b[0ma\u001b[0m\u001b[1;33m=\u001b[0m\u001b[1;36m30\u001b[0m\u001b[1;33m)\u001b[0m\u001b[1;33m\u001b[0m\u001b[1;33m\u001b[0m\u001b[0m\n\u001b[0m",
      "\u001b[1;31mTypeError\u001b[0m: func4() got multiple values for argument 'a'"
     ]
    }
   ],
   "source": [
    "func4([], a=30) # 에러발생 - a에 []를 먼저 전달하여 발생"
   ]
  },
  {
   "cell_type": "code",
   "execution_count": 101,
   "metadata": {
    "ExecuteTime": {
     "end_time": "2021-02-24T03:00:52.474137Z",
     "start_time": "2021-02-24T03:00:52.469151Z"
    }
   },
   "outputs": [
    {
     "data": {
      "text/plain": [
       "[[]]"
      ]
     },
     "execution_count": 101,
     "metadata": {},
     "output_type": "execute_result"
    }
   ],
   "source": [
    "func4([])"
   ]
  },
  {
   "cell_type": "code",
   "execution_count": 104,
   "metadata": {
    "ExecuteTime": {
     "end_time": "2021-02-24T03:03:59.706716Z",
     "start_time": "2021-02-24T03:03:59.700731Z"
    }
   },
   "outputs": [
    {
     "data": {
      "text/plain": [
       "[10, 10, 10, 2, 2, 2, 2, 70]"
      ]
     },
     "execution_count": 104,
     "metadata": {},
     "output_type": "execute_result"
    }
   ],
   "source": [
    "func4(L=list_, a=70)"
   ]
  },
  {
   "cell_type": "markdown",
   "metadata": {},
   "source": [
    "## 3.4 튜플 매개 변수를 이용한 가변인수 설정"
   ]
  },
  {
   "cell_type": "code",
   "execution_count": 105,
   "metadata": {
    "ExecuteTime": {
     "end_time": "2021-02-24T03:07:59.768313Z",
     "start_time": "2021-02-24T03:07:59.764324Z"
    }
   },
   "outputs": [
    {
     "name": "stdout",
     "output_type": "stream",
     "text": [
      "3\n"
     ]
    }
   ],
   "source": [
    "def add(a, b):\n",
    "    return a + b\n",
    "\n",
    "print(add(1, 2))"
   ]
  },
  {
   "cell_type": "code",
   "execution_count": 106,
   "metadata": {
    "ExecuteTime": {
     "end_time": "2021-02-24T03:08:50.640284Z",
     "start_time": "2021-02-24T03:08:50.636321Z"
    }
   },
   "outputs": [
    {
     "name": "stdout",
     "output_type": "stream",
     "text": [
      "6\n"
     ]
    }
   ],
   "source": [
    "def add(a, b, c):\n",
    "    return a+b+c\n",
    "\n",
    "print(add(1,2,3))"
   ]
  },
  {
   "cell_type": "code",
   "execution_count": 107,
   "metadata": {
    "ExecuteTime": {
     "end_time": "2021-02-24T03:09:09.099253Z",
     "start_time": "2021-02-24T03:09:09.092275Z"
    }
   },
   "outputs": [
    {
     "ename": "TypeError",
     "evalue": "add() missing 1 required positional argument: 'c'",
     "output_type": "error",
     "traceback": [
      "\u001b[1;31m---------------------------------------------------------------------------\u001b[0m",
      "\u001b[1;31mTypeError\u001b[0m                                 Traceback (most recent call last)",
      "\u001b[1;32m<ipython-input-107-4554db589b65>\u001b[0m in \u001b[0;36m<module>\u001b[1;34m\u001b[0m\n\u001b[1;32m----> 1\u001b[1;33m \u001b[0mprint\u001b[0m\u001b[1;33m(\u001b[0m\u001b[0madd\u001b[0m\u001b[1;33m(\u001b[0m\u001b[1;36m10\u001b[0m\u001b[1;33m,\u001b[0m\u001b[1;36m20\u001b[0m\u001b[1;33m)\u001b[0m\u001b[1;33m)\u001b[0m\u001b[1;33m\u001b[0m\u001b[1;33m\u001b[0m\u001b[0m\n\u001b[0m",
      "\u001b[1;31mTypeError\u001b[0m: add() missing 1 required positional argument: 'c'"
     ]
    }
   ],
   "source": [
    "# 파이썬은 함수의 중복(overload) 불가\n",
    "print(add(10,20))"
   ]
  },
  {
   "cell_type": "code",
   "execution_count": 109,
   "metadata": {
    "ExecuteTime": {
     "end_time": "2021-02-24T03:13:18.456857Z",
     "start_time": "2021-02-24T03:13:18.451888Z"
    }
   },
   "outputs": [
    {
     "name": "stdout",
     "output_type": "stream",
     "text": [
      "15\n",
      "1\n"
     ]
    }
   ],
   "source": [
    "# agrs 앞에 * : args가 튜플 전달\n",
    "def add(*args): # args = (1,2,3,4,5)\n",
    "    sum = 0\n",
    "    for num in args:\n",
    "        sum += num\n",
    "    return sum\n",
    "\n",
    "print(add(1,2,3,4,5))\n",
    "print(add(1))"
   ]
  },
  {
   "cell_type": "code",
   "execution_count": 111,
   "metadata": {
    "ExecuteTime": {
     "end_time": "2021-02-24T03:15:49.248480Z",
     "start_time": "2021-02-24T03:15:49.243519Z"
    }
   },
   "outputs": [
    {
     "data": {
      "text/plain": [
       "'서울-부산-인천'"
      ]
     },
     "execution_count": 111,
     "metadata": {},
     "output_type": "execute_result"
    }
   ],
   "source": [
    "#cf\n",
    "city = ('서울','부산','인천')\n",
    "'-'.join(city)"
   ]
  },
  {
   "cell_type": "code",
   "execution_count": 110,
   "metadata": {
    "ExecuteTime": {
     "end_time": "2021-02-24T03:15:02.855684Z",
     "start_time": "2021-02-24T03:15:02.851694Z"
    }
   },
   "outputs": [],
   "source": [
    "def concat(*args, sep):\n",
    "    return sep.join(args)"
   ]
  },
  {
   "cell_type": "code",
   "execution_count": 113,
   "metadata": {
    "ExecuteTime": {
     "end_time": "2021-02-24T03:17:47.248186Z",
     "start_time": "2021-02-24T03:17:47.244197Z"
    }
   },
   "outputs": [
    {
     "data": {
      "text/plain": [
       "'hello/world'"
      ]
     },
     "execution_count": 113,
     "metadata": {},
     "output_type": "execute_result"
    }
   ],
   "source": [
    "concat('hello', 'world', '/') # 에러발생"
   ]
  },
  {
   "cell_type": "code",
   "execution_count": 114,
   "metadata": {
    "ExecuteTime": {
     "end_time": "2021-02-24T03:19:00.303369Z",
     "start_time": "2021-02-24T03:19:00.299395Z"
    }
   },
   "outputs": [
    {
     "data": {
      "text/plain": [
       "'hello/world'"
      ]
     },
     "execution_count": 114,
     "metadata": {},
     "output_type": "execute_result"
    }
   ],
   "source": [
    "# 해결책 1.\n",
    "concat('hello', 'world', sep='/')"
   ]
  },
  {
   "cell_type": "code",
   "execution_count": 120,
   "metadata": {
    "ExecuteTime": {
     "end_time": "2021-02-24T03:28:07.182616Z",
     "start_time": "2021-02-24T03:28:07.177629Z"
    }
   },
   "outputs": [
    {
     "data": {
      "text/plain": [
       "'hello/world'"
      ]
     },
     "execution_count": 120,
     "metadata": {},
     "output_type": "execute_result"
    }
   ],
   "source": [
    "# 해결책 2.\n",
    "def concat(sep, *args):\n",
    "    return sep.join(args)\n",
    "concat('/','hello', 'world')"
   ]
  },
  {
   "cell_type": "code",
   "execution_count": 119,
   "metadata": {
    "ExecuteTime": {
     "end_time": "2021-02-24T03:28:03.686911Z",
     "start_time": "2021-02-24T03:28:03.681925Z"
    }
   },
   "outputs": [
    {
     "data": {
      "text/plain": [
       "'marsearthvenus'"
      ]
     },
     "execution_count": 119,
     "metadata": {},
     "output_type": "execute_result"
    }
   ],
   "source": [
    "concat('earth','mars','venus')\n"
   ]
  },
  {
   "cell_type": "code",
   "execution_count": 121,
   "metadata": {
    "ExecuteTime": {
     "end_time": "2021-02-24T03:29:52.382109Z",
     "start_time": "2021-02-24T03:29:52.379116Z"
    }
   },
   "outputs": [],
   "source": [
    "# 해결책 3.\n",
    "def concat(*args, sep='/'): # 순서인수 > 튜플인수 > 키워드인수\n",
    "    return sep.join(args)"
   ]
  },
  {
   "cell_type": "code",
   "execution_count": 122,
   "metadata": {
    "ExecuteTime": {
     "end_time": "2021-02-24T03:29:59.886419Z",
     "start_time": "2021-02-24T03:29:59.881458Z"
    }
   },
   "outputs": [
    {
     "data": {
      "text/plain": [
       "'earth/mars/venus'"
      ]
     },
     "execution_count": 122,
     "metadata": {},
     "output_type": "execute_result"
    }
   ],
   "source": [
    "concat('earth','mars','venus')"
   ]
  },
  {
   "cell_type": "code",
   "execution_count": 133,
   "metadata": {
    "ExecuteTime": {
     "end_time": "2021-02-24T04:13:41.040993Z",
     "start_time": "2021-02-24T04:13:41.036006Z"
    }
   },
   "outputs": [
    {
     "data": {
      "text/plain": [
       "'Python ~ R ~ hadoop'"
      ]
     },
     "execution_count": 133,
     "metadata": {},
     "output_type": "execute_result"
    }
   ],
   "source": [
    "concat('Python','R','hadoop', sep=' ~ ')"
   ]
  },
  {
   "cell_type": "markdown",
   "metadata": {},
   "source": [
    "## 3.5 딕셔너리 매개변수\n",
    "- 순서인수, 튜플인수, 키워드인수, 딕셔너리 인수 등 같이 사용가능"
   ]
  },
  {
   "cell_type": "code",
   "execution_count": 123,
   "metadata": {
    "ExecuteTime": {
     "end_time": "2021-02-24T03:50:23.356362Z",
     "start_time": "2021-02-24T03:50:23.352373Z"
    }
   },
   "outputs": [
    {
     "name": "stdout",
     "output_type": "stream",
     "text": [
      "name:홍길동\n",
      "age:20\n",
      "address:서울시 서대문구\n"
     ]
    }
   ],
   "source": [
    "def func5(**args): # args가 딕셔너리로 전달(**)\n",
    "                   # args  = (name = '홍길동', age=20, address='서울시 서대문구') \n",
    "    for key, value in args.items():\n",
    "        print('{}:{}'.format(key, value))\n",
    "\n",
    "func5(name = '홍길동', age=20, address='서울시 서대문구')"
   ]
  },
  {
   "cell_type": "code",
   "execution_count": 127,
   "metadata": {
    "ExecuteTime": {
     "end_time": "2021-02-24T03:53:11.346838Z",
     "start_time": "2021-02-24T03:53:11.342869Z"
    }
   },
   "outputs": [],
   "source": [
    "# 순서인수, 튜플인수, 키워드인수, 딕셔너리인수\n",
    "def func6(a, *b, **c):\n",
    "    print('a=',a)\n",
    "    print('b=',b)\n",
    "    print('c=',c)"
   ]
  },
  {
   "cell_type": "code",
   "execution_count": 128,
   "metadata": {
    "ExecuteTime": {
     "end_time": "2021-02-24T03:53:55.578947Z",
     "start_time": "2021-02-24T03:53:55.574983Z"
    }
   },
   "outputs": [
    {
     "name": "stdout",
     "output_type": "stream",
     "text": [
      "a= 10\n",
      "b= (1, 2, 3, 4, 5)\n",
      "c= {'name': 'kim', 'age': 30}\n"
     ]
    }
   ],
   "source": [
    "func6(10,1,2,3,4,5, name='kim', age=30)"
   ]
  },
  {
   "cell_type": "markdown",
   "metadata": {},
   "source": [
    "## 3.6 함수의 매개변수 순서"
   ]
  },
  {
   "cell_type": "code",
   "execution_count": null,
   "metadata": {},
   "outputs": [],
   "source": [
    "# 순서인수, 튜플인수, 키워드인수, 딕셔너리인수\n",
    "def func(a, b, c, *d, e=10, **f):\n",
    "     print('a=',a)\n",
    "     print('b=',b)\n",
    "     print('c=',c)\n",
    "     print('d=',d)\n",
    "     print('e=',e)\n",
    "     print('f=',f)"
   ]
  },
  {
   "cell_type": "code",
   "execution_count": 129,
   "metadata": {
    "ExecuteTime": {
     "end_time": "2021-02-24T03:58:56.176777Z",
     "start_time": "2021-02-24T03:58:56.167801Z"
    }
   },
   "outputs": [
    {
     "ename": "TypeError",
     "evalue": "func() got an unexpected keyword argument 'e'",
     "output_type": "error",
     "traceback": [
      "\u001b[1;31m---------------------------------------------------------------------------\u001b[0m",
      "\u001b[1;31mTypeError\u001b[0m                                 Traceback (most recent call last)",
      "\u001b[1;32m<ipython-input-129-834c7291d96a>\u001b[0m in \u001b[0;36m<module>\u001b[1;34m\u001b[0m\n\u001b[1;32m----> 1\u001b[1;33m \u001b[0mfunc\u001b[0m\u001b[1;33m(\u001b[0m\u001b[1;36m10\u001b[0m\u001b[1;33m,\u001b[0m\u001b[1;36m20\u001b[0m\u001b[1;33m,\u001b[0m\u001b[1;36m30\u001b[0m\u001b[1;33m,\u001b[0m\u001b[1;36m1\u001b[0m\u001b[1;33m,\u001b[0m\u001b[1;36m2\u001b[0m\u001b[1;33m,\u001b[0m\u001b[1;36m3\u001b[0m\u001b[1;33m,\u001b[0m\u001b[1;36m4\u001b[0m\u001b[1;33m,\u001b[0m\u001b[1;36m2\u001b[0m\u001b[1;33m,\u001b[0m\u001b[1;36m4\u001b[0m\u001b[1;33m,\u001b[0m\u001b[0me\u001b[0m\u001b[1;33m=\u001b[0m\u001b[1;36m20\u001b[0m\u001b[1;33m,\u001b[0m \u001b[0mname\u001b[0m\u001b[1;33m=\u001b[0m\u001b[1;34m'kim'\u001b[0m\u001b[1;33m,\u001b[0m \u001b[0mage\u001b[0m\u001b[1;33m=\u001b[0m\u001b[1;36m30\u001b[0m\u001b[1;33m,\u001b[0m \u001b[0maddress\u001b[0m\u001b[1;33m=\u001b[0m\u001b[1;34m'마포'\u001b[0m\u001b[1;33m)\u001b[0m\u001b[1;33m\u001b[0m\u001b[1;33m\u001b[0m\u001b[0m\n\u001b[0m",
      "\u001b[1;31mTypeError\u001b[0m: func() got an unexpected keyword argument 'e'"
     ]
    }
   ],
   "source": [
    "func(10,20,30,1,2,3,4,2,4,e=20, name='kim', age=30, address='마포')"
   ]
  },
  {
   "cell_type": "markdown",
   "metadata": {},
   "source": [
    "## 3.7 튜플의 언패킹"
   ]
  },
  {
   "cell_type": "code",
   "execution_count": 130,
   "metadata": {
    "ExecuteTime": {
     "end_time": "2021-02-24T04:01:23.068349Z",
     "start_time": "2021-02-24T04:01:23.063385Z"
    }
   },
   "outputs": [
    {
     "data": {
      "text/plain": [
       "10"
      ]
     },
     "execution_count": 130,
     "metadata": {},
     "output_type": "execute_result"
    }
   ],
   "source": [
    "def add (*args):\n",
    "    sum = 0\n",
    "    for num in args:\n",
    "        sum += num\n",
    "    return sum\n",
    "\n",
    "add(1,2,3,4)"
   ]
  },
  {
   "cell_type": "code",
   "execution_count": 131,
   "metadata": {
    "ExecuteTime": {
     "end_time": "2021-02-24T04:02:48.471245Z",
     "start_time": "2021-02-24T04:02:48.439976Z"
    }
   },
   "outputs": [
    {
     "data": {
      "text/plain": [
       "10"
      ]
     },
     "execution_count": 131,
     "metadata": {},
     "output_type": "execute_result"
    }
   ],
   "source": [
    "numbers = (1,2,3,4)\n",
    "# add(numbers)\n",
    "add(*numbers)"
   ]
  },
  {
   "cell_type": "code",
   "execution_count": 2,
   "metadata": {
    "ExecuteTime": {
     "end_time": "2021-02-24T05:37:02.591320Z",
     "start_time": "2021-02-24T05:37:02.585335Z"
    }
   },
   "outputs": [
    {
     "name": "stdout",
     "output_type": "stream",
     "text": [
      "[0, 1, 2, 3, 4, 5, 6, 7, 8, 9]\n",
      "[5, 6, 7, 8, 9]\n",
      "[5, 7, 9]\n"
     ]
    }
   ],
   "source": [
    "# 예제: 다음과 같은 실행 결과를 같는 튜플인수 range2() 함수를 구현하시오.\n",
    "print(range2(10))\n",
    "print(range2(5,10))\n",
    "print(range2(5,10,2))\n",
    "    "
   ]
  },
  {
   "cell_type": "code",
   "execution_count": 5,
   "metadata": {
    "ExecuteTime": {
     "end_time": "2021-02-24T05:38:17.073225Z",
     "start_time": "2021-02-24T05:38:17.065255Z"
    }
   },
   "outputs": [
    {
     "name": "stdout",
     "output_type": "stream",
     "text": [
      "[0, 1, 2, 3, 4, 5, 6, 7, 8, 9]\n",
      "[5, 6, 7, 8, 9]\n",
      "[5, 7, 9]\n",
      "올바른 입력이 아닙니다.\n",
      "[]\n"
     ]
    }
   ],
   "source": [
    "def range2(*args):\n",
    "    length = len(args)\n",
    "    result = []\n",
    "    if length == 0:\n",
    "        raise Exception('매개 변수가 있어야 합니다.')\n",
    "    elif length == 1:\n",
    "        for i in range(args[0]):\n",
    "            result.append(i)\n",
    "    elif length == 2:\n",
    "        for i in range(args[0], args[1]):\n",
    "            result.append(i)\n",
    "    elif length == 3:\n",
    "        for i in range(args[0], args[1], args[2]):\n",
    "            result.append(i)\n",
    "    else:\n",
    "        print('올바른 입력이 아닙니다.')\n",
    "    return result\n",
    "\n",
    "print(range2(10))\n",
    "print(range2(5,10,))\n",
    "print(range2(5,10,2))\n",
    "print(range2(10,2,5,4))"
   ]
  },
  {
   "cell_type": "code",
   "execution_count": 7,
   "metadata": {
    "ExecuteTime": {
     "end_time": "2021-02-24T05:40:03.739247Z",
     "start_time": "2021-02-24T05:40:03.730271Z"
    }
   },
   "outputs": [
    {
     "data": {
      "text/plain": [
       "[5, 7, 9]"
      ]
     },
     "execution_count": 7,
     "metadata": {},
     "output_type": "execute_result"
    }
   ],
   "source": [
    "t = (5,10,2)\n",
    "range2(*t) # 튜플 ㅇ니수 언패킹"
   ]
  },
  {
   "cell_type": "code",
   "execution_count": 8,
   "metadata": {
    "ExecuteTime": {
     "end_time": "2021-02-24T05:41:59.309180Z",
     "start_time": "2021-02-24T05:41:59.304214Z"
    }
   },
   "outputs": [
    {
     "name": "stdout",
     "output_type": "stream",
     "text": [
      "('name', '홍길동')\n",
      "('age', 30)\n",
      "('address', '마포')\n"
     ]
    }
   ],
   "source": [
    "def func5(**data):\n",
    "    for item in data.items():\n",
    "        print(item)\n",
    "func5(name = '홍길동', age=30, address='마포')"
   ]
  },
  {
   "cell_type": "code",
   "execution_count": 9,
   "metadata": {
    "ExecuteTime": {
     "end_time": "2021-02-24T05:43:53.156172Z",
     "start_time": "2021-02-24T05:43:53.153171Z"
    }
   },
   "outputs": [
    {
     "name": "stdout",
     "output_type": "stream",
     "text": [
      "('name', '홍길동')\n",
      "('age', 30)\n",
      "('address', '마포')\n"
     ]
    }
   ],
   "source": [
    "customerInfo = {'name':'홍길동', 'age':30, 'address':'마포'}\n",
    "func5(**customerInfo) # 딕셔너리 언패킹"
   ]
  },
  {
   "cell_type": "markdown",
   "metadata": {},
   "source": [
    "# 4절. 람다식\n",
    "- 람다식은 작은 익명함수를 의미한다.\n",
    "- 실행할 문장의 한문장만 작성가능\n",
    "- return 구문이 없어도 statement 결과 반환\n",
    "- 리스트 컴프리션도 같이 참조\n",
    "- filter(), map() 함수도 깉이 참조"
   ]
  },
  {
   "cell_type": "markdown",
   "metadata": {},
   "source": [
    "## 4.1 람다식: 한줄짜리 작은 익명 함수를 의미"
   ]
  },
  {
   "cell_type": "code",
   "execution_count": 10,
   "metadata": {
    "ExecuteTime": {
     "end_time": "2021-02-24T05:50:40.360185Z",
     "start_time": "2021-02-24T05:50:40.355198Z"
    }
   },
   "outputs": [
    {
     "data": {
      "text/plain": [
       "11"
      ]
     },
     "execution_count": 10,
     "metadata": {},
     "output_type": "execute_result"
    }
   ],
   "source": [
    "def add(a, b):\n",
    "    return a + b\n",
    "add(5,6)"
   ]
  },
  {
   "cell_type": "code",
   "execution_count": 11,
   "metadata": {
    "ExecuteTime": {
     "end_time": "2021-02-24T05:51:37.204822Z",
     "start_time": "2021-02-24T05:51:37.200858Z"
    }
   },
   "outputs": [
    {
     "data": {
      "text/plain": [
       "<function __main__.add(a, b)>"
      ]
     },
     "execution_count": 11,
     "metadata": {},
     "output_type": "execute_result"
    }
   ],
   "source": [
    "add"
   ]
  },
  {
   "cell_type": "code",
   "execution_count": 12,
   "metadata": {
    "ExecuteTime": {
     "end_time": "2021-02-24T05:51:45.452324Z",
     "start_time": "2021-02-24T05:51:45.448334Z"
    }
   },
   "outputs": [
    {
     "data": {
      "text/plain": [
       "function"
      ]
     },
     "execution_count": 12,
     "metadata": {},
     "output_type": "execute_result"
    }
   ],
   "source": [
    "type(add)"
   ]
  },
  {
   "cell_type": "code",
   "execution_count": 13,
   "metadata": {
    "ExecuteTime": {
     "end_time": "2021-02-24T05:54:03.307512Z",
     "start_time": "2021-02-24T05:54:03.304541Z"
    }
   },
   "outputs": [],
   "source": [
    "add2 = lambda a,b : a + b"
   ]
  },
  {
   "cell_type": "code",
   "execution_count": 14,
   "metadata": {
    "ExecuteTime": {
     "end_time": "2021-02-24T05:54:11.667869Z",
     "start_time": "2021-02-24T05:54:11.662884Z"
    }
   },
   "outputs": [
    {
     "data": {
      "text/plain": [
       "30"
      ]
     },
     "execution_count": 14,
     "metadata": {},
     "output_type": "execute_result"
    }
   ],
   "source": [
    "add2(10,20)"
   ]
  },
  {
   "cell_type": "code",
   "execution_count": 15,
   "metadata": {
    "ExecuteTime": {
     "end_time": "2021-02-24T05:54:57.692896Z",
     "start_time": "2021-02-24T05:54:57.687911Z"
    }
   },
   "outputs": [
    {
     "data": {
      "text/plain": [
       "70"
      ]
     },
     "execution_count": 15,
     "metadata": {},
     "output_type": "execute_result"
    }
   ],
   "source": [
    "(lambda a,b : a + b)(30,40)"
   ]
  },
  {
   "cell_type": "markdown",
   "metadata": {},
   "source": [
    "## 4.2 함수의 인수에 람다식 사용"
   ]
  },
  {
   "cell_type": "code",
   "execution_count": 17,
   "metadata": {
    "ExecuteTime": {
     "end_time": "2021-02-24T06:00:52.466608Z",
     "start_time": "2021-02-24T06:00:52.462639Z"
    }
   },
   "outputs": [],
   "source": [
    "def map_template(func, L=[]):\n",
    "    result = []\n",
    "    for item in L:\n",
    "        result.append(func(item))\n",
    "    return result"
   ]
  },
  {
   "cell_type": "code",
   "execution_count": 19,
   "metadata": {
    "ExecuteTime": {
     "end_time": "2021-02-24T06:03:00.076451Z",
     "start_time": "2021-02-24T06:03:00.071465Z"
    }
   },
   "outputs": [
    {
     "data": {
      "text/plain": [
       "[2, 4, 6, 8, 10]"
      ]
     },
     "execution_count": 19,
     "metadata": {},
     "output_type": "execute_result"
    }
   ],
   "source": [
    "list_data = [1,2,3,4,5]\n",
    "\n",
    "def x_2(x):\n",
    "    return x*2\n",
    "\n",
    "map_template(x_2, list_data)"
   ]
  },
  {
   "cell_type": "code",
   "execution_count": 20,
   "metadata": {
    "ExecuteTime": {
     "end_time": "2021-02-24T06:05:03.059701Z",
     "start_time": "2021-02-24T06:05:03.054706Z"
    }
   },
   "outputs": [
    {
     "data": {
      "text/plain": [
       "[2, 4, 6, 8, 10]"
      ]
     },
     "execution_count": 20,
     "metadata": {},
     "output_type": "execute_result"
    }
   ],
   "source": [
    "map_template(lambda x : x*2, list_data)"
   ]
  },
  {
   "cell_type": "code",
   "execution_count": 21,
   "metadata": {
    "ExecuteTime": {
     "end_time": "2021-02-24T06:07:16.764541Z",
     "start_time": "2021-02-24T06:07:16.759537Z"
    }
   },
   "outputs": [
    {
     "data": {
      "text/plain": [
       "[2, 4, 6, 8, 10]"
      ]
     },
     "execution_count": 21,
     "metadata": {},
     "output_type": "execute_result"
    }
   ],
   "source": [
    "# map() 함수 이용\n",
    "list(map(lambda x:x*2, list_data))"
   ]
  },
  {
   "cell_type": "code",
   "execution_count": 22,
   "metadata": {
    "ExecuteTime": {
     "end_time": "2021-02-24T06:07:47.713493Z",
     "start_time": "2021-02-24T06:07:47.709494Z"
    }
   },
   "outputs": [
    {
     "data": {
      "text/plain": [
       "[2, 4, 6, 8, 10]"
      ]
     },
     "execution_count": 22,
     "metadata": {},
     "output_type": "execute_result"
    }
   ],
   "source": [
    "#리스트 컴프리텐션\n",
    "[x*2 for x in list_data]"
   ]
  },
  {
   "cell_type": "code",
   "execution_count": 26,
   "metadata": {
    "ExecuteTime": {
     "end_time": "2021-02-24T06:13:17.837438Z",
     "start_time": "2021-02-24T06:13:17.820709Z"
    }
   },
   "outputs": [],
   "source": [
    "def filter_template(func, L=[]):\n",
    "    result = []\n",
    "    for item in L:\n",
    "        if func(item):\n",
    "            result.append(item)\n",
    "    return result"
   ]
  },
  {
   "cell_type": "code",
   "execution_count": 27,
   "metadata": {
    "ExecuteTime": {
     "end_time": "2021-02-24T06:14:55.506971Z",
     "start_time": "2021-02-24T06:14:55.501996Z"
    }
   },
   "outputs": [
    {
     "data": {
      "text/plain": [
       "[2, 4]"
      ]
     },
     "execution_count": 27,
     "metadata": {},
     "output_type": "execute_result"
    }
   ],
   "source": [
    "def every(x):\n",
    "    if x%2 == 0:\n",
    "        return True\n",
    "filter_template(every, list_data)\n",
    "        "
   ]
  },
  {
   "cell_type": "code",
   "execution_count": 29,
   "metadata": {
    "ExecuteTime": {
     "end_time": "2021-02-24T06:18:21.224038Z",
     "start_time": "2021-02-24T06:18:21.220036Z"
    }
   },
   "outputs": [
    {
     "data": {
      "text/plain": [
       "[2, 4]"
      ]
     },
     "execution_count": 29,
     "metadata": {},
     "output_type": "execute_result"
    }
   ],
   "source": [
    "filter_template(lambda x : x%2==0, list_data)"
   ]
  },
  {
   "cell_type": "code",
   "execution_count": 30,
   "metadata": {
    "ExecuteTime": {
     "end_time": "2021-02-24T06:19:25.368747Z",
     "start_time": "2021-02-24T06:19:25.364779Z"
    }
   },
   "outputs": [
    {
     "data": {
      "text/plain": [
       "[2, 4]"
      ]
     },
     "execution_count": 30,
     "metadata": {},
     "output_type": "execute_result"
    }
   ],
   "source": [
    "# filter() 함수\n",
    "list(filter(lambda x : x%2==0, list_data))"
   ]
  },
  {
   "cell_type": "code",
   "execution_count": 31,
   "metadata": {
    "ExecuteTime": {
     "end_time": "2021-02-24T06:20:32.521182Z",
     "start_time": "2021-02-24T06:20:32.516194Z"
    }
   },
   "outputs": [
    {
     "data": {
      "text/plain": [
       "[2, 4]"
      ]
     },
     "execution_count": 31,
     "metadata": {},
     "output_type": "execute_result"
    }
   ],
   "source": [
    "#리스트 컴프리텐션\n",
    "[x for x in list_data if x%2==0]"
   ]
  },
  {
   "cell_type": "markdown",
   "metadata": {},
   "source": []
  },
  {
   "cell_type": "code",
   "execution_count": 34,
   "metadata": {
    "ExecuteTime": {
     "end_time": "2021-02-24T06:46:45.494121Z",
     "start_time": "2021-02-24T06:46:45.489134Z"
    }
   },
   "outputs": [
    {
     "data": {
      "text/plain": [
       "[(4, 'four'), (1, 'one'), (3, 'three'), (2, 'two')]"
      ]
     },
     "execution_count": 34,
     "metadata": {},
     "output_type": "execute_result"
    }
   ],
   "source": [
    "pairs = [(1, 'one'), (3,'three'), (2,'two'),(4,'four')]\n",
    "pairs.sort(key=lambda pair : pair[1])\n",
    "pairs"
   ]
  },
  {
   "cell_type": "code",
   "execution_count": 35,
   "metadata": {
    "ExecuteTime": {
     "end_time": "2021-02-24T06:46:49.637072Z",
     "start_time": "2021-02-24T06:46:49.633083Z"
    }
   },
   "outputs": [
    {
     "data": {
      "text/plain": [
       "20"
      ]
     },
     "execution_count": 35,
     "metadata": {},
     "output_type": "execute_result"
    }
   ],
   "source": [
    "(lambda pair : pair[1])((10,20,30))"
   ]
  },
  {
   "cell_type": "code",
   "execution_count": 36,
   "metadata": {
    "ExecuteTime": {
     "end_time": "2021-02-24T06:48:52.902677Z",
     "start_time": "2021-02-24T06:48:52.897711Z"
    }
   },
   "outputs": [
    {
     "data": {
      "text/plain": [
       "1000000"
      ]
     },
     "execution_count": 36,
     "metadata": {},
     "output_type": "execute_result"
    }
   ],
   "source": [
    "def apply(data, func = None):\n",
    "    if func == None:\n",
    "        return data\n",
    "    else:\n",
    "        return func(data)\n",
    "apply(100, lambda x : x**3)"
   ]
  },
  {
   "cell_type": "markdown",
   "metadata": {},
   "source": [
    "## 4.3 리턴문에 람다식 이용"
   ]
  },
  {
   "cell_type": "code",
   "execution_count": 39,
   "metadata": {
    "ExecuteTime": {
     "end_time": "2021-02-24T06:58:58.228457Z",
     "start_time": "2021-02-24T06:58:58.223471Z"
    }
   },
   "outputs": [],
   "source": [
    "'''\n",
    "make_box((5,)) => 1차원 5개 짜리 list를 만드는 함수 \n",
    "fun => fun(10) => [10,10,10,10,10]\n",
    "\n",
    "\n",
    "'''\n",
    "# 함수를 return 하는 함수\n",
    "\n",
    "def make_box(shape):\n",
    "    def box(init_value):\n",
    "        if len(shape) == 1:\n",
    "            return [init_value] * shape[0]\n",
    "        elif len(shape) == 2:\n",
    "            return [[init_value] * shape[1]] * shape[0]\n",
    "    return box"
   ]
  },
  {
   "cell_type": "code",
   "execution_count": 43,
   "metadata": {
    "ExecuteTime": {
     "end_time": "2021-02-24T07:00:53.508189Z",
     "start_time": "2021-02-24T07:00:53.503209Z"
    }
   },
   "outputs": [
    {
     "data": {
      "text/plain": [
       "function"
      ]
     },
     "execution_count": 43,
     "metadata": {},
     "output_type": "execute_result"
    }
   ],
   "source": [
    "box1 = make_box([5,])\n",
    "type(box1)"
   ]
  },
  {
   "cell_type": "code",
   "execution_count": 42,
   "metadata": {
    "ExecuteTime": {
     "end_time": "2021-02-24T07:00:46.147685Z",
     "start_time": "2021-02-24T07:00:46.142699Z"
    }
   },
   "outputs": [
    {
     "data": {
      "text/plain": [
       "[10, 10, 10, 10, 10]"
      ]
     },
     "execution_count": 42,
     "metadata": {},
     "output_type": "execute_result"
    }
   ],
   "source": [
    "box1(10)"
   ]
  },
  {
   "cell_type": "code",
   "execution_count": 45,
   "metadata": {
    "ExecuteTime": {
     "end_time": "2021-02-24T07:01:47.275189Z",
     "start_time": "2021-02-24T07:01:47.271189Z"
    }
   },
   "outputs": [
    {
     "data": {
      "text/plain": [
       "[[10, 10, 10], [10, 10, 10]]"
      ]
     },
     "execution_count": 45,
     "metadata": {},
     "output_type": "execute_result"
    }
   ],
   "source": [
    "box2=make_box([2,3])\n",
    "box2(10)"
   ]
  },
  {
   "cell_type": "code",
   "execution_count": 46,
   "metadata": {
    "ExecuteTime": {
     "end_time": "2021-02-24T07:05:06.619228Z",
     "start_time": "2021-02-24T07:05:06.614251Z"
    }
   },
   "outputs": [],
   "source": [
    "def make_box1(shape):\n",
    "    if len(shape) == 1:\n",
    "        return lambda x : [x]*shape[0]\n",
    "    elif len(shape) == 2:\n",
    "        return lambda x : [[x]*shape[1]] *shape[0]\n",
    "        "
   ]
  },
  {
   "cell_type": "code",
   "execution_count": 48,
   "metadata": {
    "ExecuteTime": {
     "end_time": "2021-02-24T07:05:37.878108Z",
     "start_time": "2021-02-24T07:05:37.862486Z"
    }
   },
   "outputs": [
    {
     "data": {
      "text/plain": [
       "[[5, 5], [5, 5], [5, 5]]"
      ]
     },
     "execution_count": 48,
     "metadata": {},
     "output_type": "execute_result"
    }
   ],
   "source": [
    "box1 = make_box1((3,2))\n",
    "box1(5)"
   ]
  },
  {
   "cell_type": "code",
   "execution_count": 49,
   "metadata": {
    "ExecuteTime": {
     "end_time": "2021-02-24T07:05:58.490998Z",
     "start_time": "2021-02-24T07:05:58.486012Z"
    }
   },
   "outputs": [
    {
     "data": {
      "text/plain": [
       "[10, 10, 10, 10, 10, 10, 10]"
      ]
     },
     "execution_count": 49,
     "metadata": {},
     "output_type": "execute_result"
    }
   ],
   "source": [
    "box1 = make_box1((7,))\n",
    "box1(10)"
   ]
  },
  {
   "cell_type": "markdown",
   "metadata": {},
   "source": [
    "# 5절. 파이썬 내장함수\n",
    "- import 없이 사용 가능한 함수, 키워드처럼 간주되어 식별자로 사용은 금물\n"
   ]
  },
  {
   "cell_type": "code",
   "execution_count": 50,
   "metadata": {
    "ExecuteTime": {
     "end_time": "2021-02-24T07:12:48.850445Z",
     "start_time": "2021-02-24T07:12:48.845458Z"
    }
   },
   "outputs": [
    {
     "data": {
      "text/plain": [
       "1"
      ]
     },
     "execution_count": 50,
     "metadata": {},
     "output_type": "execute_result"
    }
   ],
   "source": [
    "int('1')"
   ]
  },
  {
   "cell_type": "code",
   "execution_count": 51,
   "metadata": {
    "ExecuteTime": {
     "end_time": "2021-02-24T07:13:23.928612Z",
     "start_time": "2021-02-24T07:13:23.912960Z"
    }
   },
   "outputs": [
    {
     "data": {
      "text/plain": [
       "1"
      ]
     },
     "execution_count": 51,
     "metadata": {},
     "output_type": "execute_result"
    }
   ],
   "source": [
    "int(float(1.2))"
   ]
  },
  {
   "cell_type": "code",
   "execution_count": 52,
   "metadata": {
    "ExecuteTime": {
     "end_time": "2021-02-24T07:15:56.068289Z",
     "start_time": "2021-02-24T07:15:56.053310Z"
    },
    "scrolled": true
   },
   "outputs": [
    {
     "data": {
      "text/plain": [
       "{'__name__': '__main__',\n",
       " '__doc__': 'Automatically created module for IPython interactive environment',\n",
       " '__package__': None,\n",
       " '__loader__': None,\n",
       " '__spec__': None,\n",
       " '__builtin__': <module 'builtins' (built-in)>,\n",
       " '__builtins__': <module 'builtins' (built-in)>,\n",
       " '_ih': ['',\n",
       "  \"def range2(*args):\\n    length = len(args)\\n    result = []\\n    if length == 0:\\n        raise Exception('매개 변수가 있어야 합니다.')\\n    elif length == 1:\\n        for i in range(args[0]):\\n            result.append(i)\\n    elif length == 2:\\n        for i in range(args[0], args[1]):\\n            result.append(i)\\n    elif length == 3:\\n        for i in range(args[0], args[1], args[2]):\\n            result.append(i)\\n    else:\\n        print('떼끼')\\n    return result\\n\\nprint(range2())\",\n",
       "  '# 예제: 다음과 같은 실행 결과를 같는 튜플인수 range2() 함수를 구현하시오.\\nprint(range2(10))\\nprint(range2(5,10))\\nprint(range2(5,10,2))\\n    ',\n",
       "  \"def range2(*args):\\n    length = len(args)\\n    result = []\\n    if length == 0:\\n        raise Exception('매개 변수가 있어야 합니다.')\\n    elif length == 1:\\n        for i in range(args[0]):\\n            result.append(i)\\n    elif length == 2:\\n        for i in range(args[0], args[1]):\\n            result.append(i)\\n    elif length == 3:\\n        for i in range(args[0], args[1], args[2]):\\n            result.append(i)\\n    else:\\n        print('떼끼')\\n    return result\\n\\nprint(range2(10))\\nprint(range2(5,10,))\\nprint(range2(5,10,2))\",\n",
       "  \"def range2(*args):\\n    length = len(args)\\n    result = []\\n    if length == 0:\\n        raise Exception('매개 변수가 있어야 합니다.')\\n    elif length == 1:\\n        for i in range(args[0]):\\n            result.append(i)\\n    elif length == 2:\\n        for i in range(args[0], args[1]):\\n            result.append(i)\\n    elif length == 3:\\n        for i in range(args[0], args[1], args[2]):\\n            result.append(i)\\n    else:\\n        print('떼끼')\\n    return result\\n\\nprint(range2(10))\\nprint(range2(5,10,))\\nprint(range2(5,10,2))\\nprint(range2(10,2,5,4))\",\n",
       "  \"def range2(*args):\\n    length = len(args)\\n    result = []\\n    if length == 0:\\n        raise Exception('매개 변수가 있어야 합니다.')\\n    elif length == 1:\\n        for i in range(args[0]):\\n            result.append(i)\\n    elif length == 2:\\n        for i in range(args[0], args[1]):\\n            result.append(i)\\n    elif length == 3:\\n        for i in range(args[0], args[1], args[2]):\\n            result.append(i)\\n    else:\\n        print('올바른 입력이 아닙니다.')\\n    return result\\n\\nprint(range2(10))\\nprint(range2(5,10,))\\nprint(range2(5,10,2))\\nprint(range2(10,2,5,4))\",\n",
       "  't = (5,10,2)\\nrange2(t)',\n",
       "  't = (5,10,2)\\nrange2(*t)',\n",
       "  \"def func5(**data):\\n    for item in data.items():\\n        print(item)\\nfunc5(name = '홍길동', age=30, address='마포')\",\n",
       "  \"customerInfo = {'name':'홍길동', 'age':30, 'address':'마포'}\\nfunc5(**customerInfo)\",\n",
       "  'def add(a, b):\\n    return a + b\\nadd(5,6)',\n",
       "  'add',\n",
       "  'type(add)',\n",
       "  'add2 = lambda a,b : a + b',\n",
       "  'add2(10,20)',\n",
       "  '(lambda a,b : a + b)(30,40)',\n",
       "  'def map_template(func, L=[]):\\n    result = []',\n",
       "  'def map_template(func, L=[]):\\n    result = []\\n    for item in L:\\n        result.append(func(item))\\n    return result',\n",
       "  'map_template(2배함수, [1,2,3])',\n",
       "  'list_data = [1,2,3,4,5]\\n\\ndef x_2(x):\\n    return x*2\\n\\nmap_template(x_2, list_data)',\n",
       "  'map_template(lambda x : x*2, list_data)',\n",
       "  '# map() 함수 이용\\nlist(map(lambda x:x*2, list_data))',\n",
       "  '#리스트 컴프리텐션\\n[x*2 for x in list_data]',\n",
       "  'def filter_template(fubc, L=[])',\n",
       "  'def filter_template(func, L=[])',\n",
       "  'def filter_template(func, L=[]):\\n    result = []\\n    for item in L:\\n        if func(item):\\n            result.append(item)',\n",
       "  'def filter_template(func, L=[]):\\n    result = []\\n    for item in L:\\n        if func(item):\\n            result.append(item)\\n    return result',\n",
       "  'def every(x):\\n    if x%2 == 0:\\n        return True\\nfilter_template(every, list_data)\\n        ',\n",
       "  'print(every(1))',\n",
       "  'filter_template(lambda x : x%2==0, list_data)',\n",
       "  '# filter() 함수\\nlist(filter(lambda x : x%2==0, list_data))',\n",
       "  '#림스트 컴프리텐션\\n[x for x in list_data if x%2==0]',\n",
       "  \"pairs = [(1, 'one'), (3,'three'), (2,'two'),(4,'four')]\\npairs.sort()\\npairs\",\n",
       "  \"pairs = [(1, 'one'), (3,'three'), (2,'two'),(4,'four')]\\npairs.sort(key=lambda pair : pair[1])\\npairs\",\n",
       "  \"pairs = [(1, 'one'), (3,'three'), (2,'two'),(4,'four')]\\npairs.sort(key=lambda pair : pair[1])\\npairs\",\n",
       "  '(lambda pair : pair[1])((10,20,30))',\n",
       "  'def apply(data, func = None):\\n    if func == None:\\n        return data\\n    else:\\n        return func(data)\\napply(100, lambda x : x**3)',\n",
       "  '# 함수를 return 하는 함수\\n\\ndef make_box(shape):',\n",
       "  '# 함수를 return 하는 함수\\n\\ndef make_box(shape):\\n    def box(init_value):\\n        if len(shape) == 1:\\n            return [init_value] * shape[0]',\n",
       "  '# 함수를 return 하는 함수\\n\\ndef make_box(shape):\\n    def box(init_value):\\n        if len(shape) == 1:\\n            return [init_value] * shape[0]\\n        elif len(shape) == 2:\\n            return [[init_value] * shape[1]] * shape[0]\\n    return box',\n",
       "  'box1 = make_box([5,])',\n",
       "  'type(box1)',\n",
       "  'box1(10)',\n",
       "  'box1 = make_box([5,])\\ntype(box1)',\n",
       "  'box2=make_box([2,3])\\nbox2',\n",
       "  'box2=make_box([2,3])\\nbox2(10)',\n",
       "  'def make_box1(shape):\\n    if len(shape) == 1:\\n        return lambda x : [x]*shape[0]\\n    elif len(shape) == 2:\\n        return lambda x : [[x]*shape[1]] *shape[0]\\n        ',\n",
       "  'box1 = make_box1((3,2))',\n",
       "  'box1 = make_box1((3,2))\\nbox1(5)',\n",
       "  'box1 = make_box1((7,))\\nbox1(10)',\n",
       "  \"int('1')\",\n",
       "  'int(float(1.2))',\n",
       "  'var = 10\\nglobals() # 전역 변수들 dictionary'],\n",
       " '_oh': {7: [5, 7, 9],\n",
       "  10: 11,\n",
       "  11: <function __main__.add(a, b)>,\n",
       "  12: function,\n",
       "  14: 30,\n",
       "  15: 70,\n",
       "  19: [2, 4, 6, 8, 10],\n",
       "  20: [2, 4, 6, 8, 10],\n",
       "  21: [2, 4, 6, 8, 10],\n",
       "  22: [2, 4, 6, 8, 10],\n",
       "  27: [2, 4],\n",
       "  29: [2, 4],\n",
       "  30: [2, 4],\n",
       "  31: [2, 4],\n",
       "  32: [(1, 'one'), (2, 'two'), (3, 'three'), (4, 'four')],\n",
       "  33: [(4, 'four'), (1, 'one'), (3, 'three'), (2, 'two')],\n",
       "  34: [(4, 'four'), (1, 'one'), (3, 'three'), (2, 'two')],\n",
       "  35: 20,\n",
       "  36: 1000000,\n",
       "  41: function,\n",
       "  42: [10, 10, 10, 10, 10],\n",
       "  43: function,\n",
       "  44: <function __main__.make_box.<locals>.box(init_value)>,\n",
       "  45: [[10, 10, 10], [10, 10, 10]],\n",
       "  48: [[5, 5], [5, 5], [5, 5]],\n",
       "  49: [10, 10, 10, 10, 10, 10, 10],\n",
       "  50: 1,\n",
       "  51: 1},\n",
       " '_dh': ['E:\\\\BigData\\\\2.Big_data(정규)\\\\2.코드(source)\\\\8_Python'],\n",
       " 'In': ['',\n",
       "  \"def range2(*args):\\n    length = len(args)\\n    result = []\\n    if length == 0:\\n        raise Exception('매개 변수가 있어야 합니다.')\\n    elif length == 1:\\n        for i in range(args[0]):\\n            result.append(i)\\n    elif length == 2:\\n        for i in range(args[0], args[1]):\\n            result.append(i)\\n    elif length == 3:\\n        for i in range(args[0], args[1], args[2]):\\n            result.append(i)\\n    else:\\n        print('떼끼')\\n    return result\\n\\nprint(range2())\",\n",
       "  '# 예제: 다음과 같은 실행 결과를 같는 튜플인수 range2() 함수를 구현하시오.\\nprint(range2(10))\\nprint(range2(5,10))\\nprint(range2(5,10,2))\\n    ',\n",
       "  \"def range2(*args):\\n    length = len(args)\\n    result = []\\n    if length == 0:\\n        raise Exception('매개 변수가 있어야 합니다.')\\n    elif length == 1:\\n        for i in range(args[0]):\\n            result.append(i)\\n    elif length == 2:\\n        for i in range(args[0], args[1]):\\n            result.append(i)\\n    elif length == 3:\\n        for i in range(args[0], args[1], args[2]):\\n            result.append(i)\\n    else:\\n        print('떼끼')\\n    return result\\n\\nprint(range2(10))\\nprint(range2(5,10,))\\nprint(range2(5,10,2))\",\n",
       "  \"def range2(*args):\\n    length = len(args)\\n    result = []\\n    if length == 0:\\n        raise Exception('매개 변수가 있어야 합니다.')\\n    elif length == 1:\\n        for i in range(args[0]):\\n            result.append(i)\\n    elif length == 2:\\n        for i in range(args[0], args[1]):\\n            result.append(i)\\n    elif length == 3:\\n        for i in range(args[0], args[1], args[2]):\\n            result.append(i)\\n    else:\\n        print('떼끼')\\n    return result\\n\\nprint(range2(10))\\nprint(range2(5,10,))\\nprint(range2(5,10,2))\\nprint(range2(10,2,5,4))\",\n",
       "  \"def range2(*args):\\n    length = len(args)\\n    result = []\\n    if length == 0:\\n        raise Exception('매개 변수가 있어야 합니다.')\\n    elif length == 1:\\n        for i in range(args[0]):\\n            result.append(i)\\n    elif length == 2:\\n        for i in range(args[0], args[1]):\\n            result.append(i)\\n    elif length == 3:\\n        for i in range(args[0], args[1], args[2]):\\n            result.append(i)\\n    else:\\n        print('올바른 입력이 아닙니다.')\\n    return result\\n\\nprint(range2(10))\\nprint(range2(5,10,))\\nprint(range2(5,10,2))\\nprint(range2(10,2,5,4))\",\n",
       "  't = (5,10,2)\\nrange2(t)',\n",
       "  't = (5,10,2)\\nrange2(*t)',\n",
       "  \"def func5(**data):\\n    for item in data.items():\\n        print(item)\\nfunc5(name = '홍길동', age=30, address='마포')\",\n",
       "  \"customerInfo = {'name':'홍길동', 'age':30, 'address':'마포'}\\nfunc5(**customerInfo)\",\n",
       "  'def add(a, b):\\n    return a + b\\nadd(5,6)',\n",
       "  'add',\n",
       "  'type(add)',\n",
       "  'add2 = lambda a,b : a + b',\n",
       "  'add2(10,20)',\n",
       "  '(lambda a,b : a + b)(30,40)',\n",
       "  'def map_template(func, L=[]):\\n    result = []',\n",
       "  'def map_template(func, L=[]):\\n    result = []\\n    for item in L:\\n        result.append(func(item))\\n    return result',\n",
       "  'map_template(2배함수, [1,2,3])',\n",
       "  'list_data = [1,2,3,4,5]\\n\\ndef x_2(x):\\n    return x*2\\n\\nmap_template(x_2, list_data)',\n",
       "  'map_template(lambda x : x*2, list_data)',\n",
       "  '# map() 함수 이용\\nlist(map(lambda x:x*2, list_data))',\n",
       "  '#리스트 컴프리텐션\\n[x*2 for x in list_data]',\n",
       "  'def filter_template(fubc, L=[])',\n",
       "  'def filter_template(func, L=[])',\n",
       "  'def filter_template(func, L=[]):\\n    result = []\\n    for item in L:\\n        if func(item):\\n            result.append(item)',\n",
       "  'def filter_template(func, L=[]):\\n    result = []\\n    for item in L:\\n        if func(item):\\n            result.append(item)\\n    return result',\n",
       "  'def every(x):\\n    if x%2 == 0:\\n        return True\\nfilter_template(every, list_data)\\n        ',\n",
       "  'print(every(1))',\n",
       "  'filter_template(lambda x : x%2==0, list_data)',\n",
       "  '# filter() 함수\\nlist(filter(lambda x : x%2==0, list_data))',\n",
       "  '#림스트 컴프리텐션\\n[x for x in list_data if x%2==0]',\n",
       "  \"pairs = [(1, 'one'), (3,'three'), (2,'two'),(4,'four')]\\npairs.sort()\\npairs\",\n",
       "  \"pairs = [(1, 'one'), (3,'three'), (2,'two'),(4,'four')]\\npairs.sort(key=lambda pair : pair[1])\\npairs\",\n",
       "  \"pairs = [(1, 'one'), (3,'three'), (2,'two'),(4,'four')]\\npairs.sort(key=lambda pair : pair[1])\\npairs\",\n",
       "  '(lambda pair : pair[1])((10,20,30))',\n",
       "  'def apply(data, func = None):\\n    if func == None:\\n        return data\\n    else:\\n        return func(data)\\napply(100, lambda x : x**3)',\n",
       "  '# 함수를 return 하는 함수\\n\\ndef make_box(shape):',\n",
       "  '# 함수를 return 하는 함수\\n\\ndef make_box(shape):\\n    def box(init_value):\\n        if len(shape) == 1:\\n            return [init_value] * shape[0]',\n",
       "  '# 함수를 return 하는 함수\\n\\ndef make_box(shape):\\n    def box(init_value):\\n        if len(shape) == 1:\\n            return [init_value] * shape[0]\\n        elif len(shape) == 2:\\n            return [[init_value] * shape[1]] * shape[0]\\n    return box',\n",
       "  'box1 = make_box([5,])',\n",
       "  'type(box1)',\n",
       "  'box1(10)',\n",
       "  'box1 = make_box([5,])\\ntype(box1)',\n",
       "  'box2=make_box([2,3])\\nbox2',\n",
       "  'box2=make_box([2,3])\\nbox2(10)',\n",
       "  'def make_box1(shape):\\n    if len(shape) == 1:\\n        return lambda x : [x]*shape[0]\\n    elif len(shape) == 2:\\n        return lambda x : [[x]*shape[1]] *shape[0]\\n        ',\n",
       "  'box1 = make_box1((3,2))',\n",
       "  'box1 = make_box1((3,2))\\nbox1(5)',\n",
       "  'box1 = make_box1((7,))\\nbox1(10)',\n",
       "  \"int('1')\",\n",
       "  'int(float(1.2))',\n",
       "  'var = 10\\nglobals() # 전역 변수들 dictionary'],\n",
       " 'Out': {7: [5, 7, 9],\n",
       "  10: 11,\n",
       "  11: <function __main__.add(a, b)>,\n",
       "  12: function,\n",
       "  14: 30,\n",
       "  15: 70,\n",
       "  19: [2, 4, 6, 8, 10],\n",
       "  20: [2, 4, 6, 8, 10],\n",
       "  21: [2, 4, 6, 8, 10],\n",
       "  22: [2, 4, 6, 8, 10],\n",
       "  27: [2, 4],\n",
       "  29: [2, 4],\n",
       "  30: [2, 4],\n",
       "  31: [2, 4],\n",
       "  32: [(1, 'one'), (2, 'two'), (3, 'three'), (4, 'four')],\n",
       "  33: [(4, 'four'), (1, 'one'), (3, 'three'), (2, 'two')],\n",
       "  34: [(4, 'four'), (1, 'one'), (3, 'three'), (2, 'two')],\n",
       "  35: 20,\n",
       "  36: 1000000,\n",
       "  41: function,\n",
       "  42: [10, 10, 10, 10, 10],\n",
       "  43: function,\n",
       "  44: <function __main__.make_box.<locals>.box(init_value)>,\n",
       "  45: [[10, 10, 10], [10, 10, 10]],\n",
       "  48: [[5, 5], [5, 5], [5, 5]],\n",
       "  49: [10, 10, 10, 10, 10, 10, 10],\n",
       "  50: 1,\n",
       "  51: 1},\n",
       " 'get_ipython': <function IPython.core.getipython.get_ipython()>,\n",
       " 'exit': <IPython.core.autocall.ZMQExitAutocall at 0x2901b72c340>,\n",
       " 'quit': <IPython.core.autocall.ZMQExitAutocall at 0x2901b72c340>,\n",
       " '_': 1,\n",
       " '__': 1,\n",
       " '___': [10, 10, 10, 10, 10, 10, 10],\n",
       " '_i': 'int(float(1.2))',\n",
       " '_ii': \"int('1')\",\n",
       " '_iii': 'box1 = make_box1((7,))\\nbox1(10)',\n",
       " '_i1': \"def range2(*args):\\n    length = len(args)\\n    result = []\\n    if length == 0:\\n        raise Exception('매개 변수가 있어야 합니다.')\\n    elif length == 1:\\n        for i in range(args[0]):\\n            result.append(i)\\n    elif length == 2:\\n        for i in range(args[0], args[1]):\\n            result.append(i)\\n    elif length == 3:\\n        for i in range(args[0], args[1], args[2]):\\n            result.append(i)\\n    else:\\n        print('떼끼')\\n    return result\\n\\nprint(range2())\",\n",
       " 'range2': <function __main__.range2(*args)>,\n",
       " '_i2': '# 예제: 다음과 같은 실행 결과를 같는 튜플인수 range2() 함수를 구현하시오.\\nprint(range2(10))\\nprint(range2(5,10))\\nprint(range2(5,10,2))\\n    ',\n",
       " 'json': <module 'json' from 'C:\\\\Users\\\\tjoeun\\\\anaconda3\\\\lib\\\\json\\\\__init__.py'>,\n",
       " 'getsizeof': <function sys.getsizeof>,\n",
       " 'NamespaceMagics': IPython.core.magics.namespace.NamespaceMagics,\n",
       " '_nms': <IPython.core.magics.namespace.NamespaceMagics at 0x2901cc29d00>,\n",
       " '_Jupyter': <ipykernel.zmqshell.ZMQInteractiveShell at 0x2901b6b79a0>,\n",
       " 'np': <module 'numpy' from 'C:\\\\Users\\\\tjoeun\\\\anaconda3\\\\lib\\\\site-packages\\\\numpy\\\\__init__.py'>,\n",
       " '_getsizeof': <function __main__._getsizeof(x)>,\n",
       " '_getshapeof': <function __main__._getshapeof(x)>,\n",
       " 'var_dic_list': <function __main__.var_dic_list()>,\n",
       " '_i3': \"def range2(*args):\\n    length = len(args)\\n    result = []\\n    if length == 0:\\n        raise Exception('매개 변수가 있어야 합니다.')\\n    elif length == 1:\\n        for i in range(args[0]):\\n            result.append(i)\\n    elif length == 2:\\n        for i in range(args[0], args[1]):\\n            result.append(i)\\n    elif length == 3:\\n        for i in range(args[0], args[1], args[2]):\\n            result.append(i)\\n    else:\\n        print('떼끼')\\n    return result\\n\\nprint(range2(10))\\nprint(range2(5,10,))\\nprint(range2(5,10,2))\",\n",
       " '_i4': \"def range2(*args):\\n    length = len(args)\\n    result = []\\n    if length == 0:\\n        raise Exception('매개 변수가 있어야 합니다.')\\n    elif length == 1:\\n        for i in range(args[0]):\\n            result.append(i)\\n    elif length == 2:\\n        for i in range(args[0], args[1]):\\n            result.append(i)\\n    elif length == 3:\\n        for i in range(args[0], args[1], args[2]):\\n            result.append(i)\\n    else:\\n        print('떼끼')\\n    return result\\n\\nprint(range2(10))\\nprint(range2(5,10,))\\nprint(range2(5,10,2))\\nprint(range2(10,2,5,4))\",\n",
       " '_i5': \"def range2(*args):\\n    length = len(args)\\n    result = []\\n    if length == 0:\\n        raise Exception('매개 변수가 있어야 합니다.')\\n    elif length == 1:\\n        for i in range(args[0]):\\n            result.append(i)\\n    elif length == 2:\\n        for i in range(args[0], args[1]):\\n            result.append(i)\\n    elif length == 3:\\n        for i in range(args[0], args[1], args[2]):\\n            result.append(i)\\n    else:\\n        print('올바른 입력이 아닙니다.')\\n    return result\\n\\nprint(range2(10))\\nprint(range2(5,10,))\\nprint(range2(5,10,2))\\nprint(range2(10,2,5,4))\",\n",
       " '_i6': 't = (5,10,2)\\nrange2(t)',\n",
       " 't': (5, 10, 2),\n",
       " '_i7': 't = (5,10,2)\\nrange2(*t)',\n",
       " '_7': [5, 7, 9],\n",
       " '_i8': \"def func5(**data):\\n    for item in data.items():\\n        print(item)\\nfunc5(name = '홍길동', age=30, address='마포')\",\n",
       " 'func5': <function __main__.func5(**data)>,\n",
       " '_i9': \"customerInfo = {'name':'홍길동', 'age':30, 'address':'마포'}\\nfunc5(**customerInfo)\",\n",
       " 'customerInfo': {'name': '홍길동', 'age': 30, 'address': '마포'},\n",
       " '_i10': 'def add(a, b):\\n    return a + b\\nadd(5,6)',\n",
       " 'add': <function __main__.add(a, b)>,\n",
       " '_10': 11,\n",
       " '_i11': 'add',\n",
       " '_11': <function __main__.add(a, b)>,\n",
       " '_i12': 'type(add)',\n",
       " '_12': function,\n",
       " '_i13': 'add2 = lambda a,b : a + b',\n",
       " 'add2': <function __main__.<lambda>(a, b)>,\n",
       " '_i14': 'add2(10,20)',\n",
       " '_14': 30,\n",
       " '_i15': '(lambda a,b : a + b)(30,40)',\n",
       " '_15': 70,\n",
       " '_i16': 'def map_template(func, L=[]):\\n    result = []',\n",
       " 'map_template': <function __main__.map_template(func, L=[])>,\n",
       " '_i17': 'def map_template(func, L=[]):\\n    result = []\\n    for item in L:\\n        result.append(func(item))\\n    return result',\n",
       " '_i18': 'map_template(2배함수, [1,2,3])',\n",
       " '_i19': 'list_data = [1,2,3,4,5]\\n\\ndef x_2(x):\\n    return x*2\\n\\nmap_template(x_2, list_data)',\n",
       " 'list_data': [1, 2, 3, 4, 5],\n",
       " 'x_2': <function __main__.x_2(x)>,\n",
       " '_19': [2, 4, 6, 8, 10],\n",
       " '_i20': 'map_template(lambda x : x*2, list_data)',\n",
       " '_20': [2, 4, 6, 8, 10],\n",
       " '_i21': '# map() 함수 이용\\nlist(map(lambda x:x*2, list_data))',\n",
       " '_21': [2, 4, 6, 8, 10],\n",
       " '_i22': '#리스트 컴프리텐션\\n[x*2 for x in list_data]',\n",
       " '_22': [2, 4, 6, 8, 10],\n",
       " '_i23': 'def filter_template(fubc, L=[])',\n",
       " '_i24': 'def filter_template(func, L=[])',\n",
       " '_i25': 'def filter_template(func, L=[]):\\n    result = []\\n    for item in L:\\n        if func(item):\\n            result.append(item)',\n",
       " 'filter_template': <function __main__.filter_template(func, L=[])>,\n",
       " '_i26': 'def filter_template(func, L=[]):\\n    result = []\\n    for item in L:\\n        if func(item):\\n            result.append(item)\\n    return result',\n",
       " '_i27': 'def every(x):\\n    if x%2 == 0:\\n        return True\\nfilter_template(every, list_data)\\n        ',\n",
       " 'every': <function __main__.every(x)>,\n",
       " '_27': [2, 4],\n",
       " '_i28': 'print(every(1))',\n",
       " '_i29': 'filter_template(lambda x : x%2==0, list_data)',\n",
       " '_29': [2, 4],\n",
       " '_i30': '# filter() 함수\\nlist(filter(lambda x : x%2==0, list_data))',\n",
       " '_30': [2, 4],\n",
       " '_i31': '#림스트 컴프리텐션\\n[x for x in list_data if x%2==0]',\n",
       " '_31': [2, 4],\n",
       " '_i32': \"pairs = [(1, 'one'), (3,'three'), (2,'two'),(4,'four')]\\npairs.sort()\\npairs\",\n",
       " 'pairs': [(4, 'four'), (1, 'one'), (3, 'three'), (2, 'two')],\n",
       " '_32': [(1, 'one'), (2, 'two'), (3, 'three'), (4, 'four')],\n",
       " '_i33': \"pairs = [(1, 'one'), (3,'three'), (2,'two'),(4,'four')]\\npairs.sort(key=lambda pair : pair[1])\\npairs\",\n",
       " '_33': [(4, 'four'), (1, 'one'), (3, 'three'), (2, 'two')],\n",
       " '_i34': \"pairs = [(1, 'one'), (3,'three'), (2,'two'),(4,'four')]\\npairs.sort(key=lambda pair : pair[1])\\npairs\",\n",
       " '_34': [(4, 'four'), (1, 'one'), (3, 'three'), (2, 'two')],\n",
       " '_i35': '(lambda pair : pair[1])((10,20,30))',\n",
       " '_35': 20,\n",
       " '_i36': 'def apply(data, func = None):\\n    if func == None:\\n        return data\\n    else:\\n        return func(data)\\napply(100, lambda x : x**3)',\n",
       " 'apply': <function __main__.apply(data, func=None)>,\n",
       " '_36': 1000000,\n",
       " '_i37': '# 함수를 return 하는 함수\\n\\ndef make_box(shape):',\n",
       " '_i38': '# 함수를 return 하는 함수\\n\\ndef make_box(shape):\\n    def box(init_value):\\n        if len(shape) == 1:\\n            return [init_value] * shape[0]',\n",
       " 'make_box': <function __main__.make_box(shape)>,\n",
       " '_i39': '# 함수를 return 하는 함수\\n\\ndef make_box(shape):\\n    def box(init_value):\\n        if len(shape) == 1:\\n            return [init_value] * shape[0]\\n        elif len(shape) == 2:\\n            return [[init_value] * shape[1]] * shape[0]\\n    return box',\n",
       " '_i40': 'box1 = make_box([5,])',\n",
       " 'box1': <function __main__.make_box1.<locals>.<lambda>(x)>,\n",
       " '_i41': 'type(box1)',\n",
       " '_41': function,\n",
       " '_i42': 'box1(10)',\n",
       " '_42': [10, 10, 10, 10, 10],\n",
       " '_i43': 'box1 = make_box([5,])\\ntype(box1)',\n",
       " '_43': function,\n",
       " '_i44': 'box2=make_box([2,3])\\nbox2',\n",
       " 'box2': <function __main__.make_box.<locals>.box(init_value)>,\n",
       " '_44': <function __main__.make_box.<locals>.box(init_value)>,\n",
       " '_i45': 'box2=make_box([2,3])\\nbox2(10)',\n",
       " '_45': [[10, 10, 10], [10, 10, 10]],\n",
       " '_i46': 'def make_box1(shape):\\n    if len(shape) == 1:\\n        return lambda x : [x]*shape[0]\\n    elif len(shape) == 2:\\n        return lambda x : [[x]*shape[1]] *shape[0]\\n        ',\n",
       " 'make_box1': <function __main__.make_box1(shape)>,\n",
       " '_i47': 'box1 = make_box1((3,2))',\n",
       " '_i48': 'box1 = make_box1((3,2))\\nbox1(5)',\n",
       " '_48': [[5, 5], [5, 5], [5, 5]],\n",
       " '_i49': 'box1 = make_box1((7,))\\nbox1(10)',\n",
       " '_49': [10, 10, 10, 10, 10, 10, 10],\n",
       " '_i50': \"int('1')\",\n",
       " '_50': 1,\n",
       " '_i51': 'int(float(1.2))',\n",
       " '_51': 1,\n",
       " '_i52': 'var = 10\\nglobals() # 전역 변수들 dictionary',\n",
       " 'var': 10}"
      ]
     },
     "execution_count": 52,
     "metadata": {},
     "output_type": "execute_result"
    }
   ],
   "source": [
    "var = 10\n",
    "globals() # 전역 변수들 dictionary"
   ]
  },
  {
   "cell_type": "code",
   "execution_count": 53,
   "metadata": {
    "ExecuteTime": {
     "end_time": "2021-02-24T07:18:44.588111Z",
     "start_time": "2021-02-24T07:18:44.582148Z"
    }
   },
   "outputs": [
    {
     "name": "stdout",
     "output_type": "stream",
     "text": [
      "{'n': 5, 'L': [0, 1, 2, 3, 4], 'i': 4}\n"
     ]
    },
    {
     "data": {
      "text/plain": [
       "[0, 1, 2, 3, 4]"
      ]
     },
     "execution_count": 53,
     "metadata": {},
     "output_type": "execute_result"
    }
   ],
   "source": [
    "def abc(n): # 매개 변수로 들어온 수 5 [0,1,2,3,4]\n",
    "    L = []\n",
    "    for i in range(n):\n",
    "        L.append(i)\n",
    "    print(locals()) # 지역변수를 출력\n",
    "    return L\n",
    "abc(5)"
   ]
  },
  {
   "cell_type": "code",
   "execution_count": 54,
   "metadata": {
    "ExecuteTime": {
     "end_time": "2021-02-24T07:19:55.833992Z",
     "start_time": "2021-02-24T07:19:55.829026Z"
    }
   },
   "outputs": [
    {
     "data": {
      "text/plain": [
       "True"
      ]
     },
     "execution_count": 54,
     "metadata": {},
     "output_type": "execute_result"
    }
   ],
   "source": [
    "isinstance(3.5, float)"
   ]
  },
  {
   "cell_type": "code",
   "execution_count": 55,
   "metadata": {
    "ExecuteTime": {
     "end_time": "2021-02-24T07:22:16.841545Z",
     "start_time": "2021-02-24T07:22:16.837565Z"
    }
   },
   "outputs": [],
   "source": [
    "class Test:\n",
    "    def __init__(self, a, b):\n",
    "        self.a = a\n",
    "        self.b = b\n",
    "    def print_info(self):\n",
    "        print(self.a, self.b)    "
   ]
  },
  {
   "cell_type": "code",
   "execution_count": 58,
   "metadata": {
    "ExecuteTime": {
     "end_time": "2021-02-24T07:23:03.072513Z",
     "start_time": "2021-02-24T07:23:03.068505Z"
    }
   },
   "outputs": [
    {
     "name": "stdout",
     "output_type": "stream",
     "text": [
      "10 8\n"
     ]
    }
   ],
   "source": [
    "t = Test(10,8) \n",
    "t.print_info()"
   ]
  },
  {
   "cell_type": "code",
   "execution_count": 59,
   "metadata": {
    "ExecuteTime": {
     "end_time": "2021-02-24T07:23:18.145810Z",
     "start_time": "2021-02-24T07:23:18.140825Z"
    }
   },
   "outputs": [
    {
     "data": {
      "text/plain": [
       "True"
      ]
     },
     "execution_count": 59,
     "metadata": {},
     "output_type": "execute_result"
    }
   ],
   "source": [
    "isinstance(t, Test)"
   ]
  },
  {
   "cell_type": "code",
   "execution_count": 60,
   "metadata": {
    "ExecuteTime": {
     "end_time": "2021-02-24T07:23:51.169157Z",
     "start_time": "2021-02-24T07:23:51.164170Z"
    },
    "scrolled": true
   },
   "outputs": [
    {
     "data": {
      "text/plain": [
       "['__class__',\n",
       " '__delattr__',\n",
       " '__dict__',\n",
       " '__dir__',\n",
       " '__doc__',\n",
       " '__eq__',\n",
       " '__format__',\n",
       " '__ge__',\n",
       " '__getattribute__',\n",
       " '__gt__',\n",
       " '__hash__',\n",
       " '__init__',\n",
       " '__init_subclass__',\n",
       " '__le__',\n",
       " '__lt__',\n",
       " '__module__',\n",
       " '__ne__',\n",
       " '__new__',\n",
       " '__reduce__',\n",
       " '__reduce_ex__',\n",
       " '__repr__',\n",
       " '__setattr__',\n",
       " '__sizeof__',\n",
       " '__str__',\n",
       " '__subclasshook__',\n",
       " '__weakref__',\n",
       " 'a',\n",
       " 'b',\n",
       " 'print_info']"
      ]
     },
     "execution_count": 60,
     "metadata": {},
     "output_type": "execute_result"
    }
   ],
   "source": [
    "dir(t)"
   ]
  },
  {
   "cell_type": "code",
   "execution_count": 61,
   "metadata": {
    "ExecuteTime": {
     "end_time": "2021-02-24T07:25:20.136823Z",
     "start_time": "2021-02-24T07:25:20.131857Z"
    }
   },
   "outputs": [
    {
     "data": {
      "text/plain": [
       "[(0, 10), (1, 20), (2, 30)]"
      ]
     },
     "execution_count": 61,
     "metadata": {},
     "output_type": "execute_result"
    }
   ],
   "source": [
    "list(enumerate([10,20,30]))"
   ]
  },
  {
   "cell_type": "code",
   "execution_count": 63,
   "metadata": {
    "ExecuteTime": {
     "end_time": "2021-02-24T07:25:56.088906Z",
     "start_time": "2021-02-24T07:25:56.084918Z"
    }
   },
   "outputs": [
    {
     "data": {
      "text/plain": [
       "False"
      ]
     },
     "execution_count": 63,
     "metadata": {},
     "output_type": "execute_result"
    }
   ],
   "source": [
    "all([0,1,2,3])"
   ]
  },
  {
   "cell_type": "code",
   "execution_count": 64,
   "metadata": {
    "ExecuteTime": {
     "end_time": "2021-02-24T07:26:09.168414Z",
     "start_time": "2021-02-24T07:26:09.164128Z"
    }
   },
   "outputs": [
    {
     "data": {
      "text/plain": [
       "True"
      ]
     },
     "execution_count": 64,
     "metadata": {},
     "output_type": "execute_result"
    }
   ],
   "source": [
    "any([0,1,2,3,])"
   ]
  },
  {
   "cell_type": "code",
   "execution_count": 65,
   "metadata": {
    "ExecuteTime": {
     "end_time": "2021-02-24T07:27:01.744373Z",
     "start_time": "2021-02-24T07:27:01.739407Z"
    }
   },
   "outputs": [
    {
     "data": {
      "text/plain": [
       "(4, 3.7)"
      ]
     },
     "execution_count": 65,
     "metadata": {},
     "output_type": "execute_result"
    }
   ],
   "source": [
    "round(3.69), round(3.69, 1) "
   ]
  },
  {
   "cell_type": "code",
   "execution_count": 69,
   "metadata": {
    "ExecuteTime": {
     "end_time": "2021-02-24T07:47:29.478454Z",
     "start_time": "2021-02-24T07:47:29.458504Z"
    }
   },
   "outputs": [
    {
     "data": {
      "text/plain": [
       "(3.0, 4.0, 4.0)"
      ]
     },
     "execution_count": 69,
     "metadata": {},
     "output_type": "execute_result"
    }
   ],
   "source": [
    "import numpy\n",
    "numpy.floor(3.67), numpy.ceil(3.67), numpy.round(3.67)"
   ]
  }
 ],
 "metadata": {
  "kernelspec": {
   "display_name": "Python 3",
   "language": "python",
   "name": "python3"
  },
  "language_info": {
   "codemirror_mode": {
    "name": "ipython",
    "version": 3
   },
   "file_extension": ".py",
   "mimetype": "text/x-python",
   "name": "python",
   "nbconvert_exporter": "python",
   "pygments_lexer": "ipython3",
   "version": "3.8.3"
  },
  "toc": {
   "base_numbering": 1,
   "nav_menu": {},
   "number_sections": false,
   "sideBar": true,
   "skip_h1_title": false,
   "title_cell": "Table of Contents",
   "title_sidebar": "Contents",
   "toc_cell": false,
   "toc_position": {
    "height": "830px",
    "left": "57px",
    "top": "238.733px",
    "width": "240px"
   },
   "toc_section_display": true,
   "toc_window_display": true
  },
  "varInspector": {
   "cols": {
    "lenName": 16,
    "lenType": 16,
    "lenVar": 40
   },
   "kernels_config": {
    "python": {
     "delete_cmd_postfix": "",
     "delete_cmd_prefix": "del ",
     "library": "var_list.py",
     "varRefreshCmd": "print(var_dic_list())"
    },
    "r": {
     "delete_cmd_postfix": ") ",
     "delete_cmd_prefix": "rm(",
     "library": "var_list.r",
     "varRefreshCmd": "cat(var_dic_list()) "
    }
   },
   "types_to_exclude": [
    "module",
    "function",
    "builtin_function_or_method",
    "instance",
    "_Feature"
   ],
   "window_display": false
  }
 },
 "nbformat": 4,
 "nbformat_minor": 4
}
