{
 "cells": [
  {
   "cell_type": "markdown",
   "metadata": {},
   "source": [
    "21.02.26 Python 객체지향 프로그래밍"
   ]
  },
  {
   "cell_type": "markdown",
   "metadata": {},
   "source": [
    "# CH07. 객체지향 프로그래밍"
   ]
  },
  {
   "cell_type": "markdown",
   "metadata": {},
   "source": [
    "# 1절. 객체와 클래스\n",
    "class 클래스명(상속받을 클래스명):\n",
    "    함수나 변수들 선언"
   ]
  },
  {
   "cell_type": "code",
   "execution_count": 1,
   "metadata": {
    "ExecuteTime": {
     "end_time": "2021-02-25T08:20:38.165851Z",
     "start_time": "2021-02-25T08:20:38.150229Z"
    }
   },
   "outputs": [],
   "source": [
    "class Person:\n",
    "    \"Person 클래스\"\n",
    "    pass\n",
    "p1 = Person()"
   ]
  },
  {
   "cell_type": "code",
   "execution_count": 2,
   "metadata": {
    "ExecuteTime": {
     "end_time": "2021-02-25T08:20:55.189907Z",
     "start_time": "2021-02-25T08:20:55.179934Z"
    }
   },
   "outputs": [
    {
     "data": {
      "text/plain": [
       "__main__.Person"
      ]
     },
     "execution_count": 2,
     "metadata": {},
     "output_type": "execute_result"
    }
   ],
   "source": [
    "type(p1)"
   ]
  },
  {
   "cell_type": "code",
   "execution_count": 3,
   "metadata": {
    "ExecuteTime": {
     "end_time": "2021-02-25T08:21:04.904072Z",
     "start_time": "2021-02-25T08:21:04.900108Z"
    }
   },
   "outputs": [
    {
     "name": "stdout",
     "output_type": "stream",
     "text": [
      "<__main__.Person object at 0x0000022366A51C70>\n"
     ]
    }
   ],
   "source": [
    "print(p1)"
   ]
  },
  {
   "cell_type": "code",
   "execution_count": 4,
   "metadata": {
    "ExecuteTime": {
     "end_time": "2021-02-25T08:22:01.801478Z",
     "start_time": "2021-02-25T08:22:01.796491Z"
    }
   },
   "outputs": [
    {
     "data": {
      "text/plain": [
       "True"
      ]
     },
     "execution_count": 4,
     "metadata": {},
     "output_type": "execute_result"
    }
   ],
   "source": [
    "isinstance(p1, Person)"
   ]
  },
  {
   "cell_type": "code",
   "execution_count": 6,
   "metadata": {
    "ExecuteTime": {
     "end_time": "2021-02-25T08:22:32.478905Z",
     "start_time": "2021-02-25T08:22:32.475930Z"
    }
   },
   "outputs": [
    {
     "name": "stdout",
     "output_type": "stream",
     "text": [
      "Person 클래스\n"
     ]
    }
   ],
   "source": [
    "print(p1.__doc__)"
   ]
  },
  {
   "cell_type": "markdown",
   "metadata": {},
   "source": [
    "# 2절. 변수와 메소드"
   ]
  },
  {
   "cell_type": "code",
   "execution_count": 7,
   "metadata": {
    "ExecuteTime": {
     "end_time": "2021-02-25T08:35:57.728105Z",
     "start_time": "2021-02-25T08:35:57.724135Z"
    }
   },
   "outputs": [
    {
     "name": "stdout",
     "output_type": "stream",
     "text": [
      "홍길동 남자\n"
     ]
    }
   ],
   "source": [
    "# 변수 추가\n",
    "class Person:\n",
    "    name = '홍길동'\n",
    "    gender = '남자'\n",
    "p1 = Person()\n",
    "\n",
    "print(p1.name, p1.gender)"
   ]
  },
  {
   "cell_type": "code",
   "execution_count": 8,
   "metadata": {
    "ExecuteTime": {
     "end_time": "2021-02-25T08:36:48.070156Z",
     "start_time": "2021-02-25T08:36:48.066167Z"
    }
   },
   "outputs": [
    {
     "name": "stdout",
     "output_type": "stream",
     "text": [
      "이순신 남자\n"
     ]
    }
   ],
   "source": [
    "p2 = Person()\n",
    "p2.name = '이순신'\n",
    "print(p2.name, p2.gender)"
   ]
  },
  {
   "cell_type": "code",
   "execution_count": 9,
   "metadata": {
    "ExecuteTime": {
     "end_time": "2021-02-25T08:37:17.438171Z",
     "start_time": "2021-02-25T08:37:17.434204Z"
    }
   },
   "outputs": [],
   "source": [
    "Person.name = '리사'\n",
    "Person.gender = '여자'"
   ]
  },
  {
   "cell_type": "code",
   "execution_count": 10,
   "metadata": {
    "ExecuteTime": {
     "end_time": "2021-02-25T08:41:14.823945Z",
     "start_time": "2021-02-25T08:41:14.818960Z"
    }
   },
   "outputs": [
    {
     "name": "stdout",
     "output_type": "stream",
     "text": [
      "리사 여자\n",
      "이순신 여자\n"
     ]
    }
   ],
   "source": [
    "print(p1.name, p1.gender)\n",
    "print(p2.name, p2.gender)"
   ]
  },
  {
   "cell_type": "code",
   "execution_count": 11,
   "metadata": {
    "ExecuteTime": {
     "end_time": "2021-02-25T08:43:35.325995Z",
     "start_time": "2021-02-25T08:43:35.321986Z"
    }
   },
   "outputs": [
    {
     "name": "stdout",
     "output_type": "stream",
     "text": [
      "리사 여자\n",
      "신길동 남자\n",
      "이순신 여자\n"
     ]
    }
   ],
   "source": [
    "p1.name='신길동'\n",
    "p1.gender='남자'\n",
    "print(Person.name, Person.gender)\n",
    "print(p1.name, p1.gender)\n",
    "print(p2.name, p2.gender)"
   ]
  },
  {
   "cell_type": "code",
   "execution_count": 12,
   "metadata": {
    "ExecuteTime": {
     "end_time": "2021-02-25T08:46:50.221950Z",
     "start_time": "2021-02-25T08:46:50.216963Z"
    }
   },
   "outputs": [
    {
     "name": "stdout",
     "output_type": "stream",
     "text": [
      "홍길동 남자\n",
      "Person 메소드 입니다.\n"
     ]
    }
   ],
   "source": [
    "# 메소드 추가\n",
    "class Person:\n",
    "    name = '홍길동'\n",
    "    gender = '남자'\n",
    "    def print_info():\n",
    "        print(\"Person 메소드 입니다.\")\n",
    "print(Person.name, Person.gender)\n",
    "Person.print_info()"
   ]
  },
  {
   "cell_type": "code",
   "execution_count": 13,
   "metadata": {
    "ExecuteTime": {
     "end_time": "2021-02-25T08:49:18.165382Z",
     "start_time": "2021-02-25T08:49:18.161393Z"
    }
   },
   "outputs": [
    {
     "name": "stdout",
     "output_type": "stream",
     "text": [
      "이순신 남자\n",
      "홍길동 남자\n"
     ]
    }
   ],
   "source": [
    "p1 = Person()\n",
    "p1.name = \"이순신\"\n",
    "\n",
    "print(p1.name, p1.gender)\n",
    "print(Person.name, Person.gender)"
   ]
  },
  {
   "cell_type": "code",
   "execution_count": 14,
   "metadata": {
    "ExecuteTime": {
     "end_time": "2021-02-25T08:52:20.156270Z",
     "start_time": "2021-02-25T08:52:20.152282Z"
    }
   },
   "outputs": [
    {
     "name": "stdout",
     "output_type": "stream",
     "text": [
      "Person 메소드 입니다.\n"
     ]
    }
   ],
   "source": [
    "Person.print_info()"
   ]
  },
  {
   "cell_type": "code",
   "execution_count": 16,
   "metadata": {
    "ExecuteTime": {
     "end_time": "2021-02-25T08:52:52.852507Z",
     "start_time": "2021-02-25T08:52:52.664637Z"
    }
   },
   "outputs": [
    {
     "ename": "TypeError",
     "evalue": "print_info() takes 0 positional arguments but 1 was given",
     "output_type": "error",
     "traceback": [
      "\u001b[1;31m---------------------------------------------------------------------------\u001b[0m",
      "\u001b[1;31mTypeError\u001b[0m                                 Traceback (most recent call last)",
      "\u001b[1;32m<ipython-input-16-123b1e7cbd59>\u001b[0m in \u001b[0;36m<module>\u001b[1;34m\u001b[0m\n\u001b[1;32m----> 1\u001b[1;33m \u001b[0mp1\u001b[0m\u001b[1;33m.\u001b[0m\u001b[0mprint_info\u001b[0m\u001b[1;33m(\u001b[0m\u001b[1;33m)\u001b[0m\u001b[1;33m\u001b[0m\u001b[1;33m\u001b[0m\u001b[0m\n\u001b[0m",
      "\u001b[1;31mTypeError\u001b[0m: print_info() takes 0 positional arguments but 1 was given"
     ]
    }
   ],
   "source": [
    "p1.print_info() # 불러올 수 없어서 에러 발생"
   ]
  },
  {
   "cell_type": "code",
   "execution_count": 25,
   "metadata": {
    "ExecuteTime": {
     "end_time": "2021-02-25T09:04:20.524555Z",
     "start_time": "2021-02-25T09:04:20.519568Z"
    }
   },
   "outputs": [
    {
     "name": "stdout",
     "output_type": "stream",
     "text": [
      "홍길동 남자\n",
      "리사는 30살이고 남자입니다.\n"
     ]
    }
   ],
   "source": [
    "# 인스턴스 메소드\n",
    "class Person:\n",
    "    name = '홍길동'\n",
    "    gender = '남자'\n",
    "    age = 30\n",
    "    def print_info(self): # 객체만 실행 가능한 메소드 + 인스턴스 메소드\n",
    "        print('{}는 {}살이고 {}입니다.'.format(self.name ,self.age, self.gender))\n",
    "        \n",
    "print(Person.name, Person.gender)\n",
    "p1 = Person()\n",
    "p1.name = '리사'\n",
    "p1.print_info()"
   ]
  },
  {
   "cell_type": "code",
   "execution_count": 26,
   "metadata": {
    "ExecuteTime": {
     "end_time": "2021-02-25T09:05:01.499663Z",
     "start_time": "2021-02-25T09:05:01.494676Z"
    }
   },
   "outputs": [
    {
     "data": {
      "text/plain": [
       "('리사', 30, '남자')"
      ]
     },
     "execution_count": 26,
     "metadata": {},
     "output_type": "execute_result"
    }
   ],
   "source": [
    "p1.name, p1.age, p1.gender"
   ]
  },
  {
   "cell_type": "markdown",
   "metadata": {},
   "source": [
    "<pre>\n",
    "** 파이썬은 클래스와 인스턴스(객체)의 이름공간이 분리되어 있다. **\n",
    "** 클래스와 인스턴스의 변수명이 다를 수 있다. **\n",
    "** 동적으로 인스턴스(객체)에 맴버 추가 가능 ** \n",
    "</pre>"
   ]
  },
  {
   "cell_type": "code",
   "execution_count": null,
   "metadata": {},
   "outputs": [],
   "source": [
    "p1.address = '마포구 신촌'\n",
    "p1.nicname = '곰돌이 푸'"
   ]
  },
  {
   "cell_type": "code",
   "execution_count": 27,
   "metadata": {
    "ExecuteTime": {
     "end_time": "2021-02-25T09:08:08.970232Z",
     "start_time": "2021-02-25T09:08:08.966266Z"
    }
   },
   "outputs": [
    {
     "name": "stdout",
     "output_type": "stream",
     "text": [
      "리사는 30살이고 남자입니다.\n"
     ]
    }
   ],
   "source": [
    "p1.print_info()"
   ]
  },
  {
   "cell_type": "markdown",
   "metadata": {},
   "source": [
    "** 클래스 메소드 vs static 메소드 **\n",
    "1. 인스턴스 메소드 : 인자에 self를 꼭 삽입, 객체를 통해서 호출항 메소드\n",
    "2. 클래스 메소드 : @classmethod를 통해서 선언한 메소드, 인자에 cls(class)를 꼭 삽입.\n",
    "3. static 메소드 : @staticmethod를 통해서 선언한 메소드"
   ]
  },
  {
   "cell_type": "code",
   "execution_count": 14,
   "metadata": {
    "ExecuteTime": {
     "end_time": "2021-02-26T00:55:29.195718Z",
     "start_time": "2021-02-26T00:55:29.189761Z"
    }
   },
   "outputs": [],
   "source": [
    "class Person:\n",
    "    name = \"홍길동\"\n",
    "    gender = \"남자\"\n",
    "    age = 30\n",
    "    def print_info(self):\n",
    "        print(\"일반(인스턴스+객체) 메소드- {}은 {}살 {} 입니다.\".format(self.name,\n",
    "                                                    self.age, self.gender))\n",
    "    @classmethod\n",
    "    def do_(cls):\n",
    "        cls.name = '신사임당'\n",
    "        cls.gender = '여자'\n",
    "        cls.age = 517\n",
    "        print(\"클래스 메소드 - {}은 {}살 {} 입니다.\". format(cls.name,\n",
    "                                                 cls.age, cls.gender))\n",
    "    @staticmethod\n",
    "    def that_():\n",
    "        print(\"static 메소드 - {}은 {}살 {} 입니다.\".format(Person.name,\n",
    "                                                   Person.age, Person.gender))\n",
    "    "
   ]
  },
  {
   "cell_type": "code",
   "execution_count": 15,
   "metadata": {
    "ExecuteTime": {
     "end_time": "2021-02-26T00:55:31.097408Z",
     "start_time": "2021-02-26T00:55:31.093443Z"
    }
   },
   "outputs": [
    {
     "name": "stdout",
     "output_type": "stream",
     "text": [
      "일반(인스턴스+객체) 메소드- 홍길동은 30살 남자 입니다.\n",
      "일반(인스턴스+객체) 메소드- 홍길동은 30살 남자 입니다.\n"
     ]
    }
   ],
   "source": [
    "p1 = Person()\n",
    "p2 = Person()\n",
    "p1.print_info()\n",
    "p2.print_info()"
   ]
  },
  {
   "cell_type": "code",
   "execution_count": 16,
   "metadata": {
    "ExecuteTime": {
     "end_time": "2021-02-26T00:55:42.466328Z",
     "start_time": "2021-02-26T00:55:42.462338Z"
    }
   },
   "outputs": [
    {
     "name": "stdout",
     "output_type": "stream",
     "text": [
      "일반(인스턴스+객체) 메소드- 김길동은 31살 남자 입니다.\n",
      "일반(인스턴스+객체) 메소드- 홍길동은 30살 남자 입니다.\n",
      "static 메소드 - 홍길동은 30살 남자 입니다.\n",
      "static 메소드 - 홍길동은 30살 남자 입니다.\n"
     ]
    }
   ],
   "source": [
    "p1.name = '김길동'\n",
    "p1.age += 1\n",
    "p1.print_info()\n",
    "p2.print_info()\n",
    "p2.that_()     # static 메소드는 객체를 통해서도, 클래스를 통해서도 호출가능\n",
    "Person.that_() # static 메소드"
   ]
  },
  {
   "cell_type": "code",
   "execution_count": 17,
   "metadata": {
    "ExecuteTime": {
     "end_time": "2021-02-26T00:55:46.241739Z",
     "start_time": "2021-02-26T00:55:46.237749Z"
    }
   },
   "outputs": [
    {
     "name": "stdout",
     "output_type": "stream",
     "text": [
      "클래스 메소드 - 신사임당은 517살 여자 입니다.\n"
     ]
    }
   ],
   "source": [
    "Person.do_() # 클래스 메소드"
   ]
  },
  {
   "cell_type": "code",
   "execution_count": 18,
   "metadata": {
    "ExecuteTime": {
     "end_time": "2021-02-26T00:57:25.825312Z",
     "start_time": "2021-02-26T00:57:25.821344Z"
    }
   },
   "outputs": [
    {
     "name": "stdout",
     "output_type": "stream",
     "text": [
      "일반(인스턴스+객체) 메소드- 김길동은 31살 여자 입니다.\n",
      "일반(인스턴스+객체) 메소드- 신사임당은 517살 여자 입니다.\n"
     ]
    }
   ],
   "source": [
    "p1.print_info()\n",
    "p2.print_info()"
   ]
  },
  {
   "cell_type": "code",
   "execution_count": 19,
   "metadata": {
    "ExecuteTime": {
     "end_time": "2021-02-26T00:58:55.826275Z",
     "start_time": "2021-02-26T00:58:55.821315Z"
    }
   },
   "outputs": [
    {
     "name": "stdout",
     "output_type": "stream",
     "text": [
      "일반(인스턴스+객체) 메소드- 김길동은 31살 남자 입니다.\n",
      "일반(인스턴스+객체) 메소드- 이순신은 477살 남자 입니다.\n"
     ]
    }
   ],
   "source": [
    "Person.name = '이순신'\n",
    "Person.gender = '남자'\n",
    "Person.age = 477\n",
    "p1.print_info()\n",
    "p2.print_info()"
   ]
  },
  {
   "cell_type": "markdown",
   "metadata": {},
   "source": [
    "# 3절. 생성자( _ _init_ _() ) 와 소멸자 ( _ _ del _ _() )\n",
    "- 생성자 함수 : _ _ init _ _(self[,매개변수1,...]) 객체가 생성될 때 자동 실행, 생성시 필요한 코드(객체 맴버의 초기화) 를 포함\n",
    "- 소멸자 함수 : _ _ del _ _(self) 객체가 소멸될 때자동 실행. 소멸시 필요한 코드를 포함, 인스턴스 객체의 레퍼런스 카운트가 0이 될때까지 실행"
   ]
  },
  {
   "cell_type": "code",
   "execution_count": 22,
   "metadata": {
    "ExecuteTime": {
     "end_time": "2021-02-26T01:14:57.242610Z",
     "start_time": "2021-02-26T01:14:57.226989Z"
    }
   },
   "outputs": [],
   "source": [
    "class Person:\n",
    "    def __init__(self):\n",
    "        print(\"Person 객체를 생성 합니다.\")\n",
    "        self.name = \"홍길동\" # 일반변수\n",
    "        self.gender = \"남자\"\n",
    "    \n",
    "    def __del__(self):\n",
    "        print(\"Person 객체를 소멸시킵니다.\")\n",
    "    \n",
    "    def print_info(self):\n",
    "        print(\"일반 메소드 - {}님은 {}입니다.\".format(self.name, self.gender))\n",
    "        "
   ]
  },
  {
   "cell_type": "code",
   "execution_count": 28,
   "metadata": {
    "ExecuteTime": {
     "end_time": "2021-02-26T01:18:19.526746Z",
     "start_time": "2021-02-26T01:18:19.522785Z"
    }
   },
   "outputs": [
    {
     "name": "stdout",
     "output_type": "stream",
     "text": [
      "Person 객체를 생성 합니다.\n",
      "일반 메소드 - 홍길동님은 남자입니다.\n"
     ]
    }
   ],
   "source": [
    "p1 = Person()\n",
    "p1.print_info()"
   ]
  },
  {
   "cell_type": "code",
   "execution_count": 29,
   "metadata": {
    "ExecuteTime": {
     "end_time": "2021-02-26T01:18:22.246726Z",
     "start_time": "2021-02-26T01:18:22.242735Z"
    }
   },
   "outputs": [
    {
     "name": "stdout",
     "output_type": "stream",
     "text": [
      "일반 메소드 - 김길동님은 남자입니다.\n"
     ]
    }
   ],
   "source": [
    "p1.name = \"김길동\"\n",
    "p1.print_info()"
   ]
  },
  {
   "cell_type": "code",
   "execution_count": 25,
   "metadata": {
    "ExecuteTime": {
     "end_time": "2021-02-26T01:16:55.549040Z",
     "start_time": "2021-02-26T01:16:55.539061Z"
    }
   },
   "outputs": [
    {
     "data": {
      "text/plain": [
       "(__main__.Person, True)"
      ]
     },
     "execution_count": 25,
     "metadata": {},
     "output_type": "execute_result"
    }
   ],
   "source": [
    "type(p1), isinstance(p1, Person)"
   ]
  },
  {
   "cell_type": "code",
   "execution_count": 30,
   "metadata": {
    "ExecuteTime": {
     "end_time": "2021-02-26T01:18:29.686922Z",
     "start_time": "2021-02-26T01:18:29.682924Z"
    }
   },
   "outputs": [
    {
     "name": "stdout",
     "output_type": "stream",
     "text": [
      "Person 객체를 소멸시킵니다.\n"
     ]
    }
   ],
   "source": [
    "del p1"
   ]
  },
  {
   "cell_type": "code",
   "execution_count": 44,
   "metadata": {
    "ExecuteTime": {
     "end_time": "2021-02-26T01:38:12.468189Z",
     "start_time": "2021-02-26T01:38:12.465196Z"
    }
   },
   "outputs": [
    {
     "name": "stdout",
     "output_type": "stream",
     "text": [
      "Person 객체를 생성 합니다.\n"
     ]
    }
   ],
   "source": [
    "p1 = Person()"
   ]
  },
  {
   "cell_type": "code",
   "execution_count": 45,
   "metadata": {
    "ExecuteTime": {
     "end_time": "2021-02-26T01:38:14.580074Z",
     "start_time": "2021-02-26T01:38:14.577073Z"
    }
   },
   "outputs": [],
   "source": [
    "p2 = p1"
   ]
  },
  {
   "cell_type": "code",
   "execution_count": 46,
   "metadata": {
    "ExecuteTime": {
     "end_time": "2021-02-26T01:38:16.667869Z",
     "start_time": "2021-02-26T01:38:16.663872Z"
    }
   },
   "outputs": [],
   "source": [
    "del p1"
   ]
  },
  {
   "cell_type": "code",
   "execution_count": 47,
   "metadata": {
    "ExecuteTime": {
     "end_time": "2021-02-26T01:38:18.467404Z",
     "start_time": "2021-02-26T01:38:18.464435Z"
    }
   },
   "outputs": [
    {
     "name": "stdout",
     "output_type": "stream",
     "text": [
      "Person 객체를 소멸시킵니다.\n"
     ]
    }
   ],
   "source": [
    "del p2"
   ]
  },
  {
   "cell_type": "markdown",
   "metadata": {},
   "source": [
    "\n",
    "* 생성자 함수를 통한 맴버 변수의 초기화\n",
    "* 파이썬은 함수를 중복정의(오버로딩) 제공 불가\n",
    "* 생성자 함수도 중복정의 불가\n"
   ]
  },
  {
   "cell_type": "code",
   "execution_count": 1,
   "metadata": {
    "ExecuteTime": {
     "end_time": "2021-02-26T01:54:18.684370Z",
     "start_time": "2021-02-26T01:54:18.678412Z"
    }
   },
   "outputs": [],
   "source": [
    "class Person:\n",
    "#     def __init__(self): # 중복정의 불가\n",
    "#         print(\"Person 객체를 생성 합니다.\")\n",
    "#         self.name = \"홍길동\" # 일반변수\n",
    "#         self.gender = \"남자\"\n",
    "    \n",
    "#     def __init__(self, name):\n",
    "#         print(\"Person 객체를 생성 합니다.\")\n",
    "#         self.name = name\n",
    "#         self.gender = \"남자\"\n",
    "    \n",
    "    def __init__(self, name=\"홍길동\", gender=\"남자\"):\n",
    "        print(\"Person 객체를 생성 합니다.\")\n",
    "        self.name = name\n",
    "        self.gender = gender\n",
    "    \n",
    "    def __del__(self):\n",
    "        print(\"Person 객체를 소멸시킵니다.\")\n",
    "    \n",
    "    def print_info(self):\n",
    "        print(\"일반 메소드 - {}님은 {}입니다.\".format(self.name, self.gender))\n",
    "        \n",
    "    def __str__(self):\n",
    "        return \"일반 메소드 - {}님은 {}입니다.\".format(self.name, self.gender)"
   ]
  },
  {
   "cell_type": "code",
   "execution_count": 2,
   "metadata": {
    "ExecuteTime": {
     "end_time": "2021-02-26T01:54:20.282106Z",
     "start_time": "2021-02-26T01:54:20.279113Z"
    }
   },
   "outputs": [
    {
     "name": "stdout",
     "output_type": "stream",
     "text": [
      "Person 객체를 생성 합니다.\n",
      "Person 객체를 생성 합니다.\n",
      "Person 객체를 생성 합니다.\n"
     ]
    }
   ],
   "source": [
    "p1 = Person(\"김길동\", \"남자\")\n",
    "p2 = Person('박길동')\n",
    "p3 = Person()"
   ]
  },
  {
   "cell_type": "code",
   "execution_count": 6,
   "metadata": {
    "ExecuteTime": {
     "end_time": "2021-02-26T01:55:51.394618Z",
     "start_time": "2021-02-26T01:55:51.390653Z"
    }
   },
   "outputs": [
    {
     "name": "stdout",
     "output_type": "stream",
     "text": [
      "일반 메소드 - 김길동님은 남자입니다.\n",
      "일반 메소드 - 김길동님은 남자입니다.\n",
      "일반 메소드 - 박길동님은 남자입니다.\n",
      "일반 메소드 - 홍길동님은 남자입니다.\n"
     ]
    }
   ],
   "source": [
    "print(p1)\n",
    "p1.print_info()\n",
    "print(p2)\n",
    "print(p3)"
   ]
  },
  {
   "cell_type": "markdown",
   "metadata": {},
   "source": [
    "# 4절. 상속과 재정의(over writing)"
   ]
  },
  {
   "cell_type": "code",
   "execution_count": null,
   "metadata": {},
   "outputs": [],
   "source": [
    "class Person:\n",
    "    'name과 gender를 갖는 Person 타입'\n",
    "    def __init__(self, name=\"홍길동\", gender=\"남자\"):\n",
    "        print(\"Person 객체를 생성 합니다.\")\n",
    "        self.name = name\n",
    "        self.gender = gender\n",
    "    \n",
    "    def __del__(self):\n",
    "        print(\"Person 객체를 소멸시킵니다.\")\n",
    "    \n",
    "    def print_info(self):\n",
    "        print(\"일반 메소드 - {}님은 {}입니다.\".format(self.name, self.gender))\n",
    "        \n",
    "    def __str__(self):\n",
    "        return \"일반 메소드 - {}님은 {}입니다.\".format(self.name, self.gender)"
   ]
  },
  {
   "cell_type": "code",
   "execution_count": 9,
   "metadata": {
    "ExecuteTime": {
     "end_time": "2021-02-26T02:01:33.819015Z",
     "start_time": "2021-02-26T02:01:33.815052Z"
    }
   },
   "outputs": [
    {
     "name": "stdout",
     "output_type": "stream",
     "text": [
      "Person 객체를 생성 합니다.\n"
     ]
    }
   ],
   "source": [
    "p1 = Person('홍길동', '남자')"
   ]
  },
  {
   "cell_type": "code",
   "execution_count": 10,
   "metadata": {
    "ExecuteTime": {
     "end_time": "2021-02-26T02:01:41.649108Z",
     "start_time": "2021-02-26T02:01:41.646113Z"
    }
   },
   "outputs": [],
   "source": [
    "class Student(Person):\n",
    "    pass"
   ]
  },
  {
   "cell_type": "code",
   "execution_count": 11,
   "metadata": {
    "ExecuteTime": {
     "end_time": "2021-02-26T02:01:43.418404Z",
     "start_time": "2021-02-26T02:01:43.414405Z"
    }
   },
   "outputs": [
    {
     "data": {
      "text/plain": [
       "True"
      ]
     },
     "execution_count": 11,
     "metadata": {},
     "output_type": "execute_result"
    }
   ],
   "source": [
    "issubclass(Student, Person)"
   ]
  },
  {
   "cell_type": "code",
   "execution_count": 12,
   "metadata": {
    "ExecuteTime": {
     "end_time": "2021-02-26T02:04:03.802515Z",
     "start_time": "2021-02-26T02:04:03.786898Z"
    }
   },
   "outputs": [
    {
     "name": "stdout",
     "output_type": "stream",
     "text": [
      "Person 객체를 생성 합니다.\n"
     ]
    }
   ],
   "source": [
    "s1 = Student('이순신', '남자')"
   ]
  },
  {
   "cell_type": "code",
   "execution_count": 13,
   "metadata": {
    "ExecuteTime": {
     "end_time": "2021-02-26T02:05:00.905444Z",
     "start_time": "2021-02-26T02:05:00.901436Z"
    }
   },
   "outputs": [
    {
     "name": "stdout",
     "output_type": "stream",
     "text": [
      "일반 메소드 - 이순신님은 남자입니다.\n"
     ]
    }
   ],
   "source": [
    "s1.print_info()"
   ]
  },
  {
   "cell_type": "code",
   "execution_count": 14,
   "metadata": {
    "ExecuteTime": {
     "end_time": "2021-02-26T02:14:47.050679Z",
     "start_time": "2021-02-26T02:14:47.045711Z"
    }
   },
   "outputs": [],
   "source": [
    "class Student(Person):\n",
    "    'name과 gender에 major 변수를 갖는 Student 타입'\n",
    "    def __init__(self, name, gender, major):\n",
    "        self.name = name\n",
    "        self.gender = gender\n",
    "        self.major = major\n",
    "    \n",
    "    def print_info(self):\n",
    "        print(\"%s님은 전공 %s에 %s 입니다.\" % (self.name, self.major, self.gender))\n",
    "    \n",
    "    def __str__(self):\n",
    "        return \"%s님은 전공 %s에 %s 입니다.\" % (self.name, self.major, self.gender)"
   ]
  },
  {
   "cell_type": "code",
   "execution_count": 15,
   "metadata": {
    "ExecuteTime": {
     "end_time": "2021-02-26T02:15:44.457959Z",
     "start_time": "2021-02-26T02:15:44.451975Z"
    }
   },
   "outputs": [
    {
     "name": "stdout",
     "output_type": "stream",
     "text": [
      "홍길동님은 전공 빅데이터분석에 남자 입니다.\n",
      "홍길동님은 전공 빅데이터분석에 남자 입니다.\n"
     ]
    }
   ],
   "source": [
    "s1 = Student('홍길동','남자','빅데이터분석')\n",
    "print(s1)\n",
    "print(s1.__str__())"
   ]
  },
  {
   "cell_type": "code",
   "execution_count": 16,
   "metadata": {
    "ExecuteTime": {
     "end_time": "2021-02-26T02:16:55.052213Z",
     "start_time": "2021-02-26T02:16:55.036561Z"
    }
   },
   "outputs": [
    {
     "data": {
      "text/plain": [
       "(True, True)"
      ]
     },
     "execution_count": 16,
     "metadata": {},
     "output_type": "execute_result"
    }
   ],
   "source": [
    "isinstance(s1, Student), isinstance(s1, Person)"
   ]
  },
  {
   "cell_type": "code",
   "execution_count": 24,
   "metadata": {
    "ExecuteTime": {
     "end_time": "2021-02-26T02:34:06.383408Z",
     "start_time": "2021-02-26T02:34:06.378421Z"
    }
   },
   "outputs": [],
   "source": [
    "# super() 사용\n",
    "class Student(Person):\n",
    "    'name과 gender에 major 변수를 갖는 Student 타입'\n",
    "    def __init__(self, name, gender, major):\n",
    "       # 부모 클래스의 생성자를 호출하여 자식 클래스의 생성자 이용\n",
    "        Person.__init__(self,name, gender)\n",
    "        self.major = major\n",
    "    \n",
    "    def __del__(self):\n",
    "        pass\n",
    "    \n",
    "    def print_info(self):\n",
    "        print(\"%s님은 전공 %s에 %s 입니다.\" % (self.name, self.major, self.gender))\n",
    "    \n",
    "    def __str__(self):\n",
    "        return super().__str__() + \" 전공은 %s 입니다.\" % (self.major)"
   ]
  },
  {
   "cell_type": "code",
   "execution_count": 25,
   "metadata": {
    "ExecuteTime": {
     "end_time": "2021-02-26T02:34:08.078279Z",
     "start_time": "2021-02-26T02:34:08.073084Z"
    }
   },
   "outputs": [
    {
     "name": "stdout",
     "output_type": "stream",
     "text": [
      "Person 객체를 생성 합니다.\n",
      "일반 메소드 - 김철수님은 남자입니다. 전공은 통계 입니다.\n"
     ]
    }
   ],
   "source": [
    "s1 = Student('김철수', '남자',  '통계')\n",
    "print(s1)"
   ]
  },
  {
   "cell_type": "markdown",
   "metadata": {},
   "source": [
    "\n",
    "static변수 : 여러 객체들 사이에 데이터를 공유하고 싶을 때 사용\n",
    "\n",
    "- 클래스 변수이름 앞에 under score 2개(__) 붙이면 내부적으로 클래스명._클래스명변수이름으로 참조"
   ]
  },
  {
   "cell_type": "code",
   "execution_count": 35,
   "metadata": {
    "ExecuteTime": {
     "end_time": "2021-02-26T05:43:01.871965Z",
     "start_time": "2021-02-26T05:43:01.865981Z"
    }
   },
   "outputs": [],
   "source": [
    "class Student(Person):\n",
    "    \"name과 gender에 major 변수를 갖는 Student 타입(객체 갯수도 포함)\"\n",
    "    __count = 0; # static 변수\n",
    "    def __init__(self, name, gender, major):\n",
    "        # 부모클래스의 생성자를 호출하여 자식 클래스의 생성자를 쉽게\n",
    "        Student._Student__count += 1 # 객체가 생성될 때마다 __count증가\n",
    "        Person.__init__(self, name, gender)\n",
    "        self.major = major\n",
    "    def __del__(self):\n",
    "        Student._Student__count -= 1 # 객체가 소멸될 때마다 __count 감소\n",
    "    def print_info(self):\n",
    "        print(\"%s님은 전공 %s에 %s입니다\" % (self.name, self.major, self.gender))\n",
    "    def __str__(self):\n",
    "        return super().__str__() + \" 전공은 {}입니다\".format(self.major)\n",
    "#        return Person.__str__(self) + \" 전공은 {}입니다\".format(self.major)\n",
    "    @classmethod\n",
    "    def get_count(cls):\n",
    "        return Student._Student__count"
   ]
  },
  {
   "cell_type": "code",
   "execution_count": 36,
   "metadata": {
    "ExecuteTime": {
     "end_time": "2021-02-26T05:43:03.621952Z",
     "start_time": "2021-02-26T05:43:03.617963Z"
    }
   },
   "outputs": [
    {
     "name": "stdout",
     "output_type": "stream",
     "text": [
      "Person 객체를 생성 합니다.\n",
      "일반 메소드 - 홍길동님은 남자입니다. 전공은 빅데이터입니다\n",
      "객체갯수: 1\n"
     ]
    }
   ],
   "source": [
    "s1 = Student(\"홍길동\",\"남자\",\"빅데이터\")\n",
    "print(s1)\n",
    "print('객체갯수:',Student.get_count())"
   ]
  },
  {
   "cell_type": "code",
   "execution_count": 37,
   "metadata": {
    "ExecuteTime": {
     "end_time": "2021-02-26T05:43:40.903379Z",
     "start_time": "2021-02-26T05:43:40.898391Z"
    }
   },
   "outputs": [
    {
     "name": "stdout",
     "output_type": "stream",
     "text": [
      "Person 객체를 생성 합니다.\n",
      "홍길순님은 전공 통계에 여자입니다\n",
      "객체 갯수 : 2\n"
     ]
    }
   ],
   "source": [
    "s2 = Student(\"홍길순\",\"여자\",\"통계\")\n",
    "s2.print_info()\n",
    "print('객체 갯수 :', s2.get_count())"
   ]
  },
  {
   "cell_type": "code",
   "execution_count": 38,
   "metadata": {
    "ExecuteTime": {
     "end_time": "2021-02-26T05:43:42.823109Z",
     "start_time": "2021-02-26T05:43:42.818122Z"
    }
   },
   "outputs": [
    {
     "name": "stdout",
     "output_type": "stream",
     "text": [
      "Person 객체를 생성 합니다.\n",
      "홍길순님은 전공 통계에 여자입니다\n",
      "객체 갯수 : 3\n",
      "객체 갯수 : 3\n",
      "객체 갯수 : 3\n"
     ]
    }
   ],
   "source": [
    "s3 = Student(\"홍길순\",\"여자\",\"통계\")\n",
    "s3.print_info()\n",
    "print('객체 갯수 :', s2.get_count())\n",
    "print('객체 갯수 :', s3.get_count())\n",
    "print('객체 갯수 :', Student.get_count())"
   ]
  },
  {
   "cell_type": "code",
   "execution_count": 39,
   "metadata": {
    "ExecuteTime": {
     "end_time": "2021-02-26T05:43:45.101113Z",
     "start_time": "2021-02-26T05:43:45.098121Z"
    }
   },
   "outputs": [
    {
     "name": "stdout",
     "output_type": "stream",
     "text": [
      "객체 갯수 : 2\n"
     ]
    }
   ],
   "source": [
    "del s3\n",
    "print('객체 갯수 :', Student.get_count())"
   ]
  },
  {
   "cell_type": "markdown",
   "metadata": {},
   "source": [
    "# 연습문제"
   ]
  },
  {
   "cell_type": "markdown",
   "metadata": {},
   "source": [
    "## 실습형 연습문제"
   ]
  },
  {
   "cell_type": "code",
   "execution_count": 40,
   "metadata": {
    "ExecuteTime": {
     "end_time": "2021-02-26T05:44:26.657601Z",
     "start_time": "2021-02-26T05:44:26.651642Z"
    }
   },
   "outputs": [],
   "source": [
    "# 실습형 1\n",
    "class Shape:\n",
    "    def __init__(self, x=0, y=0):\n",
    "        self.x = x\n",
    "        self.y = y\n",
    "        \n",
    "    def __str__(self):\n",
    "        return \"x좌표값:{}, y좌표값:{}\".format(self.x, self.y)\n",
    "\n",
    "    def move(self, x, y):\n",
    "        self.x += x\n",
    "        self.y += y\n",
    "        \n",
    "    def calc_area(self):\n",
    "        raise Exception(\"이 메소드는 반드시 구현되어야 합니다\")\n",
    "    \n",
    "    @staticmethod\n",
    "    def staticmethod_():\n",
    "        print(\"도형 클래스 staticmethod 호출\")"
   ]
  },
  {
   "cell_type": "code",
   "execution_count": 41,
   "metadata": {
    "ExecuteTime": {
     "end_time": "2021-02-26T05:44:35.775050Z",
     "start_time": "2021-02-26T05:44:35.770052Z"
    }
   },
   "outputs": [],
   "source": [
    "class Triangle(Shape):\n",
    "    __count = 0\n",
    "    def __init__(self, width, height, x=0, y=0):\n",
    "        Triangle._Triangle__count += 1\n",
    "        Shape.__init__(self, x, y)\n",
    "        self.width = width\n",
    "        self.height = height    \n",
    "    def __del__(self):\n",
    "        Triangle._Triangle__count -= 1        \n",
    "    def __str__(self):\n",
    "        #return Shape.__str__(self) + \", width:{}, height:{}\".format(self.width, \n",
    "         #                                                           self.height)\n",
    "        return super().__str__() + \", width:{}, height:{}\".format(self.width, \n",
    "                                                                  self.height)    \n",
    "    def calc_area(self):\n",
    "        return (self.width*self.height)/2    \n",
    "    @classmethod\n",
    "    def get_count(cls):\n",
    "        return cls.__count"
   ]
  },
  {
   "cell_type": "code",
   "execution_count": 42,
   "metadata": {
    "ExecuteTime": {
     "end_time": "2021-02-26T05:45:17.302175Z",
     "start_time": "2021-02-26T05:45:17.299210Z"
    }
   },
   "outputs": [],
   "source": [
    "s1 = Shape()"
   ]
  },
  {
   "cell_type": "code",
   "execution_count": 43,
   "metadata": {
    "ExecuteTime": {
     "end_time": "2021-02-26T05:45:19.244810Z",
     "start_time": "2021-02-26T05:45:19.234837Z"
    }
   },
   "outputs": [
    {
     "ename": "Exception",
     "evalue": "이 메소드는 반드시 구현되어야 합니다",
     "output_type": "error",
     "traceback": [
      "\u001b[1;31m---------------------------------------------------------------------------\u001b[0m",
      "\u001b[1;31mException\u001b[0m                                 Traceback (most recent call last)",
      "\u001b[1;32m<ipython-input-43-9fa41ec1c1e8>\u001b[0m in \u001b[0;36m<module>\u001b[1;34m\u001b[0m\n\u001b[1;32m----> 1\u001b[1;33m \u001b[0ms1\u001b[0m\u001b[1;33m.\u001b[0m\u001b[0mcalc_area\u001b[0m\u001b[1;33m(\u001b[0m\u001b[1;33m)\u001b[0m \u001b[1;31m# calc_area()호출시 오류 발생\u001b[0m\u001b[1;33m\u001b[0m\u001b[1;33m\u001b[0m\u001b[0m\n\u001b[0m",
      "\u001b[1;32m<ipython-input-40-8874e7c4eef7>\u001b[0m in \u001b[0;36mcalc_area\u001b[1;34m(self)\u001b[0m\n\u001b[0;32m     13\u001b[0m \u001b[1;33m\u001b[0m\u001b[0m\n\u001b[0;32m     14\u001b[0m     \u001b[1;32mdef\u001b[0m \u001b[0mcalc_area\u001b[0m\u001b[1;33m(\u001b[0m\u001b[0mself\u001b[0m\u001b[1;33m)\u001b[0m\u001b[1;33m:\u001b[0m\u001b[1;33m\u001b[0m\u001b[1;33m\u001b[0m\u001b[0m\n\u001b[1;32m---> 15\u001b[1;33m         \u001b[1;32mraise\u001b[0m \u001b[0mException\u001b[0m\u001b[1;33m(\u001b[0m\u001b[1;34m\"이 메소드는 반드시 구현되어야 합니다\"\u001b[0m\u001b[1;33m)\u001b[0m\u001b[1;33m\u001b[0m\u001b[1;33m\u001b[0m\u001b[0m\n\u001b[0m\u001b[0;32m     16\u001b[0m \u001b[1;33m\u001b[0m\u001b[0m\n\u001b[0;32m     17\u001b[0m     \u001b[1;33m@\u001b[0m\u001b[0mstaticmethod\u001b[0m\u001b[1;33m\u001b[0m\u001b[1;33m\u001b[0m\u001b[0m\n",
      "\u001b[1;31mException\u001b[0m: 이 메소드는 반드시 구현되어야 합니다"
     ]
    }
   ],
   "source": [
    "s1.calc_area() # calc_area()호출시 오류 발생"
   ]
  },
  {
   "cell_type": "code",
   "execution_count": 44,
   "metadata": {
    "ExecuteTime": {
     "end_time": "2021-02-26T05:45:21.652478Z",
     "start_time": "2021-02-26T05:45:21.649478Z"
    }
   },
   "outputs": [],
   "source": [
    "t1 = Triangle(10, 20)\n",
    "t2 = Triangle(3, 4, 5, 5)"
   ]
  },
  {
   "cell_type": "code",
   "execution_count": 45,
   "metadata": {
    "ExecuteTime": {
     "end_time": "2021-02-26T05:45:23.954863Z",
     "start_time": "2021-02-26T05:45:23.949875Z"
    }
   },
   "outputs": [
    {
     "name": "stdout",
     "output_type": "stream",
     "text": [
      "x좌표값:0, y좌표값:0, width:10, height:20\n",
      "x좌표값:5, y좌표값:5, width:3, height:4\n",
      "Triangle 객체 갯수 : 2\n",
      "Triangle 객체 갯수 : 2\n",
      "Triangle 객체 갯수 : 2\n"
     ]
    }
   ],
   "source": [
    "print(t1)\n",
    "print(t2)\n",
    "print('Triangle 객체 갯수 :', Triangle.get_count())\n",
    "print('Triangle 객체 갯수 :', t1.get_count())\n",
    "print('Triangle 객체 갯수 :', t2.get_count())"
   ]
  },
  {
   "cell_type": "code",
   "execution_count": 46,
   "metadata": {
    "ExecuteTime": {
     "end_time": "2021-02-26T05:45:51.983531Z",
     "start_time": "2021-02-26T05:45:51.980540Z"
    }
   },
   "outputs": [],
   "source": [
    "t1.move(50,50)"
   ]
  },
  {
   "cell_type": "code",
   "execution_count": 47,
   "metadata": {
    "ExecuteTime": {
     "end_time": "2021-02-26T05:45:54.925947Z",
     "start_time": "2021-02-26T05:45:54.921957Z"
    }
   },
   "outputs": [
    {
     "name": "stdout",
     "output_type": "stream",
     "text": [
      "x좌표값:50, y좌표값:50, width:10, height:20\n"
     ]
    }
   ],
   "source": [
    "print(t1)"
   ]
  },
  {
   "cell_type": "code",
   "execution_count": null,
   "metadata": {},
   "outputs": [],
   "source": [
    "# 연습문제(서술형) 1.\n",
    "# 답: 1번"
   ]
  },
  {
   "cell_type": "code",
   "execution_count": null,
   "metadata": {},
   "outputs": [],
   "source": [
    "# 연습문제(서술형) 2.\n",
    "# 답: 2번"
   ]
  },
  {
   "cell_type": "code",
   "execution_count": null,
   "metadata": {},
   "outputs": [],
   "source": [
    "# 연습문제(서술형) 3.\n",
    "# 답: 4번"
   ]
  },
  {
   "cell_type": "code",
   "execution_count": null,
   "metadata": {},
   "outputs": [],
   "source": [
    "# 연습문제(서술형) 4.\n",
    "# 답: 1번"
   ]
  },
  {
   "cell_type": "code",
   "execution_count": null,
   "metadata": {},
   "outputs": [],
   "source": [
    "# 연습문제(서술형) 5.\n",
    "# 답: 2번"
   ]
  },
  {
   "cell_type": "code",
   "execution_count": null,
   "metadata": {},
   "outputs": [],
   "source": [
    "# 연습문제(서술형) 6.\n",
    "# 답: 3번"
   ]
  },
  {
   "cell_type": "code",
   "execution_count": null,
   "metadata": {},
   "outputs": [],
   "source": [
    "# 연습문제(서술형) 7.\n",
    "# 답: 3번"
   ]
  },
  {
   "cell_type": "code",
   "execution_count": null,
   "metadata": {},
   "outputs": [],
   "source": [
    "# 연습문제(서술형) 8.\n",
    "# 답: 3번"
   ]
  },
  {
   "cell_type": "code",
   "execution_count": null,
   "metadata": {},
   "outputs": [],
   "source": [
    "# 연습문제(서술형) 9.\n",
    "# 답: 2번"
   ]
  }
 ],
 "metadata": {
  "kernelspec": {
   "display_name": "Python 3",
   "language": "python",
   "name": "python3"
  },
  "language_info": {
   "codemirror_mode": {
    "name": "ipython",
    "version": 3
   },
   "file_extension": ".py",
   "mimetype": "text/x-python",
   "name": "python",
   "nbconvert_exporter": "python",
   "pygments_lexer": "ipython3",
   "version": "3.8.5"
  },
  "toc": {
   "base_numbering": 1,
   "nav_menu": {},
   "number_sections": false,
   "sideBar": true,
   "skip_h1_title": false,
   "title_cell": "Table of Contents",
   "title_sidebar": "Contents",
   "toc_cell": false,
   "toc_position": {
    "height": "830px",
    "left": "237px",
    "top": "180px",
    "width": "240px"
   },
   "toc_section_display": true,
   "toc_window_display": true
  },
  "varInspector": {
   "cols": {
    "lenName": 16,
    "lenType": 16,
    "lenVar": 40
   },
   "kernels_config": {
    "python": {
     "delete_cmd_postfix": "",
     "delete_cmd_prefix": "del ",
     "library": "var_list.py",
     "varRefreshCmd": "print(var_dic_list())"
    },
    "r": {
     "delete_cmd_postfix": ") ",
     "delete_cmd_prefix": "rm(",
     "library": "var_list.r",
     "varRefreshCmd": "cat(var_dic_list()) "
    }
   },
   "types_to_exclude": [
    "module",
    "function",
    "builtin_function_or_method",
    "instance",
    "_Feature"
   ],
   "window_display": false
  }
 },
 "nbformat": 4,
 "nbformat_minor": 4
}
