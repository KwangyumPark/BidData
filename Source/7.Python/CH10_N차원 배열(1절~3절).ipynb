{
 "cells": [
  {
   "cell_type": "markdown",
   "metadata": {},
   "source": [
    "21.03.04 Python N차원 배열(1)"
   ]
  },
  {
   "cell_type": "markdown",
   "metadata": {},
   "source": [
    "# CH11. N차원 배열\n",
    "- n차원 배열 객체\n",
    "- 행렬 개념으로 이해\n",
    "- c언어로 이루어진 고성능 수치계산 패키지 Numpy 이용\n",
    "- c/c++, 포트란 코드 통합구성"
   ]
  },
  {
   "cell_type": "markdown",
   "metadata": {},
   "source": [
    "# 1절. numpy 패키지"
   ]
  },
  {
   "cell_type": "code",
   "execution_count": 2,
   "metadata": {
    "ExecuteTime": {
     "end_time": "2021-03-04T03:52:04.564147Z",
     "start_time": "2021-03-04T03:52:04.559159Z"
    }
   },
   "outputs": [
    {
     "data": {
      "text/plain": [
       "array([ 0,  1,  2,  3,  4,  5,  6,  7,  8,  9, 10, 11, 12, 13, 14])"
      ]
     },
     "execution_count": 2,
     "metadata": {},
     "output_type": "execute_result"
    }
   ],
   "source": [
    "import numpy as np\n",
    "a = np.arange(15) # 0부터 15 앞 까지의 1차원 배열 생성\n",
    "a"
   ]
  },
  {
   "cell_type": "code",
   "execution_count": 3,
   "metadata": {
    "ExecuteTime": {
     "end_time": "2021-03-04T03:52:47.405240Z",
     "start_time": "2021-03-04T03:52:47.400254Z"
    }
   },
   "outputs": [
    {
     "data": {
      "text/plain": [
       "array([[ 0,  1,  2,  3,  4],\n",
       "       [ 5,  6,  7,  8,  9],\n",
       "       [10, 11, 12, 13, 14]])"
      ]
     },
     "execution_count": 3,
     "metadata": {},
     "output_type": "execute_result"
    }
   ],
   "source": [
    "a = np.arange(15).reshape(3, 5) # 2차원 배열 생성\n",
    "a"
   ]
  },
  {
   "cell_type": "code",
   "execution_count": 4,
   "metadata": {
    "ExecuteTime": {
     "end_time": "2021-03-04T03:53:47.788370Z",
     "start_time": "2021-03-04T03:53:47.784361Z"
    }
   },
   "outputs": [
    {
     "data": {
      "text/plain": [
       "numpy.ndarray"
      ]
     },
     "execution_count": 4,
     "metadata": {},
     "output_type": "execute_result"
    }
   ],
   "source": [
    "type(a) # a 변수 자체 타입은 n차원 배열"
   ]
  },
  {
   "cell_type": "code",
   "execution_count": 5,
   "metadata": {
    "ExecuteTime": {
     "end_time": "2021-03-04T03:54:18.507004Z",
     "start_time": "2021-03-04T03:54:18.502037Z"
    }
   },
   "outputs": [
    {
     "data": {
      "text/plain": [
       "dtype('int32')"
      ]
     },
     "execution_count": 5,
     "metadata": {},
     "output_type": "execute_result"
    }
   ],
   "source": [
    "a.dtype # a 변수 요소들의 type"
   ]
  },
  {
   "cell_type": "code",
   "execution_count": 9,
   "metadata": {
    "ExecuteTime": {
     "end_time": "2021-03-04T03:57:22.770506Z",
     "start_time": "2021-03-04T03:57:22.765526Z"
    }
   },
   "outputs": [
    {
     "data": {
      "text/plain": [
       "'int32'"
      ]
     },
     "execution_count": 9,
     "metadata": {},
     "output_type": "execute_result"
    }
   ],
   "source": [
    "a.dtype.name # a 변수 요소들의 type"
   ]
  },
  {
   "cell_type": "code",
   "execution_count": 10,
   "metadata": {
    "ExecuteTime": {
     "end_time": "2021-03-04T03:58:31.770505Z",
     "start_time": "2021-03-04T03:58:31.766497Z"
    }
   },
   "outputs": [
    {
     "data": {
      "text/plain": [
       "4"
      ]
     },
     "execution_count": 10,
     "metadata": {},
     "output_type": "execute_result"
    }
   ],
   "source": [
    "a.itemsize # 요소 각각의 크기(byte 단위)"
   ]
  },
  {
   "cell_type": "code",
   "execution_count": 6,
   "metadata": {
    "ExecuteTime": {
     "end_time": "2021-03-04T03:55:49.522511Z",
     "start_time": "2021-03-04T03:55:49.518539Z"
    }
   },
   "outputs": [
    {
     "data": {
      "text/plain": [
       "2"
      ]
     },
     "execution_count": 6,
     "metadata": {},
     "output_type": "execute_result"
    }
   ],
   "source": [
    "a.ndim # 축의 갯수(차원수)"
   ]
  },
  {
   "cell_type": "code",
   "execution_count": 7,
   "metadata": {
    "ExecuteTime": {
     "end_time": "2021-03-04T03:56:07.325316Z",
     "start_time": "2021-03-04T03:56:07.320329Z"
    }
   },
   "outputs": [
    {
     "data": {
      "text/plain": [
       "(3, 5)"
      ]
     },
     "execution_count": 7,
     "metadata": {},
     "output_type": "execute_result"
    }
   ],
   "source": [
    "a.shape #배열 구조"
   ]
  },
  {
   "cell_type": "code",
   "execution_count": 8,
   "metadata": {
    "ExecuteTime": {
     "end_time": "2021-03-04T03:56:43.489378Z",
     "start_time": "2021-03-04T03:56:43.486406Z"
    }
   },
   "outputs": [
    {
     "data": {
      "text/plain": [
       "15"
      ]
     },
     "execution_count": 8,
     "metadata": {},
     "output_type": "execute_result"
    }
   ],
   "source": [
    "a.size # 배열 요소의 총 갯수"
   ]
  },
  {
   "cell_type": "code",
   "execution_count": null,
   "metadata": {},
   "outputs": [],
   "source": [
    "# dtype 속성을 바꾸면 형변환이 이루어 지지 않는다."
   ]
  },
  {
   "cell_type": "code",
   "execution_count": 11,
   "metadata": {
    "ExecuteTime": {
     "end_time": "2021-03-04T04:01:17.833088Z",
     "start_time": "2021-03-04T04:01:17.829112Z"
    }
   },
   "outputs": [
    {
     "data": {
      "text/plain": [
       "array([[ 0,  1,  2,  3],\n",
       "       [ 4,  5,  6,  7],\n",
       "       [ 8,  9, 10, 11]])"
      ]
     },
     "execution_count": 11,
     "metadata": {},
     "output_type": "execute_result"
    }
   ],
   "source": [
    "a = np.arange(12).reshape(3, 4)\n",
    "a"
   ]
  },
  {
   "cell_type": "code",
   "execution_count": 12,
   "metadata": {
    "ExecuteTime": {
     "end_time": "2021-03-04T04:01:28.266004Z",
     "start_time": "2021-03-04T04:01:28.261017Z"
    }
   },
   "outputs": [
    {
     "data": {
      "text/plain": [
       "dtype('int32')"
      ]
     },
     "execution_count": 12,
     "metadata": {},
     "output_type": "execute_result"
    }
   ],
   "source": [
    "a.dtype"
   ]
  },
  {
   "cell_type": "code",
   "execution_count": 13,
   "metadata": {
    "ExecuteTime": {
     "end_time": "2021-03-04T04:02:15.988200Z",
     "start_time": "2021-03-04T04:02:15.984211Z"
    }
   },
   "outputs": [],
   "source": [
    "a.dtype = np.int64 # a 요소의 dtype을 int64로 변환"
   ]
  },
  {
   "cell_type": "code",
   "execution_count": 14,
   "metadata": {
    "ExecuteTime": {
     "end_time": "2021-03-04T04:02:25.306876Z",
     "start_time": "2021-03-04T04:02:25.302884Z"
    }
   },
   "outputs": [
    {
     "data": {
      "text/plain": [
       "dtype('int64')"
      ]
     },
     "execution_count": 14,
     "metadata": {},
     "output_type": "execute_result"
    }
   ],
   "source": [
    "a.dtype"
   ]
  },
  {
   "cell_type": "code",
   "execution_count": 15,
   "metadata": {
    "ExecuteTime": {
     "end_time": "2021-03-04T04:03:44.577667Z",
     "start_time": "2021-03-04T04:03:44.572680Z"
    }
   },
   "outputs": [
    {
     "data": {
      "text/plain": [
       "array([[ 4294967296, 12884901890],\n",
       "       [21474836484, 30064771078],\n",
       "       [38654705672, 47244640266]], dtype=int64)"
      ]
     },
     "execution_count": 15,
     "metadata": {},
     "output_type": "execute_result"
    }
   ],
   "source": [
    "a"
   ]
  },
  {
   "cell_type": "code",
   "execution_count": 16,
   "metadata": {
    "ExecuteTime": {
     "end_time": "2021-03-04T04:04:00.072859Z",
     "start_time": "2021-03-04T04:04:00.068852Z"
    }
   },
   "outputs": [
    {
     "data": {
      "text/plain": [
       "6"
      ]
     },
     "execution_count": 16,
     "metadata": {},
     "output_type": "execute_result"
    }
   ],
   "source": [
    "a.size"
   ]
  },
  {
   "cell_type": "markdown",
   "metadata": {},
   "source": [
    "# 2절. 넘파이 배열\n",
    "- array() 함수를 이용한 다른 파이썬 구조(벡터구조)를 넘파이 배열로 변환\n",
    "- numpy 배열을 생성하는 기타 함수들 : arange, ones, zeros 등\n",
    "- 특수 라이브러리 함수(ex: random) 이용\n",
    "- https://docs.scipy.org/doc/numpy/index.html - numpy document site"
   ]
  },
  {
   "cell_type": "markdown",
   "metadata": {},
   "source": [
    "## 2.1 array() 함수로 넘파이 배열 만들기"
   ]
  },
  {
   "cell_type": "code",
   "execution_count": 18,
   "metadata": {
    "ExecuteTime": {
     "end_time": "2021-03-04T04:15:30.976288Z",
     "start_time": "2021-03-04T04:15:30.972289Z"
    }
   },
   "outputs": [
    {
     "data": {
      "text/plain": [
       "array([2, 4, 6])"
      ]
     },
     "execution_count": 18,
     "metadata": {},
     "output_type": "execute_result"
    }
   ],
   "source": [
    "import numpy as np\n",
    "a = np.array([2,4,6])\n",
    "a"
   ]
  },
  {
   "cell_type": "code",
   "execution_count": 19,
   "metadata": {
    "ExecuteTime": {
     "end_time": "2021-03-04T04:16:03.975922Z",
     "start_time": "2021-03-04T04:16:03.971932Z"
    }
   },
   "outputs": [
    {
     "name": "stdout",
     "output_type": "stream",
     "text": [
      "2\t4\t6\t"
     ]
    }
   ],
   "source": [
    "for i in a:\n",
    "    print(i, end='\\t')"
   ]
  },
  {
   "cell_type": "code",
   "execution_count": 20,
   "metadata": {
    "ExecuteTime": {
     "end_time": "2021-03-04T04:16:12.792447Z",
     "start_time": "2021-03-04T04:16:12.787460Z"
    }
   },
   "outputs": [
    {
     "data": {
      "text/plain": [
       "4"
      ]
     },
     "execution_count": 20,
     "metadata": {},
     "output_type": "execute_result"
    }
   ],
   "source": [
    "a[1]"
   ]
  },
  {
   "cell_type": "code",
   "execution_count": 36,
   "metadata": {
    "ExecuteTime": {
     "end_time": "2021-03-04T05:33:24.639003Z",
     "start_time": "2021-03-04T05:33:24.634002Z"
    }
   },
   "outputs": [
    {
     "data": {
      "text/plain": [
       "array([[1. ],\n",
       "       [6. ],\n",
       "       [9.1]])"
      ]
     },
     "execution_count": 36,
     "metadata": {},
     "output_type": "execute_result"
    }
   ],
   "source": [
    "a = np.array([1,6,9.1]).reshape(3, 1)\n",
    "a"
   ]
  },
  {
   "cell_type": "code",
   "execution_count": 33,
   "metadata": {
    "ExecuteTime": {
     "end_time": "2021-03-04T04:20:13.751957Z",
     "start_time": "2021-03-04T04:20:13.747994Z"
    }
   },
   "outputs": [
    {
     "data": {
      "text/plain": [
       "dtype('int32')"
      ]
     },
     "execution_count": 33,
     "metadata": {},
     "output_type": "execute_result"
    }
   ],
   "source": [
    "a.dtype"
   ]
  },
  {
   "cell_type": "code",
   "execution_count": 35,
   "metadata": {
    "ExecuteTime": {
     "end_time": "2021-03-04T04:20:42.018508Z",
     "start_time": "2021-03-04T04:20:42.002954Z"
    }
   },
   "outputs": [
    {
     "data": {
      "text/plain": [
       "array([[1.5, 2.3],\n",
       "       [4. , 5. ]])"
      ]
     },
     "execution_count": 35,
     "metadata": {},
     "output_type": "execute_result"
    }
   ],
   "source": [
    "b = np.array([(1.5, 2.3),(4,5)]) # 자동 dtype 세팅\n",
    "b"
   ]
  },
  {
   "cell_type": "code",
   "execution_count": 37,
   "metadata": {
    "ExecuteTime": {
     "end_time": "2021-03-04T05:33:56.342300Z",
     "start_time": "2021-03-04T05:33:56.337331Z"
    }
   },
   "outputs": [
    {
     "data": {
      "text/plain": [
       "array([[1. , 2. ],\n",
       "       [3. , 4.1]])"
      ]
     },
     "execution_count": 37,
     "metadata": {},
     "output_type": "execute_result"
    }
   ],
   "source": [
    "a = np.array([1,2,3,4.1]).reshape(2,2) # 2행 2열\n",
    "a"
   ]
  },
  {
   "cell_type": "code",
   "execution_count": 38,
   "metadata": {
    "ExecuteTime": {
     "end_time": "2021-03-04T05:34:09.958086Z",
     "start_time": "2021-03-04T05:34:09.953098Z"
    }
   },
   "outputs": [
    {
     "data": {
      "text/plain": [
       "dtype('float64')"
      ]
     },
     "execution_count": 38,
     "metadata": {},
     "output_type": "execute_result"
    }
   ],
   "source": [
    "a.dtype"
   ]
  },
  {
   "cell_type": "code",
   "execution_count": 41,
   "metadata": {
    "ExecuteTime": {
     "end_time": "2021-03-04T05:36:00.128624Z",
     "start_time": "2021-03-04T05:36:00.124640Z"
    }
   },
   "outputs": [
    {
     "data": {
      "text/plain": [
       "array([[1, 2, 3],\n",
       "       [4, 5, 6]])"
      ]
     },
     "execution_count": 41,
     "metadata": {},
     "output_type": "execute_result"
    }
   ],
   "source": [
    "b = np.array([[1,2,3],[4,5,6]]) #dtype 자동 세팅\n",
    "b"
   ]
  },
  {
   "cell_type": "code",
   "execution_count": 42,
   "metadata": {
    "ExecuteTime": {
     "end_time": "2021-03-04T05:36:14.046038Z",
     "start_time": "2021-03-04T05:36:14.041071Z"
    }
   },
   "outputs": [
    {
     "data": {
      "text/plain": [
       "dtype('int32')"
      ]
     },
     "execution_count": 42,
     "metadata": {},
     "output_type": "execute_result"
    }
   ],
   "source": [
    "b.dtype"
   ]
  },
  {
   "cell_type": "code",
   "execution_count": 50,
   "metadata": {
    "ExecuteTime": {
     "end_time": "2021-03-04T05:40:32.734128Z",
     "start_time": "2021-03-04T05:40:32.728144Z"
    }
   },
   "outputs": [
    {
     "data": {
      "text/plain": [
       "array([[1, 2, 3],\n",
       "       [4, 5, 6]], dtype=int64)"
      ]
     },
     "execution_count": 50,
     "metadata": {},
     "output_type": "execute_result"
    }
   ],
   "source": [
    "b = np.array([[1,2,3],[4,5,6]], dtype = np.int64) #dtype을 인수로 세팅\n",
    "b"
   ]
  },
  {
   "cell_type": "code",
   "execution_count": 51,
   "metadata": {
    "ExecuteTime": {
     "end_time": "2021-03-04T05:40:34.621246Z",
     "start_time": "2021-03-04T05:40:34.616281Z"
    }
   },
   "outputs": [
    {
     "data": {
      "text/plain": [
       "dtype('int64')"
      ]
     },
     "execution_count": 51,
     "metadata": {},
     "output_type": "execute_result"
    }
   ],
   "source": [
    "b.dtype"
   ]
  },
  {
   "cell_type": "code",
   "execution_count": 52,
   "metadata": {
    "ExecuteTime": {
     "end_time": "2021-03-04T05:41:12.828515Z",
     "start_time": "2021-03-04T05:41:12.824526Z"
    }
   },
   "outputs": [],
   "source": [
    "b = b.astype(np.int32) # type 바꾸기"
   ]
  },
  {
   "cell_type": "code",
   "execution_count": 53,
   "metadata": {
    "ExecuteTime": {
     "end_time": "2021-03-04T05:41:25.093065Z",
     "start_time": "2021-03-04T05:41:25.088099Z"
    }
   },
   "outputs": [
    {
     "data": {
      "text/plain": [
       "dtype('int32')"
      ]
     },
     "execution_count": 53,
     "metadata": {},
     "output_type": "execute_result"
    }
   ],
   "source": [
    "b.dtype"
   ]
  },
  {
   "cell_type": "code",
   "execution_count": 54,
   "metadata": {
    "ExecuteTime": {
     "end_time": "2021-03-04T05:42:30.957230Z",
     "start_time": "2021-03-04T05:42:30.953275Z"
    }
   },
   "outputs": [
    {
     "data": {
      "text/plain": [
       "[[1, 2, 3], [4, 5, 6]]"
      ]
     },
     "execution_count": 54,
     "metadata": {},
     "output_type": "execute_result"
    }
   ],
   "source": [
    "list_=[[1,2,3],[4,5,6]]\n",
    "list_"
   ]
  },
  {
   "cell_type": "code",
   "execution_count": 56,
   "metadata": {
    "ExecuteTime": {
     "end_time": "2021-03-04T05:45:01.812764Z",
     "start_time": "2021-03-04T05:45:01.808774Z"
    }
   },
   "outputs": [
    {
     "name": "stdout",
     "output_type": "stream",
     "text": [
      "1\t2\t3\t\n",
      "4\t5\t6\t\n"
     ]
    }
   ],
   "source": [
    "for row in list_:\n",
    "    for data in row:\n",
    "        print(data, end='\\t')\n",
    "    print()"
   ]
  },
  {
   "cell_type": "code",
   "execution_count": 57,
   "metadata": {
    "ExecuteTime": {
     "end_time": "2021-03-04T05:46:42.455372Z",
     "start_time": "2021-03-04T05:46:42.439725Z"
    }
   },
   "outputs": [
    {
     "name": "stdout",
     "output_type": "stream",
     "text": [
      "0행0열 : 1\t0행1열 : 2\t0행2열 : 3\t\n",
      "1행0열 : 4\t1행1열 : 5\t1행2열 : 6\t\n"
     ]
    }
   ],
   "source": [
    "for i, row in enumerate(list_):\n",
    "    for j, data in enumerate(row):\n",
    "        print(\"{}행{}열 : {}\".format(i, j, data), end='\\t')\n",
    "    print()"
   ]
  },
  {
   "cell_type": "code",
   "execution_count": 58,
   "metadata": {
    "ExecuteTime": {
     "end_time": "2021-03-04T05:47:15.870339Z",
     "start_time": "2021-03-04T05:47:15.854718Z"
    }
   },
   "outputs": [
    {
     "data": {
      "text/plain": [
       "2"
      ]
     },
     "execution_count": 58,
     "metadata": {},
     "output_type": "execute_result"
    }
   ],
   "source": [
    "list_[0][1] # 리스트에서의 인텓싱"
   ]
  },
  {
   "cell_type": "code",
   "execution_count": 59,
   "metadata": {
    "ExecuteTime": {
     "end_time": "2021-03-04T05:48:18.007404Z",
     "start_time": "2021-03-04T05:48:18.002421Z"
    }
   },
   "outputs": [
    {
     "data": {
      "text/plain": [
       "[1, 2]"
      ]
     },
     "execution_count": 59,
     "metadata": {},
     "output_type": "execute_result"
    }
   ],
   "source": [
    "list_[0][0:2] # 리스트에서의 인덱싱 슬라이싱"
   ]
  },
  {
   "cell_type": "code",
   "execution_count": 55,
   "metadata": {
    "ExecuteTime": {
     "end_time": "2021-03-04T05:44:01.982012Z",
     "start_time": "2021-03-04T05:44:01.976042Z"
    }
   },
   "outputs": [
    {
     "data": {
      "text/plain": [
       "array([[1, 2, 3],\n",
       "       [4, 5, 6]], dtype=int16)"
      ]
     },
     "execution_count": 55,
     "metadata": {},
     "output_type": "execute_result"
    }
   ],
   "source": [
    "b = np.array([[1,2,3],[4,5,6]], dtype = np.int16)\n",
    "b"
   ]
  },
  {
   "cell_type": "code",
   "execution_count": 61,
   "metadata": {
    "ExecuteTime": {
     "end_time": "2021-03-04T05:49:51.044176Z",
     "start_time": "2021-03-04T05:49:51.040175Z"
    }
   },
   "outputs": [
    {
     "name": "stdout",
     "output_type": "stream",
     "text": [
      "1\t2\t3\t\n",
      "4\t5\t6\t\n"
     ]
    }
   ],
   "source": [
    "for row in b:\n",
    "    for item in row:\n",
    "        print(item, end=\"\\t\")\n",
    "    print()"
   ]
  },
  {
   "cell_type": "code",
   "execution_count": 62,
   "metadata": {
    "ExecuteTime": {
     "end_time": "2021-03-04T05:51:53.884526Z",
     "start_time": "2021-03-04T05:51:53.879564Z"
    }
   },
   "outputs": [
    {
     "name": "stdout",
     "output_type": "stream",
     "text": [
      "0행0열 : 1\t0행1열 : 2\t0행2열 : 3\t\n",
      "1행0열 : 4\t1행1열 : 5\t1행2열 : 6\t\n"
     ]
    }
   ],
   "source": [
    "for i, row in enumerate(b):\n",
    "    for j, item in enumerate(row):\n",
    "        print(\"{}행{}열 : {}\".format(i, j, item), end='\\t')\n",
    "    print()"
   ]
  },
  {
   "cell_type": "code",
   "execution_count": 63,
   "metadata": {
    "ExecuteTime": {
     "end_time": "2021-03-04T05:52:37.663795Z",
     "start_time": "2021-03-04T05:52:37.658808Z"
    }
   },
   "outputs": [
    {
     "data": {
      "text/plain": [
       "(2, 2)"
      ]
     },
     "execution_count": 63,
     "metadata": {},
     "output_type": "execute_result"
    }
   ],
   "source": [
    "b[0,1], b[0][1] # 넘파이 배열에서의 인덱싱"
   ]
  },
  {
   "cell_type": "code",
   "execution_count": 64,
   "metadata": {
    "ExecuteTime": {
     "end_time": "2021-03-04T05:53:10.558668Z",
     "start_time": "2021-03-04T05:53:10.553681Z"
    }
   },
   "outputs": [
    {
     "data": {
      "text/plain": [
       "array([1, 2], dtype=int16)"
      ]
     },
     "execution_count": 64,
     "metadata": {},
     "output_type": "execute_result"
    }
   ],
   "source": [
    "b[0, 0:2] # 넘파이 배열에서의 슬라이싱"
   ]
  },
  {
   "cell_type": "code",
   "execution_count": 65,
   "metadata": {
    "ExecuteTime": {
     "end_time": "2021-03-04T05:54:40.893115Z",
     "start_time": "2021-03-04T05:54:40.888148Z"
    }
   },
   "outputs": [
    {
     "data": {
      "text/plain": [
       "array([[1.+0.j, 2.+0.j],\n",
       "       [3.+0.j, 4.+0.j]])"
      ]
     },
     "execution_count": 65,
     "metadata": {},
     "output_type": "execute_result"
    }
   ],
   "source": [
    "c = np.array([[1,2],[3,4]], dtype=complex) # dtype이 복소수\n",
    "c"
   ]
  },
  {
   "cell_type": "code",
   "execution_count": 68,
   "metadata": {
    "ExecuteTime": {
     "end_time": "2021-03-04T05:57:11.940022Z",
     "start_time": "2021-03-04T05:57:11.935059Z"
    }
   },
   "outputs": [
    {
     "name": "stdout",
     "output_type": "stream",
     "text": [
      "d=\n",
      "[[1.+0.j 2.+0.j]\n",
      " [3.+0.j 4.+0.j]]\n",
      "1890384549968 1890384549968\n",
      "d의 요소 타입은 complex128\n",
      "c=\n",
      "[[100.+0.j   2.+0.j]\n",
      " [  3.+0.j   4.+0.j]]\n"
     ]
    }
   ],
   "source": [
    "d = np.array(c, copy=False)\n",
    "print('d=',d,sep='\\n')\n",
    "print(id(c), id(d))\n",
    "print('d의 요소 타입은', d.dtype)\n",
    "d[0,0] = 100\n",
    "print('c=',c,sep='\\n')"
   ]
  },
  {
   "cell_type": "code",
   "execution_count": 69,
   "metadata": {
    "ExecuteTime": {
     "end_time": "2021-03-04T05:58:41.482162Z",
     "start_time": "2021-03-04T05:58:41.471191Z"
    }
   },
   "outputs": [
    {
     "name": "stdout",
     "output_type": "stream",
     "text": [
      "d=\n",
      "[[100   2]\n",
      " [  3   4]]\n",
      "1890384549968 1890389474480\n",
      "d의 요소 타입은 int32\n",
      "c=\n",
      "[[100.+0.j   2.+0.j]\n",
      " [  3.+0.j   4.+0.j]]\n"
     ]
    },
    {
     "name": "stderr",
     "output_type": "stream",
     "text": [
      "<ipython-input-69-703cedefd9a8>:1: ComplexWarning: Casting complex values to real discards the imaginary part\n",
      "  d = np.array(c, copy=True, dtype=int)\n"
     ]
    }
   ],
   "source": [
    "d = np.array(c, copy=True, dtype=int)\n",
    "print('d=',d,sep='\\n')\n",
    "print(id(c), id(d))\n",
    "print('d의 요소 타입은', d.dtype)\n",
    "d[0,0] = 100\n",
    "print('c=',c,sep='\\n')"
   ]
  },
  {
   "cell_type": "markdown",
   "metadata": {},
   "source": [
    "## 2.2 기본값이 있는 배열 만들기\n",
    "- zeros : 요소가 다 0\n",
    "- ones  : 요소가 다 1\n",
    "- empty : 초기 내용은 임의의 값인 배열 (메모리 상태에 따라 달라짐)\n",
    "\n",
    "** 위와같이 생성된 배열의 기본 dtype은 float64, dtype 속성을 따로 지정할 수 있다. **"
   ]
  },
  {
   "cell_type": "code",
   "execution_count": 70,
   "metadata": {
    "ExecuteTime": {
     "end_time": "2021-03-04T06:05:26.595197Z",
     "start_time": "2021-03-04T06:05:26.590209Z"
    }
   },
   "outputs": [
    {
     "data": {
      "text/plain": [
       "array([[0., 0., 0., 0.],\n",
       "       [0., 0., 0., 0.],\n",
       "       [0., 0., 0., 0.]])"
      ]
     },
     "execution_count": 70,
     "metadata": {},
     "output_type": "execute_result"
    }
   ],
   "source": [
    "np.zeros((3,4)) # 3행 4열짜리 2차원 배열(요소값이 다 0)"
   ]
  },
  {
   "cell_type": "code",
   "execution_count": 76,
   "metadata": {
    "ExecuteTime": {
     "end_time": "2021-03-04T06:09:08.290335Z",
     "start_time": "2021-03-04T06:09:08.286333Z"
    }
   },
   "outputs": [
    {
     "name": "stdout",
     "output_type": "stream",
     "text": [
      "[[[0 0 0 0]\n",
      "  [0 0 0 0]\n",
      "  [0 0 0 0]]\n",
      "\n",
      " [[0 0 0 0]\n",
      "  [0 0 0 0]\n",
      "  [0 0 0 0]]]\n",
      "int16\n"
     ]
    }
   ],
   "source": [
    "x = np.zeros((2,3,4), dtype=np.int16) # 2면 3행 4열 3차원 배열, dtype을 int16으로 지정\n",
    "print(x)\n",
    "print(x.dtype)"
   ]
  },
  {
   "cell_type": "code",
   "execution_count": 77,
   "metadata": {
    "ExecuteTime": {
     "end_time": "2021-03-04T06:10:44.650789Z",
     "start_time": "2021-03-04T06:10:44.645803Z"
    }
   },
   "outputs": [
    {
     "data": {
      "text/plain": [
       "array([[1, 1, 1, 1, 1],\n",
       "       [1, 1, 1, 1, 1]], dtype=int8)"
      ]
     },
     "execution_count": 77,
     "metadata": {},
     "output_type": "execute_result"
    }
   ],
   "source": [
    "np.ones((2,5), dtype=np.int8)"
   ]
  },
  {
   "cell_type": "code",
   "execution_count": 78,
   "metadata": {
    "ExecuteTime": {
     "end_time": "2021-03-04T06:10:59.585998Z",
     "start_time": "2021-03-04T06:10:59.581032Z"
    }
   },
   "outputs": [
    {
     "data": {
      "text/plain": [
       "array([[0., 0., 0.],\n",
       "       [0., 0., 0.]])"
      ]
     },
     "execution_count": 78,
     "metadata": {},
     "output_type": "execute_result"
    }
   ],
   "source": [
    "np.empty((2,3))"
   ]
  },
  {
   "cell_type": "markdown",
   "metadata": {},
   "source": [
    "## 2.3 연속된 값을 가지는 배열 만들기\n",
    "- np.arange(from, to ,by, type=None) : from부터 by 씩 건너뛴 값을 to 열까지 (to 미포함) 목록으로 N차원 배열을 만듬. from 생략시 0, by 생략시 1\n",
    "- np.linspace(from, to, num) : from뷰터 to 까지 num개 숫자들을 0차원 배열로 만든다."
   ]
  },
  {
   "cell_type": "code",
   "execution_count": 79,
   "metadata": {
    "ExecuteTime": {
     "end_time": "2021-03-04T06:15:24.257560Z",
     "start_time": "2021-03-04T06:15:24.252571Z"
    }
   },
   "outputs": [
    {
     "data": {
      "text/plain": [
       "array([10., 15., 20., 25.])"
      ]
     },
     "execution_count": 79,
     "metadata": {},
     "output_type": "execute_result"
    }
   ],
   "source": [
    "np.arange(10,30,5, dtype = np.float64)"
   ]
  },
  {
   "cell_type": "code",
   "execution_count": 80,
   "metadata": {
    "ExecuteTime": {
     "end_time": "2021-03-04T06:15:47.089387Z",
     "start_time": "2021-03-04T06:15:47.084400Z"
    }
   },
   "outputs": [
    {
     "data": {
      "text/plain": [
       "array([0. , 0.3, 0.6, 0.9, 1.2, 1.5, 1.8])"
      ]
     },
     "execution_count": 80,
     "metadata": {},
     "output_type": "execute_result"
    }
   ],
   "source": [
    "np.arange(0,2,0.3)"
   ]
  },
  {
   "cell_type": "code",
   "execution_count": 82,
   "metadata": {
    "ExecuteTime": {
     "end_time": "2021-03-04T06:18:26.361697Z",
     "start_time": "2021-03-04T06:18:26.355712Z"
    }
   },
   "outputs": [
    {
     "data": {
      "text/plain": [
       "array([0.  , 0.25, 0.5 , 0.75, 1.  , 1.25, 1.5 , 1.75, 2.  ])"
      ]
     },
     "execution_count": 82,
     "metadata": {},
     "output_type": "execute_result"
    }
   ],
   "source": [
    "from numpy import linspace\n",
    "linspace(0,2,9)"
   ]
  },
  {
   "cell_type": "code",
   "execution_count": 83,
   "metadata": {
    "ExecuteTime": {
     "end_time": "2021-03-04T06:21:17.898584Z",
     "start_time": "2021-03-04T06:21:17.891624Z"
    }
   },
   "outputs": [
    {
     "name": "stdout",
     "output_type": "stream",
     "text": [
      "[0.         0.06346652 0.12693304 0.19039955 0.25386607 0.31733259\n",
      " 0.38079911 0.44426563 0.50773215 0.57119866 0.63466518 0.6981317\n",
      " 0.76159822 0.82506474 0.88853126 0.95199777 1.01546429 1.07893081\n",
      " 1.14239733 1.20586385 1.26933037 1.33279688 1.3962634  1.45972992\n",
      " 1.52319644 1.58666296 1.65012947 1.71359599 1.77706251 1.84052903\n",
      " 1.90399555 1.96746207 2.03092858 2.0943951  2.15786162 2.22132814\n",
      " 2.28479466 2.34826118 2.41172769 2.47519421 2.53866073 2.60212725\n",
      " 2.66559377 2.72906028 2.7925268  2.85599332 2.91945984 2.98292636\n",
      " 3.04639288 3.10985939 3.17332591 3.23679243 3.30025895 3.36372547\n",
      " 3.42719199 3.4906585  3.55412502 3.61759154 3.68105806 3.74452458\n",
      " 3.8079911  3.87145761 3.93492413 3.99839065 4.06185717 4.12532369\n",
      " 4.1887902  4.25225672 4.31572324 4.37918976 4.44265628 4.5061228\n",
      " 4.56958931 4.63305583 4.69652235 4.75998887 4.82345539 4.88692191\n",
      " 4.95038842 5.01385494 5.07732146 5.14078798 5.2042545  5.26772102\n",
      " 5.33118753 5.39465405 5.45812057 5.52158709 5.58505361 5.64852012\n",
      " 5.71198664 5.77545316 5.83891968 5.9023862  5.96585272 6.02931923\n",
      " 6.09278575 6.15625227 6.21971879 6.28318531]\n",
      "[ 0.00000000e+00  6.34239197e-02  1.26592454e-01  1.89251244e-01\n",
      "  2.51147987e-01  3.12033446e-01  3.71662456e-01  4.29794912e-01\n",
      "  4.86196736e-01  5.40640817e-01  5.92907929e-01  6.42787610e-01\n",
      "  6.90079011e-01  7.34591709e-01  7.76146464e-01  8.14575952e-01\n",
      "  8.49725430e-01  8.81453363e-01  9.09631995e-01  9.34147860e-01\n",
      "  9.54902241e-01  9.71811568e-01  9.84807753e-01  9.93838464e-01\n",
      "  9.98867339e-01  9.99874128e-01  9.96854776e-01  9.89821442e-01\n",
      "  9.78802446e-01  9.63842159e-01  9.45000819e-01  9.22354294e-01\n",
      "  8.95993774e-01  8.66025404e-01  8.32569855e-01  7.95761841e-01\n",
      "  7.55749574e-01  7.12694171e-01  6.66769001e-01  6.18158986e-01\n",
      "  5.67059864e-01  5.13677392e-01  4.58226522e-01  4.00930535e-01\n",
      "  3.42020143e-01  2.81732557e-01  2.20310533e-01  1.58001396e-01\n",
      "  9.50560433e-02  3.17279335e-02 -3.17279335e-02 -9.50560433e-02\n",
      " -1.58001396e-01 -2.20310533e-01 -2.81732557e-01 -3.42020143e-01\n",
      " -4.00930535e-01 -4.58226522e-01 -5.13677392e-01 -5.67059864e-01\n",
      " -6.18158986e-01 -6.66769001e-01 -7.12694171e-01 -7.55749574e-01\n",
      " -7.95761841e-01 -8.32569855e-01 -8.66025404e-01 -8.95993774e-01\n",
      " -9.22354294e-01 -9.45000819e-01 -9.63842159e-01 -9.78802446e-01\n",
      " -9.89821442e-01 -9.96854776e-01 -9.99874128e-01 -9.98867339e-01\n",
      " -9.93838464e-01 -9.84807753e-01 -9.71811568e-01 -9.54902241e-01\n",
      " -9.34147860e-01 -9.09631995e-01 -8.81453363e-01 -8.49725430e-01\n",
      " -8.14575952e-01 -7.76146464e-01 -7.34591709e-01 -6.90079011e-01\n",
      " -6.42787610e-01 -5.92907929e-01 -5.40640817e-01 -4.86196736e-01\n",
      " -4.29794912e-01 -3.71662456e-01 -3.12033446e-01 -2.51147987e-01\n",
      " -1.89251244e-01 -1.26592454e-01 -6.34239197e-02 -2.44929360e-16]\n"
     ]
    }
   ],
   "source": [
    "# 많은 수의 점들을 생성할 때 유용\n",
    "from numpy import pi\n",
    "x = linspace(0,2*pi,100)\n",
    "print(x)\n",
    "f = np.sin(x)\n",
    "print(f)"
   ]
  },
  {
   "cell_type": "code",
   "execution_count": 85,
   "metadata": {
    "ExecuteTime": {
     "end_time": "2021-03-04T06:32:57.249801Z",
     "start_time": "2021-03-04T06:32:57.105991Z"
    }
   },
   "outputs": [
    {
     "data": {
      "image/png": "[encoded data removed]",
      "text/plain": [
       "<Figure size 432x288 with 1 Axes>"
      ]
     },
     "metadata": {
      "needs_background": "light"
     },
     "output_type": "display_data"
    }
   ],
   "source": [
    "import matplotlib.pyplot as plt\n",
    "plt.plot(x, f)\n",
    "plt.show()"
   ]
  },
  {
   "cell_type": "code",
   "execution_count": 87,
   "metadata": {
    "ExecuteTime": {
     "end_time": "2021-03-04T06:38:46.751955Z",
     "start_time": "2021-03-04T06:38:46.736996Z"
    }
   },
   "outputs": [
    {
     "data": {
      "text/plain": [
       "array([ 1.13144741e+00, -2.79925103e-01, -7.14135662e-01, -1.08726061e-01,\n",
       "       -1.03187877e+00,  2.54417762e-01,  1.56572404e-02,  3.58053019e-01,\n",
       "        1.09764846e+00,  1.80819572e+00, -1.17577019e+00,  1.45780264e+00,\n",
       "       -7.58419143e-01, -4.06544228e+00, -1.20668723e+00, -1.22056587e+00,\n",
       "        1.43854439e+00,  4.93599104e-01,  1.54478849e+00,  5.22903607e-01,\n",
       "       -9.69765164e-01,  1.13519377e-01,  1.58498574e+00,  1.19795037e+00,\n",
       "        2.96092657e-02,  1.54154200e-01,  1.36348462e+00,  6.21219468e-01,\n",
       "        9.20712112e-02,  6.92759647e-01, -3.30645274e-01, -9.67893104e-01,\n",
       "       -1.94263584e+00,  4.21201654e-01, -3.67279216e-01, -1.25275321e+00,\n",
       "       -2.91979262e-01,  5.64102403e-01, -6.08984674e-01,  1.09669893e+00,\n",
       "       -2.40275593e-01,  5.49167194e-01, -9.23563399e-01, -1.10334596e+00,\n",
       "       -3.88797226e-01, -8.63996785e-01, -1.00117225e+00,  1.24186793e+00,\n",
       "        7.79963353e-01,  2.51633698e-01,  3.06693199e-01,  1.30426251e+00,\n",
       "       -5.00177412e-01,  1.18195904e+00, -6.49960303e-01,  1.87234085e-01,\n",
       "       -3.24051917e-01,  1.46114577e-01, -2.60921172e+00, -1.46366912e+00,\n",
       "        1.41219902e+00, -1.27704206e-02, -2.07147421e-01,  3.23409432e-01,\n",
       "        9.48194274e-01, -1.68361724e+00, -5.00679160e-02,  5.64006676e-01,\n",
       "        1.88748133e+00,  9.18712935e-03, -1.10990490e+00,  1.91790303e+00,\n",
       "       -5.37659618e-01,  6.87369659e-01,  3.91800331e-01, -8.39250654e-04,\n",
       "        7.00380397e-01,  1.72140308e-01,  1.74474068e-01,  7.38164211e-01,\n",
       "        6.33814846e-01,  2.60666936e-01, -8.94311697e-01, -1.23700468e+00,\n",
       "       -1.16998060e-02, -1.46142173e-01, -1.14232802e-01, -8.65800977e-01,\n",
       "       -2.11289771e-01, -4.51648365e-01,  5.10352604e-02,  1.06985755e+00,\n",
       "        1.03402896e+00, -7.86943185e-01,  1.00855827e+00,  1.12953542e+00,\n",
       "        5.85014759e-01, -2.72517931e+00, -1.41101488e-01,  6.55466913e-01,\n",
       "       -1.70541123e-01,  8.35558374e-02,  9.82367710e-01,  2.48504178e+00,\n",
       "        2.44290243e-01,  5.18613293e-01, -2.85965237e-01,  1.07740280e+00,\n",
       "        1.39735436e+00, -1.02614016e+00,  1.66873660e+00, -6.38348975e-01,\n",
       "       -1.14330289e+00,  1.10925240e+00,  4.90624894e-01,  2.36378658e-01,\n",
       "       -2.96858347e+00,  1.58732293e+00, -1.82628679e+00,  3.64909991e-01,\n",
       "        2.39335668e-01,  1.13984742e+00, -1.48674587e-01, -6.41455262e-01,\n",
       "       -5.60563680e-01,  2.56415489e+00, -4.22210181e-01,  1.21564655e+00,\n",
       "        2.85457339e-01,  1.09754316e+00, -5.48975621e-01,  9.50929244e-01,\n",
       "        4.60477264e-01,  7.23372067e-01,  1.20333662e-01,  7.32353655e-01,\n",
       "        3.58799563e-01, -3.72002278e-01,  3.63596663e-01,  1.68313075e+00,\n",
       "        2.03846551e-01,  1.65055602e-02, -4.44685950e-01, -8.32680308e-01,\n",
       "       -1.08799085e+00, -1.22873162e+00, -1.41133437e+00,  7.40739956e-01,\n",
       "       -5.19742322e-01,  2.56240183e-01, -1.74813899e+00, -3.57917579e-01,\n",
       "        1.52775855e-01, -1.03905143e+00, -9.21500044e-02,  2.20792979e-01,\n",
       "       -1.59764526e-01, -7.10339097e-02, -7.81940706e-01,  5.37993167e-01,\n",
       "        9.29128784e-01,  1.03449542e+00,  1.66003678e+00, -5.15533191e-01,\n",
       "       -1.23352450e+00, -9.86305501e-01, -2.01802661e-01, -1.03818752e+00,\n",
       "       -4.36679372e-01, -5.18838212e-01,  6.19643262e-01, -1.11666177e+00,\n",
       "       -2.24076344e-01,  1.19139729e+00,  6.31666079e-01,  1.12149022e-01,\n",
       "        1.56188004e+00,  9.81539378e-01,  1.31990792e+00, -8.36478998e-01,\n",
       "        1.53492806e+00, -2.21203920e+00, -1.07905561e+00,  7.55291484e-01,\n",
       "       -1.55920714e-01, -2.14949105e-01, -1.38897078e-01, -6.06795648e-01,\n",
       "        4.76344854e-01, -5.02113903e-01,  5.09992404e-01,  4.81489252e-01,\n",
       "       -8.92468918e-01, -2.44384370e-01, -1.27584840e+00, -4.85765763e-01,\n",
       "        5.42349011e-02,  6.69257440e-01,  2.31823593e-01, -8.47680468e-01,\n",
       "        4.48998558e-01, -9.03640406e-01,  1.34217255e+00, -9.24730581e-02,\n",
       "       -4.81356869e-01, -1.12299239e+00,  1.51092802e+00, -7.57494102e-01,\n",
       "       -1.86286466e+00,  2.51331116e-01, -7.57623758e-01,  1.17304118e+00,\n",
       "       -2.45051259e-01,  2.18635191e-01, -9.32452896e-01, -8.33701039e-01,\n",
       "       -9.20499076e-01,  2.88188974e-01, -1.04277475e+00, -7.38082455e-01,\n",
       "        1.22854971e+00, -1.95960735e+00, -5.97861805e-01, -3.26593163e-01,\n",
       "        1.00438886e+00, -1.82577578e+00,  7.70585418e-01, -1.02953121e+00,\n",
       "       -2.14210427e-02,  3.71240763e-01,  1.22203543e+00, -6.00636759e-01,\n",
       "       -8.96160646e-01, -1.84526985e-01, -1.35496238e+00,  2.58971723e-02,\n",
       "        4.72590152e-01,  9.59663118e-01,  1.69852530e+00,  7.03083066e-01,\n",
       "       -6.94738494e-01, -1.31639562e-01,  5.08297632e-02, -6.00230361e-01,\n",
       "        1.14672877e+00,  8.67293853e-01,  7.83025972e-01, -1.44651997e-01,\n",
       "        2.85238437e-01, -1.29734207e-01, -1.62914558e+00,  6.31855041e-01,\n",
       "        9.45176396e-02, -7.02930643e-01, -2.22836647e-02, -1.24455122e+00,\n",
       "        1.33401107e+00, -4.84670612e-01,  1.77166879e+00,  3.65653016e-01,\n",
       "       -3.32754245e-01, -2.30722780e-01, -8.34464578e-01, -1.01684504e+00,\n",
       "       -1.25332170e+00, -4.16260603e-01, -7.90245206e-01, -1.13021287e+00,\n",
       "       -4.79236101e-01, -3.18066695e-01, -6.38836606e-01, -1.85660670e-01,\n",
       "       -1.07941384e+00,  1.41887833e-01,  3.50658391e-01,  2.66296319e-01,\n",
       "        7.36893499e-01, -3.32269179e-01,  7.88812998e-01, -5.66525602e-01,\n",
       "       -1.27894521e+00,  3.41557660e-01,  4.22722536e-01, -6.75604575e-01,\n",
       "       -9.31452190e-01,  6.41949473e-04,  8.51555100e-01, -1.06058097e+00,\n",
       "        1.11012956e+00, -1.05139400e-01, -5.07247806e-01, -4.26388550e-01,\n",
       "        7.99393990e-02,  3.49010580e-01,  3.47545729e-01,  7.69644571e-01,\n",
       "       -6.22934444e-01, -9.30623173e-01, -6.41556180e-01,  1.18113167e+00,\n",
       "       -1.81274795e+00,  1.01544677e+00, -1.31639986e-02,  4.67110629e-01,\n",
       "       -4.54589023e-01,  8.99500094e-02, -5.07334872e-01,  5.61462854e-01,\n",
       "        4.51825295e-01, -6.82498425e-01,  1.17886324e+00, -8.90299756e-01,\n",
       "        1.09051139e-01,  1.89014032e+00, -7.17632463e-01, -4.73379617e-01,\n",
       "        2.16152810e+00,  5.20198867e-01, -2.46074845e-01, -6.58785591e-01,\n",
       "        4.28211472e-01,  4.75722741e-01,  2.67864552e+00, -1.20412219e+00,\n",
       "       -2.76863772e-01, -1.08415577e+00,  1.26056684e-01,  1.27620729e+00,\n",
       "       -4.92619040e-01, -8.78266821e-01,  1.07223977e+00, -1.10226906e+00,\n",
       "       -1.60998852e+00,  1.68049226e-01,  5.95793569e-01,  3.88765992e-01,\n",
       "       -3.35484547e-01,  1.54585597e+00, -2.11625848e+00,  6.75854182e-02,\n",
       "       -3.30591604e-01,  1.44834011e+00,  1.48418051e-02, -1.17183449e-01,\n",
       "        2.76087346e-01,  9.81570726e-01, -3.20513215e-02, -1.14478170e-01,\n",
       "        1.91488457e+00, -2.75090572e-01, -1.26217803e+00,  4.07693175e-02,\n",
       "       -4.18630741e-01, -8.57497852e-02,  1.87246092e+00, -1.75990184e-01,\n",
       "        2.16334090e+00,  1.57451112e+00,  7.13645434e-02,  4.43125171e-01,\n",
       "        2.83534267e-01, -1.26045337e+00,  9.50486203e-01,  1.11673265e+00,\n",
       "       -1.14484053e+00,  6.48452114e-03, -2.88109518e-01,  4.17781282e-01,\n",
       "        1.51526188e+00, -2.41135572e-02, -4.05465316e-01,  9.74405632e-01,\n",
       "        9.54426694e-01,  7.00310597e-02,  2.51976505e-01, -1.29395173e+00,\n",
       "       -8.27520623e-02, -5.06417809e-01, -1.74368489e+00, -9.79969603e-01,\n",
       "        1.21752237e+00,  6.33572454e-01,  1.14834526e-01, -1.08521758e+00,\n",
       "        9.58185777e-01,  1.06951208e+00, -1.89011275e+00,  1.55092390e-01,\n",
       "        8.99492157e-01,  6.10803235e-01,  1.79200172e+00,  2.24613243e+00,\n",
       "        7.12292203e-01,  2.37457092e-01,  4.43602084e-02, -3.30011262e-01,\n",
       "       -1.59491445e+00,  9.53081896e-01,  3.84374638e-01, -4.19444246e-01,\n",
       "        1.64208527e-01,  5.39401139e-01,  2.98408003e-01, -5.64560227e-01,\n",
       "        1.05925609e-01,  5.94191024e-02,  6.89131615e-01, -8.56616993e-01,\n",
       "        5.25872398e-01, -1.81414967e+00,  6.50866886e-02,  2.77240821e+00,\n",
       "       -1.42255643e+00, -4.92594200e-01,  7.02349658e-01, -2.33843348e+00,\n",
       "       -2.03471504e+00,  1.05087954e-01,  1.48296505e+00, -2.31110624e-01,\n",
       "       -1.40754965e+00, -1.64015970e+00,  3.02709367e-01,  1.60532094e+00,\n",
       "       -2.60510710e-02,  1.18382223e+00, -6.77875726e-02, -1.17095942e+00,\n",
       "       -1.34280878e+00,  2.61626100e-01,  1.10777685e+00, -7.65848636e-01,\n",
       "       -2.91231825e-01,  9.11647620e-02, -1.59838293e-01,  7.42063847e-01,\n",
       "        9.26028708e-01, -9.13375768e-01,  3.14213632e+00,  1.16583182e+00,\n",
       "       -1.20178425e+00, -2.16680787e+00, -2.19705087e+00, -5.26593921e-01,\n",
       "        8.30622078e-02, -6.97027855e-01, -1.06159353e+00, -1.20758404e+00,\n",
       "        3.05013455e-01, -5.44476321e-01,  1.11184153e-01,  1.66327825e+00,\n",
       "        4.16961621e-01, -1.22003138e+00,  4.99109290e-01, -3.70917551e-01,\n",
       "       -1.12497038e+00,  1.49750400e-01,  1.04477985e-01,  1.57013792e+00,\n",
       "       -5.57756640e-01, -2.90507934e-01,  4.68998174e-01, -2.03466643e+00,\n",
       "       -6.74091061e-01, -6.51708904e-01,  1.56403129e-01, -7.50964547e-01,\n",
       "       -8.60017715e-01,  2.25434743e-01, -6.51639397e-01, -9.30577787e-01,\n",
       "       -1.14543539e-01,  8.05114518e-02,  5.27059776e-01, -9.04329627e-01,\n",
       "        1.01949971e+00,  4.06116243e-01,  1.10120015e+00,  1.00394056e+00,\n",
       "        9.65286900e-01,  1.10488508e+00,  1.01587439e+00, -1.02902680e+00,\n",
       "        1.10550225e+00,  5.58677997e-01, -3.75855593e-01, -1.13104581e+00,\n",
       "       -2.22664602e-01,  1.42714448e+00,  2.41704861e-02, -3.86217679e-01,\n",
       "        6.69322517e-01,  1.43173406e+00,  5.66875853e-01,  1.41577642e+00,\n",
       "       -2.54311928e-02,  7.49766309e-01,  1.99246268e-01,  1.30433962e-01,\n",
       "        1.34593596e+00, -7.36388061e-02,  5.34126699e-01, -2.12999507e+00,\n",
       "        6.91207216e-01, -1.01708756e+00,  2.60828892e-01,  8.26586681e-01,\n",
       "       -4.91083086e-01,  3.82383400e-01, -1.17468737e+00, -1.11999202e-01,\n",
       "       -6.34169282e-01, -9.81327651e-01, -1.35644209e+00, -1.18126210e+00,\n",
       "       -1.01244484e+00, -3.95044345e-01, -1.74692129e+00,  3.49234978e-01,\n",
       "       -1.57875721e+00, -5.93104418e-01, -6.33494997e-01, -4.61795774e-01,\n",
       "        5.37116584e-01,  5.51736639e-01,  6.77559929e-01, -5.96045171e-01,\n",
       "        9.28518739e-03, -1.04593931e+00,  2.38954835e-01, -1.25989650e+00,\n",
       "       -1.92437475e+00,  1.20607559e+00,  2.22970943e+00, -4.55518289e-01,\n",
       "       -2.12819022e-01,  5.14089797e-01, -5.87917104e-01,  1.46265987e+00,\n",
       "        3.85292415e-01, -4.39268892e-01, -4.38925601e-01,  6.84707871e-01,\n",
       "        1.21452418e+00, -4.73329815e-01,  2.26559800e-01,  1.08933079e+00,\n",
       "        2.14725327e-02,  3.71811982e-01,  1.96266854e-01, -1.05537264e+00,\n",
       "       -3.74902945e-01, -1.20276670e+00, -4.78008490e-01,  2.48787042e-01,\n",
       "       -1.45790952e-01, -2.29349338e+00,  1.07725051e+00,  1.34155981e+00,\n",
       "        5.33607169e-01,  1.99112553e+00,  4.70185540e-01, -1.09617063e+00,\n",
       "        2.53328979e-01,  4.20446192e-01, -6.80685359e-01, -5.51553557e-01,\n",
       "        4.03022023e-01, -4.28154949e-01,  5.62007821e-01,  6.01891188e-01,\n",
       "        3.05616286e-01, -1.33685640e-02,  8.95600532e-01,  7.83556724e-01,\n",
       "       -1.73503727e+00, -6.19345846e-01,  7.73383012e-01, -7.54772333e-01,\n",
       "        5.13500658e-01,  6.58985250e-01, -7.01013227e-02,  4.42614484e-01,\n",
       "        2.96286329e-01, -1.53920219e+00,  6.95360894e-03, -7.78734358e-01,\n",
       "        1.30749796e+00,  1.04787700e-01, -5.63571314e-01, -2.69535875e-01,\n",
       "       -5.00282819e-01, -1.40335732e+00, -1.13802858e+00,  7.48322224e-01,\n",
       "        8.01775676e-01, -1.41475040e+00,  1.12182936e+00,  2.60225445e-01,\n",
       "        3.58515186e-01, -1.32816480e-01, -2.48168976e+00,  1.98343742e-02,\n",
       "        1.18222217e+00, -3.04399962e-01,  8.31731182e-01,  4.19763243e-01,\n",
       "       -4.49774706e-01,  4.23153875e-01,  4.57600872e-01,  1.02815874e+00,\n",
       "        4.48660759e-01,  1.53680207e+00, -7.16698331e-01, -2.06891079e-01,\n",
       "        3.82887401e-01,  8.05790733e-01,  1.25734886e+00, -5.19277050e-01,\n",
       "       -9.09923880e-02,  1.92957437e+00,  1.20654783e+00,  3.10648057e-01,\n",
       "        1.91642457e+00,  3.03103672e-03, -6.93379539e-01,  3.82253778e-01,\n",
       "        1.69802020e-01, -7.88381481e-01, -5.39109756e-01,  2.78397004e-01,\n",
       "        8.98861362e-01,  1.77685470e+00,  2.00956917e-01,  1.36092676e+00,\n",
       "        2.77262747e-02,  3.32606709e-01, -2.61670938e+00, -1.06139704e-01,\n",
       "       -9.41088636e-01, -1.84773155e-01,  3.46779374e-02,  7.13255769e-02,\n",
       "       -1.74583406e-01,  1.04349402e+00, -2.53778326e-01,  1.22446092e-01,\n",
       "       -8.10579803e-01,  2.55984840e-01,  9.26085371e-01, -6.92054429e-01,\n",
       "        1.12557467e+00, -8.27921166e-01,  1.83681983e+00, -7.37288376e-01,\n",
       "        3.07783069e-01,  9.80176774e-01,  1.10805176e+00, -1.09904487e+00,\n",
       "        2.53552471e-01,  5.51096098e-01, -1.62308958e+00,  3.61806372e-01,\n",
       "        3.61774621e-01,  7.08307723e-01, -6.75788159e-01,  9.56292250e-01,\n",
       "        3.38656117e-01,  2.13063287e-01, -2.74292271e-01,  4.35131599e-01,\n",
       "        3.84020812e-01, -3.59014187e-01, -7.91385510e-01, -7.53761849e-01,\n",
       "       -2.81971385e-01,  9.96087773e-01,  1.82051352e+00,  9.20486954e-01,\n",
       "        2.54508833e-01,  5.57401908e-01, -2.62398485e-01, -5.42262072e-01,\n",
       "        2.83731066e-01,  1.45582713e+00,  5.78438814e-01, -1.55381471e+00,\n",
       "       -1.90138848e+00, -2.61243125e+00, -2.51024551e+00, -2.28092713e+00,\n",
       "       -1.65881923e+00, -4.54236454e-01,  1.98303193e-01, -3.72222030e-01,\n",
       "       -4.54835626e-01,  2.95538181e-02, -5.42280613e-01, -4.11851300e-01,\n",
       "       -6.57421978e-01, -1.58037422e-01, -1.19830332e+00,  9.83320987e-03,\n",
       "       -2.26429263e-01, -4.80813666e-01, -1.88304588e-02, -7.53489619e-01,\n",
       "       -2.07576171e-01, -9.63993032e-01,  7.54674146e-01, -3.23084947e-01,\n",
       "       -4.60035301e-01, -1.54097682e+00,  9.20368448e-01, -5.26590423e-01,\n",
       "       -8.20489147e-01, -1.64049409e+00,  5.32522155e-01, -1.45952320e+00,\n",
       "       -5.34445900e-01,  3.20014612e-01,  1.11347038e+00, -1.23024146e+00,\n",
       "       -1.10605942e+00, -1.11772468e+00, -6.78235129e-01,  1.60570898e-01,\n",
       "        1.03451990e+00,  1.39809800e+00,  1.42167317e+00, -1.01494072e-01,\n",
       "       -1.55343035e+00,  2.77390503e-01,  1.99464610e-01, -9.96502372e-01,\n",
       "       -1.26265774e+00,  2.02435249e-01,  1.60167513e+00, -1.55078159e+00,\n",
       "        6.31173144e-01, -2.37342677e+00, -1.43942604e+00, -3.43523714e-01,\n",
       "       -1.57921901e-01,  1.29624804e+00, -5.49424253e-01, -5.40000307e-02,\n",
       "       -1.00648282e+00,  7.31444816e-02,  6.13851979e-01,  1.46342100e-01,\n",
       "        1.59820306e+00, -2.59388215e+00, -1.55385159e+00,  1.06790310e+00,\n",
       "        2.44941571e-01, -2.30082652e-02, -4.74314712e-01,  7.26490065e-01,\n",
       "        9.12463100e-01,  2.53258774e+00,  2.02378303e-01, -1.18485580e+00,\n",
       "        1.26477115e+00,  9.33402364e-01,  1.35065860e+00,  2.41153653e-01,\n",
       "        1.26075699e+00, -1.39597209e+00,  1.01422735e+00, -9.25002222e-02,\n",
       "       -3.83964167e-01, -1.02606445e-01, -5.77596210e-01, -4.20779956e-01,\n",
       "        7.60144734e-01,  1.46719073e+00,  9.96565816e-01,  8.66378867e-02,\n",
       "        4.50896833e-01,  2.06744546e+00, -2.36412918e+00, -1.10602196e-01,\n",
       "        4.72992934e-01,  3.63557120e-01, -2.31349172e+00, -1.09646644e+00,\n",
       "        3.42966401e-01, -5.93903633e-01, -1.22110390e+00, -1.22425068e+00,\n",
       "        1.91806957e+00, -3.01509998e-01, -1.08980072e+00,  2.12975865e+00,\n",
       "        2.11311138e+00, -9.43166672e-01, -1.33560760e-01, -7.47445168e-01,\n",
       "        5.17307764e-01, -6.14977589e-01, -1.56565277e+00,  1.15684358e+00,\n",
       "       -7.86551517e-01,  5.20783655e-01, -7.21163932e-01, -2.12455098e-01,\n",
       "       -4.94469749e-01, -1.44612027e+00,  2.44443404e+00,  3.55550970e-01,\n",
       "       -6.31791523e-01, -4.06652581e-01,  7.19443302e-01, -1.46962172e+00,\n",
       "        1.30724303e+00,  5.42160218e-02, -7.97491280e-02,  7.60629637e-01,\n",
       "       -6.11916743e-01,  8.33329926e-01, -6.38632033e-01,  1.12001234e-01,\n",
       "        1.43667315e+00, -4.25790031e-01, -3.39254921e-01,  8.54947134e-02,\n",
       "        4.17957379e-01,  3.06241190e-01, -7.29130300e-01,  6.66845697e-01,\n",
       "        3.03619078e-01, -1.19280237e+00,  1.31130486e-01,  1.64751115e+00,\n",
       "        4.17921755e-01,  1.82149173e+00, -5.31325589e-01, -1.92465815e-01,\n",
       "       -7.38170885e-01, -1.33670190e+00,  1.65924810e-01,  1.25666423e+00,\n",
       "       -1.06048312e+00, -1.66700565e+00, -1.05017157e+00, -8.19351409e-01,\n",
       "       -9.01915547e-01,  1.85552544e+00,  5.81822693e-01, -1.44780136e-01,\n",
       "        2.66814447e-01, -1.03970329e+00,  5.48481237e-01, -4.78120766e-01,\n",
       "        1.79910189e+00,  1.33633022e+00, -1.84491129e+00,  1.49840504e-01,\n",
       "       -1.23972899e+00,  1.73620522e+00, -9.66693247e-02,  1.34258720e+00,\n",
       "       -3.79063827e-01, -6.89219451e-01, -5.92889185e-01, -5.82446560e-01,\n",
       "       -1.42357124e+00,  1.32568644e+00, -7.14046452e-01, -1.82736732e+00,\n",
       "        5.63083416e-01, -2.62963524e-01, -4.10145610e-01,  9.46128286e-01,\n",
       "        1.03985375e+00,  1.80647986e-01,  1.53692800e+00, -1.36469777e-01,\n",
       "       -1.48409719e+00,  6.95713892e-01, -3.95549468e-02, -1.93060851e-01,\n",
       "        3.58256919e-01,  4.22197985e-01, -1.10758349e+00,  7.67713425e-01,\n",
       "        2.73561473e-01, -1.04397731e-01,  7.73562982e-01,  1.22002010e+00,\n",
       "        9.30865686e-01,  5.70745315e-01, -1.25958351e-01,  1.25770150e+00,\n",
       "        1.85041432e+00,  1.20810836e+00,  1.50584144e-01,  2.73211895e-01,\n",
       "        1.14677647e+00, -5.31830822e-01, -4.79005779e-01, -2.29603447e+00,\n",
       "       -1.32595117e+00, -1.46214245e+00,  1.52916733e-01,  4.69012175e-01,\n",
       "        1.43292087e+00,  2.94481315e-01,  9.02858457e-01,  1.66135031e+00,\n",
       "        1.45469007e+00,  1.80685630e-01,  4.56340631e-01, -5.66103807e-01,\n",
       "        1.81710921e+00,  7.64855794e-01,  2.43845641e-01, -7.33307972e-01,\n",
       "       -5.47754481e-01,  1.41904020e+00, -9.69395263e-01, -1.70422785e+00,\n",
       "       -2.08251897e+00, -1.71097354e+00,  1.47708948e+00,  5.01882050e-01,\n",
       "       -8.61487577e-01, -1.49916753e+00, -2.65317145e+00, -1.37113502e-01,\n",
       "        5.65217719e-01,  2.10122684e-01,  5.97596265e-01, -1.31337395e+00,\n",
       "        1.00541478e+00, -6.34007865e-01,  4.54520234e-01, -6.27327576e-01,\n",
       "       -5.08291613e-01, -1.59080189e+00,  1.54235503e+00, -2.49478891e-01,\n",
       "        6.61480855e-01, -7.24438249e-02,  9.85250709e-01,  1.16514694e+00,\n",
       "       -3.07068326e-01,  9.79314154e-01,  2.98586500e-01, -1.08374356e+00,\n",
       "        1.29723438e+00,  6.09396401e-01, -7.68126307e-01, -8.85375879e-03,\n",
       "        1.43872701e-01,  1.24895807e-01,  1.59103058e+00, -9.36384203e-02,\n",
       "       -4.36670992e-01,  2.20916444e-01, -1.93898069e-01,  7.46885542e-01,\n",
       "       -1.46668883e+00,  1.81772405e+00,  4.15037305e-01, -1.03924538e+00,\n",
       "       -5.87047075e-01, -1.17238090e+00,  1.28921029e-01,  1.31117062e+00,\n",
       "        5.83808513e-01,  7.76148290e-01, -5.02965023e-01,  4.33505770e-01,\n",
       "        2.96203472e-01, -3.38334936e-01,  1.42361446e+00, -4.69490256e-01,\n",
       "       -1.61270890e-01, -3.72297136e-01,  2.63611735e-01, -1.10565659e+00,\n",
       "        1.13153112e+00,  1.96869266e-01,  1.19074073e+00,  9.78876569e-01,\n",
       "        6.18173864e-01,  9.04417897e-01,  5.42300190e-01, -9.70683178e-01,\n",
       "        2.36436459e+00,  4.71978592e-02,  4.49447747e-02,  8.44937437e-01,\n",
       "        1.70191519e+00,  1.47227075e+00,  9.76416416e-01, -1.06111102e+00])"
      ]
     },
     "execution_count": 87,
     "metadata": {},
     "output_type": "execute_result"
    }
   ],
   "source": [
    "x = np.random.normal(0,1,1000) # 평균0, 표준편차가 1인 정규 분포값 1000개\n",
    "x"
   ]
  },
  {
   "cell_type": "code",
   "execution_count": 90,
   "metadata": {
    "ExecuteTime": {
     "end_time": "2021-03-04T06:42:01.442590Z",
     "start_time": "2021-03-04T06:42:01.089375Z"
    }
   },
   "outputs": [
    {
     "data": {
      "text/plain": [
       "(array([  1.,   3.,  24.,  82., 211., 275., 228., 138.,  31.,   7.]),\n",
       " array([-4.06544228, -3.34468442, -2.62392656, -1.9031687 , -1.18241084,\n",
       "        -0.46165298,  0.25910488,  0.97986274,  1.7006206 ,  2.42137846,\n",
       "         3.14213632]),\n",
       " <BarContainer object of 10 artists>)"
      ]
     },
     "execution_count": 90,
     "metadata": {},
     "output_type": "execute_result"
    },
    {
     "data": {
      "image/png": "[encoded data removed]",
      "text/plain": [
       "<Figure size 432x288 with 1 Axes>"
      ]
     },
     "metadata": {
      "needs_background": "light"
     },
     "output_type": "display_data"
    }
   ],
   "source": [
    "plt.hist(x)"
   ]
  },
  {
   "cell_type": "markdown",
   "metadata": {},
   "source": [
    "## 2.4 배열의 차원 변경하기"
   ]
  },
  {
   "cell_type": "code",
   "execution_count": 91,
   "metadata": {
    "ExecuteTime": {
     "end_time": "2021-03-04T06:43:41.692652Z",
     "start_time": "2021-03-04T06:43:41.680705Z"
    }
   },
   "outputs": [
    {
     "data": {
      "text/plain": [
       "array([[0.20894531, 0.13799232, 0.74083864, 0.25984812],\n",
       "       [0.33458556, 0.41783403, 0.78316148, 0.99825934],\n",
       "       [0.11392456, 0.60090158, 0.97481653, 0.36271612]])"
      ]
     },
     "execution_count": 91,
     "metadata": {},
     "output_type": "execute_result"
    }
   ],
   "source": [
    "t = np.random.random((3,4)) # 3행 4열 2차원 배열(random수)\n",
    "t"
   ]
  },
  {
   "cell_type": "code",
   "execution_count": 93,
   "metadata": {
    "ExecuteTime": {
     "end_time": "2021-03-04T06:45:47.820843Z",
     "start_time": "2021-03-04T06:45:47.816852Z"
    }
   },
   "outputs": [
    {
     "data": {
      "text/plain": [
       "array([[2.08945306, 1.37992316, 7.40838643, 2.59848117],\n",
       "       [3.34585562, 4.17834033, 7.83161483, 9.98259336],\n",
       "       [1.13924559, 6.00901581, 9.74816534, 3.62716119]])"
      ]
     },
     "execution_count": 93,
     "metadata": {},
     "output_type": "execute_result"
    }
   ],
   "source": [
    "t * 10 # 배열 * 10은 요소별로 10씩 곱한 결과이다."
   ]
  },
  {
   "cell_type": "code",
   "execution_count": 94,
   "metadata": {
    "ExecuteTime": {
     "end_time": "2021-03-04T06:46:23.854276Z",
     "start_time": "2021-03-04T06:46:23.849310Z"
    }
   },
   "outputs": [
    {
     "data": {
      "text/plain": [
       "array([[2., 1., 7., 2.],\n",
       "       [3., 4., 7., 9.],\n",
       "       [1., 6., 9., 3.]])"
      ]
     },
     "execution_count": 94,
     "metadata": {},
     "output_type": "execute_result"
    }
   ],
   "source": [
    "a = np.floor(t*10)\n",
    "a"
   ]
  },
  {
   "cell_type": "code",
   "execution_count": 95,
   "metadata": {
    "ExecuteTime": {
     "end_time": "2021-03-04T06:46:40.236683Z",
     "start_time": "2021-03-04T06:46:40.230906Z"
    }
   },
   "outputs": [
    {
     "data": {
      "text/plain": [
       "(3, 4)"
      ]
     },
     "execution_count": 95,
     "metadata": {},
     "output_type": "execute_result"
    }
   ],
   "source": [
    "a.shape"
   ]
  },
  {
   "cell_type": "code",
   "execution_count": 96,
   "metadata": {
    "ExecuteTime": {
     "end_time": "2021-03-04T06:47:53.446366Z",
     "start_time": "2021-03-04T06:47:53.441400Z"
    }
   },
   "outputs": [
    {
     "data": {
      "text/plain": [
       "array([2., 1., 7., 2., 3., 4., 7., 9., 1., 6., 9., 3.])"
      ]
     },
     "execution_count": 96,
     "metadata": {},
     "output_type": "execute_result"
    }
   ],
   "source": [
    "a.ravel() # 차원이 풀린 배열을 반환(a가 바뀌는 것은 아님)"
   ]
  },
  {
   "cell_type": "code",
   "execution_count": 97,
   "metadata": {
    "ExecuteTime": {
     "end_time": "2021-03-04T06:48:01.061004Z",
     "start_time": "2021-03-04T06:48:01.056038Z"
    }
   },
   "outputs": [
    {
     "data": {
      "text/plain": [
       "array([[2., 1., 7., 2.],\n",
       "       [3., 4., 7., 9.],\n",
       "       [1., 6., 9., 3.]])"
      ]
     },
     "execution_count": 97,
     "metadata": {},
     "output_type": "execute_result"
    }
   ],
   "source": [
    "a"
   ]
  },
  {
   "cell_type": "code",
   "execution_count": 98,
   "metadata": {
    "ExecuteTime": {
     "end_time": "2021-03-04T06:48:46.016074Z",
     "start_time": "2021-03-04T06:48:46.000451Z"
    }
   },
   "outputs": [
    {
     "data": {
      "text/plain": [
       "array([[2., 1., 7., 2., 3., 4.],\n",
       "       [7., 9., 1., 6., 9., 3.]])"
      ]
     },
     "execution_count": 98,
     "metadata": {},
     "output_type": "execute_result"
    }
   ],
   "source": [
    "a.reshape(2,6) # shape가 수정된 배열을 반환(a는 그대로)"
   ]
  },
  {
   "cell_type": "code",
   "execution_count": null,
   "metadata": {},
   "outputs": [],
   "source": []
  },
  {
   "cell_type": "code",
   "execution_count": 99,
   "metadata": {
    "ExecuteTime": {
     "end_time": "2021-03-04T06:49:57.685277Z",
     "start_time": "2021-03-04T06:49:57.681276Z"
    }
   },
   "outputs": [
    {
     "data": {
      "text/plain": [
       "array([[2., 3., 1.],\n",
       "       [1., 4., 6.],\n",
       "       [7., 7., 9.],\n",
       "       [2., 9., 3.]])"
      ]
     },
     "execution_count": 99,
     "metadata": {},
     "output_type": "execute_result"
    }
   ],
   "source": [
    "# a는 3행 4열 2차원 배열 2차원 배열은 행렬(Metrix)로 이해\n",
    "a.T #전치행렬(행과 열을 거꾸로)"
   ]
  },
  {
   "cell_type": "code",
   "execution_count": 100,
   "metadata": {
    "ExecuteTime": {
     "end_time": "2021-03-04T06:50:43.149220Z",
     "start_time": "2021-03-04T06:50:43.144234Z"
    }
   },
   "outputs": [
    {
     "data": {
      "text/plain": [
       "array([[2., 3., 1.],\n",
       "       [1., 4., 6.],\n",
       "       [7., 7., 9.],\n",
       "       [2., 9., 3.]])"
      ]
     },
     "execution_count": 100,
     "metadata": {},
     "output_type": "execute_result"
    }
   ],
   "source": [
    "a.transpose() # 전치 행렬을 반환(a는 그대로)"
   ]
  },
  {
   "cell_type": "code",
   "execution_count": 102,
   "metadata": {
    "ExecuteTime": {
     "end_time": "2021-03-04T06:51:12.260790Z",
     "start_time": "2021-03-04T06:51:12.255802Z"
    }
   },
   "outputs": [
    {
     "data": {
      "text/plain": [
       "array([[2., 1., 7., 2., 3., 4.],\n",
       "       [7., 9., 1., 6., 9., 3.]])"
      ]
     },
     "execution_count": 102,
     "metadata": {},
     "output_type": "execute_result"
    }
   ],
   "source": [
    "a.resize(2,6) # a의 차원을 수정\n",
    "a"
   ]
  },
  {
   "cell_type": "code",
   "execution_count": 104,
   "metadata": {
    "ExecuteTime": {
     "end_time": "2021-03-04T06:51:59.667911Z",
     "start_time": "2021-03-04T06:51:59.663930Z"
    }
   },
   "outputs": [
    {
     "data": {
      "text/plain": [
       "array([[2., 1., 7., 2.],\n",
       "       [3., 4., 7., 9.],\n",
       "       [1., 6., 9., 3.]])"
      ]
     },
     "execution_count": 104,
     "metadata": {},
     "output_type": "execute_result"
    }
   ],
   "source": [
    "a.reshape(3,-1) # -1로 주어지면 해당 차원의 크기가 자동 계산"
   ]
  },
  {
   "cell_type": "code",
   "execution_count": 105,
   "metadata": {
    "ExecuteTime": {
     "end_time": "2021-03-04T06:52:53.548665Z",
     "start_time": "2021-03-04T06:52:53.543717Z"
    }
   },
   "outputs": [
    {
     "data": {
      "text/plain": [
       "array([[2., 1., 7.],\n",
       "       [2., 3., 4.],\n",
       "       [7., 9., 1.],\n",
       "       [6., 9., 3.]])"
      ]
     },
     "execution_count": 105,
     "metadata": {},
     "output_type": "execute_result"
    }
   ],
   "source": [
    "a.reshape(-1,3) # reshape에는 -1 가능"
   ]
  },
  {
   "cell_type": "code",
   "execution_count": 106,
   "metadata": {
    "ExecuteTime": {
     "end_time": "2021-03-04T06:53:35.108444Z",
     "start_time": "2021-03-04T06:53:35.103457Z"
    }
   },
   "outputs": [
    {
     "data": {
      "text/plain": [
       "array([[2., 1., 7., 2.],\n",
       "       [3., 4., 7., 9.],\n",
       "       [1., 6., 9., 3.]])"
      ]
     },
     "execution_count": 106,
     "metadata": {},
     "output_type": "execute_result"
    }
   ],
   "source": [
    "a.resize(3,4)\n",
    "a"
   ]
  },
  {
   "cell_type": "code",
   "execution_count": 107,
   "metadata": {
    "ExecuteTime": {
     "end_time": "2021-03-04T06:54:53.452768Z",
     "start_time": "2021-03-04T06:54:53.443770Z"
    }
   },
   "outputs": [
    {
     "ename": "ValueError",
     "evalue": "negative dimensions not allowed",
     "output_type": "error",
     "traceback": [
      "\u001b[1;31m---------------------------------------------------------------------------\u001b[0m",
      "\u001b[1;31mValueError\u001b[0m                                Traceback (most recent call last)",
      "\u001b[1;32m<ipython-input-107-94525025d3c4>\u001b[0m in \u001b[0;36m<module>\u001b[1;34m\u001b[0m\n\u001b[1;32m----> 1\u001b[1;33m \u001b[0ma\u001b[0m\u001b[1;33m.\u001b[0m\u001b[0mresize\u001b[0m\u001b[1;33m(\u001b[0m\u001b[1;33m(\u001b[0m\u001b[1;36m3\u001b[0m\u001b[1;33m,\u001b[0m\u001b[1;33m-\u001b[0m\u001b[1;36m1\u001b[0m\u001b[1;33m)\u001b[0m\u001b[1;33m)\u001b[0m \u001b[1;31m# resize는 -1 불가\u001b[0m\u001b[1;33m\u001b[0m\u001b[1;33m\u001b[0m\u001b[0m\n\u001b[0m",
      "\u001b[1;31mValueError\u001b[0m: negative dimensions not allowed"
     ]
    }
   ],
   "source": [
    "a.resize((3,-1)) # resize는 -1 불가"
   ]
  },
  {
   "cell_type": "code",
   "execution_count": null,
   "metadata": {},
   "outputs": [],
   "source": [
    "# 로또번호 6개를 구해서 sort하여 1차원 배열에 넣기"
   ]
  },
  {
   "cell_type": "code",
   "execution_count": 108,
   "metadata": {
    "ExecuteTime": {
     "end_time": "2021-03-04T06:57:27.951546Z",
     "start_time": "2021-03-04T06:57:27.946584Z"
    }
   },
   "outputs": [
    {
     "data": {
      "text/plain": [
       "array([ 9.17749955,  1.08181181, 23.63749527, 27.67940447, 25.97178639,\n",
       "       42.76612713])"
      ]
     },
     "execution_count": 108,
     "metadata": {},
     "output_type": "execute_result"
    }
   ],
   "source": [
    "45*np.random.random(6) # 0부터 45 미만의 실수"
   ]
  },
  {
   "cell_type": "code",
   "execution_count": 115,
   "metadata": {
    "ExecuteTime": {
     "end_time": "2021-03-04T07:02:44.043251Z",
     "start_time": "2021-03-04T07:02:44.038264Z"
    }
   },
   "outputs": [
    {
     "name": "stdout",
     "output_type": "stream",
     "text": [
      "[ 6. 31. 33. 36. 38. 44.]\n"
     ]
    }
   ],
   "source": [
    "while True:\n",
    "    a = np.floor(45*np.random.random(6)) + 1\n",
    "    a.sort()\n",
    "    if len(set([ int(data) for data in a])) == 6:\n",
    "        print(a)\n",
    "        break"
   ]
  },
  {
   "cell_type": "code",
   "execution_count": 116,
   "metadata": {
    "ExecuteTime": {
     "end_time": "2021-03-04T07:03:28.386518Z",
     "start_time": "2021-03-04T07:03:28.374550Z"
    }
   },
   "outputs": [
    {
     "data": {
      "text/plain": [
       "array([['1', '1'],\n",
       "       ['2.0', '1']], dtype='<U32')"
      ]
     },
     "execution_count": 116,
     "metadata": {},
     "output_type": "execute_result"
    }
   ],
   "source": [
    "np.array([[1,1],[2.0,'1']])"
   ]
  },
  {
   "cell_type": "markdown",
   "metadata": {},
   "source": [
    "## 2.5 배열 인쇄"
   ]
  },
  {
   "cell_type": "code",
   "execution_count": 117,
   "metadata": {
    "ExecuteTime": {
     "end_time": "2021-03-04T07:05:44.363786Z",
     "start_time": "2021-03-04T07:05:44.358819Z"
    }
   },
   "outputs": [
    {
     "name": "stdout",
     "output_type": "stream",
     "text": [
      "[    0     1     2 ... 99997 99998 99999]\n"
     ]
    }
   ],
   "source": [
    "# 배열이 너무 커서 인쇄가 불가능한 경우\n",
    "print(np.arange(100000))"
   ]
  },
  {
   "cell_type": "code",
   "execution_count": 120,
   "metadata": {
    "ExecuteTime": {
     "end_time": "2021-03-04T07:07:36.906782Z",
     "start_time": "2021-03-04T07:07:36.902792Z"
    }
   },
   "outputs": [
    {
     "name": "stdout",
     "output_type": "stream",
     "text": [
      "[[   0    1    2 ...  997  998  999]\n",
      " [1000 1001 1002 ... 1997 1998 1999]\n",
      " [2000 2001 2002 ... 2997 2998 2999]\n",
      " ...\n",
      " [7000 7001 7002 ... 7997 7998 7999]\n",
      " [8000 8001 8002 ... 8997 8998 8999]\n",
      " [9000 9001 9002 ... 9997 9998 9999]]\n"
     ]
    }
   ],
   "source": [
    "print(np.arange(10000).reshape(10,1000))"
   ]
  },
  {
   "cell_type": "markdown",
   "metadata": {},
   "source": [
    "- 배열이 너무 커서 인쇄할 수 없는 경우 자동으로 건너뛰고 모서리만 인쇄\n",
    "- 이동작을 비활성 하고 넘파이가 전체 배열을 인쇄 하도록 하려면 인쇄옵션 변경\n",
    "- threshold 값을 큰 값으로 변경\n"
   ]
  },
  {
   "cell_type": "code",
   "execution_count": 121,
   "metadata": {
    "ExecuteTime": {
     "end_time": "2021-03-04T07:12:00.425577Z",
     "start_time": "2021-03-04T07:12:00.422585Z"
    }
   },
   "outputs": [],
   "source": [
    "np.set_printoptions(threshold=10001)"
   ]
  },
  {
   "cell_type": "code",
   "execution_count": 128,
   "metadata": {
    "ExecuteTime": {
     "end_time": "2021-03-04T07:14:44.017919Z",
     "start_time": "2021-03-04T07:14:44.013930Z"
    }
   },
   "outputs": [
    {
     "name": "stdout",
     "output_type": "stream",
     "text": [
      "[[    0     1     2 ...  9997  9998  9999]\n",
      " [10000 10001 10002 ... 19997 19998 19999]\n",
      " [20000 20001 20002 ... 29997 29998 29999]\n",
      " ...\n",
      " [70000 70001 70002 ... 79997 79998 79999]\n",
      " [80000 80001 80002 ... 89997 89998 89999]\n",
      " [90000 90001 90002 ... 99997 99998 99999]]\n"
     ]
    }
   ],
   "source": [
    "print(np.arange(100000).reshape(10,10000))"
   ]
  },
  {
   "cell_type": "markdown",
   "metadata": {},
   "source": [
    "## 2.6 기본연산 동작\n",
    "### 1) 배열의 요소별 연산"
   ]
  },
  {
   "cell_type": "code",
   "execution_count": 129,
   "metadata": {
    "ExecuteTime": {
     "end_time": "2021-03-04T07:16:25.706011Z",
     "start_time": "2021-03-04T07:16:25.701006Z"
    }
   },
   "outputs": [
    {
     "name": "stdout",
     "output_type": "stream",
     "text": [
      "[20 30 40 50]\n",
      "[0 1 2 3]\n"
     ]
    }
   ],
   "source": [
    "a = np.array([20,30,40,50])\n",
    "b = np.arange(4)\n",
    "print(a)\n",
    "print(b)"
   ]
  },
  {
   "cell_type": "code",
   "execution_count": 130,
   "metadata": {
    "ExecuteTime": {
     "end_time": "2021-03-04T07:16:54.413341Z",
     "start_time": "2021-03-04T07:16:54.408374Z"
    }
   },
   "outputs": [
    {
     "data": {
      "text/plain": [
       "array([20, 31, 42, 53])"
      ]
     },
     "execution_count": 130,
     "metadata": {},
     "output_type": "execute_result"
    }
   ],
   "source": [
    "a + b # index 요소별로 연산"
   ]
  },
  {
   "cell_type": "code",
   "execution_count": 131,
   "metadata": {
    "ExecuteTime": {
     "end_time": "2021-03-04T07:17:07.115100Z",
     "start_time": "2021-03-04T07:17:07.110139Z"
    }
   },
   "outputs": [
    {
     "data": {
      "text/plain": [
       "array([20, 29, 38, 47])"
      ]
     },
     "execution_count": 131,
     "metadata": {},
     "output_type": "execute_result"
    }
   ],
   "source": [
    "a - b"
   ]
  },
  {
   "cell_type": "code",
   "execution_count": 135,
   "metadata": {
    "ExecuteTime": {
     "end_time": "2021-03-04T07:19:55.658355Z",
     "start_time": "2021-03-04T07:19:55.653388Z"
    }
   },
   "outputs": [
    {
     "data": {
      "text/plain": [
       "array([  0,  30,  80, 150])"
      ]
     },
     "execution_count": 135,
     "metadata": {},
     "output_type": "execute_result"
    }
   ],
   "source": [
    "a * b"
   ]
  },
  {
   "cell_type": "code",
   "execution_count": 133,
   "metadata": {
    "ExecuteTime": {
     "end_time": "2021-03-04T07:17:55.762002Z",
     "start_time": "2021-03-04T07:17:55.757040Z"
    }
   },
   "outputs": [
    {
     "data": {
      "text/plain": [
       "array([ True,  True, False, False])"
      ]
     },
     "execution_count": 133,
     "metadata": {},
     "output_type": "execute_result"
    }
   ],
   "source": [
    "a < 35 # 요소별 연산"
   ]
  },
  {
   "cell_type": "code",
   "execution_count": 134,
   "metadata": {
    "ExecuteTime": {
     "end_time": "2021-03-04T07:18:29.785500Z",
     "start_time": "2021-03-04T07:18:29.780513Z"
    }
   },
   "outputs": [
    {
     "data": {
      "text/plain": [
       "array([20, 30])"
      ]
     },
     "execution_count": 134,
     "metadata": {},
     "output_type": "execute_result"
    }
   ],
   "source": [
    "a[a<35] # a 배열에서 a < 35 데이터만 추출"
   ]
  },
  {
   "cell_type": "markdown",
   "metadata": {},
   "source": [
    "### 2) 행렬의 곱"
   ]
  },
  {
   "cell_type": "code",
   "execution_count": 136,
   "metadata": {
    "ExecuteTime": {
     "end_time": "2021-03-04T07:21:23.552382Z",
     "start_time": "2021-03-04T07:21:23.548418Z"
    }
   },
   "outputs": [],
   "source": [
    "A = np.array([[1, 1],\n",
    "             [0, 1]])"
   ]
  },
  {
   "cell_type": "code",
   "execution_count": 137,
   "metadata": {
    "ExecuteTime": {
     "end_time": "2021-03-04T07:21:55.960891Z",
     "start_time": "2021-03-04T07:21:55.956902Z"
    }
   },
   "outputs": [],
   "source": [
    "B = np.array([[2, 0],\n",
    "             [3, 4]])"
   ]
  },
  {
   "cell_type": "code",
   "execution_count": 138,
   "metadata": {
    "ExecuteTime": {
     "end_time": "2021-03-04T07:22:04.161096Z",
     "start_time": "2021-03-04T07:22:04.156110Z"
    }
   },
   "outputs": [
    {
     "data": {
      "text/plain": [
       "(array([[1, 1],\n",
       "        [0, 1]]),\n",
       " array([[2, 0],\n",
       "        [3, 4]]))"
      ]
     },
     "execution_count": 138,
     "metadata": {},
     "output_type": "execute_result"
    }
   ],
   "source": [
    "A, B"
   ]
  },
  {
   "cell_type": "code",
   "execution_count": 140,
   "metadata": {
    "ExecuteTime": {
     "end_time": "2021-03-04T07:25:11.409832Z",
     "start_time": "2021-03-04T07:25:11.404844Z"
    }
   },
   "outputs": [
    {
     "name": "stdout",
     "output_type": "stream",
     "text": [
      "요소별 곱  A*B = \n",
      "[[2 0]\n",
      " [0 4]]\n",
      "행렬의 곱 A@B = \n",
      "[[5 4]\n",
      " [3 4]]\n",
      "행렬곱 A.dot(B) = \n",
      "[[5 4]\n",
      " [3 4]]\n"
     ]
    }
   ],
   "source": [
    "print('요소별 곱  A*B = ', A*B, sep='\\n')\n",
    "print('행렬의 곱 A@B = ', A@B, sep='\\n')\n",
    "print('행렬곱 A.dot(B) = ', A.dot(B), sep='\\n')"
   ]
  },
  {
   "cell_type": "markdown",
   "metadata": {},
   "source": [
    "### 3) 복합 대입 연산자 사용"
   ]
  },
  {
   "cell_type": "code",
   "execution_count": 141,
   "metadata": {
    "ExecuteTime": {
     "end_time": "2021-03-04T07:38:36.887568Z",
     "start_time": "2021-03-04T07:38:36.882589Z"
    }
   },
   "outputs": [
    {
     "data": {
      "text/plain": [
       "array([[1, 1, 1],\n",
       "       [1, 1, 1]])"
      ]
     },
     "execution_count": 141,
     "metadata": {},
     "output_type": "execute_result"
    }
   ],
   "source": [
    "a = np.ones((2,3), dtype=int) # int32\n",
    "a"
   ]
  },
  {
   "cell_type": "code",
   "execution_count": 142,
   "metadata": {
    "ExecuteTime": {
     "end_time": "2021-03-04T07:39:32.864415Z",
     "start_time": "2021-03-04T07:39:32.859448Z"
    }
   },
   "outputs": [
    {
     "data": {
      "text/plain": [
       "array([[0.44303896, 0.17675132, 0.64842202],\n",
       "       [0.0326141 , 0.76306905, 0.19439032]])"
      ]
     },
     "execution_count": 142,
     "metadata": {},
     "output_type": "execute_result"
    }
   ],
   "source": [
    "b = np.random.random((2,3)) # 2차원 2행 2열 배열 float64\n",
    "b"
   ]
  },
  {
   "cell_type": "code",
   "execution_count": 143,
   "metadata": {
    "ExecuteTime": {
     "end_time": "2021-03-04T07:39:42.550978Z",
     "start_time": "2021-03-04T07:39:42.547009Z"
    }
   },
   "outputs": [
    {
     "data": {
      "text/plain": [
       "array([[4, 4, 4],\n",
       "       [4, 4, 4]])"
      ]
     },
     "execution_count": 143,
     "metadata": {},
     "output_type": "execute_result"
    }
   ],
   "source": [
    "a += 3\n",
    "a"
   ]
  },
  {
   "cell_type": "code",
   "execution_count": 144,
   "metadata": {
    "ExecuteTime": {
     "end_time": "2021-03-04T07:40:01.311058Z",
     "start_time": "2021-03-04T07:40:01.307070Z"
    }
   },
   "outputs": [
    {
     "data": {
      "text/plain": [
       "array([[4.44303896, 4.17675132, 4.64842202],\n",
       "       [4.0326141 , 4.76306905, 4.19439032]])"
      ]
     },
     "execution_count": 144,
     "metadata": {},
     "output_type": "execute_result"
    }
   ],
   "source": [
    "b += a\n",
    "b"
   ]
  },
  {
   "cell_type": "code",
   "execution_count": 146,
   "metadata": {
    "ExecuteTime": {
     "end_time": "2021-03-04T07:41:36.135138Z",
     "start_time": "2021-03-04T07:41:36.126162Z"
    }
   },
   "outputs": [
    {
     "ename": "UFuncTypeError",
     "evalue": "Cannot cast ufunc 'add' output from dtype('float64') to dtype('int32') with casting rule 'same_kind'",
     "output_type": "error",
     "traceback": [
      "\u001b[1;31m---------------------------------------------------------------------------\u001b[0m",
      "\u001b[1;31mUFuncTypeError\u001b[0m                            Traceback (most recent call last)",
      "\u001b[1;32m<ipython-input-146-5ac7ad9e9056>\u001b[0m in \u001b[0;36m<module>\u001b[1;34m\u001b[0m\n\u001b[1;32m----> 1\u001b[1;33m \u001b[0ma\u001b[0m \u001b[1;33m+=\u001b[0m \u001b[0mb\u001b[0m \u001b[1;31m# b가 float64이기 때문에 a + b는 float64라서 에러발생\u001b[0m\u001b[1;33m\u001b[0m\u001b[1;33m\u001b[0m\u001b[0m\n\u001b[0m",
      "\u001b[1;31mUFuncTypeError\u001b[0m: Cannot cast ufunc 'add' output from dtype('float64') to dtype('int32') with casting rule 'same_kind'"
     ]
    }
   ],
   "source": [
    "a += b # b가 float64이기 때문에 a + b는 float64라서 에러발생"
   ]
  },
  {
   "cell_type": "code",
   "execution_count": null,
   "metadata": {},
   "outputs": [],
   "source": []
  },
  {
   "cell_type": "code",
   "execution_count": 148,
   "metadata": {
    "ExecuteTime": {
     "end_time": "2021-03-04T07:43:37.430837Z",
     "start_time": "2021-03-04T07:43:37.425872Z"
    }
   },
   "outputs": [
    {
     "name": "stdout",
     "output_type": "stream",
     "text": [
      "[1 1 1]\n",
      "[0.         1.57079633 3.14159265]\n"
     ]
    }
   ],
   "source": [
    "a = np.ones(3, dtype=np.int16)\n",
    "b = np.linspace(0,np.pi,3)\n",
    "print(a)\n",
    "print(b)"
   ]
  },
  {
   "cell_type": "code",
   "execution_count": 149,
   "metadata": {
    "ExecuteTime": {
     "end_time": "2021-03-04T07:44:38.006361Z",
     "start_time": "2021-03-04T07:44:38.001394Z"
    }
   },
   "outputs": [
    {
     "name": "stdout",
     "output_type": "stream",
     "text": [
      "[1.         2.57079633 4.14159265]\n",
      "float64\n"
     ]
    }
   ],
   "source": [
    "c = a + b\n",
    "print(c)\n",
    "print(c.dtype)"
   ]
  },
  {
   "cell_type": "code",
   "execution_count": 150,
   "metadata": {
    "ExecuteTime": {
     "end_time": "2021-03-04T07:45:18.071478Z",
     "start_time": "2021-03-04T07:45:18.065493Z"
    }
   },
   "outputs": [
    {
     "data": {
      "text/plain": [
       "array([1.+0.j        , 1.+1.57079633j, 1.+3.14159265j])"
      ]
     },
     "execution_count": 150,
     "metadata": {},
     "output_type": "execute_result"
    }
   ],
   "source": [
    "c = a + b*1j\n",
    "c"
   ]
  },
  {
   "cell_type": "code",
   "execution_count": 151,
   "metadata": {
    "ExecuteTime": {
     "end_time": "2021-03-04T07:45:28.790271Z",
     "start_time": "2021-03-04T07:45:28.785284Z"
    }
   },
   "outputs": [
    {
     "data": {
      "text/plain": [
       "dtype('complex128')"
      ]
     },
     "execution_count": 151,
     "metadata": {},
     "output_type": "execute_result"
    }
   ],
   "source": [
    "c.dtype"
   ]
  },
  {
   "cell_type": "markdown",
   "metadata": {},
   "source": [
    "### 4) 배열 요소별 집계 : 배열 전체의 sum, min..."
   ]
  },
  {
   "cell_type": "code",
   "execution_count": 155,
   "metadata": {
    "ExecuteTime": {
     "end_time": "2021-03-04T07:50:04.574712Z",
     "start_time": "2021-03-04T07:50:04.569746Z"
    }
   },
   "outputs": [
    {
     "data": {
      "text/plain": [
       "array([[1, 2, 3, 4],\n",
       "       [4, 3, 2, 1]])"
      ]
     },
     "execution_count": 155,
     "metadata": {},
     "output_type": "execute_result"
    }
   ],
   "source": [
    "a = np.array([[1,2,3,4],\n",
    "             [4,3,2,1]])\n",
    "a"
   ]
  },
  {
   "cell_type": "code",
   "execution_count": 156,
   "metadata": {
    "ExecuteTime": {
     "end_time": "2021-03-04T07:50:06.544818Z",
     "start_time": "2021-03-04T07:50:06.529173Z"
    }
   },
   "outputs": [
    {
     "name": "stdout",
     "output_type": "stream",
     "text": [
      "a 배열 요소들 전체의 합 :  20\n",
      "a 배열 요소들 전체의 합 :  1\n",
      "a 배열 요소들 전체의 합 :  4\n"
     ]
    }
   ],
   "source": [
    "print('a 배열 요소들 전체의 합 : ', a.sum())\n",
    "print('a 배열 요소들 전체의 합 : ', a.min())\n",
    "print('a 배열 요소들 전체의 합 : ', a.max())"
   ]
  },
  {
   "cell_type": "markdown",
   "metadata": {},
   "source": [
    "### 5) 배열 축별 집계 : 행별 sum, min..., 열별 sum, min..."
   ]
  },
  {
   "cell_type": "code",
   "execution_count": 157,
   "metadata": {
    "ExecuteTime": {
     "end_time": "2021-03-04T07:50:24.869619Z",
     "start_time": "2021-03-04T07:50:24.864658Z"
    }
   },
   "outputs": [
    {
     "data": {
      "text/plain": [
       "array([[1, 2, 3, 4],\n",
       "       [4, 3, 2, 1]])"
      ]
     },
     "execution_count": 157,
     "metadata": {},
     "output_type": "execute_result"
    }
   ],
   "source": [
    "a = np.array([[1,2,3,4],\n",
    "             [4,3,2,1]])\n",
    "a"
   ]
  },
  {
   "cell_type": "code",
   "execution_count": 158,
   "metadata": {
    "ExecuteTime": {
     "end_time": "2021-03-04T07:51:32.325282Z",
     "start_time": "2021-03-04T07:51:32.321314Z"
    }
   },
   "outputs": [
    {
     "name": "stdout",
     "output_type": "stream",
     "text": [
      "a 배열의 행별 합(결과는 1행 2열짜리 배열) :  [10 10]\n"
     ]
    }
   ],
   "source": [
    "print('a 배열의 행별 합(결과는 1행 2열짜리 배열) : ', a.sum(axis=1))"
   ]
  },
  {
   "cell_type": "code",
   "execution_count": 159,
   "metadata": {
    "ExecuteTime": {
     "end_time": "2021-03-04T07:52:31.691200Z",
     "start_time": "2021-03-04T07:52:31.675549Z"
    }
   },
   "outputs": [
    {
     "name": "stdout",
     "output_type": "stream",
     "text": [
      "a 배열의 열별 합(결과는 4열짜리 배열) :  [5 5 5 5]\n"
     ]
    }
   ],
   "source": [
    "print('a 배열의 열별 합(결과는 4열짜리 배열) : ', a.sum(axis=0))"
   ]
  },
  {
   "cell_type": "code",
   "execution_count": 161,
   "metadata": {
    "ExecuteTime": {
     "end_time": "2021-03-04T07:54:25.893309Z",
     "start_time": "2021-03-04T07:54:25.889320Z"
    }
   },
   "outputs": [
    {
     "name": "stdout",
     "output_type": "stream",
     "text": [
      "a 배열의 행별 최소값 :  [1 1]\n",
      "a 배열의 열별 최소값 :  [1 2 2 1]\n"
     ]
    }
   ],
   "source": [
    "print('a 배열의 행별 최소값 : ', a.min(axis=1))\n",
    "print('a 배열의 열별 최소값 : ', a.min(axis=0))"
   ]
  },
  {
   "cell_type": "code",
   "execution_count": 162,
   "metadata": {
    "ExecuteTime": {
     "end_time": "2021-03-04T07:54:49.254116Z",
     "start_time": "2021-03-04T07:54:49.249130Z"
    }
   },
   "outputs": [
    {
     "name": "stdout",
     "output_type": "stream",
     "text": [
      "a 배열의 행별 최대값 :  [4 4]\n",
      "a 배열의 열별 최대값 :  [4 3 3 4]\n"
     ]
    }
   ],
   "source": [
    "print('a 배열의 행별 최대값 : ', a.max(axis=1))\n",
    "print('a 배열의 열별 최대값 : ', a.max(axis=0))"
   ]
  },
  {
   "cell_type": "code",
   "execution_count": 163,
   "metadata": {
    "ExecuteTime": {
     "end_time": "2021-03-04T07:55:41.017299Z",
     "start_time": "2021-03-04T07:55:41.012313Z"
    }
   },
   "outputs": [
    {
     "name": "stdout",
     "output_type": "stream",
     "text": [
      "[[1 2 3 4]\n",
      " [4 3 2 1]]\n",
      "[[ 1  3  6 10]\n",
      " [ 4  7  9 10]]\n"
     ]
    }
   ],
   "source": [
    "# 누적합\n",
    "print(a)\n",
    "print(a.cumsum(axis=1)) # 행별로 누적합"
   ]
  },
  {
   "cell_type": "code",
   "execution_count": 164,
   "metadata": {
    "ExecuteTime": {
     "end_time": "2021-03-04T07:56:09.833142Z",
     "start_time": "2021-03-04T07:56:09.828156Z"
    }
   },
   "outputs": [
    {
     "data": {
      "text/plain": [
       "array([[1, 2, 3, 4],\n",
       "       [5, 5, 5, 5]], dtype=int32)"
      ]
     },
     "execution_count": 164,
     "metadata": {},
     "output_type": "execute_result"
    }
   ],
   "source": [
    "a.cumsum(axis=0) # 열별 누적합"
   ]
  },
  {
   "cell_type": "code",
   "execution_count": 166,
   "metadata": {
    "ExecuteTime": {
     "end_time": "2021-03-04T07:58:02.381707Z",
     "start_time": "2021-03-04T07:58:02.376740Z"
    }
   },
   "outputs": [
    {
     "data": {
      "text/plain": [
       "array([[[ 0,  1,  2,  3],\n",
       "        [ 4,  5,  6,  7],\n",
       "        [ 8,  9, 10, 11]],\n",
       "\n",
       "       [[12, 13, 14, 15],\n",
       "        [16, 17, 18, 19],\n",
       "        [20, 21, 22, 23]]])"
      ]
     },
     "execution_count": 166,
     "metadata": {},
     "output_type": "execute_result"
    }
   ],
   "source": [
    "b = np.arange(24).reshape(2,3,4)\n",
    "b"
   ]
  },
  {
   "cell_type": "code",
   "execution_count": 168,
   "metadata": {
    "ExecuteTime": {
     "end_time": "2021-03-04T07:59:08.015618Z",
     "start_time": "2021-03-04T07:59:07.999969Z"
    }
   },
   "outputs": [
    {
     "data": {
      "text/plain": [
       "(9, 9)"
      ]
     },
     "execution_count": 168,
     "metadata": {},
     "output_type": "execute_result"
    }
   ],
   "source": [
    "b[0,2,1], b[0][2][1]"
   ]
  },
  {
   "cell_type": "code",
   "execution_count": 169,
   "metadata": {
    "ExecuteTime": {
     "end_time": "2021-03-04T07:59:47.701485Z",
     "start_time": "2021-03-04T07:59:47.696499Z"
    }
   },
   "outputs": [
    {
     "data": {
      "text/plain": [
       "(276, 0, 23)"
      ]
     },
     "execution_count": 169,
     "metadata": {},
     "output_type": "execute_result"
    }
   ],
   "source": [
    "b.sum(), b.min(), b.max()"
   ]
  },
  {
   "cell_type": "code",
   "execution_count": 170,
   "metadata": {
    "ExecuteTime": {
     "end_time": "2021-03-04T08:00:58.053813Z",
     "start_time": "2021-03-04T08:00:58.047809Z"
    }
   },
   "outputs": [
    {
     "data": {
      "text/plain": [
       "array([[12, 14, 16, 18],\n",
       "       [20, 22, 24, 26],\n",
       "       [28, 30, 32, 34]])"
      ]
     },
     "execution_count": 170,
     "metadata": {},
     "output_type": "execute_result"
    }
   ],
   "source": [
    "b.sum(axis=0) # 면은 빼고 같은 행과 열끼리 sum"
   ]
  },
  {
   "cell_type": "code",
   "execution_count": 171,
   "metadata": {
    "ExecuteTime": {
     "end_time": "2021-03-04T08:02:35.450053Z",
     "start_time": "2021-03-04T08:02:35.445087Z"
    }
   },
   "outputs": [
    {
     "data": {
      "text/plain": [
       "array([[12, 15, 18, 21],\n",
       "       [48, 51, 54, 57]])"
      ]
     },
     "execution_count": 171,
     "metadata": {},
     "output_type": "execute_result"
    }
   ],
   "source": [
    "b.sum(axis=1) # 행을 빼고 같은 면, 열끼리 sum"
   ]
  },
  {
   "cell_type": "code",
   "execution_count": 172,
   "metadata": {
    "ExecuteTime": {
     "end_time": "2021-03-04T08:04:26.941338Z",
     "start_time": "2021-03-04T08:04:26.935354Z"
    }
   },
   "outputs": [
    {
     "data": {
      "text/plain": [
       "array([[ 6, 22, 38],\n",
       "       [54, 70, 86]])"
      ]
     },
     "execution_count": 172,
     "metadata": {},
     "output_type": "execute_result"
    }
   ],
   "source": [
    "b.sum(axis=2) # 열은 빼고 같은 면, 같은 행끼리 sum"
   ]
  },
  {
   "cell_type": "code",
   "execution_count": 173,
   "metadata": {
    "ExecuteTime": {
     "end_time": "2021-03-04T08:05:10.680971Z",
     "start_time": "2021-03-04T08:05:10.676009Z"
    }
   },
   "outputs": [
    {
     "data": {
      "text/plain": [
       "276"
      ]
     },
     "execution_count": 173,
     "metadata": {},
     "output_type": "execute_result"
    }
   ],
   "source": [
    "np.sum(b) # 요소들 전체 합"
   ]
  },
  {
   "cell_type": "code",
   "execution_count": 174,
   "metadata": {
    "ExecuteTime": {
     "end_time": "2021-03-04T08:05:24.671928Z",
     "start_time": "2021-03-04T08:05:24.667939Z"
    }
   },
   "outputs": [
    {
     "data": {
      "text/plain": [
       "11.5"
      ]
     },
     "execution_count": 174,
     "metadata": {},
     "output_type": "execute_result"
    }
   ],
   "source": [
    "np.mean(b) # 요소들의 전체 평균"
   ]
  },
  {
   "cell_type": "code",
   "execution_count": 175,
   "metadata": {
    "ExecuteTime": {
     "end_time": "2021-03-04T08:06:29.504630Z",
     "start_time": "2021-03-04T08:06:29.499643Z"
    }
   },
   "outputs": [
    {
     "data": {
      "text/plain": [
       "6.922186552431729"
      ]
     },
     "execution_count": 175,
     "metadata": {},
     "output_type": "execute_result"
    }
   ],
   "source": [
    "np.std(b) # 표준편차"
   ]
  },
  {
   "cell_type": "code",
   "execution_count": 176,
   "metadata": {
    "ExecuteTime": {
     "end_time": "2021-03-04T08:08:46.092015Z",
     "start_time": "2021-03-04T08:08:46.087049Z"
    }
   },
   "outputs": [
    {
     "data": {
      "text/plain": [
       "47.916666666666664"
      ]
     },
     "execution_count": 176,
     "metadata": {},
     "output_type": "execute_result"
    }
   ],
   "source": [
    "np.var(b) # 분산"
   ]
  },
  {
   "cell_type": "code",
   "execution_count": 178,
   "metadata": {
    "ExecuteTime": {
     "end_time": "2021-03-04T08:09:18.444144Z",
     "start_time": "2021-03-04T08:09:18.439157Z"
    }
   },
   "outputs": [
    {
     "data": {
      "text/plain": [
       "47.916666666666664"
      ]
     },
     "execution_count": 178,
     "metadata": {},
     "output_type": "execute_result"
    }
   ],
   "source": [
    "np.std(b) * np.std(b)"
   ]
  },
  {
   "cell_type": "code",
   "execution_count": 179,
   "metadata": {
    "ExecuteTime": {
     "end_time": "2021-03-04T08:09:39.228329Z",
     "start_time": "2021-03-04T08:09:39.223369Z"
    }
   },
   "outputs": [
    {
     "data": {
      "text/plain": [
       "6.922186552431729"
      ]
     },
     "execution_count": 179,
     "metadata": {},
     "output_type": "execute_result"
    }
   ],
   "source": [
    "np.sqrt(np.var(b)) # np.sqrt()의 매개변수는 스칼라 변수, 배열변수 모두 가능"
   ]
  },
  {
   "cell_type": "code",
   "execution_count": 180,
   "metadata": {
    "ExecuteTime": {
     "end_time": "2021-03-04T08:10:21.579712Z",
     "start_time": "2021-03-04T08:10:21.575722Z"
    }
   },
   "outputs": [
    {
     "data": {
      "text/plain": [
       "6.922186552431729"
      ]
     },
     "execution_count": 180,
     "metadata": {},
     "output_type": "execute_result"
    }
   ],
   "source": [
    "import math\n",
    "math.sqrt(np.var(b)) # math.sqrt()의 매개변수는 스칼라 변수"
   ]
  },
  {
   "cell_type": "markdown",
   "metadata": {},
   "source": [
    "## 2.7 그 외 함수들"
   ]
  },
  {
   "cell_type": "code",
   "execution_count": 181,
   "metadata": {
    "ExecuteTime": {
     "end_time": "2021-03-04T08:12:44.143412Z",
     "start_time": "2021-03-04T08:12:44.138443Z"
    }
   },
   "outputs": [
    {
     "data": {
      "text/plain": [
       "array([0.        , 1.        , 1.41421356])"
      ]
     },
     "execution_count": 181,
     "metadata": {},
     "output_type": "execute_result"
    }
   ],
   "source": [
    "a = np.arange(3)\n",
    "np.sqrt(a)"
   ]
  },
  {
   "cell_type": "code",
   "execution_count": 182,
   "metadata": {
    "ExecuteTime": {
     "end_time": "2021-03-04T08:13:32.319894Z",
     "start_time": "2021-03-04T08:13:32.315921Z"
    }
   },
   "outputs": [
    {
     "data": {
      "text/plain": [
       "array([1.        , 2.71828183, 7.3890561 ])"
      ]
     },
     "execution_count": 182,
     "metadata": {},
     "output_type": "execute_result"
    }
   ],
   "source": [
    "np.exp(a) # 지수 e의 0승, 1승, 2승"
   ]
  },
  {
   "cell_type": "code",
   "execution_count": 183,
   "metadata": {
    "ExecuteTime": {
     "end_time": "2021-03-04T08:15:06.231324Z",
     "start_time": "2021-03-04T08:15:06.226338Z"
    }
   },
   "outputs": [
    {
     "data": {
      "text/plain": [
       "array([10, 12, 14])"
      ]
     },
     "execution_count": 183,
     "metadata": {},
     "output_type": "execute_result"
    }
   ],
   "source": [
    "b = np.array([10,11,12])\n",
    "np.add(a,b)"
   ]
  },
  {
   "cell_type": "code",
   "execution_count": 196,
   "metadata": {
    "ExecuteTime": {
     "end_time": "2021-03-04T08:37:07.257388Z",
     "start_time": "2021-03-04T08:36:58.843801Z"
    }
   },
   "outputs": [
    {
     "name": "stdout",
     "output_type": "stream",
     "text": [
      "The memory_profiler extension is already loaded. To reload it, use:\n",
      "  %reload_ext memory_profiler\n"
     ]
    }
   ],
   "source": [
    "# 메모리 사용량 측정(메모리 프로파일러)를 로드하고 임의의 데이터 생성후 np.add\n",
    "# 아나콘다 프롬프트에서 (pip install memory_profiler)\n",
    "%load_ext memory_profiler\n",
    "A = np.random.randn(100000000)\n",
    "B = np.random.randn(100000000)\n",
    "C = np.random.randn(100000000)"
   ]
  },
  {
   "cell_type": "code",
   "execution_count": 189,
   "metadata": {
    "ExecuteTime": {
     "end_time": "2021-03-04T08:24:31.866096Z",
     "start_time": "2021-03-04T08:24:31.862106Z"
    }
   },
   "outputs": [],
   "source": [
    "# %%time : 셀을 실행할 때 소요 되는 시간 출력\n",
    "# %%memit : 메모리 사용량 출력"
   ]
  },
  {
   "cell_type": "code",
   "execution_count": 197,
   "metadata": {
    "ExecuteTime": {
     "end_time": "2021-03-04T08:37:09.067008Z",
     "start_time": "2021-03-04T08:37:07.275342Z"
    }
   },
   "outputs": [
    {
     "name": "stdout",
     "output_type": "stream",
     "text": [
      "peak memory: 4694.98 MiB, increment: 1456.42 MiB\n",
      "[ 0.07762012 -1.94911725  0.77800302 ...  0.29123517  0.9745035\n",
      "  0.8641211 ]\n",
      "Wall time: 1.79 s\n"
     ]
    }
   ],
   "source": [
    "%%time\n",
    "%memit G = A * B +C\n",
    "print(G)"
   ]
  },
  {
   "cell_type": "code",
   "execution_count": 198,
   "metadata": {
    "ExecuteTime": {
     "end_time": "2021-03-04T08:37:37.568668Z",
     "start_time": "2021-03-04T08:37:35.723744Z"
    }
   },
   "outputs": [
    {
     "name": "stdout",
     "output_type": "stream",
     "text": [
      "peak memory: 5470.07 MiB, increment: 1468.56 MiB\n",
      "[ 0.07762012 -1.94911725  0.77800302 ...  0.29123517  0.9745035\n",
      "  0.8641211 ]\n",
      "Wall time: 1.84 s\n"
     ]
    }
   ],
   "source": [
    "%%time\n",
    "%memit T=A*B; G=T+C; del T\n",
    "print(G)"
   ]
  },
  {
   "cell_type": "code",
   "execution_count": 199,
   "metadata": {
    "ExecuteTime": {
     "end_time": "2021-03-04T08:37:40.855884Z",
     "start_time": "2021-03-04T08:37:39.371734Z"
    }
   },
   "outputs": [
    {
     "name": "stdout",
     "output_type": "stream",
     "text": [
      "peak memory: 4764.45 MiB, increment: 762.94 MiB\n",
      "[ 0.07762012 -1.94911725  0.77800302 ...  0.29123517  0.9745035\n",
      "  0.8641211 ]\n",
      "Wall time: 1.48 s\n"
     ]
    }
   ],
   "source": [
    "%%time\n",
    "%memit T=A*B; T+=C\n",
    "print(T)"
   ]
  },
  {
   "cell_type": "code",
   "execution_count": null,
   "metadata": {},
   "outputs": [],
   "source": [
    "# np.add()경우 배열별 연산을 할 경우 메모리 절약"
   ]
  },
  {
   "cell_type": "code",
   "execution_count": 200,
   "metadata": {
    "ExecuteTime": {
     "end_time": "2021-03-04T08:37:44.533363Z",
     "start_time": "2021-03-04T08:37:43.027374Z"
    }
   },
   "outputs": [
    {
     "name": "stdout",
     "output_type": "stream",
     "text": [
      "peak memory: 5511.93 MiB, increment: 747.47 MiB\n",
      "[ 0.07762012 -1.94911725  0.77800302 ...  0.29123517  0.9745035\n",
      "  0.8641211 ]\n",
      "Wall time: 1.5 s\n"
     ]
    }
   ],
   "source": [
    "%%time\n",
    "%memit T=A*B; np.add(T, C, T)\n",
    "print(T)"
   ]
  },
  {
   "cell_type": "markdown",
   "metadata": {},
   "source": [
    "## 2.8 브로드 캐스팅"
   ]
  },
  {
   "cell_type": "code",
   "execution_count": 201,
   "metadata": {
    "ExecuteTime": {
     "end_time": "2021-03-04T08:43:21.760976Z",
     "start_time": "2021-03-04T08:43:21.754992Z"
    }
   },
   "outputs": [
    {
     "data": {
      "text/plain": [
       "array([11, 12, 13])"
      ]
     },
     "execution_count": 201,
     "metadata": {},
     "output_type": "execute_result"
    }
   ],
   "source": [
    "# 1차원 배열\n",
    "from numpy import array\n",
    "a = array([1,2,3])\n",
    "b = array([10,20,30])\n",
    "np.add(a, 10)"
   ]
  },
  {
   "cell_type": "code",
   "execution_count": 203,
   "metadata": {
    "ExecuteTime": {
     "end_time": "2021-03-04T08:45:20.289418Z",
     "start_time": "2021-03-04T08:45:20.283434Z"
    }
   },
   "outputs": [
    {
     "data": {
      "text/plain": [
       "array([[ 5.,  5.,  5.],\n",
       "       [15., 15., 15.],\n",
       "       [25., 25., 25.],\n",
       "       [35., 35., 35.]])"
      ]
     },
     "execution_count": 203,
     "metadata": {},
     "output_type": "execute_result"
    }
   ],
   "source": [
    "# 2차원 배열 - 두배열의 후미 축(열)의 크기가 동일해야 한다.\n",
    "from numpy import array\n",
    "a = array([[0.,0,0,],\n",
    "          [10.,10,10.],\n",
    "          [20,20,20],\n",
    "           [30,30,30,]])\n",
    "b = array([5,5,5])\n",
    "np.add(a,b)"
   ]
  },
  {
   "cell_type": "code",
   "execution_count": 204,
   "metadata": {
    "ExecuteTime": {
     "end_time": "2021-03-04T08:45:40.623633Z",
     "start_time": "2021-03-04T08:45:40.619639Z"
    }
   },
   "outputs": [
    {
     "data": {
      "text/plain": [
       "array([[  0.,   0.,   0.],\n",
       "       [ 50.,  50.,  50.],\n",
       "       [100., 100., 100.],\n",
       "       [150., 150., 150.]])"
      ]
     },
     "execution_count": 204,
     "metadata": {},
     "output_type": "execute_result"
    }
   ],
   "source": [
    "np.multiply(a,b)"
   ]
  },
  {
   "cell_type": "code",
   "execution_count": 206,
   "metadata": {
    "ExecuteTime": {
     "end_time": "2021-03-04T08:52:13.126671Z",
     "start_time": "2021-03-04T08:52:13.122683Z"
    }
   },
   "outputs": [],
   "source": [
    "from numpy import array, newaxis\n",
    "a = array([0,10,20,30])\n",
    "b = array([1,2,3])"
   ]
  },
  {
   "cell_type": "code",
   "execution_count": 207,
   "metadata": {
    "ExecuteTime": {
     "end_time": "2021-03-04T08:52:14.695308Z",
     "start_time": "2021-03-04T08:52:14.690322Z"
    }
   },
   "outputs": [
    {
     "data": {
      "text/plain": [
       "array([[ 0],\n",
       "       [10],\n",
       "       [20],\n",
       "       [30]])"
      ]
     },
     "execution_count": 207,
     "metadata": {},
     "output_type": "execute_result"
    }
   ],
   "source": [
    "a[:,newaxis] # newaxis 연산자는 배열에 새로운 축을 추가 2차원인 4x1배열"
   ]
  },
  {
   "cell_type": "code",
   "execution_count": 208,
   "metadata": {
    "ExecuteTime": {
     "end_time": "2021-03-04T08:53:21.454275Z",
     "start_time": "2021-03-04T08:53:21.449310Z"
    }
   },
   "outputs": [
    {
     "data": {
      "text/plain": [
       "array([[ 1,  2,  3],\n",
       "       [11, 12, 13],\n",
       "       [21, 22, 23],\n",
       "       [31, 32, 33]])"
      ]
     },
     "execution_count": 208,
     "metadata": {},
     "output_type": "execute_result"
    }
   ],
   "source": [
    "# 4x1 배열, 1x3 배열\n",
    "x = np.add(a[:,newaxis],b)\n",
    "x"
   ]
  },
  {
   "cell_type": "code",
   "execution_count": 209,
   "metadata": {
    "ExecuteTime": {
     "end_time": "2021-03-04T08:54:06.295328Z",
     "start_time": "2021-03-04T08:54:06.290343Z"
    }
   },
   "outputs": [
    {
     "data": {
      "text/plain": [
       "True"
      ]
     },
     "execution_count": 209,
     "metadata": {},
     "output_type": "execute_result"
    }
   ],
   "source": [
    "a[0]+b[1] == x[0,1]\n",
    "a[1]+b[2] == x[1,2]"
   ]
  },
  {
   "cell_type": "markdown",
   "metadata": {},
   "source": [
    "# 3절. 배열 합치기 / 분할하기"
   ]
  },
  {
   "cell_type": "code",
   "execution_count": 210,
   "metadata": {
    "ExecuteTime": {
     "end_time": "2021-03-04T08:56:02.103447Z",
     "start_time": "2021-03-04T08:56:02.097484Z"
    }
   },
   "outputs": [
    {
     "data": {
      "text/plain": [
       "array([ 0,  3,  6,  9, 12, 15, 18, 21, 24, 27])"
      ]
     },
     "execution_count": 210,
     "metadata": {},
     "output_type": "execute_result"
    }
   ],
   "source": [
    "a = np.arange(10) * 3\n",
    "a"
   ]
  },
  {
   "cell_type": "markdown",
   "metadata": {},
   "source": [
    "## 3.1 인덱싱과 슬라이싱"
   ]
  },
  {
   "cell_type": "code",
   "execution_count": 211,
   "metadata": {
    "ExecuteTime": {
     "end_time": "2021-03-04T08:56:52.318703Z",
     "start_time": "2021-03-04T08:56:52.313737Z"
    }
   },
   "outputs": [
    {
     "data": {
      "text/plain": [
       "6"
      ]
     },
     "execution_count": 211,
     "metadata": {},
     "output_type": "execute_result"
    }
   ],
   "source": [
    "# 1) 인덱싱\n",
    "a[2]"
   ]
  },
  {
   "cell_type": "code",
   "execution_count": 212,
   "metadata": {
    "ExecuteTime": {
     "end_time": "2021-03-04T08:56:59.173155Z",
     "start_time": "2021-03-04T08:56:59.169168Z"
    }
   },
   "outputs": [
    {
     "data": {
      "text/plain": [
       "27"
      ]
     },
     "execution_count": 212,
     "metadata": {},
     "output_type": "execute_result"
    }
   ],
   "source": [
    "a[-1]"
   ]
  },
  {
   "cell_type": "code",
   "execution_count": 214,
   "metadata": {
    "ExecuteTime": {
     "end_time": "2021-03-04T08:57:43.662482Z",
     "start_time": "2021-03-04T08:57:43.654503Z"
    }
   },
   "outputs": [
    {
     "ename": "IndexError",
     "evalue": "index 10 is out of bounds for axis 0 with size 10",
     "output_type": "error",
     "traceback": [
      "\u001b[1;31m---------------------------------------------------------------------------\u001b[0m",
      "\u001b[1;31mIndexError\u001b[0m                                Traceback (most recent call last)",
      "\u001b[1;32m<ipython-input-214-5631be1776c6>\u001b[0m in \u001b[0;36m<module>\u001b[1;34m\u001b[0m\n\u001b[1;32m----> 1\u001b[1;33m \u001b[0ma\u001b[0m\u001b[1;33m[\u001b[0m\u001b[1;36m10\u001b[0m\u001b[1;33m]\u001b[0m \u001b[1;31m# 없는 index열 호출로 에러발생\u001b[0m\u001b[1;33m\u001b[0m\u001b[1;33m\u001b[0m\u001b[0m\n\u001b[0m",
      "\u001b[1;31mIndexError\u001b[0m: index 10 is out of bounds for axis 0 with size 10"
     ]
    }
   ],
   "source": [
    "a[10] # 없는 index열 호출로 에러발생"
   ]
  },
  {
   "cell_type": "code",
   "execution_count": 215,
   "metadata": {
    "ExecuteTime": {
     "end_time": "2021-03-04T08:58:27.395271Z",
     "start_time": "2021-03-04T08:58:27.390302Z"
    }
   },
   "outputs": [
    {
     "data": {
      "text/plain": [
       "array([ 6,  9, 12])"
      ]
     },
     "execution_count": 215,
     "metadata": {},
     "output_type": "execute_result"
    }
   ],
   "source": [
    "# 2) 슬라이싱\n",
    "a[2:5] # 2번째 앞까지"
   ]
  },
  {
   "cell_type": "code",
   "execution_count": 216,
   "metadata": {
    "ExecuteTime": {
     "end_time": "2021-03-04T08:59:08.483166Z",
     "start_time": "2021-03-04T08:59:08.479169Z"
    }
   },
   "outputs": [
    {
     "data": {
      "text/plain": [
       "array([ 0,  6, 12, 18, 24])"
      ]
     },
     "execution_count": 216,
     "metadata": {},
     "output_type": "execute_result"
    }
   ],
   "source": [
    "a[0:11:2] # 슬라이싱은 index 값을 벗어난 것도 가능"
   ]
  },
  {
   "cell_type": "code",
   "execution_count": 217,
   "metadata": {
    "ExecuteTime": {
     "end_time": "2021-03-04T08:59:33.978173Z",
     "start_time": "2021-03-04T08:59:33.973218Z"
    }
   },
   "outputs": [
    {
     "data": {
      "text/plain": [
       "array([27, 24, 21, 18, 15, 12,  9,  6,  3,  0])"
      ]
     },
     "execution_count": 217,
     "metadata": {},
     "output_type": "execute_result"
    }
   ],
   "source": [
    "a[::-1] # a 배열을 거꾸로 출력"
   ]
  },
  {
   "cell_type": "code",
   "execution_count": 219,
   "metadata": {
    "ExecuteTime": {
     "end_time": "2021-03-04T09:00:06.965579Z",
     "start_time": "2021-03-04T09:00:06.960613Z"
    }
   },
   "outputs": [
    {
     "data": {
      "text/plain": [
       "array([-99,   3, -99,   9, -99,  15,  18,  21,  24,  27])"
      ]
     },
     "execution_count": 219,
     "metadata": {},
     "output_type": "execute_result"
    }
   ],
   "source": [
    "a[:6:2] = -99\n",
    "a"
   ]
  },
  {
   "cell_type": "markdown",
   "metadata": {},
   "source": [
    "도움말 문서들\n",
    "\n",
    "- 인덱싱 : https://docs.scipy.org/doc/numpy/user/basics.indexing.html\n",
    "- 배열 인덱싱 : https://docs.scipy.org/doc/numpy/reference/arrays.indexing.html\n",
    "- newaxis : https://docs.scipy.org/doc/numpy/reference/constants.html#numpy.newaxis"
   ]
  },
  {
   "cell_type": "markdown",
   "metadata": {},
   "source": [
    "### 3) 다차원 인덱싱 & 슬라이싱"
   ]
  },
  {
   "cell_type": "code",
   "execution_count": 5,
   "metadata": {
    "ExecuteTime": {
     "end_time": "2021-03-05T00:40:50.598159Z",
     "start_time": "2021-03-05T00:40:50.594170Z"
    }
   },
   "outputs": [],
   "source": [
    "def f(x,y):\n",
    "    return 10*x+y"
   ]
  },
  {
   "cell_type": "code",
   "execution_count": 6,
   "metadata": {
    "ExecuteTime": {
     "end_time": "2021-03-05T00:40:52.023022Z",
     "start_time": "2021-03-05T00:40:52.018054Z"
    }
   },
   "outputs": [
    {
     "data": {
      "text/plain": [
       "23"
      ]
     },
     "execution_count": 6,
     "metadata": {},
     "output_type": "execute_result"
    }
   ],
   "source": [
    "f(2,3)"
   ]
  },
  {
   "cell_type": "code",
   "execution_count": 8,
   "metadata": {
    "ExecuteTime": {
     "end_time": "2021-03-05T00:43:24.884344Z",
     "start_time": "2021-03-05T00:43:24.874378Z"
    }
   },
   "outputs": [
    {
     "data": {
      "text/plain": [
       "array([[ 0,  1,  2,  3],\n",
       "       [10, 11, 12, 13],\n",
       "       [20, 21, 22, 23],\n",
       "       [30, 31, 32, 33],\n",
       "       [40, 41, 42, 43]], dtype=int16)"
      ]
     },
     "execution_count": 8,
     "metadata": {},
     "output_type": "execute_result"
    }
   ],
   "source": [
    "import numpy as np\n",
    "# 5행 4열짜리 1차원 넘파이 배열 int16dtype으로 만든다.(그 안의 데이터는 f 함수에 의해서)\n",
    "a = np.fromfunction(f,(5,4), dtype = np.int16) \n",
    "a"
   ]
  },
  {
   "cell_type": "code",
   "execution_count": 9,
   "metadata": {
    "ExecuteTime": {
     "end_time": "2021-03-05T00:44:55.968104Z",
     "start_time": "2021-03-05T00:44:55.962137Z"
    }
   },
   "outputs": [
    {
     "data": {
      "text/plain": [
       "array([[ 0,  1,  2,  3],\n",
       "       [10, 11, 12, 13],\n",
       "       [20, 21, 22, 23],\n",
       "       [30, 31, 32, 33],\n",
       "       [40, 41, 42, 43]])"
      ]
     },
     "execution_count": 9,
     "metadata": {},
     "output_type": "execute_result"
    }
   ],
   "source": [
    "a = np.fromfunction(lambda x,y : 10*x+y, (5,4), dtype=int)\n",
    "a"
   ]
  },
  {
   "cell_type": "code",
   "execution_count": 11,
   "metadata": {
    "ExecuteTime": {
     "end_time": "2021-03-05T00:45:56.391271Z",
     "start_time": "2021-03-05T00:45:56.386289Z"
    }
   },
   "outputs": [
    {
     "data": {
      "text/plain": [
       "33"
      ]
     },
     "execution_count": 11,
     "metadata": {},
     "output_type": "execute_result"
    }
   ],
   "source": [
    "a[-2,-1] # 인덱스는 음수 가능, 음수 인덱스는 마지막부터 n번째"
   ]
  },
  {
   "cell_type": "code",
   "execution_count": 12,
   "metadata": {
    "ExecuteTime": {
     "end_time": "2021-03-05T00:47:45.458471Z",
     "start_time": "2021-03-05T00:47:45.447521Z"
    }
   },
   "outputs": [
    {
     "ename": "IndexError",
     "evalue": "index 5 is out of bounds for axis 0 with size 5",
     "output_type": "error",
     "traceback": [
      "\u001b[1;31m---------------------------------------------------------------------------\u001b[0m",
      "\u001b[1;31mIndexError\u001b[0m                                Traceback (most recent call last)",
      "\u001b[1;32m<ipython-input-12-1490f42caff6>\u001b[0m in \u001b[0;36m<module>\u001b[1;34m\u001b[0m\n\u001b[1;32m----> 1\u001b[1;33m \u001b[0ma\u001b[0m\u001b[1;33m[\u001b[0m\u001b[1;36m5\u001b[0m\u001b[1;33m,\u001b[0m\u001b[1;36m0\u001b[0m\u001b[1;33m]\u001b[0m \u001b[1;31m# 벗어난 인덱스를 인덱싱하면 에러\u001b[0m\u001b[1;33m\u001b[0m\u001b[1;33m\u001b[0m\u001b[0m\n\u001b[0m",
      "\u001b[1;31mIndexError\u001b[0m: index 5 is out of bounds for axis 0 with size 5"
     ]
    }
   ],
   "source": [
    "a[5,0] # 벗어난 인덱스를 인덱싱하면 에러"
   ]
  },
  {
   "cell_type": "code",
   "execution_count": 13,
   "metadata": {
    "ExecuteTime": {
     "end_time": "2021-03-05T00:48:26.464111Z",
     "start_time": "2021-03-05T00:48:26.459275Z"
    }
   },
   "outputs": [
    {
     "data": {
      "text/plain": [
       "array([ 3, 13, 23, 33, 43])"
      ]
     },
     "execution_count": 13,
     "metadata": {},
     "output_type": "execute_result"
    }
   ],
   "source": [
    "a[0:5, -1] # 마지막 열만 출력(0행부터 9행까지)"
   ]
  },
  {
   "cell_type": "code",
   "execution_count": 14,
   "metadata": {
    "ExecuteTime": {
     "end_time": "2021-03-05T00:52:16.150176Z",
     "start_time": "2021-03-05T00:52:16.145213Z"
    }
   },
   "outputs": [
    {
     "data": {
      "text/plain": [
       "array([[10, 11],\n",
       "       [20, 21],\n",
       "       [30, 31]])"
      ]
     },
     "execution_count": 14,
     "metadata": {},
     "output_type": "execute_result"
    }
   ],
   "source": [
    "a[1:4, 0:2] # 1~3행까지, 0~1열"
   ]
  },
  {
   "cell_type": "code",
   "execution_count": 16,
   "metadata": {
    "ExecuteTime": {
     "end_time": "2021-03-05T00:53:01.620326Z",
     "start_time": "2021-03-05T00:53:01.615339Z"
    }
   },
   "outputs": [
    {
     "data": {
      "text/plain": [
       "array([[10, 11, 12, 13],\n",
       "       [20, 21, 22, 23],\n",
       "       [30, 31, 32, 33]])"
      ]
     },
     "execution_count": 16,
     "metadata": {},
     "output_type": "execute_result"
    }
   ],
   "source": [
    "a[1:4, :] # 1~3행 모든 열"
   ]
  },
  {
   "cell_type": "code",
   "execution_count": 17,
   "metadata": {
    "ExecuteTime": {
     "end_time": "2021-03-05T00:53:24.479166Z",
     "start_time": "2021-03-05T00:53:24.474188Z"
    }
   },
   "outputs": [
    {
     "data": {
      "text/plain": [
       "array([[10, 11, 12, 13],\n",
       "       [20, 21, 22, 23],\n",
       "       [30, 31, 32, 33]])"
      ]
     },
     "execution_count": 17,
     "metadata": {},
     "output_type": "execute_result"
    }
   ],
   "source": [
    "a[1:4,] # 1~3행 모든 열"
   ]
  },
  {
   "cell_type": "code",
   "execution_count": 18,
   "metadata": {
    "ExecuteTime": {
     "end_time": "2021-03-05T00:53:45.840161Z",
     "start_time": "2021-03-05T00:53:45.834198Z"
    }
   },
   "outputs": [
    {
     "data": {
      "text/plain": [
       "array([[10, 11, 12, 13],\n",
       "       [20, 21, 22, 23],\n",
       "       [30, 31, 32, 33]])"
      ]
     },
     "execution_count": 18,
     "metadata": {},
     "output_type": "execute_result"
    }
   ],
   "source": [
    "a[1:4,...] # ... : 누락 된 인덱스는 모든 항목을 선택함"
   ]
  },
  {
   "cell_type": "code",
   "execution_count": 20,
   "metadata": {
    "ExecuteTime": {
     "end_time": "2021-03-05T00:56:57.320052Z",
     "start_time": "2021-03-05T00:56:57.315066Z"
    }
   },
   "outputs": [
    {
     "data": {
      "text/plain": [
       "array([[10, 11, 12, 13],\n",
       "       [20, 21, 22, 23],\n",
       "       [30, 31, 32, 33]])"
      ]
     },
     "execution_count": 20,
     "metadata": {},
     "output_type": "execute_result"
    }
   ],
   "source": [
    "a[1:4] # 1~3행 모든 열(마지막 축(열) 생략가능)"
   ]
  },
  {
   "cell_type": "code",
   "execution_count": 23,
   "metadata": {
    "ExecuteTime": {
     "end_time": "2021-03-05T00:59:50.980578Z",
     "start_time": "2021-03-05T00:59:50.975592Z"
    }
   },
   "outputs": [
    {
     "data": {
      "text/plain": [
       "array([[ 3,  2],\n",
       "       [13, 12],\n",
       "       [23, 22],\n",
       "       [33, 32],\n",
       "       [43, 42]])"
      ]
     },
     "execution_count": 23,
     "metadata": {},
     "output_type": "execute_result"
    }
   ],
   "source": [
    "a[:,-1:-3:-1] # 모든 행의 마지막 열, 마지막 전 열"
   ]
  },
  {
   "cell_type": "code",
   "execution_count": 25,
   "metadata": {
    "ExecuteTime": {
     "end_time": "2021-03-05T01:01:12.152423Z",
     "start_time": "2021-03-05T01:01:12.146459Z"
    }
   },
   "outputs": [
    {
     "data": {
      "text/plain": [
       "array([[ 3,  2],\n",
       "       [13, 12],\n",
       "       [23, 22],\n",
       "       [33, 32],\n",
       "       [43, 42]])"
      ]
     },
     "execution_count": 25,
     "metadata": {},
     "output_type": "execute_result"
    }
   ],
   "source": [
    "a[...,-1:-3:-1] # 모든 행의 마지막 열, 마지막 전 열"
   ]
  },
  {
   "cell_type": "code",
   "execution_count": 26,
   "metadata": {
    "ExecuteTime": {
     "end_time": "2021-03-05T01:02:53.776161Z",
     "start_time": "2021-03-05T01:02:53.770178Z"
    }
   },
   "outputs": [
    {
     "data": {
      "text/plain": [
       "array([[[ 0,  1,  2,  3],\n",
       "        [ 4,  5,  6,  7],\n",
       "        [ 8,  9, 10, 11]],\n",
       "\n",
       "       [[12, 13, 14, 15],\n",
       "        [16, 17, 18, 19],\n",
       "        [20, 21, 22, 23]]])"
      ]
     },
     "execution_count": 26,
     "metadata": {},
     "output_type": "execute_result"
    }
   ],
   "source": [
    "b = np.arange(24).reshape(2,3,4)\n",
    "b"
   ]
  },
  {
   "cell_type": "code",
   "execution_count": 27,
   "metadata": {
    "ExecuteTime": {
     "end_time": "2021-03-05T01:03:16.062929Z",
     "start_time": "2021-03-05T01:03:16.057942Z"
    }
   },
   "outputs": [
    {
     "data": {
      "text/plain": [
       "12"
      ]
     },
     "execution_count": 27,
     "metadata": {},
     "output_type": "execute_result"
    }
   ],
   "source": [
    "b[1,0,0]"
   ]
  },
  {
   "cell_type": "code",
   "execution_count": null,
   "metadata": {},
   "outputs": [],
   "source": [
    "# 1면 모두 출력"
   ]
  },
  {
   "cell_type": "code",
   "execution_count": 28,
   "metadata": {
    "ExecuteTime": {
     "end_time": "2021-03-05T01:04:50.256156Z",
     "start_time": "2021-03-05T01:04:50.251157Z"
    }
   },
   "outputs": [
    {
     "data": {
      "text/plain": [
       "array([[12, 13, 14, 15],\n",
       "       [16, 17, 18, 19],\n",
       "       [20, 21, 22, 23]])"
      ]
     },
     "execution_count": 28,
     "metadata": {},
     "output_type": "execute_result"
    }
   ],
   "source": [
    "b[1,:,:]"
   ]
  },
  {
   "cell_type": "code",
   "execution_count": 29,
   "metadata": {
    "ExecuteTime": {
     "end_time": "2021-03-05T01:05:16.182952Z",
     "start_time": "2021-03-05T01:05:16.177966Z"
    }
   },
   "outputs": [
    {
     "data": {
      "text/plain": [
       "array([[12, 13, 14, 15],\n",
       "       [16, 17, 18, 19],\n",
       "       [20, 21, 22, 23]])"
      ]
     },
     "execution_count": 29,
     "metadata": {},
     "output_type": "execute_result"
    }
   ],
   "source": [
    "b[1] # 첫번째 축만 쓸 경우"
   ]
  },
  {
   "cell_type": "code",
   "execution_count": null,
   "metadata": {},
   "outputs": [],
   "source": [
    "#1행 모두 출력"
   ]
  },
  {
   "cell_type": "code",
   "execution_count": 30,
   "metadata": {
    "ExecuteTime": {
     "end_time": "2021-03-05T01:06:44.815782Z",
     "start_time": "2021-03-05T01:06:44.810784Z"
    }
   },
   "outputs": [
    {
     "data": {
      "text/plain": [
       "array([[ 4,  5,  6,  7],\n",
       "       [16, 17, 18, 19]])"
      ]
     },
     "execution_count": 30,
     "metadata": {},
     "output_type": "execute_result"
    }
   ],
   "source": [
    "b[:, 1, :]"
   ]
  },
  {
   "cell_type": "code",
   "execution_count": 31,
   "metadata": {
    "ExecuteTime": {
     "end_time": "2021-03-05T01:07:44.198948Z",
     "start_time": "2021-03-05T01:07:44.193981Z"
    }
   },
   "outputs": [
    {
     "data": {
      "text/plain": [
       "array([[ 4,  5,  6,  7],\n",
       "       [16, 17, 18, 19]])"
      ]
     },
     "execution_count": 31,
     "metadata": {},
     "output_type": "execute_result"
    }
   ],
   "source": [
    "b[:,1,...]"
   ]
  },
  {
   "cell_type": "code",
   "execution_count": 32,
   "metadata": {
    "ExecuteTime": {
     "end_time": "2021-03-05T01:07:58.126929Z",
     "start_time": "2021-03-05T01:07:58.121942Z"
    }
   },
   "outputs": [
    {
     "data": {
      "text/plain": [
       "array([[ 4,  5,  6,  7],\n",
       "       [16, 17, 18, 19]])"
      ]
     },
     "execution_count": 32,
     "metadata": {},
     "output_type": "execute_result"
    }
   ],
   "source": [
    "b[:,1]"
   ]
  },
  {
   "cell_type": "code",
   "execution_count": null,
   "metadata": {},
   "outputs": [],
   "source": [
    "# 1열들 모두 출력"
   ]
  },
  {
   "cell_type": "code",
   "execution_count": 33,
   "metadata": {
    "ExecuteTime": {
     "end_time": "2021-03-05T01:08:10.911313Z",
     "start_time": "2021-03-05T01:08:10.906326Z"
    }
   },
   "outputs": [
    {
     "data": {
      "text/plain": [
       "array([[ 1,  5,  9],\n",
       "       [13, 17, 21]])"
      ]
     },
     "execution_count": 33,
     "metadata": {},
     "output_type": "execute_result"
    }
   ],
   "source": [
    "b[:,:,1]"
   ]
  },
  {
   "cell_type": "code",
   "execution_count": 34,
   "metadata": {
    "ExecuteTime": {
     "end_time": "2021-03-05T01:08:46.606946Z",
     "start_time": "2021-03-05T01:08:46.601961Z"
    }
   },
   "outputs": [
    {
     "data": {
      "text/plain": [
       "array([[ 1,  5,  9],\n",
       "       [13, 17, 21]])"
      ]
     },
     "execution_count": 34,
     "metadata": {},
     "output_type": "execute_result"
    }
   ],
   "source": [
    "b[...,1]"
   ]
  },
  {
   "cell_type": "code",
   "execution_count": 35,
   "metadata": {
    "ExecuteTime": {
     "end_time": "2021-03-05T01:09:43.039016Z",
     "start_time": "2021-03-05T01:09:43.035015Z"
    }
   },
   "outputs": [
    {
     "data": {
      "text/plain": [
       "array([[[ 0,  1,  2,  3],\n",
       "        [ 4,  5,  6,  7],\n",
       "        [ 8,  9, 10, 11]],\n",
       "\n",
       "       [[12, 13, 14, 15],\n",
       "        [16, 17, 18, 19],\n",
       "        [20, 21, 22, 23]]])"
      ]
     },
     "execution_count": 35,
     "metadata": {},
     "output_type": "execute_result"
    }
   ],
   "source": [
    "b"
   ]
  },
  {
   "cell_type": "code",
   "execution_count": 36,
   "metadata": {
    "ExecuteTime": {
     "end_time": "2021-03-05T01:12:25.512370Z",
     "start_time": "2021-03-05T01:12:25.506829Z"
    }
   },
   "outputs": [
    {
     "name": "stdout",
     "output_type": "stream",
     "text": [
      "0면 0행 0열 : 0\t0면 0행 1열 : 1\t0면 0행 2열 : 2\t0면 0행 3열 : 3\t\n",
      "0면 1행 0열 : 4\t0면 1행 1열 : 5\t0면 1행 2열 : 6\t0면 1행 3열 : 7\t\n",
      "0면 2행 0열 : 8\t0면 2행 1열 : 9\t0면 2행 2열 : 10\t0면 2행 3열 : 11\t\n",
      "\n",
      "1면 0행 0열 : 12\t1면 0행 1열 : 13\t1면 0행 2열 : 14\t1면 0행 3열 : 15\t\n",
      "1면 1행 0열 : 16\t1면 1행 1열 : 17\t1면 1행 2열 : 18\t1면 1행 3열 : 19\t\n",
      "1면 2행 0열 : 20\t1면 2행 1열 : 21\t1면 2행 2열 : 22\t1면 2행 3열 : 23\t\n",
      "\n"
     ]
    }
   ],
   "source": [
    "for i, data in enumerate(b):\n",
    "    for j, row in enumerate(data):\n",
    "        for k, item in enumerate(row):\n",
    "            print(\"{}면 {}행 {}열 : {}\".format(i, j, k, item), end='\\t')\n",
    "        print()\n",
    "    print()"
   ]
  },
  {
   "cell_type": "code",
   "execution_count": 38,
   "metadata": {
    "ExecuteTime": {
     "end_time": "2021-03-05T01:13:28.343201Z",
     "start_time": "2021-03-05T01:13:28.339234Z"
    }
   },
   "outputs": [
    {
     "name": "stdout",
     "output_type": "stream",
     "text": [
      "0 1 2 3 4 5 6 7 8 9 10 11 12 13 14 15 16 17 18 19 20 21 22 23 "
     ]
    }
   ],
   "source": [
    "for i, data in enumerate(b):\n",
    "    for j, row in enumerate(data):\n",
    "        for k, item in enumerate(row):\n",
    "            print(item, end=' ')"
   ]
  },
  {
   "cell_type": "code",
   "execution_count": 40,
   "metadata": {
    "ExecuteTime": {
     "end_time": "2021-03-05T01:15:57.742840Z",
     "start_time": "2021-03-05T01:15:57.738873Z"
    }
   },
   "outputs": [
    {
     "name": "stdout",
     "output_type": "stream",
     "text": [
      "0 1 2 3 4 5 6 7 8 9 10 11 12 13 14 15 16 17 18 19 20 21 22 23 "
     ]
    }
   ],
   "source": [
    "for item in b.flat:\n",
    "    print(item, end=' ')"
   ]
  },
  {
   "cell_type": "markdown",
   "metadata": {},
   "source": [
    "## 3.2 두 배열 쌓아 합치기\n",
    "- vstack(tuple) : 아래로 추가하는 방식으로 쌓아서 합친다.\n",
    "- hstack(tuple) : 옆으로 추가하는 방식으로 쌓아서 합친다.\n",
    "- dstack(tuple) : 마지막 축(열)을 추가하여 쌓아서 합친다."
   ]
  },
  {
   "cell_type": "code",
   "execution_count": 41,
   "metadata": {
    "ExecuteTime": {
     "end_time": "2021-03-05T01:34:33.703408Z",
     "start_time": "2021-03-05T01:34:33.698455Z"
    }
   },
   "outputs": [
    {
     "data": {
      "text/plain": [
       "array([[[ 0,  1,  2,  3],\n",
       "        [ 4,  5,  6,  7],\n",
       "        [ 8,  9, 10, 11]],\n",
       "\n",
       "       [[12, 13, 14, 15],\n",
       "        [16, 17, 18, 19],\n",
       "        [20, 21, 22, 23]]])"
      ]
     },
     "execution_count": 41,
     "metadata": {},
     "output_type": "execute_result"
    }
   ],
   "source": [
    "c = np.arange(24).reshape(2,3,4)\n",
    "c"
   ]
  },
  {
   "cell_type": "code",
   "execution_count": 43,
   "metadata": {
    "ExecuteTime": {
     "end_time": "2021-03-05T01:35:11.870785Z",
     "start_time": "2021-03-05T01:35:11.865787Z"
    }
   },
   "outputs": [
    {
     "data": {
      "text/plain": [
       "(array([[ 0,  1,  2,  3],\n",
       "        [ 4,  5,  6,  7],\n",
       "        [ 8,  9, 10, 11]]),\n",
       " array([[12, 13, 14, 15],\n",
       "        [16, 17, 18, 19],\n",
       "        [20, 21, 22, 23]]))"
      ]
     },
     "execution_count": 43,
     "metadata": {},
     "output_type": "execute_result"
    }
   ],
   "source": [
    "a,b = c[0], c[1]\n",
    "a,b"
   ]
  },
  {
   "cell_type": "code",
   "execution_count": 44,
   "metadata": {
    "ExecuteTime": {
     "end_time": "2021-03-05T01:36:29.510792Z",
     "start_time": "2021-03-05T01:36:29.505805Z"
    }
   },
   "outputs": [
    {
     "data": {
      "text/plain": [
       "array([[ 0,  1,  2,  3],\n",
       "       [ 4,  5,  6,  7],\n",
       "       [ 8,  9, 10, 11],\n",
       "       [12, 13, 14, 15],\n",
       "       [16, 17, 18, 19],\n",
       "       [20, 21, 22, 23]])"
      ]
     },
     "execution_count": 44,
     "metadata": {},
     "output_type": "execute_result"
    }
   ],
   "source": [
    "np.vstack((a,b))"
   ]
  },
  {
   "cell_type": "code",
   "execution_count": 45,
   "metadata": {
    "ExecuteTime": {
     "end_time": "2021-03-05T01:36:58.718979Z",
     "start_time": "2021-03-05T01:36:58.714013Z"
    }
   },
   "outputs": [
    {
     "data": {
      "text/plain": [
       "array([[ 0,  1,  2,  3, 12, 13, 14, 15],\n",
       "       [ 4,  5,  6,  7, 16, 17, 18, 19],\n",
       "       [ 8,  9, 10, 11, 20, 21, 22, 23]])"
      ]
     },
     "execution_count": 45,
     "metadata": {},
     "output_type": "execute_result"
    }
   ],
   "source": [
    "np.hstack((a,b))"
   ]
  },
  {
   "cell_type": "code",
   "execution_count": 46,
   "metadata": {
    "ExecuteTime": {
     "end_time": "2021-03-05T01:37:14.582969Z",
     "start_time": "2021-03-05T01:37:14.578003Z"
    }
   },
   "outputs": [
    {
     "data": {
      "text/plain": [
       "array([[[ 0, 12],\n",
       "        [ 1, 13],\n",
       "        [ 2, 14],\n",
       "        [ 3, 15]],\n",
       "\n",
       "       [[ 4, 16],\n",
       "        [ 5, 17],\n",
       "        [ 6, 18],\n",
       "        [ 7, 19]],\n",
       "\n",
       "       [[ 8, 20],\n",
       "        [ 9, 21],\n",
       "        [10, 22],\n",
       "        [11, 23]]])"
      ]
     },
     "execution_count": 46,
     "metadata": {},
     "output_type": "execute_result"
    }
   ],
   "source": [
    "np.dstack((a,b))"
   ]
  },
  {
   "cell_type": "markdown",
   "metadata": {},
   "source": [
    "* column_stack() : 1차원 배열을 열단위로 배열하여 2차원 배열로 만든다"
   ]
  },
  {
   "cell_type": "code",
   "execution_count": 47,
   "metadata": {
    "ExecuteTime": {
     "end_time": "2021-03-05T01:41:58.979133Z",
     "start_time": "2021-03-05T01:41:58.973170Z"
    }
   },
   "outputs": [
    {
     "data": {
      "text/plain": [
       "array([[ 1,  5,  9],\n",
       "       [ 2,  6, 10],\n",
       "       [ 3,  7, 11],\n",
       "       [ 4,  8, 12]])"
      ]
     },
     "execution_count": 47,
     "metadata": {},
     "output_type": "execute_result"
    }
   ],
   "source": [
    "a = np.array((1,2,3,4))\n",
    "b = np.array((5,6,7,8))\n",
    "c = np.array((9,10,11,12))\n",
    "np.column_stack((a,b,c))"
   ]
  },
  {
   "cell_type": "code",
   "execution_count": 48,
   "metadata": {
    "ExecuteTime": {
     "end_time": "2021-03-05T01:46:33.802815Z",
     "start_time": "2021-03-05T01:46:33.797852Z"
    }
   },
   "outputs": [
    {
     "data": {
      "text/plain": [
       "array([[1],\n",
       "       [2],\n",
       "       [3],\n",
       "       [4]])"
      ]
     },
     "execution_count": 48,
     "metadata": {},
     "output_type": "execute_result"
    }
   ],
   "source": [
    "a[:,np.newaxis]"
   ]
  },
  {
   "cell_type": "code",
   "execution_count": 49,
   "metadata": {
    "ExecuteTime": {
     "end_time": "2021-03-05T01:48:19.032135Z",
     "start_time": "2021-03-05T01:48:19.027169Z"
    }
   },
   "outputs": [
    {
     "data": {
      "text/plain": [
       "array([[ 1,  5,  9],\n",
       "       [ 2,  6, 10],\n",
       "       [ 3,  7, 11],\n",
       "       [ 4,  8, 12]])"
      ]
     },
     "execution_count": 49,
     "metadata": {},
     "output_type": "execute_result"
    }
   ],
   "source": [
    "np.hstack((a[:,np.newaxis], b[:,np.newaxis], c[:,np.newaxis]))"
   ]
  },
  {
   "cell_type": "code",
   "execution_count": 50,
   "metadata": {
    "ExecuteTime": {
     "end_time": "2021-03-05T01:48:32.695027Z",
     "start_time": "2021-03-05T01:48:32.690041Z"
    }
   },
   "outputs": [
    {
     "data": {
      "text/plain": [
       "array([[ 1,  5,  9],\n",
       "       [ 2,  6, 10],\n",
       "       [ 3,  7, 11],\n",
       "       [ 4,  8, 12]])"
      ]
     },
     "execution_count": 50,
     "metadata": {},
     "output_type": "execute_result"
    }
   ],
   "source": [
    "np.column_stack((a,b,c))"
   ]
  },
  {
   "cell_type": "markdown",
   "metadata": {},
   "source": [
    "* low_stack() : vstack()과 같음, 행단위로 쌓아줌"
   ]
  },
  {
   "cell_type": "code",
   "execution_count": 51,
   "metadata": {
    "ExecuteTime": {
     "end_time": "2021-03-05T01:50:19.350863Z",
     "start_time": "2021-03-05T01:50:19.345875Z"
    }
   },
   "outputs": [
    {
     "data": {
      "text/plain": [
       "array([[ 1,  2,  3,  4],\n",
       "       [ 5,  6,  7,  8],\n",
       "       [ 9, 10, 11, 12]])"
      ]
     },
     "execution_count": 51,
     "metadata": {},
     "output_type": "execute_result"
    }
   ],
   "source": [
    "np.row_stack((a,b,c))"
   ]
  },
  {
   "cell_type": "code",
   "execution_count": 52,
   "metadata": {
    "ExecuteTime": {
     "end_time": "2021-03-05T01:50:38.014895Z",
     "start_time": "2021-03-05T01:50:38.009908Z"
    }
   },
   "outputs": [
    {
     "data": {
      "text/plain": [
       "array([[ 1,  2,  3,  4],\n",
       "       [ 5,  6,  7,  8],\n",
       "       [ 9, 10, 11, 12]])"
      ]
     },
     "execution_count": 52,
     "metadata": {},
     "output_type": "execute_result"
    }
   ],
   "source": [
    "np.vstack((a,b,c))"
   ]
  },
  {
   "cell_type": "markdown",
   "metadata": {},
   "source": [
    "* stack(ary_tup, axis=0) : 축속성(axis) 속성에 따라 넘파이 배열을 합친다.\n",
    "- ary_tup : 합칠 배열의 모음\n",
    "- axis = 0 이면 첫번째 배열, axis = 1 이면 마지막 배열"
   ]
  },
  {
   "cell_type": "code",
   "execution_count": 53,
   "metadata": {
    "ExecuteTime": {
     "end_time": "2021-03-05T01:55:58.503176Z",
     "start_time": "2021-03-05T01:55:58.498216Z"
    }
   },
   "outputs": [
    {
     "data": {
      "text/plain": [
       "array([[ 0,  1,  2,  3],\n",
       "       [ 4,  5,  6,  7],\n",
       "       [ 8,  9, 10, 11]])"
      ]
     },
     "execution_count": 53,
     "metadata": {},
     "output_type": "execute_result"
    }
   ],
   "source": [
    "a = np.arange(12).reshape(3,4)\n",
    "a"
   ]
  },
  {
   "cell_type": "code",
   "execution_count": 54,
   "metadata": {
    "ExecuteTime": {
     "end_time": "2021-03-05T01:56:44.760778Z",
     "start_time": "2021-03-05T01:56:44.745201Z"
    }
   },
   "outputs": [
    {
     "data": {
      "text/plain": [
       "array([[12, 13, 14, 15],\n",
       "       [16, 17, 18, 19],\n",
       "       [20, 21, 22, 23]])"
      ]
     },
     "execution_count": 54,
     "metadata": {},
     "output_type": "execute_result"
    }
   ],
   "source": [
    "b = np.arange(12,24).reshape(3,4)\n",
    "b"
   ]
  },
  {
   "cell_type": "code",
   "execution_count": 55,
   "metadata": {
    "ExecuteTime": {
     "end_time": "2021-03-05T01:57:37.807424Z",
     "start_time": "2021-03-05T01:57:37.801440Z"
    }
   },
   "outputs": [
    {
     "data": {
      "text/plain": [
       "array([[[ 0,  1,  2,  3],\n",
       "        [ 4,  5,  6,  7],\n",
       "        [ 8,  9, 10, 11]],\n",
       "\n",
       "       [[12, 13, 14, 15],\n",
       "        [16, 17, 18, 19],\n",
       "        [20, 21, 22, 23]]])"
      ]
     },
     "execution_count": 55,
     "metadata": {},
     "output_type": "execute_result"
    }
   ],
   "source": [
    "np.stack((a,b),axis=0) # a와 b를 타원이 다르게 합친다. 면으로 합침"
   ]
  },
  {
   "cell_type": "code",
   "execution_count": 56,
   "metadata": {
    "ExecuteTime": {
     "end_time": "2021-03-05T01:59:11.910813Z",
     "start_time": "2021-03-05T01:59:11.905849Z"
    }
   },
   "outputs": [
    {
     "data": {
      "text/plain": [
       "array([[[ 0,  1,  2,  3],\n",
       "        [12, 13, 14, 15]],\n",
       "\n",
       "       [[ 4,  5,  6,  7],\n",
       "        [16, 17, 18, 19]],\n",
       "\n",
       "       [[ 8,  9, 10, 11],\n",
       "        [20, 21, 22, 23]]])"
      ]
     },
     "execution_count": 56,
     "metadata": {},
     "output_type": "execute_result"
    }
   ],
   "source": [
    "np.stack((a,b), axis=1) # 행끼리 합친다."
   ]
  },
  {
   "cell_type": "code",
   "execution_count": 57,
   "metadata": {
    "ExecuteTime": {
     "end_time": "2021-03-05T02:00:03.999280Z",
     "start_time": "2021-03-05T02:00:03.994293Z"
    }
   },
   "outputs": [
    {
     "data": {
      "text/plain": [
       "array([[[ 0, 12],\n",
       "        [ 1, 13],\n",
       "        [ 2, 14],\n",
       "        [ 3, 15]],\n",
       "\n",
       "       [[ 4, 16],\n",
       "        [ 5, 17],\n",
       "        [ 6, 18],\n",
       "        [ 7, 19]],\n",
       "\n",
       "       [[ 8, 20],\n",
       "        [ 9, 21],\n",
       "        [10, 22],\n",
       "        [11, 23]]])"
      ]
     },
     "execution_count": 57,
     "metadata": {},
     "output_type": "execute_result"
    }
   ],
   "source": [
    "np.stack((a,b), axis=2) # 행들을 열끼리 합친다."
   ]
  },
  {
   "cell_type": "code",
   "execution_count": 58,
   "metadata": {
    "ExecuteTime": {
     "end_time": "2021-03-05T02:00:52.855351Z",
     "start_time": "2021-03-05T02:00:52.849367Z"
    }
   },
   "outputs": [
    {
     "data": {
      "text/plain": [
       "array([[[ 0, 12],\n",
       "        [ 1, 13],\n",
       "        [ 2, 14],\n",
       "        [ 3, 15]],\n",
       "\n",
       "       [[ 4, 16],\n",
       "        [ 5, 17],\n",
       "        [ 6, 18],\n",
       "        [ 7, 19]],\n",
       "\n",
       "       [[ 8, 20],\n",
       "        [ 9, 21],\n",
       "        [10, 22],\n",
       "        [11, 23]]])"
      ]
     },
     "execution_count": 58,
     "metadata": {},
     "output_type": "execute_result"
    }
   ],
   "source": [
    "np.stack((a,b), axis=-1) # 마지막 차원으로 합친다."
   ]
  },
  {
   "cell_type": "markdown",
   "metadata": {},
   "source": [
    "## 3.3 r_[ ], c_[ ] 함수"
   ]
  },
  {
   "cell_type": "code",
   "execution_count": 63,
   "metadata": {
    "ExecuteTime": {
     "end_time": "2021-03-05T02:05:01.636911Z",
     "start_time": "2021-03-05T02:05:01.632922Z"
    }
   },
   "outputs": [],
   "source": [
    "a = np.array((1,2,3,4))\n",
    "b = np.array((5,6,7,8))\n",
    "c = np.array((9,10,11,12))"
   ]
  },
  {
   "cell_type": "code",
   "execution_count": 64,
   "metadata": {
    "ExecuteTime": {
     "end_time": "2021-03-05T02:05:03.302322Z",
     "start_time": "2021-03-05T02:05:03.297336Z"
    }
   },
   "outputs": [
    {
     "data": {
      "text/plain": [
       "array([ 1,  2,  3,  4,  5,  6,  7,  8,  9, 10, 11, 12])"
      ]
     },
     "execution_count": 64,
     "metadata": {},
     "output_type": "execute_result"
    }
   ],
   "source": [
    "np.r_[a,b,c]"
   ]
  },
  {
   "cell_type": "code",
   "execution_count": 65,
   "metadata": {
    "ExecuteTime": {
     "end_time": "2021-03-05T02:06:07.350393Z",
     "start_time": "2021-03-05T02:06:07.345430Z"
    }
   },
   "outputs": [
    {
     "data": {
      "text/plain": [
       "array([[ 1,  2,  3,  4],\n",
       "       [ 5,  6,  7,  8],\n",
       "       [ 9, 10, 11, 12]])"
      ]
     },
     "execution_count": 65,
     "metadata": {},
     "output_type": "execute_result"
    }
   ],
   "source": [
    "np.r_[[a],[b],[c]]"
   ]
  },
  {
   "cell_type": "code",
   "execution_count": 67,
   "metadata": {
    "ExecuteTime": {
     "end_time": "2021-03-05T02:06:39.518680Z",
     "start_time": "2021-03-05T02:06:39.513693Z"
    }
   },
   "outputs": [
    {
     "data": {
      "text/plain": [
       "array([[ 1,  5,  9],\n",
       "       [ 2,  6, 10],\n",
       "       [ 3,  7, 11],\n",
       "       [ 4,  8, 12]])"
      ]
     },
     "execution_count": 67,
     "metadata": {},
     "output_type": "execute_result"
    }
   ],
   "source": [
    "np.c_[a,b,c]"
   ]
  },
  {
   "cell_type": "markdown",
   "metadata": {},
   "source": [
    "## 3.4 하나의 배열을 여러개 작은 배열로 분할하기\n",
    "- hsplit(ary, indices_or_sections) : 두번째 축 (2차원일 경우 세로축)을 따라 분할\n",
    "- vsplit(ary, indices_or_sections) : 첫번째 축 (2차원일 경우 가로축)을 따라 분할\n",
    "- dsplit(ary, indices_or_sections) : 3차원 배열을 나눔\n",
    "- ary : 분할배열\n",
    "- indices_or_sections : 정수 또는 1차원 배열 형식 -> 정수의 경우 분할할 배열의 수, [2,5,7]의 경우 분할 되어질 인덱스를 의미"
   ]
  },
  {
   "cell_type": "code",
   "execution_count": 68,
   "metadata": {
    "ExecuteTime": {
     "end_time": "2021-03-05T02:13:33.961901Z",
     "start_time": "2021-03-05T02:13:33.956940Z"
    }
   },
   "outputs": [
    {
     "data": {
      "text/plain": [
       "array([[ 0,  1,  2,  3],\n",
       "       [ 4,  5,  6,  7],\n",
       "       [ 8,  9, 10, 11]])"
      ]
     },
     "execution_count": 68,
     "metadata": {},
     "output_type": "execute_result"
    }
   ],
   "source": [
    "a = np.arange(12).reshape(3,4)\n",
    "a"
   ]
  },
  {
   "cell_type": "code",
   "execution_count": 70,
   "metadata": {
    "ExecuteTime": {
     "end_time": "2021-03-05T02:14:36.247766Z",
     "start_time": "2021-03-05T02:14:36.242780Z"
    }
   },
   "outputs": [
    {
     "data": {
      "text/plain": [
       "[array([[0, 1, 2, 3]]), array([[4, 5, 6, 7]]), array([[ 8,  9, 10, 11]])]"
      ]
     },
     "execution_count": 70,
     "metadata": {},
     "output_type": "execute_result"
    }
   ],
   "source": [
    "a_vsplit = np.vsplit(a,3) # 가로축을 따라 3개의 배열로 분할\n",
    "a_vsplit"
   ]
  },
  {
   "cell_type": "code",
   "execution_count": 71,
   "metadata": {
    "ExecuteTime": {
     "end_time": "2021-03-05T02:14:54.597253Z",
     "start_time": "2021-03-05T02:14:54.593271Z"
    }
   },
   "outputs": [
    {
     "data": {
      "text/plain": [
       "list"
      ]
     },
     "execution_count": 71,
     "metadata": {},
     "output_type": "execute_result"
    }
   ],
   "source": [
    "type(a_vsplit)"
   ]
  },
  {
   "cell_type": "code",
   "execution_count": 72,
   "metadata": {
    "ExecuteTime": {
     "end_time": "2021-03-05T02:15:04.070288Z",
     "start_time": "2021-03-05T02:15:04.065321Z"
    }
   },
   "outputs": [
    {
     "data": {
      "text/plain": [
       "array([[0, 1, 2, 3]])"
      ]
     },
     "execution_count": 72,
     "metadata": {},
     "output_type": "execute_result"
    }
   ],
   "source": [
    "a_vsplit[0]"
   ]
  },
  {
   "cell_type": "code",
   "execution_count": 74,
   "metadata": {
    "ExecuteTime": {
     "end_time": "2021-03-05T02:16:13.998205Z",
     "start_time": "2021-03-05T02:16:13.994216Z"
    }
   },
   "outputs": [],
   "source": [
    "a_hsplit = np.hsplit(a,4) # 세로축을 따라 4개의 배열로 분할"
   ]
  },
  {
   "cell_type": "code",
   "execution_count": 75,
   "metadata": {
    "ExecuteTime": {
     "end_time": "2021-03-05T02:16:27.726035Z",
     "start_time": "2021-03-05T02:16:27.721068Z"
    }
   },
   "outputs": [
    {
     "data": {
      "text/plain": [
       "(3, 1)"
      ]
     },
     "execution_count": 75,
     "metadata": {},
     "output_type": "execute_result"
    }
   ],
   "source": [
    "a_hsplit[0].shape"
   ]
  },
  {
   "cell_type": "code",
   "execution_count": 78,
   "metadata": {
    "ExecuteTime": {
     "end_time": "2021-03-05T02:18:31.237864Z",
     "start_time": "2021-03-05T02:18:31.232876Z"
    }
   },
   "outputs": [
    {
     "data": {
      "text/plain": [
       "array([[[ 0,  1,  2,  3],\n",
       "        [ 4,  5,  6,  7],\n",
       "        [ 8,  9, 10, 11]],\n",
       "\n",
       "       [[12, 13, 14, 15],\n",
       "        [16, 17, 18, 19],\n",
       "        [20, 21, 22, 23]]])"
      ]
     },
     "execution_count": 78,
     "metadata": {},
     "output_type": "execute_result"
    }
   ],
   "source": [
    "b = np.arange(24).reshape(2,3,4)\n",
    "b"
   ]
  },
  {
   "cell_type": "code",
   "execution_count": 80,
   "metadata": {
    "ExecuteTime": {
     "end_time": "2021-03-05T02:19:25.701775Z",
     "start_time": "2021-03-05T02:19:25.696787Z"
    }
   },
   "outputs": [
    {
     "data": {
      "text/plain": [
       "[array([[[ 0,  1,  2,  3]],\n",
       " \n",
       "        [[12, 13, 14, 15]]]),\n",
       " array([[[ 4,  5,  6,  7]],\n",
       " \n",
       "        [[16, 17, 18, 19]]]),\n",
       " array([[[ 8,  9, 10, 11]],\n",
       " \n",
       "        [[20, 21, 22, 23]]])]"
      ]
     },
     "execution_count": 80,
     "metadata": {},
     "output_type": "execute_result"
    }
   ],
   "source": [
    "b_split = np.hsplit(b, 3) # 두번째축(행)을 이용하여 split\n",
    "b_split                   # 3차원 배열 "
   ]
  },
  {
   "cell_type": "code",
   "execution_count": 81,
   "metadata": {
    "ExecuteTime": {
     "end_time": "2021-03-05T02:20:40.790722Z",
     "start_time": "2021-03-05T02:20:40.785736Z"
    }
   },
   "outputs": [
    {
     "data": {
      "text/plain": [
       "(2, 1, 4)"
      ]
     },
     "execution_count": 81,
     "metadata": {},
     "output_type": "execute_result"
    }
   ],
   "source": [
    "b_split[0].shape"
   ]
  },
  {
   "cell_type": "code",
   "execution_count": 86,
   "metadata": {
    "ExecuteTime": {
     "end_time": "2021-03-05T02:39:02.813627Z",
     "start_time": "2021-03-05T02:39:02.808661Z"
    }
   },
   "outputs": [
    {
     "data": {
      "text/plain": [
       "[array([[[ 0,  1],\n",
       "         [ 4,  5],\n",
       "         [ 8,  9]],\n",
       " \n",
       "        [[12, 13],\n",
       "         [16, 17],\n",
       "         [20, 21]]]),\n",
       " array([[[ 2,  3],\n",
       "         [ 6,  7],\n",
       "         [10, 11]],\n",
       " \n",
       "        [[14, 15],\n",
       "         [18, 19],\n",
       "         [22, 23]]])]"
      ]
     },
     "execution_count": 86,
     "metadata": {},
     "output_type": "execute_result"
    }
   ],
   "source": [
    "b_dsplit = np.dsplit(b, 2) # 3번째 차원을 기준으로 2개의 3차원 배열로 나눔\n",
    "b_dsplit"
   ]
  },
  {
   "cell_type": "code",
   "execution_count": 87,
   "metadata": {
    "ExecuteTime": {
     "end_time": "2021-03-05T02:39:21.813994Z",
     "start_time": "2021-03-05T02:39:21.809027Z"
    }
   },
   "outputs": [
    {
     "data": {
      "text/plain": [
       "(2, 3, 2)"
      ]
     },
     "execution_count": 87,
     "metadata": {},
     "output_type": "execute_result"
    }
   ],
   "source": [
    "b_dsplit[0].shape"
   ]
  },
  {
   "cell_type": "markdown",
   "metadata": {},
   "source": [
    "- split(ary, indices_or_sections, axis=?)\n",
    "- axis=0이면, vsplit()과 동일\n",
    "- axis=1이면, hsplit()과 동일\n",
    "- axis=2이면, 3차원 이상에서 동작하며 dsplit()과 동일"
   ]
  },
  {
   "cell_type": "code",
   "execution_count": 88,
   "metadata": {
    "ExecuteTime": {
     "end_time": "2021-03-05T02:45:35.529780Z",
     "start_time": "2021-03-05T02:45:35.523816Z"
    }
   },
   "outputs": [
    {
     "data": {
      "text/plain": [
       "array([[ 0,  1,  2,  3,  4,  5,  6,  7,  8,  9],\n",
       "       [10, 11, 12, 13, 14, 15, 16, 17, 18, 19]])"
      ]
     },
     "execution_count": 88,
     "metadata": {},
     "output_type": "execute_result"
    }
   ],
   "source": [
    "a = np.arange(20).reshape(2,10)\n",
    "a"
   ]
  },
  {
   "cell_type": "code",
   "execution_count": 91,
   "metadata": {
    "ExecuteTime": {
     "end_time": "2021-03-05T02:47:48.925893Z",
     "start_time": "2021-03-05T02:47:48.920886Z"
    }
   },
   "outputs": [
    {
     "data": {
      "text/plain": [
       "[array([[ 0,  1,  2],\n",
       "        [10, 11, 12]]),\n",
       " array([[ 3,  4,  5],\n",
       "        [13, 14, 15]]),\n",
       " array([[ 6,  7,  8,  9],\n",
       "        [16, 17, 18, 19]])]"
      ]
     },
     "execution_count": 91,
     "metadata": {},
     "output_type": "execute_result"
    }
   ],
   "source": [
    "np.split(a, [3,6], axis=1) # [3,6] 나누고자 하는 인덱스"
   ]
  },
  {
   "cell_type": "code",
   "execution_count": 92,
   "metadata": {
    "ExecuteTime": {
     "end_time": "2021-03-05T02:48:16.997872Z",
     "start_time": "2021-03-05T02:48:16.992912Z"
    }
   },
   "outputs": [
    {
     "data": {
      "text/plain": [
       "[array([[ 0,  1,  2],\n",
       "        [10, 11, 12]]),\n",
       " array([[ 3,  4,  5],\n",
       "        [13, 14, 15]]),\n",
       " array([[ 6,  7,  8,  9],\n",
       "        [16, 17, 18, 19]])]"
      ]
     },
     "execution_count": 92,
     "metadata": {},
     "output_type": "execute_result"
    }
   ],
   "source": [
    "np.split(a, (3,6), axis=1)"
   ]
  },
  {
   "cell_type": "code",
   "execution_count": 97,
   "metadata": {
    "ExecuteTime": {
     "end_time": "2021-03-05T02:50:44.470399Z",
     "start_time": "2021-03-05T02:50:44.464401Z"
    }
   },
   "outputs": [
    {
     "data": {
      "text/plain": [
       "[array([[ 0],\n",
       "        [10]]),\n",
       " array([[ 1,  2,  3,  4,  5],\n",
       "        [11, 12, 13, 14, 15]]),\n",
       " array([[ 6,  7,  8,  9],\n",
       "        [16, 17, 18, 19]])]"
      ]
     },
     "execution_count": 97,
     "metadata": {},
     "output_type": "execute_result"
    }
   ],
   "source": [
    "np.hsplit(a,[1,6])"
   ]
  },
  {
   "cell_type": "code",
   "execution_count": 96,
   "metadata": {
    "ExecuteTime": {
     "end_time": "2021-03-05T02:50:17.509432Z",
     "start_time": "2021-03-05T02:50:17.504465Z"
    }
   },
   "outputs": [
    {
     "data": {
      "text/plain": [
       "[array([[0, 1, 2, 3, 4, 5, 6, 7, 8, 9]]),\n",
       " array([[10, 11, 12, 13, 14, 15, 16, 17, 18, 19]])]"
      ]
     },
     "execution_count": 96,
     "metadata": {},
     "output_type": "execute_result"
    }
   ],
   "source": [
    "np.vsplit(a,2)"
   ]
  },
  {
   "cell_type": "code",
   "execution_count": 98,
   "metadata": {
    "ExecuteTime": {
     "end_time": "2021-03-05T02:51:28.326282Z",
     "start_time": "2021-03-05T02:51:28.321295Z"
    }
   },
   "outputs": [
    {
     "data": {
      "text/plain": [
       "[array([[0, 1, 2, 3, 4, 5, 6, 7, 8, 9]]),\n",
       " array([[10, 11, 12, 13, 14, 15, 16, 17, 18, 19]])]"
      ]
     },
     "execution_count": 98,
     "metadata": {},
     "output_type": "execute_result"
    }
   ],
   "source": [
    "np.split(a,2,axis=0)"
   ]
  },
  {
   "cell_type": "markdown",
   "metadata": {},
   "source": [
    "- array_split(ary, indices_or_sections, axis=0)\n",
    "- split() 유일한 차이점은 축을 똑같이 나눌 수 없는 정수도 사용가능"
   ]
  },
  {
   "cell_type": "code",
   "execution_count": 99,
   "metadata": {
    "ExecuteTime": {
     "end_time": "2021-03-05T02:52:36.872203Z",
     "start_time": "2021-03-05T02:52:36.867216Z"
    }
   },
   "outputs": [
    {
     "data": {
      "text/plain": [
       "[array([[ 0,  1,  2,  3],\n",
       "        [10, 11, 12, 13]]),\n",
       " array([[ 4,  5,  6],\n",
       "        [14, 15, 16]]),\n",
       " array([[ 7,  8,  9],\n",
       "        [17, 18, 19]])]"
      ]
     },
     "execution_count": 99,
     "metadata": {},
     "output_type": "execute_result"
    }
   ],
   "source": [
    "np.array_split(a,3,axis=1)"
   ]
  },
  {
   "cell_type": "code",
   "execution_count": 100,
   "metadata": {
    "ExecuteTime": {
     "end_time": "2021-03-05T02:53:17.309885Z",
     "start_time": "2021-03-05T02:53:17.304898Z"
    }
   },
   "outputs": [
    {
     "data": {
      "text/plain": [
       "[array([[0, 1, 2, 3, 4, 5, 6, 7, 8, 9]]),\n",
       " array([[10, 11, 12, 13, 14, 15, 16, 17, 18, 19]])]"
      ]
     },
     "execution_count": 100,
     "metadata": {},
     "output_type": "execute_result"
    }
   ],
   "source": [
    "np.array_split(a,2,axis=0)"
   ]
  }
 ],
 "metadata": {
  "kernelspec": {
   "display_name": "Python 3",
   "language": "python",
   "name": "python3"
  },
  "language_info": {
   "codemirror_mode": {
    "name": "ipython",
    "version": 3
   },
   "file_extension": ".py",
   "mimetype": "text/x-python",
   "name": "python",
   "nbconvert_exporter": "python",
   "pygments_lexer": "ipython3",
   "version": "3.8.3"
  },
  "toc": {
   "base_numbering": 1,
   "nav_menu": {},
   "number_sections": false,
   "sideBar": true,
   "skip_h1_title": false,
   "title_cell": "Table of Contents",
   "title_sidebar": "Contents",
   "toc_cell": false,
   "toc_position": {
    "height": "821.111px",
    "left": "41px",
    "top": "203.733px",
    "width": "216.441px"
   },
   "toc_section_display": true,
   "toc_window_display": false
  },
  "varInspector": {
   "cols": {
    "lenName": 16,
    "lenType": 16,
    "lenVar": 40
   },
   "kernels_config": {
    "python": {
     "delete_cmd_postfix": "",
     "delete_cmd_prefix": "del ",
     "library": "var_list.py",
     "varRefreshCmd": "print(var_dic_list())"
    },
    "r": {
     "delete_cmd_postfix": ") ",
     "delete_cmd_prefix": "rm(",
     "library": "var_list.r",
     "varRefreshCmd": "cat(var_dic_list()) "
    }
   },
   "types_to_exclude": [
    "module",
    "function",
    "builtin_function_or_method",
    "instance",
    "_Feature"
   ],
   "window_display": false
  }
 },
 "nbformat": 4,
 "nbformat_minor": 4
}
