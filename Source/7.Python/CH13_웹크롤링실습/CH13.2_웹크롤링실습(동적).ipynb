{
 "cells": [
  {
   "cell_type": "markdown",
   "metadata": {},
   "source": [
    "21.03.18 웹데이터 크롤링 실습예제 2."
   ]
  },
  {
   "cell_type": "markdown",
   "metadata": {},
   "source": [
    "# 2. 빅데이터 저장 시스템 개발 포트폴리오"
   ]
  },
  {
   "cell_type": "markdown",
   "metadata": {},
   "source": [
    "## 2. 영어번역 자동화 프로그램을 구현하시오. 네이버 맞춤법 검사를 마친 텍스트를 papago.naver.com를 통해 영어로 번역된 텍스트를 파일로 출력하는 동적 웹크롤링 프로그램을 구현하시오."
   ]
  },
  {
   "cell_type": "code",
   "execution_count": 5,
   "metadata": {
    "ExecuteTime": {
     "end_time": "2021-03-18T12:48:11.885076Z",
     "start_time": "2021-03-18T12:47:31.740249Z"
    }
   },
   "outputs": [
    {
     "name": "stdout",
     "output_type": "stream",
     "text": [
      "February 3rd,\" he said. \"It is not an area to be protected by freedom of expression (February 10th.\" As a result, a total of six bills, including the revision of the Information and Communication Network Act, the revision of the Media Arbitration Act, and the revision of the Criminal Law, were on the table for discussion. The main goal is to regulate false and illegal information on the media and SNS and to hold them responsible. Questions such as \"what to see as fake news,\" \"what to be abused to block criticism reports,\" and \"isn't it reducing freedom of expression?\" are confronting each other questions such as \"what to see as fake news?\"\n",
      "Although it is called the six major media reform bills, the main target is online expressions. The revision of the Media Arbitration Act includes mandatory correction of more than one-half of the first report (Rep. Kim Young-ho's bill), introducing a \"right to block reading\" for articles that violate false information or privacy (Rep. Shin Hyun-young's bill), and expanding the number of media arbitration members from 90 to 120. The revision of the Information and Communication Network Act included the Punitive Damage Compensation System (Yoon Young-chan's bill), which determines up to three times the amount of damages if it is intentionally or seriously wronged, and the right to suspend the operation of the bulletin board. There is also an amendment to the Criminal Law (Lee Won-wook's bill), which applies aggravated punishment for defamation by publications to broadcasting. The Democratic Party expressed its intention to deal with the matter as soon as possible during the extraordinary parliamentary session between February and March.\n",
      "\n",
      "How did blocking false information and fake news become the main agenda of the Democratic Party's press reform? Moon Jae-in is a media reform government promised pledges. If you look at the pledge book at the time, it focuses on ways to secure the public nature of the media, such as improving the governance structure of public broadcasting. There is no remedy for damage to false information. Representative Noh Woong-rae, head of the Democratic Party's media media co-prosperity TF, said in a phone call with \"SisaIN\" on February 24, \"The media-related law has been talked about so far, but it has never passed.\" The damage to fake, distorted, and false information is enormous because information spreads quickly through the Internet. We have decided on a bill that will reduce the damage of the people, not at the level of the media, but at the point of view to reduce the damage of the people.\n",
      "\n",
      "There was a strong backlash over the Press Reform Act. The people's power is against the bill, saying, \"We intend to manipulate public opinion in the name of reform\" and \"press gag.\" Media organizations also express concern. \"How should we understand this situation of press censorship when we call for media reform?\" Critics say the Democratic Party of Korea is pushing ahead without collecting and discussing public opinion despite the need for careful discussion due to the toxic clauses that violate freedom of expression and the people's right to know.\n",
      "\n",
      "Among the six bills, the controversial bill includes Yoon Young-chan's plan to introduce punitive damages to media, portals, and SNS posts, Yang Ki-dae's bill that mandates restrictions on bulletin board operations, and Shin Hyun-young's right to block articles. This is because it is feared to be abused contrary to the purpose of the bill, which calls for actual damage relief. It is not simple to actually judge the requirements of \"false and illegal information intentionally\" (Yoon Young-chan's bill), \"psychologically significant infringement due to comments\" (Yang Ki-dae's bill), and \"if media reports are not sincere or violate privacy and character rights\" (Shin Hyun-young's bill). Would a politician or businessman have any intention of abusing the law to block criticism, suspicion, or unfavorable information directed at him? Kim Dong-chan, secretary general of the Citizens' Coalition for Media Reform, said, If the purpose is to protect citizens affected by actual media reports, it should have included a device to protect expressions on public or public issues. There is no such device in the Democratic Party's press reform bill.\n",
      "\n",
      "Punitive damages only in the United States and the United States\n",
      "Regarding the controversy over the infringement of freedom of expression, the Democratic Party sees it as an \"excessive concern.\" An official at Yang Ki-dae's office said, \"Just because the victim reports malicious comments does not mean that the bulletin board should be closed unconditionally.\" If the victim explains the damage, the portal operator can fully filter whether it is abuse or not. Just as portal sites have eliminated the entertainment news comment box, the purpose is to quickly protect the parties from malicious comments. However, Sohn Ji-won, a lawyer at OpenNet, believes that public figures and companies are likely to abuse the law. This is because the targets of false information, fake news, and malicious comments are mainly public figures rather than ordinary citizens. With the suicide of celebrities due to malicious comments emerging as a social issue, the Information and Communication Network Act has already been introduced for 30 days, but now consumer complaints and religious complaints are blocked.”\n",
      "\n",
      "The Democratic Party of Korea describes it as a \"people's livelihood bill for the media,\" but the current law to relieve defamation is already tightly drafted. This is why there are concerns about excessive legislation on the introduction of a punitive damages system. They can be saved by laws such as defamation and insult under criminal law, damages claim under civil law, cyber defamation under the Information and Communication Network Act, or go through deliberation or mediation through the Media Arbitration Commission. Under the Information and Communication Network Act, information can be deleted (temporary measures) and under the Public Official Election Act, slander and dissemination of false information against candidates will also be punished. Sohn Ji-won, a lawyer, said, \"The punitive damages system is usually applied in the Anglo-American region, where defamation charges are not punished by criminal law and are regulated as civil lawsuits. It could be a double punishment in Korea, where criminal punishment is imposed.\n",
      "\n",
      "The number of media-related lawsuits is on the rise every year. According to the Media Arbitration Commission, the number of civil suits by media in 2019 was 334 and the number of cases of mediation by the Media Arbitration Commission was 3,544, which both tripled over the past decade. However, the number of lawsuits has increased, but the amount of compensation for damages is decreasing. Over the past five years, the amount of compensation for damages is between 4 million won and 5 million won. Lawyer Yang Jae-kyu (press arbitration committee) said, \"Even if a punitive damages system that compensates three times is introduced to the media, there will be no realistic punishment.\" We need to realize the amount of compensation and other damages.\n",
      "\n",
      "The claim that excessive litigation will dampen freedom of speech should be weighed down. Lawyer Yang said, \"We are making a ruling to recognize freedom of speech if there is any misunderstanding or violation of privacy, if it is not significant grounds or malicious.\" Since the 2010s, media companies have won more than one out of two lawsuits. It is difficult to solve the punitive damages system with a simple dichotomy between protecting personal rights and freedom of speech. Kim Min-jung, a professor of media communication at Hankuk University of Foreign Studies, said, \"The discussion of punitive damages to the media is a matter to be discussed beyond the conflict structure of the government's excessive regulation versus the struggle of established media.\"\n",
      "\n",
      "The question remains as to why the priority of media reform was directed at the issue of individual defamation. Secretary General Kim Dong-chan points out that the reason for the controversy is that the Democratic Party is vague about who it wants to protect with regulations on expressions. For example, it may be more urgent to regulate expression in order to protect character rights and privacy in sexual violence crimes or child abuse cases. \"The scope of protection is not specific to the Democratic Party's press reform bill now.\" Germany's \"Network Enforcement Act,\" which regulates online expressions, sets 22 illegal contents, including anti-constitutional profiles, racial hatred and Nazi praise. Secretary General Kim Dong-chan said, \"In the case of hate expressions for minority groups that cannot specify victims, there is no way to regulate them under the current law in Korea, even though it is fake news that harms society.\"\n",
      "페브루에어리 써드 히 에세이아이디 잇 이즈 낫 앤 에어리어 투 비 프러텍티드 바이 프리덤 어브 익스프레션 페브루에어리 텐쓰. 애즈 어 리절트 어 토우털 어브 식스 빌즈 인클루딩 더 리비전 어브 디 인포어메이션 언드 커뮤너케이션 네트 ...더보기\n"
     ]
    }
   ],
   "source": [
    "from selenium import webdriver\n",
    "from selenium.webdriver.common.keys import Keys\n",
    "from bs4 import BeautifulSoup\n",
    "import time\n",
    "\n",
    "with open(\"data/2_한글원본.txt\",\"r\",encoding=\"utf-8\") as f:\n",
    "    text = f.read()\n",
    "\n",
    "ready_list = []\n",
    "while len(text) > 5000:\n",
    "    temp_str = text[:5000]\n",
    "    last_space_idx = temp_str.rfind('. ')\n",
    "    ready_list.append(text[:last_space_idx+1])\n",
    "    text = text[last_space_idx+1:]\n",
    "ready_list.append(text)\n",
    "\n",
    "driver = webdriver.Chrome()\n",
    "driver.get(\"https://papago.naver.com/\")\n",
    "\n",
    "time.sleep(2)\n",
    "textarea = driver.find_element_by_class_name(\"edit_area___2iv-G\")\n",
    "results = \"\"\n",
    "for ready in ready_list:\n",
    "    textarea.send_keys(Keys.CONTROL, \"a\")\n",
    "    textarea.send_keys(ready)\n",
    "    button = driver.find_element_by_class_name(\"translate_pc___2dgT8\")\n",
    "    button.click()\n",
    "    time.sleep(3)\n",
    "    soup = BeautifulSoup(driver.page_source, \"html.parser\")\n",
    "    result = driver.find_element_by_id(\"targetEditArea\").text\n",
    "print(result)\n",
    "results += result.replace('.','.\\n')\n",
    "with open('data/2_자동화영어번역본.txt','w', encoding=\"utf-8\") as f:\n",
    "    f.write(results)\n",
    "driver.close()"
   ]
  }
 ],
 "metadata": {
  "kernelspec": {
   "display_name": "Python 3",
   "language": "python",
   "name": "python3"
  },
  "language_info": {
   "codemirror_mode": {
    "name": "ipython",
    "version": 3
   },
   "file_extension": ".py",
   "mimetype": "text/x-python",
   "name": "python",
   "nbconvert_exporter": "python",
   "pygments_lexer": "ipython3",
   "version": "3.8.3"
  },
  "toc": {
   "base_numbering": 1,
   "nav_menu": {},
   "number_sections": false,
   "sideBar": false,
   "skip_h1_title": false,
   "title_cell": "Table of Contents",
   "title_sidebar": "Contents",
   "toc_cell": false,
   "toc_position": {
    "height": "776.667px",
    "left": "196px",
    "top": "306.733px",
    "width": "236.667px"
   },
   "toc_section_display": true,
   "toc_window_display": false
  },
  "varInspector": {
   "cols": {
    "lenName": 16,
    "lenType": 16,
    "lenVar": 40
   },
   "kernels_config": {
    "python": {
     "delete_cmd_postfix": "",
     "delete_cmd_prefix": "del ",
     "library": "var_list.py",
     "varRefreshCmd": "print(var_dic_list())"
    },
    "r": {
     "delete_cmd_postfix": ") ",
     "delete_cmd_prefix": "rm(",
     "library": "var_list.r",
     "varRefreshCmd": "cat(var_dic_list()) "
    }
   },
   "types_to_exclude": [
    "module",
    "function",
    "builtin_function_or_method",
    "instance",
    "_Feature"
   ],
   "window_display": false
  }
 },
 "nbformat": 4,
 "nbformat_minor": 4
}
