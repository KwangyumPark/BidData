{
 "cells": [
  {
   "cell_type": "markdown",
   "metadata": {},
   "source": [
    "# 1절. 변수"
   ]
  },
  {
   "cell_type": "markdown",
   "metadata": {},
   "source": [
    "## 1.1 변수선언\n",
    "* 값을 저장할 수 있는 변수를 만드는 것\n",
    "* 파이썬은 변수 선언능 위한 타입이 없고 별도의 변수 선언 과정이 없음"
   ]
  },
  {
   "cell_type": "markdown",
   "metadata": {},
   "source": [
    "\n",
    "## 1.2 변수 할당\n",
    "* 어떤 값이 이름을 갖도록 하는 과정\n",
    "* 할당연산자(=)을 이용"
   ]
  },
  {
   "cell_type": "code",
   "execution_count": 53,
   "metadata": {
    "ExecuteTime": {
     "end_time": "2021-02-22T12:54:38.289203Z",
     "start_time": "2021-02-22T12:54:38.274243Z"
    }
   },
   "outputs": [
    {
     "name": "stdout",
     "output_type": "stream",
     "text": [
      "78.5\n"
     ]
    }
   ],
   "source": [
    "r = 5\n",
    "area = 3.14 * 5 * 5\n",
    "print(area)"
   ]
  },
  {
   "cell_type": "code",
   "execution_count": 58,
   "metadata": {
    "ExecuteTime": {
     "end_time": "2021-02-22T12:55:30.963781Z",
     "start_time": "2021-02-22T12:55:30.957797Z"
    }
   },
   "outputs": [
    {
     "name": "stdout",
     "output_type": "stream",
     "text": [
      "반지름이 5인 원의 넓이는  5\n"
     ]
    }
   ],
   "source": [
    "import numpy as np\n",
    "r =5\n",
    "area = np.pi * r * r\n",
    "print('반지름이 5인 원의 넓이는 ', r)"
   ]
  },
  {
   "cell_type": "code",
   "execution_count": 59,
   "metadata": {
    "ExecuteTime": {
     "end_time": "2021-02-22T12:55:30.979738Z",
     "start_time": "2021-02-22T12:55:30.965776Z"
    }
   },
   "outputs": [],
   "source": [
    "a = 10"
   ]
  },
  {
   "cell_type": "code",
   "execution_count": 60,
   "metadata": {
    "ExecuteTime": {
     "end_time": "2021-02-22T12:55:30.995696Z",
     "start_time": "2021-02-22T12:55:30.982733Z"
    }
   },
   "outputs": [
    {
     "name": "stdout",
     "output_type": "stream",
     "text": [
      "140715628443712\n",
      "<class 'int'>\n"
     ]
    }
   ],
   "source": [
    "print(id(a))   # a변수의 주소\n",
    "print(type(a)) # a변수의 타입"
   ]
  },
  {
   "cell_type": "code",
   "execution_count": 61,
   "metadata": {
    "ExecuteTime": {
     "end_time": "2021-02-22T12:55:31.011694Z",
     "start_time": "2021-02-22T12:55:30.997691Z"
    }
   },
   "outputs": [],
   "source": [
    "a = 5"
   ]
  },
  {
   "cell_type": "code",
   "execution_count": 62,
   "metadata": {
    "ExecuteTime": {
     "end_time": "2021-02-22T12:55:31.027610Z",
     "start_time": "2021-02-22T12:55:31.013653Z"
    }
   },
   "outputs": [
    {
     "name": "stdout",
     "output_type": "stream",
     "text": [
      "140715628443552\n",
      "<class 'int'>\n"
     ]
    }
   ],
   "source": [
    "print(id(a))   # a변수의 주소\n",
    "print(type(a)) # a변수의 타입"
   ]
  },
  {
   "cell_type": "code",
   "execution_count": 74,
   "metadata": {
    "ExecuteTime": {
     "end_time": "2021-02-22T12:57:03.380649Z",
     "start_time": "2021-02-22T12:57:03.362696Z"
    }
   },
   "outputs": [],
   "source": [
    "a = 'Python'"
   ]
  },
  {
   "cell_type": "code",
   "execution_count": 75,
   "metadata": {
    "ExecuteTime": {
     "end_time": "2021-02-22T12:57:06.512133Z",
     "start_time": "2021-02-22T12:57:06.494126Z"
    }
   },
   "outputs": [
    {
     "name": "stdout",
     "output_type": "stream",
     "text": [
      "2894007739376\n",
      "<class 'str'>\n"
     ]
    }
   ],
   "source": [
    "print(id(a))   # a변수의 주소\n",
    "print(type(a)) # a변수의 타입"
   ]
  },
  {
   "cell_type": "markdown",
   "metadata": {},
   "source": [
    "##  1.3 변수 이름 규칙"
   ]
  },
  {
   "cell_type": "code",
   "execution_count": 76,
   "metadata": {
    "ExecuteTime": {
     "end_time": "2021-02-22T12:57:09.755475Z",
     "start_time": "2021-02-22T12:57:09.747496Z"
    }
   },
   "outputs": [],
   "source": [
    "불용어 = '북한'"
   ]
  },
  {
   "cell_type": "code",
   "execution_count": 66,
   "metadata": {
    "ExecuteTime": {
     "end_time": "2021-02-22T12:55:31.089445Z",
     "start_time": "2021-02-22T12:55:31.075483Z"
    }
   },
   "outputs": [
    {
     "data": {
      "text/plain": [
       "'북한'"
      ]
     },
     "execution_count": 66,
     "metadata": {},
     "output_type": "execute_result"
    }
   ],
   "source": [
    "불용어"
   ]
  },
  {
   "cell_type": "code",
   "execution_count": 67,
   "metadata": {
    "ExecuteTime": {
     "end_time": "2021-02-22T12:55:31.105403Z",
     "start_time": "2021-02-22T12:55:31.091441Z"
    }
   },
   "outputs": [
    {
     "name": "stdout",
     "output_type": "stream",
     "text": [
      "Hello, World2\n"
     ]
    }
   ],
   "source": [
    "print('Hello'+', World' + str(2))"
   ]
  },
  {
   "cell_type": "code",
   "execution_count": 68,
   "metadata": {
    "ExecuteTime": {
     "end_time": "2021-02-22T12:55:31.121395Z",
     "start_time": "2021-02-22T12:55:31.107400Z"
    }
   },
   "outputs": [],
   "source": [
    "print_ = 5\n",
    "_print = 5"
   ]
  },
  {
   "cell_type": "code",
   "execution_count": 69,
   "metadata": {
    "ExecuteTime": {
     "end_time": "2021-02-22T12:55:31.137351Z",
     "start_time": "2021-02-22T12:55:31.123355Z"
    }
   },
   "outputs": [
    {
     "name": "stdout",
     "output_type": "stream",
     "text": [
      "Hello\n"
     ]
    }
   ],
   "source": [
    "print('Hello')"
   ]
  },
  {
   "cell_type": "code",
   "execution_count": 105,
   "metadata": {
    "ExecuteTime": {
     "end_time": "2021-02-22T13:13:03.983947Z",
     "start_time": "2021-02-22T13:13:03.966987Z"
    }
   },
   "outputs": [
    {
     "ename": "SyntaxError",
     "evalue": "invalid syntax (<ipython-input-105-1a9bb92cc795>, line 1)",
     "output_type": "error",
     "traceback": [
      "\u001b[1;36m  File \u001b[1;32m\"<ipython-input-105-1a9bb92cc795>\"\u001b[1;36m, line \u001b[1;32m1\u001b[0m\n\u001b[1;33m    if = 5\u001b[0m\n\u001b[1;37m       ^\u001b[0m\n\u001b[1;31mSyntaxError\u001b[0m\u001b[1;31m:\u001b[0m invalid syntax\n"
     ]
    }
   ],
   "source": [
    "if = 5"
   ]
  },
  {
   "cell_type": "code",
   "execution_count": 106,
   "metadata": {
    "ExecuteTime": {
     "end_time": "2021-02-22T13:13:33.325604Z",
     "start_time": "2021-02-22T13:13:33.314586Z"
    }
   },
   "outputs": [],
   "source": [
    "i = 5j+4 # 복소수"
   ]
  },
  {
   "cell_type": "code",
   "execution_count": 107,
   "metadata": {
    "ExecuteTime": {
     "end_time": "2021-02-22T13:13:35.759144Z",
     "start_time": "2021-02-22T13:13:35.747178Z"
    }
   },
   "outputs": [
    {
     "data": {
      "text/plain": [
       "complex"
      ]
     },
     "execution_count": 107,
     "metadata": {},
     "output_type": "execute_result"
    }
   ],
   "source": [
    "type(i) # 변수의 타입 반환"
   ]
  },
  {
   "cell_type": "code",
   "execution_count": 108,
   "metadata": {
    "ExecuteTime": {
     "end_time": "2021-02-22T13:13:38.493006Z",
     "start_time": "2021-02-22T13:13:38.486025Z"
    }
   },
   "outputs": [
    {
     "data": {
      "text/plain": [
       "True"
      ]
     },
     "execution_count": 108,
     "metadata": {},
     "output_type": "execute_result"
    }
   ],
   "source": [
    "# 자동완성 (Tab키)\n",
    "isinstance(i, complex) # 변수의 타입이 complex"
   ]
  },
  {
   "cell_type": "code",
   "execution_count": 80,
   "metadata": {
    "ExecuteTime": {
     "end_time": "2021-02-22T12:57:26.456108Z",
     "start_time": "2021-02-22T12:57:26.439186Z"
    }
   },
   "outputs": [
    {
     "data": {
      "text/plain": [
       "str"
      ]
     },
     "execution_count": 80,
     "metadata": {},
     "output_type": "execute_result"
    }
   ],
   "source": [
    "i = \"i\"\n",
    "type(i)"
   ]
  },
  {
   "cell_type": "code",
   "execution_count": 109,
   "metadata": {
    "ExecuteTime": {
     "end_time": "2021-02-22T13:13:43.127374Z",
     "start_time": "2021-02-22T13:13:43.108411Z"
    }
   },
   "outputs": [
    {
     "data": {
      "text/plain": [
       "int"
      ]
     },
     "execution_count": 109,
     "metadata": {},
     "output_type": "execute_result"
    }
   ],
   "source": [
    "i= 10\n",
    "type(i)"
   ]
  },
  {
   "cell_type": "code",
   "execution_count": 110,
   "metadata": {
    "ExecuteTime": {
     "end_time": "2021-02-22T13:13:45.162049Z",
     "start_time": "2021-02-22T13:13:45.155070Z"
    }
   },
   "outputs": [],
   "source": [
    "a, b = 10, 20"
   ]
  },
  {
   "cell_type": "code",
   "execution_count": 111,
   "metadata": {
    "ExecuteTime": {
     "end_time": "2021-02-22T13:13:47.718611Z",
     "start_time": "2021-02-22T13:13:47.700628Z"
    }
   },
   "outputs": [
    {
     "name": "stdout",
     "output_type": "stream",
     "text": [
      "a= 10 / b= 20\n"
     ]
    }
   ],
   "source": [
    "print('a=',a, '/ b=',b)"
   ]
  },
  {
   "cell_type": "code",
   "execution_count": 112,
   "metadata": {
    "ExecuteTime": {
     "end_time": "2021-02-22T13:13:50.365556Z",
     "start_time": "2021-02-22T13:13:50.359566Z"
    }
   },
   "outputs": [],
   "source": [
    "a, b = b, a+b"
   ]
  },
  {
   "cell_type": "code",
   "execution_count": 113,
   "metadata": {
    "ExecuteTime": {
     "end_time": "2021-02-22T13:13:52.198111Z",
     "start_time": "2021-02-22T13:13:52.190148Z"
    }
   },
   "outputs": [
    {
     "name": "stdout",
     "output_type": "stream",
     "text": [
      "20\n",
      "30\n"
     ]
    }
   ],
   "source": [
    "print(a)\n",
    "print(b)"
   ]
  },
  {
   "cell_type": "code",
   "execution_count": 114,
   "metadata": {
    "ExecuteTime": {
     "end_time": "2021-02-22T13:13:53.334709Z",
     "start_time": "2021-02-22T13:13:53.323693Z"
    }
   },
   "outputs": [
    {
     "data": {
      "text/plain": [
       "<function print>"
      ]
     },
     "execution_count": 114,
     "metadata": {},
     "output_type": "execute_result"
    }
   ],
   "source": [
    "print"
   ]
  },
  {
   "cell_type": "markdown",
   "metadata": {},
   "source": [
    "## 1.4 도움말"
   ]
  },
  {
   "cell_type": "code",
   "execution_count": null,
   "metadata": {
    "ExecuteTime": {
     "end_time": "2021-02-22T12:55:31.170232Z",
     "start_time": "2021-02-22T12:55:31.022Z"
    }
   },
   "outputs": [],
   "source": [
    "# 도움말기능은 shift_Tab키\n",
    "print()"
   ]
  },
  {
   "cell_type": "markdown",
   "metadata": {},
   "source": [
    "# 2절. 화면 입출력"
   ]
  },
  {
   "cell_type": "code",
   "execution_count": 115,
   "metadata": {
    "ExecuteTime": {
     "end_time": "2021-02-22T13:14:00.499396Z",
     "start_time": "2021-02-22T13:13:56.416599Z"
    }
   },
   "outputs": [
    {
     "name": "stdout",
     "output_type": "stream",
     "text": [
      "첫번째 숫자5\n",
      "두번째 숫자5\n"
     ]
    }
   ],
   "source": [
    "first = input('첫번째 숫자')\n",
    "second = input('두번째 숫자')"
   ]
  },
  {
   "cell_type": "code",
   "execution_count": 123,
   "metadata": {
    "ExecuteTime": {
     "end_time": "2021-02-22T13:15:13.228982Z",
     "start_time": "2021-02-22T13:15:13.213026Z"
    }
   },
   "outputs": [
    {
     "name": "stdout",
     "output_type": "stream",
     "text": [
      "두수의 합은 13\n"
     ]
    }
   ],
   "source": [
    "print('두수의 합은',(first+second))"
   ]
  },
  {
   "cell_type": "code",
   "execution_count": 117,
   "metadata": {
    "ExecuteTime": {
     "end_time": "2021-02-22T13:14:04.421280Z",
     "start_time": "2021-02-22T13:14:04.413344Z"
    }
   },
   "outputs": [
    {
     "name": "stdout",
     "output_type": "stream",
     "text": [
      "두수의 합은 10\n"
     ]
    }
   ],
   "source": [
    "print('두수의 합은',(int(first)+int(second)))"
   ]
  },
  {
   "cell_type": "code",
   "execution_count": 118,
   "metadata": {
    "ExecuteTime": {
     "end_time": "2021-02-22T13:14:09.578253Z",
     "start_time": "2021-02-22T13:14:06.818937Z"
    }
   },
   "outputs": [
    {
     "name": "stdout",
     "output_type": "stream",
     "text": [
      "첫번째 수5\n",
      "두번째 수8\n"
     ]
    }
   ],
   "source": [
    "first = int(input('첫번째 수'))\n",
    "second = int(input('두번째 수'))"
   ]
  },
  {
   "cell_type": "code",
   "execution_count": 119,
   "metadata": {
    "ExecuteTime": {
     "end_time": "2021-02-22T13:14:11.177314Z",
     "start_time": "2021-02-22T13:14:11.165315Z"
    }
   },
   "outputs": [
    {
     "name": "stdout",
     "output_type": "stream",
     "text": [
      "두수의 합은  13\n"
     ]
    }
   ],
   "source": [
    "print('두수의 합은 ', first+second)"
   ]
  },
  {
   "cell_type": "code",
   "execution_count": 120,
   "metadata": {
    "ExecuteTime": {
     "end_time": "2021-02-22T13:14:12.046593Z",
     "start_time": "2021-02-22T13:14:12.035576Z"
    }
   },
   "outputs": [
    {
     "name": "stdout",
     "output_type": "stream",
     "text": [
      "Hello/World\n",
      "\n",
      "Hello★Python\n"
     ]
    }
   ],
   "source": [
    "print('Hello', 'World', sep='/', end='\\n\\n')\n",
    "print('Hello', 'Python', sep='★')"
   ]
  },
  {
   "cell_type": "markdown",
   "metadata": {},
   "source": [
    "# 3절. 기본 자료형, 숫자형, 논리형, 문자형"
   ]
  },
  {
   "cell_type": "markdown",
   "metadata": {},
   "source": [
    "## 3.1 숫자형"
   ]
  },
  {
   "cell_type": "code",
   "execution_count": 121,
   "metadata": {
    "ExecuteTime": {
     "end_time": "2021-02-22T13:14:14.381642Z",
     "start_time": "2021-02-22T13:14:14.367650Z"
    }
   },
   "outputs": [
    {
     "name": "stdout",
     "output_type": "stream",
     "text": [
      "9223372036854775807\n"
     ]
    }
   ],
   "source": [
    "import sys\n",
    "print(sys.maxsize) # 정수의 최대수"
   ]
  },
  {
   "cell_type": "code",
   "execution_count": 122,
   "metadata": {
    "ExecuteTime": {
     "end_time": "2021-02-22T13:14:15.518247Z",
     "start_time": "2021-02-22T13:14:15.510263Z"
    }
   },
   "outputs": [
    {
     "data": {
      "text/plain": [
       "int"
      ]
     },
     "execution_count": 122,
     "metadata": {},
     "output_type": "execute_result"
    }
   ],
   "source": [
    "i = 92233720368547\n",
    "type(i)"
   ]
  },
  {
   "cell_type": "code",
   "execution_count": 124,
   "metadata": {
    "ExecuteTime": {
     "end_time": "2021-02-22T13:15:42.181427Z",
     "start_time": "2021-02-22T13:15:42.163444Z"
    }
   },
   "outputs": [
    {
     "data": {
      "text/plain": [
       "float"
      ]
     },
     "execution_count": 124,
     "metadata": {},
     "output_type": "execute_result"
    }
   ],
   "source": [
    "f = 3.0\n",
    "type(f)"
   ]
  },
  {
   "cell_type": "code",
   "execution_count": 125,
   "metadata": {
    "ExecuteTime": {
     "end_time": "2021-02-22T13:15:43.446385Z",
     "start_time": "2021-02-22T13:15:43.427436Z"
    }
   },
   "outputs": [
    {
     "name": "stdout",
     "output_type": "stream",
     "text": [
      "1.5\n",
      "<class 'float'>\n"
     ]
    }
   ],
   "source": [
    "f = 3/2\n",
    "print(f)\n",
    "print(type(f))"
   ]
  },
  {
   "cell_type": "code",
   "execution_count": 126,
   "metadata": {
    "ExecuteTime": {
     "end_time": "2021-02-22T13:15:44.343812Z",
     "start_time": "2021-02-22T13:15:44.338826Z"
    }
   },
   "outputs": [
    {
     "name": "stdout",
     "output_type": "stream",
     "text": [
      "1.0\n",
      "<class 'float'>\n"
     ]
    }
   ],
   "source": [
    "f = 2/2\n",
    "print(f)\n",
    "print(type(f))"
   ]
  },
  {
   "cell_type": "code",
   "execution_count": 133,
   "metadata": {
    "ExecuteTime": {
     "end_time": "2021-02-22T13:16:01.168739Z",
     "start_time": "2021-02-22T13:16:01.157771Z"
    }
   },
   "outputs": [],
   "source": [
    "a = 3 + 2j # 복소수\n",
    "b = 1j     # 복소수"
   ]
  },
  {
   "cell_type": "code",
   "execution_count": 132,
   "metadata": {
    "ExecuteTime": {
     "end_time": "2021-02-22T13:15:59.552775Z",
     "start_time": "2021-02-22T13:15:59.541769Z"
    }
   },
   "outputs": [
    {
     "name": "stdout",
     "output_type": "stream",
     "text": [
      "(3+2j)\n",
      "<class 'complex'>\n"
     ]
    }
   ],
   "source": [
    "print(a)\n",
    "print(type(a))"
   ]
  },
  {
   "cell_type": "code",
   "execution_count": 134,
   "metadata": {
    "ExecuteTime": {
     "end_time": "2021-02-22T13:16:04.637983Z",
     "start_time": "2021-02-22T13:16:04.620981Z"
    }
   },
   "outputs": [
    {
     "data": {
      "text/plain": [
       "(3+3j)"
      ]
     },
     "execution_count": 134,
     "metadata": {},
     "output_type": "execute_result"
    }
   ],
   "source": [
    "a + b"
   ]
  },
  {
   "cell_type": "code",
   "execution_count": 136,
   "metadata": {
    "ExecuteTime": {
     "end_time": "2021-02-22T13:16:08.026994Z",
     "start_time": "2021-02-22T13:16:08.016035Z"
    }
   },
   "outputs": [
    {
     "name": "stdout",
     "output_type": "stream",
     "text": [
      "(-1+0j)\n"
     ]
    }
   ],
   "source": [
    "print(b**2) # b의 제곱"
   ]
  },
  {
   "cell_type": "code",
   "execution_count": 137,
   "metadata": {
    "ExecuteTime": {
     "end_time": "2021-02-22T13:16:09.442654Z",
     "start_time": "2021-02-22T13:16:09.434665Z"
    }
   },
   "outputs": [
    {
     "name": "stdout",
     "output_type": "stream",
     "text": [
      "1.13e-08\n",
      "1130000000000.0\n"
     ]
    }
   ],
   "source": [
    "f = 1.13e-8\n",
    "print(f)\n",
    "g = 1.13e12\n",
    "print(g)"
   ]
  },
  {
   "cell_type": "markdown",
   "metadata": {},
   "source": [
    "## 3.2 문자형"
   ]
  },
  {
   "cell_type": "code",
   "execution_count": 138,
   "metadata": {
    "ExecuteTime": {
     "end_time": "2021-02-22T13:16:20.098420Z",
     "start_time": "2021-02-22T13:16:20.085455Z"
    }
   },
   "outputs": [
    {
     "name": "stdout",
     "output_type": "stream",
     "text": [
      "홍\"길\"동 서울시 '마포'구\n"
     ]
    }
   ],
   "source": [
    "name = '홍\"길\"동'\n",
    "address = \"서울시 '마포'구\"\n",
    "print(name, address)"
   ]
  },
  {
   "cell_type": "code",
   "execution_count": 139,
   "metadata": {
    "ExecuteTime": {
     "end_time": "2021-02-22T13:16:21.516332Z",
     "start_time": "2021-02-22T13:16:21.501375Z"
    }
   },
   "outputs": [
    {
     "name": "stdout",
     "output_type": "stream",
     "text": [
      "이렇게 작성하면\n",
      "줄 바꿈도 그대로 적용해서 여러 줄의 문자를 \n",
      "입력할 수 있습니다\n"
     ]
    }
   ],
   "source": [
    "text = '''이렇게 작성하면\n",
    "줄 바꿈도 그대로 적용해서 여러 줄의 문자를 \n",
    "입력할 수 있습니다'''\n",
    "print(text)"
   ]
  },
  {
   "cell_type": "code",
   "execution_count": 140,
   "metadata": {
    "ExecuteTime": {
     "end_time": "2021-02-22T13:16:24.513844Z",
     "start_time": "2021-02-22T13:16:24.503852Z"
    }
   },
   "outputs": [
    {
     "name": "stdout",
     "output_type": "stream",
     "text": [
      "이렇게 작성하면\n",
      "줄 바꿈도 그대로 적용해서 여러 줄의 문자를 \n",
      "입력할 수 있습니다\n"
     ]
    }
   ],
   "source": [
    "text = \"\"\"이렇게 작성하면\n",
    "줄 바꿈도 그대로 적용해서 여러 줄의 문자를 \n",
    "입력할 수 있습니다\"\"\"\n",
    "print(text)"
   ]
  },
  {
   "cell_type": "code",
   "execution_count": 141,
   "metadata": {
    "ExecuteTime": {
     "end_time": "2021-02-22T13:16:25.716491Z",
     "start_time": "2021-02-22T13:16:25.704520Z"
    }
   },
   "outputs": [
    {
     "name": "stdout",
     "output_type": "stream",
     "text": [
      "Hello\n",
      "World\n"
     ]
    }
   ],
   "source": [
    "print(\"Hello\\nWorld\")"
   ]
  },
  {
   "cell_type": "code",
   "execution_count": 142,
   "metadata": {
    "ExecuteTime": {
     "end_time": "2021-02-22T13:16:26.954261Z",
     "start_time": "2021-02-22T13:16:26.947288Z"
    }
   },
   "outputs": [
    {
     "name": "stdout",
     "output_type": "stream",
     "text": [
      "Hello\\nWorld\n"
     ]
    }
   ],
   "source": [
    "print(r\"Hello\\nWorld\") # r: row data"
   ]
  },
  {
   "cell_type": "code",
   "execution_count": 143,
   "metadata": {
    "ExecuteTime": {
     "end_time": "2021-02-22T13:16:30.468812Z",
     "start_time": "2021-02-22T13:16:30.457796Z"
    }
   },
   "outputs": [
    {
     "name": "stdout",
     "output_type": "stream",
     "text": [
      "Hello, World\n"
     ]
    }
   ],
   "source": [
    "print(\"Hello\"+\", World\")"
   ]
  },
  {
   "cell_type": "code",
   "execution_count": 144,
   "metadata": {
    "ExecuteTime": {
     "end_time": "2021-02-22T13:16:32.056871Z",
     "start_time": "2021-02-22T13:16:32.043858Z"
    }
   },
   "outputs": [
    {
     "name": "stdout",
     "output_type": "stream",
     "text": [
      "HelloHelloHello\n"
     ]
    }
   ],
   "source": [
    "print(\"Hello\"*3) # 문자열*숫자 ; 숫자만큼 반복"
   ]
  },
  {
   "cell_type": "code",
   "execution_count": 145,
   "metadata": {
    "ExecuteTime": {
     "end_time": "2021-02-22T13:16:33.064728Z",
     "start_time": "2021-02-22T13:16:33.051772Z"
    }
   },
   "outputs": [],
   "source": [
    "str = \"0123456789\""
   ]
  },
  {
   "cell_type": "code",
   "execution_count": 146,
   "metadata": {
    "ExecuteTime": {
     "end_time": "2021-02-22T13:16:35.074926Z",
     "start_time": "2021-02-22T13:16:35.067945Z"
    }
   },
   "outputs": [],
   "source": [
    "# 문자열 슬라이싱"
   ]
  },
  {
   "cell_type": "code",
   "execution_count": 147,
   "metadata": {
    "ExecuteTime": {
     "end_time": "2021-02-22T13:16:36.470674Z",
     "start_time": "2021-02-22T13:16:36.452713Z"
    }
   },
   "outputs": [
    {
     "data": {
      "text/plain": [
       "'012'"
      ]
     },
     "execution_count": 147,
     "metadata": {},
     "output_type": "execute_result"
    }
   ],
   "source": [
    "str[0:3] # 0번째부터 3번째 앞까지"
   ]
  },
  {
   "cell_type": "code",
   "execution_count": 148,
   "metadata": {
    "ExecuteTime": {
     "end_time": "2021-02-22T13:16:37.452524Z",
     "start_time": "2021-02-22T13:16:37.437562Z"
    }
   },
   "outputs": [
    {
     "data": {
      "text/plain": [
       "'7'"
      ]
     },
     "execution_count": 148,
     "metadata": {},
     "output_type": "execute_result"
    }
   ],
   "source": [
    "str[-3] # 음수인덱스는 뒤에서부터 ; 뒤에서부터 3번째"
   ]
  },
  {
   "cell_type": "code",
   "execution_count": 149,
   "metadata": {
    "ExecuteTime": {
     "end_time": "2021-02-22T13:16:38.871147Z",
     "start_time": "2021-02-22T13:16:38.852199Z"
    }
   },
   "outputs": [
    {
     "data": {
      "text/plain": [
       "'56789'"
      ]
     },
     "execution_count": 149,
     "metadata": {},
     "output_type": "execute_result"
    }
   ],
   "source": [
    "str[5:] # 5번째부터 끝까지"
   ]
  },
  {
   "cell_type": "code",
   "execution_count": 150,
   "metadata": {
    "ExecuteTime": {
     "end_time": "2021-02-22T13:16:39.880026Z",
     "start_time": "2021-02-22T13:16:39.873051Z"
    }
   },
   "outputs": [
    {
     "data": {
      "text/plain": [
       "'012'"
      ]
     },
     "execution_count": 150,
     "metadata": {},
     "output_type": "execute_result"
    }
   ],
   "source": [
    "str[:3] # 처음부터 3번째 앞까지"
   ]
  },
  {
   "cell_type": "code",
   "execution_count": 151,
   "metadata": {
    "ExecuteTime": {
     "end_time": "2021-02-22T13:16:40.909975Z",
     "start_time": "2021-02-22T13:16:40.901030Z"
    }
   },
   "outputs": [
    {
     "data": {
      "text/plain": [
       "'0123456789'"
      ]
     },
     "execution_count": 151,
     "metadata": {},
     "output_type": "execute_result"
    }
   ],
   "source": [
    "str[:] #처음부터 끝까지"
   ]
  },
  {
   "cell_type": "code",
   "execution_count": 153,
   "metadata": {
    "ExecuteTime": {
     "end_time": "2021-02-22T13:16:47.074251Z",
     "start_time": "2021-02-22T13:16:47.055253Z"
    }
   },
   "outputs": [
    {
     "data": {
      "text/plain": [
       "'56789'"
      ]
     },
     "execution_count": 153,
     "metadata": {},
     "output_type": "execute_result"
    }
   ],
   "source": [
    "str[5:100] # 5번째 끝까지"
   ]
  },
  {
   "cell_type": "code",
   "execution_count": 154,
   "metadata": {
    "ExecuteTime": {
     "end_time": "2021-02-22T13:16:48.570293Z",
     "start_time": "2021-02-22T13:16:48.564317Z"
    }
   },
   "outputs": [
    {
     "name": "stdout",
     "output_type": "stream",
     "text": [
      "02468\n",
      "02468\n"
     ]
    }
   ],
   "source": [
    "print(str[0:9:2]) # 0번째부터 2씩 증가해서 9번째 앞까지 0,2,4,6,8번째\n",
    "print(str[::2])"
   ]
  },
  {
   "cell_type": "code",
   "execution_count": 155,
   "metadata": {
    "ExecuteTime": {
     "end_time": "2021-02-22T13:16:49.552685Z",
     "start_time": "2021-02-22T13:16:49.533734Z"
    }
   },
   "outputs": [
    {
     "name": "stdout",
     "output_type": "stream",
     "text": [
      "987654321\n",
      "9876543210\n",
      "9876543210\n"
     ]
    }
   ],
   "source": [
    "# 끝부터 처음까지 꺼꾸로\n",
    "print(str[9:0:-1]) # 9부터 0번째 전까지 -1씩 감소\n",
    "print(str[9::-1])   # 9부터 처음까지 -1씩 감소\n",
    "print(str[::-1])    # 끝부터 처음까지 -1씩 감소"
   ]
  },
  {
   "cell_type": "code",
   "execution_count": 156,
   "metadata": {
    "ExecuteTime": {
     "end_time": "2021-02-22T13:16:51.786854Z",
     "start_time": "2021-02-22T13:16:51.768902Z"
    }
   },
   "outputs": [
    {
     "name": "stdout",
     "output_type": "stream",
     "text": [
      "이름:홍길동, 주소:서울, 전화:02-716-1006, 특징:번쩍번쩍\n"
     ]
    }
   ],
   "source": [
    "import re\n",
    "data = \"이름:홍길동, 주소:서울, 전화:02-716-1006, 특징:번쩍번쩍\"\n",
    "print(data)"
   ]
  },
  {
   "cell_type": "code",
   "execution_count": 157,
   "metadata": {
    "ExecuteTime": {
     "end_time": "2021-02-22T13:16:54.735106Z",
     "start_time": "2021-02-22T13:16:54.718104Z"
    }
   },
   "outputs": [
    {
     "name": "stdout",
     "output_type": "stream",
     "text": [
      "data에서 추출된 전화번호  ['02-716-1006']\n"
     ]
    }
   ],
   "source": [
    "phone_pattern = r'[\\d]{2,3}-[\\d]{3,4}-[\\d]{4}'\n",
    "phone = re.findall(phone_pattern, data)\n",
    "print('data에서 추출된 전화번호 ', phone)"
   ]
  },
  {
   "cell_type": "markdown",
   "metadata": {},
   "source": [
    "## 3.3 논리형(True, False)"
   ]
  },
  {
   "cell_type": "code",
   "execution_count": 158,
   "metadata": {
    "ExecuteTime": {
     "end_time": "2021-02-22T13:17:06.517379Z",
     "start_time": "2021-02-22T13:17:06.501423Z"
    }
   },
   "outputs": [
    {
     "name": "stdout",
     "output_type": "stream",
     "text": [
      "True\n",
      "<class 'bool'>\n",
      "True\n"
     ]
    }
   ],
   "source": [
    "a = True\n",
    "print(a)\n",
    "print(type(a))\n",
    "print(isinstance(a, bool))"
   ]
  },
  {
   "cell_type": "code",
   "execution_count": 159,
   "metadata": {
    "ExecuteTime": {
     "end_time": "2021-02-22T13:17:08.847274Z",
     "start_time": "2021-02-22T13:17:08.832327Z"
    }
   },
   "outputs": [],
   "source": [
    "# False로 간주되는 것 : 0, None, \"\" [], (), {}\n",
    "# ' ', 널문자('\\0')은 True"
   ]
  },
  {
   "cell_type": "code",
   "execution_count": 160,
   "metadata": {
    "ExecuteTime": {
     "end_time": "2021-02-22T13:17:10.016099Z",
     "start_time": "2021-02-22T13:17:10.006144Z"
    }
   },
   "outputs": [
    {
     "name": "stdout",
     "output_type": "stream",
     "text": [
      "False\n"
     ]
    }
   ],
   "source": [
    "if [] :\n",
    "    print(True)\n",
    "else:\n",
    "    print(False)"
   ]
  },
  {
   "cell_type": "code",
   "execution_count": 97,
   "metadata": {
    "ExecuteTime": {
     "end_time": "2021-02-22T13:02:07.459921Z",
     "start_time": "2021-02-22T13:02:07.453978Z"
    }
   },
   "outputs": [
    {
     "name": "stdout",
     "output_type": "stream",
     "text": [
      "False\n"
     ]
    }
   ],
   "source": [
    "a = 10\n",
    "b = 10\n",
    "if a-b :\n",
    "    print(True)\n",
    "else:\n",
    "    print(False)"
   ]
  },
  {
   "cell_type": "code",
   "execution_count": 98,
   "metadata": {
    "ExecuteTime": {
     "end_time": "2021-02-22T13:02:09.223360Z",
     "start_time": "2021-02-22T13:02:09.208365Z"
    }
   },
   "outputs": [
    {
     "name": "stdout",
     "output_type": "stream",
     "text": [
      "False\n"
     ]
    }
   ],
   "source": [
    "if 0+0j:\n",
    "    print(True)\n",
    "else:\n",
    "    print(False)"
   ]
  },
  {
   "cell_type": "markdown",
   "metadata": {},
   "source": [
    "# 4절. 포맷팅\n",
    "- 포맷팅이란 출력할 문자, 숫자, 날짜 데이터에 형식을 지정하는 것\n",
    "- 변수와 텍스트를 결합해서 보기 좋은 형식의 새로운 텍스트를 만들때 사용"
   ]
  },
  {
   "cell_type": "markdown",
   "metadata": {},
   "source": [
    "## 4.1 문자열에 형식 지정"
   ]
  },
  {
   "cell_type": "code",
   "execution_count": 92,
   "metadata": {
    "ExecuteTime": {
     "end_time": "2021-02-22T13:01:40.888759Z",
     "start_time": "2021-02-22T13:01:40.881778Z"
    }
   },
   "outputs": [
    {
     "name": "stdout",
     "output_type": "stream",
     "text": [
      "홍길동님의 나이는 30살입니다\n"
     ]
    }
   ],
   "source": [
    "name = \"홍길동\"\n",
    "age = 30\n",
    "print(name, '님의 나이는 ', age, '살입니다', sep='')\n",
    "# 변수와 텍스트를 번갈아 사용해서 형식을 지정하는 것은 가독성이 떨어지고 코드를 작성하기 불편."
   ]
  },
  {
   "cell_type": "code",
   "execution_count": 93,
   "metadata": {
    "ExecuteTime": {
     "end_time": "2021-02-22T13:01:43.046959Z",
     "start_time": "2021-02-22T13:01:43.040973Z"
    }
   },
   "outputs": [
    {
     "data": {
      "text/plain": [
       "'홍길동님의 나이는 30살입니다'"
      ]
     },
     "execution_count": 93,
     "metadata": {},
     "output_type": "execute_result"
    }
   ],
   "source": [
    "# 이전 스타일\n",
    "# %s문자열, %c문자, %d정수(10진수), %f실수, %x 16진수, %o8진수, %% 문자%\n",
    "\"%s님의 나이는 %d살입니다\"%(name, age)"
   ]
  },
  {
   "cell_type": "code",
   "execution_count": 94,
   "metadata": {
    "ExecuteTime": {
     "end_time": "2021-02-22T13:01:44.865292Z",
     "start_time": "2021-02-22T13:01:44.860305Z"
    }
   },
   "outputs": [
    {
     "data": {
      "text/plain": [
       "'홍길동님의 나이는 30살입니다'"
      ]
     },
     "execution_count": 94,
     "metadata": {},
     "output_type": "execute_result"
    }
   ],
   "source": [
    "# 새로운 스타일\n",
    "\"{}님의 나이는 {}살입니다\".format(name, age)"
   ]
  },
  {
   "cell_type": "code",
   "execution_count": 95,
   "metadata": {
    "ExecuteTime": {
     "end_time": "2021-02-22T13:01:47.244971Z",
     "start_time": "2021-02-22T13:01:47.234997Z"
    }
   },
   "outputs": [
    {
     "data": {
      "text/plain": [
       "'홍길동님의 나이는 30살입니다'"
      ]
     },
     "execution_count": 95,
     "metadata": {},
     "output_type": "execute_result"
    }
   ],
   "source": [
    "\"{1}님의 나이는 {0}살입니다\".format(age, name)"
   ]
  },
  {
   "cell_type": "code",
   "execution_count": null,
   "metadata": {
    "ExecuteTime": {
     "end_time": "2021-02-22T12:55:31.220096Z",
     "start_time": "2021-02-22T12:55:31.140Z"
    }
   },
   "outputs": [],
   "source": [
    "# 인덱스 : 출력할 인수의 인덱스(순서)\n",
    "# 정렬방법 : <기호는 왼쪽정렬, >기호는 오른쪽정렬, ^기호는 가운데 정렬\n",
    "# 자릿수 : 출력할 자릿수 지정. 변수보다 적은 자릿수가 지정될 경우 무시되고 변수가 다 출력.\n",
    "# 타입 : d는 10진수, f는 실수, s는 문자, b는 2진수, o는 8진수, x는 16진수"
   ]
  },
  {
   "cell_type": "code",
   "execution_count": 96,
   "metadata": {
    "ExecuteTime": {
     "end_time": "2021-02-22T13:02:00.842615Z",
     "start_time": "2021-02-22T13:01:51.449006Z"
    }
   },
   "outputs": [
    {
     "name": "stdout",
     "output_type": "stream",
     "text": [
      "이름은 ?park\n",
      "나이는 ?10\n",
      "park님의 나이는 10입니다\n",
      "park님의 나이는 10입니다\n"
     ]
    }
   ],
   "source": [
    "name = input('이름은 ?')\n",
    "age = int(input('나이는 ?'))\n",
    "print(\"{}님의 나이는 {}입니다\".format(name, age))\n",
    "print(\"{1}님의 나이는 {0}입니다\".format(age, name)) # 인덱스는 순서지정"
   ]
  },
  {
   "cell_type": "code",
   "execution_count": 161,
   "metadata": {
    "ExecuteTime": {
     "end_time": "2021-02-22T13:17:20.856184Z",
     "start_time": "2021-02-22T13:17:20.851198Z"
    }
   },
   "outputs": [
    {
     "name": "stdout",
     "output_type": "stream",
     "text": [
      "10살 홍\"길\"동님은 10살이 참 좋은 걸 알려나\n"
     ]
    }
   ],
   "source": [
    "print(\"{0}살 {1}님은 {0}살이 참 좋은 걸 알려나\".format(age, name))"
   ]
  },
  {
   "cell_type": "code",
   "execution_count": 89,
   "metadata": {
    "ExecuteTime": {
     "end_time": "2021-02-22T13:00:45.801609Z",
     "start_time": "2021-02-22T13:00:45.776632Z"
    }
   },
   "outputs": [
    {
     "ename": "IndexError",
     "evalue": "Replacement index 2 out of range for positional args tuple",
     "output_type": "error",
     "traceback": [
      "\u001b[1;31m---------------------------------------------------------------------------\u001b[0m",
      "\u001b[1;31mIndexError\u001b[0m                                Traceback (most recent call last)",
      "\u001b[1;32m<ipython-input-89-9c84a086840f>\u001b[0m in \u001b[0;36m<module>\u001b[1;34m\u001b[0m\n\u001b[0;32m      1\u001b[0m \u001b[1;31m# {}만 쓸 경우 변수의 수와 갯수가 작으면 오류\u001b[0m\u001b[1;33m\u001b[0m\u001b[1;33m\u001b[0m\u001b[1;33m\u001b[0m\u001b[0m\n\u001b[0;32m      2\u001b[0m \u001b[0ma\u001b[0m\u001b[1;33m,\u001b[0m \u001b[0mb\u001b[0m \u001b[1;33m=\u001b[0m \u001b[1;36m10\u001b[0m\u001b[1;33m,\u001b[0m \u001b[1;36m20\u001b[0m\u001b[1;33m\u001b[0m\u001b[1;33m\u001b[0m\u001b[0m\n\u001b[1;32m----> 3\u001b[1;33m \u001b[0mprint\u001b[0m\u001b[1;33m(\u001b[0m\u001b[1;34m\"출력 : {}, {}, {}\"\u001b[0m\u001b[1;33m.\u001b[0m\u001b[0mformat\u001b[0m\u001b[1;33m(\u001b[0m\u001b[0ma\u001b[0m\u001b[1;33m,\u001b[0m \u001b[0mb\u001b[0m\u001b[1;33m)\u001b[0m\u001b[1;33m)\u001b[0m\u001b[1;33m\u001b[0m\u001b[1;33m\u001b[0m\u001b[0m\n\u001b[0m",
      "\u001b[1;31mIndexError\u001b[0m: Replacement index 2 out of range for positional args tuple"
     ]
    }
   ],
   "source": [
    "# {}만 쓸 경우 변수의 수와 갯수가 작으면 오류\n",
    "a, b = 10, 20\n",
    "print(\"출력 : {}, {}, {}\".format(a, b))"
   ]
  },
  {
   "cell_type": "code",
   "execution_count": 88,
   "metadata": {
    "ExecuteTime": {
     "end_time": "2021-02-22T13:00:41.088751Z",
     "start_time": "2021-02-22T13:00:41.070806Z"
    }
   },
   "outputs": [
    {
     "name": "stdout",
     "output_type": "stream",
     "text": [
      "출력 : [12345], [     12345], [12345]\n",
      "출력 : [Hello], [Hello     ], [Hello]\n"
     ]
    }
   ],
   "source": [
    "# 숫자의 경우 출력할 변수보다 큰 자릿수를 지정하면 오른쪽 정렬(기본값)\n",
    "# 문자의 경우 출력할 변수보다 큰 자릿수를 지정하면 왼쪽 정렬(기본값)\n",
    "# 변수보다 작은 자리수를 지정하면 자리수 지정이 무시되고 다 출력\n",
    "a = 12345\n",
    "s = \"Hello\"\n",
    "print(\"출력 : [{}], [{:10}], [{:3}]\".format(a, a, a))\n",
    "print(\"출력 : [{}], [{:10}], [{:3}]\".format(s, s, s))"
   ]
  },
  {
   "cell_type": "code",
   "execution_count": 87,
   "metadata": {
    "ExecuteTime": {
     "end_time": "2021-02-22T13:00:39.178103Z",
     "start_time": "2021-02-22T13:00:39.172119Z"
    }
   },
   "outputs": [
    {
     "name": "stdout",
     "output_type": "stream",
     "text": [
      "출력\n",
      "10진수 - 12345, 실수 - 12345.0, \n",
      "2진수 - 11000000111001, 8진수 - 30071, 16진수 - 3039\n"
     ]
    }
   ],
   "source": [
    "\n",
    "a = 12345 # 숫자의 경우 다양한 진수로 표현\n",
    "print(\"\"\"출력\n",
    "10진수 - {:d}, 실수 - {:7.1f}, \n",
    "2진수 - {:b}, 8진수 - {:o}, 16진수 - {:x}\"\"\".\\\n",
    "      format(a,a,a,a,a))"
   ]
  },
  {
   "cell_type": "code",
   "execution_count": 71,
   "metadata": {
    "ExecuteTime": {
     "end_time": "2021-02-22T12:55:31.342774Z",
     "start_time": "2021-02-22T12:55:31.328808Z"
    }
   },
   "outputs": [
    {
     "name": "stdout",
     "output_type": "stream",
     "text": [
      "출력 : [    10], [20    ], [  3   ]\n"
     ]
    }
   ],
   "source": [
    "# 정렬방법 < > ^(정확하게 가운데가 안되면 하나 왼쪽)\n",
    "# {[인덱스]:[공백대체문자][정렬방법][자릿수][타입]}'.format(변수명)\n",
    "a, b, c = 10, 20, 3\n",
    "print(\"출력 : [{:>6d}], [{:<6d}], [{:^6}]\".format(a, b, c))"
   ]
  },
  {
   "cell_type": "code",
   "execution_count": 72,
   "metadata": {
    "ExecuteTime": {
     "end_time": "2021-02-22T12:55:31.357729Z",
     "start_time": "2021-02-22T12:55:31.344765Z"
    }
   },
   "outputs": [
    {
     "name": "stdout",
     "output_type": "stream",
     "text": [
      "출력 : [$$$$$$$$10], [Hello***************], [Hel_______]\n"
     ]
    }
   ],
   "source": [
    "# 인덱스:공백대체문자 정렬방법 자릿수 타입\n",
    "a = 10\n",
    "s = \"Hello\"\n",
    "print(\"출력 : [{0:$>10}], [{1:*<20}], [{1:_<10.3}]\".format(a, s))\n",
    "                                # 10.3 : 전체 10자리 확보, 변수는 3자리만 출력"
   ]
  },
  {
   "cell_type": "code",
   "execution_count": 73,
   "metadata": {
    "ExecuteTime": {
     "end_time": "2021-02-22T12:55:31.372689Z",
     "start_time": "2021-02-22T12:55:31.359723Z"
    }
   },
   "outputs": [
    {
     "ename": "ValueError",
     "evalue": "Invalid format specifier",
     "output_type": "error",
     "traceback": [
      "\u001b[1;31m---------------------------------------------------------------------------\u001b[0m",
      "\u001b[1;31mValueError\u001b[0m                                Traceback (most recent call last)",
      "\u001b[1;32m<ipython-input-73-308ac1d29246>\u001b[0m in \u001b[0;36m<module>\u001b[1;34m\u001b[0m\n\u001b[0;32m      1\u001b[0m \u001b[1;31m# 주의점 : 공백대체문자를 지정할때는 반드시 정렬방법를 표현해야 한다.\u001b[0m\u001b[1;33m\u001b[0m\u001b[1;33m\u001b[0m\u001b[1;33m\u001b[0m\u001b[0m\n\u001b[1;32m----> 2\u001b[1;33m \u001b[0mprint\u001b[0m\u001b[1;33m(\u001b[0m\u001b[1;34m\"{0:$10} / {1:*20}\"\u001b[0m\u001b[1;33m.\u001b[0m\u001b[0mformat\u001b[0m\u001b[1;33m(\u001b[0m\u001b[0ma\u001b[0m\u001b[1;33m,\u001b[0m \u001b[0ms\u001b[0m\u001b[1;33m)\u001b[0m\u001b[1;33m)\u001b[0m\u001b[1;33m\u001b[0m\u001b[1;33m\u001b[0m\u001b[0m\n\u001b[0m",
      "\u001b[1;31mValueError\u001b[0m: Invalid format specifier"
     ]
    }
   ],
   "source": [
    "# 주의점 : 공백대체문자를 지정할때는 반드시 정렬방법를 표현해야 한다.\n",
    "print(\"{0:$10} / {1:*20}\".format(a, s))"
   ]
  },
  {
   "cell_type": "code",
   "execution_count": 86,
   "metadata": {
    "ExecuteTime": {
     "end_time": "2021-02-22T13:00:30.545412Z",
     "start_time": "2021-02-22T13:00:30.532448Z"
    }
   },
   "outputs": [
    {
     "name": "stdout",
     "output_type": "stream",
     "text": [
      "출력 : [      -123] [      +123] [      +123]\n",
      "출력 : [-      123] [       123] [       123]\n",
      "출력 : [-      123] [+      123] [+      123]\n",
      "출력 : [-      123] [+      123] [+000000123]\n",
      "출력 : [-******123] [+$$$$$$123] [+______123]\n"
     ]
    }
   ],
   "source": [
    "# +를 붙이면 양수의 경우 숫자앞에 부호를 붙여줌\n",
    "# =를 붙이면 전체 자릿수만큼 출력하는 문자의 맨 앞에 부호 표시(양수는 부호나타나지 않음)\n",
    "# =+를 사용하면 =도 표시\n",
    "# 자리수앞에 0을 채우면 빈자리에 0을 채워\n",
    "# 공백대체문자는 =앞에\n",
    "# 공백대체문자와 자리수 앞에 0을 붙이는 것을 같이 자리수앞에 0이 무시\n",
    "  # (공백대체문자와 자리수 앞 0은 공백대체문자가 우선순위가 높음)\n",
    "a, b = 123, -123\n",
    "print(\"출력 : [{:+10}] [{:+10}] [{:+10}]\".format(b, a, a))\n",
    "print(\"출력 : [{:=10}] [{:=10}] [{:=10}]\".format(b, a, a))\n",
    "print(\"출력 : [{:=+10}] [{:=+10}] [{:=+10}]\".format(b, a, a))\n",
    "print(\"출력 : [{:=+10}] [{:=+10}] [{:=+010}]\".format(b, a, a))\n",
    "\n",
    "print(\"출력 : [{:*=+10}] [{:$=+10}] [{:_=+010}]\".format(b, a, a))"
   ]
  },
  {
   "cell_type": "code",
   "execution_count": 85,
   "metadata": {
    "ExecuteTime": {
     "end_time": "2021-02-22T13:00:28.229881Z",
     "start_time": "2021-02-22T13:00:28.216916Z"
    }
   },
   "outputs": [
    {
     "name": "stdout",
     "output_type": "stream",
     "text": [
      "    [0123456789]\n",
      "a = [       2.8]\n",
      "s = [        He]\n"
     ]
    }
   ],
   "source": [
    "# 전체자리수.표현될자리수\n",
    "a = 2.785\n",
    "s = \"Hello\"\n",
    "print(\"    [0123456789]\")\n",
    "print(\"a = [{:>10.2}]\".format(a))\n",
    "print(\"s = [{:>10.2}]\".format(s))"
   ]
  },
  {
   "cell_type": "code",
   "execution_count": 84,
   "metadata": {
    "ExecuteTime": {
     "end_time": "2021-02-22T13:00:25.641140Z",
     "start_time": "2021-02-22T13:00:25.624197Z"
    }
   },
   "outputs": [
    {
     "name": "stdout",
     "output_type": "stream",
     "text": [
      "a = [ 2.8]\n"
     ]
    }
   ],
   "source": [
    "# 전체자리수.소수점자리수f  (전체자리수에는 소수점 포함)\n",
    "print(\"a = [{:4.1f}]\".format(a)) # _ _ . _"
   ]
  },
  {
   "cell_type": "code",
   "execution_count": 83,
   "metadata": {
    "ExecuteTime": {
     "end_time": "2021-02-22T13:00:22.605240Z",
     "start_time": "2021-02-22T13:00:22.589240Z"
    }
   },
   "outputs": [
    {
     "name": "stdout",
     "output_type": "stream",
     "text": [
      "출력 : [0123456789]\n",
      "출력 : [      2.79]\n",
      "출력 : [      2.79]\n"
     ]
    }
   ],
   "source": [
    "# format함수의 매개변수에 출력포맷\n",
    "a = 2.785\n",
    "print(\"출력 : [0123456789]\")\n",
    "print(\"출력 : [{:>10.3}]\".format(a))\n",
    "print(\"출력 : [{:{}{}.{}}]\".format(a, '>', 10, 3))"
   ]
  },
  {
   "cell_type": "code",
   "execution_count": 82,
   "metadata": {
    "ExecuteTime": {
     "end_time": "2021-02-22T13:00:20.251297Z",
     "start_time": "2021-02-22T13:00:20.242359Z"
    }
   },
   "outputs": [
    {
     "name": "stdout",
     "output_type": "stream",
     "text": [
      "출력 : [0123456789]\n",
      "출력 : [     +2.79]\n",
      "출력 : [     +2.79]\n"
     ]
    }
   ],
   "source": [
    "a = 2.785\n",
    "print(\"출력 : [0123456789]\")\n",
    "print(\"출력 : [{:>+10.3}]\".format(a))\n",
    "print(\"출력 : [{:{}{}{}.{}}]\".format(a, '>','+', 10, 3))"
   ]
  },
  {
   "cell_type": "markdown",
   "metadata": {
    "ExecuteTime": {
     "end_time": "2021-02-22T12:59:00.684228Z",
     "start_time": "2021-02-22T12:59:00.679241Z"
    }
   },
   "source": [
    "## 4.3 날짜출력"
   ]
  },
  {
   "cell_type": "code",
   "execution_count": 104,
   "metadata": {
    "ExecuteTime": {
     "end_time": "2021-02-22T13:03:34.327344Z",
     "start_time": "2021-02-22T13:03:34.320330Z"
    }
   },
   "outputs": [
    {
     "data": {
      "text/plain": [
       "time.struct_time(tm_year=2021, tm_mon=2, tm_mday=22, tm_hour=22, tm_min=3, tm_sec=34, tm_wday=0, tm_yday=53, tm_isdst=0)"
      ]
     },
     "execution_count": 104,
     "metadata": {},
     "output_type": "execute_result"
    }
   ],
   "source": [
    "# %Y는 연도4자리, %y는 연도2자리, %m은 월, %d는 일\n",
    "# %H는 24시간, %I는 12시간, %p는 PM또는AM, %M은 분, %S는 초를 의미\n",
    "from time import localtime # time 패키지에서 localtime라는 함수 사용\n",
    "now = localtime()\n",
    "now # 현재 날짜와 시간"
   ]
  },
  {
   "cell_type": "code",
   "execution_count": 162,
   "metadata": {
    "ExecuteTime": {
     "end_time": "2021-02-22T13:17:37.494490Z",
     "start_time": "2021-02-22T13:17:37.486483Z"
    }
   },
   "outputs": [
    {
     "name": "stdout",
     "output_type": "stream",
     "text": [
      "2021년 02월 22일 22:03:34\n",
      "2021년 02월 22일 PM 10:03:34\n"
     ]
    }
   ],
   "source": [
    "# 날짜를 문자열로 출력하기 위해 format보다 strftime()함수 이용\n",
    "from time import strftime \n",
    "print(strftime(\"%Y년 %m월 %d일 %H:%M:%S\", now))\n",
    "print(strftime(\"%Y년 %m월 %d일 %p %I:%M:%S\", now))"
   ]
  },
  {
   "cell_type": "code",
   "execution_count": 163,
   "metadata": {
    "ExecuteTime": {
     "end_time": "2021-02-22T13:17:38.647622Z",
     "start_time": "2021-02-22T13:17:38.635653Z"
    }
   },
   "outputs": [
    {
     "data": {
      "text/plain": [
       "datetime.datetime(2021, 4, 30, 18, 20)"
      ]
     },
     "execution_count": 163,
     "metadata": {},
     "output_type": "execute_result"
    }
   ],
   "source": [
    "# format함수 이용\n",
    "from datetime import datetime\n",
    "thatday = datetime(2021, 4, 30, 18, 20, 0)\n",
    "thatday"
   ]
  },
  {
   "cell_type": "code",
   "execution_count": 164,
   "metadata": {
    "ExecuteTime": {
     "end_time": "2021-02-22T13:17:39.642066Z",
     "start_time": "2021-02-22T13:17:39.623117Z"
    }
   },
   "outputs": [
    {
     "name": "stdout",
     "output_type": "stream",
     "text": [
      "2021 - 04 - 30 18:20:00\n"
     ]
    }
   ],
   "source": [
    "print(\"{:%Y - %m - %d %H:%M:%S}\".format(thatday))"
   ]
  },
  {
   "cell_type": "code",
   "execution_count": 165,
   "metadata": {
    "ExecuteTime": {
     "end_time": "2021-02-22T13:17:40.682809Z",
     "start_time": "2021-02-22T13:17:40.675828Z"
    }
   },
   "outputs": [
    {
     "name": "stdout",
     "output_type": "stream",
     "text": [
      "2021 - 04 - 30 PM 06:20:00\n"
     ]
    }
   ],
   "source": [
    "print(\"{:%Y - %m - %d %p %I:%M:%S}\".format(thatday))"
   ]
  },
  {
   "cell_type": "code",
   "execution_count": 166,
   "metadata": {
    "ExecuteTime": {
     "end_time": "2021-02-22T13:17:42.414017Z",
     "start_time": "2021-02-22T13:17:42.398025Z"
    }
   },
   "outputs": [
    {
     "name": "stdout",
     "output_type": "stream",
     "text": [
      "Hello, 홍길동. You are 30 years old\n",
      "Hello, 홍길동. You are 30 years old\n",
      "Hello, 홍길동. You are 30 years old\n"
     ]
    }
   ],
   "source": [
    "name = \"홍길동\"\n",
    "age = 30\n",
    "print(f\"Hello, {name}. You are {age} years old\")\n",
    "print(\"Hello, %s. You are %d years old\" % (name, age))\n",
    "print(\"Hello, {}. You are {} years old\".format(name, age))"
   ]
  },
  {
   "cell_type": "markdown",
   "metadata": {},
   "source": [
    "# 5절. 연산자"
   ]
  },
  {
   "cell_type": "markdown",
   "metadata": {},
   "source": [
    "## 5.1 산술 연산자"
   ]
  },
  {
   "cell_type": "code",
   "execution_count": 167,
   "metadata": {
    "ExecuteTime": {
     "end_time": "2021-02-22T13:17:44.945850Z",
     "start_time": "2021-02-22T13:17:44.926869Z"
    }
   },
   "outputs": [
    {
     "name": "stdout",
     "output_type": "stream",
     "text": [
      "1000\n",
      "3\n",
      "3.3333333333333335\n",
      "3.0\n"
     ]
    }
   ],
   "source": [
    "a = 10\n",
    "print(a ** 3) # a의 3제곱\n",
    "print(a // 3) # a 나누기 3의 몫\n",
    "print(a/3)    # 3.3333333\n",
    "print(9/3)    # 3.0 (파이썬에서 /연산의 결과는 실수)"
   ]
  },
  {
   "cell_type": "code",
   "execution_count": 168,
   "metadata": {
    "ExecuteTime": {
     "end_time": "2021-02-22T13:17:45.915587Z",
     "start_time": "2021-02-22T13:17:45.908567Z"
    }
   },
   "outputs": [
    {
     "name": "stdout",
     "output_type": "stream",
     "text": [
      "1.0\n"
     ]
    }
   ],
   "source": [
    "print(10.0 % 3.0) # 실수끼리 나머지 연산"
   ]
  },
  {
   "cell_type": "code",
   "execution_count": 169,
   "metadata": {
    "ExecuteTime": {
     "end_time": "2021-02-22T13:17:46.990593Z",
     "start_time": "2021-02-22T13:17:46.983613Z"
    }
   },
   "outputs": [
    {
     "name": "stdout",
     "output_type": "stream",
     "text": [
      "0.19999999999999996\n"
     ]
    }
   ],
   "source": [
    "print(3.8 % 1.2) # 실수끼리 나머지 연산시 결과가 다소 오차가 존재할 수 있음"
   ]
  },
  {
   "cell_type": "markdown",
   "metadata": {},
   "source": [
    "## 5.2 대입(할당) 연산자\n",
    "- &, |, not, and, or"
   ]
  },
  {
   "cell_type": "code",
   "execution_count": 170,
   "metadata": {
    "ExecuteTime": {
     "end_time": "2021-02-22T13:17:50.451935Z",
     "start_time": "2021-02-22T13:17:50.438917Z"
    }
   },
   "outputs": [
    {
     "name": "stdout",
     "output_type": "stream",
     "text": [
      "True\n",
      "0\n",
      "True\n"
     ]
    }
   ],
   "source": [
    "print((10>3) & (10>5)) # 논리연산자 True & True\n",
    "print(12 & 1)          # 비트연산   1100 & 0001\n",
    "print(5 < 8 < 10 < 100)      # 논리연산자를 삼항, 사항, .. 가능"
   ]
  },
  {
   "cell_type": "code",
   "execution_count": 171,
   "metadata": {
    "ExecuteTime": {
     "end_time": "2021-02-22T13:17:51.524776Z",
     "start_time": "2021-02-22T13:17:51.509813Z"
    }
   },
   "outputs": [
    {
     "name": "stdout",
     "output_type": "stream",
     "text": [
      "False\n"
     ]
    }
   ],
   "source": [
    "print(10>3 & 10>5) # 연산자 우선 순위 : 비트연산자가 논리비교연산보다 높다\n",
    "#        0011 & 1010 = 0010 (2)  \n",
    "# print(10 > 2 > 5 )"
   ]
  },
  {
   "cell_type": "code",
   "execution_count": 172,
   "metadata": {
    "ExecuteTime": {
     "end_time": "2021-02-22T13:17:52.521524Z",
     "start_time": "2021-02-22T13:17:52.506615Z"
    }
   },
   "outputs": [
    {
     "name": "stdout",
     "output_type": "stream",
     "text": [
      "빈스트링은 False인가\n"
     ]
    }
   ],
   "source": [
    "# ''(빈스트링)은 False로 그외는 True\n",
    "if '':\n",
    "    print('빈스트링은 True인가')\n",
    "else:\n",
    "    print('빈스트링은 False인가')"
   ]
  },
  {
   "cell_type": "code",
   "execution_count": 173,
   "metadata": {
    "ExecuteTime": {
     "end_time": "2021-02-22T13:17:53.888781Z",
     "start_time": "2021-02-22T13:17:53.867790Z"
    }
   },
   "outputs": [
    {
     "ename": "TypeError",
     "evalue": "unsupported operand type(s) for |: 'bool' and 'str'",
     "output_type": "error",
     "traceback": [
      "\u001b[1;31m---------------------------------------------------------------------------\u001b[0m",
      "\u001b[1;31mTypeError\u001b[0m                                 Traceback (most recent call last)",
      "\u001b[1;32m<ipython-input-173-720a0f9399ef>\u001b[0m in \u001b[0;36m<module>\u001b[1;34m\u001b[0m\n\u001b[0;32m      1\u001b[0m \u001b[1;31m# 논리연산자에 문자열이 오면 에러\u001b[0m\u001b[1;33m\u001b[0m\u001b[1;33m\u001b[0m\u001b[1;33m\u001b[0m\u001b[0m\n\u001b[1;32m----> 2\u001b[1;33m \u001b[1;32mTrue\u001b[0m \u001b[1;33m|\u001b[0m \u001b[1;34m''\u001b[0m\u001b[1;33m\u001b[0m\u001b[1;33m\u001b[0m\u001b[0m\n\u001b[0m",
      "\u001b[1;31mTypeError\u001b[0m: unsupported operand type(s) for |: 'bool' and 'str'"
     ]
    }
   ],
   "source": [
    "# 논리연산자에 문자열이 오면 에러\n",
    "True | ''"
   ]
  },
  {
   "cell_type": "code",
   "execution_count": 174,
   "metadata": {
    "ExecuteTime": {
     "end_time": "2021-02-22T13:17:54.919856Z",
     "start_time": "2021-02-22T13:17:54.911878Z"
    }
   },
   "outputs": [
    {
     "data": {
      "text/plain": [
       "True"
      ]
     },
     "execution_count": 174,
     "metadata": {},
     "output_type": "execute_result"
    }
   ],
   "source": [
    "True | bool('')"
   ]
  },
  {
   "cell_type": "code",
   "execution_count": 175,
   "metadata": {
    "ExecuteTime": {
     "end_time": "2021-02-22T13:17:55.977674Z",
     "start_time": "2021-02-22T13:17:55.919827Z"
    }
   },
   "outputs": [
    {
     "name": "stdout",
     "output_type": "stream",
     "text": [
      " C 드라이브의 볼륨에는 이름이 없습니다.\n",
      " 볼륨 일련 번호: 2845-8C3B\n",
      "\n",
      " C:\\Users\\porsc\\OneDrive\\바탕 화면\\BigData 수업\\1. BigData UI 전문과 과정(정규)\\2.실습(Source)\\8.Python 디렉터리\n",
      "\n",
      "2021-02-22  오후 10:17    <DIR>          .\n",
      "2021-02-22  오후 10:17    <DIR>          ..\n",
      "2021-02-21  오후 09:58    <DIR>          .ipynb_checkpoints\n",
      "2021-02-21  오후 09:27             1,428 8.Python - 바로 가기.lnk\n",
      "2021-02-22  오후 10:17            59,984 CH01_1절_변수,2절_화면,3절_기본자료형.ipynb\n",
      "               2개 파일              61,412 바이트\n",
      "               3개 디렉터리  144,631,521,280 바이트 남음\n"
     ]
    }
   ],
   "source": [
    "# 주피터노트북에서 !는 명령행을 실행시킬 수 있음\n",
    "!dir"
   ]
  },
  {
   "cell_type": "code",
   "execution_count": 176,
   "metadata": {
    "ExecuteTime": {
     "end_time": "2021-02-22T13:17:56.942976Z",
     "start_time": "2021-02-22T13:17:56.929962Z"
    }
   },
   "outputs": [],
   "source": [
    "# 논리의 반전은 ! 아니라 not 이다."
   ]
  },
  {
   "cell_type": "code",
   "execution_count": 177,
   "metadata": {
    "ExecuteTime": {
     "end_time": "2021-02-22T13:17:58.051300Z",
     "start_time": "2021-02-22T13:17:58.032353Z"
    }
   },
   "outputs": [
    {
     "data": {
      "text/plain": [
       "False"
      ]
     },
     "execution_count": 177,
     "metadata": {},
     "output_type": "execute_result"
    }
   ],
   "source": [
    "not True"
   ]
  },
  {
   "cell_type": "code",
   "execution_count": 178,
   "metadata": {
    "ExecuteTime": {
     "end_time": "2021-02-22T13:17:58.888560Z",
     "start_time": "2021-02-22T13:17:58.883616Z"
    }
   },
   "outputs": [
    {
     "data": {
      "text/plain": [
       "False"
      ]
     },
     "execution_count": 178,
     "metadata": {},
     "output_type": "execute_result"
    }
   ],
   "source": [
    "not -999"
   ]
  },
  {
   "cell_type": "code",
   "execution_count": 179,
   "metadata": {
    "ExecuteTime": {
     "end_time": "2021-02-22T13:18:00.408005Z",
     "start_time": "2021-02-22T13:18:00.400031Z"
    }
   },
   "outputs": [
    {
     "name": "stdout",
     "output_type": "stream",
     "text": [
      "False\n"
     ]
    }
   ],
   "source": [
    "a = False\n",
    "if not a:\n",
    "    print(a)"
   ]
  },
  {
   "cell_type": "code",
   "execution_count": 180,
   "metadata": {
    "ExecuteTime": {
     "end_time": "2021-02-22T13:18:01.746859Z",
     "start_time": "2021-02-22T13:18:01.739876Z"
    }
   },
   "outputs": [
    {
     "name": "stdout",
     "output_type": "stream",
     "text": [
      "두수는 다르다\n"
     ]
    }
   ],
   "source": [
    "a, b = 15, 16\n",
    "if a != b :\n",
    "    print('두수는 다르다')"
   ]
  },
  {
   "cell_type": "code",
   "execution_count": 181,
   "metadata": {
    "ExecuteTime": {
     "end_time": "2021-02-22T13:18:02.646846Z",
     "start_time": "2021-02-22T13:18:02.640862Z"
    }
   },
   "outputs": [
    {
     "name": "stdout",
     "output_type": "stream",
     "text": [
      "True\n"
     ]
    }
   ],
   "source": [
    "# and 연산자 : 거짓으로 판별되는 첫번째 항의 결과가 반환\n",
    "#             모든 항이 참이면 마지막 항의 결과 반환\n",
    "print(True and 3 and True)"
   ]
  },
  {
   "cell_type": "code",
   "execution_count": 182,
   "metadata": {
    "ExecuteTime": {
     "end_time": "2021-02-22T13:18:03.564512Z",
     "start_time": "2021-02-22T13:18:03.546514Z"
    }
   },
   "outputs": [
    {
     "name": "stdout",
     "output_type": "stream",
     "text": [
      "2\n"
     ]
    }
   ],
   "source": [
    "print(3 and 2)"
   ]
  },
  {
   "cell_type": "code",
   "execution_count": 183,
   "metadata": {
    "ExecuteTime": {
     "end_time": "2021-02-22T13:18:04.722673Z",
     "start_time": "2021-02-22T13:18:04.714694Z"
    }
   },
   "outputs": [
    {
     "name": "stdout",
     "output_type": "stream",
     "text": [
      "0\n"
     ]
    }
   ],
   "source": [
    "print(3 and 5.4 and True and 0 and 'Python')"
   ]
  },
  {
   "cell_type": "code",
   "execution_count": 184,
   "metadata": {
    "ExecuteTime": {
     "end_time": "2021-02-22T13:18:06.556271Z",
     "start_time": "2021-02-22T13:18:06.547320Z"
    }
   },
   "outputs": [
    {
     "name": "stdout",
     "output_type": "stream",
     "text": [
      "0\n"
     ]
    }
   ],
   "source": [
    "# or 연산자 : 참으로 판별되는 첫번째 항의 결과가 반환\n",
    "#             모든 항이 거짓이면 마지막 항의 결과 반환\n",
    "print('' or False or None or 0)"
   ]
  },
  {
   "cell_type": "code",
   "execution_count": 185,
   "metadata": {
    "ExecuteTime": {
     "end_time": "2021-02-22T13:18:07.523980Z",
     "start_time": "2021-02-22T13:18:07.514984Z"
    }
   },
   "outputs": [
    {
     "name": "stdout",
     "output_type": "stream",
     "text": [
      "100\n"
     ]
    }
   ],
   "source": [
    "print('' or 100 or None or False)"
   ]
  },
  {
   "cell_type": "markdown",
   "metadata": {},
   "source": [
    "## 5.4 비교 연산자\n",
    "- = < <= == !="
   ]
  },
  {
   "cell_type": "code",
   "execution_count": 186,
   "metadata": {
    "ExecuteTime": {
     "end_time": "2021-02-22T13:18:10.544112Z",
     "start_time": "2021-02-22T13:18:10.536135Z"
    }
   },
   "outputs": [
    {
     "data": {
      "text/plain": [
       "False"
      ]
     },
     "execution_count": 186,
     "metadata": {},
     "output_type": "execute_result"
    }
   ],
   "source": [
    "# 문자는 ASCII 코드 순으로 비교 : 특수문자 < 숫자문자 < 대문자 < 소문자 < 한글\n",
    "'아' > '하'"
   ]
  },
  {
   "cell_type": "code",
   "execution_count": 187,
   "metadata": {
    "ExecuteTime": {
     "end_time": "2021-02-22T13:18:11.555719Z",
     "start_time": "2021-02-22T13:18:11.547740Z"
    }
   },
   "outputs": [
    {
     "data": {
      "text/plain": [
       "True"
      ]
     },
     "execution_count": 187,
     "metadata": {},
     "output_type": "execute_result"
    }
   ],
   "source": [
    "'1' < 'a'"
   ]
  },
  {
   "cell_type": "code",
   "execution_count": 188,
   "metadata": {
    "ExecuteTime": {
     "end_time": "2021-02-22T13:18:12.389044Z",
     "start_time": "2021-02-22T13:18:12.374084Z"
    }
   },
   "outputs": [
    {
     "data": {
      "text/plain": [
       "True"
      ]
     },
     "execution_count": 188,
     "metadata": {},
     "output_type": "execute_result"
    }
   ],
   "source": [
    "True > False # True는 1로 매핑, False는 0으로 매핑"
   ]
  },
  {
   "cell_type": "code",
   "execution_count": 189,
   "metadata": {
    "ExecuteTime": {
     "end_time": "2021-02-22T13:18:13.879991Z",
     "start_time": "2021-02-22T13:18:13.863988Z"
    }
   },
   "outputs": [
    {
     "data": {
      "text/plain": [
       "(1, 0)"
      ]
     },
     "execution_count": 189,
     "metadata": {},
     "output_type": "execute_result"
    }
   ],
   "source": [
    "int(True), int(False)"
   ]
  },
  {
   "cell_type": "code",
   "execution_count": 190,
   "metadata": {
    "ExecuteTime": {
     "end_time": "2021-02-22T13:18:14.718039Z",
     "start_time": "2021-02-22T13:18:14.705071Z"
    }
   },
   "outputs": [
    {
     "data": {
      "text/plain": [
       "(False, True)"
      ]
     },
     "execution_count": 190,
     "metadata": {},
     "output_type": "execute_result"
    }
   ],
   "source": [
    "bool(0), bool(-9)"
   ]
  },
  {
   "cell_type": "code",
   "execution_count": 191,
   "metadata": {
    "ExecuteTime": {
     "end_time": "2021-02-22T13:18:22.120687Z",
     "start_time": "2021-02-22T13:18:15.617816Z"
    }
   },
   "outputs": [
    {
     "name": "stdout",
     "output_type": "stream",
     "text": [
      "점수를 입력하세요 >78\n",
      "합격\n"
     ]
    }
   ],
   "source": [
    "jumsu = int(input('점수를 입력하세요 >')) # input함수는 문자로 반환\n",
    "if jumsu >= 60 :\n",
    "    print('합격')\n",
    "else:\n",
    "    print('불합격')"
   ]
  },
  {
   "cell_type": "markdown",
   "metadata": {},
   "source": [
    "## 5.5 비트 연산자"
   ]
  },
  {
   "cell_type": "code",
   "execution_count": 192,
   "metadata": {
    "ExecuteTime": {
     "end_time": "2021-02-22T13:18:24.867876Z",
     "start_time": "2021-02-22T13:18:24.859900Z"
    }
   },
   "outputs": [],
   "source": [
    "a = '''\n",
    "x   y  x&y  x|y x^y(XOR)\n",
    "0   0   0    0    0\n",
    "0   1   0    1    1\n",
    "1   0   0    1    1\n",
    "1   1   1    1    0\n",
    "\n",
    "'''"
   ]
  },
  {
   "cell_type": "code",
   "execution_count": 193,
   "metadata": {
    "ExecuteTime": {
     "end_time": "2021-02-22T13:18:26.281569Z",
     "start_time": "2021-02-22T13:18:26.271591Z"
    }
   },
   "outputs": [
    {
     "name": "stdout",
     "output_type": "stream",
     "text": [
      "00001111\n",
      "00000010\n",
      "2\n",
      "15\n",
      "13\n"
     ]
    }
   ],
   "source": [
    "a = 15 # 0 0 0 0 1 1 1 1\n",
    "b = 2  # 0 0 0 0 0 0 1 0\n",
    "print(\"{:08b}\".format(a))\n",
    "print(\"{:08b}\".format(b))\n",
    "print(a & b) # 0 0 0 0 0 0 1 0 (2)\n",
    "print(a | b) # 0 0 0 0 1 1 1 1 (15)\n",
    "print(a ^ b) # 0 0 0 0 1 1 0 1 (13)"
   ]
  },
  {
   "cell_type": "code",
   "execution_count": 194,
   "metadata": {
    "ExecuteTime": {
     "end_time": "2021-02-22T13:18:28.014676Z",
     "start_time": "2021-02-22T13:18:27.994731Z"
    }
   },
   "outputs": [
    {
     "name": "stdout",
     "output_type": "stream",
     "text": [
      "3\n",
      "60\n",
      "-16\n"
     ]
    }
   ],
   "source": [
    "# shift\n",
    "# A >> B ; A를 B bit 오른쪽으로 이동 (=A를 2의 B승으로 나누는 결과)\n",
    "# A << B ; A를 B bit 왼쪽으로 이동(= A를 2의 B승으로 곱하는 결과)\n",
    "a = 15 # 0 0 0 0 1 1 1 1\n",
    "print(a >> 2) # a를 오른쪽으로 2bit 이동\n",
    "print(a << 2)\n",
    "# not 논리연산의 반전. ~ 비트연산의 반전\n",
    "print(~a) # 0 0 0 0 1 1 1 1 => 1 1 1 1 0 0 0 0 (음수는 2의 보수취함)"
   ]
  },
  {
   "cell_type": "markdown",
   "metadata": {},
   "source": [
    "## 5.6 isinstance\n",
    "- isinstance(data, type) ; 스칼라 데이터나 객체의 유형을 확인하는 함수. 어떤 값이 특정 유형인지를 확인"
   ]
  },
  {
   "cell_type": "code",
   "execution_count": 195,
   "metadata": {
    "ExecuteTime": {
     "end_time": "2021-02-22T13:18:30.080449Z",
     "start_time": "2021-02-22T13:18:30.072434Z"
    }
   },
   "outputs": [
    {
     "data": {
      "text/plain": [
       "True"
      ]
     },
     "execution_count": 195,
     "metadata": {},
     "output_type": "execute_result"
    }
   ],
   "source": [
    "isinstance(3.5, float)"
   ]
  },
  {
   "cell_type": "markdown",
   "metadata": {},
   "source": [
    "## 연습문제"
   ]
  },
  {
   "cell_type": "code",
   "execution_count": 196,
   "metadata": {
    "ExecuteTime": {
     "end_time": "2021-02-22T13:18:32.784478Z",
     "start_time": "2021-02-22T13:18:32.767486Z"
    }
   },
   "outputs": [
    {
     "name": "stdout",
     "output_type": "stream",
     "text": [
      "홍길동님의 나이는 23살입니다\n",
      "홍길동님의 나이는 23살입니다\n",
      "홍길동님의 나이는 23살입니다\n"
     ]
    }
   ],
   "source": [
    "# 1. [출력형식 : 홍길동님의 나이는 23살입니다]\n",
    "name = '홍길동'\n",
    "age = 23\n",
    "print('{}님의 나이는 {}살입니다'.format(name, age))\n",
    "print('%s님의 나이는 %d살입니다'% (name, age))\n",
    "print(f'{name}님의 나이는 {age}살입니다')"
   ]
  },
  {
   "cell_type": "code",
   "execution_count": 197,
   "metadata": {
    "ExecuteTime": {
     "end_time": "2021-02-22T13:18:38.364169Z",
     "start_time": "2021-02-22T13:18:33.707854Z"
    }
   },
   "outputs": [
    {
     "name": "stdout",
     "output_type": "stream",
     "text": [
      "첫번째 수8\n",
      "두번째 수45\n",
      "num1 + num2 =  53\n",
      "num1 - num2 =  -37\n",
      "num1 * num2 =  360\n",
      "num1 / num2 =  0.17777777777777778\n",
      "num1 // num2 =  0\n",
      "num1 % num2 =  8\n"
     ]
    }
   ],
   "source": [
    "# 2. 두 정수를 입력받아 두 수의 덧셈, 뺄셈, 곱셈, 나눗셈, 몫, 나머지를 출력하세요\n",
    "num1 = int(input('첫번째 수'))\n",
    "num2 = int(input('두번째 수'))\n",
    "print('num1 + num2 = ', (num1+num2))\n",
    "print('num1 - num2 = ', (num1-num2))\n",
    "print('num1 * num2 = ', (num1*num2))\n",
    "try:\n",
    "    print('num1 / num2 = ', (num1/num2))\n",
    "    print('num1 // num2 = ', (num1//num2))\n",
    "    print('num1 % num2 = ', (num1%num2))\n",
    "except Exception :\n",
    "    print('두번째 수에 0을 입력하여 나누기 연산이 불가합니다')"
   ]
  },
  {
   "cell_type": "code",
   "execution_count": 198,
   "metadata": {
    "ExecuteTime": {
     "end_time": "2021-02-22T13:18:40.556935Z",
     "start_time": "2021-02-22T13:18:40.547919Z"
    }
   },
   "outputs": [
    {
     "name": "stdout",
     "output_type": "stream",
     "text": [
      "world Hello\n"
     ]
    }
   ],
   "source": [
    "# 3.‘Hello World’를 ‘World Hello’로 출력\n",
    "str = 'Hello world'\n",
    "print(str[-5:],str[:5])"
   ]
  },
  {
   "cell_type": "code",
   "execution_count": 199,
   "metadata": {
    "ExecuteTime": {
     "end_time": "2021-02-22T13:18:41.873205Z",
     "start_time": "2021-02-22T13:18:41.866224Z"
    }
   },
   "outputs": [
    {
     "name": "stdout",
     "output_type": "stream",
     "text": [
      "bcdefa\n",
      "bcdefa\n"
     ]
    }
   ],
   "source": [
    "# 4. x = 'abcdef＇를 이용하여 ‘bcdefa’로 출력하세요\n",
    "x = 'abcdef'\n",
    "print(x[1:]+x[0])\n",
    "print(x[1:],x[0], sep='')"
   ]
  },
  {
   "cell_type": "code",
   "execution_count": 200,
   "metadata": {
    "ExecuteTime": {
     "end_time": "2021-02-22T13:18:43.473029Z",
     "start_time": "2021-02-22T13:18:43.461061Z"
    }
   },
   "outputs": [
    {
     "name": "stdout",
     "output_type": "stream",
     "text": [
      "fdecba\n"
     ]
    }
   ],
   "source": [
    "# 5. x = ‘abcdef’를 이용하여 ‘fedcba’로 출력\n",
    "x = 'abcedf'\n",
    "print(x[::-1])"
   ]
  },
  {
   "cell_type": "code",
   "execution_count": 201,
   "metadata": {
    "ExecuteTime": {
     "end_time": "2021-02-22T13:18:48.813422Z",
     "start_time": "2021-02-22T13:18:45.127555Z"
    }
   },
   "outputs": [
    {
     "name": "stdout",
     "output_type": "stream",
     "text": [
      "섭씨 온도를 입력하세요12\n",
      "섭씨 12도는 화씨온도로 바꾸면 53.60도 입니다\n"
     ]
    }
   ],
   "source": [
    "# 6.섭씨온도로 입력받아 화씨 온도로 변환\n",
    "c = float(input('섭씨 온도를 입력하세요'))\n",
    "f = (c*1.8)+32\n",
    "if c == round(c):\n",
    "    print(\"섭씨 {:.0f}도는 화씨온도로 바꾸면 {:.2f}도 입니다\".format(c, f))\n",
    "else:\n",
    "    print(\"섭씨 {}도는 화씨온도로 바꾸면 {:.2f}도 입니다\".format(c, f))"
   ]
  },
  {
   "cell_type": "markdown",
   "metadata": {},
   "source": [
    "# 6.절 문자열 다루기\n",
    "- 문자열 슬라이싱\n",
    "- len(문자열)\n",
    "- upper() 대문자로\n",
    "- lower() 소문자로\n",
    "- title() 각 단어의 앞글자만 대문자로\n",
    "- capitalize() 첫문자만 대문자로\n",
    "- count('찾을문자열') '찾을문자열'이 몇개 들어있는지 갯수 반환\n",
    "- find('찾을문자열') '찾을문자열'이 왼쪽부터 시작하여 몇번째에 있는지 index 반환\n",
    "- rfind('찾을문자열') '찾을문자열'이 오른쪽부터 시작하여 몇번째 있는지 index 반환\n",
    "- startswith('특정문자열') '특정문자열'로 시작하는지 여부 반환\n",
    "- endswith('특정문자열') '특정문자열'로 끝나는지 여부 반환\n",
    "- strip() 좌우 공백 제거\n",
    "- rstrip() 오른쪽 공백 제거\n",
    "- lstrip() 왼쪽 공백 제거\n",
    "- split() 문자열을 공백이나 다른 문자 기준으로 나누어 리스트로 반환\n",
    "- isdigit() 문자열이 숫자문자열인지 여부 반환\n",
    "- islower() 문자열이 소문자인지 여부 반환\n",
    "- isupper() 문자열이 대문자인지 여부 반환"
   ]
  },
  {
   "cell_type": "code",
   "execution_count": 202,
   "metadata": {
    "ExecuteTime": {
     "end_time": "2021-02-22T13:21:09.593479Z",
     "start_time": "2021-02-22T13:21:09.583541Z"
    }
   },
   "outputs": [
    {
     "data": {
      "text/plain": [
       "'Python is easy. Python is smart. python'"
      ]
     },
     "execution_count": 202,
     "metadata": {},
     "output_type": "execute_result"
    }
   ],
   "source": [
    "temp = \"Python is easy. Python is smart. python\"\n",
    "#       123456789012345678901234567890123456789\n",
    "temp"
   ]
  },
  {
   "cell_type": "code",
   "execution_count": 203,
   "metadata": {
    "ExecuteTime": {
     "end_time": "2021-02-22T13:21:17.450260Z",
     "start_time": "2021-02-22T13:21:17.444278Z"
    }
   },
   "outputs": [
    {
     "name": "stdout",
     "output_type": "stream",
     "text": [
      "첫번째 글자는 P, 마지막 글자는 n\n",
      "글자수 :  39\n"
     ]
    }
   ],
   "source": [
    "print(\"첫번째 글자는 {}, 마지막 글자는 {}\".format(temp[0], temp[-1]))\n",
    "print('글자수 : ', len(temp))"
   ]
  },
  {
   "cell_type": "code",
   "execution_count": 204,
   "metadata": {
    "ExecuteTime": {
     "end_time": "2021-02-22T13:21:28.986455Z",
     "start_time": "2021-02-22T13:21:28.966510Z"
    }
   },
   "outputs": [
    {
     "name": "stdout",
     "output_type": "stream",
     "text": [
      "대문자로 : PYTHON IS EASY. PYTHON IS SMART. PYTHON\n",
      "소문자로 : python is easy. python is smart. python\n",
      "title()함수 : Python Is Easy. Python Is Smart. Python\n",
      "capitalize() : Python is easy. python is smart. python\n",
      "Python이 몇번 나오는지 : 2\n",
      "대소문자 구분없이 python이 몇번 나오는지 : 3\n",
      "Python의 첫 위치 : 0\n",
      "Python의 마지막 위치 : 16\n",
      "Python으로 시작하는 문자열인지 : True\n",
      "Python으로 끝나는 문자열인지 :  False\n"
     ]
    }
   ],
   "source": [
    "temp = \"Python is easy. Python is smart. python\"\n",
    "#       012345678901234567890123456789012345678\n",
    "print(\"대문자로 :\", temp.upper())\n",
    "print(\"소문자로 :\", temp.lower())\n",
    "print(\"title()함수 :\", temp.title())\n",
    "print(\"capitalize() :\", temp.capitalize())\n",
    "print(\"Python이 몇번 나오는지 :\", temp.count('Python'))\n",
    "print(\"대소문자 구분없이 python이 몇번 나오는지 :\", temp.title().count('Python'))\n",
    "print(\"Python의 첫 위치 :\", temp.find('Python'))\n",
    "print(\"Python의 마지막 위치 :\", temp.rfind('Python'))\n",
    "print(\"Python으로 시작하는 문자열인지 :\", temp.startswith('Python'))\n",
    "print(\"Python으로 끝나는 문자열인지 : \", temp.endswith('Python'))"
   ]
  },
  {
   "cell_type": "code",
   "execution_count": 205,
   "metadata": {
    "ExecuteTime": {
     "end_time": "2021-02-22T13:21:37.882710Z",
     "start_time": "2021-02-22T13:21:37.872726Z"
    }
   },
   "outputs": [
    {
     "name": "stdout",
     "output_type": "stream",
     "text": [
      "strip() : [Python is easy.]\n",
      "lstrip() : [Python is easy.    ]\n",
      "rstrip() : [   Python is easy.]\n",
      "space단위로 텍스트 분리 : ['Python', 'is', 'easy.']\n",
      "-단위로 텍스트 분리 : ['2021', '02', '22']\n"
     ]
    }
   ],
   "source": [
    "temp = '   Python is easy.    '\n",
    "print('strip() : [{}]'.format(temp.strip()))\n",
    "print('lstrip() : [{}]'.format(temp.lstrip()))\n",
    "print('rstrip() : [{}]'.format(temp.rstrip()))\n",
    "print('space단위로 텍스트 분리 :', temp.split())\n",
    "date = '2021-02-22'\n",
    "print('-단위로 텍스트 분리 :', date.split('-'))"
   ]
  },
  {
   "cell_type": "code",
   "execution_count": 206,
   "metadata": {
    "ExecuteTime": {
     "end_time": "2021-02-22T13:21:43.711489Z",
     "start_time": "2021-02-22T13:21:43.696530Z"
    }
   },
   "outputs": [
    {
     "data": {
      "text/plain": [
       "['Python', 'Java', 'R', 'c']"
      ]
     },
     "execution_count": 206,
     "metadata": {},
     "output_type": "execute_result"
    }
   ],
   "source": [
    "# Python - Java - R - c => Python / Java / R / c\n",
    "temp = \"Python - Java - R - c\"\n",
    "temp1 = temp.split(' - ')\n",
    "temp1"
   ]
  },
  {
   "cell_type": "code",
   "execution_count": 207,
   "metadata": {
    "ExecuteTime": {
     "end_time": "2021-02-22T13:21:51.216630Z",
     "start_time": "2021-02-22T13:21:51.201671Z"
    }
   },
   "outputs": [
    {
     "name": "stdout",
     "output_type": "stream",
     "text": [
      "원텍스트 : Python - Java - R - c\n",
      "분리된 텍스트 : ['Python', 'Java', 'R', 'c']\n",
      "join된 텍스트 : Python / Java / R / c\n"
     ]
    }
   ],
   "source": [
    "temp2 = ' / '.join(temp1)\n",
    "print('원텍스트 :',temp)\n",
    "print('분리된 텍스트 :',temp1)\n",
    "print('join된 텍스트 :',temp2)"
   ]
  },
  {
   "cell_type": "code",
   "execution_count": 208,
   "metadata": {
    "ExecuteTime": {
     "end_time": "2021-02-22T13:21:56.829061Z",
     "start_time": "2021-02-22T13:21:56.810080Z"
    }
   },
   "outputs": [
    {
     "data": {
      "text/plain": [
       "True"
      ]
     },
     "execution_count": 208,
     "metadata": {},
     "output_type": "execute_result"
    }
   ],
   "source": [
    "num = '100'\n",
    "num.isdigit()"
   ]
  },
  {
   "cell_type": "code",
   "execution_count": 209,
   "metadata": {
    "ExecuteTime": {
     "end_time": "2021-02-22T13:22:05.997483Z",
     "start_time": "2021-02-22T13:22:05.986480Z"
    }
   },
   "outputs": [
    {
     "data": {
      "text/plain": [
       "True"
      ]
     },
     "execution_count": 209,
     "metadata": {},
     "output_type": "execute_result"
    }
   ],
   "source": [
    "temp='PYTHON'\n",
    "temp.isupper()"
   ]
  },
  {
   "cell_type": "code",
   "execution_count": 210,
   "metadata": {
    "ExecuteTime": {
     "end_time": "2021-02-22T13:22:12.984800Z",
     "start_time": "2021-02-22T13:22:12.963897Z"
    }
   },
   "outputs": [
    {
     "data": {
      "text/plain": [
       "False"
      ]
     },
     "execution_count": 210,
     "metadata": {},
     "output_type": "execute_result"
    }
   ],
   "source": [
    "temp.islower()"
   ]
  },
  {
   "cell_type": "code",
   "execution_count": 211,
   "metadata": {
    "ExecuteTime": {
     "end_time": "2021-02-22T13:22:19.376205Z",
     "start_time": "2021-02-22T13:22:19.360216Z"
    }
   },
   "outputs": [
    {
     "name": "stdout",
     "output_type": "stream",
     "text": [
      "2\n",
      "2\n"
     ]
    }
   ],
   "source": [
    "print('ABCD'.find('C'))\n",
    "print('ABCD'.index('C'))"
   ]
  },
  {
   "cell_type": "code",
   "execution_count": 212,
   "metadata": {
    "ExecuteTime": {
     "end_time": "2021-02-22T13:22:24.705851Z",
     "start_time": "2021-02-22T13:22:24.692840Z"
    }
   },
   "outputs": [
    {
     "name": "stdout",
     "output_type": "stream",
     "text": [
      "A\n",
      "B\n",
      "C\n"
     ]
    }
   ],
   "source": [
    "str = ['A','B','C']\n",
    "for s in str :\n",
    "    print(s)"
   ]
  },
  {
   "cell_type": "code",
   "execution_count": 213,
   "metadata": {
    "ExecuteTime": {
     "end_time": "2021-02-22T13:22:35.776198Z",
     "start_time": "2021-02-22T13:22:35.757233Z"
    }
   },
   "outputs": [
    {
     "name": "stdout",
     "output_type": "stream",
     "text": [
      "A\n",
      "B\n",
      "C\n"
     ]
    }
   ],
   "source": [
    "str = 'ABC'\n",
    "for s in str:\n",
    "    print(s)"
   ]
  },
  {
   "cell_type": "markdown",
   "metadata": {},
   "source": [
    "# 7절. 날짜 함수"
   ]
  },
  {
   "cell_type": "markdown",
   "metadata": {},
   "source": [
    "## 7.1 날짜"
   ]
  },
  {
   "cell_type": "code",
   "execution_count": 214,
   "metadata": {
    "ExecuteTime": {
     "end_time": "2021-02-22T13:23:20.682605Z",
     "start_time": "2021-02-22T13:23:20.677619Z"
    }
   },
   "outputs": [
    {
     "data": {
      "text/plain": [
       "datetime.date(2021, 2, 22)"
      ]
     },
     "execution_count": 214,
     "metadata": {},
     "output_type": "execute_result"
    }
   ],
   "source": [
    "from datetime import date # datetime 패키지에서 date만 가져와서 사용\n",
    "someday = date(2021,2,22)\n",
    "someday"
   ]
  },
  {
   "cell_type": "code",
   "execution_count": 215,
   "metadata": {
    "ExecuteTime": {
     "end_time": "2021-02-22T13:23:25.869212Z",
     "start_time": "2021-02-22T13:23:25.855198Z"
    }
   },
   "outputs": [
    {
     "name": "stdout",
     "output_type": "stream",
     "text": [
      "2021년 02월 22일 00\n"
     ]
    }
   ],
   "source": [
    "print(\"{:%Y년 %m월 %d일 %H}\".format(someday))"
   ]
  },
  {
   "cell_type": "code",
   "execution_count": 216,
   "metadata": {
    "ExecuteTime": {
     "end_time": "2021-02-22T13:23:38.986523Z",
     "start_time": "2021-02-22T13:23:38.978545Z"
    }
   },
   "outputs": [
    {
     "name": "stdout",
     "output_type": "stream",
     "text": [
      "2021 2 22\n"
     ]
    }
   ],
   "source": [
    "print(someday.year, someday.month, someday.day)"
   ]
  },
  {
   "cell_type": "code",
   "execution_count": 217,
   "metadata": {
    "ExecuteTime": {
     "end_time": "2021-02-22T13:23:46.152736Z",
     "start_time": "2021-02-22T13:23:46.135732Z"
    }
   },
   "outputs": [
    {
     "data": {
      "text/plain": [
       "datetime.date(2021, 2, 22)"
      ]
     },
     "execution_count": 217,
     "metadata": {},
     "output_type": "execute_result"
    }
   ],
   "source": [
    "today = date.today() # 오늘\n",
    "today"
   ]
  },
  {
   "cell_type": "code",
   "execution_count": 218,
   "metadata": {
    "ExecuteTime": {
     "end_time": "2021-02-22T13:23:51.927990Z",
     "start_time": "2021-02-22T13:23:51.912981Z"
    }
   },
   "outputs": [
    {
     "name": "stdout",
     "output_type": "stream",
     "text": [
      "2021-02-22\n"
     ]
    }
   ],
   "source": [
    "print(today)"
   ]
  },
  {
   "cell_type": "markdown",
   "metadata": {},
   "source": [
    "## 7.2 시간"
   ]
  },
  {
   "cell_type": "code",
   "execution_count": 219,
   "metadata": {
    "ExecuteTime": {
     "end_time": "2021-02-22T13:24:24.080816Z",
     "start_time": "2021-02-22T13:24:24.063822Z"
    }
   },
   "outputs": [
    {
     "data": {
      "text/plain": [
       "datetime.time(7, 0)"
      ]
     },
     "execution_count": 219,
     "metadata": {},
     "output_type": "execute_result"
    }
   ],
   "source": [
    "from datetime import time\n",
    "t = time(7) # 7시 저장\n",
    "t"
   ]
  },
  {
   "cell_type": "code",
   "execution_count": 220,
   "metadata": {
    "ExecuteTime": {
     "end_time": "2021-02-22T13:24:30.614345Z",
     "start_time": "2021-02-22T13:24:30.602331Z"
    }
   },
   "outputs": [
    {
     "name": "stdout",
     "output_type": "stream",
     "text": [
      "07:00:00\n"
     ]
    }
   ],
   "source": [
    "print(t)"
   ]
  },
  {
   "cell_type": "code",
   "execution_count": 221,
   "metadata": {
    "ExecuteTime": {
     "end_time": "2021-02-22T13:24:37.477229Z",
     "start_time": "2021-02-22T13:24:37.474248Z"
    }
   },
   "outputs": [
    {
     "name": "stdout",
     "output_type": "stream",
     "text": [
      "18:20:00\n"
     ]
    }
   ],
   "source": [
    "t2 = time(18,20)\n",
    "print(t2)"
   ]
  },
  {
   "cell_type": "code",
   "execution_count": 222,
   "metadata": {
    "ExecuteTime": {
     "end_time": "2021-02-22T13:24:44.376657Z",
     "start_time": "2021-02-22T13:24:44.359657Z"
    }
   },
   "outputs": [
    {
     "name": "stdout",
     "output_type": "stream",
     "text": [
      "18:20:05\n"
     ]
    }
   ],
   "source": [
    "t3 = time(18,20,5)\n",
    "print(t3)"
   ]
  },
  {
   "cell_type": "code",
   "execution_count": 223,
   "metadata": {
    "ExecuteTime": {
     "end_time": "2021-02-22T13:24:50.476561Z",
     "start_time": "2021-02-22T13:24:50.459607Z"
    }
   },
   "outputs": [
    {
     "name": "stdout",
     "output_type": "stream",
     "text": [
      "18:20:05.000100\n"
     ]
    }
   ],
   "source": [
    "t4 = time(18,20,5,100)\n",
    "print(t4)"
   ]
  },
  {
   "cell_type": "code",
   "execution_count": 224,
   "metadata": {
    "ExecuteTime": {
     "end_time": "2021-02-22T13:24:56.188347Z",
     "start_time": "2021-02-22T13:24:56.169421Z"
    }
   },
   "outputs": [
    {
     "name": "stdout",
     "output_type": "stream",
     "text": [
      "18:20:05.000100\n"
     ]
    }
   ],
   "source": [
    "t4 = time(hour=18, minute=20, second=5, microsecond=100)\n",
    "print(t4)"
   ]
  },
  {
   "cell_type": "markdown",
   "metadata": {},
   "source": [
    "## 7.3 날짜와 시간"
   ]
  },
  {
   "cell_type": "code",
   "execution_count": 225,
   "metadata": {
    "ExecuteTime": {
     "end_time": "2021-02-22T13:25:24.964465Z",
     "start_time": "2021-02-22T13:25:24.952449Z"
    }
   },
   "outputs": [
    {
     "data": {
      "text/plain": [
       "datetime.datetime(2021, 2, 22, 22, 25, 24, 953446)"
      ]
     },
     "execution_count": 225,
     "metadata": {},
     "output_type": "execute_result"
    }
   ],
   "source": [
    "from datetime import datetime\n",
    "now = datetime.now()\n",
    "now # 현재 날짜와 시간"
   ]
  },
  {
   "cell_type": "code",
   "execution_count": 226,
   "metadata": {
    "ExecuteTime": {
     "end_time": "2021-02-22T13:25:29.682218Z",
     "start_time": "2021-02-22T13:25:29.665262Z"
    }
   },
   "outputs": [
    {
     "name": "stdout",
     "output_type": "stream",
     "text": [
      "2021-02-22 22:25:24.953446\n"
     ]
    }
   ],
   "source": [
    "print(now)"
   ]
  },
  {
   "cell_type": "code",
   "execution_count": 227,
   "metadata": {
    "ExecuteTime": {
     "end_time": "2021-02-22T13:25:35.550612Z",
     "start_time": "2021-02-22T13:25:35.538607Z"
    }
   },
   "outputs": [
    {
     "name": "stdout",
     "output_type": "stream",
     "text": [
      "2021-04-30 18:20:00\n"
     ]
    }
   ],
   "source": [
    "thattime = datetime(2021,4,30,18,20,0)\n",
    "print(thattime)"
   ]
  },
  {
   "cell_type": "code",
   "execution_count": 228,
   "metadata": {
    "ExecuteTime": {
     "end_time": "2021-02-22T13:25:44.329451Z",
     "start_time": "2021-02-22T13:25:44.310482Z"
    }
   },
   "outputs": [
    {
     "name": "stdout",
     "output_type": "stream",
     "text": [
      "2021년 02월 22일 22시 25분 24초\n",
      "2021년 02월 22일 22시 25분 24초\n"
     ]
    },
    {
     "data": {
      "text/plain": [
       "str"
      ]
     },
     "execution_count": 228,
     "metadata": {},
     "output_type": "execute_result"
    }
   ],
   "source": [
    "year = now.strftime('%Y')\n",
    "month = now.strftime('%m')\n",
    "day = now.strftime('%d')\n",
    "hour = now.strftime('%H')\n",
    "minute = now.strftime('%M')\n",
    "second = now.strftime('%S')\n",
    "print(\"{}년 {}월 {}일 {}시 {}분 {}초\".format(year, month, day, hour, minute, second))\n",
    "print(\"%s년 %s월 %s일 %s시 %s분 %s초\"%(year, month, day, hour, minute, second))\n",
    "type(year)"
   ]
  },
  {
   "cell_type": "markdown",
   "metadata": {},
   "source": [
    "## 7.4 시간대"
   ]
  },
  {
   "cell_type": "code",
   "execution_count": 229,
   "metadata": {
    "ExecuteTime": {
     "end_time": "2021-02-22T13:26:14.895212Z",
     "start_time": "2021-02-22T13:26:13.908124Z"
    }
   },
   "outputs": [
    {
     "name": "stdout",
     "output_type": "stream",
     "text": [
      "뉴욕 시간 :  2021-02-22 08:26:14.881241-05:00\n",
      "한국 시간 :  2021-02-22 22:26:14.881241\n"
     ]
    }
   ],
   "source": [
    "from datetime import datetime  # datetime패키지의 datetime() 함수 사용\n",
    "import pytz                    # pytz 패키지 사용\n",
    "tz_NY = pytz.timezone('America/New_York')\n",
    "datetime_NY = datetime.now(tz_NY)\n",
    "print('뉴욕 시간 : ', datetime_NY)\n",
    "datetime_KR = datetime.now()\n",
    "print('한국 시간 : ', datetime_KR)"
   ]
  },
  {
   "cell_type": "code",
   "execution_count": 230,
   "metadata": {
    "ExecuteTime": {
     "end_time": "2021-02-22T13:26:24.121151Z",
     "start_time": "2021-02-22T13:26:24.108140Z"
    }
   },
   "outputs": [
    {
     "name": "stdout",
     "output_type": "stream",
     "text": [
      "한국 시간 :  2021-02-22 22:26:24.111131+09:00\n"
     ]
    }
   ],
   "source": [
    "tz_KR = pytz.timezone('Asia/Seoul')\n",
    "datetime_KR = datetime.now(tz_KR)\n",
    "print('한국 시간 : ',datetime_KR)"
   ]
  },
  {
   "cell_type": "code",
   "execution_count": 231,
   "metadata": {
    "ExecuteTime": {
     "end_time": "2021-02-22T13:26:39.059600Z",
     "start_time": "2021-02-22T13:26:39.041620Z"
    }
   },
   "outputs": [
    {
     "data": {
      "text/plain": [
       "593"
      ]
     },
     "execution_count": 231,
     "metadata": {},
     "output_type": "execute_result"
    }
   ],
   "source": [
    "len(pytz.all_timezones)"
   ]
  },
  {
   "cell_type": "markdown",
   "metadata": {},
   "source": [
    "## 연습문제"
   ]
  },
  {
   "cell_type": "code",
   "execution_count": 232,
   "metadata": {
    "ExecuteTime": {
     "end_time": "2021-02-22T13:27:23.608962Z",
     "start_time": "2021-02-22T13:27:23.595033Z"
    }
   },
   "outputs": [
    {
     "data": {
      "text/plain": [
       "['World', 'Hello']"
      ]
     },
     "execution_count": 232,
     "metadata": {},
     "output_type": "execute_result"
    }
   ],
   "source": [
    "# 3.문자열의 분리하기와 합치기 기능을 이용하여 ‘Hello World’를 ‘World Hello’로 출력하세요\n",
    "temp = 'Hello World'\n",
    "temp_split = temp.split()\n",
    "temp_split[::-1]"
   ]
  },
  {
   "cell_type": "code",
   "execution_count": 233,
   "metadata": {
    "ExecuteTime": {
     "end_time": "2021-02-22T13:27:29.829190Z",
     "start_time": "2021-02-22T13:27:29.811222Z"
    }
   },
   "outputs": [
    {
     "data": {
      "text/plain": [
       "'World Hello'"
      ]
     },
     "execution_count": 233,
     "metadata": {},
     "output_type": "execute_result"
    }
   ],
   "source": [
    "' '.join(temp_split[::-1])"
   ]
  },
  {
   "cell_type": "code",
   "execution_count": 234,
   "metadata": {
    "ExecuteTime": {
     "end_time": "2021-02-22T13:27:40.475269Z",
     "start_time": "2021-02-22T13:27:40.470250Z"
    }
   },
   "outputs": [
    {
     "name": "stdout",
     "output_type": "stream",
     "text": [
      "SeounSeoul\n"
     ]
    }
   ],
   "source": [
    "# 8\n",
    "text = \"Seoul - python\"\n",
    "print(text[:4]+text[-1]+text.split()[0])"
   ]
  }
 ],
 "metadata": {
  "kernelspec": {
   "display_name": "Python 3",
   "language": "python",
   "name": "python3"
  },
  "language_info": {
   "codemirror_mode": {
    "name": "ipython",
    "version": 3
   },
   "file_extension": ".py",
   "mimetype": "text/x-python",
   "name": "python",
   "nbconvert_exporter": "python",
   "pygments_lexer": "ipython3",
   "version": "3.8.3"
  },
  "toc": {
   "base_numbering": 1,
   "nav_menu": {},
   "number_sections": false,
   "sideBar": false,
   "skip_h1_title": false,
   "title_cell": "Table of Contents",
   "title_sidebar": "Contents",
   "toc_cell": false,
   "toc_position": {
    "height": "574.389px",
    "left": "1466.49px",
    "top": "85.5556px",
    "width": "240.181px"
   },
   "toc_section_display": true,
   "toc_window_display": true
  },
  "varInspector": {
   "cols": {
    "lenName": 16,
    "lenType": 16,
    "lenVar": 40
   },
   "kernels_config": {
    "python": {
     "delete_cmd_postfix": "",
     "delete_cmd_prefix": "del ",
     "library": "var_list.py",
     "varRefreshCmd": "print(var_dic_list())"
    },
    "r": {
     "delete_cmd_postfix": ") ",
     "delete_cmd_prefix": "rm(",
     "library": "var_list.r",
     "varRefreshCmd": "cat(var_dic_list()) "
    }
   },
   "types_to_exclude": [
    "module",
    "function",
    "builtin_function_or_method",
    "instance",
    "_Feature"
   ],
   "window_display": false
  }
 },
 "nbformat": 4,
 "nbformat_minor": 4
}
